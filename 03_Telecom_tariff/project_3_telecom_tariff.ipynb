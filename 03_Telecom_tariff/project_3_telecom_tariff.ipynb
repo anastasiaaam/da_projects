{
 "cells": [
  {
   "cell_type": "markdown",
   "metadata": {
    "toc": true
   },
   "source": [
    "<h1>Содержание<span class=\"tocSkip\"></span></h1>\n",
    "<div class=\"toc\"><ul class=\"toc-item\"><li><span><a href=\"#Изучение-данных-из-файла\" data-toc-modified-id=\"Изучение-данных-из-файла-1\"><span class=\"toc-item-num\">1&nbsp;&nbsp;</span>Изучение данных из файла</a></span></li><li><span><a href=\"#Предобработка-данных\" data-toc-modified-id=\"Предобработка-данных-2\"><span class=\"toc-item-num\">2&nbsp;&nbsp;</span>Предобработка данных</a></span><ul class=\"toc-item\"><li><span><a href=\"#Обработка-пропущенных-значений\" data-toc-modified-id=\"Обработка-пропущенных-значений-2.1\"><span class=\"toc-item-num\">2.1&nbsp;&nbsp;</span>Обработка пропущенных значений</a></span></li><li><span><a href=\"#Поиск-дубликатов\" data-toc-modified-id=\"Поиск-дубликатов-2.2\"><span class=\"toc-item-num\">2.2&nbsp;&nbsp;</span>Поиск дубликатов</a></span></li><li><span><a href=\"#Изменение-типов-данных-и-исправление-ошибок\" data-toc-modified-id=\"Изменение-типов-данных-и-исправление-ошибок-2.3\"><span class=\"toc-item-num\">2.3&nbsp;&nbsp;</span>Изменение типов данных и исправление ошибок</a></span></li><li><span><a href=\"#Расчёты-и-агрегирование-данных\" data-toc-modified-id=\"Расчёты-и-агрегирование-данных-2.4\"><span class=\"toc-item-num\">2.4&nbsp;&nbsp;</span>Расчёты и агрегирование данных</a></span></li></ul></li><li><span><a href=\"#Анализ-данных\" data-toc-modified-id=\"Анализ-данных-3\"><span class=\"toc-item-num\">3&nbsp;&nbsp;</span>Анализ данных</a></span></li><li><span><a href=\"#Проверка-гипотез\" data-toc-modified-id=\"Проверка-гипотез-4\"><span class=\"toc-item-num\">4&nbsp;&nbsp;</span>Проверка гипотез</a></span></li><li><span><a href=\"#Общий-вывод\" data-toc-modified-id=\"Общий-вывод-5\"><span class=\"toc-item-num\">5&nbsp;&nbsp;</span>Общий вывод</a></span></li></ul></div>"
   ]
  },
  {
   "cell_type": "markdown",
   "metadata": {},
   "source": [
    "# Определение перспективного тарифа для телеком-компании\n",
    "\n",
    "Вы аналитик компании «Мегалайн» — федерального оператора сотовой связи. Клиентам предлагают два тарифных плана: «Смарт» и «Ультра». Чтобы скорректировать рекламный бюджет, коммерческий департамент хочет понять, какой тариф приносит больше денег.\n",
    "Вам предстоит сделать предварительный анализ тарифов на небольшой выборке клиентов. \n",
    "\n",
    "В вашем распоряжении данные 500 пользователей «Мегалайна»: кто они, откуда, каким тарифом пользуются, сколько звонков и сообщений каждый отправил за 2018 год. Нужно проанализировать поведение клиентов и сделать вывод — какой тариф лучше.\n",
    "\n",
    "**Описание тарифов**\n",
    "\n",
    "*Тариф «Смарт»*\n",
    " - Ежемесячная плата: 550 рублей\n",
    " - Включено 500 минут разговора, 50 сообщений и 15 Гб интернет-трафика\n",
    " - Стоимость услуг сверх тарифного пакета:\n",
    "   - минута разговора: 3 рубля\n",
    "   - сообщение: 3 рубля\n",
    "   - 1 Гб интернет-трафика: 200 рублей\n",
    "\n",
    "*Тариф «Ультра»*\n",
    " - Ежемесячная плата: 1950 рублей\n",
    " - Включено 3000 минут разговора, 1000 сообщений и 30 Гб интернет-трафика\n",
    " - Стоимость услуг сверх тарифного пакета:\n",
    "   - минута разговора: 1 рубль\n",
    "   - сообщение: 1 рубль\n",
    "   - 1 Гб интернет-трафика: 150 рублей\n",
    "\n",
    "\n",
    "*Примечание:*\n",
    "\n",
    "«Мегалайн» всегда округляет секунды до минут, а мегабайты — до гигабайт. \n",
    "\n",
    "Каждый звонок округляется отдельно: даже если он длился всего 1 секунду, будет засчитан как 1 минута.\n",
    "\n",
    "Для веб-трафика отдельные сессии не считаются. Вместо этого общая сумма за месяц округляется в бо́льшую сторону. Если абонент использует 1025 мегабайт в этом месяце, с него возьмут плату за 2 гигабайта."
   ]
  },
  {
   "cell_type": "markdown",
   "metadata": {},
   "source": [
    "<div style=\"border:solid black 1px; padding: 20px\">\n",
    "\n",
    "**Описание данных**\n",
    "\n",
    "Таблица users (информация о пользователях):\n",
    "- `user_id` — уникальный идентификатор пользователя\n",
    "- `first_name` — имя пользователя\n",
    "- `last_name` — фамилия пользователя\n",
    "- `age` — возраст пользователя (годы)\n",
    "- `reg_date` — дата подключения тарифа (день, месяц, год)\n",
    "- `churn_date` — дата прекращения пользования тарифом (если значение пропущено, то тариф ещё действовал на момент выгрузки данных)\n",
    "- `city` — город проживания пользователя\n",
    "- `tariff` — название тарифного плана\n",
    "\n",
    "Таблица calls (информация о звонках):\n",
    "- `id` — уникальный номер звонка\n",
    "- `call_date` — дата звонка\n",
    "- `duration` — длительность звонка в минутах\n",
    "- `user_id` — идентификатор пользователя, сделавшего звонок\n",
    "\n",
    "Таблица messages (информация о сообщениях):\n",
    "- `id` — уникальный номер сообщения\n",
    "- `message_date` — дата сообщения\n",
    "- `user_id` — идентификатор пользователя, отправившего сообщение\n",
    "\n",
    "Таблица internet (информация об интернет-сессиях):\n",
    "- `id` — уникальный номер сессии\n",
    "- `mb_used` — объём потраченного за сессию интернет-трафика (в мегабайтах)\n",
    "- `session_date` — дата интернет-сессии\n",
    "- `user_id` — идентификатор пользователя\n",
    "\n",
    "Таблица tariffs (информация о тарифах):\n",
    "- `tariff_name` — название тарифа\n",
    "- `rub_monthly_fee` — ежемесячная абонентская плата в рублях\n",
    "- `minutes_included` — количество минут разговора в месяц, включённых в абонентскую плату\n",
    "- `messages_included` — количество сообщений в месяц, включённых в абонентскую плату\n",
    "- `mb_per_month_included` — объём интернет-трафика, включённого в абонентскую плату (в мегабайтах)\n",
    "- `rub_per_minute` — стоимость минуты разговора сверх тарифного пакета (например, если в тарифе 100 минут разговора в месяц, то со 101 минуты будет взиматься плата)\n",
    "- `rub_per_message` — стоимость отправки сообщения сверх тарифного пакета\n",
    "- `rub_per_gb` — стоимость дополнительного гигабайта интернет-трафика сверх тарифного пакета (1 гигабайт = 1024 мегабайта)\n",
    "    \n",
    "</div>"
   ]
  },
  {
   "cell_type": "markdown",
   "metadata": {},
   "source": [
    "**Импорт библиотек**"
   ]
  },
  {
   "cell_type": "code",
   "execution_count": 1,
   "metadata": {},
   "outputs": [],
   "source": [
    "# импортируем необходимые библиотеки\n",
    "\n",
    "import pandas as pd              # библиотека pandas\n",
    "import matplotlib.pyplot as plt  # модуль pyplot библиотеки matplotlib\n",
    "import numpy as np               # библиотека numpy\n",
    "import seaborn as sns            # библиотека seaborn\n",
    "from scipy import stats as st    # модуль stats библиотеки scipy"
   ]
  },
  {
   "cell_type": "markdown",
   "metadata": {},
   "source": [
    "## Изучение данных из файла"
   ]
  },
  {
   "cell_type": "code",
   "execution_count": 2,
   "metadata": {},
   "outputs": [
    {
     "data": {
      "text/html": [
       "<div>\n",
       "<style scoped>\n",
       "    .dataframe tbody tr th:only-of-type {\n",
       "        vertical-align: middle;\n",
       "    }\n",
       "\n",
       "    .dataframe tbody tr th {\n",
       "        vertical-align: top;\n",
       "    }\n",
       "\n",
       "    .dataframe thead th {\n",
       "        text-align: right;\n",
       "    }\n",
       "</style>\n",
       "<table border=\"1\" class=\"dataframe\">\n",
       "  <thead>\n",
       "    <tr style=\"text-align: right;\">\n",
       "      <th></th>\n",
       "      <th>user_id</th>\n",
       "      <th>age</th>\n",
       "      <th>churn_date</th>\n",
       "      <th>city</th>\n",
       "      <th>first_name</th>\n",
       "      <th>last_name</th>\n",
       "      <th>reg_date</th>\n",
       "      <th>tariff</th>\n",
       "    </tr>\n",
       "  </thead>\n",
       "  <tbody>\n",
       "    <tr>\n",
       "      <td>0</td>\n",
       "      <td>1000</td>\n",
       "      <td>52</td>\n",
       "      <td>NaN</td>\n",
       "      <td>Краснодар</td>\n",
       "      <td>Рафаил</td>\n",
       "      <td>Верещагин</td>\n",
       "      <td>2018-05-25</td>\n",
       "      <td>ultra</td>\n",
       "    </tr>\n",
       "    <tr>\n",
       "      <td>1</td>\n",
       "      <td>1001</td>\n",
       "      <td>41</td>\n",
       "      <td>NaN</td>\n",
       "      <td>Москва</td>\n",
       "      <td>Иван</td>\n",
       "      <td>Ежов</td>\n",
       "      <td>2018-11-01</td>\n",
       "      <td>smart</td>\n",
       "    </tr>\n",
       "    <tr>\n",
       "      <td>2</td>\n",
       "      <td>1002</td>\n",
       "      <td>59</td>\n",
       "      <td>NaN</td>\n",
       "      <td>Стерлитамак</td>\n",
       "      <td>Евгений</td>\n",
       "      <td>Абрамович</td>\n",
       "      <td>2018-06-17</td>\n",
       "      <td>smart</td>\n",
       "    </tr>\n",
       "    <tr>\n",
       "      <td>3</td>\n",
       "      <td>1003</td>\n",
       "      <td>23</td>\n",
       "      <td>NaN</td>\n",
       "      <td>Москва</td>\n",
       "      <td>Белла</td>\n",
       "      <td>Белякова</td>\n",
       "      <td>2018-08-17</td>\n",
       "      <td>ultra</td>\n",
       "    </tr>\n",
       "    <tr>\n",
       "      <td>4</td>\n",
       "      <td>1004</td>\n",
       "      <td>68</td>\n",
       "      <td>NaN</td>\n",
       "      <td>Новокузнецк</td>\n",
       "      <td>Татьяна</td>\n",
       "      <td>Авдеенко</td>\n",
       "      <td>2018-05-14</td>\n",
       "      <td>ultra</td>\n",
       "    </tr>\n",
       "    <tr>\n",
       "      <td>5</td>\n",
       "      <td>1005</td>\n",
       "      <td>67</td>\n",
       "      <td>NaN</td>\n",
       "      <td>Набережные Челны</td>\n",
       "      <td>Афанасий</td>\n",
       "      <td>Горлов</td>\n",
       "      <td>2018-01-25</td>\n",
       "      <td>smart</td>\n",
       "    </tr>\n",
       "    <tr>\n",
       "      <td>6</td>\n",
       "      <td>1006</td>\n",
       "      <td>21</td>\n",
       "      <td>NaN</td>\n",
       "      <td>Ульяновск</td>\n",
       "      <td>Леонид</td>\n",
       "      <td>Ермолаев</td>\n",
       "      <td>2018-02-26</td>\n",
       "      <td>smart</td>\n",
       "    </tr>\n",
       "    <tr>\n",
       "      <td>7</td>\n",
       "      <td>1007</td>\n",
       "      <td>65</td>\n",
       "      <td>NaN</td>\n",
       "      <td>Москва</td>\n",
       "      <td>Юна</td>\n",
       "      <td>Березина</td>\n",
       "      <td>2018-04-19</td>\n",
       "      <td>smart</td>\n",
       "    </tr>\n",
       "    <tr>\n",
       "      <td>8</td>\n",
       "      <td>1008</td>\n",
       "      <td>63</td>\n",
       "      <td>NaN</td>\n",
       "      <td>Челябинск</td>\n",
       "      <td>Рустэм</td>\n",
       "      <td>Пономарёв</td>\n",
       "      <td>2018-12-19</td>\n",
       "      <td>smart</td>\n",
       "    </tr>\n",
       "    <tr>\n",
       "      <td>9</td>\n",
       "      <td>1009</td>\n",
       "      <td>24</td>\n",
       "      <td>NaN</td>\n",
       "      <td>Пермь</td>\n",
       "      <td>Василиса</td>\n",
       "      <td>Блинова</td>\n",
       "      <td>2018-03-22</td>\n",
       "      <td>smart</td>\n",
       "    </tr>\n",
       "  </tbody>\n",
       "</table>\n",
       "</div>"
      ],
      "text/plain": [
       "   user_id  age churn_date              city first_name  last_name  \\\n",
       "0     1000   52        NaN         Краснодар     Рафаил  Верещагин   \n",
       "1     1001   41        NaN            Москва       Иван       Ежов   \n",
       "2     1002   59        NaN       Стерлитамак    Евгений  Абрамович   \n",
       "3     1003   23        NaN            Москва      Белла   Белякова   \n",
       "4     1004   68        NaN       Новокузнецк    Татьяна   Авдеенко   \n",
       "5     1005   67        NaN  Набережные Челны   Афанасий     Горлов   \n",
       "6     1006   21        NaN         Ульяновск     Леонид   Ермолаев   \n",
       "7     1007   65        NaN            Москва        Юна   Березина   \n",
       "8     1008   63        NaN         Челябинск     Рустэм  Пономарёв   \n",
       "9     1009   24        NaN             Пермь   Василиса    Блинова   \n",
       "\n",
       "     reg_date tariff  \n",
       "0  2018-05-25  ultra  \n",
       "1  2018-11-01  smart  \n",
       "2  2018-06-17  smart  \n",
       "3  2018-08-17  ultra  \n",
       "4  2018-05-14  ultra  \n",
       "5  2018-01-25  smart  \n",
       "6  2018-02-26  smart  \n",
       "7  2018-04-19  smart  \n",
       "8  2018-12-19  smart  \n",
       "9  2018-03-22  smart  "
      ]
     },
     "execution_count": 2,
     "metadata": {},
     "output_type": "execute_result"
    }
   ],
   "source": [
    "# чтение данных из файла и сохранение в users\n",
    "users = pd.read_csv('/datasets/users.csv')\n",
    "\n",
    "# выводим первые 10 строк users\n",
    "users.head(10)"
   ]
  },
  {
   "cell_type": "code",
   "execution_count": 3,
   "metadata": {
    "scrolled": true
   },
   "outputs": [
    {
     "name": "stdout",
     "output_type": "stream",
     "text": [
      "<class 'pandas.core.frame.DataFrame'>\n",
      "RangeIndex: 500 entries, 0 to 499\n",
      "Data columns (total 8 columns):\n",
      "user_id       500 non-null int64\n",
      "age           500 non-null int64\n",
      "churn_date    38 non-null object\n",
      "city          500 non-null object\n",
      "first_name    500 non-null object\n",
      "last_name     500 non-null object\n",
      "reg_date      500 non-null object\n",
      "tariff        500 non-null object\n",
      "dtypes: int64(2), object(6)\n",
      "memory usage: 31.4+ KB\n"
     ]
    }
   ],
   "source": [
    "# получим общую информацию о данных в users\n",
    "users.info()"
   ]
  },
  {
   "cell_type": "code",
   "execution_count": 4,
   "metadata": {},
   "outputs": [
    {
     "data": {
      "text/html": [
       "<div>\n",
       "<style scoped>\n",
       "    .dataframe tbody tr th:only-of-type {\n",
       "        vertical-align: middle;\n",
       "    }\n",
       "\n",
       "    .dataframe tbody tr th {\n",
       "        vertical-align: top;\n",
       "    }\n",
       "\n",
       "    .dataframe thead th {\n",
       "        text-align: right;\n",
       "    }\n",
       "</style>\n",
       "<table border=\"1\" class=\"dataframe\">\n",
       "  <thead>\n",
       "    <tr style=\"text-align: right;\">\n",
       "      <th></th>\n",
       "      <th>id</th>\n",
       "      <th>call_date</th>\n",
       "      <th>duration</th>\n",
       "      <th>user_id</th>\n",
       "    </tr>\n",
       "  </thead>\n",
       "  <tbody>\n",
       "    <tr>\n",
       "      <td>0</td>\n",
       "      <td>1000_0</td>\n",
       "      <td>2018-07-25</td>\n",
       "      <td>0.00</td>\n",
       "      <td>1000</td>\n",
       "    </tr>\n",
       "    <tr>\n",
       "      <td>1</td>\n",
       "      <td>1000_1</td>\n",
       "      <td>2018-08-17</td>\n",
       "      <td>0.00</td>\n",
       "      <td>1000</td>\n",
       "    </tr>\n",
       "    <tr>\n",
       "      <td>2</td>\n",
       "      <td>1000_2</td>\n",
       "      <td>2018-06-11</td>\n",
       "      <td>2.85</td>\n",
       "      <td>1000</td>\n",
       "    </tr>\n",
       "    <tr>\n",
       "      <td>3</td>\n",
       "      <td>1000_3</td>\n",
       "      <td>2018-09-21</td>\n",
       "      <td>13.80</td>\n",
       "      <td>1000</td>\n",
       "    </tr>\n",
       "    <tr>\n",
       "      <td>4</td>\n",
       "      <td>1000_4</td>\n",
       "      <td>2018-12-15</td>\n",
       "      <td>5.18</td>\n",
       "      <td>1000</td>\n",
       "    </tr>\n",
       "    <tr>\n",
       "      <td>5</td>\n",
       "      <td>1000_5</td>\n",
       "      <td>2018-11-02</td>\n",
       "      <td>0.00</td>\n",
       "      <td>1000</td>\n",
       "    </tr>\n",
       "    <tr>\n",
       "      <td>6</td>\n",
       "      <td>1000_6</td>\n",
       "      <td>2018-10-18</td>\n",
       "      <td>0.00</td>\n",
       "      <td>1000</td>\n",
       "    </tr>\n",
       "    <tr>\n",
       "      <td>7</td>\n",
       "      <td>1000_7</td>\n",
       "      <td>2018-08-22</td>\n",
       "      <td>18.31</td>\n",
       "      <td>1000</td>\n",
       "    </tr>\n",
       "    <tr>\n",
       "      <td>8</td>\n",
       "      <td>1000_8</td>\n",
       "      <td>2018-09-15</td>\n",
       "      <td>18.44</td>\n",
       "      <td>1000</td>\n",
       "    </tr>\n",
       "    <tr>\n",
       "      <td>9</td>\n",
       "      <td>1000_9</td>\n",
       "      <td>2018-08-15</td>\n",
       "      <td>0.00</td>\n",
       "      <td>1000</td>\n",
       "    </tr>\n",
       "  </tbody>\n",
       "</table>\n",
       "</div>"
      ],
      "text/plain": [
       "       id   call_date  duration  user_id\n",
       "0  1000_0  2018-07-25      0.00     1000\n",
       "1  1000_1  2018-08-17      0.00     1000\n",
       "2  1000_2  2018-06-11      2.85     1000\n",
       "3  1000_3  2018-09-21     13.80     1000\n",
       "4  1000_4  2018-12-15      5.18     1000\n",
       "5  1000_5  2018-11-02      0.00     1000\n",
       "6  1000_6  2018-10-18      0.00     1000\n",
       "7  1000_7  2018-08-22     18.31     1000\n",
       "8  1000_8  2018-09-15     18.44     1000\n",
       "9  1000_9  2018-08-15      0.00     1000"
      ]
     },
     "execution_count": 4,
     "metadata": {},
     "output_type": "execute_result"
    }
   ],
   "source": [
    "# чтение данных из файла и сохранение в calls\n",
    "calls = pd.read_csv('/datasets/calls.csv')\n",
    "\n",
    "# выводим первые 10 строк calls\n",
    "calls.head(10)"
   ]
  },
  {
   "cell_type": "code",
   "execution_count": 5,
   "metadata": {},
   "outputs": [
    {
     "name": "stdout",
     "output_type": "stream",
     "text": [
      "<class 'pandas.core.frame.DataFrame'>\n",
      "RangeIndex: 202607 entries, 0 to 202606\n",
      "Data columns (total 4 columns):\n",
      "id           202607 non-null object\n",
      "call_date    202607 non-null object\n",
      "duration     202607 non-null float64\n",
      "user_id      202607 non-null int64\n",
      "dtypes: float64(1), int64(1), object(2)\n",
      "memory usage: 6.2+ MB\n"
     ]
    }
   ],
   "source": [
    "# получим общую информацию о данных в calls\n",
    "calls.info()"
   ]
  },
  {
   "cell_type": "code",
   "execution_count": 6,
   "metadata": {},
   "outputs": [
    {
     "data": {
      "text/html": [
       "<div>\n",
       "<style scoped>\n",
       "    .dataframe tbody tr th:only-of-type {\n",
       "        vertical-align: middle;\n",
       "    }\n",
       "\n",
       "    .dataframe tbody tr th {\n",
       "        vertical-align: top;\n",
       "    }\n",
       "\n",
       "    .dataframe thead th {\n",
       "        text-align: right;\n",
       "    }\n",
       "</style>\n",
       "<table border=\"1\" class=\"dataframe\">\n",
       "  <thead>\n",
       "    <tr style=\"text-align: right;\">\n",
       "      <th></th>\n",
       "      <th>id</th>\n",
       "      <th>message_date</th>\n",
       "      <th>user_id</th>\n",
       "    </tr>\n",
       "  </thead>\n",
       "  <tbody>\n",
       "    <tr>\n",
       "      <td>0</td>\n",
       "      <td>1000_0</td>\n",
       "      <td>2018-06-27</td>\n",
       "      <td>1000</td>\n",
       "    </tr>\n",
       "    <tr>\n",
       "      <td>1</td>\n",
       "      <td>1000_1</td>\n",
       "      <td>2018-10-08</td>\n",
       "      <td>1000</td>\n",
       "    </tr>\n",
       "    <tr>\n",
       "      <td>2</td>\n",
       "      <td>1000_2</td>\n",
       "      <td>2018-08-04</td>\n",
       "      <td>1000</td>\n",
       "    </tr>\n",
       "    <tr>\n",
       "      <td>3</td>\n",
       "      <td>1000_3</td>\n",
       "      <td>2018-06-16</td>\n",
       "      <td>1000</td>\n",
       "    </tr>\n",
       "    <tr>\n",
       "      <td>4</td>\n",
       "      <td>1000_4</td>\n",
       "      <td>2018-12-05</td>\n",
       "      <td>1000</td>\n",
       "    </tr>\n",
       "    <tr>\n",
       "      <td>5</td>\n",
       "      <td>1000_5</td>\n",
       "      <td>2018-06-20</td>\n",
       "      <td>1000</td>\n",
       "    </tr>\n",
       "    <tr>\n",
       "      <td>6</td>\n",
       "      <td>1000_6</td>\n",
       "      <td>2018-11-19</td>\n",
       "      <td>1000</td>\n",
       "    </tr>\n",
       "    <tr>\n",
       "      <td>7</td>\n",
       "      <td>1000_7</td>\n",
       "      <td>2018-10-29</td>\n",
       "      <td>1000</td>\n",
       "    </tr>\n",
       "    <tr>\n",
       "      <td>8</td>\n",
       "      <td>1000_8</td>\n",
       "      <td>2018-06-25</td>\n",
       "      <td>1000</td>\n",
       "    </tr>\n",
       "    <tr>\n",
       "      <td>9</td>\n",
       "      <td>1000_9</td>\n",
       "      <td>2018-12-18</td>\n",
       "      <td>1000</td>\n",
       "    </tr>\n",
       "  </tbody>\n",
       "</table>\n",
       "</div>"
      ],
      "text/plain": [
       "       id message_date  user_id\n",
       "0  1000_0   2018-06-27     1000\n",
       "1  1000_1   2018-10-08     1000\n",
       "2  1000_2   2018-08-04     1000\n",
       "3  1000_3   2018-06-16     1000\n",
       "4  1000_4   2018-12-05     1000\n",
       "5  1000_5   2018-06-20     1000\n",
       "6  1000_6   2018-11-19     1000\n",
       "7  1000_7   2018-10-29     1000\n",
       "8  1000_8   2018-06-25     1000\n",
       "9  1000_9   2018-12-18     1000"
      ]
     },
     "execution_count": 6,
     "metadata": {},
     "output_type": "execute_result"
    }
   ],
   "source": [
    "# чтение данных из файла и сохранение в messages\n",
    "messages = pd.read_csv('/datasets/messages.csv')\n",
    "\n",
    "# выводим первые 10 строк messages\n",
    "messages.head(10)"
   ]
  },
  {
   "cell_type": "code",
   "execution_count": 7,
   "metadata": {},
   "outputs": [
    {
     "name": "stdout",
     "output_type": "stream",
     "text": [
      "<class 'pandas.core.frame.DataFrame'>\n",
      "RangeIndex: 123036 entries, 0 to 123035\n",
      "Data columns (total 3 columns):\n",
      "id              123036 non-null object\n",
      "message_date    123036 non-null object\n",
      "user_id         123036 non-null int64\n",
      "dtypes: int64(1), object(2)\n",
      "memory usage: 2.8+ MB\n"
     ]
    }
   ],
   "source": [
    "# получим общую информацию о данных в messages\n",
    "messages.info()"
   ]
  },
  {
   "cell_type": "code",
   "execution_count": 8,
   "metadata": {},
   "outputs": [
    {
     "data": {
      "text/html": [
       "<div>\n",
       "<style scoped>\n",
       "    .dataframe tbody tr th:only-of-type {\n",
       "        vertical-align: middle;\n",
       "    }\n",
       "\n",
       "    .dataframe tbody tr th {\n",
       "        vertical-align: top;\n",
       "    }\n",
       "\n",
       "    .dataframe thead th {\n",
       "        text-align: right;\n",
       "    }\n",
       "</style>\n",
       "<table border=\"1\" class=\"dataframe\">\n",
       "  <thead>\n",
       "    <tr style=\"text-align: right;\">\n",
       "      <th></th>\n",
       "      <th>Unnamed: 0</th>\n",
       "      <th>id</th>\n",
       "      <th>mb_used</th>\n",
       "      <th>session_date</th>\n",
       "      <th>user_id</th>\n",
       "    </tr>\n",
       "  </thead>\n",
       "  <tbody>\n",
       "    <tr>\n",
       "      <td>0</td>\n",
       "      <td>0</td>\n",
       "      <td>1000_0</td>\n",
       "      <td>112.95</td>\n",
       "      <td>2018-11-25</td>\n",
       "      <td>1000</td>\n",
       "    </tr>\n",
       "    <tr>\n",
       "      <td>1</td>\n",
       "      <td>1</td>\n",
       "      <td>1000_1</td>\n",
       "      <td>1052.81</td>\n",
       "      <td>2018-09-07</td>\n",
       "      <td>1000</td>\n",
       "    </tr>\n",
       "    <tr>\n",
       "      <td>2</td>\n",
       "      <td>2</td>\n",
       "      <td>1000_2</td>\n",
       "      <td>1197.26</td>\n",
       "      <td>2018-06-25</td>\n",
       "      <td>1000</td>\n",
       "    </tr>\n",
       "    <tr>\n",
       "      <td>3</td>\n",
       "      <td>3</td>\n",
       "      <td>1000_3</td>\n",
       "      <td>550.27</td>\n",
       "      <td>2018-08-22</td>\n",
       "      <td>1000</td>\n",
       "    </tr>\n",
       "    <tr>\n",
       "      <td>4</td>\n",
       "      <td>4</td>\n",
       "      <td>1000_4</td>\n",
       "      <td>302.56</td>\n",
       "      <td>2018-09-24</td>\n",
       "      <td>1000</td>\n",
       "    </tr>\n",
       "    <tr>\n",
       "      <td>5</td>\n",
       "      <td>5</td>\n",
       "      <td>1000_5</td>\n",
       "      <td>399.97</td>\n",
       "      <td>2018-10-02</td>\n",
       "      <td>1000</td>\n",
       "    </tr>\n",
       "    <tr>\n",
       "      <td>6</td>\n",
       "      <td>6</td>\n",
       "      <td>1000_6</td>\n",
       "      <td>540.08</td>\n",
       "      <td>2018-09-07</td>\n",
       "      <td>1000</td>\n",
       "    </tr>\n",
       "    <tr>\n",
       "      <td>7</td>\n",
       "      <td>7</td>\n",
       "      <td>1000_7</td>\n",
       "      <td>415.70</td>\n",
       "      <td>2018-07-11</td>\n",
       "      <td>1000</td>\n",
       "    </tr>\n",
       "    <tr>\n",
       "      <td>8</td>\n",
       "      <td>8</td>\n",
       "      <td>1000_8</td>\n",
       "      <td>505.40</td>\n",
       "      <td>2018-10-08</td>\n",
       "      <td>1000</td>\n",
       "    </tr>\n",
       "    <tr>\n",
       "      <td>9</td>\n",
       "      <td>9</td>\n",
       "      <td>1000_9</td>\n",
       "      <td>345.54</td>\n",
       "      <td>2018-09-03</td>\n",
       "      <td>1000</td>\n",
       "    </tr>\n",
       "  </tbody>\n",
       "</table>\n",
       "</div>"
      ],
      "text/plain": [
       "   Unnamed: 0      id  mb_used session_date  user_id\n",
       "0           0  1000_0   112.95   2018-11-25     1000\n",
       "1           1  1000_1  1052.81   2018-09-07     1000\n",
       "2           2  1000_2  1197.26   2018-06-25     1000\n",
       "3           3  1000_3   550.27   2018-08-22     1000\n",
       "4           4  1000_4   302.56   2018-09-24     1000\n",
       "5           5  1000_5   399.97   2018-10-02     1000\n",
       "6           6  1000_6   540.08   2018-09-07     1000\n",
       "7           7  1000_7   415.70   2018-07-11     1000\n",
       "8           8  1000_8   505.40   2018-10-08     1000\n",
       "9           9  1000_9   345.54   2018-09-03     1000"
      ]
     },
     "execution_count": 8,
     "metadata": {},
     "output_type": "execute_result"
    }
   ],
   "source": [
    "# чтение данных из файла и сохранение в internet\n",
    "internet = pd.read_csv('/datasets/internet.csv')\n",
    "\n",
    "# выводим первые 10 строк internet\n",
    "internet.head(10)"
   ]
  },
  {
   "cell_type": "code",
   "execution_count": 9,
   "metadata": {},
   "outputs": [
    {
     "name": "stdout",
     "output_type": "stream",
     "text": [
      "<class 'pandas.core.frame.DataFrame'>\n",
      "RangeIndex: 149396 entries, 0 to 149395\n",
      "Data columns (total 5 columns):\n",
      "Unnamed: 0      149396 non-null int64\n",
      "id              149396 non-null object\n",
      "mb_used         149396 non-null float64\n",
      "session_date    149396 non-null object\n",
      "user_id         149396 non-null int64\n",
      "dtypes: float64(1), int64(2), object(2)\n",
      "memory usage: 5.7+ MB\n"
     ]
    }
   ],
   "source": [
    "# получим общую информацию о данных в internet\n",
    "internet.info()"
   ]
  },
  {
   "cell_type": "code",
   "execution_count": 10,
   "metadata": {},
   "outputs": [
    {
     "data": {
      "text/html": [
       "<div>\n",
       "<style scoped>\n",
       "    .dataframe tbody tr th:only-of-type {\n",
       "        vertical-align: middle;\n",
       "    }\n",
       "\n",
       "    .dataframe tbody tr th {\n",
       "        vertical-align: top;\n",
       "    }\n",
       "\n",
       "    .dataframe thead th {\n",
       "        text-align: right;\n",
       "    }\n",
       "</style>\n",
       "<table border=\"1\" class=\"dataframe\">\n",
       "  <thead>\n",
       "    <tr style=\"text-align: right;\">\n",
       "      <th></th>\n",
       "      <th>messages_included</th>\n",
       "      <th>mb_per_month_included</th>\n",
       "      <th>minutes_included</th>\n",
       "      <th>rub_monthly_fee</th>\n",
       "      <th>rub_per_gb</th>\n",
       "      <th>rub_per_message</th>\n",
       "      <th>rub_per_minute</th>\n",
       "      <th>tariff_name</th>\n",
       "    </tr>\n",
       "  </thead>\n",
       "  <tbody>\n",
       "    <tr>\n",
       "      <td>0</td>\n",
       "      <td>50</td>\n",
       "      <td>15360</td>\n",
       "      <td>500</td>\n",
       "      <td>550</td>\n",
       "      <td>200</td>\n",
       "      <td>3</td>\n",
       "      <td>3</td>\n",
       "      <td>smart</td>\n",
       "    </tr>\n",
       "    <tr>\n",
       "      <td>1</td>\n",
       "      <td>1000</td>\n",
       "      <td>30720</td>\n",
       "      <td>3000</td>\n",
       "      <td>1950</td>\n",
       "      <td>150</td>\n",
       "      <td>1</td>\n",
       "      <td>1</td>\n",
       "      <td>ultra</td>\n",
       "    </tr>\n",
       "  </tbody>\n",
       "</table>\n",
       "</div>"
      ],
      "text/plain": [
       "   messages_included  mb_per_month_included  minutes_included  \\\n",
       "0                 50                  15360               500   \n",
       "1               1000                  30720              3000   \n",
       "\n",
       "   rub_monthly_fee  rub_per_gb  rub_per_message  rub_per_minute tariff_name  \n",
       "0              550         200                3               3       smart  \n",
       "1             1950         150                1               1       ultra  "
      ]
     },
     "execution_count": 10,
     "metadata": {},
     "output_type": "execute_result"
    }
   ],
   "source": [
    "# чтение данных из файла и сохранение в tariffs\n",
    "tariffs = pd.read_csv('/datasets/tariffs.csv')\n",
    "\n",
    "# выводим первые 10 строк tariffs\n",
    "tariffs.head(10)"
   ]
  },
  {
   "cell_type": "code",
   "execution_count": 11,
   "metadata": {},
   "outputs": [
    {
     "name": "stdout",
     "output_type": "stream",
     "text": [
      "<class 'pandas.core.frame.DataFrame'>\n",
      "RangeIndex: 2 entries, 0 to 1\n",
      "Data columns (total 8 columns):\n",
      "messages_included        2 non-null int64\n",
      "mb_per_month_included    2 non-null int64\n",
      "minutes_included         2 non-null int64\n",
      "rub_monthly_fee          2 non-null int64\n",
      "rub_per_gb               2 non-null int64\n",
      "rub_per_message          2 non-null int64\n",
      "rub_per_minute           2 non-null int64\n",
      "tariff_name              2 non-null object\n",
      "dtypes: int64(7), object(1)\n",
      "memory usage: 256.0+ bytes\n"
     ]
    }
   ],
   "source": [
    "# получим общую информацию о данных в tariffs\n",
    "tariffs.info()"
   ]
  },
  {
   "cell_type": "markdown",
   "metadata": {},
   "source": [
    "<div style=\"border:solid green 3px; padding: 20px\">\n",
    "\n",
    "**Таблица users (информация о пользователях)**\n",
    "\n",
    "Общее количество строк в датафрейме 500, столбцов 8, наименования столбцов отражают суть, содержащихся в них данных, и имеют корректные названия, встречающиеся типы данных - целые числа и строковые значения. Имеются пропущенные значения в `churn_date`, но из описания данных следует, что если значение пропущено, то тариф ещё действовал на момент выгрузки данных, поэтому оставим данные в этом столбце в первоначальном виде. Столбец `reg_date` — дата подключения тарифа (день, месяц, год) - имеет тип object, но поскольку в указанном столбце хранится дата, то на следующем шаге преобразуем тип данных в `reg_date` в специальный формат даты.\n",
    "\n",
    "**Таблица calls (информация о звонках)**\n",
    "\n",
    "Общее количество строк в датафрейме 202607, столбцов 4, наименования столбцов отражают суть, содержащихся в них данных, и имеют корректные названия, встречающиеся типы данных - вещественные и целые числа, строковые значения. Столбец `call_date` — дата звонка - имеет тип object, но поскольку в указанном столбце хранится дата, то на следующем шаге преобразуем тип данных в `call_date` в специальный формат даты.    \n",
    "\n",
    "**Таблица messages (информация о сообщениях)**\n",
    "    \n",
    "Общее количество строк в датафрейме 123036, столбцов 3, наименования столбцов отражают суть, содержащихся в них данных, и имеют корректные названия, встречающиеся типы данных - целые числа и строковые значения. Столбец `message_date` — дата сообщения - имеет тип object, но поскольку в указанном столбце хранится дата, то на следующем шаге преобразуем тип данных в `message_date` в специальный формат даты.    \n",
    "\n",
    "\n",
    "**Таблица internet (информация об интернет-сессиях)**\n",
    "    \n",
    "Общее количество строк в датафрейме 149396, столбцов 5. Имеется один столбец без наименования `Unnamed: 0`, но предположительно в данном столбце хранятся индексы, удалим данный столбец на следующем шаге, наименования остальных столбцов отражают суть, содержащихся в них данных, и имеют корректные названия, встречающиеся типы данных - вещественные и целые числа, строковые значения. Столбец `session_date` — дата интернет-сессии - имеет тип object, но поскольку в указанном столбце хранится дата, то на следующем шаге преобразуем тип данных в `session_date` в специальный формат даты.    \n",
    "\n",
    "**Таблица tariffs (информация о тарифах)**\n",
    "     \n",
    "Общее количество строк в датафрейме 2, столбцов 8, наименования столбцов отражают суть, содержащихся в них данных, и имеют корректные названия, встречающиеся типы данных - целые числа и строковые значения. "
   ]
  },
  {
   "cell_type": "markdown",
   "metadata": {},
   "source": [
    "## Предобработка данных"
   ]
  },
  {
   "cell_type": "markdown",
   "metadata": {},
   "source": [
    "### Обработка пропущенных значений"
   ]
  },
  {
   "cell_type": "markdown",
   "metadata": {},
   "source": [
    "<div class=\"alert alert-block alert-info\">\n",
    "<font color='Black'>\n",
    "    \n",
    "Явные пропуски имеются только в датафрейме users в столбце `churn_date`, но из описания данных следует, что если значение пропущено, то тариф ещё действовал на момент выгрузки данных, поэтому оставим данные в этом столбце в первоначальном виде.\n",
    "\n",
    "Попробуем найти неявные пропуски, для количественных переменных будем использовать метод describe, для переменных остальных типов проанализиуем уникальные значения."
   ]
  },
  {
   "cell_type": "code",
   "execution_count": 12,
   "metadata": {},
   "outputs": [
    {
     "data": {
      "text/html": [
       "<div>\n",
       "<style scoped>\n",
       "    .dataframe tbody tr th:only-of-type {\n",
       "        vertical-align: middle;\n",
       "    }\n",
       "\n",
       "    .dataframe tbody tr th {\n",
       "        vertical-align: top;\n",
       "    }\n",
       "\n",
       "    .dataframe thead th {\n",
       "        text-align: right;\n",
       "    }\n",
       "</style>\n",
       "<table border=\"1\" class=\"dataframe\">\n",
       "  <thead>\n",
       "    <tr style=\"text-align: right;\">\n",
       "      <th></th>\n",
       "      <th>user_id</th>\n",
       "      <th>age</th>\n",
       "    </tr>\n",
       "  </thead>\n",
       "  <tbody>\n",
       "    <tr>\n",
       "      <td>count</td>\n",
       "      <td>500.000000</td>\n",
       "      <td>500.00000</td>\n",
       "    </tr>\n",
       "    <tr>\n",
       "      <td>mean</td>\n",
       "      <td>1249.500000</td>\n",
       "      <td>46.58800</td>\n",
       "    </tr>\n",
       "    <tr>\n",
       "      <td>std</td>\n",
       "      <td>144.481833</td>\n",
       "      <td>16.66763</td>\n",
       "    </tr>\n",
       "    <tr>\n",
       "      <td>min</td>\n",
       "      <td>1000.000000</td>\n",
       "      <td>18.00000</td>\n",
       "    </tr>\n",
       "    <tr>\n",
       "      <td>25%</td>\n",
       "      <td>1124.750000</td>\n",
       "      <td>32.00000</td>\n",
       "    </tr>\n",
       "    <tr>\n",
       "      <td>50%</td>\n",
       "      <td>1249.500000</td>\n",
       "      <td>46.00000</td>\n",
       "    </tr>\n",
       "    <tr>\n",
       "      <td>75%</td>\n",
       "      <td>1374.250000</td>\n",
       "      <td>62.00000</td>\n",
       "    </tr>\n",
       "    <tr>\n",
       "      <td>max</td>\n",
       "      <td>1499.000000</td>\n",
       "      <td>75.00000</td>\n",
       "    </tr>\n",
       "  </tbody>\n",
       "</table>\n",
       "</div>"
      ],
      "text/plain": [
       "           user_id        age\n",
       "count   500.000000  500.00000\n",
       "mean   1249.500000   46.58800\n",
       "std     144.481833   16.66763\n",
       "min    1000.000000   18.00000\n",
       "25%    1124.750000   32.00000\n",
       "50%    1249.500000   46.00000\n",
       "75%    1374.250000   62.00000\n",
       "max    1499.000000   75.00000"
      ]
     },
     "execution_count": 12,
     "metadata": {},
     "output_type": "execute_result"
    }
   ],
   "source": [
    "# получим описательную статистику для количественных переменных\n",
    "users.describe()"
   ]
  },
  {
   "cell_type": "code",
   "execution_count": 13,
   "metadata": {},
   "outputs": [
    {
     "data": {
      "text/plain": [
       "array(['Авксентий', 'Агата', 'Агафья', 'Агнесса', 'Адам', 'Аким', 'Аксён',\n",
       "       'Алан', 'Алевтина', 'Александр', 'Александра', 'Алексей', 'Алина',\n",
       "       'Алиса', 'Алла', 'Альберта', 'Альбин', 'Альфред', 'Алёна',\n",
       "       'Анатолий', 'Анвар', 'Ангелина', 'Андрей', 'Анжелика', 'Анита',\n",
       "       'Антонина', 'Анфиса', 'Арина', 'Арнольд', 'Арсен', 'Арсений',\n",
       "       'Артемий', 'Артём', 'Аурелия', 'Афанасий', 'Ахмет', 'Аюна',\n",
       "       'Белла', 'Берта', 'Борис', 'Вадим', 'Валентина', 'Валерий',\n",
       "       'Валерия', 'Варвара', 'Варлам', 'Василиса', 'Вениамин', 'Вера',\n",
       "       'Вероника', 'Веселина', 'Виктор', 'Виктория', 'Виолетта',\n",
       "       'Виталий', 'Владимир', 'Владислав', 'Владислава', 'Всеволод',\n",
       "       'Габриель', 'Габриэль', 'Гайдар', 'Галина', 'Гарри', 'Гектор',\n",
       "       'Гелена', 'Геннадий', 'Геодар', 'Георгий', 'Георгина', 'Геральд',\n",
       "       'Герасим', 'Глеб', 'Гордей', 'Григорий', 'Дайна', 'Дана', 'Даниил',\n",
       "       'Даниэла', 'Дебора', 'Демьян', 'Денис', 'Джемма', 'Джозефина',\n",
       "       'Джулия', 'Динара', 'Доминика', 'Ева', 'Евгений', 'Евгения',\n",
       "       'Евдокия', 'Евфросинья', 'Егор', 'Екатерина', 'Елена', 'Еремей',\n",
       "       'Ермолай', 'Ефим', 'Зинаида', 'Иван', 'Игнатий', 'Игорь',\n",
       "       'Изольда', 'Илзе', 'Илья', 'Инара', 'Инга', 'Инесса', 'Инна',\n",
       "       'Иннокентий', 'Ириней', 'Исаак', 'Исак', 'Иулиан', 'Камилла',\n",
       "       'Карина', 'Каролина', 'Касьян', 'Ким', 'Клавдия', 'Клара',\n",
       "       'Клариса', 'Константин', 'Кристина', 'Ксения', 'Кузьма',\n",
       "       'Лаврентий', 'Лариса', 'Лаура', 'Лев', 'Лейла', 'Леон', 'Леонид',\n",
       "       'Леонтий', 'Леся', 'Лидия', 'Лилия', 'Лия', 'Лола', 'Лолита',\n",
       "       'Луиза', 'Лукий', 'Людмила', 'Мадина', 'Майя', 'Максим',\n",
       "       'Мальвина', 'Мануэла', 'Маргарита', 'Марианна', 'Мариетта',\n",
       "       'Марина', 'Марица', 'Мария', 'Марта', 'Марьяна', 'Матвей',\n",
       "       'Милана', 'Милена', 'Милица', 'Мирослава', 'Михаил', 'Мстислав',\n",
       "       'Надежда', 'Наида', 'Наталья', 'Нателла', 'Нелли', 'Николай',\n",
       "       'Нина', 'Оксана', 'Олег', 'Олеся', 'Онисим', 'Павел', 'Пётр',\n",
       "       'Радим', 'Радислав', 'Радомир', 'Раиса', 'Рауль', 'Рафаил',\n",
       "       'Рафаэль', 'Рашид', 'Рем', 'Ренальд', 'Ренат', 'Рената', 'Ринат',\n",
       "       'Роберт', 'Роза', 'Розалия', 'Роксана', 'Ростислав', 'Рубен',\n",
       "       'Рудольф', 'Рузана', 'Руслан', 'Руслана', 'Рустам', 'Рустем',\n",
       "       'Рустэм', 'Рэм', 'Сабина', 'Саида', 'Сара', 'Светлана',\n",
       "       'Святослав', 'Семён', 'Серафима', 'Симона', 'Снежана', 'Софья',\n",
       "       'Станислав', 'Степан', 'Таира', 'Таисия', 'Тала', 'Тамара',\n",
       "       'Татьяна', 'Тимофей', 'Тихон', 'Трифон', 'Трофим', 'Фаддей',\n",
       "       'Фёдор', 'Харитон', 'Эдита', 'Эдуард', 'Элеонора', 'Элина', 'Элла',\n",
       "       'Эллада', 'Эльвира', 'Эльга', 'Эльза', 'Эльмира', 'Эмилия',\n",
       "       'Эсмеральда', 'Юзефа', 'Юлий', 'Юлия', 'Юна', 'Юрий', 'Яков',\n",
       "       'Яна'], dtype=object)"
      ]
     },
     "execution_count": 13,
     "metadata": {},
     "output_type": "execute_result"
    }
   ],
   "source": [
    "# выведем уникальные значения для указанного столбца, предварительно отсортировав значения по возрастанию\n",
    "users['first_name'].sort_values().unique()"
   ]
  },
  {
   "cell_type": "code",
   "execution_count": 14,
   "metadata": {},
   "outputs": [
    {
     "data": {
      "text/plain": [
       "array(['Ёлчина', 'Ёркин', 'Ёркина', 'Ёрохов', 'Ёрохова', 'Абаимов',\n",
       "       'Абакумов', 'Абакшина', 'Абалакова', 'Абалдуева', 'Абалкин',\n",
       "       'Абашкин', 'Абашкина', 'Абдулина', 'Абоимов', 'Абрамович',\n",
       "       'Абрамцев', 'Абрамычева', 'Абрашина', 'Абрикосова', 'Авдеев',\n",
       "       'Авдеенко', 'Авдонюшкин', 'Авдушева', 'Авдышев', 'Авдюков',\n",
       "       'Авраамова', 'Авраменко', 'Авринский', 'Аврорин', 'Авроров',\n",
       "       'Авросимова', 'Авросинова', 'Авсейкина', 'Авчинникова', 'Агаев',\n",
       "       'Агаева', 'Агапеева', 'Агеева', 'Адаменко', 'Адамов', 'Азаров',\n",
       "       'Азерников', 'Азимова', 'Акимов', 'Акимчин', 'Акимычева',\n",
       "       'Акиндинов', 'Акинин', 'Акинфьев', 'Аксёнов', 'Акуленко',\n",
       "       'Александрова', 'Александрович', 'Александрюк', 'Алексеева',\n",
       "       'Алексеенко', 'Алексеичев', 'Аленникова', 'Алесин', 'Алехина',\n",
       "       'Алешин', 'Алешина', 'Алешкова', 'Алиев', 'Алфеева', 'Алфимов',\n",
       "       'Алфимова', 'Алымова', 'Алютин', 'Алюшина', 'Алёшко', 'Алёшкова',\n",
       "       'Амелин', 'Амелишко', 'Амельченко', 'Ананьева', 'Андреенко',\n",
       "       'Андрейкин', 'Андрейчук', 'Андрианов', 'Андропов', 'Андропова',\n",
       "       'Андрющенко', 'Аникина', 'Аничкина', 'Анищенко', 'Антипов',\n",
       "       'Антоненко', 'Антонова', 'Антропов', 'Антропова', 'Аракина',\n",
       "       'Аракчеев', 'Аркадьев', 'Арсенкова', 'Артемчук', 'Артемьев',\n",
       "       'Артёменко', 'Артёмов', 'Артёшин', 'Архипова', 'Асафьева',\n",
       "       'Астапенко', 'Астапов', 'Астафьева', 'Афанасенко', 'Афанасова',\n",
       "       'Афинин', 'Афонасьева', 'Афонин', 'Афонина', 'Ахмадулин',\n",
       "       'Ахматов', 'Ахматулин', 'Ахматулина', 'Ахмедов', 'Бабушкина',\n",
       "       'Барсуков', 'Басова', 'Безруков', 'Беликова', 'Белова',\n",
       "       'Белозёров', 'Белоусова', 'Беляев', 'Беляева', 'Белякова',\n",
       "       'Березина', 'Блинова', 'Блохин', 'Блохина', 'Боброва', 'Бобылёв',\n",
       "       'Богданов', 'Богданова', 'Болдырев', 'Болдырева', 'Бондарев',\n",
       "       'Борисова', 'Бородин', 'Бородина', 'Булгаков', 'Бычкова',\n",
       "       'Васильева', 'Верещагин', 'Верещагина', 'Веселов', 'Вешнякова',\n",
       "       'Вишневский', 'Вишняков', 'Воронин', 'Воронина', 'Гаврилова',\n",
       "       'Галкин', 'Глушков', 'Голованова', 'Гончаров', 'Горбачева',\n",
       "       'Горбунов', 'Горлов', 'Григорьев', 'Григорьева', 'Гришина',\n",
       "       'Громова', 'Давыдов', 'Демидов', 'Демьянов', 'Демьянова',\n",
       "       'Денисова', 'Добрынин', 'Добрынина', 'Дорофеева', 'Дроздов',\n",
       "       'Дубинина', 'Дьячкова', 'Евсеев', 'Ежов', 'Елизаров', 'Емельянова',\n",
       "       'Еремин', 'Ермилов', 'Ермолаев', 'Ерофеев', 'Ерофеева', 'Ефремов',\n",
       "       'Жарова', 'Жданов', 'Жукова', 'Завьялова', 'Зайцев', 'Зеленина',\n",
       "       'Зимина', 'Золотов', 'Золотова', 'Зубков', 'Зубкова', 'Зуев',\n",
       "       'Зыков', 'Иванов', 'Иванова', 'Игнатова', 'Игнатьев', 'Игнатьева',\n",
       "       'Измайлова', 'Ильин', 'Ильина', 'Кабанова', 'Казакова', 'Казанцев',\n",
       "       'Калинина', 'Капустин', 'Карасев', 'Карасева', 'Карташова',\n",
       "       'Касьянова', 'Киреева', 'Кириллов', 'Киселёв', 'Климова',\n",
       "       'Ковалева', 'Козлов', 'Козлова', 'Козырева', 'Колесова', 'Колобов',\n",
       "       'Кольцова', 'Кондратов', 'Коновалова', 'Кононов', 'Константинова',\n",
       "       'Корнеева', 'Корнилов', 'Корнилова', 'Корольков', 'Королькова',\n",
       "       'Короткова', 'Коршунов', 'Костин', 'Костина', 'Кочергина',\n",
       "       'Кочетков', 'Кочетов', 'Кошелева', 'Кравцов', 'Красильников',\n",
       "       'Круглов', 'Крылова', 'Крюков', 'Крюкова', 'Крючков', 'Кузнецов',\n",
       "       'Кукушкин', 'Кулагина', 'Кулешова', 'Куприянов', 'Курочкин',\n",
       "       'Лазарева', 'Лапина', 'Лаптева', 'Ларин', 'Ларина', 'Ларионова',\n",
       "       'Латышева', 'Лебедев', 'Левин', 'Леонтьев', 'Литвинов', 'Лобанова',\n",
       "       'Логинов', 'Лосева', 'Лукин', 'Любимов', 'Макаров', 'Макарова',\n",
       "       'Макеев', 'Малахов', 'Малинин', 'Малинина', 'Малышев', 'Мальцев',\n",
       "       'Мамонтова', 'Марков', 'Масленникова', 'Матвеев', 'Медведев',\n",
       "       'Мельникова', 'Меркулова', 'Минаев', 'Минаева', 'Мишин',\n",
       "       'Молчанова', 'Моргунов', 'Морозов', 'Муравьева', 'Муравьёв',\n",
       "       'Мясникова', 'Наумов', 'Некрасов', 'Нестеров', 'Нестерова',\n",
       "       'Нечаева', 'Никонов', 'Никулин', 'Новикова', 'Носкова',\n",
       "       'Овчинников', 'Одинцов', 'Одинцова', 'Озерова', 'Орлов',\n",
       "       'Павловский', 'Панов', 'Пантелеева', 'Панфилов', 'Панфилова',\n",
       "       'Парфенов', 'Петухова', 'Пирогова', 'Платонова', 'Покровский',\n",
       "       'Поликарпова', 'Поляков', 'Пономарев', 'Пономарева', 'Пономарёв',\n",
       "       'Попов', 'Прокофьева', 'Пугачева', 'Ракова', 'Родина', 'Родионов',\n",
       "       'Родионова', 'Розанова', 'Рудаков', 'Румянцева', 'Русанова',\n",
       "       'Рыбакова', 'Рябов', 'Савельева', 'Сазонов', 'Сазонова',\n",
       "       'Сальников', 'Сафонова', 'Сахарова', 'Свиридов', 'Севастьянова',\n",
       "       'Седова', 'Селезнев', 'Селезнева', 'Селиванова', 'Семенова',\n",
       "       'Семин', 'Семина', 'Семёнов', 'Сергеева', 'Серебрякова', 'Серов',\n",
       "       'Силин', 'Симонова', 'Синицын', 'Ситникова', 'Соколов', 'Соловьев',\n",
       "       'Соловьёв', 'Сомова', 'Сорокин', 'Софронов', 'Спиридонова',\n",
       "       'Субботина', 'Суслов', 'Суслова', 'Сухарев', 'Сухарева', 'Сухова',\n",
       "       'Сысоев', 'Тарасов', 'Тарасова', 'Терехова', 'Тетерина',\n",
       "       'Тимофеев', 'Тимофеева', 'Тихомирова', 'Тихонов', 'Толкачев',\n",
       "       'Третьякова', 'Троицкий', 'Трофимов', 'Трофимова', 'Трошин',\n",
       "       'Уваров', 'Устинов', 'Устинова', 'Фадеева', 'Федосеев', 'Фетисова',\n",
       "       'Филатов', 'Фокин', 'Фокина', 'Фомин', 'Фролов', 'Фёдоров',\n",
       "       'Худяков', 'Чернов', 'Черный', 'Чернышев', 'Черняев', 'Чеснокова',\n",
       "       'Чижова', 'Чистякова', 'Чумаков', 'Шарапов', 'Шарапова', 'Шарова',\n",
       "       'Швецов', 'Шевцов', 'Шевцова', 'Щербакова', 'Яшина'], dtype=object)"
      ]
     },
     "execution_count": 14,
     "metadata": {},
     "output_type": "execute_result"
    }
   ],
   "source": [
    "# выведем уникальные значения для указанного столбца, предварительно отсортировав значения по возрастанию\n",
    "users['last_name'].sort_values().unique()"
   ]
  },
  {
   "cell_type": "code",
   "execution_count": 15,
   "metadata": {},
   "outputs": [
    {
     "data": {
      "text/plain": [
       "array(['2018-01-01', '2018-01-02', '2018-01-04', '2018-01-05',\n",
       "       '2018-01-06', '2018-01-08', '2018-01-09', '2018-01-12',\n",
       "       '2018-01-13', '2018-01-15', '2018-01-16', '2018-01-17',\n",
       "       '2018-01-18', '2018-01-19', '2018-01-20', '2018-01-21',\n",
       "       '2018-01-23', '2018-01-24', '2018-01-25', '2018-01-26',\n",
       "       '2018-01-27', '2018-01-29', '2018-01-30', '2018-02-02',\n",
       "       '2018-02-03', '2018-02-04', '2018-02-05', '2018-02-06',\n",
       "       '2018-02-08', '2018-02-11', '2018-02-13', '2018-02-14',\n",
       "       '2018-02-17', '2018-02-19', '2018-02-20', '2018-02-21',\n",
       "       '2018-02-22', '2018-02-23', '2018-02-24', '2018-02-25',\n",
       "       '2018-02-26', '2018-02-27', '2018-02-28', '2018-03-04',\n",
       "       '2018-03-06', '2018-03-08', '2018-03-09', '2018-03-10',\n",
       "       '2018-03-12', '2018-03-13', '2018-03-14', '2018-03-15',\n",
       "       '2018-03-16', '2018-03-17', '2018-03-18', '2018-03-19',\n",
       "       '2018-03-20', '2018-03-22', '2018-03-24', '2018-03-25',\n",
       "       '2018-03-26', '2018-03-28', '2018-04-01', '2018-04-03',\n",
       "       '2018-04-04', '2018-04-06', '2018-04-08', '2018-04-09',\n",
       "       '2018-04-10', '2018-04-11', '2018-04-12', '2018-04-13',\n",
       "       '2018-04-14', '2018-04-17', '2018-04-18', '2018-04-19',\n",
       "       '2018-04-22', '2018-04-23', '2018-04-24', '2018-04-25',\n",
       "       '2018-04-26', '2018-04-27', '2018-04-28', '2018-04-29',\n",
       "       '2018-04-30', '2018-05-02', '2018-05-03', '2018-05-04',\n",
       "       '2018-05-05', '2018-05-06', '2018-05-07', '2018-05-08',\n",
       "       '2018-05-09', '2018-05-11', '2018-05-12', '2018-05-14',\n",
       "       '2018-05-15', '2018-05-16', '2018-05-19', '2018-05-20',\n",
       "       '2018-05-21', '2018-05-22', '2018-05-23', '2018-05-25',\n",
       "       '2018-05-27', '2018-05-28', '2018-05-29', '2018-05-31',\n",
       "       '2018-06-01', '2018-06-02', '2018-06-03', '2018-06-04',\n",
       "       '2018-06-05', '2018-06-08', '2018-06-09', '2018-06-12',\n",
       "       '2018-06-14', '2018-06-16', '2018-06-17', '2018-06-18',\n",
       "       '2018-06-19', '2018-06-20', '2018-06-21', '2018-06-22',\n",
       "       '2018-06-23', '2018-06-24', '2018-06-25', '2018-06-26',\n",
       "       '2018-06-29', '2018-06-30', '2018-07-01', '2018-07-02',\n",
       "       '2018-07-03', '2018-07-05', '2018-07-06', '2018-07-08',\n",
       "       '2018-07-09', '2018-07-12', '2018-07-13', '2018-07-14',\n",
       "       '2018-07-15', '2018-07-16', '2018-07-17', '2018-07-18',\n",
       "       '2018-07-19', '2018-07-20', '2018-07-21', '2018-07-25',\n",
       "       '2018-07-26', '2018-07-27', '2018-07-28', '2018-07-29',\n",
       "       '2018-07-30', '2018-08-02', '2018-08-03', '2018-08-04',\n",
       "       '2018-08-05', '2018-08-06', '2018-08-07', '2018-08-09',\n",
       "       '2018-08-12', '2018-08-13', '2018-08-14', '2018-08-15',\n",
       "       '2018-08-17', '2018-08-18', '2018-08-19', '2018-08-20',\n",
       "       '2018-08-22', '2018-08-24', '2018-08-25', '2018-08-26',\n",
       "       '2018-08-27', '2018-08-28', '2018-08-29', '2018-08-30',\n",
       "       '2018-08-31', '2018-09-01', '2018-09-02', '2018-09-03',\n",
       "       '2018-09-04', '2018-09-05', '2018-09-07', '2018-09-09',\n",
       "       '2018-09-10', '2018-09-13', '2018-09-14', '2018-09-15',\n",
       "       '2018-09-16', '2018-09-17', '2018-09-19', '2018-09-20',\n",
       "       '2018-09-23', '2018-09-24', '2018-09-26', '2018-09-27',\n",
       "       '2018-09-28', '2018-09-29', '2018-09-30', '2018-10-02',\n",
       "       '2018-10-03', '2018-10-04', '2018-10-05', '2018-10-06',\n",
       "       '2018-10-07', '2018-10-08', '2018-10-09', '2018-10-10',\n",
       "       '2018-10-11', '2018-10-12', '2018-10-13', '2018-10-14',\n",
       "       '2018-10-16', '2018-10-18', '2018-10-19', '2018-10-21',\n",
       "       '2018-10-22', '2018-10-23', '2018-10-24', '2018-10-25',\n",
       "       '2018-10-29', '2018-10-30', '2018-10-31', '2018-11-01',\n",
       "       '2018-11-02', '2018-11-03', '2018-11-04', '2018-11-05',\n",
       "       '2018-11-06', '2018-11-07', '2018-11-09', '2018-11-11',\n",
       "       '2018-11-12', '2018-11-13', '2018-11-14', '2018-11-16',\n",
       "       '2018-11-18', '2018-11-19', '2018-11-21', '2018-11-22',\n",
       "       '2018-11-23', '2018-11-24', '2018-11-25', '2018-11-27',\n",
       "       '2018-11-28', '2018-11-29', '2018-11-30', '2018-12-01',\n",
       "       '2018-12-02', '2018-12-03', '2018-12-04', '2018-12-06',\n",
       "       '2018-12-07', '2018-12-08', '2018-12-10', '2018-12-12',\n",
       "       '2018-12-13', '2018-12-14', '2018-12-15', '2018-12-17',\n",
       "       '2018-12-18', '2018-12-19', '2018-12-20', '2018-12-21',\n",
       "       '2018-12-22', '2018-12-23', '2018-12-25', '2018-12-29',\n",
       "       '2018-12-30', '2018-12-31'], dtype=object)"
      ]
     },
     "execution_count": 15,
     "metadata": {},
     "output_type": "execute_result"
    }
   ],
   "source": [
    "# выведем уникальные значения для указанного столбца, предварительно отсортировав значения по возрастанию\n",
    "users['reg_date'].sort_values().unique()"
   ]
  },
  {
   "cell_type": "code",
   "execution_count": 16,
   "metadata": {},
   "outputs": [
    {
     "data": {
      "text/plain": [
       "array(['2018-08-17', '2018-08-31', '2018-09-02', '2018-09-26',\n",
       "       '2018-09-27', '2018-10-03', '2018-10-04', '2018-10-05',\n",
       "       '2018-10-14', '2018-10-25', '2018-10-27', '2018-10-28',\n",
       "       '2018-11-07', '2018-11-13', '2018-11-16', '2018-11-21',\n",
       "       '2018-11-22', '2018-11-26', '2018-11-27', '2018-11-30',\n",
       "       '2018-12-03', '2018-12-09', '2018-12-11', '2018-12-14',\n",
       "       '2018-12-16', '2018-12-18', '2018-12-20', '2018-12-21',\n",
       "       '2018-12-23', '2018-12-24', '2018-12-25', '2018-12-26',\n",
       "       '2018-12-30', nan], dtype=object)"
      ]
     },
     "execution_count": 16,
     "metadata": {},
     "output_type": "execute_result"
    }
   ],
   "source": [
    "# выведем уникальные значения для указанного столбца, предварительно отсортировав значения по возрастанию\n",
    "users['churn_date'].sort_values().unique()"
   ]
  },
  {
   "cell_type": "code",
   "execution_count": 17,
   "metadata": {},
   "outputs": [
    {
     "data": {
      "text/plain": [
       "array(['Архангельск', 'Астрахань', 'Балашиха', 'Барнаул', 'Белгород',\n",
       "       'Брянск', 'Владивосток', 'Владикавказ', 'Владимир', 'Волгоград',\n",
       "       'Волжский', 'Вологда', 'Воронеж', 'Грозный', 'Екатеринбург',\n",
       "       'Иваново', 'Ижевск', 'Иркутск', 'Казань', 'Калининград', 'Калуга',\n",
       "       'Кемерово', 'Киров', 'Кострома', 'Краснодар', 'Красноярск',\n",
       "       'Курган', 'Курск', 'Липецк', 'Магнитогорск', 'Махачкала', 'Москва',\n",
       "       'Мурманск', 'Набережные Челны', 'Нижневартовск', 'Нижний Новгород',\n",
       "       'Нижний Тагил', 'Новокузнецк', 'Новороссийск', 'Новосибирск',\n",
       "       'Омск', 'Оренбург', 'Орёл', 'Пенза', 'Пермь', 'Петрозаводск',\n",
       "       'Подольск', 'Ростов-на-Дону', 'Рязань', 'Самара',\n",
       "       'Санкт-Петербург', 'Саранск', 'Саратов', 'Севастополь', 'Смоленск',\n",
       "       'Сочи', 'Ставрополь', 'Стерлитамак', 'Сургут', 'Тамбов', 'Тверь',\n",
       "       'Тольятти', 'Томск', 'Тула', 'Тюмень', 'Улан-Удэ', 'Ульяновск',\n",
       "       'Уфа', 'Хабаровск', 'Химки', 'Чебоксары', 'Челябинск', 'Череповец',\n",
       "       'Чита', 'Якутск', 'Ярославль'], dtype=object)"
      ]
     },
     "execution_count": 17,
     "metadata": {},
     "output_type": "execute_result"
    }
   ],
   "source": [
    "# выведем уникальные значения для указанного столбца, предварительно отсортировав значения по возрастанию\n",
    "users['city'].sort_values().unique()"
   ]
  },
  {
   "cell_type": "code",
   "execution_count": 18,
   "metadata": {},
   "outputs": [
    {
     "data": {
      "text/plain": [
       "array(['smart', 'ultra'], dtype=object)"
      ]
     },
     "execution_count": 18,
     "metadata": {},
     "output_type": "execute_result"
    }
   ],
   "source": [
    "# выведем уникальные значения для указанного столбца, предварительно отсортировав значения по возрастанию\n",
    "users['tariff'].sort_values().unique()"
   ]
  },
  {
   "cell_type": "code",
   "execution_count": 19,
   "metadata": {},
   "outputs": [
    {
     "data": {
      "text/html": [
       "<div>\n",
       "<style scoped>\n",
       "    .dataframe tbody tr th:only-of-type {\n",
       "        vertical-align: middle;\n",
       "    }\n",
       "\n",
       "    .dataframe tbody tr th {\n",
       "        vertical-align: top;\n",
       "    }\n",
       "\n",
       "    .dataframe thead th {\n",
       "        text-align: right;\n",
       "    }\n",
       "</style>\n",
       "<table border=\"1\" class=\"dataframe\">\n",
       "  <thead>\n",
       "    <tr style=\"text-align: right;\">\n",
       "      <th></th>\n",
       "      <th>duration</th>\n",
       "      <th>user_id</th>\n",
       "    </tr>\n",
       "  </thead>\n",
       "  <tbody>\n",
       "    <tr>\n",
       "      <td>count</td>\n",
       "      <td>202607.000000</td>\n",
       "      <td>202607.000000</td>\n",
       "    </tr>\n",
       "    <tr>\n",
       "      <td>mean</td>\n",
       "      <td>6.755887</td>\n",
       "      <td>1253.940619</td>\n",
       "    </tr>\n",
       "    <tr>\n",
       "      <td>std</td>\n",
       "      <td>5.843365</td>\n",
       "      <td>144.722751</td>\n",
       "    </tr>\n",
       "    <tr>\n",
       "      <td>min</td>\n",
       "      <td>0.000000</td>\n",
       "      <td>1000.000000</td>\n",
       "    </tr>\n",
       "    <tr>\n",
       "      <td>25%</td>\n",
       "      <td>1.300000</td>\n",
       "      <td>1126.000000</td>\n",
       "    </tr>\n",
       "    <tr>\n",
       "      <td>50%</td>\n",
       "      <td>6.000000</td>\n",
       "      <td>1260.000000</td>\n",
       "    </tr>\n",
       "    <tr>\n",
       "      <td>75%</td>\n",
       "      <td>10.700000</td>\n",
       "      <td>1379.000000</td>\n",
       "    </tr>\n",
       "    <tr>\n",
       "      <td>max</td>\n",
       "      <td>38.000000</td>\n",
       "      <td>1499.000000</td>\n",
       "    </tr>\n",
       "  </tbody>\n",
       "</table>\n",
       "</div>"
      ],
      "text/plain": [
       "            duration        user_id\n",
       "count  202607.000000  202607.000000\n",
       "mean        6.755887    1253.940619\n",
       "std         5.843365     144.722751\n",
       "min         0.000000    1000.000000\n",
       "25%         1.300000    1126.000000\n",
       "50%         6.000000    1260.000000\n",
       "75%        10.700000    1379.000000\n",
       "max        38.000000    1499.000000"
      ]
     },
     "execution_count": 19,
     "metadata": {},
     "output_type": "execute_result"
    }
   ],
   "source": [
    "# получим описательную статистику для количественных переменных\n",
    "calls.describe()"
   ]
  },
  {
   "cell_type": "code",
   "execution_count": 20,
   "metadata": {},
   "outputs": [
    {
     "data": {
      "text/plain": [
       "array(['2018-01-01', '2018-01-02', '2018-01-03', '2018-01-04',\n",
       "       '2018-01-05', '2018-01-06', '2018-01-07', '2018-01-08',\n",
       "       '2018-01-09', '2018-01-10', '2018-01-11', '2018-01-12',\n",
       "       '2018-01-13', '2018-01-14', '2018-01-15', '2018-01-16',\n",
       "       '2018-01-17', '2018-01-18', '2018-01-19', '2018-01-20',\n",
       "       '2018-01-21', '2018-01-22', '2018-01-23', '2018-01-24',\n",
       "       '2018-01-25', '2018-01-26', '2018-01-27', '2018-01-28',\n",
       "       '2018-01-29', '2018-01-30', '2018-01-31', '2018-02-01',\n",
       "       '2018-02-02', '2018-02-03', '2018-02-04', '2018-02-05',\n",
       "       '2018-02-06', '2018-02-07', '2018-02-08', '2018-02-09',\n",
       "       '2018-02-10', '2018-02-11', '2018-02-12', '2018-02-13',\n",
       "       '2018-02-14', '2018-02-15', '2018-02-16', '2018-02-17',\n",
       "       '2018-02-18', '2018-02-19', '2018-02-20', '2018-02-21',\n",
       "       '2018-02-22', '2018-02-23', '2018-02-24', '2018-02-25',\n",
       "       '2018-02-26', '2018-02-27', '2018-02-28', '2018-03-01',\n",
       "       '2018-03-02', '2018-03-03', '2018-03-04', '2018-03-05',\n",
       "       '2018-03-06', '2018-03-07', '2018-03-08', '2018-03-09',\n",
       "       '2018-03-10', '2018-03-11', '2018-03-12', '2018-03-13',\n",
       "       '2018-03-14', '2018-03-15', '2018-03-16', '2018-03-17',\n",
       "       '2018-03-18', '2018-03-19', '2018-03-20', '2018-03-21',\n",
       "       '2018-03-22', '2018-03-23', '2018-03-24', '2018-03-25',\n",
       "       '2018-03-26', '2018-03-27', '2018-03-28', '2018-03-29',\n",
       "       '2018-03-30', '2018-03-31', '2018-04-01', '2018-04-02',\n",
       "       '2018-04-03', '2018-04-04', '2018-04-05', '2018-04-06',\n",
       "       '2018-04-07', '2018-04-08', '2018-04-09', '2018-04-10',\n",
       "       '2018-04-11', '2018-04-12', '2018-04-13', '2018-04-14',\n",
       "       '2018-04-15', '2018-04-16', '2018-04-17', '2018-04-18',\n",
       "       '2018-04-19', '2018-04-20', '2018-04-21', '2018-04-22',\n",
       "       '2018-04-23', '2018-04-24', '2018-04-25', '2018-04-26',\n",
       "       '2018-04-27', '2018-04-28', '2018-04-29', '2018-04-30',\n",
       "       '2018-05-01', '2018-05-02', '2018-05-03', '2018-05-04',\n",
       "       '2018-05-05', '2018-05-06', '2018-05-07', '2018-05-08',\n",
       "       '2018-05-09', '2018-05-10', '2018-05-11', '2018-05-12',\n",
       "       '2018-05-13', '2018-05-14', '2018-05-15', '2018-05-16',\n",
       "       '2018-05-17', '2018-05-18', '2018-05-19', '2018-05-20',\n",
       "       '2018-05-21', '2018-05-22', '2018-05-23', '2018-05-24',\n",
       "       '2018-05-25', '2018-05-26', '2018-05-27', '2018-05-28',\n",
       "       '2018-05-29', '2018-05-30', '2018-05-31', '2018-06-01',\n",
       "       '2018-06-02', '2018-06-03', '2018-06-04', '2018-06-05',\n",
       "       '2018-06-06', '2018-06-07', '2018-06-08', '2018-06-09',\n",
       "       '2018-06-10', '2018-06-11', '2018-06-12', '2018-06-13',\n",
       "       '2018-06-14', '2018-06-15', '2018-06-16', '2018-06-17',\n",
       "       '2018-06-18', '2018-06-19', '2018-06-20', '2018-06-21',\n",
       "       '2018-06-22', '2018-06-23', '2018-06-24', '2018-06-25',\n",
       "       '2018-06-26', '2018-06-27', '2018-06-28', '2018-06-29',\n",
       "       '2018-06-30', '2018-07-01', '2018-07-02', '2018-07-03',\n",
       "       '2018-07-04', '2018-07-05', '2018-07-06', '2018-07-07',\n",
       "       '2018-07-08', '2018-07-09', '2018-07-10', '2018-07-11',\n",
       "       '2018-07-12', '2018-07-13', '2018-07-14', '2018-07-15',\n",
       "       '2018-07-16', '2018-07-17', '2018-07-18', '2018-07-19',\n",
       "       '2018-07-20', '2018-07-21', '2018-07-22', '2018-07-23',\n",
       "       '2018-07-24', '2018-07-25', '2018-07-26', '2018-07-27',\n",
       "       '2018-07-28', '2018-07-29', '2018-07-30', '2018-07-31',\n",
       "       '2018-08-01', '2018-08-02', '2018-08-03', '2018-08-04',\n",
       "       '2018-08-05', '2018-08-06', '2018-08-07', '2018-08-08',\n",
       "       '2018-08-09', '2018-08-10', '2018-08-11', '2018-08-12',\n",
       "       '2018-08-13', '2018-08-14', '2018-08-15', '2018-08-16',\n",
       "       '2018-08-17', '2018-08-18', '2018-08-19', '2018-08-20',\n",
       "       '2018-08-21', '2018-08-22', '2018-08-23', '2018-08-24',\n",
       "       '2018-08-25', '2018-08-26', '2018-08-27', '2018-08-28',\n",
       "       '2018-08-29', '2018-08-30', '2018-08-31', '2018-09-01',\n",
       "       '2018-09-02', '2018-09-03', '2018-09-04', '2018-09-05',\n",
       "       '2018-09-06', '2018-09-07', '2018-09-08', '2018-09-09',\n",
       "       '2018-09-10', '2018-09-11', '2018-09-12', '2018-09-13',\n",
       "       '2018-09-14', '2018-09-15', '2018-09-16', '2018-09-17',\n",
       "       '2018-09-18', '2018-09-19', '2018-09-20', '2018-09-21',\n",
       "       '2018-09-22', '2018-09-23', '2018-09-24', '2018-09-25',\n",
       "       '2018-09-26', '2018-09-27', '2018-09-28', '2018-09-29',\n",
       "       '2018-09-30', '2018-10-01', '2018-10-02', '2018-10-03',\n",
       "       '2018-10-04', '2018-10-05', '2018-10-06', '2018-10-07',\n",
       "       '2018-10-08', '2018-10-09', '2018-10-10', '2018-10-11',\n",
       "       '2018-10-12', '2018-10-13', '2018-10-14', '2018-10-15',\n",
       "       '2018-10-16', '2018-10-17', '2018-10-18', '2018-10-19',\n",
       "       '2018-10-20', '2018-10-21', '2018-10-22', '2018-10-23',\n",
       "       '2018-10-24', '2018-10-25', '2018-10-26', '2018-10-27',\n",
       "       '2018-10-28', '2018-10-29', '2018-10-30', '2018-10-31',\n",
       "       '2018-11-01', '2018-11-02', '2018-11-03', '2018-11-04',\n",
       "       '2018-11-05', '2018-11-06', '2018-11-07', '2018-11-08',\n",
       "       '2018-11-09', '2018-11-10', '2018-11-11', '2018-11-12',\n",
       "       '2018-11-13', '2018-11-14', '2018-11-15', '2018-11-16',\n",
       "       '2018-11-17', '2018-11-18', '2018-11-19', '2018-11-20',\n",
       "       '2018-11-21', '2018-11-22', '2018-11-23', '2018-11-24',\n",
       "       '2018-11-25', '2018-11-26', '2018-11-27', '2018-11-28',\n",
       "       '2018-11-29', '2018-11-30', '2018-12-01', '2018-12-02',\n",
       "       '2018-12-03', '2018-12-04', '2018-12-05', '2018-12-06',\n",
       "       '2018-12-07', '2018-12-08', '2018-12-09', '2018-12-10',\n",
       "       '2018-12-11', '2018-12-12', '2018-12-13', '2018-12-14',\n",
       "       '2018-12-15', '2018-12-16', '2018-12-17', '2018-12-18',\n",
       "       '2018-12-19', '2018-12-20', '2018-12-21', '2018-12-22',\n",
       "       '2018-12-23', '2018-12-24', '2018-12-25', '2018-12-26',\n",
       "       '2018-12-27', '2018-12-28', '2018-12-29', '2018-12-30',\n",
       "       '2018-12-31'], dtype=object)"
      ]
     },
     "execution_count": 20,
     "metadata": {},
     "output_type": "execute_result"
    }
   ],
   "source": [
    "# выведем уникальные значения для указанного столбца, предварительно отсортировав значения по возрастанию\n",
    "calls['call_date'].sort_values().unique()"
   ]
  },
  {
   "cell_type": "code",
   "execution_count": 21,
   "metadata": {},
   "outputs": [
    {
     "data": {
      "text/html": [
       "<div>\n",
       "<style scoped>\n",
       "    .dataframe tbody tr th:only-of-type {\n",
       "        vertical-align: middle;\n",
       "    }\n",
       "\n",
       "    .dataframe tbody tr th {\n",
       "        vertical-align: top;\n",
       "    }\n",
       "\n",
       "    .dataframe thead th {\n",
       "        text-align: right;\n",
       "    }\n",
       "</style>\n",
       "<table border=\"1\" class=\"dataframe\">\n",
       "  <thead>\n",
       "    <tr style=\"text-align: right;\">\n",
       "      <th></th>\n",
       "      <th>user_id</th>\n",
       "    </tr>\n",
       "  </thead>\n",
       "  <tbody>\n",
       "    <tr>\n",
       "      <td>count</td>\n",
       "      <td>123036.000000</td>\n",
       "    </tr>\n",
       "    <tr>\n",
       "      <td>mean</td>\n",
       "      <td>1256.989410</td>\n",
       "    </tr>\n",
       "    <tr>\n",
       "      <td>std</td>\n",
       "      <td>143.523967</td>\n",
       "    </tr>\n",
       "    <tr>\n",
       "      <td>min</td>\n",
       "      <td>1000.000000</td>\n",
       "    </tr>\n",
       "    <tr>\n",
       "      <td>25%</td>\n",
       "      <td>1134.000000</td>\n",
       "    </tr>\n",
       "    <tr>\n",
       "      <td>50%</td>\n",
       "      <td>1271.000000</td>\n",
       "    </tr>\n",
       "    <tr>\n",
       "      <td>75%</td>\n",
       "      <td>1381.000000</td>\n",
       "    </tr>\n",
       "    <tr>\n",
       "      <td>max</td>\n",
       "      <td>1499.000000</td>\n",
       "    </tr>\n",
       "  </tbody>\n",
       "</table>\n",
       "</div>"
      ],
      "text/plain": [
       "             user_id\n",
       "count  123036.000000\n",
       "mean     1256.989410\n",
       "std       143.523967\n",
       "min      1000.000000\n",
       "25%      1134.000000\n",
       "50%      1271.000000\n",
       "75%      1381.000000\n",
       "max      1499.000000"
      ]
     },
     "execution_count": 21,
     "metadata": {},
     "output_type": "execute_result"
    }
   ],
   "source": [
    "# получим описательную статистику для количественных переменных\n",
    "messages.describe()"
   ]
  },
  {
   "cell_type": "code",
   "execution_count": 22,
   "metadata": {},
   "outputs": [
    {
     "data": {
      "text/plain": [
       "array(['2018-01-02', '2018-01-03', '2018-01-04', '2018-01-05',\n",
       "       '2018-01-06', '2018-01-07', '2018-01-08', '2018-01-09',\n",
       "       '2018-01-10', '2018-01-11', '2018-01-12', '2018-01-13',\n",
       "       '2018-01-14', '2018-01-15', '2018-01-16', '2018-01-17',\n",
       "       '2018-01-18', '2018-01-19', '2018-01-20', '2018-01-21',\n",
       "       '2018-01-22', '2018-01-23', '2018-01-24', '2018-01-25',\n",
       "       '2018-01-26', '2018-01-27', '2018-01-28', '2018-01-29',\n",
       "       '2018-01-30', '2018-01-31', '2018-02-01', '2018-02-02',\n",
       "       '2018-02-03', '2018-02-04', '2018-02-05', '2018-02-06',\n",
       "       '2018-02-07', '2018-02-08', '2018-02-09', '2018-02-10',\n",
       "       '2018-02-11', '2018-02-12', '2018-02-13', '2018-02-14',\n",
       "       '2018-02-15', '2018-02-16', '2018-02-17', '2018-02-18',\n",
       "       '2018-02-19', '2018-02-20', '2018-02-21', '2018-02-22',\n",
       "       '2018-02-23', '2018-02-24', '2018-02-25', '2018-02-26',\n",
       "       '2018-02-27', '2018-02-28', '2018-03-01', '2018-03-02',\n",
       "       '2018-03-03', '2018-03-04', '2018-03-05', '2018-03-06',\n",
       "       '2018-03-07', '2018-03-08', '2018-03-09', '2018-03-10',\n",
       "       '2018-03-11', '2018-03-12', '2018-03-13', '2018-03-14',\n",
       "       '2018-03-15', '2018-03-16', '2018-03-17', '2018-03-18',\n",
       "       '2018-03-19', '2018-03-20', '2018-03-21', '2018-03-22',\n",
       "       '2018-03-23', '2018-03-24', '2018-03-25', '2018-03-26',\n",
       "       '2018-03-27', '2018-03-28', '2018-03-29', '2018-03-30',\n",
       "       '2018-03-31', '2018-04-01', '2018-04-02', '2018-04-03',\n",
       "       '2018-04-04', '2018-04-05', '2018-04-06', '2018-04-07',\n",
       "       '2018-04-08', '2018-04-09', '2018-04-10', '2018-04-11',\n",
       "       '2018-04-12', '2018-04-13', '2018-04-14', '2018-04-15',\n",
       "       '2018-04-16', '2018-04-17', '2018-04-18', '2018-04-19',\n",
       "       '2018-04-20', '2018-04-21', '2018-04-22', '2018-04-23',\n",
       "       '2018-04-24', '2018-04-25', '2018-04-26', '2018-04-27',\n",
       "       '2018-04-28', '2018-04-29', '2018-04-30', '2018-05-01',\n",
       "       '2018-05-02', '2018-05-03', '2018-05-04', '2018-05-05',\n",
       "       '2018-05-06', '2018-05-07', '2018-05-08', '2018-05-09',\n",
       "       '2018-05-10', '2018-05-11', '2018-05-12', '2018-05-13',\n",
       "       '2018-05-14', '2018-05-15', '2018-05-16', '2018-05-17',\n",
       "       '2018-05-18', '2018-05-19', '2018-05-20', '2018-05-21',\n",
       "       '2018-05-22', '2018-05-23', '2018-05-24', '2018-05-25',\n",
       "       '2018-05-26', '2018-05-27', '2018-05-28', '2018-05-29',\n",
       "       '2018-05-30', '2018-05-31', '2018-06-01', '2018-06-02',\n",
       "       '2018-06-03', '2018-06-04', '2018-06-05', '2018-06-06',\n",
       "       '2018-06-07', '2018-06-08', '2018-06-09', '2018-06-10',\n",
       "       '2018-06-11', '2018-06-12', '2018-06-13', '2018-06-14',\n",
       "       '2018-06-15', '2018-06-16', '2018-06-17', '2018-06-18',\n",
       "       '2018-06-19', '2018-06-20', '2018-06-21', '2018-06-22',\n",
       "       '2018-06-23', '2018-06-24', '2018-06-25', '2018-06-26',\n",
       "       '2018-06-27', '2018-06-28', '2018-06-29', '2018-06-30',\n",
       "       '2018-07-01', '2018-07-02', '2018-07-03', '2018-07-04',\n",
       "       '2018-07-05', '2018-07-06', '2018-07-07', '2018-07-08',\n",
       "       '2018-07-09', '2018-07-10', '2018-07-11', '2018-07-12',\n",
       "       '2018-07-13', '2018-07-14', '2018-07-15', '2018-07-16',\n",
       "       '2018-07-17', '2018-07-18', '2018-07-19', '2018-07-20',\n",
       "       '2018-07-21', '2018-07-22', '2018-07-23', '2018-07-24',\n",
       "       '2018-07-25', '2018-07-26', '2018-07-27', '2018-07-28',\n",
       "       '2018-07-29', '2018-07-30', '2018-07-31', '2018-08-01',\n",
       "       '2018-08-02', '2018-08-03', '2018-08-04', '2018-08-05',\n",
       "       '2018-08-06', '2018-08-07', '2018-08-08', '2018-08-09',\n",
       "       '2018-08-10', '2018-08-11', '2018-08-12', '2018-08-13',\n",
       "       '2018-08-14', '2018-08-15', '2018-08-16', '2018-08-17',\n",
       "       '2018-08-18', '2018-08-19', '2018-08-20', '2018-08-21',\n",
       "       '2018-08-22', '2018-08-23', '2018-08-24', '2018-08-25',\n",
       "       '2018-08-26', '2018-08-27', '2018-08-28', '2018-08-29',\n",
       "       '2018-08-30', '2018-08-31', '2018-09-01', '2018-09-02',\n",
       "       '2018-09-03', '2018-09-04', '2018-09-05', '2018-09-06',\n",
       "       '2018-09-07', '2018-09-08', '2018-09-09', '2018-09-10',\n",
       "       '2018-09-11', '2018-09-12', '2018-09-13', '2018-09-14',\n",
       "       '2018-09-15', '2018-09-16', '2018-09-17', '2018-09-18',\n",
       "       '2018-09-19', '2018-09-20', '2018-09-21', '2018-09-22',\n",
       "       '2018-09-23', '2018-09-24', '2018-09-25', '2018-09-26',\n",
       "       '2018-09-27', '2018-09-28', '2018-09-29', '2018-09-30',\n",
       "       '2018-10-01', '2018-10-02', '2018-10-03', '2018-10-04',\n",
       "       '2018-10-05', '2018-10-06', '2018-10-07', '2018-10-08',\n",
       "       '2018-10-09', '2018-10-10', '2018-10-11', '2018-10-12',\n",
       "       '2018-10-13', '2018-10-14', '2018-10-15', '2018-10-16',\n",
       "       '2018-10-17', '2018-10-18', '2018-10-19', '2018-10-20',\n",
       "       '2018-10-21', '2018-10-22', '2018-10-23', '2018-10-24',\n",
       "       '2018-10-25', '2018-10-26', '2018-10-27', '2018-10-28',\n",
       "       '2018-10-29', '2018-10-30', '2018-10-31', '2018-11-01',\n",
       "       '2018-11-02', '2018-11-03', '2018-11-04', '2018-11-05',\n",
       "       '2018-11-06', '2018-11-07', '2018-11-08', '2018-11-09',\n",
       "       '2018-11-10', '2018-11-11', '2018-11-12', '2018-11-13',\n",
       "       '2018-11-14', '2018-11-15', '2018-11-16', '2018-11-17',\n",
       "       '2018-11-18', '2018-11-19', '2018-11-20', '2018-11-21',\n",
       "       '2018-11-22', '2018-11-23', '2018-11-24', '2018-11-25',\n",
       "       '2018-11-26', '2018-11-27', '2018-11-28', '2018-11-29',\n",
       "       '2018-11-30', '2018-12-01', '2018-12-02', '2018-12-03',\n",
       "       '2018-12-04', '2018-12-05', '2018-12-06', '2018-12-07',\n",
       "       '2018-12-08', '2018-12-09', '2018-12-10', '2018-12-11',\n",
       "       '2018-12-12', '2018-12-13', '2018-12-14', '2018-12-15',\n",
       "       '2018-12-16', '2018-12-17', '2018-12-18', '2018-12-19',\n",
       "       '2018-12-20', '2018-12-21', '2018-12-22', '2018-12-23',\n",
       "       '2018-12-24', '2018-12-25', '2018-12-26', '2018-12-27',\n",
       "       '2018-12-28', '2018-12-29', '2018-12-30', '2018-12-31'],\n",
       "      dtype=object)"
      ]
     },
     "execution_count": 22,
     "metadata": {},
     "output_type": "execute_result"
    }
   ],
   "source": [
    "# выведем уникальные значения для указанного столбца, предварительно отсортировав значения по возрастанию\n",
    "messages['message_date'].sort_values().unique()"
   ]
  },
  {
   "cell_type": "code",
   "execution_count": 23,
   "metadata": {},
   "outputs": [
    {
     "data": {
      "text/html": [
       "<div>\n",
       "<style scoped>\n",
       "    .dataframe tbody tr th:only-of-type {\n",
       "        vertical-align: middle;\n",
       "    }\n",
       "\n",
       "    .dataframe tbody tr th {\n",
       "        vertical-align: top;\n",
       "    }\n",
       "\n",
       "    .dataframe thead th {\n",
       "        text-align: right;\n",
       "    }\n",
       "</style>\n",
       "<table border=\"1\" class=\"dataframe\">\n",
       "  <thead>\n",
       "    <tr style=\"text-align: right;\">\n",
       "      <th></th>\n",
       "      <th>Unnamed: 0</th>\n",
       "      <th>mb_used</th>\n",
       "      <th>user_id</th>\n",
       "    </tr>\n",
       "  </thead>\n",
       "  <tbody>\n",
       "    <tr>\n",
       "      <td>count</td>\n",
       "      <td>149396.000000</td>\n",
       "      <td>149396.000000</td>\n",
       "      <td>149396.000000</td>\n",
       "    </tr>\n",
       "    <tr>\n",
       "      <td>mean</td>\n",
       "      <td>74697.500000</td>\n",
       "      <td>370.192426</td>\n",
       "      <td>1252.099842</td>\n",
       "    </tr>\n",
       "    <tr>\n",
       "      <td>std</td>\n",
       "      <td>43127.054745</td>\n",
       "      <td>278.300951</td>\n",
       "      <td>144.050823</td>\n",
       "    </tr>\n",
       "    <tr>\n",
       "      <td>min</td>\n",
       "      <td>0.000000</td>\n",
       "      <td>0.000000</td>\n",
       "      <td>1000.000000</td>\n",
       "    </tr>\n",
       "    <tr>\n",
       "      <td>25%</td>\n",
       "      <td>37348.750000</td>\n",
       "      <td>138.187500</td>\n",
       "      <td>1130.000000</td>\n",
       "    </tr>\n",
       "    <tr>\n",
       "      <td>50%</td>\n",
       "      <td>74697.500000</td>\n",
       "      <td>348.015000</td>\n",
       "      <td>1251.000000</td>\n",
       "    </tr>\n",
       "    <tr>\n",
       "      <td>75%</td>\n",
       "      <td>112046.250000</td>\n",
       "      <td>559.552500</td>\n",
       "      <td>1380.000000</td>\n",
       "    </tr>\n",
       "    <tr>\n",
       "      <td>max</td>\n",
       "      <td>149395.000000</td>\n",
       "      <td>1724.830000</td>\n",
       "      <td>1499.000000</td>\n",
       "    </tr>\n",
       "  </tbody>\n",
       "</table>\n",
       "</div>"
      ],
      "text/plain": [
       "          Unnamed: 0        mb_used        user_id\n",
       "count  149396.000000  149396.000000  149396.000000\n",
       "mean    74697.500000     370.192426    1252.099842\n",
       "std     43127.054745     278.300951     144.050823\n",
       "min         0.000000       0.000000    1000.000000\n",
       "25%     37348.750000     138.187500    1130.000000\n",
       "50%     74697.500000     348.015000    1251.000000\n",
       "75%    112046.250000     559.552500    1380.000000\n",
       "max    149395.000000    1724.830000    1499.000000"
      ]
     },
     "execution_count": 23,
     "metadata": {},
     "output_type": "execute_result"
    }
   ],
   "source": [
    "# получим описательную статистику для количественных переменных\n",
    "internet.describe()"
   ]
  },
  {
   "cell_type": "code",
   "execution_count": 24,
   "metadata": {},
   "outputs": [
    {
     "data": {
      "text/plain": [
       "array(['2018-01-01', '2018-01-02', '2018-01-03', '2018-01-04',\n",
       "       '2018-01-05', '2018-01-06', '2018-01-07', '2018-01-08',\n",
       "       '2018-01-09', '2018-01-10', '2018-01-11', '2018-01-12',\n",
       "       '2018-01-13', '2018-01-14', '2018-01-15', '2018-01-16',\n",
       "       '2018-01-17', '2018-01-18', '2018-01-19', '2018-01-20',\n",
       "       '2018-01-21', '2018-01-22', '2018-01-23', '2018-01-24',\n",
       "       '2018-01-25', '2018-01-26', '2018-01-27', '2018-01-28',\n",
       "       '2018-01-29', '2018-01-30', '2018-01-31', '2018-02-01',\n",
       "       '2018-02-02', '2018-02-03', '2018-02-04', '2018-02-05',\n",
       "       '2018-02-06', '2018-02-07', '2018-02-08', '2018-02-09',\n",
       "       '2018-02-10', '2018-02-11', '2018-02-12', '2018-02-13',\n",
       "       '2018-02-14', '2018-02-15', '2018-02-16', '2018-02-17',\n",
       "       '2018-02-18', '2018-02-19', '2018-02-20', '2018-02-21',\n",
       "       '2018-02-22', '2018-02-23', '2018-02-24', '2018-02-25',\n",
       "       '2018-02-26', '2018-02-27', '2018-02-28', '2018-03-01',\n",
       "       '2018-03-02', '2018-03-03', '2018-03-04', '2018-03-05',\n",
       "       '2018-03-06', '2018-03-07', '2018-03-08', '2018-03-09',\n",
       "       '2018-03-10', '2018-03-11', '2018-03-12', '2018-03-13',\n",
       "       '2018-03-14', '2018-03-15', '2018-03-16', '2018-03-17',\n",
       "       '2018-03-18', '2018-03-19', '2018-03-20', '2018-03-21',\n",
       "       '2018-03-22', '2018-03-23', '2018-03-24', '2018-03-25',\n",
       "       '2018-03-26', '2018-03-27', '2018-03-28', '2018-03-29',\n",
       "       '2018-03-30', '2018-03-31', '2018-04-01', '2018-04-02',\n",
       "       '2018-04-03', '2018-04-04', '2018-04-05', '2018-04-06',\n",
       "       '2018-04-07', '2018-04-08', '2018-04-09', '2018-04-10',\n",
       "       '2018-04-11', '2018-04-12', '2018-04-13', '2018-04-14',\n",
       "       '2018-04-15', '2018-04-16', '2018-04-17', '2018-04-18',\n",
       "       '2018-04-19', '2018-04-20', '2018-04-21', '2018-04-22',\n",
       "       '2018-04-23', '2018-04-24', '2018-04-25', '2018-04-26',\n",
       "       '2018-04-27', '2018-04-28', '2018-04-29', '2018-04-30',\n",
       "       '2018-05-01', '2018-05-02', '2018-05-03', '2018-05-04',\n",
       "       '2018-05-05', '2018-05-06', '2018-05-07', '2018-05-08',\n",
       "       '2018-05-09', '2018-05-10', '2018-05-11', '2018-05-12',\n",
       "       '2018-05-13', '2018-05-14', '2018-05-15', '2018-05-16',\n",
       "       '2018-05-17', '2018-05-18', '2018-05-19', '2018-05-20',\n",
       "       '2018-05-21', '2018-05-22', '2018-05-23', '2018-05-24',\n",
       "       '2018-05-25', '2018-05-26', '2018-05-27', '2018-05-28',\n",
       "       '2018-05-29', '2018-05-30', '2018-05-31', '2018-06-01',\n",
       "       '2018-06-02', '2018-06-03', '2018-06-04', '2018-06-05',\n",
       "       '2018-06-06', '2018-06-07', '2018-06-08', '2018-06-09',\n",
       "       '2018-06-10', '2018-06-11', '2018-06-12', '2018-06-13',\n",
       "       '2018-06-14', '2018-06-15', '2018-06-16', '2018-06-17',\n",
       "       '2018-06-18', '2018-06-19', '2018-06-20', '2018-06-21',\n",
       "       '2018-06-22', '2018-06-23', '2018-06-24', '2018-06-25',\n",
       "       '2018-06-26', '2018-06-27', '2018-06-28', '2018-06-29',\n",
       "       '2018-06-30', '2018-07-01', '2018-07-02', '2018-07-03',\n",
       "       '2018-07-04', '2018-07-05', '2018-07-06', '2018-07-07',\n",
       "       '2018-07-08', '2018-07-09', '2018-07-10', '2018-07-11',\n",
       "       '2018-07-12', '2018-07-13', '2018-07-14', '2018-07-15',\n",
       "       '2018-07-16', '2018-07-17', '2018-07-18', '2018-07-19',\n",
       "       '2018-07-20', '2018-07-21', '2018-07-22', '2018-07-23',\n",
       "       '2018-07-24', '2018-07-25', '2018-07-26', '2018-07-27',\n",
       "       '2018-07-28', '2018-07-29', '2018-07-30', '2018-07-31',\n",
       "       '2018-08-01', '2018-08-02', '2018-08-03', '2018-08-04',\n",
       "       '2018-08-05', '2018-08-06', '2018-08-07', '2018-08-08',\n",
       "       '2018-08-09', '2018-08-10', '2018-08-11', '2018-08-12',\n",
       "       '2018-08-13', '2018-08-14', '2018-08-15', '2018-08-16',\n",
       "       '2018-08-17', '2018-08-18', '2018-08-19', '2018-08-20',\n",
       "       '2018-08-21', '2018-08-22', '2018-08-23', '2018-08-24',\n",
       "       '2018-08-25', '2018-08-26', '2018-08-27', '2018-08-28',\n",
       "       '2018-08-29', '2018-08-30', '2018-08-31', '2018-09-01',\n",
       "       '2018-09-02', '2018-09-03', '2018-09-04', '2018-09-05',\n",
       "       '2018-09-06', '2018-09-07', '2018-09-08', '2018-09-09',\n",
       "       '2018-09-10', '2018-09-11', '2018-09-12', '2018-09-13',\n",
       "       '2018-09-14', '2018-09-15', '2018-09-16', '2018-09-17',\n",
       "       '2018-09-18', '2018-09-19', '2018-09-20', '2018-09-21',\n",
       "       '2018-09-22', '2018-09-23', '2018-09-24', '2018-09-25',\n",
       "       '2018-09-26', '2018-09-27', '2018-09-28', '2018-09-29',\n",
       "       '2018-09-30', '2018-10-01', '2018-10-02', '2018-10-03',\n",
       "       '2018-10-04', '2018-10-05', '2018-10-06', '2018-10-07',\n",
       "       '2018-10-08', '2018-10-09', '2018-10-10', '2018-10-11',\n",
       "       '2018-10-12', '2018-10-13', '2018-10-14', '2018-10-15',\n",
       "       '2018-10-16', '2018-10-17', '2018-10-18', '2018-10-19',\n",
       "       '2018-10-20', '2018-10-21', '2018-10-22', '2018-10-23',\n",
       "       '2018-10-24', '2018-10-25', '2018-10-26', '2018-10-27',\n",
       "       '2018-10-28', '2018-10-29', '2018-10-30', '2018-10-31',\n",
       "       '2018-11-01', '2018-11-02', '2018-11-03', '2018-11-04',\n",
       "       '2018-11-05', '2018-11-06', '2018-11-07', '2018-11-08',\n",
       "       '2018-11-09', '2018-11-10', '2018-11-11', '2018-11-12',\n",
       "       '2018-11-13', '2018-11-14', '2018-11-15', '2018-11-16',\n",
       "       '2018-11-17', '2018-11-18', '2018-11-19', '2018-11-20',\n",
       "       '2018-11-21', '2018-11-22', '2018-11-23', '2018-11-24',\n",
       "       '2018-11-25', '2018-11-26', '2018-11-27', '2018-11-28',\n",
       "       '2018-11-29', '2018-11-30', '2018-12-01', '2018-12-02',\n",
       "       '2018-12-03', '2018-12-04', '2018-12-05', '2018-12-06',\n",
       "       '2018-12-07', '2018-12-08', '2018-12-09', '2018-12-10',\n",
       "       '2018-12-11', '2018-12-12', '2018-12-13', '2018-12-14',\n",
       "       '2018-12-15', '2018-12-16', '2018-12-17', '2018-12-18',\n",
       "       '2018-12-19', '2018-12-20', '2018-12-21', '2018-12-22',\n",
       "       '2018-12-23', '2018-12-24', '2018-12-25', '2018-12-26',\n",
       "       '2018-12-27', '2018-12-28', '2018-12-29', '2018-12-30',\n",
       "       '2018-12-31'], dtype=object)"
      ]
     },
     "execution_count": 24,
     "metadata": {},
     "output_type": "execute_result"
    }
   ],
   "source": [
    "# выведем уникальные значения для указанного столбца, предварительно отсортировав значения по возрастанию\n",
    "internet['session_date'].sort_values().unique()"
   ]
  },
  {
   "cell_type": "markdown",
   "metadata": {},
   "source": [
    "<div style=\"border:solid green 3px; padding: 20px\">\n",
    "    \n",
    "В датафрейме internet в столбце `mb_used` имеются нулевые значения, возможно это интернет-сессии с неудачной попыткой соединения (для уточнения данного предположения лучше обратиться к заказчику исследования), поэтому оставим данные значения в исходном виде. В датафрейме calls в столбце `duration` из постановки задачи следует, что нулями обозначены пропущенные звонки, поэтому их также оставим в исходном виде. В остальных датафреймах неявные пропуски не обнаружены."
   ]
  },
  {
   "cell_type": "markdown",
   "metadata": {},
   "source": [
    "### Поиск дубликатов"
   ]
  },
  {
   "cell_type": "markdown",
   "metadata": {},
   "source": [
    "<div class=\"alert alert-block alert-info\">\n",
    "<font color='Black'>\n",
    "    \n",
    "На основании исследования, проведенном на шаге 2.1 можно сделать вывод, что в столбцах рассматриваемых датафреймов неявные дубликаты отсутствуют. Проверим датафреймы на наличие явных дубликатов.    "
   ]
  },
  {
   "cell_type": "code",
   "execution_count": 25,
   "metadata": {},
   "outputs": [
    {
     "data": {
      "text/plain": [
       "0"
      ]
     },
     "execution_count": 25,
     "metadata": {},
     "output_type": "execute_result"
    }
   ],
   "source": [
    "# используем метод duplicated(), с помощью функции sum() найдем сумму элементов в полученном series \n",
    "users.duplicated().sum()"
   ]
  },
  {
   "cell_type": "code",
   "execution_count": 26,
   "metadata": {},
   "outputs": [
    {
     "data": {
      "text/plain": [
       "0"
      ]
     },
     "execution_count": 26,
     "metadata": {},
     "output_type": "execute_result"
    }
   ],
   "source": [
    "# используем метод duplicated(), с помощью функции sum() найдем сумму элементов в полученном series \n",
    "calls.duplicated().sum()"
   ]
  },
  {
   "cell_type": "code",
   "execution_count": 27,
   "metadata": {},
   "outputs": [
    {
     "data": {
      "text/plain": [
       "0"
      ]
     },
     "execution_count": 27,
     "metadata": {},
     "output_type": "execute_result"
    }
   ],
   "source": [
    "# используем метод duplicated(), с помощью функции sum() найдем сумму элементов в полученном series \n",
    "messages.duplicated().sum()"
   ]
  },
  {
   "cell_type": "code",
   "execution_count": 28,
   "metadata": {},
   "outputs": [
    {
     "data": {
      "text/plain": [
       "0"
      ]
     },
     "execution_count": 28,
     "metadata": {},
     "output_type": "execute_result"
    }
   ],
   "source": [
    "# используем метод duplicated(), с помощью функции sum() найдем сумму элементов в полученном series \n",
    "internet.duplicated().sum()"
   ]
  },
  {
   "cell_type": "markdown",
   "metadata": {},
   "source": [
    "<div style=\"border:solid green 3px; padding: 20px\">\n",
    "    \n",
    "В исходных датафреймах явные и неявные дубликаты не обнаружены.    "
   ]
  },
  {
   "cell_type": "markdown",
   "metadata": {},
   "source": [
    "### Изменение типов данных и исправление ошибок"
   ]
  },
  {
   "cell_type": "markdown",
   "metadata": {},
   "source": [
    "<div class=\"alert alert-block alert-info\">\n",
    "<font color='Black'>\n",
    "    \n",
    "В исходных датафреймах преобразуем столбцы, содержащие даты, к специальному типу даты: \n",
    "- users - столбец `reg_date` — дата подключения тарифа (день, месяц, год), столбец `churn_date` — дата прекращения пользования тарифом,\n",
    "- calls - столбец `call_date` — дата звонка,    \n",
    "- messages - столбец `message_date` — дата сообщения,    \n",
    "- internet - столбец `session_date` — дата интернет-сессии. "
   ]
  },
  {
   "cell_type": "code",
   "execution_count": 29,
   "metadata": {},
   "outputs": [],
   "source": [
    "# переведем тип данных столбцов, содержащих даты, из строкового типа в тип даты\n",
    "users['reg_date'] = pd.to_datetime(users['reg_date'],format='%Y-%m-%d')\n",
    "users['churn_date'] = pd.to_datetime(users['churn_date'],format='%Y-%m-%d')\n",
    "calls['call_date'] = pd.to_datetime(calls['call_date'],format='%Y-%m-%d')\n",
    "messages['message_date'] = pd.to_datetime(messages['message_date'],format='%Y-%m-%d')\n",
    "internet['session_date'] = pd.to_datetime(internet['session_date'],format='%Y-%m-%d')"
   ]
  },
  {
   "cell_type": "code",
   "execution_count": 30,
   "metadata": {},
   "outputs": [
    {
     "data": {
      "text/plain": [
       "0"
      ]
     },
     "execution_count": 30,
     "metadata": {},
     "output_type": "execute_result"
    }
   ],
   "source": [
    "# проверим, что в датафрейме internet в столбце Unnamed: 0 содержится индекс\n",
    "# для этого сравним построчно значение индекса со значением в столбце Unnamed: 0\n",
    "# результат сохраним в check со значениями bool, найдем сумму элементов check\n",
    "check = (internet.index != internet['Unnamed: 0'])\n",
    "check.sum()"
   ]
  },
  {
   "cell_type": "code",
   "execution_count": 31,
   "metadata": {},
   "outputs": [],
   "source": [
    "# удалим из датафрейма internet столбец Unnamed: 0\n",
    "internet = internet[['id', 'mb_used', 'session_date', 'user_id']]"
   ]
  },
  {
   "cell_type": "code",
   "execution_count": 32,
   "metadata": {},
   "outputs": [
    {
     "name": "stdout",
     "output_type": "stream",
     "text": [
      "<class 'pandas.core.frame.DataFrame'>\n",
      "RangeIndex: 149396 entries, 0 to 149395\n",
      "Data columns (total 4 columns):\n",
      "id              149396 non-null object\n",
      "mb_used         149396 non-null float64\n",
      "session_date    149396 non-null datetime64[ns]\n",
      "user_id         149396 non-null int64\n",
      "dtypes: datetime64[ns](1), float64(1), int64(1), object(1)\n",
      "memory usage: 4.6+ MB\n"
     ]
    }
   ],
   "source": [
    "internet.info()"
   ]
  },
  {
   "cell_type": "markdown",
   "metadata": {},
   "source": [
    "<div style=\"border:solid green 3px; padding: 20px\">\n",
    "    \n",
    "В исходных датафреймах преобразовали столбцы, содержащие даты, к специальному типу datetime64[ns]:\n",
    "    \n",
    "- users - столбец `reg_date` — дата подключения тарифа (день, месяц, год), столбец `churn_date` — дата прекращения пользования тарифом,\n",
    "- calls - столбец `call_date` — дата звонка,    \n",
    "- messages - столбец `message_date` — дата сообщения.    \n",
    "- internet - столбец `session_date` — дата интернет-сессии.       \n",
    "\n",
    "В датафрейме internet удалили столбец без наименования `Unnamed: 0`, в котором хранились индексы.    "
   ]
  },
  {
   "cell_type": "markdown",
   "metadata": {},
   "source": [
    "### Расчёты и агрегирование данных"
   ]
  },
  {
   "cell_type": "markdown",
   "metadata": {},
   "source": [
    "<div class=\"alert alert-block alert-info\">\n",
    "<font color='Black'>\n",
    "\n",
    "Посчитаем для каждого пользователя:\n",
    "- количество сделанных звонков и израсходованных минут разговора по месяцам;\n",
    "- количество отправленных сообщений по месяцам;\n",
    "- объем израсходованного интернет-трафика по месяцам;\n",
    "- помесячную выручку с каждого пользователя (вычтите бесплатный лимит из суммарного количества звонков, сообщений и интернет-трафика; остаток умножьте на значение из тарифного плана; прибавьте абонентскую плату, соответствующую тарифному плану).\n",
    "    \n",
    "Учтем, что «Мегалайн» всегда округляет секунды до минут, а мегабайты — до гигабайт.  \n",
    "Каждый звонок округляется отдельно: даже если он длился всего 1 секунду, будет засчитан как 1 минута.\n",
    "Для веб-трафика отдельные сессии не считаются. Вместо этого общая сумма за месяц округляется в бо́льшую сторону. Если абонент использует 1025 мегабайт в этом месяце, с него возьмут плату за 2 гигабайта.    "
   ]
  },
  {
   "cell_type": "code",
   "execution_count": 33,
   "metadata": {},
   "outputs": [],
   "source": [
    "# добавим в каждый из датафреймов calls, messages, internet столбец с номером месяца, \n",
    "# в котором произошло соответствующее действие\n",
    "calls['month'] = calls['call_date'].dt.month\n",
    "messages['month'] = messages['message_date'].dt.month\n",
    "internet['month'] = internet['session_date'].dt.month"
   ]
  },
  {
   "cell_type": "code",
   "execution_count": 34,
   "metadata": {},
   "outputs": [
    {
     "data": {
      "text/html": [
       "<div>\n",
       "<style scoped>\n",
       "    .dataframe tbody tr th:only-of-type {\n",
       "        vertical-align: middle;\n",
       "    }\n",
       "\n",
       "    .dataframe tbody tr th {\n",
       "        vertical-align: top;\n",
       "    }\n",
       "\n",
       "    .dataframe thead th {\n",
       "        text-align: right;\n",
       "    }\n",
       "</style>\n",
       "<table border=\"1\" class=\"dataframe\">\n",
       "  <thead>\n",
       "    <tr style=\"text-align: right;\">\n",
       "      <th></th>\n",
       "      <th>user_id</th>\n",
       "      <th>month</th>\n",
       "      <th>count_of_calls</th>\n",
       "      <th>duration_month</th>\n",
       "    </tr>\n",
       "  </thead>\n",
       "  <tbody>\n",
       "    <tr>\n",
       "      <td>0</td>\n",
       "      <td>1000</td>\n",
       "      <td>5</td>\n",
       "      <td>22</td>\n",
       "      <td>159</td>\n",
       "    </tr>\n",
       "    <tr>\n",
       "      <td>1</td>\n",
       "      <td>1000</td>\n",
       "      <td>6</td>\n",
       "      <td>43</td>\n",
       "      <td>172</td>\n",
       "    </tr>\n",
       "    <tr>\n",
       "      <td>2</td>\n",
       "      <td>1000</td>\n",
       "      <td>7</td>\n",
       "      <td>47</td>\n",
       "      <td>340</td>\n",
       "    </tr>\n",
       "    <tr>\n",
       "      <td>3</td>\n",
       "      <td>1000</td>\n",
       "      <td>8</td>\n",
       "      <td>52</td>\n",
       "      <td>408</td>\n",
       "    </tr>\n",
       "    <tr>\n",
       "      <td>4</td>\n",
       "      <td>1000</td>\n",
       "      <td>9</td>\n",
       "      <td>58</td>\n",
       "      <td>466</td>\n",
       "    </tr>\n",
       "    <tr>\n",
       "      <td>...</td>\n",
       "      <td>...</td>\n",
       "      <td>...</td>\n",
       "      <td>...</td>\n",
       "      <td>...</td>\n",
       "    </tr>\n",
       "    <tr>\n",
       "      <td>3169</td>\n",
       "      <td>1498</td>\n",
       "      <td>10</td>\n",
       "      <td>41</td>\n",
       "      <td>247</td>\n",
       "    </tr>\n",
       "    <tr>\n",
       "      <td>3170</td>\n",
       "      <td>1499</td>\n",
       "      <td>9</td>\n",
       "      <td>9</td>\n",
       "      <td>70</td>\n",
       "    </tr>\n",
       "    <tr>\n",
       "      <td>3171</td>\n",
       "      <td>1499</td>\n",
       "      <td>10</td>\n",
       "      <td>68</td>\n",
       "      <td>449</td>\n",
       "    </tr>\n",
       "    <tr>\n",
       "      <td>3172</td>\n",
       "      <td>1499</td>\n",
       "      <td>11</td>\n",
       "      <td>74</td>\n",
       "      <td>612</td>\n",
       "    </tr>\n",
       "    <tr>\n",
       "      <td>3173</td>\n",
       "      <td>1499</td>\n",
       "      <td>12</td>\n",
       "      <td>69</td>\n",
       "      <td>492</td>\n",
       "    </tr>\n",
       "  </tbody>\n",
       "</table>\n",
       "<p>3174 rows × 4 columns</p>\n",
       "</div>"
      ],
      "text/plain": [
       "      user_id  month  count_of_calls  duration_month\n",
       "0        1000      5              22             159\n",
       "1        1000      6              43             172\n",
       "2        1000      7              47             340\n",
       "3        1000      8              52             408\n",
       "4        1000      9              58             466\n",
       "...       ...    ...             ...             ...\n",
       "3169     1498     10              41             247\n",
       "3170     1499      9               9              70\n",
       "3171     1499     10              68             449\n",
       "3172     1499     11              74             612\n",
       "3173     1499     12              69             492\n",
       "\n",
       "[3174 rows x 4 columns]"
      ]
     },
     "execution_count": 34,
     "metadata": {},
     "output_type": "execute_result"
    }
   ],
   "source": [
    "# добавим в датафрейм calls столбец duration_round с округленной вверх продолжительностью звонка\n",
    "# и приведем значения в duration_round к целочисленному типу\n",
    "calls['duration_round'] = np.ceil(calls['duration'])\n",
    "calls['duration_round'] = calls['duration_round'].astype('int')\n",
    "\n",
    "# построим сводную таблицу для calls, сгруппируем по user_id и по month значения столбца duration_round \n",
    "# и посчитаем количество сделанных звонков и израсходованных минут разговора\n",
    "# сбросим индексы и добавим новый столбец с индексами в сводную таблицу\n",
    "calls_pivot = (calls.pivot_table(index=['user_id', 'month'], values='duration_round', aggfunc=['count','sum'])\n",
    "                    .reset_index())\n",
    "\n",
    "# переименуем столбцы в calls_pivot для удобства дальнейшего использования\n",
    "calls_pivot.columns = ['user_id', 'month', 'count_of_calls', 'duration_month']\n",
    "calls_pivot"
   ]
  },
  {
   "cell_type": "code",
   "execution_count": 35,
   "metadata": {},
   "outputs": [
    {
     "data": {
      "text/html": [
       "<div>\n",
       "<style scoped>\n",
       "    .dataframe tbody tr th:only-of-type {\n",
       "        vertical-align: middle;\n",
       "    }\n",
       "\n",
       "    .dataframe tbody tr th {\n",
       "        vertical-align: top;\n",
       "    }\n",
       "\n",
       "    .dataframe thead th {\n",
       "        text-align: right;\n",
       "    }\n",
       "</style>\n",
       "<table border=\"1\" class=\"dataframe\">\n",
       "  <thead>\n",
       "    <tr style=\"text-align: right;\">\n",
       "      <th></th>\n",
       "      <th>user_id</th>\n",
       "      <th>month</th>\n",
       "      <th>count_of_messages</th>\n",
       "    </tr>\n",
       "  </thead>\n",
       "  <tbody>\n",
       "    <tr>\n",
       "      <td>0</td>\n",
       "      <td>1000</td>\n",
       "      <td>5</td>\n",
       "      <td>22</td>\n",
       "    </tr>\n",
       "    <tr>\n",
       "      <td>1</td>\n",
       "      <td>1000</td>\n",
       "      <td>6</td>\n",
       "      <td>60</td>\n",
       "    </tr>\n",
       "    <tr>\n",
       "      <td>2</td>\n",
       "      <td>1000</td>\n",
       "      <td>7</td>\n",
       "      <td>75</td>\n",
       "    </tr>\n",
       "    <tr>\n",
       "      <td>3</td>\n",
       "      <td>1000</td>\n",
       "      <td>8</td>\n",
       "      <td>81</td>\n",
       "    </tr>\n",
       "    <tr>\n",
       "      <td>4</td>\n",
       "      <td>1000</td>\n",
       "      <td>9</td>\n",
       "      <td>57</td>\n",
       "    </tr>\n",
       "    <tr>\n",
       "      <td>...</td>\n",
       "      <td>...</td>\n",
       "      <td>...</td>\n",
       "      <td>...</td>\n",
       "    </tr>\n",
       "    <tr>\n",
       "      <td>2712</td>\n",
       "      <td>1498</td>\n",
       "      <td>10</td>\n",
       "      <td>42</td>\n",
       "    </tr>\n",
       "    <tr>\n",
       "      <td>2713</td>\n",
       "      <td>1499</td>\n",
       "      <td>9</td>\n",
       "      <td>11</td>\n",
       "    </tr>\n",
       "    <tr>\n",
       "      <td>2714</td>\n",
       "      <td>1499</td>\n",
       "      <td>10</td>\n",
       "      <td>48</td>\n",
       "    </tr>\n",
       "    <tr>\n",
       "      <td>2715</td>\n",
       "      <td>1499</td>\n",
       "      <td>11</td>\n",
       "      <td>59</td>\n",
       "    </tr>\n",
       "    <tr>\n",
       "      <td>2716</td>\n",
       "      <td>1499</td>\n",
       "      <td>12</td>\n",
       "      <td>66</td>\n",
       "    </tr>\n",
       "  </tbody>\n",
       "</table>\n",
       "<p>2717 rows × 3 columns</p>\n",
       "</div>"
      ],
      "text/plain": [
       "      user_id  month  count_of_messages\n",
       "0        1000      5                 22\n",
       "1        1000      6                 60\n",
       "2        1000      7                 75\n",
       "3        1000      8                 81\n",
       "4        1000      9                 57\n",
       "...       ...    ...                ...\n",
       "2712     1498     10                 42\n",
       "2713     1499      9                 11\n",
       "2714     1499     10                 48\n",
       "2715     1499     11                 59\n",
       "2716     1499     12                 66\n",
       "\n",
       "[2717 rows x 3 columns]"
      ]
     },
     "execution_count": 35,
     "metadata": {},
     "output_type": "execute_result"
    }
   ],
   "source": [
    "# построим сводную таблицу для messages, сгруппируем по user_id и по month значения столбца id \n",
    "# и посчитаем количество отправленных сообщений за месяц\n",
    "# сбросим индексы и добавим новый столбец с индексами в сводную таблицу\n",
    "messages_pivot = (messages.pivot_table(index=['user_id', 'month'], values='id', aggfunc='count')\n",
    "                    .reset_index())\n",
    "\n",
    "# переименуем столбцы в messages_pivot для удобства дальнейшего использования\n",
    "messages_pivot.columns = ['user_id', 'month', 'count_of_messages']\n",
    "messages_pivot"
   ]
  },
  {
   "cell_type": "code",
   "execution_count": 36,
   "metadata": {},
   "outputs": [
    {
     "data": {
      "text/html": [
       "<div>\n",
       "<style scoped>\n",
       "    .dataframe tbody tr th:only-of-type {\n",
       "        vertical-align: middle;\n",
       "    }\n",
       "\n",
       "    .dataframe tbody tr th {\n",
       "        vertical-align: top;\n",
       "    }\n",
       "\n",
       "    .dataframe thead th {\n",
       "        text-align: right;\n",
       "    }\n",
       "</style>\n",
       "<table border=\"1\" class=\"dataframe\">\n",
       "  <thead>\n",
       "    <tr style=\"text-align: right;\">\n",
       "      <th></th>\n",
       "      <th>user_id</th>\n",
       "      <th>month</th>\n",
       "      <th>mb_used_month</th>\n",
       "    </tr>\n",
       "  </thead>\n",
       "  <tbody>\n",
       "    <tr>\n",
       "      <td>0</td>\n",
       "      <td>1000</td>\n",
       "      <td>5</td>\n",
       "      <td>2253.49</td>\n",
       "    </tr>\n",
       "    <tr>\n",
       "      <td>1</td>\n",
       "      <td>1000</td>\n",
       "      <td>6</td>\n",
       "      <td>23233.77</td>\n",
       "    </tr>\n",
       "    <tr>\n",
       "      <td>2</td>\n",
       "      <td>1000</td>\n",
       "      <td>7</td>\n",
       "      <td>14003.64</td>\n",
       "    </tr>\n",
       "    <tr>\n",
       "      <td>3</td>\n",
       "      <td>1000</td>\n",
       "      <td>8</td>\n",
       "      <td>14055.93</td>\n",
       "    </tr>\n",
       "    <tr>\n",
       "      <td>4</td>\n",
       "      <td>1000</td>\n",
       "      <td>9</td>\n",
       "      <td>14568.91</td>\n",
       "    </tr>\n",
       "    <tr>\n",
       "      <td>...</td>\n",
       "      <td>...</td>\n",
       "      <td>...</td>\n",
       "      <td>...</td>\n",
       "    </tr>\n",
       "    <tr>\n",
       "      <td>3198</td>\n",
       "      <td>1498</td>\n",
       "      <td>10</td>\n",
       "      <td>20579.36</td>\n",
       "    </tr>\n",
       "    <tr>\n",
       "      <td>3199</td>\n",
       "      <td>1499</td>\n",
       "      <td>9</td>\n",
       "      <td>1845.75</td>\n",
       "    </tr>\n",
       "    <tr>\n",
       "      <td>3200</td>\n",
       "      <td>1499</td>\n",
       "      <td>10</td>\n",
       "      <td>17788.51</td>\n",
       "    </tr>\n",
       "    <tr>\n",
       "      <td>3201</td>\n",
       "      <td>1499</td>\n",
       "      <td>11</td>\n",
       "      <td>17963.31</td>\n",
       "    </tr>\n",
       "    <tr>\n",
       "      <td>3202</td>\n",
       "      <td>1499</td>\n",
       "      <td>12</td>\n",
       "      <td>13055.58</td>\n",
       "    </tr>\n",
       "  </tbody>\n",
       "</table>\n",
       "<p>3203 rows × 3 columns</p>\n",
       "</div>"
      ],
      "text/plain": [
       "      user_id  month  mb_used_month\n",
       "0        1000      5        2253.49\n",
       "1        1000      6       23233.77\n",
       "2        1000      7       14003.64\n",
       "3        1000      8       14055.93\n",
       "4        1000      9       14568.91\n",
       "...       ...    ...            ...\n",
       "3198     1498     10       20579.36\n",
       "3199     1499      9        1845.75\n",
       "3200     1499     10       17788.51\n",
       "3201     1499     11       17963.31\n",
       "3202     1499     12       13055.58\n",
       "\n",
       "[3203 rows x 3 columns]"
      ]
     },
     "execution_count": 36,
     "metadata": {},
     "output_type": "execute_result"
    }
   ],
   "source": [
    "# построим сводную таблицу для internet, сгруппируем по user_id и по month значения столбца mb_used \n",
    "# и посчитаем объём потраченного за месяц интернет-трафика (в мегабайтах)\n",
    "# сбросим индексы и добавим новый столбец с индексами в сводную таблицу\n",
    "internet_pivot = (internet.pivot_table(index=['user_id', 'month'], values='mb_used', aggfunc='sum')\n",
    "                    .reset_index())\n",
    "\n",
    "# переименуем столбцы в internet_pivot для удобства дальнейшего использования\n",
    "internet_pivot.columns = ['user_id', 'month', 'mb_used_month']\n",
    "internet_pivot"
   ]
  },
  {
   "cell_type": "code",
   "execution_count": 37,
   "metadata": {},
   "outputs": [
    {
     "data": {
      "text/html": [
       "<div>\n",
       "<style scoped>\n",
       "    .dataframe tbody tr th:only-of-type {\n",
       "        vertical-align: middle;\n",
       "    }\n",
       "\n",
       "    .dataframe tbody tr th {\n",
       "        vertical-align: top;\n",
       "    }\n",
       "\n",
       "    .dataframe thead th {\n",
       "        text-align: right;\n",
       "    }\n",
       "</style>\n",
       "<table border=\"1\" class=\"dataframe\">\n",
       "  <thead>\n",
       "    <tr style=\"text-align: right;\">\n",
       "      <th></th>\n",
       "      <th>user_id</th>\n",
       "      <th>month</th>\n",
       "      <th>mb_used_month</th>\n",
       "      <th>gb_used_month</th>\n",
       "    </tr>\n",
       "  </thead>\n",
       "  <tbody>\n",
       "    <tr>\n",
       "      <td>0</td>\n",
       "      <td>1000</td>\n",
       "      <td>5</td>\n",
       "      <td>2253.49</td>\n",
       "      <td>3</td>\n",
       "    </tr>\n",
       "    <tr>\n",
       "      <td>1</td>\n",
       "      <td>1000</td>\n",
       "      <td>6</td>\n",
       "      <td>23233.77</td>\n",
       "      <td>23</td>\n",
       "    </tr>\n",
       "    <tr>\n",
       "      <td>2</td>\n",
       "      <td>1000</td>\n",
       "      <td>7</td>\n",
       "      <td>14003.64</td>\n",
       "      <td>14</td>\n",
       "    </tr>\n",
       "    <tr>\n",
       "      <td>3</td>\n",
       "      <td>1000</td>\n",
       "      <td>8</td>\n",
       "      <td>14055.93</td>\n",
       "      <td>14</td>\n",
       "    </tr>\n",
       "    <tr>\n",
       "      <td>4</td>\n",
       "      <td>1000</td>\n",
       "      <td>9</td>\n",
       "      <td>14568.91</td>\n",
       "      <td>15</td>\n",
       "    </tr>\n",
       "    <tr>\n",
       "      <td>...</td>\n",
       "      <td>...</td>\n",
       "      <td>...</td>\n",
       "      <td>...</td>\n",
       "      <td>...</td>\n",
       "    </tr>\n",
       "    <tr>\n",
       "      <td>3198</td>\n",
       "      <td>1498</td>\n",
       "      <td>10</td>\n",
       "      <td>20579.36</td>\n",
       "      <td>21</td>\n",
       "    </tr>\n",
       "    <tr>\n",
       "      <td>3199</td>\n",
       "      <td>1499</td>\n",
       "      <td>9</td>\n",
       "      <td>1845.75</td>\n",
       "      <td>2</td>\n",
       "    </tr>\n",
       "    <tr>\n",
       "      <td>3200</td>\n",
       "      <td>1499</td>\n",
       "      <td>10</td>\n",
       "      <td>17788.51</td>\n",
       "      <td>18</td>\n",
       "    </tr>\n",
       "    <tr>\n",
       "      <td>3201</td>\n",
       "      <td>1499</td>\n",
       "      <td>11</td>\n",
       "      <td>17963.31</td>\n",
       "      <td>18</td>\n",
       "    </tr>\n",
       "    <tr>\n",
       "      <td>3202</td>\n",
       "      <td>1499</td>\n",
       "      <td>12</td>\n",
       "      <td>13055.58</td>\n",
       "      <td>13</td>\n",
       "    </tr>\n",
       "  </tbody>\n",
       "</table>\n",
       "<p>3203 rows × 4 columns</p>\n",
       "</div>"
      ],
      "text/plain": [
       "      user_id  month  mb_used_month  gb_used_month\n",
       "0        1000      5        2253.49              3\n",
       "1        1000      6       23233.77             23\n",
       "2        1000      7       14003.64             14\n",
       "3        1000      8       14055.93             14\n",
       "4        1000      9       14568.91             15\n",
       "...       ...    ...            ...            ...\n",
       "3198     1498     10       20579.36             21\n",
       "3199     1499      9        1845.75              2\n",
       "3200     1499     10       17788.51             18\n",
       "3201     1499     11       17963.31             18\n",
       "3202     1499     12       13055.58             13\n",
       "\n",
       "[3203 rows x 4 columns]"
      ]
     },
     "execution_count": 37,
     "metadata": {},
     "output_type": "execute_result"
    }
   ],
   "source": [
    "# определим функцию, которая на вход получает объем интернет-трафика в мегабайтах и \n",
    "# возвращает округленное значение объема трафика в бо́льшую сторону в гигабайтах, \n",
    "# поскольку в 1 гигабайте 1024 мегабайта, то будем округлять, используя целочисленное деление и \n",
    "# остаток от деления объема трафика на 1024 \n",
    "# если остаток от деления будет больше 0, то к целочисленному результату деления объема трафика на 1024 будем добавлять 1024\n",
    "\n",
    "def round_traffic(traffic):\n",
    "    if traffic % 1024 > 0:\n",
    "        return ((traffic // 1024) + 1)\n",
    "    else:\n",
    "        return (traffic // 1024)\n",
    "\n",
    "# добавим в internet_pivot столбец с округленным вверх объемом трафика за месяц\n",
    "# и приведем значения в mb_used_round к целочисленному типу\n",
    "internet_pivot['gb_used_month'] = internet_pivot['mb_used_month'].apply(round_traffic)\n",
    "internet_pivot['gb_used_month'] = internet_pivot['gb_used_month'].astype('int')\n",
    "internet_pivot"
   ]
  },
  {
   "cell_type": "code",
   "execution_count": 38,
   "metadata": {
    "scrolled": true
   },
   "outputs": [
    {
     "data": {
      "text/html": [
       "<div>\n",
       "<style scoped>\n",
       "    .dataframe tbody tr th:only-of-type {\n",
       "        vertical-align: middle;\n",
       "    }\n",
       "\n",
       "    .dataframe tbody tr th {\n",
       "        vertical-align: top;\n",
       "    }\n",
       "\n",
       "    .dataframe thead th {\n",
       "        text-align: right;\n",
       "    }\n",
       "</style>\n",
       "<table border=\"1\" class=\"dataframe\">\n",
       "  <thead>\n",
       "    <tr style=\"text-align: right;\">\n",
       "      <th></th>\n",
       "      <th>user_id</th>\n",
       "      <th>month</th>\n",
       "      <th>count_of_calls</th>\n",
       "      <th>duration_month</th>\n",
       "      <th>count_of_messages</th>\n",
       "      <th>mb_used_month</th>\n",
       "      <th>gb_used_month</th>\n",
       "      <th>city</th>\n",
       "      <th>tariff</th>\n",
       "    </tr>\n",
       "  </thead>\n",
       "  <tbody>\n",
       "    <tr>\n",
       "      <td>0</td>\n",
       "      <td>1000</td>\n",
       "      <td>5</td>\n",
       "      <td>22.0</td>\n",
       "      <td>159.0</td>\n",
       "      <td>22.0</td>\n",
       "      <td>2253.49</td>\n",
       "      <td>3.0</td>\n",
       "      <td>Краснодар</td>\n",
       "      <td>ultra</td>\n",
       "    </tr>\n",
       "    <tr>\n",
       "      <td>1</td>\n",
       "      <td>1000</td>\n",
       "      <td>6</td>\n",
       "      <td>43.0</td>\n",
       "      <td>172.0</td>\n",
       "      <td>60.0</td>\n",
       "      <td>23233.77</td>\n",
       "      <td>23.0</td>\n",
       "      <td>Краснодар</td>\n",
       "      <td>ultra</td>\n",
       "    </tr>\n",
       "    <tr>\n",
       "      <td>2</td>\n",
       "      <td>1000</td>\n",
       "      <td>7</td>\n",
       "      <td>47.0</td>\n",
       "      <td>340.0</td>\n",
       "      <td>75.0</td>\n",
       "      <td>14003.64</td>\n",
       "      <td>14.0</td>\n",
       "      <td>Краснодар</td>\n",
       "      <td>ultra</td>\n",
       "    </tr>\n",
       "    <tr>\n",
       "      <td>3</td>\n",
       "      <td>1000</td>\n",
       "      <td>8</td>\n",
       "      <td>52.0</td>\n",
       "      <td>408.0</td>\n",
       "      <td>81.0</td>\n",
       "      <td>14055.93</td>\n",
       "      <td>14.0</td>\n",
       "      <td>Краснодар</td>\n",
       "      <td>ultra</td>\n",
       "    </tr>\n",
       "    <tr>\n",
       "      <td>4</td>\n",
       "      <td>1000</td>\n",
       "      <td>9</td>\n",
       "      <td>58.0</td>\n",
       "      <td>466.0</td>\n",
       "      <td>57.0</td>\n",
       "      <td>14568.91</td>\n",
       "      <td>15.0</td>\n",
       "      <td>Краснодар</td>\n",
       "      <td>ultra</td>\n",
       "    </tr>\n",
       "    <tr>\n",
       "      <td>...</td>\n",
       "      <td>...</td>\n",
       "      <td>...</td>\n",
       "      <td>...</td>\n",
       "      <td>...</td>\n",
       "      <td>...</td>\n",
       "      <td>...</td>\n",
       "      <td>...</td>\n",
       "      <td>...</td>\n",
       "      <td>...</td>\n",
       "    </tr>\n",
       "    <tr>\n",
       "      <td>3209</td>\n",
       "      <td>1489</td>\n",
       "      <td>9</td>\n",
       "      <td>0.0</td>\n",
       "      <td>0.0</td>\n",
       "      <td>32.0</td>\n",
       "      <td>17206.30</td>\n",
       "      <td>17.0</td>\n",
       "      <td>Санкт-Петербург</td>\n",
       "      <td>smart</td>\n",
       "    </tr>\n",
       "    <tr>\n",
       "      <td>3210</td>\n",
       "      <td>1489</td>\n",
       "      <td>10</td>\n",
       "      <td>0.0</td>\n",
       "      <td>0.0</td>\n",
       "      <td>21.0</td>\n",
       "      <td>19559.44</td>\n",
       "      <td>20.0</td>\n",
       "      <td>Санкт-Петербург</td>\n",
       "      <td>smart</td>\n",
       "    </tr>\n",
       "    <tr>\n",
       "      <td>3211</td>\n",
       "      <td>1489</td>\n",
       "      <td>11</td>\n",
       "      <td>0.0</td>\n",
       "      <td>0.0</td>\n",
       "      <td>20.0</td>\n",
       "      <td>17491.56</td>\n",
       "      <td>18.0</td>\n",
       "      <td>Санкт-Петербург</td>\n",
       "      <td>smart</td>\n",
       "    </tr>\n",
       "    <tr>\n",
       "      <td>3212</td>\n",
       "      <td>1489</td>\n",
       "      <td>12</td>\n",
       "      <td>0.0</td>\n",
       "      <td>0.0</td>\n",
       "      <td>35.0</td>\n",
       "      <td>17322.51</td>\n",
       "      <td>17.0</td>\n",
       "      <td>Санкт-Петербург</td>\n",
       "      <td>smart</td>\n",
       "    </tr>\n",
       "    <tr>\n",
       "      <td>3213</td>\n",
       "      <td>1476</td>\n",
       "      <td>4</td>\n",
       "      <td>0.0</td>\n",
       "      <td>0.0</td>\n",
       "      <td>0.0</td>\n",
       "      <td>530.78</td>\n",
       "      <td>1.0</td>\n",
       "      <td>Москва</td>\n",
       "      <td>ultra</td>\n",
       "    </tr>\n",
       "  </tbody>\n",
       "</table>\n",
       "<p>3214 rows × 9 columns</p>\n",
       "</div>"
      ],
      "text/plain": [
       "      user_id  month  count_of_calls  duration_month  count_of_messages  \\\n",
       "0        1000      5            22.0           159.0               22.0   \n",
       "1        1000      6            43.0           172.0               60.0   \n",
       "2        1000      7            47.0           340.0               75.0   \n",
       "3        1000      8            52.0           408.0               81.0   \n",
       "4        1000      9            58.0           466.0               57.0   \n",
       "...       ...    ...             ...             ...                ...   \n",
       "3209     1489      9             0.0             0.0               32.0   \n",
       "3210     1489     10             0.0             0.0               21.0   \n",
       "3211     1489     11             0.0             0.0               20.0   \n",
       "3212     1489     12             0.0             0.0               35.0   \n",
       "3213     1476      4             0.0             0.0                0.0   \n",
       "\n",
       "      mb_used_month  gb_used_month             city tariff  \n",
       "0           2253.49            3.0        Краснодар  ultra  \n",
       "1          23233.77           23.0        Краснодар  ultra  \n",
       "2          14003.64           14.0        Краснодар  ultra  \n",
       "3          14055.93           14.0        Краснодар  ultra  \n",
       "4          14568.91           15.0        Краснодар  ultra  \n",
       "...             ...            ...              ...    ...  \n",
       "3209       17206.30           17.0  Санкт-Петербург  smart  \n",
       "3210       19559.44           20.0  Санкт-Петербург  smart  \n",
       "3211       17491.56           18.0  Санкт-Петербург  smart  \n",
       "3212       17322.51           17.0  Санкт-Петербург  smart  \n",
       "3213         530.78            1.0           Москва  ultra  \n",
       "\n",
       "[3214 rows x 9 columns]"
      ]
     },
     "execution_count": 38,
     "metadata": {},
     "output_type": "execute_result"
    }
   ],
   "source": [
    "# объединим сводные данные по пользователям и по месяцам: тариф, \n",
    "# количество и продолжительность звонков, количество сообщений \n",
    "# и объем интернет-трафика \n",
    "\n",
    "# выделим из users в отдельный датафрейм столбцы 'user_id', 'city', 'tariff'\n",
    "# для оптимизации сводного датафрейма по количеству столбцов\n",
    "users_pivot = users[['user_id', 'city', 'tariff']]\n",
    "\n",
    "# объединим calls_pivot, messages_pivot, internet_pivot по столбцам 'user_id', 'month'\n",
    "# используя внешнее соединение how='outer' \n",
    "# объединим полученный датафрейм с users_pivot по столбцу 'user_id'\n",
    "# используя тип соединения how='left'\n",
    "# во всех объединениях будем использовать внешнее соединение how='outer' \n",
    "# сбросим индексы и добавим новый столбец с индексами в сводную таблицу\n",
    "grouped_data = (calls_pivot\n",
    "                .merge(messages_pivot, on=['user_id','month'], how='outer')\n",
    "                .merge(internet_pivot, on=['user_id','month'], how='outer')\n",
    "                .merge(users_pivot, on='user_id', how='left')\n",
    "                .reset_index(drop=True)\n",
    "               )\n",
    "\n",
    "# запполним пропуски в grouped_data значением 0\n",
    "grouped_data = grouped_data.fillna(0)\n",
    "grouped_data"
   ]
  },
  {
   "cell_type": "code",
   "execution_count": 39,
   "metadata": {},
   "outputs": [
    {
     "data": {
      "text/plain": [
       "(500, 498)"
      ]
     },
     "execution_count": 39,
     "metadata": {},
     "output_type": "execute_result"
    }
   ],
   "source": [
    "# сверка количества пользователей в исходной таблице и в объединенной таблице\n",
    "(users['user_id'].count(), len(grouped_data['user_id'].unique()))"
   ]
  },
  {
   "cell_type": "code",
   "execution_count": 40,
   "metadata": {},
   "outputs": [
    {
     "data": {
      "text/plain": [
       "True"
      ]
     },
     "execution_count": 40,
     "metadata": {},
     "output_type": "execute_result"
    }
   ],
   "source": [
    "# сверка количества минут в исходной таблице и в объединенной таблице\n",
    "calls_pivot['duration_month'].sum() == grouped_data['duration_month'].sum()"
   ]
  },
  {
   "cell_type": "code",
   "execution_count": 41,
   "metadata": {},
   "outputs": [
    {
     "data": {
      "text/plain": [
       "True"
      ]
     },
     "execution_count": 41,
     "metadata": {},
     "output_type": "execute_result"
    }
   ],
   "source": [
    "# сверка числа сообщений в исходной таблице и в объединенной таблице\n",
    "messages_pivot['count_of_messages'].sum() == grouped_data['count_of_messages'].sum()"
   ]
  },
  {
   "cell_type": "code",
   "execution_count": 42,
   "metadata": {},
   "outputs": [
    {
     "data": {
      "text/plain": [
       "True"
      ]
     },
     "execution_count": 42,
     "metadata": {},
     "output_type": "execute_result"
    }
   ],
   "source": [
    "# сверка объема интернет-трафика в исходной таблице и в объединенной таблице\n",
    "internet_pivot['gb_used_month'].sum() == grouped_data['gb_used_month'].sum()"
   ]
  },
  {
   "cell_type": "code",
   "execution_count": 43,
   "metadata": {},
   "outputs": [
    {
     "data": {
      "text/html": [
       "<div>\n",
       "<style scoped>\n",
       "    .dataframe tbody tr th:only-of-type {\n",
       "        vertical-align: middle;\n",
       "    }\n",
       "\n",
       "    .dataframe tbody tr th {\n",
       "        vertical-align: top;\n",
       "    }\n",
       "\n",
       "    .dataframe thead th {\n",
       "        text-align: right;\n",
       "    }\n",
       "</style>\n",
       "<table border=\"1\" class=\"dataframe\">\n",
       "  <thead>\n",
       "    <tr style=\"text-align: right;\">\n",
       "      <th></th>\n",
       "      <th>user_id</th>\n",
       "      <th>month</th>\n",
       "      <th>count_of_calls</th>\n",
       "      <th>duration_month</th>\n",
       "      <th>count_of_messages</th>\n",
       "      <th>mb_used_month</th>\n",
       "      <th>gb_used_month</th>\n",
       "      <th>city</th>\n",
       "      <th>tariff</th>\n",
       "      <th>earnings</th>\n",
       "    </tr>\n",
       "  </thead>\n",
       "  <tbody>\n",
       "    <tr>\n",
       "      <td>0</td>\n",
       "      <td>1000</td>\n",
       "      <td>5</td>\n",
       "      <td>22.0</td>\n",
       "      <td>159.0</td>\n",
       "      <td>22.0</td>\n",
       "      <td>2253.49</td>\n",
       "      <td>3.0</td>\n",
       "      <td>Краснодар</td>\n",
       "      <td>ultra</td>\n",
       "      <td>1950.0</td>\n",
       "    </tr>\n",
       "    <tr>\n",
       "      <td>1</td>\n",
       "      <td>1000</td>\n",
       "      <td>6</td>\n",
       "      <td>43.0</td>\n",
       "      <td>172.0</td>\n",
       "      <td>60.0</td>\n",
       "      <td>23233.77</td>\n",
       "      <td>23.0</td>\n",
       "      <td>Краснодар</td>\n",
       "      <td>ultra</td>\n",
       "      <td>1950.0</td>\n",
       "    </tr>\n",
       "    <tr>\n",
       "      <td>2</td>\n",
       "      <td>1000</td>\n",
       "      <td>7</td>\n",
       "      <td>47.0</td>\n",
       "      <td>340.0</td>\n",
       "      <td>75.0</td>\n",
       "      <td>14003.64</td>\n",
       "      <td>14.0</td>\n",
       "      <td>Краснодар</td>\n",
       "      <td>ultra</td>\n",
       "      <td>1950.0</td>\n",
       "    </tr>\n",
       "    <tr>\n",
       "      <td>3</td>\n",
       "      <td>1000</td>\n",
       "      <td>8</td>\n",
       "      <td>52.0</td>\n",
       "      <td>408.0</td>\n",
       "      <td>81.0</td>\n",
       "      <td>14055.93</td>\n",
       "      <td>14.0</td>\n",
       "      <td>Краснодар</td>\n",
       "      <td>ultra</td>\n",
       "      <td>1950.0</td>\n",
       "    </tr>\n",
       "    <tr>\n",
       "      <td>4</td>\n",
       "      <td>1000</td>\n",
       "      <td>9</td>\n",
       "      <td>58.0</td>\n",
       "      <td>466.0</td>\n",
       "      <td>57.0</td>\n",
       "      <td>14568.91</td>\n",
       "      <td>15.0</td>\n",
       "      <td>Краснодар</td>\n",
       "      <td>ultra</td>\n",
       "      <td>1950.0</td>\n",
       "    </tr>\n",
       "    <tr>\n",
       "      <td>...</td>\n",
       "      <td>...</td>\n",
       "      <td>...</td>\n",
       "      <td>...</td>\n",
       "      <td>...</td>\n",
       "      <td>...</td>\n",
       "      <td>...</td>\n",
       "      <td>...</td>\n",
       "      <td>...</td>\n",
       "      <td>...</td>\n",
       "      <td>...</td>\n",
       "    </tr>\n",
       "    <tr>\n",
       "      <td>3209</td>\n",
       "      <td>1489</td>\n",
       "      <td>9</td>\n",
       "      <td>0.0</td>\n",
       "      <td>0.0</td>\n",
       "      <td>32.0</td>\n",
       "      <td>17206.30</td>\n",
       "      <td>17.0</td>\n",
       "      <td>Санкт-Петербург</td>\n",
       "      <td>smart</td>\n",
       "      <td>950.0</td>\n",
       "    </tr>\n",
       "    <tr>\n",
       "      <td>3210</td>\n",
       "      <td>1489</td>\n",
       "      <td>10</td>\n",
       "      <td>0.0</td>\n",
       "      <td>0.0</td>\n",
       "      <td>21.0</td>\n",
       "      <td>19559.44</td>\n",
       "      <td>20.0</td>\n",
       "      <td>Санкт-Петербург</td>\n",
       "      <td>smart</td>\n",
       "      <td>1550.0</td>\n",
       "    </tr>\n",
       "    <tr>\n",
       "      <td>3211</td>\n",
       "      <td>1489</td>\n",
       "      <td>11</td>\n",
       "      <td>0.0</td>\n",
       "      <td>0.0</td>\n",
       "      <td>20.0</td>\n",
       "      <td>17491.56</td>\n",
       "      <td>18.0</td>\n",
       "      <td>Санкт-Петербург</td>\n",
       "      <td>smart</td>\n",
       "      <td>1150.0</td>\n",
       "    </tr>\n",
       "    <tr>\n",
       "      <td>3212</td>\n",
       "      <td>1489</td>\n",
       "      <td>12</td>\n",
       "      <td>0.0</td>\n",
       "      <td>0.0</td>\n",
       "      <td>35.0</td>\n",
       "      <td>17322.51</td>\n",
       "      <td>17.0</td>\n",
       "      <td>Санкт-Петербург</td>\n",
       "      <td>smart</td>\n",
       "      <td>950.0</td>\n",
       "    </tr>\n",
       "    <tr>\n",
       "      <td>3213</td>\n",
       "      <td>1476</td>\n",
       "      <td>4</td>\n",
       "      <td>0.0</td>\n",
       "      <td>0.0</td>\n",
       "      <td>0.0</td>\n",
       "      <td>530.78</td>\n",
       "      <td>1.0</td>\n",
       "      <td>Москва</td>\n",
       "      <td>ultra</td>\n",
       "      <td>1950.0</td>\n",
       "    </tr>\n",
       "  </tbody>\n",
       "</table>\n",
       "<p>3214 rows × 10 columns</p>\n",
       "</div>"
      ],
      "text/plain": [
       "      user_id  month  count_of_calls  duration_month  count_of_messages  \\\n",
       "0        1000      5            22.0           159.0               22.0   \n",
       "1        1000      6            43.0           172.0               60.0   \n",
       "2        1000      7            47.0           340.0               75.0   \n",
       "3        1000      8            52.0           408.0               81.0   \n",
       "4        1000      9            58.0           466.0               57.0   \n",
       "...       ...    ...             ...             ...                ...   \n",
       "3209     1489      9             0.0             0.0               32.0   \n",
       "3210     1489     10             0.0             0.0               21.0   \n",
       "3211     1489     11             0.0             0.0               20.0   \n",
       "3212     1489     12             0.0             0.0               35.0   \n",
       "3213     1476      4             0.0             0.0                0.0   \n",
       "\n",
       "      mb_used_month  gb_used_month             city tariff  earnings  \n",
       "0           2253.49            3.0        Краснодар  ultra    1950.0  \n",
       "1          23233.77           23.0        Краснодар  ultra    1950.0  \n",
       "2          14003.64           14.0        Краснодар  ultra    1950.0  \n",
       "3          14055.93           14.0        Краснодар  ultra    1950.0  \n",
       "4          14568.91           15.0        Краснодар  ultra    1950.0  \n",
       "...             ...            ...              ...    ...       ...  \n",
       "3209       17206.30           17.0  Санкт-Петербург  smart     950.0  \n",
       "3210       19559.44           20.0  Санкт-Петербург  smart    1550.0  \n",
       "3211       17491.56           18.0  Санкт-Петербург  smart    1150.0  \n",
       "3212       17322.51           17.0  Санкт-Петербург  smart     950.0  \n",
       "3213         530.78            1.0           Москва  ultra    1950.0  \n",
       "\n",
       "[3214 rows x 10 columns]"
      ]
     },
     "execution_count": 43,
     "metadata": {},
     "output_type": "execute_result"
    }
   ],
   "source": [
    "# функция find_earnings на входе получает строку row датафрейма grouped_data\n",
    "# из датафрейма tariffs выбирается строка tariff с параметрами тарифа, соответствующего значению в row в столбце tariff\n",
    "# далее в случае превышения суммарной продолжительности звонков minutes_up / количества сообщений messages_up /\n",
    "# интернет трафика gb_up над бесплатным лимитом, превышение умножается на соответствуюшее значение из тарифного плана \n",
    "# значение трафика из tariff переводится в гигабайты, делением на 1024 мегабайта\n",
    "# полученные значения складываются и к ним добавляется абонентская плата, соответствующая тарифному плану\n",
    "\n",
    "def find_earnings(row):\n",
    "    tariff = tariffs[tariffs['tariff_name'] == row['tariff']]\n",
    "    minutes_up = 0\n",
    "    messages_up = 0\n",
    "    gb_up = 0\n",
    "    if (row['duration_month'] - int(tariff['minutes_included'])) > 0: \n",
    "        minutes_up = (row['duration_month'] - int(tariff['minutes_included'])) * int(tariff['rub_per_minute'])  \n",
    "    if (row['count_of_messages'] - int(tariff['messages_included'])) > 0: \n",
    "        messages_up = (row['count_of_messages'] - int(tariff['messages_included'])) * int(tariff['rub_per_message'])    \n",
    "    if (row['gb_used_month'] - int(tariff['mb_per_month_included'])/1024) > 0: \n",
    "        gb_up = (row['gb_used_month'] - int(tariff['mb_per_month_included'])/1024) * int(tariff['rub_per_gb'])\n",
    "    return (minutes_up + messages_up + gb_up + int(tariff['rub_monthly_fee']))\n",
    "\n",
    "# добавим к grouped_data новый столбец earnings со значением выручки за месяц\n",
    "# применив функцию find_earnings к строкам датафрейма grouped_data, используя функцию apply()\n",
    "grouped_data['earnings'] = grouped_data.apply(find_earnings, axis=1)\n",
    "grouped_data"
   ]
  },
  {
   "cell_type": "markdown",
   "metadata": {},
   "source": [
    "<div style=\"border:solid green 3px; padding: 20px\">\n",
    "    \n",
    "Посчитали для каждого пользователя по месяцам:\n",
    "- количество сделанных звонков `count_of_calls` и израсходованных минут разговора `duration_month` с учетом методики расчета оператора;\n",
    "- количество отправленных сообщений `count_of_messages`;\n",
    "- объем израсходованного интернет-трафика в гигабайтах `gb_used_month`;\n",
    "- помесячную выручку с каждого пользователя `earnings`.\n",
    "    \n",
    "Расчет выручки произведен в предположении того, что плата за тариф взимается ежемесячно раз в месяц в незавимисимости от того, сколько дней в месяце пользователь был подключен к тарифу. Такое предположение было сделано ввиду того, что в условиях задачи отсутствуют пояснения относительно платы за тариф в случаях, когда пользователь был подключен не полный месяц (в частности не указывается, как рассчитывать лимиты звонков / сообщений / трафика за неполный месяц). Здесь требуются пояснения заказчика исследования."
   ]
  },
  {
   "cell_type": "markdown",
   "metadata": {},
   "source": [
    "## Анализ данных"
   ]
  },
  {
   "cell_type": "markdown",
   "metadata": {},
   "source": [
    "<div class=\"alert alert-block alert-info\">\n",
    "<font color='Black'>\n",
    "\n",
    "Проанализируем поведение клиентов оператора, исходя из выборки. Сколько минут разговора, сколько сообщений и какой объём интернет-трафика требуется пользователям каждого тарифа в месяц? Найдем среднее количество, дисперсию и стандартное отклонение. Построим гистограммы и проанализируем распределения.\n",
    "    \n",
    "Поскольку из условий задачи мы знаем, что исследуем небольшую выборку данных, то для расчета дисперсии и стандартного отклонения будем использовать формулы для оценки дисперсии и стандартного отклонения по выборке (несмещенные оценки).\n",
    "    "
   ]
  },
  {
   "cell_type": "code",
   "execution_count": 44,
   "metadata": {},
   "outputs": [],
   "source": [
    "# выделим срезы датафрейма grouped_data по тарифам ultra / smart\n",
    "# в отдельные датафреймы ultra / smart\n",
    "ultra = grouped_data.query('tariff == \"ultra\"')\n",
    "smart = grouped_data.query('tariff == \"smart\"')"
   ]
  },
  {
   "cell_type": "code",
   "execution_count": 45,
   "metadata": {
    "scrolled": true
   },
   "outputs": [
    {
     "data": {
      "text/html": [
       "<div>\n",
       "<style scoped>\n",
       "    .dataframe tbody tr th:only-of-type {\n",
       "        vertical-align: middle;\n",
       "    }\n",
       "\n",
       "    .dataframe tbody tr th {\n",
       "        vertical-align: top;\n",
       "    }\n",
       "\n",
       "    .dataframe thead th {\n",
       "        text-align: right;\n",
       "    }\n",
       "</style>\n",
       "<table border=\"1\" class=\"dataframe\">\n",
       "  <thead>\n",
       "    <tr style=\"text-align: right;\">\n",
       "      <th></th>\n",
       "      <th>ultra</th>\n",
       "      <th>smart</th>\n",
       "    </tr>\n",
       "  </thead>\n",
       "  <tbody>\n",
       "    <tr>\n",
       "      <td>mean_minutes</td>\n",
       "      <td>526.623350</td>\n",
       "      <td>417.934948</td>\n",
       "    </tr>\n",
       "    <tr>\n",
       "      <td>var_minutes</td>\n",
       "      <td>100873.633397</td>\n",
       "      <td>36219.315784</td>\n",
       "    </tr>\n",
       "    <tr>\n",
       "      <td>std_minutes</td>\n",
       "      <td>317.606098</td>\n",
       "      <td>190.313730</td>\n",
       "    </tr>\n",
       "    <tr>\n",
       "      <td>mean_messages</td>\n",
       "      <td>49.363452</td>\n",
       "      <td>33.384029</td>\n",
       "    </tr>\n",
       "    <tr>\n",
       "      <td>var_messages</td>\n",
       "      <td>2285.266143</td>\n",
       "      <td>796.812958</td>\n",
       "    </tr>\n",
       "    <tr>\n",
       "      <td>std_messages</td>\n",
       "      <td>47.804457</td>\n",
       "      <td>28.227876</td>\n",
       "    </tr>\n",
       "    <tr>\n",
       "      <td>mean_gb</td>\n",
       "      <td>19.494416</td>\n",
       "      <td>16.328847</td>\n",
       "    </tr>\n",
       "    <tr>\n",
       "      <td>var_gb</td>\n",
       "      <td>97.091686</td>\n",
       "      <td>33.028705</td>\n",
       "    </tr>\n",
       "    <tr>\n",
       "      <td>std_gb</td>\n",
       "      <td>9.853511</td>\n",
       "      <td>5.747061</td>\n",
       "    </tr>\n",
       "  </tbody>\n",
       "</table>\n",
       "</div>"
      ],
      "text/plain": [
       "                       ultra         smart\n",
       "mean_minutes      526.623350    417.934948\n",
       "var_minutes    100873.633397  36219.315784\n",
       "std_minutes       317.606098    190.313730\n",
       "mean_messages      49.363452     33.384029\n",
       "var_messages     2285.266143    796.812958\n",
       "std_messages       47.804457     28.227876\n",
       "mean_gb            19.494416     16.328847\n",
       "var_gb             97.091686     33.028705\n",
       "std_gb              9.853511      5.747061"
      ]
     },
     "execution_count": 45,
     "metadata": {},
     "output_type": "execute_result"
    }
   ],
   "source": [
    "# выведем результаты расчета среднего, дисперсии и стандратного отклонения для минут, сообщений и интернет-трафика\n",
    "# в виде таблицы в разрезе тарифов ultra / smart, для расчета статистик воспользуемся методами из библиотеки numpy\n",
    "# np.var(), np.std()\n",
    "result = pd.DataFrame(data=[[ultra['duration_month'].mean(), smart['duration_month'].mean()],\n",
    "                            [np.var(ultra['duration_month'], ddof=1), np.var(smart['duration_month'], ddof=1)],\n",
    "                            [np.std(ultra['duration_month'], ddof=1), np.std(smart['duration_month'], ddof=1)],\n",
    "                            [ultra['count_of_messages'].mean(), smart['count_of_messages'].mean()],\n",
    "                            [np.var(ultra['count_of_messages'], ddof=1), np.var(smart['count_of_messages'], ddof=1)],\n",
    "                            [np.std(ultra['count_of_messages'], ddof=1), np.std(smart['count_of_messages'], ddof=1)],   \n",
    "                            [ultra['gb_used_month'].mean(), smart['gb_used_month'].mean()],\n",
    "                            [np.var(ultra['gb_used_month'], ddof=1), np.var(smart['gb_used_month'], ddof=1)],\n",
    "                            [np.std(ultra['gb_used_month'], ddof=1), np.std(smart['gb_used_month'], ddof=1)]\n",
    "                           ], \n",
    "                      index=['mean_minutes','var_minutes','std_minutes', \n",
    "                             'mean_messages','var_messages','std_messages',\n",
    "                             'mean_gb','var_gb','std_gb'], \n",
    "                      columns=['ultra', 'smart'])\n",
    "result"
   ]
  },
  {
   "cell_type": "code",
   "execution_count": 46,
   "metadata": {},
   "outputs": [
    {
     "data": {
      "image/png": "[encoded data removed]",
      "text/plain": [
       "<Figure size 1080x432 with 1 Axes>"
      ]
     },
     "metadata": {
      "needs_background": "light"
     },
     "output_type": "display_data"
    }
   ],
   "source": [
    "# построим гистограмму для duration_month\n",
    "ax = ultra.plot(\n",
    "            kind='hist',\n",
    "            y='duration_month',\n",
    "            range=(0, 1750),\n",
    "            bins=175,\n",
    "            linewidth=5,\n",
    "            alpha=1.0,\n",
    "            label='ultra',\n",
    "            figsize=(15,6),\n",
    "            grid = True);\n",
    "\n",
    "# заголовок\n",
    "ax.title.set_text('Гистограмма распределения количества израсходованных минут в месяц для тарифа \"Ультра\" в разрезе пользователей')\n",
    "# подписи осей\n",
    "ax.set_xlabel('Количество израсходованных минут в месяц, мин.');\n",
    "ax.set_ylabel('Частота повторения');"
   ]
  },
  {
   "cell_type": "code",
   "execution_count": 47,
   "metadata": {},
   "outputs": [
    {
     "data": {
      "image/png": "[encoded data removed]",
      "text/plain": [
       "<Figure size 1080x432 with 1 Axes>"
      ]
     },
     "metadata": {
      "needs_background": "light"
     },
     "output_type": "display_data"
    }
   ],
   "source": [
    "# построим гистограмму для duration_month\n",
    "ax = smart.plot(\n",
    "            kind='hist',\n",
    "            y='duration_month',\n",
    "            range=(0, 1750),\n",
    "            bins=175,\n",
    "            linewidth=5,\n",
    "            alpha=1.0,\n",
    "            label='smart',\n",
    "            figsize=(15,6),\n",
    "            grid = True,\n",
    "            color = 'orange');\n",
    "# заголовок\n",
    "ax.title.set_text('Гистограмма распределения количества израсходованных минут в месяц для тарифа \"Смарт\" в разрезе пользователей')\n",
    "# подписи осей\n",
    "ax.set_xlabel('Количество израсходованных минут в месяц, мин.');\n",
    "ax.set_ylabel('Частота повторения');"
   ]
  },
  {
   "cell_type": "code",
   "execution_count": 48,
   "metadata": {},
   "outputs": [
    {
     "data": {
      "image/png": "[encoded data removed]",
      "text/plain": [
       "<Figure size 1080x432 with 1 Axes>"
      ]
     },
     "metadata": {
      "needs_background": "light"
     },
     "output_type": "display_data"
    }
   ],
   "source": [
    "# построим гистограмму для count_of_messages\n",
    "ax = ultra.plot(\n",
    "            kind='hist',\n",
    "            y='count_of_messages',\n",
    "            range=(0, 250),\n",
    "            bins=50,\n",
    "            linewidth=5,\n",
    "            alpha=1.0,\n",
    "            label='ultra',\n",
    "            figsize=(15,6),\n",
    "            grid = True);\n",
    "\n",
    "# заголовок\n",
    "ax.title.set_text('Гистограмма распределения количества отправленных сообщений в месяц для тарифа \"Ультра\" в разрезе пользователей')\n",
    "# подписи осей\n",
    "ax.set_xlabel('Количество отправленных сообщений в месяц, шт.');\n",
    "ax.set_ylabel('Частота повторения');"
   ]
  },
  {
   "cell_type": "code",
   "execution_count": 49,
   "metadata": {},
   "outputs": [
    {
     "data": {
      "image/png": "[encoded data removed]",
      "text/plain": [
       "<Figure size 1080x432 with 1 Axes>"
      ]
     },
     "metadata": {
      "needs_background": "light"
     },
     "output_type": "display_data"
    }
   ],
   "source": [
    "# построим гистограмму для count_of_messages\n",
    "ax = smart.plot(\n",
    "            kind='hist',\n",
    "            y='count_of_messages',\n",
    "            range=(0, 250),\n",
    "            bins=50,\n",
    "            linewidth=5,\n",
    "            alpha=1.0,\n",
    "            label='smart',\n",
    "            figsize=(15,6),\n",
    "            grid = True,\n",
    "            color = 'orange');\n",
    "\n",
    "# заголовок\n",
    "ax.title.set_text('Гистограмма распределения количества отправленных сообщений в месяц для тарифа \"Смарт\" в разрезе пользователей')\n",
    "# подписи осей\n",
    "ax.set_xlabel('Количество отправленных сообщений в месяц, шт.');\n",
    "ax.set_ylabel('Частота повторения');"
   ]
  },
  {
   "cell_type": "markdown",
   "metadata": {},
   "source": [
    "<div class=\"alert alert-block alert-info\">\n",
    "<font color='Black'>\n",
    "    \n",
    "Для тарифа \"Ультра\" среднее количество сообщений за месяц составляет 49 штук при включенном лимите 1000 сообщений, для тарифа \"Смарт\" - 33 штуки при включенном лимите 50 сообщений. Стандартное отклонение для тарифа \"Ультра\" составляет 48 сообщений, для тарифа \"Смарт\" 28 сообщений, для первого тарифа разброс данных и вариативность немного сильнее. Для первого и второго тарифов на гистограммах выделяются пики в значении 0, это говорит о том, что некоторые пользователи тарифов не пользуются сообщениями. Для тарифа \"Ультра\" на гистограмме видим, что пользователи не тратят больше включенного лимита в 1000 сообщений, для тарифа \"Смарт\" имеются пользователи, которые тратят больше включенного лимита в 50 сообщений."
   ]
  },
  {
   "cell_type": "code",
   "execution_count": 50,
   "metadata": {},
   "outputs": [
    {
     "data": {
      "image/png": "[encoded data removed]",
      "text/plain": [
       "<Figure size 1080x432 with 1 Axes>"
      ]
     },
     "metadata": {
      "needs_background": "light"
     },
     "output_type": "display_data"
    }
   ],
   "source": [
    "# построим гистограмму для gb_used_month\n",
    "ax = ultra.plot(\n",
    "            kind='hist',\n",
    "            y='gb_used_month',\n",
    "            range=(0, 50),\n",
    "            bins=25,\n",
    "            linewidth=5,\n",
    "            alpha=1.0,\n",
    "            label='ultra',\n",
    "            figsize=(15,6),\n",
    "            grid = True);\n",
    "# заголовок\n",
    "ax.title.set_text('Гистограмма распределения объема интернет-трафика в месяц для тарифа \"Ультра\" в разрезе пользователей')\n",
    "# подписи осей\n",
    "ax.set_xlabel('Объем интернет-трафика в месяц, Гб');\n",
    "ax.set_ylabel('Частота повторения');"
   ]
  },
  {
   "cell_type": "code",
   "execution_count": 51,
   "metadata": {
    "scrolled": true
   },
   "outputs": [
    {
     "data": {
      "image/png": "[encoded data removed]",
      "text/plain": [
       "<Figure size 1080x432 with 1 Axes>"
      ]
     },
     "metadata": {
      "needs_background": "light"
     },
     "output_type": "display_data"
    }
   ],
   "source": [
    "# построим гистограмму для gb_used_month\n",
    "ax = smart.plot(\n",
    "            kind='hist',\n",
    "            y='gb_used_month',\n",
    "            range=(0, 50),\n",
    "            bins=25,\n",
    "            linewidth=5,\n",
    "            alpha=1.0,\n",
    "            label='smart',\n",
    "            figsize=(15,6),\n",
    "            grid = True,\n",
    "            color = 'orange');\n",
    "# заголовок\n",
    "ax.title.set_text('Гистограмма распределения объема интернет-трафика в месяц для тарифа \"Смарт\" в разрезе пользователей')\n",
    "# подписи осей\n",
    "ax.set_xlabel('Объем интернет-трафика в месяц, Гб');\n",
    "ax.set_ylabel('Частота повторения');"
   ]
  },
  {
   "cell_type": "markdown",
   "metadata": {},
   "source": [
    "<div class=\"alert alert-block alert-info\">\n",
    "<font color='Black'>\n",
    "    \n",
    "Для тарифа \"Ультра\" средний объем интернет-трафика за месяц составляет 20 Гб при включенном лимите 30 Гб, для тарифа \"Смарт\" средний объем интернет-трафика за месяц составляет 16 Гб при включенном лимите 15 Гб. Стандартное отклонение для тарифа \"Ультра\" составляет 10 Гб, для тарифа \"Смарт\" 6 Гб, для первого тарифа разброс данных и вариативность немного сильнее. Для двух тарифов на гистограммах видим, что имеются пользователи, которые используют больше включенного лимита, при этом для тарифа \"Смарт\" доля таких пользователей значительна."
   ]
  },
  {
   "cell_type": "code",
   "execution_count": 52,
   "metadata": {},
   "outputs": [
    {
     "data": {
      "image/png": "[encoded data removed]",
      "text/plain": [
       "<Figure size 1080x432 with 1 Axes>"
      ]
     },
     "metadata": {
      "needs_background": "light"
     },
     "output_type": "display_data"
    }
   ],
   "source": [
    "# построим графики плотностей распределений duration_month для двух тарифов \n",
    "plt.figure(figsize=(15, 6))\n",
    "plt.title(\"График плотностей распределения количества израсходованных минут в месяц\")\n",
    "for tariff in ['ultra', 'smart']:\n",
    "    subset = grouped_data[grouped_data['tariff'] == tariff]\n",
    "    sns.distplot(subset['duration_month'], \n",
    "                 hist=True, \n",
    "                 bins=175,\n",
    "                 label=tariff)\n",
    "    \n",
    "# построим прямую, соответствующую медиане\n",
    "#plt.axvline(ultra['duration_month'].median(), color='b', linestyle='--', label='median_ultra')\n",
    "#plt.axvline(smart['duration_month'].median(), color='orange', linestyle='--', label='median_smart')\n",
    "\n",
    "# построим прямую, соответствующую среднему\n",
    "plt.axvline(ultra['duration_month'].mean(), color='b', linestyle=':', label='mean_ultra')\n",
    "plt.axvline(smart['duration_month'].mean(), color='orange', linestyle=':', label='mean_smart')\n",
    "\n",
    "# построим прямую, соответствующую тарифному лимиту\n",
    "plt.axvline(3000, color='b', linestyle='-', label='limit_ultra')\n",
    "plt.axvline(500, color='orange', linestyle='-', label='limit_smart')\n",
    "\n",
    "# подписи осей\n",
    "plt.xlabel('Количество израсходованных минут в месяц, мин.')\n",
    "plt.ylabel('Плотность распределения')\n",
    "\n",
    "# отобразим легенду на графике\n",
    "plt.legend();"
   ]
  },
  {
   "cell_type": "code",
   "execution_count": 53,
   "metadata": {},
   "outputs": [
    {
     "data": {
      "image/png": "[encoded data removed]",
      "text/plain": [
       "<Figure size 1080x432 with 1 Axes>"
      ]
     },
     "metadata": {
      "needs_background": "light"
     },
     "output_type": "display_data"
    }
   ],
   "source": [
    "# построим графики плотностей распределений count_of_messages для двух тарифов \n",
    "plt.figure(figsize=(15, 6))\n",
    "plt.title(\"График плотностей распределения количества отправленных сообщений в месяц\")\n",
    "for tariff in ['ultra', 'smart']:\n",
    "    subset = grouped_data[grouped_data['tariff'] == tariff]\n",
    "    sns.distplot(subset['count_of_messages'], \n",
    "                 hist = True, \n",
    "                 bins=50,\n",
    "                 label = tariff)\n",
    "\n",
    "# построим прямую, соответствующую медиане\n",
    "#plt.axvline(ultra['count_of_messages'].median(), color='b', linestyle='--', label='median_ultra')\n",
    "#plt.axvline(smart['count_of_messages'].median(), color='orange', linestyle='--', label='median_smart')\n",
    "\n",
    "# построим прямую, соответствующую среднему\n",
    "plt.axvline(ultra['count_of_messages'].mean(), color='b', linestyle=':', label='mean_ultra')\n",
    "plt.axvline(smart['count_of_messages'].mean(), color='orange', linestyle=':', label='mean_smart')\n",
    "\n",
    "# построим прямую, соответствующую тарифному лимиту\n",
    "#plt.axvline(1000, color='b', linestyle='-', label='limit_ultra')\n",
    "#plt.axvline(50, color='orange', linestyle='-', label='limit_smart')\n",
    "\n",
    "# подписи осей\n",
    "plt.xlabel('Количество отправленных сообщений в месяц, шт.')\n",
    "plt.ylabel('Плотность распределения')\n",
    "\n",
    "# отобразим легенду на графике\n",
    "plt.legend();    "
   ]
  },
  {
   "cell_type": "code",
   "execution_count": 54,
   "metadata": {},
   "outputs": [
    {
     "data": {
      "image/png": "[encoded data removed]",
      "text/plain": [
       "<Figure size 1080x432 with 1 Axes>"
      ]
     },
     "metadata": {
      "needs_background": "light"
     },
     "output_type": "display_data"
    }
   ],
   "source": [
    "# построим графики плотностей распределений gb_used_month для двух тарифов \n",
    "plt.figure(figsize=(15, 6))\n",
    "plt.title(\"График плотностей распределения объема интернет-трафика в месяц\")\n",
    "for tariff in ['ultra', 'smart']:\n",
    "    subset = grouped_data[grouped_data['tariff'] == tariff]\n",
    "    sns.distplot(subset['gb_used_month'], \n",
    "                 hist=True, \n",
    "                 bins=25,\n",
    "                 label=tariff)\n",
    "\n",
    "# построим прямую, соответствующую медиане\n",
    "#plt.axvline(ultra['gb_used_month'].median(), color='b', linestyle='--', label='median_ultra')\n",
    "#plt.axvline(smart['gb_used_month'].median(), color='orange', linestyle='--', label='median_smart')\n",
    "\n",
    "# построим прямую, соответствующую среднему\n",
    "plt.axvline(ultra['gb_used_month'].mean(), color='b', linestyle=':', label='mean_ultra')\n",
    "plt.axvline(smart['gb_used_month'].mean(), color='orange', linestyle=':', label='mean_smart')    \n",
    "\n",
    "# построим прямую, соответствующую тарифному лимиту\n",
    "plt.axvline(30, color='b', linestyle='-', label='limit_ultra')\n",
    "plt.axvline(15, color='orange', linestyle='-', label='limit_smart')\n",
    "\n",
    "# подписи осей\n",
    "plt.xlabel('Объем интернет-трафика в месяц, Гб')\n",
    "plt.ylabel('Плотность распределения')\n",
    "\n",
    "# отобразим легенду на графике\n",
    "plt.legend();   "
   ]
  },
  {
   "cell_type": "markdown",
   "metadata": {},
   "source": [
    "<div style=\"border:solid green 3px; padding: 20px\">\n",
    "\n",
    "1. Для тарифа \"Ультра\" средняя сумма израсходованных минут в месяц составляет 527 минут при включенном лимите 3000 минут, для тарифа \"Смарт\" - 418 минут при включенном лимите 500 минут. Для тарифа \"Ультра\" разброс данных и вариативность сильнее (об этом свидетельствует график распределения для \"Ультра\", он ниже и шире графика распределения для \"Смарт\"). Для тарифа \"Ультра\" на гистограмме выделяется пик в значении 0 минут, это говорит о том, что некоторые пользователи данного тарифа не используют включенные минуты. Пользователи \"Ультра\" не тратят больше 3000 минут - включенного лимита.\n",
    "    \n",
    "    \n",
    "2. Для тарифа \"Ультра\" среднее количество сообщений за месяц составляет 49 штук при включенном лимите 1000 сообщений, для тарифа \"Смарт\" - 33 штуки при включенном лимите 50 сообщений. Для тарифа \"Ультра\" разброс данных и вариативность сильнее (об этом свидетельствует график распределения для \"Ультра\", он ниже и шире графика распределения для \"Смарт\"). Для первого и второго тарифов на гистограммах выделяются пики в значении 0, это говорит о том, что некоторые пользователи тарифов не пользуются сообщениями. Пользователи \"Ультра\" не тратят больше включенного лимита в 1000 сообщений.   \n",
    "    \n",
    "    \n",
    "3. Для тарифа \"Ультра\" средний объем интернет-трафика за месяц составляет 20 Гб при включенном лимите 30 Гб, для тарифа \"Смарт\" средний объем интернет-трафика за месяц составляет 16 Гб при включенном лимите 15 Гб. Для тарифа \"Ультра\" разброс данных и вариативность сильнее (об этом свидетельствует график распределения для \"Ультра\", он ниже и шире графика распределения для \"Смарт\"). Средний объем интернет-трафика за месяц пользователей тарифа \"Смарт\" превышает установленный лимит. Для двух тарифов на гистограммах видим, что имеются пользователи, которые используют больше включенного лимита, при этом для тарифа \"Смарт\" доля таких пользователей значительна.    "
   ]
  },
  {
   "cell_type": "code",
   "execution_count": 55,
   "metadata": {},
   "outputs": [
    {
     "data": {
      "image/png": "[encoded data removed]",
      "text/plain": [
       "<Figure size 1080x432 with 1 Axes>"
      ]
     },
     "metadata": {
      "needs_background": "light"
     },
     "output_type": "display_data"
    }
   ],
   "source": [
    "# построим графики плотностей распределений earnings для двух тарифов \n",
    "plt.figure(figsize=(15, 6))\n",
    "plt.title(\"График плотностей распределения величины выручки в месяц\")\n",
    "for tariff in ['ultra', 'smart']:\n",
    "    subset = grouped_data[grouped_data['tariff'] == tariff]\n",
    "    sns.distplot(subset['earnings'], \n",
    "                 hist=True, \n",
    "                 bins=50,\n",
    "                 label=tariff)\n",
    "\n",
    "# построим прямую, соответствующую среднему\n",
    "plt.axvline(ultra['earnings'].mean(), color='b', linestyle=':', label='mean_ultra')\n",
    "plt.axvline(smart['earnings'].mean(), color='orange', linestyle=':', label='mean_smart')    \n",
    "\n",
    "# построим прямую, соответствующую тарифному лимиту\n",
    "plt.axvline(1950, color='b', linestyle='-', label='tarif_ultra')\n",
    "plt.axvline(550, color='orange', linestyle='-', label='tarif_smart')\n",
    "\n",
    "# подписи осей\n",
    "plt.xlabel('Величина выручки в месяц, руб.')\n",
    "plt.ylabel('Плотность распределения')\n",
    "\n",
    "# отобразим легенду на графике\n",
    "plt.legend();  "
   ]
  },
  {
   "cell_type": "code",
   "execution_count": 56,
   "metadata": {},
   "outputs": [
    {
     "data": {
      "image/png": "[encoded data removed]",
      "text/plain": [
       "<Figure size 1080x432 with 1 Axes>"
      ]
     },
     "metadata": {
      "needs_background": "light"
     },
     "output_type": "display_data"
    }
   ],
   "source": [
    "# построим график распределения суммарной выручки по месяцам\n",
    "ax = (grouped_data\n",
    "      .pivot_table(index='month', columns='tariff', values='earnings', aggfunc='sum')\n",
    "      .plot(kind='bar', rot=0, figsize=(15,6)))\n",
    "\n",
    "# заголовок\n",
    "ax.title.set_text('Распределение суммарной выручки по месяцам')\n",
    "# подписи осей\n",
    "ax.set_xlabel('Номер месяца');\n",
    "ax.set_ylabel('Сумма выручки, руб.');"
   ]
  },
  {
   "cell_type": "markdown",
   "metadata": {},
   "source": [
    "<div style=\"border:solid green 3px; padding: 20px\">\n",
    "    \n",
    "**Вывод по графику плотностей распределения:** для тарифа \"Ультра\" и для тарифа \"Смарт\" средние величины выручки в месяц находятся правее установленной платы по тарифам, т.е. превышают ее, об этом говорят длинные \"хвосты\" на графике, среди пользователей, которые платят сверх установленного тарифа, наблюдается сильный разброс значений. На графиках в области установленный платы по тарифам имеются пики, это говорит о том, что значительная часть пользователей расходует минуты / сообщения / интернет-трафик в пределах лимитов, установленных тарифами. Также для двух тарифов на гистограммах видим, что имеются пользователи, которые платят сверх установленный платы, при этом для тарифа \"Смарт\" доля таких пользователей больше, чем для тарифа \"Ультра\".\n",
    "    \n",
    "**Вывод по графику распределения суммарной выручки:**  суммарная выручка в месяц для тарифа \"Смарт\" практически всегда превышает суммарную выручку в месяц для тарифа \"Ультра\".    "
   ]
  },
  {
   "cell_type": "markdown",
   "metadata": {},
   "source": [
    "## Проверка гипотез"
   ]
  },
  {
   "cell_type": "markdown",
   "metadata": {},
   "source": [
    "<div class=\"alert alert-block alert-info\">\n",
    "<font color='Black'>\n",
    "Проверим следующие гипотезы:\n",
    "    \n",
    "- средняя выручка пользователей тарифов «Ультра» и «Смарт» различаются;\n",
    "- средняя выручка пользователей из Москвы отличается от выручки пользователей из других регионов.\n"
   ]
  },
  {
   "cell_type": "markdown",
   "metadata": {},
   "source": [
    "<div class=\"alert alert-block alert-info\">\n",
    "<font color='Black'>\n",
    "\n",
    "Сформулируем гипотезу $Н_0$: средняя выручка пользователей тарифов «Ультра» и «Смарт» равны.\n",
    "\n",
    "Альтернативную гипотезу $Н_1$ сформулируем следующим образом: средняя выручка пользователей тарифов «Ультра» и «Смарт» различаются."
   ]
  },
  {
   "cell_type": "code",
   "execution_count": 57,
   "metadata": {
    "scrolled": true
   },
   "outputs": [
    {
     "name": "stdout",
     "output_type": "stream",
     "text": [
      "Размер выборки для тарифа \"Ультра\": 985\n",
      "Размер выборки для тарифа \"Смарт\" : 2229\n"
     ]
    }
   ],
   "source": [
    "# оценим размер имеющихся выборок по тарифам\n",
    "print('Размер выборки для тарифа \"Ультра\":', ultra.shape[0])\n",
    "print('Размер выборки для тарифа \"Смарт\" :', smart.shape[0])   "
   ]
  },
  {
   "cell_type": "code",
   "execution_count": 58,
   "metadata": {
    "scrolled": true
   },
   "outputs": [
    {
     "name": "stdout",
     "output_type": "stream",
     "text": [
      "p-значение:  4.2606313931076085e-250\n",
      "Отвергаем нулевую гипотезу о равенстве средних выручек по тарифам\n"
     ]
    }
   ],
   "source": [
    "# критический уровень статистической значимости\n",
    "# если p-value окажется меньше него - отвергнем гипотезу\n",
    "alpha = .05\n",
    "\n",
    "# воспользуемся специальным методом для проверки гипотезы о равенстве среднего \n",
    "# двух генеральных совокупностей по взятым из них выборкам\n",
    "# выборки разного размера, поэтому параметр equal_var = False\n",
    "result = st.ttest_ind(ultra['earnings'], \n",
    "                      smart['earnings'],\n",
    "                      equal_var = False)\n",
    "\n",
    "print('p-значение: ', result.pvalue)\n",
    "\n",
    "if result.pvalue < alpha:\n",
    "    print(\"Отвергаем нулевую гипотезу о равенстве средних выручек по тарифам\")\n",
    "else:\n",
    "    print(\"Не получилось отвергнуть нулевую гипотезу о равенстве средних выручек по тарифам\") "
   ]
  },
  {
   "cell_type": "markdown",
   "metadata": {},
   "source": [
    "<div class=\"alert alert-block alert-info\">\n",
    "<font color='Black'>\n",
    "\n",
    "Сформулируем гипотезу $Н_0$: средняя выручка пользователей из Москвы и пользователей из других регионов равны.\n",
    "\n",
    "Альтернативную гипотезу $Н_1$ сформулируем следующим образом: средняя выручка пользователей из Москвы отличается от выручки пользователей из других регионов."
   ]
  },
  {
   "cell_type": "code",
   "execution_count": 59,
   "metadata": {},
   "outputs": [],
   "source": [
    "# выделим пользователей из Москвы в отдельный датафрейм\n",
    "moscow = grouped_data.query('city == \"Москва\"')\n",
    "# выделим пользователей из городов, отличных от Москвы, в отдельный датафрейм\n",
    "other_cities = grouped_data.query('city != \"Москва\"')"
   ]
  },
  {
   "cell_type": "code",
   "execution_count": 60,
   "metadata": {},
   "outputs": [
    {
     "name": "stdout",
     "output_type": "stream",
     "text": [
      "Размер выборки для пользователей из Москвы       : 611\n",
      "Размер выборки для пользователей из других регионов : 2603\n"
     ]
    }
   ],
   "source": [
    "# оценим размер имеющихся выборок по тарифам\n",
    "print('Размер выборки для пользователей из Москвы       :', moscow.shape[0])\n",
    "print('Размер выборки для пользователей из других регионов :', other_cities.shape[0])   "
   ]
  },
  {
   "cell_type": "code",
   "execution_count": 61,
   "metadata": {},
   "outputs": [
    {
     "name": "stdout",
     "output_type": "stream",
     "text": [
      "p-значение:  0.5257376663729298\n",
      "Не получилось отвергнуть нулевую гипотезу о равенстве средних выручек пользователей из Москвы и пользователей из других регионов\n"
     ]
    }
   ],
   "source": [
    "# критический уровень статистической значимости\n",
    "# если p-value окажется меньше него - отвегнем гипотезу\n",
    "alpha = .05 \n",
    "\n",
    "# воспользуемся специальным методом для проверки гипотезы о равенстве среднего \n",
    "# двух генеральных совокупностей по взятым из них выборкам\n",
    "# выборки разного размера, поэтому параметр equal_var = False\n",
    "result = st.ttest_ind(moscow['earnings'], \n",
    "                      other_cities['earnings'],\n",
    "                      equal_var = False)\n",
    "\n",
    "print('p-значение: ', result.pvalue)\n",
    "\n",
    "if result.pvalue < alpha:\n",
    "    print(\"Отвергаем нулевую гипотезу о равенстве средних выручек пользователей из Москвы и пользователей из других регионов\")\n",
    "else:    \n",
    "    print(\"Не получилось отвергнуть нулевую гипотезу о равенстве средних выручек пользователей из Москвы и пользователей из других регионов\") "
   ]
  },
  {
   "cell_type": "code",
   "execution_count": 62,
   "metadata": {
    "scrolled": true
   },
   "outputs": [
    {
     "name": "stdout",
     "output_type": "stream",
     "text": [
      "Размер выборки пользователей для тарифа \"Ультра\": 149\n",
      "Размер выборки пользователей ля тарифа \"Смарт\": 351\n",
      "\n",
      "Доля пользователей тарифа \"Ультра\" в выборке: 29.8%\n",
      "Доля пользователей тарифа \"Смарт\"  в выборке: 70.2%\n",
      "\n",
      "Средняя выручка пользователей тарифа \"Ультра\" в выборке: 2070.15\n",
      "Средняя выручка пользователей тарифа \"Смарт\"  в выборке: 1289.97\n",
      "\n",
      "Соотношениие средней выручки пользователей тарифа \"Ультра\" к средней выручке пользователей тарифа \"Смарт\": 1.6\n"
     ]
    }
   ],
   "source": [
    "# оценим размер выборок по пользователям для каждого из тарифов\n",
    "print('Размер выборки пользователей для тарифа \"Ультра\":', users[ users['tariff'] == 'ultra']['user_id'].count())\n",
    "print('Размер выборки пользователей ля тарифа \"Смарт\":', users[ users['tariff'] == 'smart']['user_id'].count()) \n",
    "print()\n",
    "\n",
    "ratio_ultra = users[ users['tariff'] == 'ultra']['user_id'].count() / users['user_id'].count()\n",
    "ratio_smart = users[ users['tariff'] == 'smart']['user_id'].count() / users['user_id'].count()\n",
    "print(f'Доля пользователей тарифа \"Ультра\" в выборке: {ratio_ultra:.1%}')\n",
    "print(f'Доля пользователей тарифа \"Смарт\"  в выборке: {ratio_smart:.1%}')   \n",
    "print()\n",
    "\n",
    "print('Средняя выручка пользователей тарифа \"Ультра\" в выборке:', round(ultra['earnings'].mean(),2))\n",
    "print('Средняя выручка пользователей тарифа \"Смарт\"  в выборке:', round(smart['earnings'].mean(),2))\n",
    "\n",
    "print()\n",
    "print('Соотношениие средней выручки пользователей тарифа \"Ультра\" к средней выручке пользователей тарифа \"Смарт\":', \n",
    "      round(ultra['earnings'].mean() / smart['earnings'].mean(),2))"
   ]
  },
  {
   "cell_type": "markdown",
   "metadata": {},
   "source": [
    "<div style=\"border:solid green 3px; padding: 20px\">\n",
    "С использованием статистических t-тестов с критическим уровнем значимости в 5% проверили две гипотезы:\n",
    "        \n",
    "- средняя выручка пользователей тарифов «Ультра» и «Смарт» различаются;\n",
    "- средняя выручка пользователей из Москвы отличается от выручки пользователей из других регионов.\n",
    "\n",
    "Гипотеза о различии средних выручек пользователей тарифов «Ультра» и «Смарт» принимается.\n",
    "Гипотеза о различии средних выручек пользователей из Москвы и пользователей из других регионов отвергается.      \n",
    "    "
   ]
  },
  {
   "cell_type": "markdown",
   "metadata": {},
   "source": [
    "## Общий вывод"
   ]
  },
  {
   "cell_type": "markdown",
   "metadata": {},
   "source": [
    "<div style=\"border:solid green 3px; padding: 20px\">\n",
    "    \n",
    "        \n",
    "- **Краткий обзор проекта** \n",
    "    \n",
    "    Проанализировали данные 500 пользователей федерального оператора сотовой связи «Мегалайна» за 2018 год. Исследовали поведение клиентов оператора, исходя из выборки. Проверим следующие гипотезы:\n",
    "    \n",
    "    - средняя выручка пользователей тарифов «Ультра» и «Смарт» различаются;\n",
    "    - средняя выручка пользователей из Москвы отличается от выручки пользователей из других регионов.\n",
    "    \n",
    "\n",
    "- **Главные выводы** \n",
    "    \n",
    "    Особенности использования тарифов:\n",
    "   \n",
    "    - для тарифа \"Ультра\" разброс данных и вариативность сильнее, чем для тарифа \"Смарт\";\n",
    "    - \"Ультра\": некоторые пользователи данного тарифа не используют включенные минуты и не пользуются сообщениями. Все пользователи не тратят больше 3000 минут - включенного лимита и не тратят больше включенного лимита в 1000 сообщений. Среди пользователей тарифа имеются пользователи, которые используют больше включенного лимита интернет-трафика;  \n",
    "    - \"Смарт\": некоторые пользователи данного тарифа не пользуются сообщениями. Средний объем интернет-трафика за месяц превышает установленный лимит, доля пользователей, превышающих данный лимит, значительна.\n",
    "    \n",
    "    Гипотеза о различии средних выручек пользователей тарифов «Ультра» и «Смарт» принимается. На основе выборки можно сделать вывод, что средняя выручка пользователей тарифа «Ультра» больше средней выручки пользователей тарифа «Смарт» в 1,6 раза.\n",
    "    \n",
    "    Гипотеза о различии средних выручек пользователей из Москвы и пользователей из других регионов отвергается.     \n",
    "\n",
    "    \n",
    "- **Рекомендации**\n",
    "    \n",
    "    Принимая во внимание соотношение числа пользователей тарифа \"Ультра\" к числу пользователей тарифа \"Смарт\" (3:7), а также средние значения выручки по каждому из тарифов, можно сделать вывод о том, что для оператора «Мегалайн» тариф \"Смарт\" приносит больше выручки, чем тариф \"Ультра\", поскольку тариф \"Смарт\" является более популярным среди пользователей."
   ]
  }
 ],
 "metadata": {
  "ExecuteTimeLog": [
   {
    "duration": 845,
    "start_time": "2022-03-08T12:22:56.340Z"
   },
   {
    "duration": 96,
    "start_time": "2022-03-08T12:23:12.624Z"
   },
   {
    "duration": 48,
    "start_time": "2022-03-08T12:25:16.661Z"
   },
   {
    "duration": 43,
    "start_time": "2022-03-08T12:25:42.381Z"
   },
   {
    "duration": 31,
    "start_time": "2022-03-08T12:27:30.614Z"
   },
   {
    "duration": 34,
    "start_time": "2022-03-08T12:27:50.922Z"
   },
   {
    "duration": 9,
    "start_time": "2022-03-08T12:28:04.478Z"
   },
   {
    "duration": 21,
    "start_time": "2022-03-08T12:28:51.518Z"
   },
   {
    "duration": 6,
    "start_time": "2022-03-08T12:29:34.155Z"
   },
   {
    "duration": 8,
    "start_time": "2022-03-08T12:29:52.507Z"
   },
   {
    "duration": 8,
    "start_time": "2022-03-08T12:30:09.974Z"
   },
   {
    "duration": 7,
    "start_time": "2022-03-08T12:30:26.894Z"
   },
   {
    "duration": 5,
    "start_time": "2022-03-08T12:30:40.435Z"
   },
   {
    "duration": 9,
    "start_time": "2022-03-08T12:31:51.259Z"
   },
   {
    "duration": 24,
    "start_time": "2022-03-08T12:33:06.392Z"
   },
   {
    "duration": 204,
    "start_time": "2022-03-08T12:34:22.880Z"
   },
   {
    "duration": 26,
    "start_time": "2022-03-08T12:35:01.308Z"
   },
   {
    "duration": 36,
    "start_time": "2022-03-08T12:35:24.040Z"
   },
   {
    "duration": 42,
    "start_time": "2022-03-08T12:36:00.309Z"
   },
   {
    "duration": 118,
    "start_time": "2022-03-08T12:36:38.901Z"
   },
   {
    "duration": 20,
    "start_time": "2022-03-08T12:37:26.877Z"
   },
   {
    "duration": 166,
    "start_time": "2022-03-08T12:38:24.330Z"
   },
   {
    "duration": 176,
    "start_time": "2022-03-08T12:38:49.889Z"
   },
   {
    "duration": 164,
    "start_time": "2022-03-08T12:39:09.201Z"
   },
   {
    "duration": 22,
    "start_time": "2022-03-08T12:39:49.290Z"
   },
   {
    "duration": 5,
    "start_time": "2022-03-08T12:41:49.162Z"
   },
   {
    "duration": 20,
    "start_time": "2022-03-08T12:42:07.451Z"
   },
   {
    "duration": 4,
    "start_time": "2022-03-08T12:42:15.778Z"
   },
   {
    "duration": 20,
    "start_time": "2022-03-08T12:42:16.594Z"
   },
   {
    "duration": 6,
    "start_time": "2022-03-08T12:42:28.854Z"
   },
   {
    "duration": 29,
    "start_time": "2022-03-08T12:43:40.330Z"
   },
   {
    "duration": 21,
    "start_time": "2022-03-08T12:43:52.579Z"
   },
   {
    "duration": 9,
    "start_time": "2022-03-08T12:45:34.059Z"
   },
   {
    "duration": 7,
    "start_time": "2022-03-08T12:49:33.993Z"
   },
   {
    "duration": 9,
    "start_time": "2022-03-08T12:49:50.948Z"
   },
   {
    "duration": 7,
    "start_time": "2022-03-08T12:50:28.933Z"
   },
   {
    "duration": 7,
    "start_time": "2022-03-08T12:51:16.409Z"
   },
   {
    "duration": 7,
    "start_time": "2022-03-08T12:52:44.029Z"
   },
   {
    "duration": 9,
    "start_time": "2022-03-08T12:52:57.818Z"
   },
   {
    "duration": 35,
    "start_time": "2022-03-08T12:57:08.594Z"
   },
   {
    "duration": 3,
    "start_time": "2022-03-08T13:25:41.263Z"
   },
   {
    "duration": 21,
    "start_time": "2022-03-08T13:31:27.714Z"
   },
   {
    "duration": 3,
    "start_time": "2022-03-08T13:32:45.314Z"
   },
   {
    "duration": 21,
    "start_time": "2022-03-08T13:32:53.582Z"
   },
   {
    "duration": 22,
    "start_time": "2022-03-08T13:33:23.630Z"
   },
   {
    "duration": 6,
    "start_time": "2022-03-08T13:34:05.859Z"
   },
   {
    "duration": 9,
    "start_time": "2022-03-08T13:34:27.730Z"
   },
   {
    "duration": 9,
    "start_time": "2022-03-08T13:34:51.426Z"
   },
   {
    "duration": 8,
    "start_time": "2022-03-08T13:35:33.294Z"
   },
   {
    "duration": 9,
    "start_time": "2022-03-08T13:35:49.375Z"
   },
   {
    "duration": 8,
    "start_time": "2022-03-08T13:36:49.993Z"
   },
   {
    "duration": 9,
    "start_time": "2022-03-08T13:36:55.183Z"
   },
   {
    "duration": 10,
    "start_time": "2022-03-08T13:37:05.095Z"
   },
   {
    "duration": 7,
    "start_time": "2022-03-08T13:37:34.023Z"
   },
   {
    "duration": 7,
    "start_time": "2022-03-08T13:37:44.716Z"
   },
   {
    "duration": 7,
    "start_time": "2022-03-08T13:37:55.975Z"
   },
   {
    "duration": 38,
    "start_time": "2022-03-08T13:38:40.671Z"
   },
   {
    "duration": 230,
    "start_time": "2022-03-08T13:39:22.231Z"
   },
   {
    "duration": 226,
    "start_time": "2022-03-08T13:39:36.440Z"
   },
   {
    "duration": 34,
    "start_time": "2022-03-08T13:40:04.320Z"
   },
   {
    "duration": 18,
    "start_time": "2022-03-08T13:40:18.557Z"
   },
   {
    "duration": 332,
    "start_time": "2022-03-08T13:40:28.985Z"
   },
   {
    "duration": 15,
    "start_time": "2022-03-08T13:40:47.032Z"
   },
   {
    "duration": 16,
    "start_time": "2022-03-08T13:41:33.668Z"
   },
   {
    "duration": 306,
    "start_time": "2022-03-08T13:42:04.298Z"
   },
   {
    "duration": 20,
    "start_time": "2022-03-08T13:42:31.304Z"
   },
   {
    "duration": 128,
    "start_time": "2022-03-08T13:42:48.160Z"
   },
   {
    "duration": 121,
    "start_time": "2022-03-08T13:43:05.768Z"
   },
   {
    "duration": 35,
    "start_time": "2022-03-08T13:43:31.969Z"
   },
   {
    "duration": 163,
    "start_time": "2022-03-08T13:44:52.277Z"
   },
   {
    "duration": 24,
    "start_time": "2022-03-08T13:45:33.053Z"
   },
   {
    "duration": 257,
    "start_time": "2022-03-08T13:46:09.221Z"
   },
   {
    "duration": 236,
    "start_time": "2022-03-08T13:46:22.241Z"
   },
   {
    "duration": 18,
    "start_time": "2022-03-08T13:46:37.733Z"
   },
   {
    "duration": 829,
    "start_time": "2022-03-08T13:57:52.158Z"
   },
   {
    "duration": 59,
    "start_time": "2022-03-08T13:57:52.990Z"
   },
   {
    "duration": 9,
    "start_time": "2022-03-08T13:57:53.056Z"
   },
   {
    "duration": 210,
    "start_time": "2022-03-08T13:57:53.068Z"
   },
   {
    "duration": 28,
    "start_time": "2022-03-08T13:57:53.280Z"
   },
   {
    "duration": 137,
    "start_time": "2022-03-08T13:57:53.311Z"
   },
   {
    "duration": 19,
    "start_time": "2022-03-08T13:57:53.454Z"
   },
   {
    "duration": 190,
    "start_time": "2022-03-08T13:57:53.477Z"
   },
   {
    "duration": 22,
    "start_time": "2022-03-08T13:57:53.669Z"
   },
   {
    "duration": 20,
    "start_time": "2022-03-08T13:57:53.693Z"
   },
   {
    "duration": 36,
    "start_time": "2022-03-08T13:57:53.716Z"
   },
   {
    "duration": 22,
    "start_time": "2022-03-08T13:57:53.754Z"
   },
   {
    "duration": 8,
    "start_time": "2022-03-08T13:57:53.779Z"
   },
   {
    "duration": 9,
    "start_time": "2022-03-08T13:57:53.789Z"
   },
   {
    "duration": 8,
    "start_time": "2022-03-08T13:57:53.801Z"
   },
   {
    "duration": 45,
    "start_time": "2022-03-08T13:57:53.811Z"
   },
   {
    "duration": 8,
    "start_time": "2022-03-08T13:57:53.858Z"
   },
   {
    "duration": 7,
    "start_time": "2022-03-08T13:57:53.868Z"
   },
   {
    "duration": 75,
    "start_time": "2022-03-08T13:57:53.877Z"
   },
   {
    "duration": 238,
    "start_time": "2022-03-08T13:57:53.954Z"
   },
   {
    "duration": 17,
    "start_time": "2022-03-08T13:57:54.195Z"
   },
   {
    "duration": 147,
    "start_time": "2022-03-08T13:57:54.216Z"
   },
   {
    "duration": 35,
    "start_time": "2022-03-08T13:57:54.365Z"
   },
   {
    "duration": 179,
    "start_time": "2022-03-08T13:57:54.403Z"
   },
   {
    "duration": 335,
    "start_time": "2022-03-08T14:03:02.624Z"
   },
   {
    "duration": 10,
    "start_time": "2022-03-08T14:03:27.393Z"
   },
   {
    "duration": 10,
    "start_time": "2022-03-08T14:03:33.116Z"
   },
   {
    "duration": 12,
    "start_time": "2022-03-08T14:05:33.650Z"
   },
   {
    "duration": 121,
    "start_time": "2022-03-08T14:05:43.225Z"
   },
   {
    "duration": 58,
    "start_time": "2022-03-08T14:05:52.117Z"
   },
   {
    "duration": 90,
    "start_time": "2022-03-08T14:06:03.453Z"
   },
   {
    "duration": 238,
    "start_time": "2022-03-08T14:11:33.311Z"
   },
   {
    "duration": 6,
    "start_time": "2022-03-08T14:12:13.051Z"
   },
   {
    "duration": 10,
    "start_time": "2022-03-08T14:12:21.587Z"
   },
   {
    "duration": 42,
    "start_time": "2022-03-08T14:12:54.055Z"
   },
   {
    "duration": 20,
    "start_time": "2022-03-08T14:12:58.387Z"
   },
   {
    "duration": 31,
    "start_time": "2022-03-08T14:13:22.608Z"
   },
   {
    "duration": 15,
    "start_time": "2022-03-08T14:13:24.955Z"
   },
   {
    "duration": 37,
    "start_time": "2022-03-08T14:13:59.363Z"
   },
   {
    "duration": 16,
    "start_time": "2022-03-08T14:14:00.368Z"
   },
   {
    "duration": 27,
    "start_time": "2022-03-08T14:14:30.029Z"
   },
   {
    "duration": 9,
    "start_time": "2022-03-08T14:14:39.168Z"
   },
   {
    "duration": 17,
    "start_time": "2022-03-08T14:14:46.996Z"
   },
   {
    "duration": 5,
    "start_time": "2022-03-08T14:15:08.336Z"
   },
   {
    "duration": 4,
    "start_time": "2022-03-08T14:15:21.108Z"
   },
   {
    "duration": 227,
    "start_time": "2022-03-08T14:17:57.821Z"
   },
   {
    "duration": 217,
    "start_time": "2022-03-08T14:18:13.593Z"
   },
   {
    "duration": 4,
    "start_time": "2022-03-08T14:18:30.946Z"
   },
   {
    "duration": 5,
    "start_time": "2022-03-08T14:18:49.541Z"
   },
   {
    "duration": 6,
    "start_time": "2022-03-08T14:18:56.554Z"
   },
   {
    "duration": 7,
    "start_time": "2022-03-08T14:21:27.386Z"
   },
   {
    "duration": 3,
    "start_time": "2022-03-08T14:22:11.034Z"
   },
   {
    "duration": 10,
    "start_time": "2022-03-08T14:23:43.995Z"
   },
   {
    "duration": 17,
    "start_time": "2022-03-08T14:23:56.170Z"
   },
   {
    "duration": 15,
    "start_time": "2022-03-08T14:24:07.131Z"
   },
   {
    "duration": 17,
    "start_time": "2022-03-08T14:24:16.975Z"
   },
   {
    "duration": 241,
    "start_time": "2022-03-08T16:09:27.656Z"
   },
   {
    "duration": 665,
    "start_time": "2022-03-08T16:09:35.027Z"
   },
   {
    "duration": 58,
    "start_time": "2022-03-08T16:09:35.694Z"
   },
   {
    "duration": 6,
    "start_time": "2022-03-08T16:09:35.754Z"
   },
   {
    "duration": 157,
    "start_time": "2022-03-08T16:09:35.762Z"
   },
   {
    "duration": 21,
    "start_time": "2022-03-08T16:09:35.921Z"
   },
   {
    "duration": 100,
    "start_time": "2022-03-08T16:09:35.944Z"
   },
   {
    "duration": 19,
    "start_time": "2022-03-08T16:09:36.045Z"
   },
   {
    "duration": 145,
    "start_time": "2022-03-08T16:09:36.066Z"
   },
   {
    "duration": 17,
    "start_time": "2022-03-08T16:09:36.213Z"
   },
   {
    "duration": 15,
    "start_time": "2022-03-08T16:09:36.232Z"
   },
   {
    "duration": 7,
    "start_time": "2022-03-08T16:09:36.259Z"
   },
   {
    "duration": 17,
    "start_time": "2022-03-08T16:09:36.268Z"
   },
   {
    "duration": 7,
    "start_time": "2022-03-08T16:09:36.287Z"
   },
   {
    "duration": 7,
    "start_time": "2022-03-08T16:09:36.296Z"
   },
   {
    "duration": 6,
    "start_time": "2022-03-08T16:09:36.306Z"
   },
   {
    "duration": 6,
    "start_time": "2022-03-08T16:09:36.359Z"
   },
   {
    "duration": 6,
    "start_time": "2022-03-08T16:09:36.367Z"
   },
   {
    "duration": 6,
    "start_time": "2022-03-08T16:09:36.374Z"
   },
   {
    "duration": 30,
    "start_time": "2022-03-08T16:09:36.382Z"
   },
   {
    "duration": 195,
    "start_time": "2022-03-08T16:09:36.414Z"
   },
   {
    "duration": 13,
    "start_time": "2022-03-08T16:09:36.611Z"
   },
   {
    "duration": 106,
    "start_time": "2022-03-08T16:09:36.626Z"
   },
   {
    "duration": 37,
    "start_time": "2022-03-08T16:09:36.734Z"
   },
   {
    "duration": 119,
    "start_time": "2022-03-08T16:09:36.772Z"
   },
   {
    "duration": 7,
    "start_time": "2022-03-08T16:09:36.893Z"
   },
   {
    "duration": 118,
    "start_time": "2022-03-08T16:09:36.902Z"
   },
   {
    "duration": 44,
    "start_time": "2022-03-08T16:09:37.023Z"
   },
   {
    "duration": 54,
    "start_time": "2022-03-08T16:09:37.069Z"
   },
   {
    "duration": 81,
    "start_time": "2022-03-08T16:09:37.124Z"
   },
   {
    "duration": 4,
    "start_time": "2022-03-08T16:09:37.207Z"
   },
   {
    "duration": 11,
    "start_time": "2022-03-08T16:09:37.213Z"
   },
   {
    "duration": 14,
    "start_time": "2022-03-08T16:09:37.226Z"
   },
   {
    "duration": 11,
    "start_time": "2022-03-08T16:09:37.259Z"
   },
   {
    "duration": 17,
    "start_time": "2022-03-08T16:13:08.290Z"
   },
   {
    "duration": 276,
    "start_time": "2022-03-08T16:13:44.994Z"
   },
   {
    "duration": 17,
    "start_time": "2022-03-08T16:14:16.858Z"
   },
   {
    "duration": 16,
    "start_time": "2022-03-08T16:15:22.246Z"
   },
   {
    "duration": 6,
    "start_time": "2022-03-08T16:15:29.259Z"
   },
   {
    "duration": 4844,
    "start_time": "2022-03-08T16:21:18.056Z"
   },
   {
    "duration": 55,
    "start_time": "2022-03-08T16:21:31.324Z"
   },
   {
    "duration": 13,
    "start_time": "2022-03-08T16:21:35.524Z"
   },
   {
    "duration": 42,
    "start_time": "2022-03-08T16:29:01.046Z"
   },
   {
    "duration": 45,
    "start_time": "2022-03-08T16:29:09.958Z"
   },
   {
    "duration": 64,
    "start_time": "2022-03-08T16:30:48.242Z"
   },
   {
    "duration": 55,
    "start_time": "2022-03-08T16:34:09.219Z"
   },
   {
    "duration": 59,
    "start_time": "2022-03-08T16:34:22.467Z"
   },
   {
    "duration": 56,
    "start_time": "2022-03-08T16:34:35.469Z"
   },
   {
    "duration": 785,
    "start_time": "2022-03-08T16:36:58.814Z"
   },
   {
    "duration": 31,
    "start_time": "2022-03-08T16:37:19.562Z"
   },
   {
    "duration": 737,
    "start_time": "2022-03-08T16:37:56.209Z"
   },
   {
    "duration": 29,
    "start_time": "2022-03-08T16:38:16.462Z"
   },
   {
    "duration": 25,
    "start_time": "2022-03-08T16:38:25.874Z"
   },
   {
    "duration": 31,
    "start_time": "2022-03-08T16:38:36.600Z"
   },
   {
    "duration": 25,
    "start_time": "2022-03-08T16:38:44.565Z"
   },
   {
    "duration": 49,
    "start_time": "2022-03-08T16:38:49.745Z"
   },
   {
    "duration": 55,
    "start_time": "2022-03-08T16:38:56.989Z"
   },
   {
    "duration": 31,
    "start_time": "2022-03-08T16:39:04.673Z"
   },
   {
    "duration": 35,
    "start_time": "2022-03-08T16:42:22.545Z"
   },
   {
    "duration": 3,
    "start_time": "2022-03-08T16:45:37.155Z"
   },
   {
    "duration": 309,
    "start_time": "2022-03-08T16:56:52.748Z"
   },
   {
    "duration": 19,
    "start_time": "2022-03-08T16:59:21.983Z"
   },
   {
    "duration": 16,
    "start_time": "2022-03-08T17:00:07.209Z"
   },
   {
    "duration": 17,
    "start_time": "2022-03-08T17:01:34.979Z"
   },
   {
    "duration": 2,
    "start_time": "2022-03-08T17:09:34.990Z"
   },
   {
    "duration": 2,
    "start_time": "2022-03-08T17:11:16.678Z"
   },
   {
    "duration": 8,
    "start_time": "2022-03-08T17:14:35.894Z"
   },
   {
    "duration": 25,
    "start_time": "2022-03-08T17:14:44.798Z"
   },
   {
    "duration": 28,
    "start_time": "2022-03-08T17:15:10.258Z"
   },
   {
    "duration": 32,
    "start_time": "2022-03-08T17:15:16.270Z"
   },
   {
    "duration": 16,
    "start_time": "2022-03-08T17:15:24.518Z"
   },
   {
    "duration": 12,
    "start_time": "2022-03-08T17:15:28.294Z"
   },
   {
    "duration": 4546,
    "start_time": "2022-03-08T17:18:09.458Z"
   },
   {
    "duration": 209,
    "start_time": "2022-03-08T17:18:29.710Z"
   },
   {
    "duration": 13,
    "start_time": "2022-03-08T17:19:22.630Z"
   },
   {
    "duration": 15,
    "start_time": "2022-03-08T17:21:22.603Z"
   },
   {
    "duration": 17,
    "start_time": "2022-03-08T17:21:26.855Z"
   },
   {
    "duration": 21,
    "start_time": "2022-03-08T17:22:12.786Z"
   },
   {
    "duration": 17,
    "start_time": "2022-03-08T17:22:21.963Z"
   },
   {
    "duration": 17,
    "start_time": "2022-03-08T17:25:13.013Z"
   },
   {
    "duration": 18,
    "start_time": "2022-03-08T17:27:27.810Z"
   },
   {
    "duration": 25,
    "start_time": "2022-03-08T17:29:15.402Z"
   },
   {
    "duration": 25,
    "start_time": "2022-03-08T17:29:29.571Z"
   },
   {
    "duration": 183,
    "start_time": "2022-03-08T17:35:13.929Z"
   },
   {
    "duration": 10,
    "start_time": "2022-03-08T17:35:19.288Z"
   },
   {
    "duration": 24,
    "start_time": "2022-03-08T17:38:23.401Z"
   },
   {
    "duration": 67,
    "start_time": "2022-03-08T17:49:03.839Z"
   },
   {
    "duration": 197,
    "start_time": "2022-03-08T17:49:27.951Z"
   },
   {
    "duration": 193,
    "start_time": "2022-03-08T17:50:46.231Z"
   },
   {
    "duration": 29,
    "start_time": "2022-03-08T17:51:17.303Z"
   },
   {
    "duration": 210,
    "start_time": "2022-03-08T17:53:01.762Z"
   },
   {
    "duration": 12,
    "start_time": "2022-03-08T17:53:16.191Z"
   },
   {
    "duration": 12,
    "start_time": "2022-03-08T17:53:33.235Z"
   },
   {
    "duration": 13,
    "start_time": "2022-03-08T17:53:57.796Z"
   },
   {
    "duration": 12,
    "start_time": "2022-03-08T17:54:14.048Z"
   },
   {
    "duration": 12,
    "start_time": "2022-03-08T17:54:18.932Z"
   },
   {
    "duration": 11,
    "start_time": "2022-03-08T17:54:23.320Z"
   },
   {
    "duration": 18,
    "start_time": "2022-03-08T17:55:37.268Z"
   },
   {
    "duration": 29,
    "start_time": "2022-03-08T17:55:45.555Z"
   },
   {
    "duration": 29,
    "start_time": "2022-03-08T17:56:40.994Z"
   },
   {
    "duration": 44,
    "start_time": "2022-03-08T17:56:49.010Z"
   },
   {
    "duration": 42,
    "start_time": "2022-03-08T17:57:52.880Z"
   },
   {
    "duration": 42,
    "start_time": "2022-03-08T17:58:03.382Z"
   },
   {
    "duration": 204,
    "start_time": "2022-03-08T17:59:59.004Z"
   },
   {
    "duration": 8,
    "start_time": "2022-03-08T18:01:50.127Z"
   },
   {
    "duration": 10,
    "start_time": "2022-03-08T18:02:05.180Z"
   },
   {
    "duration": 600,
    "start_time": "2022-03-09T04:27:14.956Z"
   },
   {
    "duration": 35,
    "start_time": "2022-03-09T04:27:15.558Z"
   },
   {
    "duration": 6,
    "start_time": "2022-03-09T04:27:15.595Z"
   },
   {
    "duration": 153,
    "start_time": "2022-03-09T04:27:15.602Z"
   },
   {
    "duration": 20,
    "start_time": "2022-03-09T04:27:15.757Z"
   },
   {
    "duration": 101,
    "start_time": "2022-03-09T04:27:15.778Z"
   },
   {
    "duration": 14,
    "start_time": "2022-03-09T04:27:15.880Z"
   },
   {
    "duration": 146,
    "start_time": "2022-03-09T04:27:15.897Z"
   },
   {
    "duration": 17,
    "start_time": "2022-03-09T04:27:16.044Z"
   },
   {
    "duration": 16,
    "start_time": "2022-03-09T04:27:16.062Z"
   },
   {
    "duration": 5,
    "start_time": "2022-03-09T04:27:16.080Z"
   },
   {
    "duration": 16,
    "start_time": "2022-03-09T04:27:16.087Z"
   },
   {
    "duration": 6,
    "start_time": "2022-03-09T04:27:16.133Z"
   },
   {
    "duration": 10,
    "start_time": "2022-03-09T04:27:16.140Z"
   },
   {
    "duration": 6,
    "start_time": "2022-03-09T04:27:16.151Z"
   },
   {
    "duration": 6,
    "start_time": "2022-03-09T04:27:16.159Z"
   },
   {
    "duration": 6,
    "start_time": "2022-03-09T04:27:16.166Z"
   },
   {
    "duration": 7,
    "start_time": "2022-03-09T04:27:16.173Z"
   },
   {
    "duration": 56,
    "start_time": "2022-03-09T04:27:16.181Z"
   },
   {
    "duration": 156,
    "start_time": "2022-03-09T04:27:16.238Z"
   },
   {
    "duration": 12,
    "start_time": "2022-03-09T04:27:16.395Z"
   },
   {
    "duration": 94,
    "start_time": "2022-03-09T04:27:16.408Z"
   },
   {
    "duration": 35,
    "start_time": "2022-03-09T04:27:16.504Z"
   },
   {
    "duration": 115,
    "start_time": "2022-03-09T04:27:16.540Z"
   },
   {
    "duration": 5,
    "start_time": "2022-03-09T04:27:16.657Z"
   },
   {
    "duration": 103,
    "start_time": "2022-03-09T04:27:16.664Z"
   },
   {
    "duration": 37,
    "start_time": "2022-03-09T04:27:16.769Z"
   },
   {
    "duration": 71,
    "start_time": "2022-03-09T04:27:16.807Z"
   },
   {
    "duration": 69,
    "start_time": "2022-03-09T04:27:16.879Z"
   },
   {
    "duration": 5,
    "start_time": "2022-03-09T04:27:16.950Z"
   },
   {
    "duration": 12,
    "start_time": "2022-03-09T04:27:16.956Z"
   },
   {
    "duration": 13,
    "start_time": "2022-03-09T04:27:16.969Z"
   },
   {
    "duration": 65,
    "start_time": "2022-03-09T04:27:16.984Z"
   },
   {
    "duration": 67,
    "start_time": "2022-03-09T04:27:17.050Z"
   },
   {
    "duration": 49,
    "start_time": "2022-03-09T04:27:17.118Z"
   },
   {
    "duration": 27,
    "start_time": "2022-03-09T04:27:17.168Z"
   },
   {
    "duration": 38,
    "start_time": "2022-03-09T04:27:17.196Z"
   },
   {
    "duration": 39,
    "start_time": "2022-03-09T04:27:17.235Z"
   },
   {
    "duration": 16,
    "start_time": "2022-03-09T04:29:56.542Z"
   },
   {
    "duration": 23,
    "start_time": "2022-03-09T04:31:12.923Z"
   },
   {
    "duration": 25,
    "start_time": "2022-03-09T04:32:13.419Z"
   },
   {
    "duration": 15,
    "start_time": "2022-03-09T04:34:16.049Z"
   },
   {
    "duration": 17,
    "start_time": "2022-03-09T04:34:27.209Z"
   },
   {
    "duration": 240,
    "start_time": "2022-03-09T04:34:42.739Z"
   },
   {
    "duration": 13,
    "start_time": "2022-03-09T04:34:48.801Z"
   },
   {
    "duration": 23,
    "start_time": "2022-03-09T04:35:21.517Z"
   },
   {
    "duration": 18,
    "start_time": "2022-03-09T04:35:33.298Z"
   },
   {
    "duration": 24,
    "start_time": "2022-03-09T04:35:38.667Z"
   },
   {
    "duration": 150,
    "start_time": "2022-03-09T04:45:52.677Z"
   },
   {
    "duration": 149,
    "start_time": "2022-03-09T04:46:34.431Z"
   },
   {
    "duration": 147,
    "start_time": "2022-03-09T04:46:46.425Z"
   },
   {
    "duration": 27,
    "start_time": "2022-03-09T04:47:44.839Z"
   },
   {
    "duration": 188,
    "start_time": "2022-03-09T07:32:38.421Z"
   },
   {
    "duration": 14,
    "start_time": "2022-03-09T07:32:57.686Z"
   },
   {
    "duration": 11,
    "start_time": "2022-03-09T07:33:44.905Z"
   },
   {
    "duration": 11,
    "start_time": "2022-03-09T07:34:16.277Z"
   },
   {
    "duration": 180,
    "start_time": "2022-03-09T07:36:07.084Z"
   },
   {
    "duration": 205,
    "start_time": "2022-03-09T07:37:22.271Z"
   },
   {
    "duration": 13,
    "start_time": "2022-03-09T07:37:34.007Z"
   },
   {
    "duration": 8,
    "start_time": "2022-03-09T07:37:41.431Z"
   },
   {
    "duration": 716,
    "start_time": "2022-03-09T07:37:56.533Z"
   },
   {
    "duration": 32,
    "start_time": "2022-03-09T07:37:57.251Z"
   },
   {
    "duration": 7,
    "start_time": "2022-03-09T07:37:57.287Z"
   },
   {
    "duration": 164,
    "start_time": "2022-03-09T07:37:57.295Z"
   },
   {
    "duration": 21,
    "start_time": "2022-03-09T07:37:57.461Z"
   },
   {
    "duration": 99,
    "start_time": "2022-03-09T07:37:57.483Z"
   },
   {
    "duration": 14,
    "start_time": "2022-03-09T07:37:57.585Z"
   },
   {
    "duration": 143,
    "start_time": "2022-03-09T07:37:57.601Z"
   },
   {
    "duration": 17,
    "start_time": "2022-03-09T07:37:57.745Z"
   },
   {
    "duration": 18,
    "start_time": "2022-03-09T07:37:57.764Z"
   },
   {
    "duration": 11,
    "start_time": "2022-03-09T07:37:57.784Z"
   },
   {
    "duration": 43,
    "start_time": "2022-03-09T07:37:57.798Z"
   },
   {
    "duration": 11,
    "start_time": "2022-03-09T07:37:57.843Z"
   },
   {
    "duration": 24,
    "start_time": "2022-03-09T07:37:57.856Z"
   },
   {
    "duration": 9,
    "start_time": "2022-03-09T07:37:57.882Z"
   },
   {
    "duration": 7,
    "start_time": "2022-03-09T07:37:57.893Z"
   },
   {
    "duration": 7,
    "start_time": "2022-03-09T07:37:57.902Z"
   },
   {
    "duration": 7,
    "start_time": "2022-03-09T07:37:57.911Z"
   },
   {
    "duration": 42,
    "start_time": "2022-03-09T07:37:57.919Z"
   },
   {
    "duration": 174,
    "start_time": "2022-03-09T07:37:57.963Z"
   },
   {
    "duration": 18,
    "start_time": "2022-03-09T07:37:58.139Z"
   },
   {
    "duration": 157,
    "start_time": "2022-03-09T07:37:58.162Z"
   },
   {
    "duration": 41,
    "start_time": "2022-03-09T07:37:58.322Z"
   },
   {
    "duration": 129,
    "start_time": "2022-03-09T07:37:58.366Z"
   },
   {
    "duration": 5,
    "start_time": "2022-03-09T07:37:58.497Z"
   },
   {
    "duration": 119,
    "start_time": "2022-03-09T07:37:58.504Z"
   },
   {
    "duration": 50,
    "start_time": "2022-03-09T07:37:58.625Z"
   },
   {
    "duration": 84,
    "start_time": "2022-03-09T07:37:58.677Z"
   },
   {
    "duration": 79,
    "start_time": "2022-03-09T07:37:58.762Z"
   },
   {
    "duration": 5,
    "start_time": "2022-03-09T07:37:58.842Z"
   },
   {
    "duration": 10,
    "start_time": "2022-03-09T07:37:58.849Z"
   },
   {
    "duration": 15,
    "start_time": "2022-03-09T07:37:58.861Z"
   },
   {
    "duration": 67,
    "start_time": "2022-03-09T07:37:58.877Z"
   },
   {
    "duration": 67,
    "start_time": "2022-03-09T07:37:58.946Z"
   },
   {
    "duration": 48,
    "start_time": "2022-03-09T07:37:59.015Z"
   },
   {
    "duration": 28,
    "start_time": "2022-03-09T07:37:59.065Z"
   },
   {
    "duration": 46,
    "start_time": "2022-03-09T07:37:59.095Z"
   },
   {
    "duration": 38,
    "start_time": "2022-03-09T07:37:59.143Z"
   },
   {
    "duration": 20,
    "start_time": "2022-03-09T07:37:59.183Z"
   },
   {
    "duration": 35,
    "start_time": "2022-03-09T07:37:59.205Z"
   },
   {
    "duration": 8,
    "start_time": "2022-03-09T07:38:33.298Z"
   },
   {
    "duration": 21,
    "start_time": "2022-03-09T07:38:38.357Z"
   },
   {
    "duration": 10,
    "start_time": "2022-03-09T07:39:21.453Z"
   },
   {
    "duration": 257,
    "start_time": "2022-03-09T07:39:30.873Z"
   },
   {
    "duration": 11,
    "start_time": "2022-03-09T07:40:05.329Z"
   },
   {
    "duration": 12,
    "start_time": "2022-03-09T08:31:10.926Z"
   },
   {
    "duration": 9,
    "start_time": "2022-03-09T08:33:37.676Z"
   },
   {
    "duration": 17,
    "start_time": "2022-03-09T08:33:42.158Z"
   },
   {
    "duration": 384,
    "start_time": "2022-03-09T15:03:04.478Z"
   },
   {
    "duration": 949,
    "start_time": "2022-03-09T15:03:12.884Z"
   },
   {
    "duration": 50,
    "start_time": "2022-03-09T15:03:13.835Z"
   },
   {
    "duration": 9,
    "start_time": "2022-03-09T15:03:13.889Z"
   },
   {
    "duration": 248,
    "start_time": "2022-03-09T15:03:13.901Z"
   },
   {
    "duration": 43,
    "start_time": "2022-03-09T15:03:14.152Z"
   },
   {
    "duration": 140,
    "start_time": "2022-03-09T15:03:14.198Z"
   },
   {
    "duration": 34,
    "start_time": "2022-03-09T15:03:14.340Z"
   },
   {
    "duration": 220,
    "start_time": "2022-03-09T15:03:14.380Z"
   },
   {
    "duration": 23,
    "start_time": "2022-03-09T15:03:14.604Z"
   },
   {
    "duration": 43,
    "start_time": "2022-03-09T15:03:14.630Z"
   },
   {
    "duration": 10,
    "start_time": "2022-03-09T15:03:14.675Z"
   },
   {
    "duration": 29,
    "start_time": "2022-03-09T15:03:14.688Z"
   },
   {
    "duration": 9,
    "start_time": "2022-03-09T15:03:14.719Z"
   },
   {
    "duration": 48,
    "start_time": "2022-03-09T15:03:14.730Z"
   },
   {
    "duration": 13,
    "start_time": "2022-03-09T15:03:14.781Z"
   },
   {
    "duration": 17,
    "start_time": "2022-03-09T15:03:14.796Z"
   },
   {
    "duration": 14,
    "start_time": "2022-03-09T15:03:14.815Z"
   },
   {
    "duration": 10,
    "start_time": "2022-03-09T15:03:14.832Z"
   },
   {
    "duration": 63,
    "start_time": "2022-03-09T15:03:14.845Z"
   },
   {
    "duration": 270,
    "start_time": "2022-03-09T15:03:14.911Z"
   },
   {
    "duration": 19,
    "start_time": "2022-03-09T15:03:15.184Z"
   },
   {
    "duration": 159,
    "start_time": "2022-03-09T15:03:15.205Z"
   },
   {
    "duration": 41,
    "start_time": "2022-03-09T15:03:15.369Z"
   },
   {
    "duration": 188,
    "start_time": "2022-03-09T15:03:15.413Z"
   },
   {
    "duration": 9,
    "start_time": "2022-03-09T15:03:15.604Z"
   },
   {
    "duration": 173,
    "start_time": "2022-03-09T15:03:15.616Z"
   },
   {
    "duration": 67,
    "start_time": "2022-03-09T15:03:15.791Z"
   },
   {
    "duration": 132,
    "start_time": "2022-03-09T15:03:15.874Z"
   },
   {
    "duration": 110,
    "start_time": "2022-03-09T15:03:16.008Z"
   },
   {
    "duration": 7,
    "start_time": "2022-03-09T15:03:16.120Z"
   },
   {
    "duration": 31,
    "start_time": "2022-03-09T15:03:16.130Z"
   },
   {
    "duration": 23,
    "start_time": "2022-03-09T15:03:16.164Z"
   },
   {
    "duration": 94,
    "start_time": "2022-03-09T15:03:16.190Z"
   },
   {
    "duration": 109,
    "start_time": "2022-03-09T15:03:16.287Z"
   },
   {
    "duration": 53,
    "start_time": "2022-03-09T15:03:16.398Z"
   },
   {
    "duration": 68,
    "start_time": "2022-03-09T15:03:16.454Z"
   },
   {
    "duration": 49,
    "start_time": "2022-03-09T15:03:16.525Z"
   },
   {
    "duration": 60,
    "start_time": "2022-03-09T15:03:16.577Z"
   },
   {
    "duration": 20,
    "start_time": "2022-03-09T15:03:16.639Z"
   },
   {
    "duration": 26,
    "start_time": "2022-03-09T15:03:16.675Z"
   },
   {
    "duration": 30,
    "start_time": "2022-03-09T15:03:16.703Z"
   },
   {
    "duration": 41,
    "start_time": "2022-03-09T15:03:31.769Z"
   },
   {
    "duration": 42,
    "start_time": "2022-03-09T15:05:58.549Z"
   },
   {
    "duration": 43,
    "start_time": "2022-03-09T15:06:49.236Z"
   },
   {
    "duration": 40,
    "start_time": "2022-03-09T15:07:23.330Z"
   },
   {
    "duration": 51,
    "start_time": "2022-03-09T15:08:22.374Z"
   },
   {
    "duration": 44,
    "start_time": "2022-03-09T15:08:34.683Z"
   },
   {
    "duration": 49,
    "start_time": "2022-03-09T15:08:41.890Z"
   },
   {
    "duration": 49,
    "start_time": "2022-03-09T15:09:00.770Z"
   },
   {
    "duration": 69,
    "start_time": "2022-03-09T15:11:26.867Z"
   },
   {
    "duration": 1689,
    "start_time": "2022-03-09T15:37:48.679Z"
   },
   {
    "duration": 31,
    "start_time": "2022-03-09T15:38:30.179Z"
   },
   {
    "duration": 1656,
    "start_time": "2022-03-09T15:38:35.499Z"
   },
   {
    "duration": 48,
    "start_time": "2022-03-09T15:38:57.182Z"
   },
   {
    "duration": 641,
    "start_time": "2022-03-09T15:39:57.883Z"
   },
   {
    "duration": 318,
    "start_time": "2022-03-09T15:40:10.215Z"
   },
   {
    "duration": 311,
    "start_time": "2022-03-09T15:40:24.859Z"
   },
   {
    "duration": 98,
    "start_time": "2022-03-09T15:40:37.512Z"
   },
   {
    "duration": 90,
    "start_time": "2022-03-09T15:41:03.691Z"
   },
   {
    "duration": 289,
    "start_time": "2022-03-09T15:41:16.576Z"
   },
   {
    "duration": 41,
    "start_time": "2022-03-09T15:41:28.343Z"
   },
   {
    "duration": 6691,
    "start_time": "2022-03-09T15:41:47.848Z"
   },
   {
    "duration": 6625,
    "start_time": "2022-03-09T15:42:23.876Z"
   },
   {
    "duration": 7110,
    "start_time": "2022-03-09T15:42:54.028Z"
   },
   {
    "duration": 41,
    "start_time": "2022-03-09T15:43:06.310Z"
   },
   {
    "duration": 736,
    "start_time": "2022-03-09T15:43:27.392Z"
   },
   {
    "duration": 42,
    "start_time": "2022-03-09T15:44:21.394Z"
   },
   {
    "duration": 465,
    "start_time": "2022-03-09T15:44:45.625Z"
   },
   {
    "duration": 36,
    "start_time": "2022-03-09T15:45:01.130Z"
   },
   {
    "duration": 672,
    "start_time": "2022-03-09T15:45:04.825Z"
   },
   {
    "duration": 52,
    "start_time": "2022-03-09T15:58:57.845Z"
   },
   {
    "duration": 113,
    "start_time": "2022-03-09T16:00:38.726Z"
   },
   {
    "duration": 20522,
    "start_time": "2022-03-09T16:00:56.569Z"
   },
   {
    "duration": 20897,
    "start_time": "2022-03-09T16:01:18.350Z"
   },
   {
    "duration": 19739,
    "start_time": "2022-03-09T16:16:58.606Z"
   },
   {
    "duration": 21171,
    "start_time": "2022-03-09T16:17:33.596Z"
   },
   {
    "duration": 33,
    "start_time": "2022-03-09T16:18:01.864Z"
   },
   {
    "duration": 6524,
    "start_time": "2022-03-09T16:27:09.862Z"
   },
   {
    "duration": 16173,
    "start_time": "2022-03-09T16:28:40.834Z"
   },
   {
    "duration": 6175,
    "start_time": "2022-03-09T16:30:47.904Z"
   },
   {
    "duration": 6570,
    "start_time": "2022-03-09T16:31:49.603Z"
   },
   {
    "duration": 6232,
    "start_time": "2022-03-09T16:32:26.379Z"
   },
   {
    "duration": 5833,
    "start_time": "2022-03-09T16:33:44.959Z"
   },
   {
    "duration": 20,
    "start_time": "2022-03-09T16:34:54.024Z"
   },
   {
    "duration": 17,
    "start_time": "2022-03-09T16:36:25.724Z"
   },
   {
    "duration": 17,
    "start_time": "2022-03-09T16:36:34.992Z"
   },
   {
    "duration": 12,
    "start_time": "2022-03-09T16:36:55.528Z"
   },
   {
    "duration": 11,
    "start_time": "2022-03-09T16:37:34.565Z"
   },
   {
    "duration": 6561,
    "start_time": "2022-03-09T16:37:58.169Z"
   },
   {
    "duration": 15,
    "start_time": "2022-03-09T16:38:59.953Z"
   },
   {
    "duration": 173,
    "start_time": "2022-03-09T16:39:23.649Z"
   },
   {
    "duration": 12,
    "start_time": "2022-03-09T16:39:33.141Z"
   },
   {
    "duration": 1013,
    "start_time": "2022-03-09T16:39:43.551Z"
   },
   {
    "duration": 55,
    "start_time": "2022-03-09T16:39:44.567Z"
   },
   {
    "duration": 9,
    "start_time": "2022-03-09T16:39:44.626Z"
   },
   {
    "duration": 290,
    "start_time": "2022-03-09T16:39:44.638Z"
   },
   {
    "duration": 49,
    "start_time": "2022-03-09T16:39:44.931Z"
   },
   {
    "duration": 157,
    "start_time": "2022-03-09T16:39:44.983Z"
   },
   {
    "duration": 32,
    "start_time": "2022-03-09T16:39:45.142Z"
   },
   {
    "duration": 230,
    "start_time": "2022-03-09T16:39:45.179Z"
   },
   {
    "duration": 23,
    "start_time": "2022-03-09T16:39:45.412Z"
   },
   {
    "duration": 47,
    "start_time": "2022-03-09T16:39:45.439Z"
   },
   {
    "duration": 11,
    "start_time": "2022-03-09T16:39:45.490Z"
   },
   {
    "duration": 29,
    "start_time": "2022-03-09T16:39:45.504Z"
   },
   {
    "duration": 45,
    "start_time": "2022-03-09T16:39:45.536Z"
   },
   {
    "duration": 12,
    "start_time": "2022-03-09T16:39:45.584Z"
   },
   {
    "duration": 14,
    "start_time": "2022-03-09T16:39:45.599Z"
   },
   {
    "duration": 20,
    "start_time": "2022-03-09T16:39:45.617Z"
   },
   {
    "duration": 39,
    "start_time": "2022-03-09T16:39:45.640Z"
   },
   {
    "duration": 12,
    "start_time": "2022-03-09T16:39:45.682Z"
   },
   {
    "duration": 44,
    "start_time": "2022-03-09T16:39:45.697Z"
   },
   {
    "duration": 406,
    "start_time": "2022-03-09T16:39:45.773Z"
   },
   {
    "duration": 23,
    "start_time": "2022-03-09T16:39:46.182Z"
   },
   {
    "duration": 170,
    "start_time": "2022-03-09T16:39:46.208Z"
   },
   {
    "duration": 65,
    "start_time": "2022-03-09T16:39:46.386Z"
   },
   {
    "duration": 304,
    "start_time": "2022-03-09T16:39:46.476Z"
   },
   {
    "duration": 11,
    "start_time": "2022-03-09T16:39:46.784Z"
   },
   {
    "duration": 192,
    "start_time": "2022-03-09T16:39:46.798Z"
   },
   {
    "duration": 86,
    "start_time": "2022-03-09T16:39:46.993Z"
   },
   {
    "duration": 146,
    "start_time": "2022-03-09T16:39:47.081Z"
   },
   {
    "duration": 117,
    "start_time": "2022-03-09T16:39:47.230Z"
   },
   {
    "duration": 8,
    "start_time": "2022-03-09T16:39:47.349Z"
   },
   {
    "duration": 17,
    "start_time": "2022-03-09T16:39:47.373Z"
   },
   {
    "duration": 33,
    "start_time": "2022-03-09T16:39:47.393Z"
   },
   {
    "duration": 108,
    "start_time": "2022-03-09T16:39:47.429Z"
   },
   {
    "duration": 147,
    "start_time": "2022-03-09T16:39:47.540Z"
   },
   {
    "duration": 96,
    "start_time": "2022-03-09T16:39:47.690Z"
   },
   {
    "duration": 63,
    "start_time": "2022-03-09T16:39:47.789Z"
   },
   {
    "duration": 50,
    "start_time": "2022-03-09T16:39:47.855Z"
   },
   {
    "duration": 75,
    "start_time": "2022-03-09T16:39:47.907Z"
   },
   {
    "duration": 13,
    "start_time": "2022-03-09T16:39:47.985Z"
   },
   {
    "duration": 31,
    "start_time": "2022-03-09T16:39:48.001Z"
   },
   {
    "duration": 64,
    "start_time": "2022-03-09T16:39:48.035Z"
   },
   {
    "duration": 15,
    "start_time": "2022-03-09T16:40:21.692Z"
   },
   {
    "duration": 8,
    "start_time": "2022-03-09T16:42:30.999Z"
   },
   {
    "duration": 603,
    "start_time": "2022-03-09T16:42:40.859Z"
   },
   {
    "duration": 16547,
    "start_time": "2022-03-09T16:43:00.983Z"
   },
   {
    "duration": 52,
    "start_time": "2022-03-09T16:44:38.963Z"
   },
   {
    "duration": 56,
    "start_time": "2022-03-09T16:44:57.291Z"
   },
   {
    "duration": 16014,
    "start_time": "2022-03-09T16:45:07.307Z"
   },
   {
    "duration": 50,
    "start_time": "2022-03-09T16:46:55.012Z"
   },
   {
    "duration": 14969,
    "start_time": "2022-03-09T16:47:00.632Z"
   },
   {
    "duration": 4012,
    "start_time": "2022-03-09T16:49:02.353Z"
   },
   {
    "duration": 36,
    "start_time": "2022-03-09T16:50:00.110Z"
   },
   {
    "duration": 38,
    "start_time": "2022-03-09T16:50:39.582Z"
   },
   {
    "duration": 38,
    "start_time": "2022-03-09T16:52:06.279Z"
   },
   {
    "duration": 43,
    "start_time": "2022-03-09T16:52:18.876Z"
   },
   {
    "duration": 4078,
    "start_time": "2022-03-09T16:53:45.210Z"
   },
   {
    "duration": 18095,
    "start_time": "2022-03-09T16:54:02.174Z"
   },
   {
    "duration": 55,
    "start_time": "2022-03-09T16:56:08.819Z"
   },
   {
    "duration": 53,
    "start_time": "2022-03-09T16:56:38.945Z"
   },
   {
    "duration": 33,
    "start_time": "2022-03-09T16:57:06.181Z"
   },
   {
    "duration": 8800,
    "start_time": "2022-03-09T16:58:07.332Z"
   },
   {
    "duration": 9726,
    "start_time": "2022-03-09T16:58:47.200Z"
   },
   {
    "duration": 5011,
    "start_time": "2022-03-09T16:59:46.278Z"
   },
   {
    "duration": 5814,
    "start_time": "2022-03-09T16:59:58.100Z"
   },
   {
    "duration": 6110,
    "start_time": "2022-03-09T17:00:25.988Z"
   },
   {
    "duration": 6241,
    "start_time": "2022-03-09T17:01:51.432Z"
   },
   {
    "duration": 865,
    "start_time": "2022-03-09T17:02:29.078Z"
   },
   {
    "duration": 51,
    "start_time": "2022-03-09T17:02:29.946Z"
   },
   {
    "duration": 10,
    "start_time": "2022-03-09T17:02:30.000Z"
   },
   {
    "duration": 234,
    "start_time": "2022-03-09T17:02:30.013Z"
   },
   {
    "duration": 37,
    "start_time": "2022-03-09T17:02:30.250Z"
   },
   {
    "duration": 141,
    "start_time": "2022-03-09T17:02:30.290Z"
   },
   {
    "duration": 19,
    "start_time": "2022-03-09T17:02:30.434Z"
   },
   {
    "duration": 200,
    "start_time": "2022-03-09T17:02:30.474Z"
   },
   {
    "duration": 23,
    "start_time": "2022-03-09T17:02:30.677Z"
   },
   {
    "duration": 22,
    "start_time": "2022-03-09T17:02:30.703Z"
   },
   {
    "duration": 15,
    "start_time": "2022-03-09T17:02:30.728Z"
   },
   {
    "duration": 51,
    "start_time": "2022-03-09T17:02:30.746Z"
   },
   {
    "duration": 9,
    "start_time": "2022-03-09T17:02:30.800Z"
   },
   {
    "duration": 13,
    "start_time": "2022-03-09T17:02:30.811Z"
   },
   {
    "duration": 13,
    "start_time": "2022-03-09T17:02:30.827Z"
   },
   {
    "duration": 34,
    "start_time": "2022-03-09T17:02:30.842Z"
   },
   {
    "duration": 11,
    "start_time": "2022-03-09T17:02:30.879Z"
   },
   {
    "duration": 9,
    "start_time": "2022-03-09T17:02:30.892Z"
   },
   {
    "duration": 76,
    "start_time": "2022-03-09T17:02:30.904Z"
   },
   {
    "duration": 247,
    "start_time": "2022-03-09T17:02:30.983Z"
   },
   {
    "duration": 22,
    "start_time": "2022-03-09T17:02:31.233Z"
   },
   {
    "duration": 169,
    "start_time": "2022-03-09T17:02:31.257Z"
   },
   {
    "duration": 66,
    "start_time": "2022-03-09T17:02:31.431Z"
   },
   {
    "duration": 177,
    "start_time": "2022-03-09T17:02:31.500Z"
   },
   {
    "duration": 9,
    "start_time": "2022-03-09T17:02:31.680Z"
   },
   {
    "duration": 181,
    "start_time": "2022-03-09T17:02:31.692Z"
   },
   {
    "duration": 66,
    "start_time": "2022-03-09T17:02:31.875Z"
   },
   {
    "duration": 140,
    "start_time": "2022-03-09T17:02:31.944Z"
   },
   {
    "duration": 114,
    "start_time": "2022-03-09T17:02:32.086Z"
   },
   {
    "duration": 8,
    "start_time": "2022-03-09T17:02:32.203Z"
   },
   {
    "duration": 16,
    "start_time": "2022-03-09T17:02:32.214Z"
   },
   {
    "duration": 47,
    "start_time": "2022-03-09T17:02:32.232Z"
   },
   {
    "duration": 74,
    "start_time": "2022-03-09T17:02:32.281Z"
   },
   {
    "duration": 122,
    "start_time": "2022-03-09T17:02:32.357Z"
   },
   {
    "duration": 67,
    "start_time": "2022-03-09T17:02:32.481Z"
   },
   {
    "duration": 68,
    "start_time": "2022-03-09T17:02:32.550Z"
   },
   {
    "duration": 55,
    "start_time": "2022-03-09T17:02:32.621Z"
   },
   {
    "duration": 106,
    "start_time": "2022-03-09T17:02:32.680Z"
   },
   {
    "duration": 15358,
    "start_time": "2022-03-09T17:02:32.791Z"
   },
   {
    "duration": 111,
    "start_time": "2022-03-09T17:02:48.040Z"
   },
   {
    "duration": 111,
    "start_time": "2022-03-09T17:02:48.042Z"
   },
   {
    "duration": 12757,
    "start_time": "2022-03-09T17:04:06.138Z"
   },
   {
    "duration": 50,
    "start_time": "2022-03-09T17:09:26.169Z"
   },
   {
    "duration": 950,
    "start_time": "2022-03-09T17:10:55.854Z"
   },
   {
    "duration": 67,
    "start_time": "2022-03-09T17:10:56.807Z"
   },
   {
    "duration": 9,
    "start_time": "2022-03-09T17:10:56.877Z"
   },
   {
    "duration": 248,
    "start_time": "2022-03-09T17:10:56.889Z"
   },
   {
    "duration": 41,
    "start_time": "2022-03-09T17:10:57.139Z"
   },
   {
    "duration": 986,
    "start_time": "2022-03-09T17:10:57.182Z"
   },
   {
    "duration": 24,
    "start_time": "2022-03-09T17:10:58.174Z"
   },
   {
    "duration": 222,
    "start_time": "2022-03-09T17:10:58.203Z"
   },
   {
    "duration": 24,
    "start_time": "2022-03-09T17:10:58.429Z"
   },
   {
    "duration": 25,
    "start_time": "2022-03-09T17:10:58.472Z"
   },
   {
    "duration": 14,
    "start_time": "2022-03-09T17:10:58.499Z"
   },
   {
    "duration": 60,
    "start_time": "2022-03-09T17:10:58.515Z"
   },
   {
    "duration": 10,
    "start_time": "2022-03-09T17:10:58.577Z"
   },
   {
    "duration": 11,
    "start_time": "2022-03-09T17:10:58.590Z"
   },
   {
    "duration": 12,
    "start_time": "2022-03-09T17:10:58.604Z"
   },
   {
    "duration": 12,
    "start_time": "2022-03-09T17:10:58.619Z"
   },
   {
    "duration": 47,
    "start_time": "2022-03-09T17:10:58.633Z"
   },
   {
    "duration": 9,
    "start_time": "2022-03-09T17:10:58.682Z"
   },
   {
    "duration": 81,
    "start_time": "2022-03-09T17:10:58.694Z"
   },
   {
    "duration": 285,
    "start_time": "2022-03-09T17:10:58.778Z"
   },
   {
    "duration": 21,
    "start_time": "2022-03-09T17:10:59.073Z"
   },
   {
    "duration": 167,
    "start_time": "2022-03-09T17:10:59.097Z"
   },
   {
    "duration": 44,
    "start_time": "2022-03-09T17:10:59.279Z"
   },
   {
    "duration": 204,
    "start_time": "2022-03-09T17:10:59.326Z"
   },
   {
    "duration": 25,
    "start_time": "2022-03-09T17:10:59.533Z"
   },
   {
    "duration": 168,
    "start_time": "2022-03-09T17:10:59.573Z"
   },
   {
    "duration": 84,
    "start_time": "2022-03-09T17:10:59.743Z"
   },
   {
    "duration": 133,
    "start_time": "2022-03-09T17:10:59.829Z"
   },
   {
    "duration": 120,
    "start_time": "2022-03-09T17:10:59.965Z"
   },
   {
    "duration": 7,
    "start_time": "2022-03-09T17:11:00.088Z"
   },
   {
    "duration": 17,
    "start_time": "2022-03-09T17:11:00.098Z"
   },
   {
    "duration": 25,
    "start_time": "2022-03-09T17:11:00.117Z"
   },
   {
    "duration": 104,
    "start_time": "2022-03-09T17:11:00.144Z"
   },
   {
    "duration": 140,
    "start_time": "2022-03-09T17:11:00.250Z"
   },
   {
    "duration": 56,
    "start_time": "2022-03-09T17:11:00.393Z"
   },
   {
    "duration": 71,
    "start_time": "2022-03-09T17:11:00.452Z"
   },
   {
    "duration": 49,
    "start_time": "2022-03-09T17:11:00.526Z"
   },
   {
    "duration": 63,
    "start_time": "2022-03-09T17:11:00.579Z"
   },
   {
    "duration": 13096,
    "start_time": "2022-03-09T17:11:00.645Z"
   },
   {
    "duration": 127,
    "start_time": "2022-03-09T17:11:13.618Z"
   },
   {
    "duration": 126,
    "start_time": "2022-03-09T17:11:13.621Z"
   },
   {
    "duration": 145,
    "start_time": "2022-03-09T17:20:01.117Z"
   },
   {
    "duration": 854,
    "start_time": "2022-03-09T17:20:15.862Z"
   },
   {
    "duration": 16787,
    "start_time": "2022-03-09T17:20:52.891Z"
   },
   {
    "duration": 6551,
    "start_time": "2022-03-09T17:21:52.902Z"
   },
   {
    "duration": 5792,
    "start_time": "2022-03-09T17:23:16.316Z"
   },
   {
    "duration": 5324,
    "start_time": "2022-03-09T17:23:47.286Z"
   },
   {
    "duration": 6860,
    "start_time": "2022-03-09T17:24:27.360Z"
   },
   {
    "duration": 7920,
    "start_time": "2022-03-09T17:24:34.347Z"
   },
   {
    "duration": 4923,
    "start_time": "2022-03-09T17:24:52.567Z"
   },
   {
    "duration": 4778,
    "start_time": "2022-03-09T17:25:47.106Z"
   },
   {
    "duration": 3487,
    "start_time": "2022-03-09T17:25:53.675Z"
   },
   {
    "duration": 483,
    "start_time": "2022-03-09T17:26:46.452Z"
   },
   {
    "duration": 4335,
    "start_time": "2022-03-09T17:27:26.302Z"
   },
   {
    "duration": 4412,
    "start_time": "2022-03-09T17:28:40.264Z"
   },
   {
    "duration": 5199,
    "start_time": "2022-03-09T17:29:56.712Z"
   },
   {
    "duration": 4884,
    "start_time": "2022-03-09T17:31:59.199Z"
   },
   {
    "duration": 4788,
    "start_time": "2022-03-09T17:32:19.635Z"
   },
   {
    "duration": 4890,
    "start_time": "2022-03-09T17:33:15.791Z"
   },
   {
    "duration": 4887,
    "start_time": "2022-03-09T17:33:48.817Z"
   },
   {
    "duration": 4972,
    "start_time": "2022-03-09T17:34:15.831Z"
   },
   {
    "duration": 5038,
    "start_time": "2022-03-09T17:34:21.557Z"
   },
   {
    "duration": 11,
    "start_time": "2022-03-09T17:47:07.729Z"
   },
   {
    "duration": 32,
    "start_time": "2022-03-09T17:47:15.373Z"
   },
   {
    "duration": 28,
    "start_time": "2022-03-09T17:47:21.586Z"
   },
   {
    "duration": 51,
    "start_time": "2022-03-09T17:47:49.729Z"
   },
   {
    "duration": 57,
    "start_time": "2022-03-09T17:48:41.641Z"
   },
   {
    "duration": 71,
    "start_time": "2022-03-09T17:48:59.550Z"
   },
   {
    "duration": 57,
    "start_time": "2022-03-09T17:49:16.150Z"
   },
   {
    "duration": 5045,
    "start_time": "2022-03-09T17:49:20.048Z"
   },
   {
    "duration": 589,
    "start_time": "2022-03-09T17:50:43.438Z"
   },
   {
    "duration": 434,
    "start_time": "2022-03-09T17:51:05.062Z"
   },
   {
    "duration": 618,
    "start_time": "2022-03-09T17:51:16.899Z"
   },
   {
    "duration": 3534,
    "start_time": "2022-03-09T17:51:56.087Z"
   },
   {
    "duration": 638,
    "start_time": "2022-03-09T17:52:07.651Z"
   },
   {
    "duration": 516,
    "start_time": "2022-03-09T17:52:13.406Z"
   },
   {
    "duration": 9853,
    "start_time": "2022-03-09T17:52:55.551Z"
   },
   {
    "duration": 909,
    "start_time": "2022-03-09T17:53:12.913Z"
   },
   {
    "duration": 624,
    "start_time": "2022-03-09T17:53:50.967Z"
   },
   {
    "duration": 623,
    "start_time": "2022-03-09T17:54:28.306Z"
   },
   {
    "duration": 440,
    "start_time": "2022-03-09T17:54:35.791Z"
   },
   {
    "duration": 630,
    "start_time": "2022-03-09T17:55:06.488Z"
   },
   {
    "duration": 647,
    "start_time": "2022-03-09T17:55:14.738Z"
   },
   {
    "duration": 698,
    "start_time": "2022-03-09T17:56:09.297Z"
   },
   {
    "duration": 649,
    "start_time": "2022-03-09T17:56:18.956Z"
   },
   {
    "duration": 641,
    "start_time": "2022-03-09T18:02:31.762Z"
   },
   {
    "duration": 492,
    "start_time": "2022-03-09T18:02:41.618Z"
   },
   {
    "duration": 687,
    "start_time": "2022-03-09T18:02:47.294Z"
   },
   {
    "duration": 833,
    "start_time": "2022-03-09T18:03:06.098Z"
   },
   {
    "duration": 523,
    "start_time": "2022-03-09T18:03:14.815Z"
   },
   {
    "duration": 502,
    "start_time": "2022-03-09T18:03:23.026Z"
   },
   {
    "duration": 86,
    "start_time": "2022-03-09T18:05:11.339Z"
   },
   {
    "duration": 408,
    "start_time": "2022-03-09T18:05:50.339Z"
   },
   {
    "duration": 409,
    "start_time": "2022-03-09T18:05:56.067Z"
   },
   {
    "duration": 324,
    "start_time": "2022-03-09T18:06:03.800Z"
   },
   {
    "duration": 421,
    "start_time": "2022-03-09T18:06:15.451Z"
   },
   {
    "duration": 856,
    "start_time": "2022-03-10T12:43:48.966Z"
   },
   {
    "duration": 61,
    "start_time": "2022-03-10T12:43:49.824Z"
   },
   {
    "duration": 11,
    "start_time": "2022-03-10T12:43:49.889Z"
   },
   {
    "duration": 224,
    "start_time": "2022-03-10T12:43:49.903Z"
   },
   {
    "duration": 33,
    "start_time": "2022-03-10T12:43:50.129Z"
   },
   {
    "duration": 150,
    "start_time": "2022-03-10T12:43:50.165Z"
   },
   {
    "duration": 22,
    "start_time": "2022-03-10T12:43:50.318Z"
   },
   {
    "duration": 195,
    "start_time": "2022-03-10T12:43:50.344Z"
   },
   {
    "duration": 23,
    "start_time": "2022-03-10T12:43:50.542Z"
   },
   {
    "duration": 30,
    "start_time": "2022-03-10T12:43:50.568Z"
   },
   {
    "duration": 34,
    "start_time": "2022-03-10T12:43:50.601Z"
   },
   {
    "duration": 32,
    "start_time": "2022-03-10T12:43:50.638Z"
   },
   {
    "duration": 11,
    "start_time": "2022-03-10T12:43:50.673Z"
   },
   {
    "duration": 19,
    "start_time": "2022-03-10T12:43:50.687Z"
   },
   {
    "duration": 29,
    "start_time": "2022-03-10T12:43:50.709Z"
   },
   {
    "duration": 11,
    "start_time": "2022-03-10T12:43:50.741Z"
   },
   {
    "duration": 17,
    "start_time": "2022-03-10T12:43:50.754Z"
   },
   {
    "duration": 10,
    "start_time": "2022-03-10T12:43:50.774Z"
   },
   {
    "duration": 72,
    "start_time": "2022-03-10T12:43:50.786Z"
   },
   {
    "duration": 238,
    "start_time": "2022-03-10T12:43:50.860Z"
   },
   {
    "duration": 35,
    "start_time": "2022-03-10T12:43:51.101Z"
   },
   {
    "duration": 133,
    "start_time": "2022-03-10T12:43:51.139Z"
   },
   {
    "duration": 37,
    "start_time": "2022-03-10T12:43:51.278Z"
   },
   {
    "duration": 170,
    "start_time": "2022-03-10T12:43:51.333Z"
   },
   {
    "duration": 10,
    "start_time": "2022-03-10T12:43:51.506Z"
   },
   {
    "duration": 141,
    "start_time": "2022-03-10T12:43:51.533Z"
   },
   {
    "duration": 78,
    "start_time": "2022-03-10T12:43:51.677Z"
   },
   {
    "duration": 108,
    "start_time": "2022-03-10T12:43:51.758Z"
   },
   {
    "duration": 107,
    "start_time": "2022-03-10T12:43:51.869Z"
   },
   {
    "duration": 7,
    "start_time": "2022-03-10T12:43:51.979Z"
   },
   {
    "duration": 23,
    "start_time": "2022-03-10T12:43:51.989Z"
   },
   {
    "duration": 29,
    "start_time": "2022-03-10T12:43:52.015Z"
   },
   {
    "duration": 91,
    "start_time": "2022-03-10T12:43:52.047Z"
   },
   {
    "duration": 98,
    "start_time": "2022-03-10T12:43:52.141Z"
   },
   {
    "duration": 48,
    "start_time": "2022-03-10T12:43:52.242Z"
   },
   {
    "duration": 66,
    "start_time": "2022-03-10T12:43:52.292Z"
   },
   {
    "duration": 23,
    "start_time": "2022-03-10T12:43:52.360Z"
   },
   {
    "duration": 68,
    "start_time": "2022-03-10T12:43:52.386Z"
   },
   {
    "duration": 4368,
    "start_time": "2022-03-10T12:43:52.457Z"
   },
   {
    "duration": 16,
    "start_time": "2022-03-10T12:43:56.827Z"
   },
   {
    "duration": 434,
    "start_time": "2022-03-10T12:43:56.846Z"
   },
   {
    "duration": 424,
    "start_time": "2022-03-10T12:43:57.283Z"
   },
   {
    "duration": 425,
    "start_time": "2022-03-10T12:43:57.710Z"
   },
   {
    "duration": 405,
    "start_time": "2022-03-10T12:44:27.390Z"
   },
   {
    "duration": 315,
    "start_time": "2022-03-10T12:44:32.164Z"
   },
   {
    "duration": 312,
    "start_time": "2022-03-10T12:44:39.622Z"
   },
   {
    "duration": 301,
    "start_time": "2022-03-10T12:45:06.091Z"
   },
   {
    "duration": 299,
    "start_time": "2022-03-10T12:45:13.701Z"
   },
   {
    "duration": 313,
    "start_time": "2022-03-10T12:45:32.001Z"
   },
   {
    "duration": 320,
    "start_time": "2022-03-10T12:45:37.247Z"
   },
   {
    "duration": 298,
    "start_time": "2022-03-10T12:45:41.087Z"
   },
   {
    "duration": 309,
    "start_time": "2022-03-10T12:46:03.579Z"
   },
   {
    "duration": 322,
    "start_time": "2022-03-10T12:46:08.363Z"
   },
   {
    "duration": 347,
    "start_time": "2022-03-10T12:46:14.439Z"
   },
   {
    "duration": 419,
    "start_time": "2022-03-10T12:46:20.027Z"
   },
   {
    "duration": 110,
    "start_time": "2022-03-10T12:49:54.132Z"
   },
   {
    "duration": 113,
    "start_time": "2022-03-10T12:59:57.373Z"
   },
   {
    "duration": 899,
    "start_time": "2022-03-10T13:00:25.133Z"
   },
   {
    "duration": 982,
    "start_time": "2022-03-10T13:00:33.899Z"
   },
   {
    "duration": 18,
    "start_time": "2022-03-10T13:00:56.960Z"
   },
   {
    "duration": 13,
    "start_time": "2022-03-10T13:03:48.092Z"
   },
   {
    "duration": 15,
    "start_time": "2022-03-10T13:04:28.788Z"
   },
   {
    "duration": 466,
    "start_time": "2022-03-10T13:05:52.677Z"
   },
   {
    "duration": 14,
    "start_time": "2022-03-10T13:06:45.387Z"
   },
   {
    "duration": 22,
    "start_time": "2022-03-10T13:07:07.082Z"
   },
   {
    "duration": 371,
    "start_time": "2022-03-10T13:08:07.915Z"
   },
   {
    "duration": 26,
    "start_time": "2022-03-10T13:08:48.106Z"
   },
   {
    "duration": 24,
    "start_time": "2022-03-10T13:10:48.802Z"
   },
   {
    "duration": 26,
    "start_time": "2022-03-10T13:12:19.648Z"
   },
   {
    "duration": 310,
    "start_time": "2022-03-10T13:23:17.026Z"
   },
   {
    "duration": 305,
    "start_time": "2022-03-10T13:23:59.204Z"
   },
   {
    "duration": 6,
    "start_time": "2022-03-10T13:24:58.176Z"
   },
   {
    "duration": 310,
    "start_time": "2022-03-10T13:25:20.770Z"
   },
   {
    "duration": 334,
    "start_time": "2022-03-10T13:25:27.329Z"
   },
   {
    "duration": 321,
    "start_time": "2022-03-10T13:25:48.740Z"
   },
   {
    "duration": 307,
    "start_time": "2022-03-10T13:25:54.614Z"
   },
   {
    "duration": 299,
    "start_time": "2022-03-10T13:26:05.890Z"
   },
   {
    "duration": 332,
    "start_time": "2022-03-10T13:26:14.618Z"
   },
   {
    "duration": 327,
    "start_time": "2022-03-10T13:26:30.796Z"
   },
   {
    "duration": 481,
    "start_time": "2022-03-10T13:26:51.143Z"
   },
   {
    "duration": 582,
    "start_time": "2022-03-10T13:27:01.159Z"
   },
   {
    "duration": 516,
    "start_time": "2022-03-10T13:27:07.823Z"
   },
   {
    "duration": 491,
    "start_time": "2022-03-10T13:27:17.495Z"
   },
   {
    "duration": 593,
    "start_time": "2022-03-10T13:27:47.215Z"
   },
   {
    "duration": 553,
    "start_time": "2022-03-10T13:27:54.079Z"
   },
   {
    "duration": 739,
    "start_time": "2022-03-10T13:27:59.719Z"
   },
   {
    "duration": 694,
    "start_time": "2022-03-10T13:28:04.976Z"
   },
   {
    "duration": 576,
    "start_time": "2022-03-10T13:30:00.040Z"
   },
   {
    "duration": 496,
    "start_time": "2022-03-10T13:30:11.276Z"
   },
   {
    "duration": 353,
    "start_time": "2022-03-10T13:38:43.155Z"
   },
   {
    "duration": 342,
    "start_time": "2022-03-10T13:38:52.126Z"
   },
   {
    "duration": 548,
    "start_time": "2022-03-10T13:39:12.915Z"
   },
   {
    "duration": 1429,
    "start_time": "2022-03-10T13:39:19.250Z"
   },
   {
    "duration": 59,
    "start_time": "2022-03-10T13:39:20.681Z"
   },
   {
    "duration": 9,
    "start_time": "2022-03-10T13:39:20.743Z"
   },
   {
    "duration": 218,
    "start_time": "2022-03-10T13:39:20.754Z"
   },
   {
    "duration": 25,
    "start_time": "2022-03-10T13:39:20.976Z"
   },
   {
    "duration": 140,
    "start_time": "2022-03-10T13:39:21.004Z"
   },
   {
    "duration": 20,
    "start_time": "2022-03-10T13:39:21.147Z"
   },
   {
    "duration": 200,
    "start_time": "2022-03-10T13:39:21.173Z"
   },
   {
    "duration": 23,
    "start_time": "2022-03-10T13:39:21.376Z"
   },
   {
    "duration": 36,
    "start_time": "2022-03-10T13:39:21.402Z"
   },
   {
    "duration": 8,
    "start_time": "2022-03-10T13:39:21.440Z"
   },
   {
    "duration": 25,
    "start_time": "2022-03-10T13:39:21.451Z"
   },
   {
    "duration": 8,
    "start_time": "2022-03-10T13:39:21.479Z"
   },
   {
    "duration": 47,
    "start_time": "2022-03-10T13:39:21.489Z"
   },
   {
    "duration": 10,
    "start_time": "2022-03-10T13:39:21.538Z"
   },
   {
    "duration": 12,
    "start_time": "2022-03-10T13:39:21.551Z"
   },
   {
    "duration": 11,
    "start_time": "2022-03-10T13:39:21.566Z"
   },
   {
    "duration": 11,
    "start_time": "2022-03-10T13:39:21.580Z"
   },
   {
    "duration": 74,
    "start_time": "2022-03-10T13:39:21.594Z"
   },
   {
    "duration": 242,
    "start_time": "2022-03-10T13:39:21.671Z"
   },
   {
    "duration": 30,
    "start_time": "2022-03-10T13:39:21.916Z"
   },
   {
    "duration": 142,
    "start_time": "2022-03-10T13:39:21.949Z"
   },
   {
    "duration": 59,
    "start_time": "2022-03-10T13:39:22.098Z"
   },
   {
    "duration": 177,
    "start_time": "2022-03-10T13:39:22.161Z"
   },
   {
    "duration": 11,
    "start_time": "2022-03-10T13:39:22.341Z"
   },
   {
    "duration": 149,
    "start_time": "2022-03-10T13:39:22.355Z"
   },
   {
    "duration": 64,
    "start_time": "2022-03-10T13:39:22.506Z"
   },
   {
    "duration": 95,
    "start_time": "2022-03-10T13:39:22.573Z"
   },
   {
    "duration": 100,
    "start_time": "2022-03-10T13:39:22.671Z"
   },
   {
    "duration": 7,
    "start_time": "2022-03-10T13:39:22.773Z"
   },
   {
    "duration": 13,
    "start_time": "2022-03-10T13:39:22.782Z"
   },
   {
    "duration": 41,
    "start_time": "2022-03-10T13:39:22.797Z"
   },
   {
    "duration": 72,
    "start_time": "2022-03-10T13:39:22.840Z"
   },
   {
    "duration": 141,
    "start_time": "2022-03-10T13:39:22.915Z"
   },
   {
    "duration": 52,
    "start_time": "2022-03-10T13:39:23.059Z"
   },
   {
    "duration": 42,
    "start_time": "2022-03-10T13:39:23.132Z"
   },
   {
    "duration": 23,
    "start_time": "2022-03-10T13:39:23.177Z"
   },
   {
    "duration": 74,
    "start_time": "2022-03-10T13:39:23.203Z"
   },
   {
    "duration": 4454,
    "start_time": "2022-03-10T13:39:23.280Z"
   },
   {
    "duration": 6,
    "start_time": "2022-03-10T13:39:27.736Z"
   },
   {
    "duration": 16,
    "start_time": "2022-03-10T13:39:27.744Z"
   },
   {
    "duration": 24,
    "start_time": "2022-03-10T13:39:27.762Z"
   },
   {
    "duration": 339,
    "start_time": "2022-03-10T13:39:27.788Z"
   },
   {
    "duration": 319,
    "start_time": "2022-03-10T13:39:28.132Z"
   },
   {
    "duration": 318,
    "start_time": "2022-03-10T13:39:28.454Z"
   },
   {
    "duration": 505,
    "start_time": "2022-03-10T13:39:28.776Z"
   },
   {
    "duration": 583,
    "start_time": "2022-03-10T13:39:29.283Z"
   },
   {
    "duration": 294,
    "start_time": "2022-03-10T13:39:41.970Z"
   },
   {
    "duration": 370,
    "start_time": "2022-03-10T13:44:21.767Z"
   },
   {
    "duration": 391,
    "start_time": "2022-03-10T13:45:33.228Z"
   },
   {
    "duration": 310,
    "start_time": "2022-03-10T13:45:53.424Z"
   },
   {
    "duration": 298,
    "start_time": "2022-03-10T13:46:34.548Z"
   },
   {
    "duration": 340,
    "start_time": "2022-03-10T13:51:20.129Z"
   },
   {
    "duration": 317,
    "start_time": "2022-03-10T13:51:45.530Z"
   },
   {
    "duration": 320,
    "start_time": "2022-03-10T13:52:04.902Z"
   },
   {
    "duration": 311,
    "start_time": "2022-03-10T13:55:36.263Z"
   },
   {
    "duration": 376,
    "start_time": "2022-03-10T13:56:08.851Z"
   },
   {
    "duration": 47,
    "start_time": "2022-03-10T13:56:12.527Z"
   },
   {
    "duration": 45,
    "start_time": "2022-03-10T13:56:25.191Z"
   },
   {
    "duration": 423,
    "start_time": "2022-03-10T13:56:58.083Z"
   },
   {
    "duration": 436,
    "start_time": "2022-03-10T13:57:20.447Z"
   },
   {
    "duration": 300,
    "start_time": "2022-03-10T13:57:39.779Z"
   },
   {
    "duration": 516,
    "start_time": "2022-03-10T13:57:45.907Z"
   },
   {
    "duration": 506,
    "start_time": "2022-03-10T13:57:54.736Z"
   },
   {
    "duration": 405,
    "start_time": "2022-03-10T13:58:10.687Z"
   },
   {
    "duration": 401,
    "start_time": "2022-03-10T13:58:32.455Z"
   },
   {
    "duration": 433,
    "start_time": "2022-03-10T13:59:07.455Z"
   },
   {
    "duration": 328,
    "start_time": "2022-03-10T13:59:35.416Z"
   },
   {
    "duration": 539,
    "start_time": "2022-03-10T13:59:41.827Z"
   },
   {
    "duration": 334,
    "start_time": "2022-03-10T14:00:11.080Z"
   },
   {
    "duration": 418,
    "start_time": "2022-03-10T14:00:50.480Z"
   },
   {
    "duration": 434,
    "start_time": "2022-03-10T14:00:56.879Z"
   },
   {
    "duration": 414,
    "start_time": "2022-03-10T14:01:08.645Z"
   },
   {
    "duration": 308,
    "start_time": "2022-03-10T14:01:21.483Z"
   },
   {
    "duration": 544,
    "start_time": "2022-03-10T14:01:26.680Z"
   },
   {
    "duration": 576,
    "start_time": "2022-03-10T14:01:33.380Z"
   },
   {
    "duration": 536,
    "start_time": "2022-03-10T14:02:13.616Z"
   },
   {
    "duration": 667,
    "start_time": "2022-03-10T14:02:29.937Z"
   },
   {
    "duration": 409,
    "start_time": "2022-03-10T14:05:49.999Z"
   },
   {
    "duration": 333,
    "start_time": "2022-03-10T14:06:12.141Z"
   },
   {
    "duration": 504,
    "start_time": "2022-03-10T14:07:39.298Z"
   },
   {
    "duration": 429,
    "start_time": "2022-03-10T14:07:48.134Z"
   },
   {
    "duration": 405,
    "start_time": "2022-03-10T14:07:57.072Z"
   },
   {
    "duration": 115,
    "start_time": "2022-03-10T14:08:55.964Z"
   },
   {
    "duration": 542,
    "start_time": "2022-03-10T14:09:02.642Z"
   },
   {
    "duration": 293,
    "start_time": "2022-03-10T14:09:12.578Z"
   },
   {
    "duration": 333,
    "start_time": "2022-03-10T14:12:07.859Z"
   },
   {
    "duration": 436,
    "start_time": "2022-03-10T17:49:02.552Z"
   },
   {
    "duration": 1471,
    "start_time": "2022-03-10T17:49:09.332Z"
   },
   {
    "duration": 90,
    "start_time": "2022-03-10T17:49:10.806Z"
   },
   {
    "duration": 8,
    "start_time": "2022-03-10T17:49:10.899Z"
   },
   {
    "duration": 222,
    "start_time": "2022-03-10T17:49:10.910Z"
   },
   {
    "duration": 29,
    "start_time": "2022-03-10T17:49:11.134Z"
   },
   {
    "duration": 131,
    "start_time": "2022-03-10T17:49:11.166Z"
   },
   {
    "duration": 18,
    "start_time": "2022-03-10T17:49:11.300Z"
   },
   {
    "duration": 174,
    "start_time": "2022-03-10T17:49:11.333Z"
   },
   {
    "duration": 26,
    "start_time": "2022-03-10T17:49:11.511Z"
   },
   {
    "duration": 26,
    "start_time": "2022-03-10T17:49:11.541Z"
   },
   {
    "duration": 18,
    "start_time": "2022-03-10T17:49:11.570Z"
   },
   {
    "duration": 27,
    "start_time": "2022-03-10T17:49:11.591Z"
   },
   {
    "duration": 20,
    "start_time": "2022-03-10T17:49:11.620Z"
   },
   {
    "duration": 12,
    "start_time": "2022-03-10T17:49:11.643Z"
   },
   {
    "duration": 18,
    "start_time": "2022-03-10T17:49:11.658Z"
   },
   {
    "duration": 7,
    "start_time": "2022-03-10T17:49:11.679Z"
   },
   {
    "duration": 51,
    "start_time": "2022-03-10T17:49:11.688Z"
   },
   {
    "duration": 7,
    "start_time": "2022-03-10T17:49:11.742Z"
   },
   {
    "duration": 40,
    "start_time": "2022-03-10T17:49:11.752Z"
   },
   {
    "duration": 271,
    "start_time": "2022-03-10T17:49:11.795Z"
   },
   {
    "duration": 17,
    "start_time": "2022-03-10T17:49:12.069Z"
   },
   {
    "duration": 145,
    "start_time": "2022-03-10T17:49:12.089Z"
   },
   {
    "duration": 41,
    "start_time": "2022-03-10T17:49:12.236Z"
   },
   {
    "duration": 192,
    "start_time": "2022-03-10T17:49:12.280Z"
   },
   {
    "duration": 8,
    "start_time": "2022-03-10T17:49:12.474Z"
   },
   {
    "duration": 150,
    "start_time": "2022-03-10T17:49:12.484Z"
   },
   {
    "duration": 55,
    "start_time": "2022-03-10T17:49:12.640Z"
   },
   {
    "duration": 112,
    "start_time": "2022-03-10T17:49:12.699Z"
   },
   {
    "duration": 95,
    "start_time": "2022-03-10T17:49:12.813Z"
   },
   {
    "duration": 22,
    "start_time": "2022-03-10T17:49:12.911Z"
   },
   {
    "duration": 13,
    "start_time": "2022-03-10T17:49:12.936Z"
   },
   {
    "duration": 27,
    "start_time": "2022-03-10T17:49:12.952Z"
   },
   {
    "duration": 94,
    "start_time": "2022-03-10T17:49:12.981Z"
   },
   {
    "duration": 109,
    "start_time": "2022-03-10T17:49:13.078Z"
   },
   {
    "duration": 66,
    "start_time": "2022-03-10T17:49:13.190Z"
   },
   {
    "duration": 43,
    "start_time": "2022-03-10T17:49:13.260Z"
   },
   {
    "duration": 45,
    "start_time": "2022-03-10T17:49:13.306Z"
   },
   {
    "duration": 51,
    "start_time": "2022-03-10T17:49:13.353Z"
   },
   {
    "duration": 4443,
    "start_time": "2022-03-10T17:49:13.432Z"
   },
   {
    "duration": 14,
    "start_time": "2022-03-10T17:49:17.878Z"
   },
   {
    "duration": 43,
    "start_time": "2022-03-10T17:49:17.895Z"
   },
   {
    "duration": 546,
    "start_time": "2022-03-10T17:49:17.941Z"
   },
   {
    "duration": 563,
    "start_time": "2022-03-10T17:49:18.489Z"
   },
   {
    "duration": 559,
    "start_time": "2022-03-10T17:49:19.054Z"
   },
   {
    "duration": 496,
    "start_time": "2022-03-10T17:49:19.616Z"
   },
   {
    "duration": 404,
    "start_time": "2022-03-10T17:49:20.114Z"
   },
   {
    "duration": 332,
    "start_time": "2022-03-10T17:49:20.520Z"
   },
   {
    "duration": 314,
    "start_time": "2022-03-10T17:49:20.854Z"
   },
   {
    "duration": 494,
    "start_time": "2022-03-10T18:12:54.660Z"
   },
   {
    "duration": 4,
    "start_time": "2022-03-10T18:13:07.063Z"
   },
   {
    "duration": 339,
    "start_time": "2022-03-10T18:13:12.873Z"
   },
   {
    "duration": 7,
    "start_time": "2022-03-10T18:13:18.535Z"
   },
   {
    "duration": 11,
    "start_time": "2022-03-10T18:16:12.818Z"
   },
   {
    "duration": 26,
    "start_time": "2022-03-10T18:16:27.252Z"
   },
   {
    "duration": 25,
    "start_time": "2022-03-10T18:16:38.243Z"
   },
   {
    "duration": 8,
    "start_time": "2022-03-10T18:17:40.217Z"
   },
   {
    "duration": 512,
    "start_time": "2022-03-10T18:21:52.267Z"
   },
   {
    "duration": 731,
    "start_time": "2022-03-10T18:22:42.796Z"
   },
   {
    "duration": 393,
    "start_time": "2022-03-10T18:23:08.629Z"
   },
   {
    "duration": 384,
    "start_time": "2022-03-10T18:23:21.152Z"
   },
   {
    "duration": 331,
    "start_time": "2022-03-10T18:23:35.123Z"
   },
   {
    "duration": 623,
    "start_time": "2022-03-10T18:23:39.799Z"
   },
   {
    "duration": 278,
    "start_time": "2022-03-10T18:23:45.267Z"
   },
   {
    "duration": 384,
    "start_time": "2022-03-10T18:23:52.928Z"
   },
   {
    "duration": 468,
    "start_time": "2022-03-10T18:25:06.510Z"
   },
   {
    "duration": 465,
    "start_time": "2022-03-10T18:25:20.838Z"
   },
   {
    "duration": 30,
    "start_time": "2022-03-10T18:26:49.523Z"
   },
   {
    "duration": 32,
    "start_time": "2022-03-10T18:26:57.364Z"
   },
   {
    "duration": 579,
    "start_time": "2022-03-10T18:27:38.035Z"
   },
   {
    "duration": 470,
    "start_time": "2022-03-10T18:27:51.465Z"
   },
   {
    "duration": 738,
    "start_time": "2022-03-10T18:31:38.381Z"
   },
   {
    "duration": 412,
    "start_time": "2022-03-10T18:32:17.920Z"
   },
   {
    "duration": 440,
    "start_time": "2022-03-10T18:32:45.792Z"
   },
   {
    "duration": 432,
    "start_time": "2022-03-10T18:34:35.553Z"
   },
   {
    "duration": 983,
    "start_time": "2022-03-10T18:35:00.342Z"
   },
   {
    "duration": 947,
    "start_time": "2022-03-10T18:35:28.626Z"
   },
   {
    "duration": 1175,
    "start_time": "2022-03-10T18:35:44.196Z"
   },
   {
    "duration": 1314,
    "start_time": "2022-03-10T18:35:51.853Z"
   },
   {
    "duration": 966,
    "start_time": "2022-03-10T18:36:06.136Z"
   },
   {
    "duration": 517,
    "start_time": "2022-03-10T18:37:36.970Z"
   },
   {
    "duration": 848,
    "start_time": "2022-03-10T18:38:10.366Z"
   },
   {
    "duration": 862,
    "start_time": "2022-03-10T18:38:15.947Z"
   },
   {
    "duration": 563,
    "start_time": "2022-03-10T18:38:20.026Z"
   },
   {
    "duration": 574,
    "start_time": "2022-03-10T18:38:44.559Z"
   },
   {
    "duration": 1177,
    "start_time": "2022-03-10T18:38:52.133Z"
   },
   {
    "duration": 475,
    "start_time": "2022-03-10T18:39:42.792Z"
   },
   {
    "duration": 475,
    "start_time": "2022-03-10T18:40:57.484Z"
   },
   {
    "duration": 304,
    "start_time": "2022-03-10T18:41:23.633Z"
   },
   {
    "duration": 320,
    "start_time": "2022-03-10T18:41:34.183Z"
   },
   {
    "duration": 6,
    "start_time": "2022-03-10T18:43:31.226Z"
   },
   {
    "duration": 6,
    "start_time": "2022-03-10T18:43:56.314Z"
   },
   {
    "duration": 55,
    "start_time": "2022-03-10T18:45:19.312Z"
   },
   {
    "duration": 207,
    "start_time": "2022-03-10T18:45:42.695Z"
   },
   {
    "duration": 249,
    "start_time": "2022-03-11T12:52:34.127Z"
   },
   {
    "duration": 1167,
    "start_time": "2022-03-11T12:52:40.722Z"
   },
   {
    "duration": 36,
    "start_time": "2022-03-11T12:52:41.890Z"
   },
   {
    "duration": 8,
    "start_time": "2022-03-11T12:52:41.929Z"
   },
   {
    "duration": 173,
    "start_time": "2022-03-11T12:52:41.939Z"
   },
   {
    "duration": 24,
    "start_time": "2022-03-11T12:52:42.114Z"
   },
   {
    "duration": 108,
    "start_time": "2022-03-11T12:52:42.140Z"
   },
   {
    "duration": 18,
    "start_time": "2022-03-11T12:52:42.251Z"
   },
   {
    "duration": 162,
    "start_time": "2022-03-11T12:52:42.274Z"
   },
   {
    "duration": 21,
    "start_time": "2022-03-11T12:52:42.439Z"
   },
   {
    "duration": 18,
    "start_time": "2022-03-11T12:52:42.463Z"
   },
   {
    "duration": 23,
    "start_time": "2022-03-11T12:52:42.483Z"
   },
   {
    "duration": 21,
    "start_time": "2022-03-11T12:52:42.508Z"
   },
   {
    "duration": 7,
    "start_time": "2022-03-11T12:52:42.531Z"
   },
   {
    "duration": 12,
    "start_time": "2022-03-11T12:52:42.540Z"
   },
   {
    "duration": 9,
    "start_time": "2022-03-11T12:52:42.554Z"
   },
   {
    "duration": 7,
    "start_time": "2022-03-11T12:52:42.565Z"
   },
   {
    "duration": 31,
    "start_time": "2022-03-11T12:52:42.574Z"
   },
   {
    "duration": 10,
    "start_time": "2022-03-11T12:52:42.607Z"
   },
   {
    "duration": 31,
    "start_time": "2022-03-11T12:52:42.619Z"
   },
   {
    "duration": 201,
    "start_time": "2022-03-11T12:52:42.652Z"
   },
   {
    "duration": 14,
    "start_time": "2022-03-11T12:52:42.854Z"
   },
   {
    "duration": 112,
    "start_time": "2022-03-11T12:52:42.870Z"
   },
   {
    "duration": 38,
    "start_time": "2022-03-11T12:52:42.985Z"
   },
   {
    "duration": 145,
    "start_time": "2022-03-11T12:52:43.026Z"
   },
   {
    "duration": 8,
    "start_time": "2022-03-11T12:52:43.173Z"
   },
   {
    "duration": 111,
    "start_time": "2022-03-11T12:52:43.182Z"
   },
   {
    "duration": 48,
    "start_time": "2022-03-11T12:52:43.295Z"
   },
   {
    "duration": 77,
    "start_time": "2022-03-11T12:52:43.345Z"
   },
   {
    "duration": 63,
    "start_time": "2022-03-11T12:52:43.424Z"
   },
   {
    "duration": 14,
    "start_time": "2022-03-11T12:52:43.489Z"
   },
   {
    "duration": 10,
    "start_time": "2022-03-11T12:52:43.505Z"
   },
   {
    "duration": 17,
    "start_time": "2022-03-11T12:52:43.517Z"
   },
   {
    "duration": 74,
    "start_time": "2022-03-11T12:52:43.537Z"
   },
   {
    "duration": 68,
    "start_time": "2022-03-11T12:52:43.613Z"
   },
   {
    "duration": 47,
    "start_time": "2022-03-11T12:52:43.682Z"
   },
   {
    "duration": 31,
    "start_time": "2022-03-11T12:52:43.730Z"
   },
   {
    "duration": 18,
    "start_time": "2022-03-11T12:52:43.762Z"
   },
   {
    "duration": 34,
    "start_time": "2022-03-11T12:52:43.802Z"
   },
   {
    "duration": 2753,
    "start_time": "2022-03-11T12:52:43.838Z"
   },
   {
    "duration": 16,
    "start_time": "2022-03-11T12:52:46.592Z"
   },
   {
    "duration": 18,
    "start_time": "2022-03-11T12:52:46.610Z"
   },
   {
    "duration": 645,
    "start_time": "2022-03-11T12:52:46.630Z"
   },
   {
    "duration": 660,
    "start_time": "2022-03-11T12:52:47.276Z"
   },
   {
    "duration": 366,
    "start_time": "2022-03-11T12:52:47.938Z"
   },
   {
    "duration": 446,
    "start_time": "2022-03-11T12:52:48.306Z"
   },
   {
    "duration": 321,
    "start_time": "2022-03-11T12:52:48.753Z"
   },
   {
    "duration": 328,
    "start_time": "2022-03-11T12:52:49.076Z"
   },
   {
    "duration": 215,
    "start_time": "2022-03-11T12:52:49.406Z"
   },
   {
    "duration": 212,
    "start_time": "2022-03-11T12:52:49.623Z"
   },
   {
    "duration": 217,
    "start_time": "2022-03-11T12:52:49.837Z"
   },
   {
    "duration": 5,
    "start_time": "2022-03-11T12:52:50.056Z"
   },
   {
    "duration": 10,
    "start_time": "2022-03-11T12:52:50.062Z"
   },
   {
    "duration": 27,
    "start_time": "2022-03-11T12:52:50.074Z"
   },
   {
    "duration": 9,
    "start_time": "2022-03-11T12:52:50.103Z"
   },
   {
    "duration": 668,
    "start_time": "2022-03-11T12:58:49.989Z"
   },
   {
    "duration": 413,
    "start_time": "2022-03-11T12:59:11.167Z"
   },
   {
    "duration": 708,
    "start_time": "2022-03-11T12:59:19.674Z"
   },
   {
    "duration": 611,
    "start_time": "2022-03-11T13:00:30.946Z"
   },
   {
    "duration": 19,
    "start_time": "2022-03-11T13:40:19.210Z"
   },
   {
    "duration": 19,
    "start_time": "2022-03-11T13:40:38.278Z"
   },
   {
    "duration": 7,
    "start_time": "2022-03-11T13:51:06.653Z"
   },
   {
    "duration": 6,
    "start_time": "2022-03-11T13:51:12.937Z"
   },
   {
    "duration": 5,
    "start_time": "2022-03-11T14:04:32.575Z"
   },
   {
    "duration": 4,
    "start_time": "2022-03-11T14:04:41.682Z"
   },
   {
    "duration": 6,
    "start_time": "2022-03-11T14:05:10.233Z"
   },
   {
    "duration": 4,
    "start_time": "2022-03-11T14:05:18.290Z"
   },
   {
    "duration": 251,
    "start_time": "2022-03-11T14:06:46.726Z"
   },
   {
    "duration": 266,
    "start_time": "2022-03-11T14:06:52.266Z"
   },
   {
    "duration": 302,
    "start_time": "2022-03-11T14:07:11.242Z"
   },
   {
    "duration": 350,
    "start_time": "2022-03-11T16:14:14.752Z"
   },
   {
    "duration": 1128,
    "start_time": "2022-03-11T16:14:27.815Z"
   },
   {
    "duration": 80,
    "start_time": "2022-03-11T16:14:28.945Z"
   },
   {
    "duration": 6,
    "start_time": "2022-03-11T16:14:29.027Z"
   },
   {
    "duration": 138,
    "start_time": "2022-03-11T16:14:29.034Z"
   },
   {
    "duration": 27,
    "start_time": "2022-03-11T16:14:29.174Z"
   },
   {
    "duration": 82,
    "start_time": "2022-03-11T16:14:29.203Z"
   },
   {
    "duration": 16,
    "start_time": "2022-03-11T16:14:29.287Z"
   },
   {
    "duration": 122,
    "start_time": "2022-03-11T16:14:29.305Z"
   },
   {
    "duration": 20,
    "start_time": "2022-03-11T16:14:29.429Z"
   },
   {
    "duration": 22,
    "start_time": "2022-03-11T16:14:29.451Z"
   },
   {
    "duration": 6,
    "start_time": "2022-03-11T16:14:29.474Z"
   },
   {
    "duration": 29,
    "start_time": "2022-03-11T16:14:29.482Z"
   },
   {
    "duration": 6,
    "start_time": "2022-03-11T16:14:29.513Z"
   },
   {
    "duration": 5,
    "start_time": "2022-03-11T16:14:29.521Z"
   },
   {
    "duration": 5,
    "start_time": "2022-03-11T16:14:29.528Z"
   },
   {
    "duration": 4,
    "start_time": "2022-03-11T16:14:29.534Z"
   },
   {
    "duration": 6,
    "start_time": "2022-03-11T16:14:29.540Z"
   },
   {
    "duration": 9,
    "start_time": "2022-03-11T16:14:29.548Z"
   },
   {
    "duration": 55,
    "start_time": "2022-03-11T16:14:29.558Z"
   },
   {
    "duration": 152,
    "start_time": "2022-03-11T16:14:29.614Z"
   },
   {
    "duration": 11,
    "start_time": "2022-03-11T16:14:29.768Z"
   },
   {
    "duration": 88,
    "start_time": "2022-03-11T16:14:29.780Z"
   },
   {
    "duration": 33,
    "start_time": "2022-03-11T16:14:29.872Z"
   },
   {
    "duration": 103,
    "start_time": "2022-03-11T16:14:29.907Z"
   },
   {
    "duration": 5,
    "start_time": "2022-03-11T16:14:30.012Z"
   },
   {
    "duration": 98,
    "start_time": "2022-03-11T16:14:30.019Z"
   },
   {
    "duration": 36,
    "start_time": "2022-03-11T16:14:30.119Z"
   },
   {
    "duration": 58,
    "start_time": "2022-03-11T16:14:30.157Z"
   },
   {
    "duration": 59,
    "start_time": "2022-03-11T16:14:30.217Z"
   },
   {
    "duration": 4,
    "start_time": "2022-03-11T16:14:30.278Z"
   },
   {
    "duration": 24,
    "start_time": "2022-03-11T16:14:30.284Z"
   },
   {
    "duration": 36,
    "start_time": "2022-03-11T16:14:30.310Z"
   },
   {
    "duration": 55,
    "start_time": "2022-03-11T16:14:30.348Z"
   },
   {
    "duration": 62,
    "start_time": "2022-03-11T16:14:30.405Z"
   },
   {
    "duration": 36,
    "start_time": "2022-03-11T16:14:30.468Z"
   },
   {
    "duration": 27,
    "start_time": "2022-03-11T16:14:30.506Z"
   },
   {
    "duration": 21,
    "start_time": "2022-03-11T16:14:30.534Z"
   },
   {
    "duration": 50,
    "start_time": "2022-03-11T16:14:30.557Z"
   },
   {
    "duration": 2411,
    "start_time": "2022-03-11T16:14:30.609Z"
   },
   {
    "duration": 400,
    "start_time": "2022-03-11T16:14:33.022Z"
   },
   {
    "duration": 74,
    "start_time": "2022-03-11T16:14:33.349Z"
   },
   {
    "duration": 72,
    "start_time": "2022-03-11T16:14:33.352Z"
   },
   {
    "duration": 68,
    "start_time": "2022-03-11T16:14:33.357Z"
   },
   {
    "duration": 56,
    "start_time": "2022-03-11T16:14:33.370Z"
   },
   {
    "duration": 52,
    "start_time": "2022-03-11T16:14:33.375Z"
   },
   {
    "duration": 48,
    "start_time": "2022-03-11T16:14:33.379Z"
   },
   {
    "duration": 43,
    "start_time": "2022-03-11T16:14:33.385Z"
   },
   {
    "duration": 41,
    "start_time": "2022-03-11T16:14:33.388Z"
   },
   {
    "duration": 38,
    "start_time": "2022-03-11T16:14:33.392Z"
   },
   {
    "duration": 36,
    "start_time": "2022-03-11T16:14:33.395Z"
   },
   {
    "duration": 34,
    "start_time": "2022-03-11T16:14:33.398Z"
   },
   {
    "duration": 32,
    "start_time": "2022-03-11T16:14:33.401Z"
   },
   {
    "duration": 30,
    "start_time": "2022-03-11T16:14:33.404Z"
   },
   {
    "duration": 27,
    "start_time": "2022-03-11T16:14:33.407Z"
   },
   {
    "duration": 15,
    "start_time": "2022-03-11T16:14:33.420Z"
   },
   {
    "duration": 17,
    "start_time": "2022-03-11T16:14:42.802Z"
   },
   {
    "duration": 28,
    "start_time": "2022-03-11T16:15:28.838Z"
   },
   {
    "duration": 291,
    "start_time": "2022-03-11T16:17:11.143Z"
   },
   {
    "duration": 11,
    "start_time": "2022-03-11T16:17:15.864Z"
   },
   {
    "duration": 10,
    "start_time": "2022-03-11T16:17:16.502Z"
   },
   {
    "duration": 16,
    "start_time": "2022-03-11T16:17:44.202Z"
   },
   {
    "duration": 1113,
    "start_time": "2022-03-11T16:17:50.574Z"
   },
   {
    "duration": 60,
    "start_time": "2022-03-11T16:17:51.688Z"
   },
   {
    "duration": 5,
    "start_time": "2022-03-11T16:17:51.750Z"
   },
   {
    "duration": 139,
    "start_time": "2022-03-11T16:17:51.757Z"
   },
   {
    "duration": 18,
    "start_time": "2022-03-11T16:17:51.898Z"
   },
   {
    "duration": 84,
    "start_time": "2022-03-11T16:17:51.918Z"
   },
   {
    "duration": 12,
    "start_time": "2022-03-11T16:17:52.004Z"
   },
   {
    "duration": 127,
    "start_time": "2022-03-11T16:17:52.018Z"
   },
   {
    "duration": 15,
    "start_time": "2022-03-11T16:17:52.146Z"
   },
   {
    "duration": 20,
    "start_time": "2022-03-11T16:17:52.163Z"
   },
   {
    "duration": 7,
    "start_time": "2022-03-11T16:17:52.184Z"
   },
   {
    "duration": 18,
    "start_time": "2022-03-11T16:17:52.193Z"
   },
   {
    "duration": 4,
    "start_time": "2022-03-11T16:17:52.213Z"
   },
   {
    "duration": 6,
    "start_time": "2022-03-11T16:17:52.219Z"
   },
   {
    "duration": 5,
    "start_time": "2022-03-11T16:17:52.227Z"
   },
   {
    "duration": 6,
    "start_time": "2022-03-11T16:17:52.234Z"
   },
   {
    "duration": 9,
    "start_time": "2022-03-11T16:17:52.241Z"
   },
   {
    "duration": 8,
    "start_time": "2022-03-11T16:17:52.252Z"
   },
   {
    "duration": 45,
    "start_time": "2022-03-11T16:17:52.262Z"
   },
   {
    "duration": 153,
    "start_time": "2022-03-11T16:17:52.308Z"
   },
   {
    "duration": 12,
    "start_time": "2022-03-11T16:17:52.463Z"
   },
   {
    "duration": 90,
    "start_time": "2022-03-11T16:17:52.477Z"
   },
   {
    "duration": 40,
    "start_time": "2022-03-11T16:17:52.571Z"
   },
   {
    "duration": 111,
    "start_time": "2022-03-11T16:17:52.614Z"
   },
   {
    "duration": 7,
    "start_time": "2022-03-11T16:17:52.727Z"
   },
   {
    "duration": 106,
    "start_time": "2022-03-11T16:17:52.735Z"
   },
   {
    "duration": 36,
    "start_time": "2022-03-11T16:17:52.843Z"
   },
   {
    "duration": 64,
    "start_time": "2022-03-11T16:17:52.881Z"
   },
   {
    "duration": 64,
    "start_time": "2022-03-11T16:17:52.947Z"
   },
   {
    "duration": 5,
    "start_time": "2022-03-11T16:17:53.013Z"
   },
   {
    "duration": 8,
    "start_time": "2022-03-11T16:17:53.020Z"
   },
   {
    "duration": 12,
    "start_time": "2022-03-11T16:17:53.030Z"
   },
   {
    "duration": 72,
    "start_time": "2022-03-11T16:17:53.044Z"
   },
   {
    "duration": 62,
    "start_time": "2022-03-11T16:17:53.118Z"
   },
   {
    "duration": 44,
    "start_time": "2022-03-11T16:17:53.182Z"
   },
   {
    "duration": 27,
    "start_time": "2022-03-11T16:17:53.228Z"
   },
   {
    "duration": 14,
    "start_time": "2022-03-11T16:17:53.257Z"
   },
   {
    "duration": 54,
    "start_time": "2022-03-11T16:17:53.273Z"
   },
   {
    "duration": 2421,
    "start_time": "2022-03-11T16:17:53.329Z"
   },
   {
    "duration": 10,
    "start_time": "2022-03-11T16:17:55.752Z"
   },
   {
    "duration": 26,
    "start_time": "2022-03-11T16:17:55.764Z"
   },
   {
    "duration": 19,
    "start_time": "2022-03-11T16:17:55.792Z"
   },
   {
    "duration": 553,
    "start_time": "2022-03-11T16:17:55.813Z"
   },
   {
    "duration": 572,
    "start_time": "2022-03-11T16:17:56.367Z"
   },
   {
    "duration": 306,
    "start_time": "2022-03-11T16:17:56.941Z"
   },
   {
    "duration": 421,
    "start_time": "2022-03-11T16:17:57.248Z"
   },
   {
    "duration": 309,
    "start_time": "2022-03-11T16:17:57.670Z"
   },
   {
    "duration": 267,
    "start_time": "2022-03-11T16:17:57.980Z"
   },
   {
    "duration": 171,
    "start_time": "2022-03-11T16:17:58.248Z"
   },
   {
    "duration": 176,
    "start_time": "2022-03-11T16:17:58.421Z"
   },
   {
    "duration": 174,
    "start_time": "2022-03-11T16:17:58.599Z"
   },
   {
    "duration": 3,
    "start_time": "2022-03-11T16:17:58.775Z"
   },
   {
    "duration": 6,
    "start_time": "2022-03-11T16:17:58.779Z"
   },
   {
    "duration": 15,
    "start_time": "2022-03-11T16:17:58.786Z"
   },
   {
    "duration": 7,
    "start_time": "2022-03-11T16:17:58.803Z"
   },
   {
    "duration": 1128,
    "start_time": "2022-03-11T16:19:10.137Z"
   },
   {
    "duration": 47,
    "start_time": "2022-03-11T16:19:11.267Z"
   },
   {
    "duration": 6,
    "start_time": "2022-03-11T16:19:11.316Z"
   },
   {
    "duration": 135,
    "start_time": "2022-03-11T16:19:11.323Z"
   },
   {
    "duration": 18,
    "start_time": "2022-03-11T16:19:11.459Z"
   },
   {
    "duration": 84,
    "start_time": "2022-03-11T16:19:11.478Z"
   },
   {
    "duration": 14,
    "start_time": "2022-03-11T16:19:11.563Z"
   },
   {
    "duration": 127,
    "start_time": "2022-03-11T16:19:11.580Z"
   },
   {
    "duration": 16,
    "start_time": "2022-03-11T16:19:11.709Z"
   },
   {
    "duration": 20,
    "start_time": "2022-03-11T16:19:11.727Z"
   },
   {
    "duration": 7,
    "start_time": "2022-03-11T16:19:11.749Z"
   },
   {
    "duration": 14,
    "start_time": "2022-03-11T16:19:11.757Z"
   },
   {
    "duration": 6,
    "start_time": "2022-03-11T16:19:11.772Z"
   },
   {
    "duration": 23,
    "start_time": "2022-03-11T16:19:11.779Z"
   },
   {
    "duration": 5,
    "start_time": "2022-03-11T16:19:11.803Z"
   },
   {
    "duration": 6,
    "start_time": "2022-03-11T16:19:11.809Z"
   },
   {
    "duration": 10,
    "start_time": "2022-03-11T16:19:11.816Z"
   },
   {
    "duration": 10,
    "start_time": "2022-03-11T16:19:11.827Z"
   },
   {
    "duration": 29,
    "start_time": "2022-03-11T16:19:11.838Z"
   },
   {
    "duration": 169,
    "start_time": "2022-03-11T16:19:11.868Z"
   },
   {
    "duration": 12,
    "start_time": "2022-03-11T16:19:12.039Z"
   },
   {
    "duration": 92,
    "start_time": "2022-03-11T16:19:12.052Z"
   },
   {
    "duration": 26,
    "start_time": "2022-03-11T16:19:12.148Z"
   },
   {
    "duration": 126,
    "start_time": "2022-03-11T16:19:12.176Z"
   },
   {
    "duration": 7,
    "start_time": "2022-03-11T16:19:12.304Z"
   },
   {
    "duration": 100,
    "start_time": "2022-03-11T16:19:12.313Z"
   },
   {
    "duration": 38,
    "start_time": "2022-03-11T16:19:12.415Z"
   },
   {
    "duration": 65,
    "start_time": "2022-03-11T16:19:12.455Z"
   },
   {
    "duration": 57,
    "start_time": "2022-03-11T16:19:12.522Z"
   },
   {
    "duration": 4,
    "start_time": "2022-03-11T16:19:12.581Z"
   },
   {
    "duration": 21,
    "start_time": "2022-03-11T16:19:12.586Z"
   },
   {
    "duration": 16,
    "start_time": "2022-03-11T16:19:12.609Z"
   },
   {
    "duration": 52,
    "start_time": "2022-03-11T16:19:12.627Z"
   },
   {
    "duration": 69,
    "start_time": "2022-03-11T16:19:12.681Z"
   },
   {
    "duration": 29,
    "start_time": "2022-03-11T16:19:12.751Z"
   },
   {
    "duration": 46,
    "start_time": "2022-03-11T16:19:12.782Z"
   },
   {
    "duration": 16,
    "start_time": "2022-03-11T16:19:12.830Z"
   },
   {
    "duration": 53,
    "start_time": "2022-03-11T16:19:12.848Z"
   },
   {
    "duration": 2325,
    "start_time": "2022-03-11T16:19:12.903Z"
   },
   {
    "duration": 11,
    "start_time": "2022-03-11T16:19:15.230Z"
   },
   {
    "duration": 14,
    "start_time": "2022-03-11T16:19:15.242Z"
   },
   {
    "duration": 537,
    "start_time": "2022-03-11T16:19:15.257Z"
   },
   {
    "duration": 526,
    "start_time": "2022-03-11T16:19:15.795Z"
   },
   {
    "duration": 287,
    "start_time": "2022-03-11T16:19:16.322Z"
   },
   {
    "duration": 365,
    "start_time": "2022-03-11T16:19:16.610Z"
   },
   {
    "duration": 264,
    "start_time": "2022-03-11T16:19:16.977Z"
   },
   {
    "duration": 262,
    "start_time": "2022-03-11T16:19:17.242Z"
   },
   {
    "duration": 174,
    "start_time": "2022-03-11T16:19:17.506Z"
   },
   {
    "duration": 178,
    "start_time": "2022-03-11T16:19:17.681Z"
   },
   {
    "duration": 178,
    "start_time": "2022-03-11T16:19:17.861Z"
   },
   {
    "duration": 4,
    "start_time": "2022-03-11T16:19:18.040Z"
   },
   {
    "duration": 7,
    "start_time": "2022-03-11T16:19:18.045Z"
   },
   {
    "duration": 8,
    "start_time": "2022-03-11T16:19:18.053Z"
   },
   {
    "duration": 5,
    "start_time": "2022-03-11T16:19:18.062Z"
   },
   {
    "duration": 4,
    "start_time": "2022-03-11T16:19:57.801Z"
   },
   {
    "duration": 8008,
    "start_time": "2022-03-11T16:24:19.215Z"
   },
   {
    "duration": 7630,
    "start_time": "2022-03-11T16:25:24.936Z"
   },
   {
    "duration": 313,
    "start_time": "2022-03-11T16:25:57.890Z"
   },
   {
    "duration": 320,
    "start_time": "2022-03-11T16:26:24.812Z"
   },
   {
    "duration": 332,
    "start_time": "2022-03-11T16:26:40.448Z"
   },
   {
    "duration": 4,
    "start_time": "2022-03-11T16:26:52.016Z"
   },
   {
    "duration": 6,
    "start_time": "2022-03-11T16:26:58.480Z"
   },
   {
    "duration": 8,
    "start_time": "2022-03-11T16:27:10.073Z"
   },
   {
    "duration": 6,
    "start_time": "2022-03-11T16:29:06.041Z"
   },
   {
    "duration": 6,
    "start_time": "2022-03-11T16:29:19.005Z"
   },
   {
    "duration": 5,
    "start_time": "2022-03-11T16:29:52.025Z"
   },
   {
    "duration": 25,
    "start_time": "2022-03-11T18:16:46.305Z"
   },
   {
    "duration": 9,
    "start_time": "2022-03-11T18:18:17.764Z"
   },
   {
    "duration": 9,
    "start_time": "2022-03-11T18:18:36.676Z"
   },
   {
    "duration": 1057,
    "start_time": "2022-03-11T18:18:43.078Z"
   },
   {
    "duration": 44,
    "start_time": "2022-03-11T18:18:44.137Z"
   },
   {
    "duration": 5,
    "start_time": "2022-03-11T18:18:44.183Z"
   },
   {
    "duration": 141,
    "start_time": "2022-03-11T18:18:44.190Z"
   },
   {
    "duration": 20,
    "start_time": "2022-03-11T18:18:44.332Z"
   },
   {
    "duration": 93,
    "start_time": "2022-03-11T18:18:44.354Z"
   },
   {
    "duration": 14,
    "start_time": "2022-03-11T18:18:44.449Z"
   },
   {
    "duration": 127,
    "start_time": "2022-03-11T18:18:44.465Z"
   },
   {
    "duration": 20,
    "start_time": "2022-03-11T18:18:44.594Z"
   },
   {
    "duration": 23,
    "start_time": "2022-03-11T18:18:44.615Z"
   },
   {
    "duration": 7,
    "start_time": "2022-03-11T18:18:44.640Z"
   },
   {
    "duration": 14,
    "start_time": "2022-03-11T18:18:44.649Z"
   },
   {
    "duration": 5,
    "start_time": "2022-03-11T18:18:44.665Z"
   },
   {
    "duration": 8,
    "start_time": "2022-03-11T18:18:44.671Z"
   },
   {
    "duration": 23,
    "start_time": "2022-03-11T18:18:44.680Z"
   },
   {
    "duration": 4,
    "start_time": "2022-03-11T18:18:44.705Z"
   },
   {
    "duration": 8,
    "start_time": "2022-03-11T18:18:44.710Z"
   },
   {
    "duration": 8,
    "start_time": "2022-03-11T18:18:44.720Z"
   },
   {
    "duration": 29,
    "start_time": "2022-03-11T18:18:44.730Z"
   },
   {
    "duration": 160,
    "start_time": "2022-03-11T18:18:44.761Z"
   },
   {
    "duration": 12,
    "start_time": "2022-03-11T18:18:44.922Z"
   },
   {
    "duration": 95,
    "start_time": "2022-03-11T18:18:44.936Z"
   },
   {
    "duration": 26,
    "start_time": "2022-03-11T18:18:45.035Z"
   },
   {
    "duration": 114,
    "start_time": "2022-03-11T18:18:45.063Z"
   },
   {
    "duration": 6,
    "start_time": "2022-03-11T18:18:45.179Z"
   },
   {
    "duration": 95,
    "start_time": "2022-03-11T18:18:45.186Z"
   },
   {
    "duration": 44,
    "start_time": "2022-03-11T18:18:45.283Z"
   },
   {
    "duration": 57,
    "start_time": "2022-03-11T18:18:45.329Z"
   },
   {
    "duration": 78,
    "start_time": "2022-03-11T18:18:45.401Z"
   },
   {
    "duration": 4,
    "start_time": "2022-03-11T18:18:45.480Z"
   },
   {
    "duration": 17,
    "start_time": "2022-03-11T18:18:45.485Z"
   },
   {
    "duration": 13,
    "start_time": "2022-03-11T18:18:45.503Z"
   },
   {
    "duration": 47,
    "start_time": "2022-03-11T18:18:45.517Z"
   },
   {
    "duration": 87,
    "start_time": "2022-03-11T18:18:45.565Z"
   },
   {
    "duration": 28,
    "start_time": "2022-03-11T18:18:45.653Z"
   },
   {
    "duration": 38,
    "start_time": "2022-03-11T18:18:45.683Z"
   },
   {
    "duration": 14,
    "start_time": "2022-03-11T18:18:45.722Z"
   },
   {
    "duration": 29,
    "start_time": "2022-03-11T18:18:45.737Z"
   },
   {
    "duration": 2353,
    "start_time": "2022-03-11T18:18:45.767Z"
   },
   {
    "duration": 25,
    "start_time": "2022-03-11T18:18:48.121Z"
   },
   {
    "duration": 9,
    "start_time": "2022-03-11T18:18:48.147Z"
   },
   {
    "duration": 15,
    "start_time": "2022-03-11T18:18:48.158Z"
   },
   {
    "duration": 34,
    "start_time": "2022-03-11T18:18:48.174Z"
   },
   {
    "duration": 10,
    "start_time": "2022-03-11T18:18:48.210Z"
   },
   {
    "duration": 535,
    "start_time": "2022-03-11T18:18:48.221Z"
   },
   {
    "duration": 516,
    "start_time": "2022-03-11T18:18:48.758Z"
   },
   {
    "duration": 314,
    "start_time": "2022-03-11T18:18:49.276Z"
   },
   {
    "duration": 372,
    "start_time": "2022-03-11T18:18:49.591Z"
   },
   {
    "duration": 263,
    "start_time": "2022-03-11T18:18:49.964Z"
   },
   {
    "duration": 278,
    "start_time": "2022-03-11T18:18:50.229Z"
   },
   {
    "duration": 174,
    "start_time": "2022-03-11T18:18:50.509Z"
   },
   {
    "duration": 174,
    "start_time": "2022-03-11T18:18:50.684Z"
   },
   {
    "duration": 182,
    "start_time": "2022-03-11T18:18:50.859Z"
   },
   {
    "duration": 4,
    "start_time": "2022-03-11T18:18:51.042Z"
   },
   {
    "duration": 5,
    "start_time": "2022-03-11T18:18:51.047Z"
   },
   {
    "duration": 6,
    "start_time": "2022-03-11T18:18:51.054Z"
   },
   {
    "duration": 10,
    "start_time": "2022-03-11T18:18:51.062Z"
   },
   {
    "duration": 5,
    "start_time": "2022-03-11T18:18:51.074Z"
   },
   {
    "duration": 6,
    "start_time": "2022-03-11T18:18:51.102Z"
   },
   {
    "duration": 6,
    "start_time": "2022-03-11T18:18:51.109Z"
   },
   {
    "duration": 14,
    "start_time": "2022-03-11T18:19:18.027Z"
   },
   {
    "duration": 15,
    "start_time": "2022-03-11T18:20:20.289Z"
   },
   {
    "duration": 545,
    "start_time": "2022-03-11T18:20:30.293Z"
   },
   {
    "duration": 10,
    "start_time": "2022-03-11T18:20:43.971Z"
   },
   {
    "duration": 1071,
    "start_time": "2022-03-11T18:20:50.725Z"
   },
   {
    "duration": 37,
    "start_time": "2022-03-11T18:20:51.798Z"
   },
   {
    "duration": 5,
    "start_time": "2022-03-11T18:20:51.837Z"
   },
   {
    "duration": 149,
    "start_time": "2022-03-11T18:20:51.843Z"
   },
   {
    "duration": 18,
    "start_time": "2022-03-11T18:20:51.993Z"
   },
   {
    "duration": 85,
    "start_time": "2022-03-11T18:20:52.012Z"
   },
   {
    "duration": 12,
    "start_time": "2022-03-11T18:20:52.099Z"
   },
   {
    "duration": 119,
    "start_time": "2022-03-11T18:20:52.114Z"
   },
   {
    "duration": 15,
    "start_time": "2022-03-11T18:20:52.235Z"
   },
   {
    "duration": 21,
    "start_time": "2022-03-11T18:20:52.251Z"
   },
   {
    "duration": 6,
    "start_time": "2022-03-11T18:20:52.274Z"
   },
   {
    "duration": 25,
    "start_time": "2022-03-11T18:20:52.282Z"
   },
   {
    "duration": 11,
    "start_time": "2022-03-11T18:20:52.308Z"
   },
   {
    "duration": 6,
    "start_time": "2022-03-11T18:20:52.321Z"
   },
   {
    "duration": 4,
    "start_time": "2022-03-11T18:20:52.329Z"
   },
   {
    "duration": 4,
    "start_time": "2022-03-11T18:20:52.335Z"
   },
   {
    "duration": 12,
    "start_time": "2022-03-11T18:20:52.340Z"
   },
   {
    "duration": 9,
    "start_time": "2022-03-11T18:20:52.353Z"
   },
   {
    "duration": 46,
    "start_time": "2022-03-11T18:20:52.363Z"
   },
   {
    "duration": 155,
    "start_time": "2022-03-11T18:20:52.410Z"
   },
   {
    "duration": 11,
    "start_time": "2022-03-11T18:20:52.567Z"
   },
   {
    "duration": 87,
    "start_time": "2022-03-11T18:20:52.580Z"
   },
   {
    "duration": 33,
    "start_time": "2022-03-11T18:20:52.670Z"
   },
   {
    "duration": 102,
    "start_time": "2022-03-11T18:20:52.705Z"
   },
   {
    "duration": 6,
    "start_time": "2022-03-11T18:20:52.808Z"
   },
   {
    "duration": 92,
    "start_time": "2022-03-11T18:20:52.815Z"
   },
   {
    "duration": 31,
    "start_time": "2022-03-11T18:20:52.909Z"
   },
   {
    "duration": 43,
    "start_time": "2022-03-11T18:20:52.942Z"
   },
   {
    "duration": 54,
    "start_time": "2022-03-11T18:20:53.001Z"
   },
   {
    "duration": 3,
    "start_time": "2022-03-11T18:20:53.057Z"
   },
   {
    "duration": 8,
    "start_time": "2022-03-11T18:20:53.062Z"
   },
   {
    "duration": 29,
    "start_time": "2022-03-11T18:20:53.072Z"
   },
   {
    "duration": 47,
    "start_time": "2022-03-11T18:20:53.103Z"
   },
   {
    "duration": 74,
    "start_time": "2022-03-11T18:20:53.152Z"
   },
   {
    "duration": 28,
    "start_time": "2022-03-11T18:20:53.227Z"
   },
   {
    "duration": 26,
    "start_time": "2022-03-11T18:20:53.257Z"
   },
   {
    "duration": 28,
    "start_time": "2022-03-11T18:20:53.284Z"
   },
   {
    "duration": 29,
    "start_time": "2022-03-11T18:20:53.313Z"
   },
   {
    "duration": 2342,
    "start_time": "2022-03-11T18:20:53.344Z"
   },
   {
    "duration": 33,
    "start_time": "2022-03-11T18:20:55.688Z"
   },
   {
    "duration": 10,
    "start_time": "2022-03-11T18:20:55.723Z"
   },
   {
    "duration": 13,
    "start_time": "2022-03-11T18:20:55.735Z"
   },
   {
    "duration": 16,
    "start_time": "2022-03-11T18:20:55.750Z"
   },
   {
    "duration": 33,
    "start_time": "2022-03-11T18:20:55.768Z"
   },
   {
    "duration": 537,
    "start_time": "2022-03-11T18:20:55.803Z"
   },
   {
    "duration": 545,
    "start_time": "2022-03-11T18:20:56.342Z"
   },
   {
    "duration": 312,
    "start_time": "2022-03-11T18:20:56.889Z"
   },
   {
    "duration": 370,
    "start_time": "2022-03-11T18:20:57.203Z"
   },
   {
    "duration": 257,
    "start_time": "2022-03-11T18:20:57.575Z"
   },
   {
    "duration": 260,
    "start_time": "2022-03-11T18:20:57.833Z"
   },
   {
    "duration": 178,
    "start_time": "2022-03-11T18:20:58.095Z"
   },
   {
    "duration": 174,
    "start_time": "2022-03-11T18:20:58.275Z"
   },
   {
    "duration": 181,
    "start_time": "2022-03-11T18:20:58.451Z"
   },
   {
    "duration": 4,
    "start_time": "2022-03-11T18:20:58.633Z"
   },
   {
    "duration": 19,
    "start_time": "2022-03-11T18:20:58.638Z"
   },
   {
    "duration": 9,
    "start_time": "2022-03-11T18:20:58.658Z"
   },
   {
    "duration": 22,
    "start_time": "2022-03-11T18:20:58.668Z"
   },
   {
    "duration": 12,
    "start_time": "2022-03-11T18:20:58.692Z"
   },
   {
    "duration": 20,
    "start_time": "2022-03-11T18:20:58.705Z"
   },
   {
    "duration": 14,
    "start_time": "2022-03-11T18:20:58.727Z"
   },
   {
    "duration": 15,
    "start_time": "2022-03-11T18:24:16.514Z"
   },
   {
    "duration": 17,
    "start_time": "2022-03-11T18:31:42.102Z"
   },
   {
    "duration": 16,
    "start_time": "2022-03-11T18:32:06.859Z"
   },
   {
    "duration": 19,
    "start_time": "2022-03-11T18:32:34.310Z"
   },
   {
    "duration": 14,
    "start_time": "2022-03-11T18:33:14.415Z"
   },
   {
    "duration": 18,
    "start_time": "2022-03-11T18:33:20.299Z"
   },
   {
    "duration": 14,
    "start_time": "2022-03-11T18:34:39.400Z"
   },
   {
    "duration": 417,
    "start_time": "2022-03-11T18:34:44.636Z"
   },
   {
    "duration": 17,
    "start_time": "2022-03-11T18:34:48.104Z"
   },
   {
    "duration": 14,
    "start_time": "2022-03-11T18:35:22.161Z"
   },
   {
    "duration": 15,
    "start_time": "2022-03-11T18:35:36.228Z"
   },
   {
    "duration": 1078,
    "start_time": "2022-03-11T18:38:48.507Z"
   },
   {
    "duration": 38,
    "start_time": "2022-03-11T18:38:49.587Z"
   },
   {
    "duration": 14,
    "start_time": "2022-03-11T18:38:49.628Z"
   },
   {
    "duration": 169,
    "start_time": "2022-03-11T18:38:49.644Z"
   },
   {
    "duration": 18,
    "start_time": "2022-03-11T18:38:49.815Z"
   },
   {
    "duration": 113,
    "start_time": "2022-03-11T18:38:49.834Z"
   },
   {
    "duration": 18,
    "start_time": "2022-03-11T18:38:49.950Z"
   },
   {
    "duration": 141,
    "start_time": "2022-03-11T18:38:49.970Z"
   },
   {
    "duration": 15,
    "start_time": "2022-03-11T18:38:50.113Z"
   },
   {
    "duration": 40,
    "start_time": "2022-03-11T18:38:50.129Z"
   },
   {
    "duration": 23,
    "start_time": "2022-03-11T18:38:50.170Z"
   },
   {
    "duration": 42,
    "start_time": "2022-03-11T18:38:50.195Z"
   },
   {
    "duration": 27,
    "start_time": "2022-03-11T18:38:50.239Z"
   },
   {
    "duration": 22,
    "start_time": "2022-03-11T18:38:50.267Z"
   },
   {
    "duration": 23,
    "start_time": "2022-03-11T18:38:50.290Z"
   },
   {
    "duration": 15,
    "start_time": "2022-03-11T18:38:50.314Z"
   },
   {
    "duration": 25,
    "start_time": "2022-03-11T18:38:50.331Z"
   },
   {
    "duration": 35,
    "start_time": "2022-03-11T18:38:50.358Z"
   },
   {
    "duration": 36,
    "start_time": "2022-03-11T18:38:50.395Z"
   },
   {
    "duration": 164,
    "start_time": "2022-03-11T18:38:50.432Z"
   },
   {
    "duration": 11,
    "start_time": "2022-03-11T18:38:50.598Z"
   },
   {
    "duration": 77,
    "start_time": "2022-03-11T18:38:50.612Z"
   },
   {
    "duration": 35,
    "start_time": "2022-03-11T18:38:50.691Z"
   },
   {
    "duration": 111,
    "start_time": "2022-03-11T18:38:50.728Z"
   },
   {
    "duration": 5,
    "start_time": "2022-03-11T18:38:50.841Z"
   },
   {
    "duration": 91,
    "start_time": "2022-03-11T18:38:50.847Z"
   },
   {
    "duration": 33,
    "start_time": "2022-03-11T18:38:50.939Z"
   },
   {
    "duration": 66,
    "start_time": "2022-03-11T18:38:50.973Z"
   },
   {
    "duration": 65,
    "start_time": "2022-03-11T18:38:51.040Z"
   },
   {
    "duration": 4,
    "start_time": "2022-03-11T18:38:51.106Z"
   },
   {
    "duration": 10,
    "start_time": "2022-03-11T18:38:51.111Z"
   },
   {
    "duration": 14,
    "start_time": "2022-03-11T18:38:51.122Z"
   },
   {
    "duration": 63,
    "start_time": "2022-03-11T18:38:51.138Z"
   },
   {
    "duration": 58,
    "start_time": "2022-03-11T18:38:51.203Z"
   },
   {
    "duration": 40,
    "start_time": "2022-03-11T18:38:51.262Z"
   },
   {
    "duration": 24,
    "start_time": "2022-03-11T18:38:51.304Z"
   },
   {
    "duration": 13,
    "start_time": "2022-03-11T18:38:51.329Z"
   },
   {
    "duration": 26,
    "start_time": "2022-03-11T18:38:51.343Z"
   },
   {
    "duration": 2351,
    "start_time": "2022-03-11T18:38:51.370Z"
   },
   {
    "duration": 10,
    "start_time": "2022-03-11T18:38:53.722Z"
   },
   {
    "duration": 14,
    "start_time": "2022-03-11T18:38:53.733Z"
   },
   {
    "duration": 540,
    "start_time": "2022-03-11T18:38:53.748Z"
   },
   {
    "duration": 525,
    "start_time": "2022-03-11T18:38:54.290Z"
   },
   {
    "duration": 294,
    "start_time": "2022-03-11T18:38:54.817Z"
   },
   {
    "duration": 374,
    "start_time": "2022-03-11T18:38:55.113Z"
   },
   {
    "duration": 286,
    "start_time": "2022-03-11T18:38:55.488Z"
   },
   {
    "duration": 274,
    "start_time": "2022-03-11T18:38:55.775Z"
   },
   {
    "duration": 177,
    "start_time": "2022-03-11T18:38:56.051Z"
   },
   {
    "duration": 186,
    "start_time": "2022-03-11T18:38:56.230Z"
   },
   {
    "duration": 180,
    "start_time": "2022-03-11T18:38:56.418Z"
   },
   {
    "duration": 3,
    "start_time": "2022-03-11T18:38:56.601Z"
   },
   {
    "duration": 5,
    "start_time": "2022-03-11T18:38:56.605Z"
   },
   {
    "duration": 5,
    "start_time": "2022-03-11T18:38:56.611Z"
   },
   {
    "duration": 6,
    "start_time": "2022-03-11T18:38:56.617Z"
   },
   {
    "duration": 7,
    "start_time": "2022-03-11T18:38:56.625Z"
   },
   {
    "duration": 8,
    "start_time": "2022-03-11T18:38:56.633Z"
   },
   {
    "duration": 9,
    "start_time": "2022-03-11T18:38:56.642Z"
   },
   {
    "duration": 1096,
    "start_time": "2022-03-12T06:54:53.026Z"
   },
   {
    "duration": 32,
    "start_time": "2022-03-12T06:54:54.124Z"
   },
   {
    "duration": 7,
    "start_time": "2022-03-12T06:54:54.158Z"
   },
   {
    "duration": 156,
    "start_time": "2022-03-12T06:54:54.166Z"
   },
   {
    "duration": 20,
    "start_time": "2022-03-12T06:54:54.323Z"
   },
   {
    "duration": 97,
    "start_time": "2022-03-12T06:54:54.345Z"
   },
   {
    "duration": 22,
    "start_time": "2022-03-12T06:54:54.444Z"
   },
   {
    "duration": 139,
    "start_time": "2022-03-12T06:54:54.468Z"
   },
   {
    "duration": 18,
    "start_time": "2022-03-12T06:54:54.609Z"
   },
   {
    "duration": 16,
    "start_time": "2022-03-12T06:54:54.628Z"
   },
   {
    "duration": 17,
    "start_time": "2022-03-12T06:54:54.646Z"
   },
   {
    "duration": 16,
    "start_time": "2022-03-12T06:54:54.665Z"
   },
   {
    "duration": 7,
    "start_time": "2022-03-12T06:54:54.683Z"
   },
   {
    "duration": 8,
    "start_time": "2022-03-12T06:54:54.692Z"
   },
   {
    "duration": 7,
    "start_time": "2022-03-12T06:54:54.701Z"
   },
   {
    "duration": 6,
    "start_time": "2022-03-12T06:54:54.710Z"
   },
   {
    "duration": 7,
    "start_time": "2022-03-12T06:54:54.759Z"
   },
   {
    "duration": 6,
    "start_time": "2022-03-12T06:54:54.767Z"
   },
   {
    "duration": 31,
    "start_time": "2022-03-12T06:54:54.775Z"
   },
   {
    "duration": 189,
    "start_time": "2022-03-12T06:54:54.808Z"
   },
   {
    "duration": 13,
    "start_time": "2022-03-12T06:54:54.999Z"
   },
   {
    "duration": 97,
    "start_time": "2022-03-12T06:54:55.014Z"
   },
   {
    "duration": 27,
    "start_time": "2022-03-12T06:54:55.115Z"
   },
   {
    "duration": 122,
    "start_time": "2022-03-12T06:54:55.145Z"
   },
   {
    "duration": 7,
    "start_time": "2022-03-12T06:54:55.268Z"
   },
   {
    "duration": 109,
    "start_time": "2022-03-12T06:54:55.276Z"
   },
   {
    "duration": 42,
    "start_time": "2022-03-12T06:54:55.387Z"
   },
   {
    "duration": 71,
    "start_time": "2022-03-12T06:54:55.430Z"
   },
   {
    "duration": 69,
    "start_time": "2022-03-12T06:54:55.503Z"
   },
   {
    "duration": 4,
    "start_time": "2022-03-12T06:54:55.574Z"
   },
   {
    "duration": 10,
    "start_time": "2022-03-12T06:54:55.579Z"
   },
   {
    "duration": 13,
    "start_time": "2022-03-12T06:54:55.590Z"
   },
   {
    "duration": 68,
    "start_time": "2022-03-12T06:54:55.604Z"
   },
   {
    "duration": 67,
    "start_time": "2022-03-12T06:54:55.673Z"
   },
   {
    "duration": 41,
    "start_time": "2022-03-12T06:54:55.742Z"
   },
   {
    "duration": 27,
    "start_time": "2022-03-12T06:54:55.785Z"
   },
   {
    "duration": 14,
    "start_time": "2022-03-12T06:54:55.814Z"
   },
   {
    "duration": 57,
    "start_time": "2022-03-12T06:54:55.830Z"
   },
   {
    "duration": 2638,
    "start_time": "2022-03-12T06:54:55.888Z"
   },
   {
    "duration": 7,
    "start_time": "2022-03-12T06:54:58.528Z"
   },
   {
    "duration": 28,
    "start_time": "2022-03-12T06:54:58.537Z"
   },
   {
    "duration": 615,
    "start_time": "2022-03-12T06:54:58.566Z"
   },
   {
    "duration": 646,
    "start_time": "2022-03-12T06:54:59.182Z"
   },
   {
    "duration": 356,
    "start_time": "2022-03-12T06:54:59.830Z"
   },
   {
    "duration": 452,
    "start_time": "2022-03-12T06:55:00.187Z"
   },
   {
    "duration": 331,
    "start_time": "2022-03-12T06:55:00.641Z"
   },
   {
    "duration": 317,
    "start_time": "2022-03-12T06:55:00.975Z"
   },
   {
    "duration": 217,
    "start_time": "2022-03-12T06:55:01.294Z"
   },
   {
    "duration": 220,
    "start_time": "2022-03-12T06:55:01.513Z"
   },
   {
    "duration": 216,
    "start_time": "2022-03-12T06:55:01.734Z"
   },
   {
    "duration": 9,
    "start_time": "2022-03-12T06:55:01.951Z"
   },
   {
    "duration": 3,
    "start_time": "2022-03-12T06:55:01.962Z"
   },
   {
    "duration": 9,
    "start_time": "2022-03-12T06:55:01.967Z"
   },
   {
    "duration": 9,
    "start_time": "2022-03-12T06:55:01.978Z"
   },
   {
    "duration": 18,
    "start_time": "2022-03-12T06:55:01.988Z"
   },
   {
    "duration": 11,
    "start_time": "2022-03-12T06:55:02.007Z"
   },
   {
    "duration": 9,
    "start_time": "2022-03-12T06:55:02.019Z"
   },
   {
    "duration": 1050,
    "start_time": "2022-03-12T07:03:15.515Z"
   },
   {
    "duration": 427,
    "start_time": "2022-03-12T07:03:40.201Z"
   },
   {
    "duration": 7,
    "start_time": "2022-03-12T07:04:45.603Z"
   },
   {
    "duration": 787,
    "start_time": "2022-03-12T07:05:10.519Z"
   },
   {
    "duration": 916,
    "start_time": "2022-03-12T07:24:37.406Z"
   },
   {
    "duration": 622,
    "start_time": "2022-03-12T07:27:43.646Z"
   },
   {
    "duration": 444,
    "start_time": "2022-03-12T07:33:54.872Z"
   },
   {
    "duration": 203,
    "start_time": "2022-03-12T07:34:04.934Z"
   },
   {
    "duration": 425,
    "start_time": "2022-03-12T07:34:28.584Z"
   },
   {
    "duration": 352,
    "start_time": "2022-03-12T07:34:37.920Z"
   },
   {
    "duration": 170,
    "start_time": "2022-03-12T07:35:00.917Z"
   },
   {
    "duration": 267,
    "start_time": "2022-03-12T07:35:51.513Z"
   },
   {
    "duration": 311,
    "start_time": "2022-03-12T07:37:16.481Z"
   },
   {
    "duration": 305,
    "start_time": "2022-03-12T07:37:21.809Z"
   },
   {
    "duration": 315,
    "start_time": "2022-03-12T07:38:03.942Z"
   },
   {
    "duration": 1014,
    "start_time": "2022-03-12T07:39:44.201Z"
   },
   {
    "duration": 192,
    "start_time": "2022-03-12T07:40:45.558Z"
   },
   {
    "duration": 1039,
    "start_time": "2022-03-12T07:41:24.204Z"
   },
   {
    "duration": 228,
    "start_time": "2022-03-12T07:42:01.662Z"
   },
   {
    "duration": 306,
    "start_time": "2022-03-12T07:42:11.818Z"
   },
   {
    "duration": 483,
    "start_time": "2022-03-12T07:42:20.862Z"
   },
   {
    "duration": 500,
    "start_time": "2022-03-12T07:42:42.330Z"
   },
   {
    "duration": 396,
    "start_time": "2022-03-12T07:43:45.335Z"
   },
   {
    "duration": 61,
    "start_time": "2022-03-12T07:44:12.659Z"
   },
   {
    "duration": 384,
    "start_time": "2022-03-12T07:44:19.214Z"
   },
   {
    "duration": 470,
    "start_time": "2022-03-12T07:48:32.503Z"
   },
   {
    "duration": 1244,
    "start_time": "2022-03-12T07:49:12.371Z"
   },
   {
    "duration": 1159,
    "start_time": "2022-03-12T07:49:39.735Z"
   },
   {
    "duration": 1312,
    "start_time": "2022-03-12T07:50:30.147Z"
   },
   {
    "duration": 1134,
    "start_time": "2022-03-12T07:51:10.611Z"
   },
   {
    "duration": 618,
    "start_time": "2022-03-12T07:52:07.621Z"
   },
   {
    "duration": 693,
    "start_time": "2022-03-12T07:55:22.109Z"
   },
   {
    "duration": 1148,
    "start_time": "2022-03-12T07:57:59.965Z"
   },
   {
    "duration": 1302,
    "start_time": "2022-03-12T07:58:47.240Z"
   },
   {
    "duration": 1227,
    "start_time": "2022-03-12T07:59:03.137Z"
   },
   {
    "duration": 1214,
    "start_time": "2022-03-12T07:59:40.089Z"
   },
   {
    "duration": 1424,
    "start_time": "2022-03-12T08:00:10.137Z"
   },
   {
    "duration": 615,
    "start_time": "2022-03-12T08:00:56.750Z"
   },
   {
    "duration": 612,
    "start_time": "2022-03-12T08:01:37.617Z"
   },
   {
    "duration": 527,
    "start_time": "2022-03-12T08:02:38.943Z"
   },
   {
    "duration": 1131,
    "start_time": "2022-03-13T13:53:44.630Z"
   },
   {
    "duration": 62,
    "start_time": "2022-03-13T13:53:45.763Z"
   },
   {
    "duration": 5,
    "start_time": "2022-03-13T13:53:45.827Z"
   },
   {
    "duration": 135,
    "start_time": "2022-03-13T13:53:45.833Z"
   },
   {
    "duration": 19,
    "start_time": "2022-03-13T13:53:45.969Z"
   },
   {
    "duration": 83,
    "start_time": "2022-03-13T13:53:46.002Z"
   },
   {
    "duration": 13,
    "start_time": "2022-03-13T13:53:46.087Z"
   },
   {
    "duration": 118,
    "start_time": "2022-03-13T13:53:46.102Z"
   },
   {
    "duration": 15,
    "start_time": "2022-03-13T13:53:46.222Z"
   },
   {
    "duration": 20,
    "start_time": "2022-03-13T13:53:46.239Z"
   },
   {
    "duration": 6,
    "start_time": "2022-03-13T13:53:46.261Z"
   },
   {
    "duration": 14,
    "start_time": "2022-03-13T13:53:46.269Z"
   },
   {
    "duration": 17,
    "start_time": "2022-03-13T13:53:46.284Z"
   },
   {
    "duration": 5,
    "start_time": "2022-03-13T13:53:46.302Z"
   },
   {
    "duration": 6,
    "start_time": "2022-03-13T13:53:46.309Z"
   },
   {
    "duration": 5,
    "start_time": "2022-03-13T13:53:46.317Z"
   },
   {
    "duration": 7,
    "start_time": "2022-03-13T13:53:46.324Z"
   },
   {
    "duration": 10,
    "start_time": "2022-03-13T13:53:46.332Z"
   },
   {
    "duration": 31,
    "start_time": "2022-03-13T13:53:46.343Z"
   },
   {
    "duration": 169,
    "start_time": "2022-03-13T13:53:46.375Z"
   },
   {
    "duration": 12,
    "start_time": "2022-03-13T13:53:46.546Z"
   },
   {
    "duration": 89,
    "start_time": "2022-03-13T13:53:46.559Z"
   },
   {
    "duration": 25,
    "start_time": "2022-03-13T13:53:46.651Z"
   },
   {
    "duration": 114,
    "start_time": "2022-03-13T13:53:46.678Z"
   },
   {
    "duration": 11,
    "start_time": "2022-03-13T13:53:46.794Z"
   },
   {
    "duration": 74,
    "start_time": "2022-03-13T13:53:46.806Z"
   },
   {
    "duration": 34,
    "start_time": "2022-03-13T13:53:46.901Z"
   },
   {
    "duration": 44,
    "start_time": "2022-03-13T13:53:46.937Z"
   },
   {
    "duration": 71,
    "start_time": "2022-03-13T13:53:46.983Z"
   },
   {
    "duration": 5,
    "start_time": "2022-03-13T13:53:47.055Z"
   },
   {
    "duration": 7,
    "start_time": "2022-03-13T13:53:47.062Z"
   },
   {
    "duration": 32,
    "start_time": "2022-03-13T13:53:47.071Z"
   },
   {
    "duration": 45,
    "start_time": "2022-03-13T13:53:47.105Z"
   },
   {
    "duration": 65,
    "start_time": "2022-03-13T13:53:47.151Z"
   },
   {
    "duration": 27,
    "start_time": "2022-03-13T13:53:47.218Z"
   },
   {
    "duration": 24,
    "start_time": "2022-03-13T13:53:47.247Z"
   },
   {
    "duration": 35,
    "start_time": "2022-03-13T13:53:47.272Z"
   },
   {
    "duration": 29,
    "start_time": "2022-03-13T13:53:47.308Z"
   },
   {
    "duration": 2421,
    "start_time": "2022-03-13T13:53:47.339Z"
   },
   {
    "duration": 9,
    "start_time": "2022-03-13T13:53:49.762Z"
   },
   {
    "duration": 14,
    "start_time": "2022-03-13T13:53:49.772Z"
   },
   {
    "duration": 526,
    "start_time": "2022-03-13T13:53:49.787Z"
   },
   {
    "duration": 520,
    "start_time": "2022-03-13T13:53:50.315Z"
   },
   {
    "duration": 814,
    "start_time": "2022-03-13T13:53:50.837Z"
   },
   {
    "duration": 307,
    "start_time": "2022-03-13T13:53:51.652Z"
   },
   {
    "duration": 274,
    "start_time": "2022-03-13T13:53:51.960Z"
   },
   {
    "duration": 261,
    "start_time": "2022-03-13T13:53:52.236Z"
   },
   {
    "duration": 1114,
    "start_time": "2022-03-13T13:53:52.498Z"
   },
   {
    "duration": 543,
    "start_time": "2022-03-13T13:53:53.614Z"
   },
   {
    "duration": 480,
    "start_time": "2022-03-13T13:53:54.159Z"
   },
   {
    "duration": 4,
    "start_time": "2022-03-13T13:53:54.640Z"
   },
   {
    "duration": 5,
    "start_time": "2022-03-13T13:53:54.645Z"
   },
   {
    "duration": 5,
    "start_time": "2022-03-13T13:53:54.651Z"
   },
   {
    "duration": 5,
    "start_time": "2022-03-13T13:53:54.657Z"
   },
   {
    "duration": 6,
    "start_time": "2022-03-13T13:53:54.664Z"
   },
   {
    "duration": 33,
    "start_time": "2022-03-13T13:53:54.672Z"
   },
   {
    "duration": 4,
    "start_time": "2022-03-13T13:53:54.706Z"
   },
   {
    "duration": 649,
    "start_time": "2022-03-13T13:54:43.383Z"
   },
   {
    "duration": 533,
    "start_time": "2022-03-13T13:54:59.480Z"
   },
   {
    "duration": 420,
    "start_time": "2022-03-13T13:56:05.687Z"
   },
   {
    "duration": 5,
    "start_time": "2022-03-13T14:18:38.562Z"
   },
   {
    "duration": 6,
    "start_time": "2022-03-13T14:22:00.719Z"
   },
   {
    "duration": 6,
    "start_time": "2022-03-13T14:22:12.259Z"
   },
   {
    "duration": 7,
    "start_time": "2022-03-13T14:23:40.524Z"
   },
   {
    "duration": 4,
    "start_time": "2022-03-13T14:24:17.304Z"
   },
   {
    "duration": 5,
    "start_time": "2022-03-13T14:26:49.805Z"
   },
   {
    "duration": 5,
    "start_time": "2022-03-13T14:28:55.362Z"
   },
   {
    "duration": 115,
    "start_time": "2022-03-13T14:30:46.666Z"
   },
   {
    "duration": 3,
    "start_time": "2022-03-13T14:30:58.346Z"
   },
   {
    "duration": 3,
    "start_time": "2022-03-13T14:31:06.214Z"
   },
   {
    "duration": 3,
    "start_time": "2022-03-13T14:31:12.662Z"
   },
   {
    "duration": 4,
    "start_time": "2022-03-13T14:32:52.782Z"
   },
   {
    "duration": 5,
    "start_time": "2022-03-13T14:33:16.934Z"
   },
   {
    "duration": 7,
    "start_time": "2022-03-13T14:34:50.475Z"
   },
   {
    "duration": 325,
    "start_time": "2022-03-13T14:35:04.319Z"
   },
   {
    "duration": 6,
    "start_time": "2022-03-13T14:35:08.843Z"
   },
   {
    "duration": 6,
    "start_time": "2022-03-13T14:35:23.467Z"
   },
   {
    "duration": 10,
    "start_time": "2022-03-13T14:37:01.332Z"
   },
   {
    "duration": 14,
    "start_time": "2022-03-13T14:38:20.164Z"
   },
   {
    "duration": 10,
    "start_time": "2022-03-13T14:38:27.200Z"
   },
   {
    "duration": 111,
    "start_time": "2022-03-13T14:39:01.456Z"
   },
   {
    "duration": 99,
    "start_time": "2022-03-13T14:39:11.344Z"
   },
   {
    "duration": 108,
    "start_time": "2022-03-13T14:39:19.224Z"
   },
   {
    "duration": 339,
    "start_time": "2022-03-13T14:40:26.059Z"
   },
   {
    "duration": 323,
    "start_time": "2022-03-13T14:40:29.813Z"
   },
   {
    "duration": 142,
    "start_time": "2022-03-13T14:41:47.113Z"
   },
   {
    "duration": 9,
    "start_time": "2022-03-13T14:42:25.846Z"
   },
   {
    "duration": 10,
    "start_time": "2022-03-13T14:42:44.293Z"
   },
   {
    "duration": 9,
    "start_time": "2022-03-13T14:44:43.194Z"
   },
   {
    "duration": 10,
    "start_time": "2022-03-13T14:44:49.838Z"
   },
   {
    "duration": 150,
    "start_time": "2022-03-13T14:45:09.446Z"
   },
   {
    "duration": 12,
    "start_time": "2022-03-13T14:46:01.599Z"
   },
   {
    "duration": 9,
    "start_time": "2022-03-13T14:46:07.712Z"
   },
   {
    "duration": 10,
    "start_time": "2022-03-13T14:47:10.059Z"
   },
   {
    "duration": 10,
    "start_time": "2022-03-13T14:47:35.699Z"
   },
   {
    "duration": 4,
    "start_time": "2022-03-13T14:48:06.951Z"
   },
   {
    "duration": 4,
    "start_time": "2022-03-13T14:48:16.223Z"
   },
   {
    "duration": 105,
    "start_time": "2022-03-13T14:49:40.387Z"
   },
   {
    "duration": 10,
    "start_time": "2022-03-13T14:50:38.912Z"
   },
   {
    "duration": 10,
    "start_time": "2022-03-13T14:50:55.000Z"
   },
   {
    "duration": 11,
    "start_time": "2022-03-13T14:51:01.421Z"
   },
   {
    "duration": 107,
    "start_time": "2022-03-13T14:51:14.972Z"
   },
   {
    "duration": 10,
    "start_time": "2022-03-13T14:51:18.412Z"
   },
   {
    "duration": 9,
    "start_time": "2022-03-13T14:51:58.120Z"
   },
   {
    "duration": 11,
    "start_time": "2022-03-13T14:52:04.412Z"
   },
   {
    "duration": 11,
    "start_time": "2022-03-13T14:53:46.824Z"
   },
   {
    "duration": 12,
    "start_time": "2022-03-13T14:54:53.497Z"
   },
   {
    "duration": 12,
    "start_time": "2022-03-13T14:55:07.752Z"
   },
   {
    "duration": 13,
    "start_time": "2022-03-13T14:55:25.137Z"
   },
   {
    "duration": 1140,
    "start_time": "2022-03-13T15:09:49.895Z"
   },
   {
    "duration": 41,
    "start_time": "2022-03-13T15:09:51.037Z"
   },
   {
    "duration": 7,
    "start_time": "2022-03-13T15:09:51.080Z"
   },
   {
    "duration": 140,
    "start_time": "2022-03-13T15:09:51.089Z"
   },
   {
    "duration": 19,
    "start_time": "2022-03-13T15:09:51.231Z"
   },
   {
    "duration": 86,
    "start_time": "2022-03-13T15:09:51.252Z"
   },
   {
    "duration": 14,
    "start_time": "2022-03-13T15:09:51.339Z"
   },
   {
    "duration": 132,
    "start_time": "2022-03-13T15:09:51.356Z"
   },
   {
    "duration": 15,
    "start_time": "2022-03-13T15:09:51.490Z"
   },
   {
    "duration": 21,
    "start_time": "2022-03-13T15:09:51.507Z"
   },
   {
    "duration": 6,
    "start_time": "2022-03-13T15:09:51.530Z"
   },
   {
    "duration": 16,
    "start_time": "2022-03-13T15:09:51.537Z"
   },
   {
    "duration": 5,
    "start_time": "2022-03-13T15:09:51.554Z"
   },
   {
    "duration": 7,
    "start_time": "2022-03-13T15:09:51.561Z"
   },
   {
    "duration": 7,
    "start_time": "2022-03-13T15:09:51.570Z"
   },
   {
    "duration": 26,
    "start_time": "2022-03-13T15:09:51.578Z"
   },
   {
    "duration": 5,
    "start_time": "2022-03-13T15:09:51.606Z"
   },
   {
    "duration": 8,
    "start_time": "2022-03-13T15:09:51.613Z"
   },
   {
    "duration": 30,
    "start_time": "2022-03-13T15:09:51.623Z"
   },
   {
    "duration": 167,
    "start_time": "2022-03-13T15:09:51.654Z"
   },
   {
    "duration": 12,
    "start_time": "2022-03-13T15:09:51.823Z"
   },
   {
    "duration": 90,
    "start_time": "2022-03-13T15:09:51.837Z"
   },
   {
    "duration": 25,
    "start_time": "2022-03-13T15:09:51.931Z"
   },
   {
    "duration": 116,
    "start_time": "2022-03-13T15:09:51.958Z"
   },
   {
    "duration": 6,
    "start_time": "2022-03-13T15:09:52.076Z"
   },
   {
    "duration": 104,
    "start_time": "2022-03-13T15:09:52.084Z"
   },
   {
    "duration": 44,
    "start_time": "2022-03-13T15:09:52.190Z"
   },
   {
    "duration": 47,
    "start_time": "2022-03-13T15:09:52.236Z"
   },
   {
    "duration": 68,
    "start_time": "2022-03-13T15:09:52.285Z"
   },
   {
    "duration": 4,
    "start_time": "2022-03-13T15:09:52.355Z"
   },
   {
    "duration": 17,
    "start_time": "2022-03-13T15:09:52.360Z"
   },
   {
    "duration": 25,
    "start_time": "2022-03-13T15:09:52.378Z"
   },
   {
    "duration": 48,
    "start_time": "2022-03-13T15:09:52.404Z"
   },
   {
    "duration": 78,
    "start_time": "2022-03-13T15:09:52.453Z"
   },
   {
    "duration": 32,
    "start_time": "2022-03-13T15:09:52.533Z"
   },
   {
    "duration": 44,
    "start_time": "2022-03-13T15:09:52.567Z"
   },
   {
    "duration": 16,
    "start_time": "2022-03-13T15:09:52.613Z"
   },
   {
    "duration": 31,
    "start_time": "2022-03-13T15:09:52.631Z"
   },
   {
    "duration": 2413,
    "start_time": "2022-03-13T15:09:52.665Z"
   },
   {
    "duration": 10,
    "start_time": "2022-03-13T15:09:55.079Z"
   },
   {
    "duration": 22,
    "start_time": "2022-03-13T15:09:55.091Z"
   },
   {
    "duration": 516,
    "start_time": "2022-03-13T15:09:55.114Z"
   },
   {
    "duration": 519,
    "start_time": "2022-03-13T15:09:55.632Z"
   },
   {
    "duration": 291,
    "start_time": "2022-03-13T15:09:56.153Z"
   },
   {
    "duration": 371,
    "start_time": "2022-03-13T15:09:56.445Z"
   },
   {
    "duration": 270,
    "start_time": "2022-03-13T15:09:56.818Z"
   },
   {
    "duration": 257,
    "start_time": "2022-03-13T15:09:57.090Z"
   },
   {
    "duration": 1025,
    "start_time": "2022-03-13T15:09:57.349Z"
   },
   {
    "duration": 528,
    "start_time": "2022-03-13T15:09:58.376Z"
   },
   {
    "duration": 525,
    "start_time": "2022-03-13T15:09:58.906Z"
   },
   {
    "duration": 4,
    "start_time": "2022-03-13T15:09:59.432Z"
   },
   {
    "duration": 9,
    "start_time": "2022-03-13T15:09:59.437Z"
   },
   {
    "duration": 11,
    "start_time": "2022-03-13T15:09:59.447Z"
   },
   {
    "duration": 3,
    "start_time": "2022-03-13T15:09:59.460Z"
   },
   {
    "duration": 5,
    "start_time": "2022-03-13T15:09:59.464Z"
   },
   {
    "duration": 34,
    "start_time": "2022-03-13T15:09:59.470Z"
   },
   {
    "duration": 1380,
    "start_time": "2022-03-13T17:03:32.441Z"
   },
   {
    "duration": 39,
    "start_time": "2022-03-13T17:03:33.823Z"
   },
   {
    "duration": 6,
    "start_time": "2022-03-13T17:03:33.864Z"
   },
   {
    "duration": 142,
    "start_time": "2022-03-13T17:03:33.872Z"
   },
   {
    "duration": 19,
    "start_time": "2022-03-13T17:03:34.016Z"
   },
   {
    "duration": 89,
    "start_time": "2022-03-13T17:03:34.036Z"
   },
   {
    "duration": 13,
    "start_time": "2022-03-13T17:03:34.126Z"
   },
   {
    "duration": 132,
    "start_time": "2022-03-13T17:03:34.141Z"
   },
   {
    "duration": 27,
    "start_time": "2022-03-13T17:03:34.275Z"
   },
   {
    "duration": 21,
    "start_time": "2022-03-13T17:03:34.304Z"
   },
   {
    "duration": 7,
    "start_time": "2022-03-13T17:03:34.327Z"
   },
   {
    "duration": 20,
    "start_time": "2022-03-13T17:03:34.336Z"
   },
   {
    "duration": 7,
    "start_time": "2022-03-13T17:03:34.357Z"
   },
   {
    "duration": 7,
    "start_time": "2022-03-13T17:03:34.366Z"
   },
   {
    "duration": 29,
    "start_time": "2022-03-13T17:03:34.375Z"
   },
   {
    "duration": 6,
    "start_time": "2022-03-13T17:03:34.406Z"
   },
   {
    "duration": 7,
    "start_time": "2022-03-13T17:03:34.413Z"
   },
   {
    "duration": 7,
    "start_time": "2022-03-13T17:03:34.422Z"
   },
   {
    "duration": 28,
    "start_time": "2022-03-13T17:03:34.431Z"
   },
   {
    "duration": 184,
    "start_time": "2022-03-13T17:03:34.461Z"
   },
   {
    "duration": 14,
    "start_time": "2022-03-13T17:03:34.647Z"
   },
   {
    "duration": 90,
    "start_time": "2022-03-13T17:03:34.663Z"
   },
   {
    "duration": 25,
    "start_time": "2022-03-13T17:03:34.757Z"
   },
   {
    "duration": 123,
    "start_time": "2022-03-13T17:03:34.784Z"
   },
   {
    "duration": 6,
    "start_time": "2022-03-13T17:03:34.909Z"
   },
   {
    "duration": 100,
    "start_time": "2022-03-13T17:03:34.916Z"
   },
   {
    "duration": 36,
    "start_time": "2022-03-13T17:03:35.018Z"
   },
   {
    "duration": 77,
    "start_time": "2022-03-13T17:03:35.056Z"
   },
   {
    "duration": 58,
    "start_time": "2022-03-13T17:03:35.135Z"
   },
   {
    "duration": 5,
    "start_time": "2022-03-13T17:03:35.201Z"
   },
   {
    "duration": 11,
    "start_time": "2022-03-13T17:03:35.208Z"
   },
   {
    "duration": 18,
    "start_time": "2022-03-13T17:03:35.221Z"
   },
   {
    "duration": 73,
    "start_time": "2022-03-13T17:03:35.241Z"
   },
   {
    "duration": 94,
    "start_time": "2022-03-13T17:03:35.316Z"
   },
   {
    "duration": 32,
    "start_time": "2022-03-13T17:03:35.412Z"
   },
   {
    "duration": 29,
    "start_time": "2022-03-13T17:03:35.445Z"
   },
   {
    "duration": 38,
    "start_time": "2022-03-13T17:03:35.475Z"
   },
   {
    "duration": 30,
    "start_time": "2022-03-13T17:03:35.515Z"
   },
   {
    "duration": 2597,
    "start_time": "2022-03-13T17:03:35.547Z"
   },
   {
    "duration": 10,
    "start_time": "2022-03-13T17:03:38.145Z"
   },
   {
    "duration": 13,
    "start_time": "2022-03-13T17:03:38.156Z"
   },
   {
    "duration": 535,
    "start_time": "2022-03-13T17:03:38.171Z"
   },
   {
    "duration": 536,
    "start_time": "2022-03-13T17:03:38.708Z"
   },
   {
    "duration": 303,
    "start_time": "2022-03-13T17:03:39.246Z"
   },
   {
    "duration": 385,
    "start_time": "2022-03-13T17:03:39.550Z"
   },
   {
    "duration": 269,
    "start_time": "2022-03-13T17:03:39.937Z"
   },
   {
    "duration": 262,
    "start_time": "2022-03-13T17:03:40.208Z"
   },
   {
    "duration": 1175,
    "start_time": "2022-03-13T17:03:40.472Z"
   },
   {
    "duration": 563,
    "start_time": "2022-03-13T17:03:41.649Z"
   },
   {
    "duration": 544,
    "start_time": "2022-03-13T17:03:42.214Z"
   },
   {
    "duration": 3,
    "start_time": "2022-03-13T17:03:42.760Z"
   },
   {
    "duration": 7,
    "start_time": "2022-03-13T17:03:42.764Z"
   },
   {
    "duration": 8,
    "start_time": "2022-03-13T17:03:42.773Z"
   },
   {
    "duration": 19,
    "start_time": "2022-03-13T17:03:42.783Z"
   },
   {
    "duration": 6,
    "start_time": "2022-03-13T17:03:42.804Z"
   },
   {
    "duration": 12,
    "start_time": "2022-03-13T17:03:42.812Z"
   },
   {
    "duration": 1173,
    "start_time": "2022-03-14T15:58:01.652Z"
   },
   {
    "duration": 79,
    "start_time": "2022-03-14T15:58:02.827Z"
   },
   {
    "duration": 732,
    "start_time": "2022-03-14T15:58:02.908Z"
   },
   {
    "duration": 907,
    "start_time": "2022-03-14T15:58:03.641Z"
   },
   {
    "duration": 603,
    "start_time": "2022-03-14T15:58:04.550Z"
   },
   {
    "duration": 690,
    "start_time": "2022-03-14T15:58:05.155Z"
   },
   {
    "duration": 1001,
    "start_time": "2022-03-14T15:58:05.846Z"
   },
   {
    "duration": 890,
    "start_time": "2022-03-14T15:58:06.849Z"
   },
   {
    "duration": 195,
    "start_time": "2022-03-14T15:58:07.741Z"
   },
   {
    "duration": 367,
    "start_time": "2022-03-14T15:58:07.938Z"
   },
   {
    "duration": 413,
    "start_time": "2022-03-14T15:58:08.307Z"
   },
   {
    "duration": 589,
    "start_time": "2022-03-14T15:58:08.721Z"
   },
   {
    "duration": 786,
    "start_time": "2022-03-14T15:58:09.312Z"
   },
   {
    "duration": 777,
    "start_time": "2022-03-14T15:58:10.100Z"
   },
   {
    "duration": 302,
    "start_time": "2022-03-14T15:58:10.879Z"
   },
   {
    "duration": 380,
    "start_time": "2022-03-14T15:58:11.183Z"
   },
   {
    "duration": 541,
    "start_time": "2022-03-14T15:58:11.564Z"
   },
   {
    "duration": 523,
    "start_time": "2022-03-14T15:58:12.106Z"
   },
   {
    "duration": 383,
    "start_time": "2022-03-14T15:58:12.630Z"
   },
   {
    "duration": 370,
    "start_time": "2022-03-14T15:58:13.015Z"
   },
   {
    "duration": 159,
    "start_time": "2022-03-14T15:58:13.386Z"
   },
   {
    "duration": 548,
    "start_time": "2022-03-14T15:58:13.547Z"
   },
   {
    "duration": 323,
    "start_time": "2022-03-14T15:58:14.098Z"
   },
   {
    "duration": 354,
    "start_time": "2022-03-14T15:58:14.423Z"
   },
   {
    "duration": 205,
    "start_time": "2022-03-14T15:58:14.778Z"
   },
   {
    "duration": 335,
    "start_time": "2022-03-14T15:58:14.984Z"
   },
   {
    "duration": 406,
    "start_time": "2022-03-14T15:58:15.321Z"
   },
   {
    "duration": 312,
    "start_time": "2022-03-14T15:58:15.729Z"
   },
   {
    "duration": 240,
    "start_time": "2022-03-14T15:58:16.042Z"
   },
   {
    "duration": 294,
    "start_time": "2022-03-14T15:58:16.283Z"
   },
   {
    "duration": 427,
    "start_time": "2022-03-14T15:58:16.578Z"
   },
   {
    "duration": 337,
    "start_time": "2022-03-14T15:58:17.006Z"
   },
   {
    "duration": 371,
    "start_time": "2022-03-14T15:58:17.345Z"
   },
   {
    "duration": 199,
    "start_time": "2022-03-14T15:58:17.718Z"
   },
   {
    "duration": 421,
    "start_time": "2022-03-14T15:58:17.919Z"
   },
   {
    "duration": 258,
    "start_time": "2022-03-14T15:58:18.341Z"
   },
   {
    "duration": 9,
    "start_time": "2022-03-14T15:58:47.038Z"
   },
   {
    "duration": 15,
    "start_time": "2022-03-14T16:04:18.148Z"
   },
   {
    "duration": 39,
    "start_time": "2022-03-14T16:04:19.683Z"
   },
   {
    "duration": 2773,
    "start_time": "2022-03-14T16:09:00.113Z"
   },
   {
    "duration": 9,
    "start_time": "2022-03-14T16:09:09.175Z"
   },
   {
    "duration": 16,
    "start_time": "2022-03-14T16:09:11.169Z"
   },
   {
    "duration": 43,
    "start_time": "2022-03-14T16:09:33.632Z"
   },
   {
    "duration": 44,
    "start_time": "2022-03-14T16:10:05.345Z"
   },
   {
    "duration": 405,
    "start_time": "2022-03-14T16:13:52.560Z"
   },
   {
    "duration": 15,
    "start_time": "2022-03-14T16:14:02.955Z"
   },
   {
    "duration": 546,
    "start_time": "2022-03-14T16:17:45.700Z"
   },
   {
    "duration": 1127,
    "start_time": "2022-03-14T16:17:52.666Z"
   },
   {
    "duration": 600,
    "start_time": "2022-03-14T16:18:02.068Z"
   },
   {
    "duration": 526,
    "start_time": "2022-03-14T16:18:03.962Z"
   },
   {
    "duration": 396,
    "start_time": "2022-03-15T14:40:55.927Z"
   },
   {
    "duration": 1135,
    "start_time": "2022-03-15T14:41:02.196Z"
   },
   {
    "duration": 37,
    "start_time": "2022-03-15T14:41:03.333Z"
   },
   {
    "duration": 6,
    "start_time": "2022-03-15T14:41:03.373Z"
   },
   {
    "duration": 147,
    "start_time": "2022-03-15T14:41:03.381Z"
   },
   {
    "duration": 19,
    "start_time": "2022-03-15T14:41:03.530Z"
   },
   {
    "duration": 94,
    "start_time": "2022-03-15T14:41:03.551Z"
   },
   {
    "duration": 14,
    "start_time": "2022-03-15T14:41:03.647Z"
   },
   {
    "duration": 130,
    "start_time": "2022-03-15T14:41:03.664Z"
   },
   {
    "duration": 15,
    "start_time": "2022-03-15T14:41:03.800Z"
   },
   {
    "duration": 20,
    "start_time": "2022-03-15T14:41:03.817Z"
   },
   {
    "duration": 6,
    "start_time": "2022-03-15T14:41:03.839Z"
   },
   {
    "duration": 15,
    "start_time": "2022-03-15T14:41:03.847Z"
   },
   {
    "duration": 7,
    "start_time": "2022-03-15T14:41:03.863Z"
   },
   {
    "duration": 31,
    "start_time": "2022-03-15T14:41:03.871Z"
   },
   {
    "duration": 5,
    "start_time": "2022-03-15T14:41:03.904Z"
   },
   {
    "duration": 4,
    "start_time": "2022-03-15T14:41:03.911Z"
   },
   {
    "duration": 4,
    "start_time": "2022-03-15T14:41:03.917Z"
   },
   {
    "duration": 7,
    "start_time": "2022-03-15T14:41:03.923Z"
   },
   {
    "duration": 29,
    "start_time": "2022-03-15T14:41:03.931Z"
   },
   {
    "duration": 169,
    "start_time": "2022-03-15T14:41:03.961Z"
   },
   {
    "duration": 12,
    "start_time": "2022-03-15T14:41:04.131Z"
   },
   {
    "duration": 90,
    "start_time": "2022-03-15T14:41:04.145Z"
   },
   {
    "duration": 25,
    "start_time": "2022-03-15T14:41:04.238Z"
   },
   {
    "duration": 116,
    "start_time": "2022-03-15T14:41:04.265Z"
   },
   {
    "duration": 6,
    "start_time": "2022-03-15T14:41:04.382Z"
   },
   {
    "duration": 90,
    "start_time": "2022-03-15T14:41:04.401Z"
   },
   {
    "duration": 41,
    "start_time": "2022-03-15T14:41:04.492Z"
   },
   {
    "duration": 73,
    "start_time": "2022-03-15T14:41:04.535Z"
   },
   {
    "duration": 55,
    "start_time": "2022-03-15T14:41:04.610Z"
   },
   {
    "duration": 4,
    "start_time": "2022-03-15T14:41:04.666Z"
   },
   {
    "duration": 9,
    "start_time": "2022-03-15T14:41:04.672Z"
   },
   {
    "duration": 25,
    "start_time": "2022-03-15T14:41:04.683Z"
   },
   {
    "duration": 46,
    "start_time": "2022-03-15T14:41:04.709Z"
   },
   {
    "duration": 78,
    "start_time": "2022-03-15T14:41:04.756Z"
   },
   {
    "duration": 30,
    "start_time": "2022-03-15T14:41:04.836Z"
   },
   {
    "duration": 38,
    "start_time": "2022-03-15T14:41:04.868Z"
   },
   {
    "duration": 15,
    "start_time": "2022-03-15T14:41:04.908Z"
   },
   {
    "duration": 31,
    "start_time": "2022-03-15T14:41:04.924Z"
   },
   {
    "duration": 4,
    "start_time": "2022-03-15T14:41:04.956Z"
   },
   {
    "duration": 2433,
    "start_time": "2022-03-15T14:41:04.961Z"
   },
   {
    "duration": 13,
    "start_time": "2022-03-15T14:41:07.395Z"
   },
   {
    "duration": 30,
    "start_time": "2022-03-15T14:41:07.409Z"
   },
   {
    "duration": 521,
    "start_time": "2022-03-15T14:41:07.440Z"
   },
   {
    "duration": 521,
    "start_time": "2022-03-15T14:41:07.962Z"
   },
   {
    "duration": 300,
    "start_time": "2022-03-15T14:41:08.485Z"
   },
   {
    "duration": 383,
    "start_time": "2022-03-15T14:41:08.786Z"
   },
   {
    "duration": 264,
    "start_time": "2022-03-15T14:41:09.170Z"
   },
   {
    "duration": 260,
    "start_time": "2022-03-15T14:41:09.435Z"
   },
   {
    "duration": 1031,
    "start_time": "2022-03-15T14:41:09.700Z"
   },
   {
    "duration": 549,
    "start_time": "2022-03-15T14:41:10.732Z"
   },
   {
    "duration": 544,
    "start_time": "2022-03-15T14:41:11.282Z"
   },
   {
    "duration": 4,
    "start_time": "2022-03-15T14:41:11.828Z"
   },
   {
    "duration": 7,
    "start_time": "2022-03-15T14:41:11.833Z"
   },
   {
    "duration": 8,
    "start_time": "2022-03-15T14:41:11.841Z"
   },
   {
    "duration": 3,
    "start_time": "2022-03-15T14:41:11.851Z"
   },
   {
    "duration": 5,
    "start_time": "2022-03-15T14:41:11.856Z"
   },
   {
    "duration": 41,
    "start_time": "2022-03-15T14:41:11.862Z"
   },
   {
    "duration": 484,
    "start_time": "2022-03-15T14:41:25.008Z"
   },
   {
    "duration": 5,
    "start_time": "2022-03-15T14:41:34.475Z"
   },
   {
    "duration": 5,
    "start_time": "2022-03-15T14:42:17.696Z"
   },
   {
    "duration": 5,
    "start_time": "2022-03-15T14:44:25.857Z"
   },
   {
    "duration": 4,
    "start_time": "2022-03-15T14:45:19.941Z"
   },
   {
    "duration": 5,
    "start_time": "2022-03-15T14:46:24.957Z"
   },
   {
    "duration": 518,
    "start_time": "2022-03-15T14:58:22.212Z"
   },
   {
    "duration": 519,
    "start_time": "2022-03-15T14:58:26.115Z"
   },
   {
    "duration": 515,
    "start_time": "2022-03-15T14:59:17.453Z"
   },
   {
    "duration": 608,
    "start_time": "2022-03-15T14:59:37.101Z"
   },
   {
    "duration": 523,
    "start_time": "2022-03-15T14:59:41.778Z"
   },
   {
    "duration": 541,
    "start_time": "2022-03-15T15:00:02.009Z"
   },
   {
    "duration": 535,
    "start_time": "2022-03-15T15:01:49.518Z"
   },
   {
    "duration": 768,
    "start_time": "2022-03-15T15:02:43.579Z"
   },
   {
    "duration": 534,
    "start_time": "2022-03-15T15:03:26.186Z"
   },
   {
    "duration": 337,
    "start_time": "2022-03-15T15:04:25.142Z"
   },
   {
    "duration": 330,
    "start_time": "2022-03-15T15:04:57.582Z"
   },
   {
    "duration": 527,
    "start_time": "2022-03-15T15:06:25.251Z"
   },
   {
    "duration": 655,
    "start_time": "2022-03-15T15:06:31.655Z"
   },
   {
    "duration": 322,
    "start_time": "2022-03-15T15:06:38.111Z"
   },
   {
    "duration": 325,
    "start_time": "2022-03-15T15:06:42.839Z"
   },
   {
    "duration": 297,
    "start_time": "2022-03-15T15:07:31.955Z"
   },
   {
    "duration": 289,
    "start_time": "2022-03-15T15:08:01.015Z"
   },
   {
    "duration": 545,
    "start_time": "2022-03-15T15:08:28.772Z"
   },
   {
    "duration": 282,
    "start_time": "2022-03-15T15:09:22.600Z"
   },
   {
    "duration": 1247,
    "start_time": "2022-03-15T15:10:25.712Z"
   },
   {
    "duration": 1047,
    "start_time": "2022-03-15T15:10:38.456Z"
   },
   {
    "duration": 1207,
    "start_time": "2022-03-15T15:11:43.532Z"
   },
   {
    "duration": 1046,
    "start_time": "2022-03-15T15:12:20.043Z"
   },
   {
    "duration": 567,
    "start_time": "2022-03-15T15:13:03.649Z"
   },
   {
    "duration": 622,
    "start_time": "2022-03-15T15:13:31.360Z"
   },
   {
    "duration": 1072,
    "start_time": "2022-03-15T15:15:43.493Z"
   },
   {
    "duration": 1024,
    "start_time": "2022-03-15T15:16:09.965Z"
   },
   {
    "duration": 648,
    "start_time": "2022-03-15T15:16:44.157Z"
   },
   {
    "duration": 483,
    "start_time": "2022-03-15T15:17:14.909Z"
   },
   {
    "duration": 487,
    "start_time": "2022-03-15T15:18:35.610Z"
   },
   {
    "duration": 1092,
    "start_time": "2022-03-15T15:18:52.805Z"
   },
   {
    "duration": 586,
    "start_time": "2022-03-15T15:20:29.895Z"
   },
   {
    "duration": 611,
    "start_time": "2022-03-15T15:21:31.935Z"
   },
   {
    "duration": 480,
    "start_time": "2022-03-15T15:21:59.439Z"
   },
   {
    "duration": 285,
    "start_time": "2022-03-15T15:22:38.363Z"
   },
   {
    "duration": 274,
    "start_time": "2022-03-15T15:22:48.675Z"
   },
   {
    "duration": 293,
    "start_time": "2022-03-15T15:22:53.967Z"
   },
   {
    "duration": 969,
    "start_time": "2022-03-15T15:23:17.232Z"
   },
   {
    "duration": 2230,
    "start_time": "2022-03-15T15:23:27.079Z"
   },
   {
    "duration": 593,
    "start_time": "2022-03-15T15:23:35.944Z"
   },
   {
    "duration": 419,
    "start_time": "2022-03-15T15:24:09.096Z"
   },
   {
    "duration": 101,
    "start_time": "2022-03-15T15:24:56.420Z"
   },
   {
    "duration": 1402,
    "start_time": "2022-03-15T15:27:11.933Z"
   },
   {
    "duration": 1077,
    "start_time": "2022-03-15T15:31:42.257Z"
   },
   {
    "duration": 53,
    "start_time": "2022-03-15T15:31:43.336Z"
   },
   {
    "duration": 6,
    "start_time": "2022-03-15T15:31:43.390Z"
   },
   {
    "duration": 142,
    "start_time": "2022-03-15T15:31:43.398Z"
   },
   {
    "duration": 18,
    "start_time": "2022-03-15T15:31:43.542Z"
   },
   {
    "duration": 84,
    "start_time": "2022-03-15T15:31:43.562Z"
   },
   {
    "duration": 12,
    "start_time": "2022-03-15T15:31:43.648Z"
   },
   {
    "duration": 127,
    "start_time": "2022-03-15T15:31:43.663Z"
   },
   {
    "duration": 19,
    "start_time": "2022-03-15T15:31:43.792Z"
   },
   {
    "duration": 22,
    "start_time": "2022-03-15T15:31:43.812Z"
   },
   {
    "duration": 11,
    "start_time": "2022-03-15T15:31:43.835Z"
   },
   {
    "duration": 18,
    "start_time": "2022-03-15T15:31:43.848Z"
   },
   {
    "duration": 6,
    "start_time": "2022-03-15T15:31:43.867Z"
   },
   {
    "duration": 5,
    "start_time": "2022-03-15T15:31:43.875Z"
   },
   {
    "duration": 21,
    "start_time": "2022-03-15T15:31:43.881Z"
   },
   {
    "duration": 5,
    "start_time": "2022-03-15T15:31:43.903Z"
   },
   {
    "duration": 10,
    "start_time": "2022-03-15T15:31:43.909Z"
   },
   {
    "duration": 9,
    "start_time": "2022-03-15T15:31:43.920Z"
   },
   {
    "duration": 33,
    "start_time": "2022-03-15T15:31:43.930Z"
   },
   {
    "duration": 160,
    "start_time": "2022-03-15T15:31:43.964Z"
   },
   {
    "duration": 12,
    "start_time": "2022-03-15T15:31:44.125Z"
   },
   {
    "duration": 91,
    "start_time": "2022-03-15T15:31:44.139Z"
   },
   {
    "duration": 26,
    "start_time": "2022-03-15T15:31:44.233Z"
   },
   {
    "duration": 115,
    "start_time": "2022-03-15T15:31:44.261Z"
   },
   {
    "duration": 6,
    "start_time": "2022-03-15T15:31:44.378Z"
   },
   {
    "duration": 94,
    "start_time": "2022-03-15T15:31:44.386Z"
   },
   {
    "duration": 48,
    "start_time": "2022-03-15T15:31:44.481Z"
   },
   {
    "duration": 48,
    "start_time": "2022-03-15T15:31:44.531Z"
   },
   {
    "duration": 65,
    "start_time": "2022-03-15T15:31:44.580Z"
   },
   {
    "duration": 4,
    "start_time": "2022-03-15T15:31:44.647Z"
   },
   {
    "duration": 13,
    "start_time": "2022-03-15T15:31:44.653Z"
   },
   {
    "duration": 13,
    "start_time": "2022-03-15T15:31:44.667Z"
   },
   {
    "duration": 61,
    "start_time": "2022-03-15T15:31:44.682Z"
   },
   {
    "duration": 78,
    "start_time": "2022-03-15T15:31:44.744Z"
   },
   {
    "duration": 29,
    "start_time": "2022-03-15T15:31:44.823Z"
   },
   {
    "duration": 26,
    "start_time": "2022-03-15T15:31:44.854Z"
   },
   {
    "duration": 30,
    "start_time": "2022-03-15T15:31:44.882Z"
   },
   {
    "duration": 27,
    "start_time": "2022-03-15T15:31:44.914Z"
   },
   {
    "duration": 4,
    "start_time": "2022-03-15T15:31:44.942Z"
   },
   {
    "duration": 5,
    "start_time": "2022-03-15T15:31:44.948Z"
   },
   {
    "duration": 6,
    "start_time": "2022-03-15T15:31:44.954Z"
   },
   {
    "duration": 8,
    "start_time": "2022-03-15T15:31:44.961Z"
   },
   {
    "duration": 2451,
    "start_time": "2022-03-15T15:31:44.971Z"
   },
   {
    "duration": 10,
    "start_time": "2022-03-15T15:31:47.424Z"
   },
   {
    "duration": 15,
    "start_time": "2022-03-15T15:31:47.436Z"
   },
   {
    "duration": 565,
    "start_time": "2022-03-15T15:31:47.453Z"
   },
   {
    "duration": 566,
    "start_time": "2022-03-15T15:31:48.020Z"
   },
   {
    "duration": 342,
    "start_time": "2022-03-15T15:31:48.588Z"
   },
   {
    "duration": 408,
    "start_time": "2022-03-15T15:31:48.932Z"
   },
   {
    "duration": 300,
    "start_time": "2022-03-15T15:31:49.342Z"
   },
   {
    "duration": 296,
    "start_time": "2022-03-15T15:31:49.643Z"
   },
   {
    "duration": 1048,
    "start_time": "2022-03-15T15:31:49.941Z"
   },
   {
    "duration": 544,
    "start_time": "2022-03-15T15:31:50.990Z"
   },
   {
    "duration": 596,
    "start_time": "2022-03-15T15:31:51.536Z"
   },
   {
    "duration": 612,
    "start_time": "2022-03-15T15:31:52.133Z"
   },
   {
    "duration": 4,
    "start_time": "2022-03-15T15:31:52.746Z"
   },
   {
    "duration": 7,
    "start_time": "2022-03-15T15:31:52.751Z"
   },
   {
    "duration": 9,
    "start_time": "2022-03-15T15:31:52.759Z"
   },
   {
    "duration": 3,
    "start_time": "2022-03-15T15:31:52.770Z"
   },
   {
    "duration": 5,
    "start_time": "2022-03-15T15:31:52.774Z"
   },
   {
    "duration": 28,
    "start_time": "2022-03-15T15:31:52.781Z"
   },
   {
    "duration": 8,
    "start_time": "2022-03-15T15:47:31.522Z"
   },
   {
    "duration": 448,
    "start_time": "2022-03-15T15:47:53.370Z"
   },
   {
    "duration": 311,
    "start_time": "2022-03-15T15:48:15.234Z"
   },
   {
    "duration": 8,
    "start_time": "2022-03-15T15:48:21.279Z"
   },
   {
    "duration": 12,
    "start_time": "2022-03-15T15:49:28.639Z"
   },
   {
    "duration": 17,
    "start_time": "2022-03-15T15:49:35.791Z"
   },
   {
    "duration": 99,
    "start_time": "2022-03-15T15:49:56.743Z"
   },
   {
    "duration": 18,
    "start_time": "2022-03-15T15:50:01.597Z"
   },
   {
    "duration": 13,
    "start_time": "2022-03-15T15:50:42.540Z"
   },
   {
    "duration": 18,
    "start_time": "2022-03-15T15:50:46.638Z"
   },
   {
    "duration": 373,
    "start_time": "2022-03-15T17:07:47.268Z"
   },
   {
    "duration": 312,
    "start_time": "2022-03-15T17:08:39.593Z"
   },
   {
    "duration": 308,
    "start_time": "2022-03-15T17:09:31.338Z"
   },
   {
    "duration": 8,
    "start_time": "2022-03-15T17:12:25.548Z"
   },
   {
    "duration": 7,
    "start_time": "2022-03-15T17:12:37.926Z"
   },
   {
    "duration": 5,
    "start_time": "2022-03-15T17:12:53.587Z"
   },
   {
    "duration": 7,
    "start_time": "2022-03-15T17:12:58.971Z"
   },
   {
    "duration": 1244,
    "start_time": "2022-03-15T17:14:45.775Z"
   },
   {
    "duration": 17,
    "start_time": "2022-03-15T17:14:51.563Z"
   },
   {
    "duration": 14,
    "start_time": "2022-03-15T17:15:09.099Z"
   },
   {
    "duration": 14,
    "start_time": "2022-03-15T17:15:26.931Z"
   },
   {
    "duration": 7499,
    "start_time": "2022-03-15T17:16:45.775Z"
   },
   {
    "duration": 221,
    "start_time": "2022-03-15T17:16:58.516Z"
   },
   {
    "duration": 287,
    "start_time": "2022-03-15T17:19:35.284Z"
   },
   {
    "duration": 232,
    "start_time": "2022-03-15T17:19:51.904Z"
   },
   {
    "duration": 309,
    "start_time": "2022-03-15T17:20:51.221Z"
   },
   {
    "duration": 154,
    "start_time": "2022-03-15T17:21:01.765Z"
   },
   {
    "duration": 233,
    "start_time": "2022-03-15T17:21:10.637Z"
   },
   {
    "duration": 435,
    "start_time": "2022-03-15T17:21:27.349Z"
   },
   {
    "duration": 182,
    "start_time": "2022-03-15T17:21:35.961Z"
   },
   {
    "duration": 186,
    "start_time": "2022-03-15T17:21:49.873Z"
   },
   {
    "duration": 191,
    "start_time": "2022-03-15T17:22:11.797Z"
   },
   {
    "duration": 189,
    "start_time": "2022-03-15T17:27:14.475Z"
   },
   {
    "duration": 195,
    "start_time": "2022-03-15T17:30:28.550Z"
   },
   {
    "duration": 193,
    "start_time": "2022-03-15T17:31:28.309Z"
   },
   {
    "duration": 198,
    "start_time": "2022-03-15T17:31:37.008Z"
   },
   {
    "duration": 194,
    "start_time": "2022-03-15T17:31:43.110Z"
   },
   {
    "duration": 218,
    "start_time": "2022-03-15T17:32:23.160Z"
   },
   {
    "duration": 398,
    "start_time": "2022-03-15T17:33:26.785Z"
   },
   {
    "duration": 221,
    "start_time": "2022-03-15T17:34:38.797Z"
   },
   {
    "duration": 210,
    "start_time": "2022-03-15T17:35:43.002Z"
   },
   {
    "duration": 266,
    "start_time": "2022-03-15T17:36:15.485Z"
   },
   {
    "duration": 112,
    "start_time": "2022-03-15T17:36:56.269Z"
   },
   {
    "duration": 273,
    "start_time": "2022-03-15T17:37:11.126Z"
   },
   {
    "duration": 269,
    "start_time": "2022-03-15T17:37:58.646Z"
   },
   {
    "duration": 283,
    "start_time": "2022-03-15T17:38:04.474Z"
   },
   {
    "duration": 265,
    "start_time": "2022-03-15T17:38:09.796Z"
   },
   {
    "duration": 563,
    "start_time": "2022-03-15T17:43:08.361Z"
   },
   {
    "duration": 5,
    "start_time": "2022-03-15T17:59:07.716Z"
   },
   {
    "duration": 5,
    "start_time": "2022-03-15T18:09:45.911Z"
   },
   {
    "duration": 5,
    "start_time": "2022-03-15T18:11:49.940Z"
   },
   {
    "duration": 6,
    "start_time": "2022-03-15T18:12:04.008Z"
   },
   {
    "duration": 5,
    "start_time": "2022-03-15T18:13:54.596Z"
   },
   {
    "duration": 1111,
    "start_time": "2022-03-15T18:35:06.623Z"
   },
   {
    "duration": 88,
    "start_time": "2022-03-15T18:35:07.736Z"
   },
   {
    "duration": 6,
    "start_time": "2022-03-15T18:35:07.827Z"
   },
   {
    "duration": 147,
    "start_time": "2022-03-15T18:35:07.834Z"
   },
   {
    "duration": 19,
    "start_time": "2022-03-15T18:35:07.982Z"
   },
   {
    "duration": 85,
    "start_time": "2022-03-15T18:35:08.002Z"
   },
   {
    "duration": 16,
    "start_time": "2022-03-15T18:35:08.088Z"
   },
   {
    "duration": 135,
    "start_time": "2022-03-15T18:35:08.106Z"
   },
   {
    "duration": 16,
    "start_time": "2022-03-15T18:35:08.243Z"
   },
   {
    "duration": 23,
    "start_time": "2022-03-15T18:35:08.261Z"
   },
   {
    "duration": 7,
    "start_time": "2022-03-15T18:35:08.285Z"
   },
   {
    "duration": 20,
    "start_time": "2022-03-15T18:35:08.293Z"
   },
   {
    "duration": 6,
    "start_time": "2022-03-15T18:35:08.314Z"
   },
   {
    "duration": 7,
    "start_time": "2022-03-15T18:35:08.321Z"
   },
   {
    "duration": 6,
    "start_time": "2022-03-15T18:35:08.330Z"
   },
   {
    "duration": 7,
    "start_time": "2022-03-15T18:35:08.338Z"
   },
   {
    "duration": 9,
    "start_time": "2022-03-15T18:35:08.347Z"
   },
   {
    "duration": 8,
    "start_time": "2022-03-15T18:35:08.358Z"
   },
   {
    "duration": 57,
    "start_time": "2022-03-15T18:35:08.368Z"
   },
   {
    "duration": 152,
    "start_time": "2022-03-15T18:35:08.427Z"
   },
   {
    "duration": 21,
    "start_time": "2022-03-15T18:35:08.581Z"
   },
   {
    "duration": 78,
    "start_time": "2022-03-15T18:35:08.603Z"
   },
   {
    "duration": 48,
    "start_time": "2022-03-15T18:35:08.685Z"
   },
   {
    "duration": 114,
    "start_time": "2022-03-15T18:35:08.735Z"
   },
   {
    "duration": 6,
    "start_time": "2022-03-15T18:35:08.851Z"
   },
   {
    "duration": 102,
    "start_time": "2022-03-15T18:35:08.858Z"
   },
   {
    "duration": 44,
    "start_time": "2022-03-15T18:35:08.962Z"
   },
   {
    "duration": 51,
    "start_time": "2022-03-15T18:35:09.007Z"
   },
   {
    "duration": 74,
    "start_time": "2022-03-15T18:35:09.060Z"
   },
   {
    "duration": 5,
    "start_time": "2022-03-15T18:35:09.136Z"
   },
   {
    "duration": 9,
    "start_time": "2022-03-15T18:35:09.143Z"
   },
   {
    "duration": 13,
    "start_time": "2022-03-15T18:35:09.154Z"
   },
   {
    "duration": 67,
    "start_time": "2022-03-15T18:35:09.169Z"
   },
   {
    "duration": 67,
    "start_time": "2022-03-15T18:35:09.238Z"
   },
   {
    "duration": 30,
    "start_time": "2022-03-15T18:35:09.307Z"
   },
   {
    "duration": 24,
    "start_time": "2022-03-15T18:35:09.339Z"
   },
   {
    "duration": 38,
    "start_time": "2022-03-15T18:35:09.364Z"
   },
   {
    "duration": 29,
    "start_time": "2022-03-15T18:35:09.404Z"
   },
   {
    "duration": 5,
    "start_time": "2022-03-15T18:35:09.434Z"
   },
   {
    "duration": 5,
    "start_time": "2022-03-15T18:35:09.441Z"
   },
   {
    "duration": 6,
    "start_time": "2022-03-15T18:35:09.448Z"
   },
   {
    "duration": 8,
    "start_time": "2022-03-15T18:35:09.455Z"
   },
   {
    "duration": 2386,
    "start_time": "2022-03-15T18:35:09.501Z"
   },
   {
    "duration": 16,
    "start_time": "2022-03-15T18:35:11.889Z"
   },
   {
    "duration": 22,
    "start_time": "2022-03-15T18:35:11.906Z"
   },
   {
    "duration": 571,
    "start_time": "2022-03-15T18:35:11.930Z"
   },
   {
    "duration": 563,
    "start_time": "2022-03-15T18:35:12.503Z"
   },
   {
    "duration": 337,
    "start_time": "2022-03-15T18:35:13.068Z"
   },
   {
    "duration": 411,
    "start_time": "2022-03-15T18:35:13.406Z"
   },
   {
    "duration": 294,
    "start_time": "2022-03-15T18:35:13.818Z"
   },
   {
    "duration": 294,
    "start_time": "2022-03-15T18:35:14.114Z"
   },
   {
    "duration": 1069,
    "start_time": "2022-03-15T18:35:14.410Z"
   },
   {
    "duration": 540,
    "start_time": "2022-03-15T18:35:15.480Z"
   },
   {
    "duration": 562,
    "start_time": "2022-03-15T18:35:16.022Z"
   },
   {
    "duration": 558,
    "start_time": "2022-03-15T18:35:16.586Z"
   },
   {
    "duration": 262,
    "start_time": "2022-03-15T18:35:17.146Z"
   },
   {
    "duration": 3,
    "start_time": "2022-03-15T18:35:17.410Z"
   },
   {
    "duration": 5,
    "start_time": "2022-03-15T18:35:17.415Z"
   },
   {
    "duration": 8,
    "start_time": "2022-03-15T18:35:17.422Z"
   },
   {
    "duration": 4,
    "start_time": "2022-03-15T18:35:17.431Z"
   },
   {
    "duration": 5,
    "start_time": "2022-03-15T18:35:17.437Z"
   },
   {
    "duration": 12,
    "start_time": "2022-03-15T18:35:17.444Z"
   },
   {
    "duration": 1101,
    "start_time": "2022-03-15T18:40:13.476Z"
   },
   {
    "duration": 59,
    "start_time": "2022-03-15T18:40:14.579Z"
   },
   {
    "duration": 6,
    "start_time": "2022-03-15T18:40:14.640Z"
   },
   {
    "duration": 149,
    "start_time": "2022-03-15T18:40:14.647Z"
   },
   {
    "duration": 19,
    "start_time": "2022-03-15T18:40:14.801Z"
   },
   {
    "duration": 87,
    "start_time": "2022-03-15T18:40:14.822Z"
   },
   {
    "duration": 12,
    "start_time": "2022-03-15T18:40:14.911Z"
   },
   {
    "duration": 133,
    "start_time": "2022-03-15T18:40:14.926Z"
   },
   {
    "duration": 17,
    "start_time": "2022-03-15T18:40:15.061Z"
   },
   {
    "duration": 29,
    "start_time": "2022-03-15T18:40:15.079Z"
   },
   {
    "duration": 7,
    "start_time": "2022-03-15T18:40:15.109Z"
   },
   {
    "duration": 14,
    "start_time": "2022-03-15T18:40:15.117Z"
   },
   {
    "duration": 5,
    "start_time": "2022-03-15T18:40:15.133Z"
   },
   {
    "duration": 6,
    "start_time": "2022-03-15T18:40:15.139Z"
   },
   {
    "duration": 7,
    "start_time": "2022-03-15T18:40:15.147Z"
   },
   {
    "duration": 8,
    "start_time": "2022-03-15T18:40:15.155Z"
   },
   {
    "duration": 10,
    "start_time": "2022-03-15T18:40:15.164Z"
   },
   {
    "duration": 28,
    "start_time": "2022-03-15T18:40:15.175Z"
   },
   {
    "duration": 25,
    "start_time": "2022-03-15T18:40:15.204Z"
   },
   {
    "duration": 157,
    "start_time": "2022-03-15T18:40:15.231Z"
   },
   {
    "duration": 19,
    "start_time": "2022-03-15T18:40:15.390Z"
   },
   {
    "duration": 93,
    "start_time": "2022-03-15T18:40:15.410Z"
   },
   {
    "duration": 25,
    "start_time": "2022-03-15T18:40:15.506Z"
   },
   {
    "duration": 115,
    "start_time": "2022-03-15T18:40:15.533Z"
   },
   {
    "duration": 7,
    "start_time": "2022-03-15T18:40:15.649Z"
   },
   {
    "duration": 100,
    "start_time": "2022-03-15T18:40:15.657Z"
   },
   {
    "duration": 43,
    "start_time": "2022-03-15T18:40:15.759Z"
   },
   {
    "duration": 49,
    "start_time": "2022-03-15T18:40:15.803Z"
   },
   {
    "duration": 67,
    "start_time": "2022-03-15T18:40:15.854Z"
   },
   {
    "duration": 4,
    "start_time": "2022-03-15T18:40:15.923Z"
   },
   {
    "duration": 15,
    "start_time": "2022-03-15T18:40:15.929Z"
   },
   {
    "duration": 13,
    "start_time": "2022-03-15T18:40:15.945Z"
   },
   {
    "duration": 64,
    "start_time": "2022-03-15T18:40:15.960Z"
   },
   {
    "duration": 67,
    "start_time": "2022-03-15T18:40:16.026Z"
   },
   {
    "duration": 35,
    "start_time": "2022-03-15T18:40:16.094Z"
   },
   {
    "duration": 28,
    "start_time": "2022-03-15T18:40:16.131Z"
   },
   {
    "duration": 14,
    "start_time": "2022-03-15T18:40:16.161Z"
   },
   {
    "duration": 50,
    "start_time": "2022-03-15T18:40:16.177Z"
   },
   {
    "duration": 4,
    "start_time": "2022-03-15T18:40:16.228Z"
   },
   {
    "duration": 6,
    "start_time": "2022-03-15T18:40:16.233Z"
   },
   {
    "duration": 5,
    "start_time": "2022-03-15T18:40:16.240Z"
   },
   {
    "duration": 7,
    "start_time": "2022-03-15T18:40:16.246Z"
   },
   {
    "duration": 2425,
    "start_time": "2022-03-15T18:40:16.254Z"
   },
   {
    "duration": 10,
    "start_time": "2022-03-15T18:40:18.680Z"
   },
   {
    "duration": 23,
    "start_time": "2022-03-15T18:40:18.691Z"
   },
   {
    "duration": 885,
    "start_time": "2022-03-15T18:40:18.716Z"
   },
   {
    "duration": 866,
    "start_time": "2022-03-15T18:40:19.603Z"
   },
   {
    "duration": 482,
    "start_time": "2022-03-15T18:40:20.471Z"
   },
   {
    "duration": 594,
    "start_time": "2022-03-15T18:40:20.955Z"
   },
   {
    "duration": 296,
    "start_time": "2022-03-15T18:40:21.551Z"
   },
   {
    "duration": 291,
    "start_time": "2022-03-15T18:40:21.849Z"
   },
   {
    "duration": 1081,
    "start_time": "2022-03-15T18:40:22.142Z"
   },
   {
    "duration": 599,
    "start_time": "2022-03-15T18:40:23.225Z"
   },
   {
    "duration": 589,
    "start_time": "2022-03-15T18:40:23.826Z"
   },
   {
    "duration": 717,
    "start_time": "2022-03-15T18:40:24.417Z"
   },
   {
    "duration": 279,
    "start_time": "2022-03-15T18:40:25.136Z"
   },
   {
    "duration": 3,
    "start_time": "2022-03-15T18:40:25.417Z"
   },
   {
    "duration": 6,
    "start_time": "2022-03-15T18:40:25.422Z"
   },
   {
    "duration": 10,
    "start_time": "2022-03-15T18:40:25.430Z"
   },
   {
    "duration": 4,
    "start_time": "2022-03-15T18:40:25.441Z"
   },
   {
    "duration": 5,
    "start_time": "2022-03-15T18:40:25.447Z"
   },
   {
    "duration": 13,
    "start_time": "2022-03-15T18:40:25.454Z"
   }
  ],
  "kernelspec": {
   "display_name": "Python 3 (ipykernel)",
   "language": "python",
   "name": "python3"
  },
  "language_info": {
   "codemirror_mode": {
    "name": "ipython",
    "version": 3
   },
   "file_extension": ".py",
   "mimetype": "text/x-python",
   "name": "python",
   "nbconvert_exporter": "python",
   "pygments_lexer": "ipython3",
   "version": "3.9.7"
  },
  "toc": {
   "base_numbering": 1,
   "nav_menu": {},
   "number_sections": true,
   "sideBar": true,
   "skip_h1_title": true,
   "title_cell": "Содержание",
   "title_sidebar": "Содержание",
   "toc_cell": true,
   "toc_position": {
    "height": "calc(100% - 180px)",
    "left": "10px",
    "top": "150px",
    "width": "263.452px"
   },
   "toc_section_display": true,
   "toc_window_display": true
  }
 },
 "nbformat": 4,
 "nbformat_minor": 2
}
