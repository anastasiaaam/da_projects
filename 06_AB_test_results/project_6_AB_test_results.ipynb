{
 "cells": [
  {
   "cell_type": "markdown",
   "metadata": {
    "toc": true
   },
   "source": [
    "<h1>Содержание<span class=\"tocSkip\"></span></h1>\n",
    "<div class=\"toc\"><ul class=\"toc-item\"><li><span><a href=\"#Часть-1.-Приоритизация-гипотез\" data-toc-modified-id=\"Часть-1.-Приоритизация-гипотез-1\"><span class=\"toc-item-num\">1&nbsp;&nbsp;</span>Часть 1. Приоритизация гипотез</a></span><ul class=\"toc-item\"><li><span><a href=\"#Обзор-данных\" data-toc-modified-id=\"Обзор-данных-1.1\"><span class=\"toc-item-num\">1.1&nbsp;&nbsp;</span>Обзор данных</a></span></li><li><span><a href=\"#Приоритизация-гипотез\" data-toc-modified-id=\"Приоритизация-гипотез-1.2\"><span class=\"toc-item-num\">1.2&nbsp;&nbsp;</span>Приоритизация гипотез</a></span></li></ul></li><li><span><a href=\"#Часть-2.-Анализ-результатов-A/B-теста\" data-toc-modified-id=\"Часть-2.-Анализ-результатов-A/B-теста-2\"><span class=\"toc-item-num\">2&nbsp;&nbsp;</span>Часть 2. Анализ результатов A/B-теста</a></span><ul class=\"toc-item\"><li><span><a href=\"#Обзор-данных\" data-toc-modified-id=\"Обзор-данных-2.1\"><span class=\"toc-item-num\">2.1&nbsp;&nbsp;</span>Обзор данных</a></span></li><li><span><a href=\"#Анализ-результатов\" data-toc-modified-id=\"Анализ-результатов-2.2\"><span class=\"toc-item-num\">2.2&nbsp;&nbsp;</span>Анализ результатов</a></span><ul class=\"toc-item\"><li><span><a href=\"#График-кумулятивной-выручки-по-группам\" data-toc-modified-id=\"График-кумулятивной-выручки-по-группам-2.2.1\"><span class=\"toc-item-num\">2.2.1&nbsp;&nbsp;</span>График кумулятивной выручки по группам</a></span></li><li><span><a href=\"#График-кумулятивного-среднего-чека-по-группам\" data-toc-modified-id=\"График-кумулятивного-среднего-чека-по-группам-2.2.2\"><span class=\"toc-item-num\">2.2.2&nbsp;&nbsp;</span>График кумулятивного среднего чека по группам</a></span></li><li><span><a href=\"#График-относительного-изменения-кумулятивного-среднего-чека-группы-B-к-группе-A\" data-toc-modified-id=\"График-относительного-изменения-кумулятивного-среднего-чека-группы-B-к-группе-A-2.2.3\"><span class=\"toc-item-num\">2.2.3&nbsp;&nbsp;</span>График относительного изменения кумулятивного среднего чека группы B к группе A</a></span></li><li><span><a href=\"#График-кумулятивной-конверсии-по-группам\" data-toc-modified-id=\"График-кумулятивной-конверсии-по-группам-2.2.4\"><span class=\"toc-item-num\">2.2.4&nbsp;&nbsp;</span>График кумулятивной конверсии по группам</a></span></li><li><span><a href=\"#График-относительного-изменения-кумулятивной-конверсии-группы-B-к-группе-A\" data-toc-modified-id=\"График-относительного-изменения-кумулятивной-конверсии-группы-B-к-группе-A-2.2.5\"><span class=\"toc-item-num\">2.2.5&nbsp;&nbsp;</span>График относительного изменения кумулятивной конверсии группы B к группе A</a></span></li><li><span><a href=\"#Точечный-график-количества-заказов-по-пользователям-и-расчет-перцентилей\" data-toc-modified-id=\"Точечный-график-количества-заказов-по-пользователям-и-расчет-перцентилей-2.2.6\"><span class=\"toc-item-num\">2.2.6&nbsp;&nbsp;</span>Точечный график количества заказов по пользователям и расчет перцентилей</a></span></li><li><span><a href=\"#Точечный-график-стоимостей-заказов-и-расчет-перцентилей\" data-toc-modified-id=\"Точечный-график-стоимостей-заказов-и-расчет-перцентилей-2.2.7\"><span class=\"toc-item-num\">2.2.7&nbsp;&nbsp;</span>Точечный график стоимостей заказов и расчет перцентилей</a></span></li><li><span><a href=\"#Расчет-статистической-значимости-различий-в-конверсии-между-группами-по-«сырым»-данным\" data-toc-modified-id=\"Расчет-статистической-значимости-различий-в-конверсии-между-группами-по-«сырым»-данным-2.2.8\"><span class=\"toc-item-num\">2.2.8&nbsp;&nbsp;</span>Расчет статистической значимости различий в конверсии между группами по «сырым» данным</a></span></li><li><span><a href=\"#Расчет-статистической-значимости-различий-в-среднем-чеке-заказа-между-группами-по-«сырым»-данным\" data-toc-modified-id=\"Расчет-статистической-значимости-различий-в-среднем-чеке-заказа-между-группами-по-«сырым»-данным-2.2.9\"><span class=\"toc-item-num\">2.2.9&nbsp;&nbsp;</span>Расчет статистической значимости различий в среднем чеке заказа между группами по «сырым» данным</a></span></li><li><span><a href=\"#Расчет-статистической-значимости-различий-в-конверсии-между-группами-по-«очищенным»-данным\" data-toc-modified-id=\"Расчет-статистической-значимости-различий-в-конверсии-между-группами-по-«очищенным»-данным-2.2.10\"><span class=\"toc-item-num\">2.2.10&nbsp;&nbsp;</span>Расчет статистической значимости различий в конверсии между группами по «очищенным» данным</a></span></li><li><span><a href=\"#Расчет-статистической-значимости-различий-в-среднем-чеке-заказа-между-группами-по-«очищенным»-данным\" data-toc-modified-id=\"Расчет-статистической-значимости-различий-в-среднем-чеке-заказа-между-группами-по-«очищенным»-данным-2.2.11\"><span class=\"toc-item-num\">2.2.11&nbsp;&nbsp;</span>Расчет статистической значимости различий в среднем чеке заказа между группами по «очищенным» данным</a></span></li></ul></li></ul></li><li><span><a href=\"#Общие-выводы\" data-toc-modified-id=\"Общие-выводы-3\"><span class=\"toc-item-num\">3&nbsp;&nbsp;</span>Общие выводы</a></span></li></ul></div>"
   ]
  },
  {
   "cell_type": "markdown",
   "metadata": {},
   "source": [
    "# Приоритизация гипотез и анализ результатов A/B-теста\n",
    "\n",
    "Вы — аналитик крупного интернет-магазина. Вместе с отделом маркетинга вы подготовили список гипотез для увеличения выручки.\n",
    "Приоритизируйте гипотезы, запустите A/B-тест и проанализируйте результаты."
   ]
  },
  {
   "cell_type": "markdown",
   "metadata": {},
   "source": [
    "<div style=\"border:solid black 1px; padding: 20px\">\n",
    "\n",
    "**Описание данных**\n",
    "\n",
    "**Данные для первой части** \n",
    "    \n",
    "Датасет `hypothesis`:\n",
    "    \n",
    "- `Hypothesis` — краткое описание гипотезы;\n",
    "- `Reach` — охват пользователей по 10-балльной шкале;\n",
    "- `Impact` — влияние на пользователей по 10-балльной шкале;\n",
    "- `Confidence` — уверенность в гипотезе по 10-балльной шкале;\n",
    "- `Efforts` — затраты ресурсов на проверку гипотезы по 10-балльной шкале. Чем больше значение Efforts, тем дороже проверка гипотезы.\n",
    "\n",
    "**Данные для второй части**\n",
    "\n",
    "Датасет `orders`:\n",
    "- `transactionId` — идентификатор заказа;\n",
    "- `visitorId` — идентификатор пользователя, совершившего заказ;\n",
    "- `date` — дата, когда был совершён заказ;\n",
    "- `revenue` — выручка заказа;\n",
    "- `group` — группа A/B-теста, в которую попал заказ.\n",
    "    \n",
    "Датасет `visitors`:\n",
    "- `date` — дата;\n",
    "- `group` — группа A/B-теста;\n",
    "- `visitors` — количество пользователей в указанную дату в указанной группе A/B-теста.\n",
    "    \n",
    "</div>"
   ]
  },
  {
   "cell_type": "code",
   "execution_count": 1,
   "metadata": {},
   "outputs": [],
   "source": [
    "# импортируем необходимые библиотеки\n",
    "import pandas as pd              \n",
    "import matplotlib.pyplot as plt  \n",
    "import numpy as np                \n",
    "import datetime as dt\n",
    "from scipy import stats as stats   "
   ]
  },
  {
   "cell_type": "code",
   "execution_count": 2,
   "metadata": {},
   "outputs": [],
   "source": [
    "# сброс ограничений на количество символов в записи\n",
    "pd.set_option('display.max_colwidth', None)"
   ]
  },
  {
   "cell_type": "markdown",
   "metadata": {},
   "source": [
    "## Часть 1. Приоритизация гипотез"
   ]
  },
  {
   "cell_type": "markdown",
   "metadata": {},
   "source": [
    "### Обзор данных"
   ]
  },
  {
   "cell_type": "code",
   "execution_count": 3,
   "metadata": {},
   "outputs": [
    {
     "data": {
      "text/html": [
       "<div>\n",
       "<style scoped>\n",
       "    .dataframe tbody tr th:only-of-type {\n",
       "        vertical-align: middle;\n",
       "    }\n",
       "\n",
       "    .dataframe tbody tr th {\n",
       "        vertical-align: top;\n",
       "    }\n",
       "\n",
       "    .dataframe thead th {\n",
       "        text-align: right;\n",
       "    }\n",
       "</style>\n",
       "<table border=\"1\" class=\"dataframe\">\n",
       "  <thead>\n",
       "    <tr style=\"text-align: right;\">\n",
       "      <th></th>\n",
       "      <th>Hypothesis</th>\n",
       "      <th>Reach</th>\n",
       "      <th>Impact</th>\n",
       "      <th>Confidence</th>\n",
       "      <th>Efforts</th>\n",
       "    </tr>\n",
       "  </thead>\n",
       "  <tbody>\n",
       "    <tr>\n",
       "      <th>0</th>\n",
       "      <td>Добавить два новых канала привлечения трафика, что позволит привлекать на 30% больше пользователей</td>\n",
       "      <td>3</td>\n",
       "      <td>10</td>\n",
       "      <td>8</td>\n",
       "      <td>6</td>\n",
       "    </tr>\n",
       "    <tr>\n",
       "      <th>1</th>\n",
       "      <td>Запустить собственную службу доставки, что сократит срок доставки заказов</td>\n",
       "      <td>2</td>\n",
       "      <td>5</td>\n",
       "      <td>4</td>\n",
       "      <td>10</td>\n",
       "    </tr>\n",
       "    <tr>\n",
       "      <th>2</th>\n",
       "      <td>Добавить блоки рекомендаций товаров на сайт интернет магазина, чтобы повысить конверсию и средний чек заказа</td>\n",
       "      <td>8</td>\n",
       "      <td>3</td>\n",
       "      <td>7</td>\n",
       "      <td>3</td>\n",
       "    </tr>\n",
       "    <tr>\n",
       "      <th>3</th>\n",
       "      <td>Изменить структура категорий, что увеличит конверсию, т.к. пользователи быстрее найдут нужный товар</td>\n",
       "      <td>8</td>\n",
       "      <td>3</td>\n",
       "      <td>3</td>\n",
       "      <td>8</td>\n",
       "    </tr>\n",
       "    <tr>\n",
       "      <th>4</th>\n",
       "      <td>Изменить цвет фона главной страницы, чтобы увеличить вовлеченность пользователей</td>\n",
       "      <td>3</td>\n",
       "      <td>1</td>\n",
       "      <td>1</td>\n",
       "      <td>1</td>\n",
       "    </tr>\n",
       "    <tr>\n",
       "      <th>5</th>\n",
       "      <td>Добавить страницу отзывов клиентов о магазине, что позволит увеличить количество заказов</td>\n",
       "      <td>3</td>\n",
       "      <td>2</td>\n",
       "      <td>2</td>\n",
       "      <td>3</td>\n",
       "    </tr>\n",
       "    <tr>\n",
       "      <th>6</th>\n",
       "      <td>Показать на главной странице баннеры с актуальными акциями и распродажами, чтобы увеличить конверсию</td>\n",
       "      <td>5</td>\n",
       "      <td>3</td>\n",
       "      <td>8</td>\n",
       "      <td>3</td>\n",
       "    </tr>\n",
       "    <tr>\n",
       "      <th>7</th>\n",
       "      <td>Добавить форму подписки на все основные страницы, чтобы собрать базу клиентов для email-рассылок</td>\n",
       "      <td>10</td>\n",
       "      <td>7</td>\n",
       "      <td>8</td>\n",
       "      <td>5</td>\n",
       "    </tr>\n",
       "    <tr>\n",
       "      <th>8</th>\n",
       "      <td>Запустить акцию, дающую скидку на товар в день рождения</td>\n",
       "      <td>1</td>\n",
       "      <td>9</td>\n",
       "      <td>9</td>\n",
       "      <td>5</td>\n",
       "    </tr>\n",
       "  </tbody>\n",
       "</table>\n",
       "</div>"
      ],
      "text/plain": [
       "                                                                                                     Hypothesis  \\\n",
       "0            Добавить два новых канала привлечения трафика, что позволит привлекать на 30% больше пользователей   \n",
       "1                                     Запустить собственную службу доставки, что сократит срок доставки заказов   \n",
       "2  Добавить блоки рекомендаций товаров на сайт интернет магазина, чтобы повысить конверсию и средний чек заказа   \n",
       "3           Изменить структура категорий, что увеличит конверсию, т.к. пользователи быстрее найдут нужный товар   \n",
       "4                              Изменить цвет фона главной страницы, чтобы увеличить вовлеченность пользователей   \n",
       "5                      Добавить страницу отзывов клиентов о магазине, что позволит увеличить количество заказов   \n",
       "6          Показать на главной странице баннеры с актуальными акциями и распродажами, чтобы увеличить конверсию   \n",
       "7              Добавить форму подписки на все основные страницы, чтобы собрать базу клиентов для email-рассылок   \n",
       "8                                                       Запустить акцию, дающую скидку на товар в день рождения   \n",
       "\n",
       "   Reach  Impact  Confidence  Efforts  \n",
       "0      3      10           8        6  \n",
       "1      2       5           4       10  \n",
       "2      8       3           7        3  \n",
       "3      8       3           3        8  \n",
       "4      3       1           1        1  \n",
       "5      3       2           2        3  \n",
       "6      5       3           8        3  \n",
       "7     10       7           8        5  \n",
       "8      1       9           9        5  "
      ]
     },
     "execution_count": 3,
     "metadata": {},
     "output_type": "execute_result"
    }
   ],
   "source": [
    "# чтение данных из файла и сохранение в hypothesis\n",
    "hypothesis = pd.read_csv('/datasets/hypothesis.csv')\n",
    "\n",
    "# выводим первые 10 строк\n",
    "hypothesis.head(10)"
   ]
  },
  {
   "cell_type": "code",
   "execution_count": 4,
   "metadata": {},
   "outputs": [
    {
     "name": "stdout",
     "output_type": "stream",
     "text": [
      "<class 'pandas.core.frame.DataFrame'>\n",
      "RangeIndex: 9 entries, 0 to 8\n",
      "Data columns (total 5 columns):\n",
      " #   Column      Non-Null Count  Dtype \n",
      "---  ------      --------------  ----- \n",
      " 0   Hypothesis  9 non-null      object\n",
      " 1   Reach       9 non-null      int64 \n",
      " 2   Impact      9 non-null      int64 \n",
      " 3   Confidence  9 non-null      int64 \n",
      " 4   Efforts     9 non-null      int64 \n",
      "dtypes: int64(4), object(1)\n",
      "memory usage: 488.0+ bytes\n"
     ]
    }
   ],
   "source": [
    "# получим общую информацию о данных\n",
    "hypothesis.info()"
   ]
  },
  {
   "cell_type": "code",
   "execution_count": 5,
   "metadata": {},
   "outputs": [
    {
     "data": {
      "text/plain": [
       "Index(['hypothesis', 'reach', 'impact', 'confidence', 'efforts'], dtype='object')"
      ]
     },
     "execution_count": 5,
     "metadata": {},
     "output_type": "execute_result"
    }
   ],
   "source": [
    "# приведем наименования столбцов к нижнему регистру\n",
    "hypothesis.columns = hypothesis.columns.str.lower()\n",
    "hypothesis.columns"
   ]
  },
  {
   "cell_type": "markdown",
   "metadata": {},
   "source": [
    "<div style=\"border:solid green 3px; padding: 20px\">\n",
    "    \n",
    "**Промежуточный вывод**\n",
    "    \n",
    "Датафрейм `hypothesis` содержит следующую информацию о 9 гипотезах: \n",
    "    \n",
    "- `hypothesis` - формулировка гипотезы;\n",
    "- `reach` — скольких пользователей затронет планируемое изменение;\n",
    "- `impact` — сила влияния изменения на пользователей, их опыт и удовлетворение от продукта;\n",
    "- `confidence` — степень увереннности, что это изменение повлияет на пользователей именно так;\n",
    "- `efforts` — условная стоимость тестирования гипотезы.\n",
    "    \n",
    "</div>"
   ]
  },
  {
   "cell_type": "markdown",
   "metadata": {},
   "source": [
    "### Приоритизация гипотез"
   ]
  },
  {
   "cell_type": "markdown",
   "metadata": {},
   "source": [
    "<div class=\"alert alert-block alert-info\">\n",
    "<font color='Black'>\n",
    "    \n",
    "Применим фреймворк ICE для приоритизации гипотез. \n",
    "\n",
    "Оценка приоритета ICE рассчитывается по формуле:\n",
    "    \n",
    "$ ICE \\ \\ SCORE = \\frac{IMPACT * CONFIDENCE}{EFFORTS} $, \n",
    "    \n",
    "где `IMPACT` — насколько сильно изменение повлияет на пользователей, их опыт и удовлетворение от продукта;\n",
    "`CONFIDENCE` — насколько вы уверены, что это изменение повлияет на пользователей именно так;\n",
    "`EFFORTS` — сколько стоит протестировать эту гипотезу."
   ]
  },
  {
   "cell_type": "code",
   "execution_count": 6,
   "metadata": {},
   "outputs": [
    {
     "data": {
      "text/html": [
       "<div>\n",
       "<style scoped>\n",
       "    .dataframe tbody tr th:only-of-type {\n",
       "        vertical-align: middle;\n",
       "    }\n",
       "\n",
       "    .dataframe tbody tr th {\n",
       "        vertical-align: top;\n",
       "    }\n",
       "\n",
       "    .dataframe thead th {\n",
       "        text-align: right;\n",
       "    }\n",
       "</style>\n",
       "<table border=\"1\" class=\"dataframe\">\n",
       "  <thead>\n",
       "    <tr style=\"text-align: right;\">\n",
       "      <th></th>\n",
       "      <th>hypothesis</th>\n",
       "      <th>ICE</th>\n",
       "    </tr>\n",
       "  </thead>\n",
       "  <tbody>\n",
       "    <tr>\n",
       "      <th>8</th>\n",
       "      <td>Запустить акцию, дающую скидку на товар в день рождения</td>\n",
       "      <td>16.200000</td>\n",
       "    </tr>\n",
       "    <tr>\n",
       "      <th>0</th>\n",
       "      <td>Добавить два новых канала привлечения трафика, что позволит привлекать на 30% больше пользователей</td>\n",
       "      <td>13.333333</td>\n",
       "    </tr>\n",
       "    <tr>\n",
       "      <th>7</th>\n",
       "      <td>Добавить форму подписки на все основные страницы, чтобы собрать базу клиентов для email-рассылок</td>\n",
       "      <td>11.200000</td>\n",
       "    </tr>\n",
       "    <tr>\n",
       "      <th>6</th>\n",
       "      <td>Показать на главной странице баннеры с актуальными акциями и распродажами, чтобы увеличить конверсию</td>\n",
       "      <td>8.000000</td>\n",
       "    </tr>\n",
       "    <tr>\n",
       "      <th>2</th>\n",
       "      <td>Добавить блоки рекомендаций товаров на сайт интернет магазина, чтобы повысить конверсию и средний чек заказа</td>\n",
       "      <td>7.000000</td>\n",
       "    </tr>\n",
       "    <tr>\n",
       "      <th>1</th>\n",
       "      <td>Запустить собственную службу доставки, что сократит срок доставки заказов</td>\n",
       "      <td>2.000000</td>\n",
       "    </tr>\n",
       "    <tr>\n",
       "      <th>5</th>\n",
       "      <td>Добавить страницу отзывов клиентов о магазине, что позволит увеличить количество заказов</td>\n",
       "      <td>1.333333</td>\n",
       "    </tr>\n",
       "    <tr>\n",
       "      <th>3</th>\n",
       "      <td>Изменить структура категорий, что увеличит конверсию, т.к. пользователи быстрее найдут нужный товар</td>\n",
       "      <td>1.125000</td>\n",
       "    </tr>\n",
       "    <tr>\n",
       "      <th>4</th>\n",
       "      <td>Изменить цвет фона главной страницы, чтобы увеличить вовлеченность пользователей</td>\n",
       "      <td>1.000000</td>\n",
       "    </tr>\n",
       "  </tbody>\n",
       "</table>\n",
       "</div>"
      ],
      "text/plain": [
       "                                                                                                     hypothesis  \\\n",
       "8                                                       Запустить акцию, дающую скидку на товар в день рождения   \n",
       "0            Добавить два новых канала привлечения трафика, что позволит привлекать на 30% больше пользователей   \n",
       "7              Добавить форму подписки на все основные страницы, чтобы собрать базу клиентов для email-рассылок   \n",
       "6          Показать на главной странице баннеры с актуальными акциями и распродажами, чтобы увеличить конверсию   \n",
       "2  Добавить блоки рекомендаций товаров на сайт интернет магазина, чтобы повысить конверсию и средний чек заказа   \n",
       "1                                     Запустить собственную службу доставки, что сократит срок доставки заказов   \n",
       "5                      Добавить страницу отзывов клиентов о магазине, что позволит увеличить количество заказов   \n",
       "3           Изменить структура категорий, что увеличит конверсию, т.к. пользователи быстрее найдут нужный товар   \n",
       "4                              Изменить цвет фона главной страницы, чтобы увеличить вовлеченность пользователей   \n",
       "\n",
       "         ICE  \n",
       "8  16.200000  \n",
       "0  13.333333  \n",
       "7  11.200000  \n",
       "6   8.000000  \n",
       "2   7.000000  \n",
       "1   2.000000  \n",
       "5   1.333333  \n",
       "3   1.125000  \n",
       "4   1.000000  "
      ]
     },
     "execution_count": 6,
     "metadata": {},
     "output_type": "execute_result"
    }
   ],
   "source": [
    "hypothesis['ICE'] = hypothesis['impact'] * hypothesis['confidence'] / hypothesis['efforts']\n",
    "hypothesis[['hypothesis','ICE']].sort_values(by='ICE', ascending=False)"
   ]
  },
  {
   "cell_type": "markdown",
   "metadata": {},
   "source": [
    "<div class=\"alert alert-block alert-info\">\n",
    "<font color='Black'>\n",
    "    \n",
    "Применим фреймворк RICE для приоритизации гипотез. \n",
    "    \n",
    "Оценка приоритета RICE рассчитывается по формуле:\n",
    "    \n",
    "$ RICE \\ \\ SCORE = \\frac{REACH * IMPACT * CONFIDENCE}{EFFORTS} $,\n",
    "\n",
    "где `REACH` — скольких пользователей затронет изменение, которое вы хотите внести; `IMPACT` — насколько сильно изменение повлияет на пользователей, их опыт и удовлетворение от продукта;\n",
    "`CONFIDENCE` — насколько вы уверены, что это изменение повлияет на пользователей именно так;\n",
    "`EFFORTS` — сколько стоит протестировать эту гипотезу.    "
   ]
  },
  {
   "cell_type": "code",
   "execution_count": 7,
   "metadata": {
    "scrolled": true
   },
   "outputs": [
    {
     "data": {
      "text/html": [
       "<div>\n",
       "<style scoped>\n",
       "    .dataframe tbody tr th:only-of-type {\n",
       "        vertical-align: middle;\n",
       "    }\n",
       "\n",
       "    .dataframe tbody tr th {\n",
       "        vertical-align: top;\n",
       "    }\n",
       "\n",
       "    .dataframe thead th {\n",
       "        text-align: right;\n",
       "    }\n",
       "</style>\n",
       "<table border=\"1\" class=\"dataframe\">\n",
       "  <thead>\n",
       "    <tr style=\"text-align: right;\">\n",
       "      <th></th>\n",
       "      <th>hypothesis</th>\n",
       "      <th>RICE</th>\n",
       "    </tr>\n",
       "  </thead>\n",
       "  <tbody>\n",
       "    <tr>\n",
       "      <th>7</th>\n",
       "      <td>Добавить форму подписки на все основные страницы, чтобы собрать базу клиентов для email-рассылок</td>\n",
       "      <td>112.0</td>\n",
       "    </tr>\n",
       "    <tr>\n",
       "      <th>2</th>\n",
       "      <td>Добавить блоки рекомендаций товаров на сайт интернет магазина, чтобы повысить конверсию и средний чек заказа</td>\n",
       "      <td>56.0</td>\n",
       "    </tr>\n",
       "    <tr>\n",
       "      <th>0</th>\n",
       "      <td>Добавить два новых канала привлечения трафика, что позволит привлекать на 30% больше пользователей</td>\n",
       "      <td>40.0</td>\n",
       "    </tr>\n",
       "    <tr>\n",
       "      <th>6</th>\n",
       "      <td>Показать на главной странице баннеры с актуальными акциями и распродажами, чтобы увеличить конверсию</td>\n",
       "      <td>40.0</td>\n",
       "    </tr>\n",
       "    <tr>\n",
       "      <th>8</th>\n",
       "      <td>Запустить акцию, дающую скидку на товар в день рождения</td>\n",
       "      <td>16.2</td>\n",
       "    </tr>\n",
       "    <tr>\n",
       "      <th>3</th>\n",
       "      <td>Изменить структура категорий, что увеличит конверсию, т.к. пользователи быстрее найдут нужный товар</td>\n",
       "      <td>9.0</td>\n",
       "    </tr>\n",
       "    <tr>\n",
       "      <th>1</th>\n",
       "      <td>Запустить собственную службу доставки, что сократит срок доставки заказов</td>\n",
       "      <td>4.0</td>\n",
       "    </tr>\n",
       "    <tr>\n",
       "      <th>5</th>\n",
       "      <td>Добавить страницу отзывов клиентов о магазине, что позволит увеличить количество заказов</td>\n",
       "      <td>4.0</td>\n",
       "    </tr>\n",
       "    <tr>\n",
       "      <th>4</th>\n",
       "      <td>Изменить цвет фона главной страницы, чтобы увеличить вовлеченность пользователей</td>\n",
       "      <td>3.0</td>\n",
       "    </tr>\n",
       "  </tbody>\n",
       "</table>\n",
       "</div>"
      ],
      "text/plain": [
       "                                                                                                     hypothesis  \\\n",
       "7              Добавить форму подписки на все основные страницы, чтобы собрать базу клиентов для email-рассылок   \n",
       "2  Добавить блоки рекомендаций товаров на сайт интернет магазина, чтобы повысить конверсию и средний чек заказа   \n",
       "0            Добавить два новых канала привлечения трафика, что позволит привлекать на 30% больше пользователей   \n",
       "6          Показать на главной странице баннеры с актуальными акциями и распродажами, чтобы увеличить конверсию   \n",
       "8                                                       Запустить акцию, дающую скидку на товар в день рождения   \n",
       "3           Изменить структура категорий, что увеличит конверсию, т.к. пользователи быстрее найдут нужный товар   \n",
       "1                                     Запустить собственную службу доставки, что сократит срок доставки заказов   \n",
       "5                      Добавить страницу отзывов клиентов о магазине, что позволит увеличить количество заказов   \n",
       "4                              Изменить цвет фона главной страницы, чтобы увеличить вовлеченность пользователей   \n",
       "\n",
       "    RICE  \n",
       "7  112.0  \n",
       "2   56.0  \n",
       "0   40.0  \n",
       "6   40.0  \n",
       "8   16.2  \n",
       "3    9.0  \n",
       "1    4.0  \n",
       "5    4.0  \n",
       "4    3.0  "
      ]
     },
     "execution_count": 7,
     "metadata": {},
     "output_type": "execute_result"
    }
   ],
   "source": [
    "hypothesis['RICE'] = hypothesis['reach'] * hypothesis['impact'] * hypothesis['confidence'] / hypothesis['efforts']\n",
    "hypothesis[['hypothesis','RICE']].sort_values(by='RICE', ascending=False)"
   ]
  },
  {
   "cell_type": "code",
   "execution_count": 8,
   "metadata": {},
   "outputs": [],
   "source": [
    "def set_style(styler):\n",
    "    ''' функция, задающая стиль форматирования'''\n",
    "    styler.set_caption('Результаты приоритизации гипотез фреймворками ICE и RICE')\n",
    "    styler.background_gradient(axis=None, vmin=1, vmax=18, cmap='RdYlGn')\n",
    "    return styler"
   ]
  },
  {
   "cell_type": "code",
   "execution_count": 9,
   "metadata": {},
   "outputs": [
    {
     "data": {
      "text/html": [
       "<style  type=\"text/css\" >\n",
       "#T_2aca4_row0_col1{\n",
       "            background-color:  #d9ef8b;\n",
       "            color:  #000000;\n",
       "        }#T_2aca4_row0_col2,#T_2aca4_row1_col2,#T_2aca4_row2_col2,#T_2aca4_row3_col2{\n",
       "            background-color:  #006837;\n",
       "            color:  #f1f1f1;\n",
       "        }#T_2aca4_row1_col1{\n",
       "            background-color:  #fec877;\n",
       "            color:  #000000;\n",
       "        }#T_2aca4_row2_col1{\n",
       "            background-color:  #96d268;\n",
       "            color:  #000000;\n",
       "        }#T_2aca4_row3_col1{\n",
       "            background-color:  #fee491;\n",
       "            color:  #000000;\n",
       "        }#T_2aca4_row4_col1,#T_2aca4_row4_col2{\n",
       "            background-color:  #1e9a51;\n",
       "            color:  #000000;\n",
       "        }#T_2aca4_row5_col1{\n",
       "            background-color:  #a70226;\n",
       "            color:  #f1f1f1;\n",
       "        }#T_2aca4_row5_col2{\n",
       "            background-color:  #fff6b0;\n",
       "            color:  #000000;\n",
       "        }#T_2aca4_row6_col1{\n",
       "            background-color:  #c21c27;\n",
       "            color:  #f1f1f1;\n",
       "        }#T_2aca4_row6_col2,#T_2aca4_row7_col2{\n",
       "            background-color:  #ed5f3c;\n",
       "            color:  #000000;\n",
       "        }#T_2aca4_row7_col1{\n",
       "            background-color:  #af0926;\n",
       "            color:  #f1f1f1;\n",
       "        }#T_2aca4_row8_col1{\n",
       "            background-color:  #a50026;\n",
       "            color:  #f1f1f1;\n",
       "        }#T_2aca4_row8_col2{\n",
       "            background-color:  #dc3b2c;\n",
       "            color:  #f1f1f1;\n",
       "        }</style><table id=\"T_2aca4_\" ><caption>Результаты приоритизации гипотез фреймворками ICE и RICE</caption><thead>    <tr>        <th class=\"blank level0\" ></th>        <th class=\"col_heading level0 col0\" >hypothesis</th>        <th class=\"col_heading level0 col1\" >ICE</th>        <th class=\"col_heading level0 col2\" >RICE</th>    </tr></thead><tbody>\n",
       "                <tr>\n",
       "                        <th id=\"T_2aca4_level0_row0\" class=\"row_heading level0 row0\" >7</th>\n",
       "                        <td id=\"T_2aca4_row0_col0\" class=\"data row0 col0\" >Добавить форму подписки на все основные страницы, чтобы собрать базу клиентов для email-рассылок</td>\n",
       "                        <td id=\"T_2aca4_row0_col1\" class=\"data row0 col1\" >11.200000</td>\n",
       "                        <td id=\"T_2aca4_row0_col2\" class=\"data row0 col2\" >112.000000</td>\n",
       "            </tr>\n",
       "            <tr>\n",
       "                        <th id=\"T_2aca4_level0_row1\" class=\"row_heading level0 row1\" >2</th>\n",
       "                        <td id=\"T_2aca4_row1_col0\" class=\"data row1 col0\" >Добавить блоки рекомендаций товаров на сайт интернет магазина, чтобы повысить конверсию и средний чек заказа</td>\n",
       "                        <td id=\"T_2aca4_row1_col1\" class=\"data row1 col1\" >7.000000</td>\n",
       "                        <td id=\"T_2aca4_row1_col2\" class=\"data row1 col2\" >56.000000</td>\n",
       "            </tr>\n",
       "            <tr>\n",
       "                        <th id=\"T_2aca4_level0_row2\" class=\"row_heading level0 row2\" >0</th>\n",
       "                        <td id=\"T_2aca4_row2_col0\" class=\"data row2 col0\" >Добавить два новых канала привлечения трафика, что позволит привлекать на 30% больше пользователей</td>\n",
       "                        <td id=\"T_2aca4_row2_col1\" class=\"data row2 col1\" >13.333333</td>\n",
       "                        <td id=\"T_2aca4_row2_col2\" class=\"data row2 col2\" >40.000000</td>\n",
       "            </tr>\n",
       "            <tr>\n",
       "                        <th id=\"T_2aca4_level0_row3\" class=\"row_heading level0 row3\" >6</th>\n",
       "                        <td id=\"T_2aca4_row3_col0\" class=\"data row3 col0\" >Показать на главной странице баннеры с актуальными акциями и распродажами, чтобы увеличить конверсию</td>\n",
       "                        <td id=\"T_2aca4_row3_col1\" class=\"data row3 col1\" >8.000000</td>\n",
       "                        <td id=\"T_2aca4_row3_col2\" class=\"data row3 col2\" >40.000000</td>\n",
       "            </tr>\n",
       "            <tr>\n",
       "                        <th id=\"T_2aca4_level0_row4\" class=\"row_heading level0 row4\" >8</th>\n",
       "                        <td id=\"T_2aca4_row4_col0\" class=\"data row4 col0\" >Запустить акцию, дающую скидку на товар в день рождения</td>\n",
       "                        <td id=\"T_2aca4_row4_col1\" class=\"data row4 col1\" >16.200000</td>\n",
       "                        <td id=\"T_2aca4_row4_col2\" class=\"data row4 col2\" >16.200000</td>\n",
       "            </tr>\n",
       "            <tr>\n",
       "                        <th id=\"T_2aca4_level0_row5\" class=\"row_heading level0 row5\" >3</th>\n",
       "                        <td id=\"T_2aca4_row5_col0\" class=\"data row5 col0\" >Изменить структура категорий, что увеличит конверсию, т.к. пользователи быстрее найдут нужный товар</td>\n",
       "                        <td id=\"T_2aca4_row5_col1\" class=\"data row5 col1\" >1.125000</td>\n",
       "                        <td id=\"T_2aca4_row5_col2\" class=\"data row5 col2\" >9.000000</td>\n",
       "            </tr>\n",
       "            <tr>\n",
       "                        <th id=\"T_2aca4_level0_row6\" class=\"row_heading level0 row6\" >1</th>\n",
       "                        <td id=\"T_2aca4_row6_col0\" class=\"data row6 col0\" >Запустить собственную службу доставки, что сократит срок доставки заказов</td>\n",
       "                        <td id=\"T_2aca4_row6_col1\" class=\"data row6 col1\" >2.000000</td>\n",
       "                        <td id=\"T_2aca4_row6_col2\" class=\"data row6 col2\" >4.000000</td>\n",
       "            </tr>\n",
       "            <tr>\n",
       "                        <th id=\"T_2aca4_level0_row7\" class=\"row_heading level0 row7\" >5</th>\n",
       "                        <td id=\"T_2aca4_row7_col0\" class=\"data row7 col0\" >Добавить страницу отзывов клиентов о магазине, что позволит увеличить количество заказов</td>\n",
       "                        <td id=\"T_2aca4_row7_col1\" class=\"data row7 col1\" >1.333333</td>\n",
       "                        <td id=\"T_2aca4_row7_col2\" class=\"data row7 col2\" >4.000000</td>\n",
       "            </tr>\n",
       "            <tr>\n",
       "                        <th id=\"T_2aca4_level0_row8\" class=\"row_heading level0 row8\" >4</th>\n",
       "                        <td id=\"T_2aca4_row8_col0\" class=\"data row8 col0\" >Изменить цвет фона главной страницы, чтобы увеличить вовлеченность пользователей</td>\n",
       "                        <td id=\"T_2aca4_row8_col1\" class=\"data row8 col1\" >1.000000</td>\n",
       "                        <td id=\"T_2aca4_row8_col2\" class=\"data row8 col2\" >3.000000</td>\n",
       "            </tr>\n",
       "    </tbody></table>"
      ],
      "text/plain": [
       "<pandas.io.formats.style.Styler at 0x7f87674cb5e0>"
      ]
     },
     "execution_count": 9,
     "metadata": {},
     "output_type": "execute_result"
    }
   ],
   "source": [
    "# выведем итоговые результаты оценки гипотез фреймворками ICE и RICE \n",
    "results = hypothesis[['hypothesis','ICE','RICE']].sort_values(by='RICE', ascending=False)\n",
    "# применим форматирование set_style\n",
    "results.style.pipe(set_style)"
   ]
  },
  {
   "cell_type": "code",
   "execution_count": 10,
   "metadata": {},
   "outputs": [
    {
     "data": {
      "image/png": "[encoded data removed]",
      "text/plain": [
       "<Figure size 720x1080 with 1 Axes>"
      ]
     },
     "metadata": {
      "needs_background": "light"
     },
     "output_type": "display_data"
    }
   ],
   "source": [
    "# визуализируем изменение приоритетов для топ-5 гипотез по оценке RICE, используя слоупграф\n",
    "plt.figure(figsize=(10,15))\n",
    "\n",
    "plt.title('График изменения приоритетов для топ-5 гипотез по оценке RICE')\n",
    "for i in results.head(5).index:\n",
    "    plt.plot(['ICE', 'RICE'], [results.loc[i,'ICE'], results.loc[i,'RICE']], marker='o', markersize=5)\n",
    "    plt.text(0-0.02, results.loc[i,'ICE'], i)\n",
    "    plt.text(1+0.02, results.loc[i,'RICE']+i*0.25, i)\n",
    "\n",
    "plt.xlabel('Наименование фреймфорка')\n",
    "plt.ylabel('Числовое значение приоритета')    \n",
    "    \n",
    "plt.yticks(range(0,120,2))\n",
    "plt.show()"
   ]
  },
  {
   "cell_type": "markdown",
   "metadata": {},
   "source": [
    "<div style=\"border:solid green 3px; padding: 20px\">\n",
    "    \n",
    "**Промежуточный вывод**\n",
    "    \n",
    "Наиболее перспективные гипотезы в соответствии с фреймворком ICE с индексами [8, 0, 7, 6, 2].\n",
    "    \n",
    "Наиболее перспективные гипотезы в соответствии с фреймворком RICE с индексами [7, 2, 0, 6, 8]. \n",
    "\n",
    "После применения фреймворка RICE наиболее перспективной стала гипотеза 7, так как ее параметр `reach` равен `10` и принимает наибольшее значение из имеющихся. Гипотеза 7 \"*Добавить форму подписки на все основные страницы, чтобы собрать базу клиентов для email-рассылок*\" затрагивает наибольшее число пользователей в сравнении с другими рассматриваемыми гипотезами.\n",
    "    \n",
    "</div>"
   ]
  },
  {
   "cell_type": "markdown",
   "metadata": {},
   "source": [
    "## Часть 2. Анализ результатов A/B-теста"
   ]
  },
  {
   "cell_type": "markdown",
   "metadata": {},
   "source": [
    "<div class=\"alert alert-block alert-info\">\n",
    "<font color='Black'>\n",
    "    \n",
    "Проанализируем результаты A/B-теста, содержащиеся в файлах /datasets/orders.csv и /datasets/visitors.csv."
   ]
  },
  {
   "cell_type": "markdown",
   "metadata": {},
   "source": [
    "### Обзор данных"
   ]
  },
  {
   "cell_type": "code",
   "execution_count": 11,
   "metadata": {},
   "outputs": [
    {
     "data": {
      "text/html": [
       "<div>\n",
       "<style scoped>\n",
       "    .dataframe tbody tr th:only-of-type {\n",
       "        vertical-align: middle;\n",
       "    }\n",
       "\n",
       "    .dataframe tbody tr th {\n",
       "        vertical-align: top;\n",
       "    }\n",
       "\n",
       "    .dataframe thead th {\n",
       "        text-align: right;\n",
       "    }\n",
       "</style>\n",
       "<table border=\"1\" class=\"dataframe\">\n",
       "  <thead>\n",
       "    <tr style=\"text-align: right;\">\n",
       "      <th></th>\n",
       "      <th>transactionId</th>\n",
       "      <th>visitorId</th>\n",
       "      <th>date</th>\n",
       "      <th>revenue</th>\n",
       "      <th>group</th>\n",
       "    </tr>\n",
       "  </thead>\n",
       "  <tbody>\n",
       "    <tr>\n",
       "      <th>0</th>\n",
       "      <td>3667963787</td>\n",
       "      <td>3312258926</td>\n",
       "      <td>2019-08-15</td>\n",
       "      <td>1650</td>\n",
       "      <td>B</td>\n",
       "    </tr>\n",
       "    <tr>\n",
       "      <th>1</th>\n",
       "      <td>2804400009</td>\n",
       "      <td>3642806036</td>\n",
       "      <td>2019-08-15</td>\n",
       "      <td>730</td>\n",
       "      <td>B</td>\n",
       "    </tr>\n",
       "    <tr>\n",
       "      <th>2</th>\n",
       "      <td>2961555356</td>\n",
       "      <td>4069496402</td>\n",
       "      <td>2019-08-15</td>\n",
       "      <td>400</td>\n",
       "      <td>A</td>\n",
       "    </tr>\n",
       "    <tr>\n",
       "      <th>3</th>\n",
       "      <td>3797467345</td>\n",
       "      <td>1196621759</td>\n",
       "      <td>2019-08-15</td>\n",
       "      <td>9759</td>\n",
       "      <td>B</td>\n",
       "    </tr>\n",
       "    <tr>\n",
       "      <th>4</th>\n",
       "      <td>2282983706</td>\n",
       "      <td>2322279887</td>\n",
       "      <td>2019-08-15</td>\n",
       "      <td>2308</td>\n",
       "      <td>B</td>\n",
       "    </tr>\n",
       "    <tr>\n",
       "      <th>5</th>\n",
       "      <td>182168103</td>\n",
       "      <td>935554773</td>\n",
       "      <td>2019-08-15</td>\n",
       "      <td>2210</td>\n",
       "      <td>B</td>\n",
       "    </tr>\n",
       "    <tr>\n",
       "      <th>6</th>\n",
       "      <td>398296753</td>\n",
       "      <td>2900797465</td>\n",
       "      <td>2019-08-15</td>\n",
       "      <td>1860</td>\n",
       "      <td>B</td>\n",
       "    </tr>\n",
       "    <tr>\n",
       "      <th>7</th>\n",
       "      <td>2626614568</td>\n",
       "      <td>78758296</td>\n",
       "      <td>2019-08-15</td>\n",
       "      <td>1044</td>\n",
       "      <td>A</td>\n",
       "    </tr>\n",
       "    <tr>\n",
       "      <th>8</th>\n",
       "      <td>1576988021</td>\n",
       "      <td>295230930</td>\n",
       "      <td>2019-08-15</td>\n",
       "      <td>13710</td>\n",
       "      <td>A</td>\n",
       "    </tr>\n",
       "    <tr>\n",
       "      <th>9</th>\n",
       "      <td>1506739906</td>\n",
       "      <td>1882260405</td>\n",
       "      <td>2019-08-15</td>\n",
       "      <td>1855</td>\n",
       "      <td>B</td>\n",
       "    </tr>\n",
       "  </tbody>\n",
       "</table>\n",
       "</div>"
      ],
      "text/plain": [
       "   transactionId   visitorId        date  revenue group\n",
       "0     3667963787  3312258926  2019-08-15     1650     B\n",
       "1     2804400009  3642806036  2019-08-15      730     B\n",
       "2     2961555356  4069496402  2019-08-15      400     A\n",
       "3     3797467345  1196621759  2019-08-15     9759     B\n",
       "4     2282983706  2322279887  2019-08-15     2308     B\n",
       "5      182168103   935554773  2019-08-15     2210     B\n",
       "6      398296753  2900797465  2019-08-15     1860     B\n",
       "7     2626614568    78758296  2019-08-15     1044     A\n",
       "8     1576988021   295230930  2019-08-15    13710     A\n",
       "9     1506739906  1882260405  2019-08-15     1855     B"
      ]
     },
     "metadata": {},
     "output_type": "display_data"
    },
    {
     "data": {
      "text/html": [
       "<div>\n",
       "<style scoped>\n",
       "    .dataframe tbody tr th:only-of-type {\n",
       "        vertical-align: middle;\n",
       "    }\n",
       "\n",
       "    .dataframe tbody tr th {\n",
       "        vertical-align: top;\n",
       "    }\n",
       "\n",
       "    .dataframe thead th {\n",
       "        text-align: right;\n",
       "    }\n",
       "</style>\n",
       "<table border=\"1\" class=\"dataframe\">\n",
       "  <thead>\n",
       "    <tr style=\"text-align: right;\">\n",
       "      <th></th>\n",
       "      <th>date</th>\n",
       "      <th>group</th>\n",
       "      <th>visitors</th>\n",
       "    </tr>\n",
       "  </thead>\n",
       "  <tbody>\n",
       "    <tr>\n",
       "      <th>0</th>\n",
       "      <td>2019-08-01</td>\n",
       "      <td>A</td>\n",
       "      <td>719</td>\n",
       "    </tr>\n",
       "    <tr>\n",
       "      <th>1</th>\n",
       "      <td>2019-08-02</td>\n",
       "      <td>A</td>\n",
       "      <td>619</td>\n",
       "    </tr>\n",
       "    <tr>\n",
       "      <th>2</th>\n",
       "      <td>2019-08-03</td>\n",
       "      <td>A</td>\n",
       "      <td>507</td>\n",
       "    </tr>\n",
       "    <tr>\n",
       "      <th>3</th>\n",
       "      <td>2019-08-04</td>\n",
       "      <td>A</td>\n",
       "      <td>717</td>\n",
       "    </tr>\n",
       "    <tr>\n",
       "      <th>4</th>\n",
       "      <td>2019-08-05</td>\n",
       "      <td>A</td>\n",
       "      <td>756</td>\n",
       "    </tr>\n",
       "    <tr>\n",
       "      <th>5</th>\n",
       "      <td>2019-08-06</td>\n",
       "      <td>A</td>\n",
       "      <td>667</td>\n",
       "    </tr>\n",
       "    <tr>\n",
       "      <th>6</th>\n",
       "      <td>2019-08-07</td>\n",
       "      <td>A</td>\n",
       "      <td>644</td>\n",
       "    </tr>\n",
       "    <tr>\n",
       "      <th>7</th>\n",
       "      <td>2019-08-08</td>\n",
       "      <td>A</td>\n",
       "      <td>610</td>\n",
       "    </tr>\n",
       "    <tr>\n",
       "      <th>8</th>\n",
       "      <td>2019-08-09</td>\n",
       "      <td>A</td>\n",
       "      <td>617</td>\n",
       "    </tr>\n",
       "    <tr>\n",
       "      <th>9</th>\n",
       "      <td>2019-08-10</td>\n",
       "      <td>A</td>\n",
       "      <td>406</td>\n",
       "    </tr>\n",
       "  </tbody>\n",
       "</table>\n",
       "</div>"
      ],
      "text/plain": [
       "         date group  visitors\n",
       "0  2019-08-01     A       719\n",
       "1  2019-08-02     A       619\n",
       "2  2019-08-03     A       507\n",
       "3  2019-08-04     A       717\n",
       "4  2019-08-05     A       756\n",
       "5  2019-08-06     A       667\n",
       "6  2019-08-07     A       644\n",
       "7  2019-08-08     A       610\n",
       "8  2019-08-09     A       617\n",
       "9  2019-08-10     A       406"
      ]
     },
     "metadata": {},
     "output_type": "display_data"
    }
   ],
   "source": [
    "# чтение данных из файла и сохранение в orders и в visitors\n",
    "orders = pd.read_csv('/datasets/orders.csv')\n",
    "visitors = pd.read_csv('/datasets/visitors.csv')\n",
    "\n",
    "# выводим первые 10 строк\n",
    "display(orders.head(10))\n",
    "display(visitors.head(10))"
   ]
  },
  {
   "cell_type": "code",
   "execution_count": 12,
   "metadata": {},
   "outputs": [
    {
     "name": "stdout",
     "output_type": "stream",
     "text": [
      "<class 'pandas.core.frame.DataFrame'>\n",
      "RangeIndex: 1197 entries, 0 to 1196\n",
      "Data columns (total 5 columns):\n",
      " #   Column         Non-Null Count  Dtype \n",
      "---  ------         --------------  ----- \n",
      " 0   transactionId  1197 non-null   int64 \n",
      " 1   visitorId      1197 non-null   int64 \n",
      " 2   date           1197 non-null   object\n",
      " 3   revenue        1197 non-null   int64 \n",
      " 4   group          1197 non-null   object\n",
      "dtypes: int64(3), object(2)\n",
      "memory usage: 46.9+ KB\n",
      "\n",
      "<class 'pandas.core.frame.DataFrame'>\n",
      "RangeIndex: 62 entries, 0 to 61\n",
      "Data columns (total 3 columns):\n",
      " #   Column    Non-Null Count  Dtype \n",
      "---  ------    --------------  ----- \n",
      " 0   date      62 non-null     object\n",
      " 1   group     62 non-null     object\n",
      " 2   visitors  62 non-null     int64 \n",
      "dtypes: int64(1), object(2)\n",
      "memory usage: 1.6+ KB\n"
     ]
    }
   ],
   "source": [
    "# получим общую информацию о данных\n",
    "orders.info()\n",
    "print()\n",
    "visitors.info()"
   ]
  },
  {
   "cell_type": "code",
   "execution_count": 13,
   "metadata": {
    "scrolled": true
   },
   "outputs": [],
   "source": [
    "# преобразуем столбцы, содержащие дату, к специальному типу для хранения даты\n",
    "orders['date'] = orders['date'].map(lambda x: dt.datetime.strptime(x, '%Y-%m-%d'))\n",
    "visitors['date'] = visitors['date'].map(lambda x: dt.datetime.strptime(x, '%Y-%m-%d'))"
   ]
  },
  {
   "cell_type": "code",
   "execution_count": 14,
   "metadata": {
    "scrolled": false
   },
   "outputs": [
    {
     "name": "stdout",
     "output_type": "stream",
     "text": [
      "<class 'pandas.core.frame.DataFrame'>\n",
      "RangeIndex: 1197 entries, 0 to 1196\n",
      "Data columns (total 5 columns):\n",
      " #   Column         Non-Null Count  Dtype         \n",
      "---  ------         --------------  -----         \n",
      " 0   transactionId  1197 non-null   int64         \n",
      " 1   visitorId      1197 non-null   int64         \n",
      " 2   date           1197 non-null   datetime64[ns]\n",
      " 3   revenue        1197 non-null   int64         \n",
      " 4   group          1197 non-null   object        \n",
      "dtypes: datetime64[ns](1), int64(3), object(1)\n",
      "memory usage: 46.9+ KB\n",
      "\n",
      "<class 'pandas.core.frame.DataFrame'>\n",
      "RangeIndex: 62 entries, 0 to 61\n",
      "Data columns (total 3 columns):\n",
      " #   Column    Non-Null Count  Dtype         \n",
      "---  ------    --------------  -----         \n",
      " 0   date      62 non-null     datetime64[ns]\n",
      " 1   group     62 non-null     object        \n",
      " 2   visitors  62 non-null     int64         \n",
      "dtypes: datetime64[ns](1), int64(1), object(1)\n",
      "memory usage: 1.6+ KB\n"
     ]
    }
   ],
   "source": [
    "# проверим, что типы данных столбцов date изменились\n",
    "orders.info()\n",
    "print()\n",
    "visitors.info()"
   ]
  },
  {
   "cell_type": "code",
   "execution_count": 15,
   "metadata": {
    "scrolled": true
   },
   "outputs": [
    {
     "data": {
      "text/plain": [
       "(0, 0)"
      ]
     },
     "execution_count": 15,
     "metadata": {},
     "output_type": "execute_result"
    }
   ],
   "source": [
    "# проверка на наличие дубликатов\n",
    "orders.duplicated().sum(), visitors.duplicated().sum()"
   ]
  },
  {
   "cell_type": "markdown",
   "metadata": {},
   "source": [
    "<div class=\"alert alert-block alert-info\">\n",
    "<font color='Black'>\n",
    "    \n",
    "Проверим корректность распределения пользователей по группам."
   ]
  },
  {
   "cell_type": "code",
   "execution_count": 16,
   "metadata": {},
   "outputs": [
    {
     "name": "stdout",
     "output_type": "stream",
     "text": [
      "Количество пользователей, сделавших заказ и попавших одновременно в обе группы:  58\n",
      "Доля пользователей, сделавших заказ и попавших одновременно в обе группы, среди пользователей сделавших заказ:  5.63%\n",
      "Доля пользователей, сделавших заказ и попавших одновременно в обе группы, среди пользователей сделавших заказ в группе A:  11.53%\n",
      "Доля пользователей, сделавших заказ и попавших одновременно в обе группы, среди пользователей сделавших заказ в группе B:  9.90%\n"
     ]
    }
   ],
   "source": [
    "# проверим, имеются ли среди пользователей, сделавших заказ, пользователи, \n",
    "# которые попали одновременно и в группу A, и в группу B\n",
    "users_AB = (orders[(orders['group'] == 'B') & \n",
    "                  (orders['visitorId'].isin(orders[orders['group'] == 'A']['visitorId']))]\n",
    "            ['visitorId'].unique())\n",
    "\n",
    "print('Количество пользователей, сделавших заказ и попавших одновременно в обе группы: ', len(users_AB))\n",
    "\n",
    "print('Доля пользователей, сделавших заказ и попавших одновременно в обе группы, среди пользователей сделавших заказ: ', \n",
    "       '{0:.2%}'.format(len(users_AB) / len(orders['visitorId'].unique())))\n",
    "\n",
    "print('Доля пользователей, сделавших заказ и попавших одновременно в обе группы, среди пользователей сделавших заказ в группе A: ', \n",
    "       '{0:.2%}'.format(len(users_AB) / len(orders[orders['group'] == 'A']['visitorId'].unique())))\n",
    "\n",
    "print('Доля пользователей, сделавших заказ и попавших одновременно в обе группы, среди пользователей сделавших заказ в группе B: ', \n",
    "       '{0:.2%}'.format(len(users_AB) / len(orders[orders['group'] == 'B']['visitorId'].unique())))"
   ]
  },
  {
   "cell_type": "markdown",
   "metadata": {},
   "source": [
    "<div class=\"alert alert-block alert-info\">\n",
    "<font color='Black'>\n",
    "    \n",
    "Получили, 58 пользователей среди тех, кто сделал заказ и попал одновременно в обе группы. Доля данных пользователей от общего количества пользователей, сделавших заказ, составила 5.63%, что незначительно. Результаты такого теста нельзя интерпретировать однозначно, так как неизвестно, какой из факторов повлиял на решение пользователя. \n",
    "    \n",
    "Исключим данных пользователей из рассмотрения (т.е. из датафрейма `orders`). \n",
    "\n",
    "Стоит отметить, что и в датафрейме `visitors` в колонке `visitors` — количество пользователей в указанную дату в указанной группе A/B-теста — вероятно, также имеются учитываются посетители, вошедшие одновременно в обе группы, но информация в разрезе `visitorId` имеется только по пользователям, сделавшим заказ, поэтому датафрейм `visitors` оставим без изменений.\n",
    "</div>     "
   ]
  },
  {
   "cell_type": "code",
   "execution_count": 17,
   "metadata": {},
   "outputs": [
    {
     "name": "stdout",
     "output_type": "stream",
     "text": [
      "<class 'pandas.core.frame.DataFrame'>\n",
      "RangeIndex: 1016 entries, 0 to 1015\n",
      "Data columns (total 5 columns):\n",
      " #   Column         Non-Null Count  Dtype         \n",
      "---  ------         --------------  -----         \n",
      " 0   transactionId  1016 non-null   int64         \n",
      " 1   visitorId      1016 non-null   int64         \n",
      " 2   date           1016 non-null   datetime64[ns]\n",
      " 3   revenue        1016 non-null   int64         \n",
      " 4   group          1016 non-null   object        \n",
      "dtypes: datetime64[ns](1), int64(3), object(1)\n",
      "memory usage: 39.8+ KB\n"
     ]
    }
   ],
   "source": [
    "# сохраним копию исходного датафрейма orders\n",
    "orders_initial = orders.copy()\n",
    "# исключим из orders пользователей, попавших одновременно в обе группы\n",
    "orders = orders[np.logical_not(orders['visitorId'].isin(users_AB))].reset_index(drop=True)\n",
    "orders.info()"
   ]
  },
  {
   "cell_type": "markdown",
   "metadata": {},
   "source": [
    "<div style=\"border:solid green 3px; padding: 20px\">\n",
    "    \n",
    "**Промежуточный вывод**\n",
    "\n",
    "Датафрейм `orders` содержит 1 197 строк и 5 столбцов. \n",
    "\n",
    "Датафрейм `visitors` содержит 62 строки и 3 столбца. \n",
    "\n",
    "Наименования столбцов отражают суть, содержащихся в них данных. Данные в столбцах, содержащих дату и время, привели к тпиу данных для хранения даты и времени. Встречающиеся типы данных - целые числа, строковые значения и тип даты и времени. \n",
    "\n",
    "Пропущенные значения и дубликаты в датафреймах отсутствуют.\n",
    "    \n",
    "Выявили 58 пользователей среди пользователей, сделавших заказ и попавших в обе группы, и исключили данных пользователей из датафрейма `orders`. Преобразованный датафрейм `orders` содержит 1 016 строк.     \n",
    "    \n",
    "</div>"
   ]
  },
  {
   "cell_type": "markdown",
   "metadata": {},
   "source": [
    "### Анализ результатов"
   ]
  },
  {
   "cell_type": "markdown",
   "metadata": {},
   "source": [
    "#### График кумулятивной выручки по группам"
   ]
  },
  {
   "cell_type": "code",
   "execution_count": 18,
   "metadata": {},
   "outputs": [
    {
     "data": {
      "text/html": [
       "<div>\n",
       "<style scoped>\n",
       "    .dataframe tbody tr th:only-of-type {\n",
       "        vertical-align: middle;\n",
       "    }\n",
       "\n",
       "    .dataframe tbody tr th {\n",
       "        vertical-align: top;\n",
       "    }\n",
       "\n",
       "    .dataframe thead th {\n",
       "        text-align: right;\n",
       "    }\n",
       "</style>\n",
       "<table border=\"1\" class=\"dataframe\">\n",
       "  <thead>\n",
       "    <tr style=\"text-align: right;\">\n",
       "      <th></th>\n",
       "      <th>date</th>\n",
       "      <th>group</th>\n",
       "    </tr>\n",
       "  </thead>\n",
       "  <tbody>\n",
       "    <tr>\n",
       "      <th>0</th>\n",
       "      <td>2019-08-01</td>\n",
       "      <td>A</td>\n",
       "    </tr>\n",
       "    <tr>\n",
       "      <th>1</th>\n",
       "      <td>2019-08-01</td>\n",
       "      <td>B</td>\n",
       "    </tr>\n",
       "    <tr>\n",
       "      <th>2</th>\n",
       "      <td>2019-08-02</td>\n",
       "      <td>A</td>\n",
       "    </tr>\n",
       "    <tr>\n",
       "      <th>3</th>\n",
       "      <td>2019-08-02</td>\n",
       "      <td>B</td>\n",
       "    </tr>\n",
       "    <tr>\n",
       "      <th>4</th>\n",
       "      <td>2019-08-03</td>\n",
       "      <td>A</td>\n",
       "    </tr>\n",
       "    <tr>\n",
       "      <th>...</th>\n",
       "      <td>...</td>\n",
       "      <td>...</td>\n",
       "    </tr>\n",
       "    <tr>\n",
       "      <th>57</th>\n",
       "      <td>2019-08-29</td>\n",
       "      <td>B</td>\n",
       "    </tr>\n",
       "    <tr>\n",
       "      <th>58</th>\n",
       "      <td>2019-08-30</td>\n",
       "      <td>A</td>\n",
       "    </tr>\n",
       "    <tr>\n",
       "      <th>59</th>\n",
       "      <td>2019-08-30</td>\n",
       "      <td>B</td>\n",
       "    </tr>\n",
       "    <tr>\n",
       "      <th>60</th>\n",
       "      <td>2019-08-31</td>\n",
       "      <td>A</td>\n",
       "    </tr>\n",
       "    <tr>\n",
       "      <th>61</th>\n",
       "      <td>2019-08-31</td>\n",
       "      <td>B</td>\n",
       "    </tr>\n",
       "  </tbody>\n",
       "</table>\n",
       "<p>62 rows × 2 columns</p>\n",
       "</div>"
      ],
      "text/plain": [
       "         date group\n",
       "0  2019-08-01     A\n",
       "1  2019-08-01     B\n",
       "2  2019-08-02     A\n",
       "3  2019-08-02     B\n",
       "4  2019-08-03     A\n",
       "..        ...   ...\n",
       "57 2019-08-29     B\n",
       "58 2019-08-30     A\n",
       "59 2019-08-30     B\n",
       "60 2019-08-31     A\n",
       "61 2019-08-31     B\n",
       "\n",
       "[62 rows x 2 columns]"
      ]
     },
     "execution_count": 18,
     "metadata": {},
     "output_type": "execute_result"
    }
   ],
   "source": [
    "# создадим массив уникальных пар (дата, группа)\n",
    "dates_groups = (orders[['date','group']]\n",
    "               .drop_duplicates()\n",
    "               .sort_values(by=['date','group'])\n",
    "               .reset_index(drop=True))\n",
    "dates_groups"
   ]
  },
  {
   "cell_type": "code",
   "execution_count": 19,
   "metadata": {
    "scrolled": false
   },
   "outputs": [
    {
     "data": {
      "text/html": [
       "<div>\n",
       "<style scoped>\n",
       "    .dataframe tbody tr th:only-of-type {\n",
       "        vertical-align: middle;\n",
       "    }\n",
       "\n",
       "    .dataframe tbody tr th {\n",
       "        vertical-align: top;\n",
       "    }\n",
       "\n",
       "    .dataframe thead th {\n",
       "        text-align: right;\n",
       "    }\n",
       "</style>\n",
       "<table border=\"1\" class=\"dataframe\">\n",
       "  <thead>\n",
       "    <tr style=\"text-align: right;\">\n",
       "      <th></th>\n",
       "      <th>date</th>\n",
       "      <th>group</th>\n",
       "      <th>transactionId</th>\n",
       "      <th>visitorId</th>\n",
       "      <th>revenue</th>\n",
       "    </tr>\n",
       "  </thead>\n",
       "  <tbody>\n",
       "    <tr>\n",
       "      <th>0</th>\n",
       "      <td>2019-08-01</td>\n",
       "      <td>A</td>\n",
       "      <td>23</td>\n",
       "      <td>19</td>\n",
       "      <td>142779</td>\n",
       "    </tr>\n",
       "    <tr>\n",
       "      <th>1</th>\n",
       "      <td>2019-08-01</td>\n",
       "      <td>B</td>\n",
       "      <td>17</td>\n",
       "      <td>17</td>\n",
       "      <td>59758</td>\n",
       "    </tr>\n",
       "    <tr>\n",
       "      <th>2</th>\n",
       "      <td>2019-08-02</td>\n",
       "      <td>A</td>\n",
       "      <td>42</td>\n",
       "      <td>36</td>\n",
       "      <td>234381</td>\n",
       "    </tr>\n",
       "    <tr>\n",
       "      <th>3</th>\n",
       "      <td>2019-08-02</td>\n",
       "      <td>B</td>\n",
       "      <td>40</td>\n",
       "      <td>39</td>\n",
       "      <td>221801</td>\n",
       "    </tr>\n",
       "    <tr>\n",
       "      <th>4</th>\n",
       "      <td>2019-08-03</td>\n",
       "      <td>A</td>\n",
       "      <td>66</td>\n",
       "      <td>60</td>\n",
       "      <td>346854</td>\n",
       "    </tr>\n",
       "    <tr>\n",
       "      <th>...</th>\n",
       "      <td>...</td>\n",
       "      <td>...</td>\n",
       "      <td>...</td>\n",
       "      <td>...</td>\n",
       "      <td>...</td>\n",
       "    </tr>\n",
       "    <tr>\n",
       "      <th>57</th>\n",
       "      <td>2019-08-29</td>\n",
       "      <td>B</td>\n",
       "      <td>510</td>\n",
       "      <td>490</td>\n",
       "      <td>4746610</td>\n",
       "    </tr>\n",
       "    <tr>\n",
       "      <th>58</th>\n",
       "      <td>2019-08-30</td>\n",
       "      <td>A</td>\n",
       "      <td>460</td>\n",
       "      <td>437</td>\n",
       "      <td>3311413</td>\n",
       "    </tr>\n",
       "    <tr>\n",
       "      <th>59</th>\n",
       "      <td>2019-08-30</td>\n",
       "      <td>B</td>\n",
       "      <td>531</td>\n",
       "      <td>511</td>\n",
       "      <td>4955833</td>\n",
       "    </tr>\n",
       "    <tr>\n",
       "      <th>60</th>\n",
       "      <td>2019-08-31</td>\n",
       "      <td>A</td>\n",
       "      <td>468</td>\n",
       "      <td>445</td>\n",
       "      <td>3364656</td>\n",
       "    </tr>\n",
       "    <tr>\n",
       "      <th>61</th>\n",
       "      <td>2019-08-31</td>\n",
       "      <td>B</td>\n",
       "      <td>548</td>\n",
       "      <td>528</td>\n",
       "      <td>5068972</td>\n",
       "    </tr>\n",
       "  </tbody>\n",
       "</table>\n",
       "<p>62 rows × 5 columns</p>\n",
       "</div>"
      ],
      "text/plain": [
       "         date group  transactionId  visitorId  revenue\n",
       "0  2019-08-01     A             23         19   142779\n",
       "1  2019-08-01     B             17         17    59758\n",
       "2  2019-08-02     A             42         36   234381\n",
       "3  2019-08-02     B             40         39   221801\n",
       "4  2019-08-03     A             66         60   346854\n",
       "..        ...   ...            ...        ...      ...\n",
       "57 2019-08-29     B            510        490  4746610\n",
       "58 2019-08-30     A            460        437  3311413\n",
       "59 2019-08-30     B            531        511  4955833\n",
       "60 2019-08-31     A            468        445  3364656\n",
       "61 2019-08-31     B            548        528  5068972\n",
       "\n",
       "[62 rows x 5 columns]"
      ]
     },
     "execution_count": 19,
     "metadata": {},
     "output_type": "execute_result"
    }
   ],
   "source": [
    "# соберём агрегированные кумулятивные по дням данные о заказах в разрезе групп\n",
    "orders_aggregated = (dates_groups\n",
    "                     .apply(lambda x: orders[np.logical_and(orders['date'] <= x['date'], \n",
    "                                                            orders['group'] == x['group'])]\n",
    "                           .agg({'date':'max', \n",
    "                                 'group':'max', \n",
    "                                 'transactionId':'nunique', \n",
    "                                 'visitorId':'nunique', \n",
    "                                 'revenue':'sum'}), \n",
    "                            axis=1).sort_values(by=['date','group']).reset_index(drop=True) \n",
    "                    )\n",
    "orders_aggregated "
   ]
  },
  {
   "cell_type": "code",
   "execution_count": 20,
   "metadata": {},
   "outputs": [
    {
     "data": {
      "text/html": [
       "<div>\n",
       "<style scoped>\n",
       "    .dataframe tbody tr th:only-of-type {\n",
       "        vertical-align: middle;\n",
       "    }\n",
       "\n",
       "    .dataframe tbody tr th {\n",
       "        vertical-align: top;\n",
       "    }\n",
       "\n",
       "    .dataframe thead th {\n",
       "        text-align: right;\n",
       "    }\n",
       "</style>\n",
       "<table border=\"1\" class=\"dataframe\">\n",
       "  <thead>\n",
       "    <tr style=\"text-align: right;\">\n",
       "      <th></th>\n",
       "      <th>date</th>\n",
       "      <th>group</th>\n",
       "      <th>visitors</th>\n",
       "    </tr>\n",
       "  </thead>\n",
       "  <tbody>\n",
       "    <tr>\n",
       "      <th>0</th>\n",
       "      <td>2019-08-01</td>\n",
       "      <td>A</td>\n",
       "      <td>719</td>\n",
       "    </tr>\n",
       "    <tr>\n",
       "      <th>1</th>\n",
       "      <td>2019-08-01</td>\n",
       "      <td>B</td>\n",
       "      <td>713</td>\n",
       "    </tr>\n",
       "    <tr>\n",
       "      <th>2</th>\n",
       "      <td>2019-08-02</td>\n",
       "      <td>A</td>\n",
       "      <td>1338</td>\n",
       "    </tr>\n",
       "    <tr>\n",
       "      <th>3</th>\n",
       "      <td>2019-08-02</td>\n",
       "      <td>B</td>\n",
       "      <td>1294</td>\n",
       "    </tr>\n",
       "    <tr>\n",
       "      <th>4</th>\n",
       "      <td>2019-08-03</td>\n",
       "      <td>A</td>\n",
       "      <td>1845</td>\n",
       "    </tr>\n",
       "    <tr>\n",
       "      <th>...</th>\n",
       "      <td>...</td>\n",
       "      <td>...</td>\n",
       "      <td>...</td>\n",
       "    </tr>\n",
       "    <tr>\n",
       "      <th>57</th>\n",
       "      <td>2019-08-29</td>\n",
       "      <td>B</td>\n",
       "      <td>17708</td>\n",
       "    </tr>\n",
       "    <tr>\n",
       "      <th>58</th>\n",
       "      <td>2019-08-30</td>\n",
       "      <td>A</td>\n",
       "      <td>18037</td>\n",
       "    </tr>\n",
       "    <tr>\n",
       "      <th>59</th>\n",
       "      <td>2019-08-30</td>\n",
       "      <td>B</td>\n",
       "      <td>18198</td>\n",
       "    </tr>\n",
       "    <tr>\n",
       "      <th>60</th>\n",
       "      <td>2019-08-31</td>\n",
       "      <td>A</td>\n",
       "      <td>18736</td>\n",
       "    </tr>\n",
       "    <tr>\n",
       "      <th>61</th>\n",
       "      <td>2019-08-31</td>\n",
       "      <td>B</td>\n",
       "      <td>18916</td>\n",
       "    </tr>\n",
       "  </tbody>\n",
       "</table>\n",
       "<p>62 rows × 3 columns</p>\n",
       "</div>"
      ],
      "text/plain": [
       "         date group  visitors\n",
       "0  2019-08-01     A       719\n",
       "1  2019-08-01     B       713\n",
       "2  2019-08-02     A      1338\n",
       "3  2019-08-02     B      1294\n",
       "4  2019-08-03     A      1845\n",
       "..        ...   ...       ...\n",
       "57 2019-08-29     B     17708\n",
       "58 2019-08-30     A     18037\n",
       "59 2019-08-30     B     18198\n",
       "60 2019-08-31     A     18736\n",
       "61 2019-08-31     B     18916\n",
       "\n",
       "[62 rows x 3 columns]"
      ]
     },
     "execution_count": 20,
     "metadata": {},
     "output_type": "execute_result"
    }
   ],
   "source": [
    "# получим агрегированные кумулятивные по дням данные о посетителях в разрезе групп\n",
    "visitors_aggregated = (dates_groups.apply(lambda x: visitors[np.logical_and(visitors['date'] <= x['date'], \n",
    "                                                                          visitors['group'] == x['group'])]\n",
    "                                          .agg({'date':'max', \n",
    "                                                'group':'max',\n",
    "                                                'visitors':'sum'}), \n",
    "                                          axis=1).sort_values(by=['date','group']).reset_index(drop=True)\n",
    "                      )\n",
    "visitors_aggregated"
   ]
  },
  {
   "cell_type": "code",
   "execution_count": 21,
   "metadata": {},
   "outputs": [
    {
     "data": {
      "text/html": [
       "<div>\n",
       "<style scoped>\n",
       "    .dataframe tbody tr th:only-of-type {\n",
       "        vertical-align: middle;\n",
       "    }\n",
       "\n",
       "    .dataframe tbody tr th {\n",
       "        vertical-align: top;\n",
       "    }\n",
       "\n",
       "    .dataframe thead th {\n",
       "        text-align: right;\n",
       "    }\n",
       "</style>\n",
       "<table border=\"1\" class=\"dataframe\">\n",
       "  <thead>\n",
       "    <tr style=\"text-align: right;\">\n",
       "      <th></th>\n",
       "      <th>date</th>\n",
       "      <th>group</th>\n",
       "      <th>orders</th>\n",
       "      <th>clients</th>\n",
       "      <th>revenue</th>\n",
       "      <th>visitors</th>\n",
       "    </tr>\n",
       "  </thead>\n",
       "  <tbody>\n",
       "    <tr>\n",
       "      <th>0</th>\n",
       "      <td>2019-08-01</td>\n",
       "      <td>A</td>\n",
       "      <td>23</td>\n",
       "      <td>19</td>\n",
       "      <td>142779</td>\n",
       "      <td>719</td>\n",
       "    </tr>\n",
       "    <tr>\n",
       "      <th>1</th>\n",
       "      <td>2019-08-01</td>\n",
       "      <td>B</td>\n",
       "      <td>17</td>\n",
       "      <td>17</td>\n",
       "      <td>59758</td>\n",
       "      <td>713</td>\n",
       "    </tr>\n",
       "    <tr>\n",
       "      <th>2</th>\n",
       "      <td>2019-08-02</td>\n",
       "      <td>A</td>\n",
       "      <td>42</td>\n",
       "      <td>36</td>\n",
       "      <td>234381</td>\n",
       "      <td>1338</td>\n",
       "    </tr>\n",
       "    <tr>\n",
       "      <th>3</th>\n",
       "      <td>2019-08-02</td>\n",
       "      <td>B</td>\n",
       "      <td>40</td>\n",
       "      <td>39</td>\n",
       "      <td>221801</td>\n",
       "      <td>1294</td>\n",
       "    </tr>\n",
       "    <tr>\n",
       "      <th>4</th>\n",
       "      <td>2019-08-03</td>\n",
       "      <td>A</td>\n",
       "      <td>66</td>\n",
       "      <td>60</td>\n",
       "      <td>346854</td>\n",
       "      <td>1845</td>\n",
       "    </tr>\n",
       "    <tr>\n",
       "      <th>...</th>\n",
       "      <td>...</td>\n",
       "      <td>...</td>\n",
       "      <td>...</td>\n",
       "      <td>...</td>\n",
       "      <td>...</td>\n",
       "      <td>...</td>\n",
       "    </tr>\n",
       "    <tr>\n",
       "      <th>57</th>\n",
       "      <td>2019-08-29</td>\n",
       "      <td>B</td>\n",
       "      <td>510</td>\n",
       "      <td>490</td>\n",
       "      <td>4746610</td>\n",
       "      <td>17708</td>\n",
       "    </tr>\n",
       "    <tr>\n",
       "      <th>58</th>\n",
       "      <td>2019-08-30</td>\n",
       "      <td>A</td>\n",
       "      <td>460</td>\n",
       "      <td>437</td>\n",
       "      <td>3311413</td>\n",
       "      <td>18037</td>\n",
       "    </tr>\n",
       "    <tr>\n",
       "      <th>59</th>\n",
       "      <td>2019-08-30</td>\n",
       "      <td>B</td>\n",
       "      <td>531</td>\n",
       "      <td>511</td>\n",
       "      <td>4955833</td>\n",
       "      <td>18198</td>\n",
       "    </tr>\n",
       "    <tr>\n",
       "      <th>60</th>\n",
       "      <td>2019-08-31</td>\n",
       "      <td>A</td>\n",
       "      <td>468</td>\n",
       "      <td>445</td>\n",
       "      <td>3364656</td>\n",
       "      <td>18736</td>\n",
       "    </tr>\n",
       "    <tr>\n",
       "      <th>61</th>\n",
       "      <td>2019-08-31</td>\n",
       "      <td>B</td>\n",
       "      <td>548</td>\n",
       "      <td>528</td>\n",
       "      <td>5068972</td>\n",
       "      <td>18916</td>\n",
       "    </tr>\n",
       "  </tbody>\n",
       "</table>\n",
       "<p>62 rows × 6 columns</p>\n",
       "</div>"
      ],
      "text/plain": [
       "         date group  orders  clients  revenue  visitors\n",
       "0  2019-08-01     A      23       19   142779       719\n",
       "1  2019-08-01     B      17       17    59758       713\n",
       "2  2019-08-02     A      42       36   234381      1338\n",
       "3  2019-08-02     B      40       39   221801      1294\n",
       "4  2019-08-03     A      66       60   346854      1845\n",
       "..        ...   ...     ...      ...      ...       ...\n",
       "57 2019-08-29     B     510      490  4746610     17708\n",
       "58 2019-08-30     A     460      437  3311413     18037\n",
       "59 2019-08-30     B     531      511  4955833     18198\n",
       "60 2019-08-31     A     468      445  3364656     18736\n",
       "61 2019-08-31     B     548      528  5068972     18916\n",
       "\n",
       "[62 rows x 6 columns]"
      ]
     },
     "execution_count": 21,
     "metadata": {},
     "output_type": "execute_result"
    }
   ],
   "source": [
    "# объединим агрегированные таблицы в одну и переименуем названия столбцов\n",
    "cumulative_data = orders_aggregated.merge(visitors_aggregated, left_on=['date','group'], right_on=['date','group'])\n",
    "cumulative_data.columns = ['date', 'group', 'orders', 'clients', 'revenue', 'visitors']\n",
    "cumulative_data"
   ]
  },
  {
   "cell_type": "code",
   "execution_count": 22,
   "metadata": {},
   "outputs": [
    {
     "data": {
      "image/png": "[encoded data removed]",
      "text/plain": [
       "<Figure size 1296x648 with 1 Axes>"
      ]
     },
     "metadata": {
      "needs_background": "light"
     },
     "output_type": "display_data"
    }
   ],
   "source": [
    "# разобьем кумулятивные данные на два датафрейма по группам\n",
    "cumulative_revenue_A = cumulative_data[cumulative_data['group'] == 'A'][['date','revenue','orders']]\n",
    "cumulative_revenue_B = cumulative_data[cumulative_data['group'] == 'B'][['date','revenue','orders']]\n",
    "\n",
    "# построим графики кумулятивной выручки по дням в разрезе групп\n",
    "plt.figure(figsize=(18,9))\n",
    "plt.title('График кумулятивной выручки по группам')\n",
    "plt.plot(cumulative_revenue_A['date'], cumulative_revenue_A['revenue'], label='группа A')\n",
    "plt.plot(cumulative_revenue_B['date'], cumulative_revenue_B['revenue'], label='группа B')\n",
    "plt.xlabel('Дата')\n",
    "plt.ylabel('Кумулятивная выручка')\n",
    "plt.ticklabel_format(axis='y', style='plain')\n",
    "plt.legend();"
   ]
  },
  {
   "cell_type": "markdown",
   "metadata": {},
   "source": [
    "<div style=\"border:solid green 3px; padding: 20px\">\n",
    "    \n",
    "**Промежуточный вывод**\n",
    "\n",
    "Выручка по каждой группе увеличивается в течение всего периода тестирования. При этом графики выручки обеих групп в нескольких точках резко растут. Значительный рост наблюдается по группе B в районе даты 19-08-2019. Это может говорить, о всплесках числа заказов, либо о появлении очень дорогих заказов в выборке.\n",
    "    \n",
    "</div>"
   ]
  },
  {
   "cell_type": "markdown",
   "metadata": {},
   "source": [
    "#### График кумулятивного среднего чека по группам"
   ]
  },
  {
   "cell_type": "code",
   "execution_count": 23,
   "metadata": {},
   "outputs": [
    {
     "data": {
      "image/png": "[encoded data removed]",
      "text/plain": [
       "<Figure size 1296x648 with 1 Axes>"
      ]
     },
     "metadata": {
      "needs_background": "light"
     },
     "output_type": "display_data"
    }
   ],
   "source": [
    "# построим графики кумулятивного среднего чека по дням в разрезе групп\n",
    "plt.figure(figsize=(18,9))\n",
    "plt.title('График кумулятивного среднего чека по группам')\n",
    "\n",
    "plt.plot(cumulative_revenue_A['date'], \n",
    "         cumulative_revenue_A['revenue'] / cumulative_revenue_A['orders'], \n",
    "         label='группа A')\n",
    "\n",
    "plt.plot(cumulative_revenue_B['date'], \n",
    "         cumulative_revenue_B['revenue'] / cumulative_revenue_B['orders'], \n",
    "         label='группа B')\n",
    "\n",
    "plt.xlabel('Дата')\n",
    "plt.ylabel('Кумулятивный средний чек')\n",
    "plt.legend();"
   ]
  },
  {
   "cell_type": "markdown",
   "metadata": {},
   "source": [
    "<div style=\"border:solid green 3px; padding: 20px\">\n",
    "    \n",
    "**Промежуточный вывод**\n",
    "\n",
    "Средний чек становится более равномерным ближе к концу теста. Средний чек для группы A установился  во второй половине периода тестирования. Для группы B наблюдается резкий всплеск на графике в районе даты 19-08-2019. Вероятно, в этот момент в группу B попали очень крупные заказы.\n",
    "    \n",
    "</div>"
   ]
  },
  {
   "cell_type": "markdown",
   "metadata": {},
   "source": [
    "#### График относительного изменения кумулятивного среднего чека группы B к группе A"
   ]
  },
  {
   "cell_type": "code",
   "execution_count": 24,
   "metadata": {},
   "outputs": [
    {
     "data": {
      "image/png": "[encoded data removed]",
      "text/plain": [
       "<Figure size 1296x648 with 1 Axes>"
      ]
     },
     "metadata": {
      "needs_background": "light"
     },
     "output_type": "display_data"
    }
   ],
   "source": [
    "# объединим данные в одном датафрейме\n",
    "cumulative_revenue = cumulative_revenue_A.merge(cumulative_revenue_B, \n",
    "                                                left_on='date',\n",
    "                                                right_on='date',\n",
    "                                                how='left', \n",
    "                                                suffixes=['A','B'])\n",
    "\n",
    "# построим график относительного изменения кумулятивного среднего чека группы B к группе A\n",
    "plt.figure(figsize=(18,9))\n",
    "plt.title('График относительного изменения кумулятивного среднего чека группы B к группе A')\n",
    "\n",
    "plt.plot(cumulative_revenue['date'], \n",
    "         (cumulative_revenue['revenueB'] / cumulative_revenue['ordersB']) /\n",
    "         (cumulative_revenue['revenueA'] / cumulative_revenue['ordersA']) - 1)\n",
    "\n",
    "plt.xlabel('Дата')\n",
    "plt.ylabel('Относительное изменение кумулятивного среднего чека группы B к группе A')\n",
    "\n",
    "# добавляем ось X\n",
    "plt.axhline(y=0, color='blue', linestyle='--');"
   ]
  },
  {
   "cell_type": "markdown",
   "metadata": {},
   "source": [
    "<div style=\"border:solid green 3px; padding: 20px\">\n",
    "    \n",
    "**Промежуточный вывод**\n",
    "\n",
    "В нескольких точках график относительного изменения среднего чека между группами резко скачет. Видимо, имеются крупные заказы и выбросы.\n",
    "    \n",
    "</div>"
   ]
  },
  {
   "cell_type": "markdown",
   "metadata": {},
   "source": [
    "#### График кумулятивной конверсии по группам"
   ]
  },
  {
   "cell_type": "code",
   "execution_count": 25,
   "metadata": {},
   "outputs": [
    {
     "data": {
      "image/png": "[encoded data removed]",
      "text/plain": [
       "<Figure size 1296x648 with 1 Axes>"
      ]
     },
     "metadata": {
      "needs_background": "light"
     },
     "output_type": "display_data"
    }
   ],
   "source": [
    "# найдем кумулятивную конверсию\n",
    "cumulative_data['conversion'] = cumulative_data['orders'] / cumulative_data['visitors']\n",
    "\n",
    "# разобьем кумулятивные данные на два датафрейма по группам\n",
    "cumulative_data_A = cumulative_data[cumulative_data['group'] == 'A']\n",
    "cumulative_data_B = cumulative_data[cumulative_data['group'] == 'B']\n",
    "\n",
    "# построим графики кумулятивной конверсии в разрезе групп\n",
    "plt.figure(figsize=(18,9))\n",
    "plt.title('График кумулятивной конверсии по группам')\n",
    "plt.plot(cumulative_data_A['date'], cumulative_data_A['conversion'], label='группа A')\n",
    "plt.plot(cumulative_data_B['date'], cumulative_data_B['conversion'], label='группа B')\n",
    "plt.xlabel('Дата')\n",
    "plt.ylabel('Кумулятивная конверсия')\n",
    "plt.legend()\n",
    "\n",
    "# зададим масштаб оси y\n",
    "plt.ylim([0, 0.05]);"
   ]
  },
  {
   "cell_type": "markdown",
   "metadata": {},
   "source": [
    "<div style=\"border:solid green 3px; padding: 20px\">\n",
    "    \n",
    "**Промежуточный вывод**\n",
    "\n",
    "После даты 05-08-2019 график выглядит симметричным и конверсия группы B превышает конверсию группы А, наблюдаются небольшие колебания конверсии группы B, но после даты 17-08-2019 данная конверсия зафиксировалась. После даты 05-08-2019 конверсия группы А просела и далее зафиксировалась.\n",
    "    \n",
    "</div>"
   ]
  },
  {
   "cell_type": "markdown",
   "metadata": {},
   "source": [
    "#### График относительного изменения кумулятивной конверсии группы B к группе A"
   ]
  },
  {
   "cell_type": "code",
   "execution_count": 26,
   "metadata": {},
   "outputs": [
    {
     "data": {
      "image/png": "[encoded data removed]",
      "text/plain": [
       "<Figure size 1296x648 with 1 Axes>"
      ]
     },
     "metadata": {
      "needs_background": "light"
     },
     "output_type": "display_data"
    }
   ],
   "source": [
    "# объединим данные в одном датафрейме\n",
    "cumulative_conversion = cumulative_data_A[['date','conversion']].merge(cumulative_data_B[['date','conversion']], \n",
    "                                                                       left_on='date',\n",
    "                                                                       right_on='date',\n",
    "                                                                       how='left', \n",
    "                                                                       suffixes=['A','B'])\n",
    "\n",
    "# построим график относительного изменения кумулятивной конверсии группы B к группе A\n",
    "plt.figure(figsize=(18,9))\n",
    "plt.title('График относительного изменения кумулятивной конверсии группы B к группе A')\n",
    "\n",
    "plt.plot(cumulative_conversion['date'], \n",
    "         cumulative_conversion['conversionB'] / cumulative_conversion['conversionA'] - 1)\n",
    "\n",
    "plt.xlabel('Дата')\n",
    "plt.ylabel('Относительное изменение кумулятивной конверсии группы B к группе A')\n",
    "\n",
    "# добавляем ось X\n",
    "plt.axhline(y=0, color='blue', linestyle='--')\n",
    "plt.axhline(y=0.1, color='grey', linestyle='--')\n",
    "plt.axhline(y=0.2, color='grey', linestyle='--')\n",
    "\n",
    "# зададим масштаб оси y\n",
    "plt.ylim([-0.6, 0.6]);"
   ]
  },
  {
   "cell_type": "markdown",
   "metadata": {},
   "source": [
    "<div style=\"border:solid green 3px; padding: 20px\">\n",
    "    \n",
    "**Промежуточный вывод**\n",
    "    \n",
    "В начале теста конверсия группы B была ниже конверсии группы A, но после даты 05-08-2019 конверсия группы B была стабильно выше конверсии группы A. На основании графика можно сделать вывод, что отношение конверсии в целом установилось.\n",
    "    \n",
    "</div>"
   ]
  },
  {
   "cell_type": "markdown",
   "metadata": {},
   "source": [
    "#### Точечный график количества заказов по пользователям и расчет перцентилей"
   ]
  },
  {
   "cell_type": "code",
   "execution_count": 27,
   "metadata": {},
   "outputs": [
    {
     "data": {
      "text/html": [
       "<div>\n",
       "<style scoped>\n",
       "    .dataframe tbody tr th:only-of-type {\n",
       "        vertical-align: middle;\n",
       "    }\n",
       "\n",
       "    .dataframe tbody tr th {\n",
       "        vertical-align: top;\n",
       "    }\n",
       "\n",
       "    .dataframe thead th {\n",
       "        text-align: right;\n",
       "    }\n",
       "</style>\n",
       "<table border=\"1\" class=\"dataframe\">\n",
       "  <thead>\n",
       "    <tr style=\"text-align: right;\">\n",
       "      <th></th>\n",
       "      <th>visitorId</th>\n",
       "      <th>orders</th>\n",
       "    </tr>\n",
       "  </thead>\n",
       "  <tbody>\n",
       "    <tr>\n",
       "      <th>908</th>\n",
       "      <td>3967698036</td>\n",
       "      <td>3</td>\n",
       "    </tr>\n",
       "    <tr>\n",
       "      <th>55</th>\n",
       "      <td>249864742</td>\n",
       "      <td>3</td>\n",
       "    </tr>\n",
       "    <tr>\n",
       "      <th>478</th>\n",
       "      <td>2108163459</td>\n",
       "      <td>3</td>\n",
       "    </tr>\n",
       "    <tr>\n",
       "      <th>687</th>\n",
       "      <td>2988190573</td>\n",
       "      <td>3</td>\n",
       "    </tr>\n",
       "    <tr>\n",
       "      <th>890</th>\n",
       "      <td>3908431265</td>\n",
       "      <td>3</td>\n",
       "    </tr>\n",
       "    <tr>\n",
       "      <th>...</th>\n",
       "      <td>...</td>\n",
       "      <td>...</td>\n",
       "    </tr>\n",
       "    <tr>\n",
       "      <th>331</th>\n",
       "      <td>1438226485</td>\n",
       "      <td>1</td>\n",
       "    </tr>\n",
       "    <tr>\n",
       "      <th>332</th>\n",
       "      <td>1452540367</td>\n",
       "      <td>1</td>\n",
       "    </tr>\n",
       "    <tr>\n",
       "      <th>333</th>\n",
       "      <td>1455323168</td>\n",
       "      <td>1</td>\n",
       "    </tr>\n",
       "    <tr>\n",
       "      <th>334</th>\n",
       "      <td>1455861274</td>\n",
       "      <td>1</td>\n",
       "    </tr>\n",
       "    <tr>\n",
       "      <th>972</th>\n",
       "      <td>4283872382</td>\n",
       "      <td>1</td>\n",
       "    </tr>\n",
       "  </tbody>\n",
       "</table>\n",
       "<p>973 rows × 2 columns</p>\n",
       "</div>"
      ],
      "text/plain": [
       "      visitorId  orders\n",
       "908  3967698036       3\n",
       "55    249864742       3\n",
       "478  2108163459       3\n",
       "687  2988190573       3\n",
       "890  3908431265       3\n",
       "..          ...     ...\n",
       "331  1438226485       1\n",
       "332  1452540367       1\n",
       "333  1455323168       1\n",
       "334  1455861274       1\n",
       "972  4283872382       1\n",
       "\n",
       "[973 rows x 2 columns]"
      ]
     },
     "execution_count": 27,
     "metadata": {},
     "output_type": "execute_result"
    }
   ],
   "source": [
    "# посчитаем количество заказов по пользователям \n",
    "orders_by_users = (orders\n",
    "                   .groupby('visitorId', as_index=False)\n",
    "                   .agg({'transactionId':'nunique'})\n",
    "                  )\n",
    "orders_by_users.columns = ['visitorId','orders']\n",
    "orders_by_users.sort_values(by='orders', ascending=False)"
   ]
  },
  {
   "cell_type": "code",
   "execution_count": 28,
   "metadata": {},
   "outputs": [
    {
     "data": {
      "image/png": "[encoded data removed]",
      "text/plain": [
       "<Figure size 1296x648 with 1 Axes>"
      ]
     },
     "metadata": {
      "needs_background": "light"
     },
     "output_type": "display_data"
    }
   ],
   "source": [
    "# построим точечную диаграмму количества заказов по пользователям\n",
    "x_values = pd.Series(range(0, len(orders_by_users['visitorId'])))\n",
    "\n",
    "plt.figure(figsize=(18,9))\n",
    "plt.title('Точечный график количества заказов по пользователям')\n",
    "plt.scatter(x_values, orders_by_users['orders'])\n",
    "plt.xlabel('Номер пользователя')\n",
    "plt.ylabel('Количество заказов');"
   ]
  },
  {
   "cell_type": "code",
   "execution_count": 29,
   "metadata": {},
   "outputs": [
    {
     "name": "stdout",
     "output_type": "stream",
     "text": [
      "[1. 2.]\n"
     ]
    }
   ],
   "source": [
    "# определим 95 и 99 перцентили количества заказов по пользователям\n",
    "print(np.percentile(orders_by_users['orders'], [95, 99])) "
   ]
  },
  {
   "cell_type": "markdown",
   "metadata": {},
   "source": [
    "<div style=\"border:solid green 3px; padding: 20px\">\n",
    "    \n",
    "**Промежуточный вывод**\n",
    "    \n",
    "По графику видим, что имеется много пользователей с 2 и более заказами. \n",
    "    \n",
    "По значениям 95 и 99 перцентилей видим, что не более 5% пользователей оформляли больше, чем 1 заказ, и что не более 1% пользователей заказывали более 2-х раз.\n",
    "Выберем 1 заказ на одного пользователя за нижнюю границу числа заказов и отсеим аномальных пользователей по ней. \n",
    "    \n",
    "</div>"
   ]
  },
  {
   "cell_type": "markdown",
   "metadata": {},
   "source": [
    "#### Точечный график стоимостей заказов и расчет перцентилей"
   ]
  },
  {
   "cell_type": "code",
   "execution_count": 30,
   "metadata": {},
   "outputs": [
    {
     "data": {
      "image/png": "[encoded data removed]",
      "text/plain": [
       "<Figure size 1296x648 with 1 Axes>"
      ]
     },
     "metadata": {
      "needs_background": "light"
     },
     "output_type": "display_data"
    }
   ],
   "source": [
    "# оценим распределение стоимости заказов\n",
    "x_values = pd.Series(range(0, len(orders['revenue'])))\n",
    "\n",
    "plt.figure(figsize=(18,9))\n",
    "plt.title('Точечный график стоимостей заказов ')\n",
    "plt.scatter(x_values, orders['revenue'])\n",
    "plt.xlabel('Номер заказа')\n",
    "plt.ylabel('Стоимость заказа')\n",
    "plt.ticklabel_format(axis='y', style='plain');"
   ]
  },
  {
   "cell_type": "code",
   "execution_count": 31,
   "metadata": {},
   "outputs": [
    {
     "name": "stdout",
     "output_type": "stream",
     "text": [
      "[26785. 53904.]\n"
     ]
    }
   ],
   "source": [
    "# определим 95 и 99 перцентили стоимости заказов\n",
    "print(np.percentile(orders['revenue'], [95, 99])) "
   ]
  },
  {
   "cell_type": "markdown",
   "metadata": {},
   "source": [
    "<div style=\"border:solid green 3px; padding: 20px\">\n",
    "    \n",
    "**Промежуточный вывод**\n",
    "    \n",
    "По графику видим, что есть немного дорогих заказов. \n",
    "\n",
    "По значениям 95 и 99 перцентилей можно сделать вывод о том, что не более 5% заказов дороже 26 785 и не более 1% дороже 53 904. Примем за аномальных пользователей тех, кто совершил заказ на сумму свыше 26 785. Так мы отсеим до 5% заказов с наибольшей стоимостью.\n",
    "    \n",
    "</div>"
   ]
  },
  {
   "cell_type": "markdown",
   "metadata": {},
   "source": [
    "#### Расчет статистической значимости различий в конверсии между группами по «сырым» данным"
   ]
  },
  {
   "cell_type": "markdown",
   "metadata": {},
   "source": [
    "<div class=\"alert alert-block alert-info\">\n",
    "<font color='Black'>\n",
    "    \n",
    "Сформулируем гипотезы: \n",
    "- $Н_0$ нулевая: различий в конверсии между группами нет. \n",
    "- $Н_1$ альтернативная: различия в конверсии между группами есть."
   ]
  },
  {
   "cell_type": "code",
   "execution_count": 32,
   "metadata": {},
   "outputs": [],
   "source": [
    "# создадим переменные orders_by_users_A и orders_by_users_B со столбцами ['userId', 'orders']\n",
    "# в них для пользователей, которые заказывали хотя бы 1 раз, укажем число совершённых заказов\n",
    "orders_by_users_A = (orders[orders['group'] == 'A']\n",
    "                     .groupby('visitorId', as_index=False)\n",
    "                     .agg({'transactionId':'nunique'}))\n",
    "orders_by_users_A.columns = ['visitorId','orders']\n",
    "\n",
    "orders_by_users_B = (orders[orders['group'] == 'B']\n",
    "                     .groupby('visitorId', as_index=False)\n",
    "                     .agg({'transactionId':'nunique'}))\n",
    "orders_by_users_B.columns = ['visitorId','orders']"
   ]
  },
  {
   "cell_type": "code",
   "execution_count": 33,
   "metadata": {},
   "outputs": [],
   "source": [
    "# подготовим выборки к проверке критерием Манна-Уитни \n",
    "# объявим переменные sampleA и sampleB, \n",
    "# в которых пользователям из разных групп будет соответствовать количество заказов,\n",
    "# тем, кто ничего не заказал, будут соответствовать нули\n",
    "\n",
    "sampleA = pd.concat([orders_by_users_A['orders'], \n",
    "                     pd.Series(0, \n",
    "                               index = np.arange(visitors[visitors['group'] == 'A']['visitors'].sum() - \n",
    "                                                 len(orders_by_users_A['orders'])),\n",
    "                               name='orders')\n",
    "                    ], axis=0)\n",
    "\n",
    "sampleB = pd.concat([orders_by_users_B['orders'], \n",
    "                     pd.Series(0, \n",
    "                               index = np.arange(visitors[visitors['group'] == 'B']['visitors'].sum() - \n",
    "                                                 len(orders_by_users_B['orders'])),\n",
    "                               name='orders')\n",
    "                    ], axis=0)"
   ]
  },
  {
   "cell_type": "code",
   "execution_count": 34,
   "metadata": {},
   "outputs": [
    {
     "name": "stdout",
     "output_type": "stream",
     "text": [
      "p-значение:  0.011\n",
      "Отвергаем нулевую гипотезу: разница в конверсии между группами статистически значима\n"
     ]
    }
   ],
   "source": [
    "# воспользуемся критерием Манна-Уитни и найдем p-value\n",
    "alpha = 0.05\n",
    "p_value = stats.mannwhitneyu(sampleA, sampleB)[1]\n",
    "print('p-значение: ', '{0:.3f}'.format(p_value))\n",
    "if p_value < alpha:\n",
    "    print('Отвергаем нулевую гипотезу: разница в конверсии между группами статистически значима')\n",
    "else:\n",
    "    print('Не получилось отвергнуть нулевую гипотезу, вывод о различии в конверсии между группами сделать нельзя') "
   ]
  },
  {
   "cell_type": "code",
   "execution_count": 35,
   "metadata": {},
   "outputs": [
    {
     "name": "stdout",
     "output_type": "stream",
     "text": [
      "Прирост конверсии группы B относительно конверсии группы A: 0.160\n"
     ]
    }
   ],
   "source": [
    "# выведем прирост конверсии группы B относительно конверсии группы A\n",
    "print('Прирост конверсии группы B относительно конверсии группы A:', \n",
    "      '{0:.3f}'.format(sampleB.mean() / sampleA.mean() - 1))"
   ]
  },
  {
   "cell_type": "markdown",
   "metadata": {},
   "source": [
    "<div style=\"border:solid green 3px; padding: 20px\">\n",
    "    \n",
    "**Промежуточный вывод**\n",
    "    \n",
    "Для проверки гипотез воспользовались непараметрическим критерием Манна-Уитни, так как в нашем случае имеются выбросы в данных. Критический уровень статистической значимости установим в размере 5%.\n",
    "\n",
    "По «сырым» данным имеются различия в конверсии групп A и B. Относительный прирост конверсии группы B равен 16%.\n",
    "Значение p-value говорит о том, что различие в конверсии между группами статистически значимо. \n",
    "    \n",
    "</div>"
   ]
  },
  {
   "cell_type": "markdown",
   "metadata": {},
   "source": [
    "#### Расчет статистической значимости различий в среднем чеке заказа между группами по «сырым» данным"
   ]
  },
  {
   "cell_type": "markdown",
   "metadata": {},
   "source": [
    "<div class=\"alert alert-block alert-info\">\n",
    "<font color='Black'>\n",
    "    \n",
    "Сформулируем гипотезы: \n",
    "- $Н_0$ нулевая: различий в среднем чеке заказа между группами нет. \n",
    "- $Н_1$ альтернативная: различия в среднем чеке заказа между группами есть."
   ]
  },
  {
   "cell_type": "code",
   "execution_count": 36,
   "metadata": {},
   "outputs": [
    {
     "name": "stdout",
     "output_type": "stream",
     "text": [
      "p-значение:  0.829\n",
      "Не получилось отвергнуть нулевую гипотезу, вывод о различии в среднем чеке заказа между группами сделать нельзя\n"
     ]
    }
   ],
   "source": [
    "# воспользуемся критерием Манна-Уитни и найдем p-value\n",
    "alpha = 0.05\n",
    "p_value = stats.mannwhitneyu(orders[orders['group'] == 'A']['revenue'], \n",
    "                             orders[orders['group'] == 'B']['revenue'])[1]\n",
    "print('p-значение: ', '{0:.3f}'.format(p_value))\n",
    "if p_value < alpha:\n",
    "    print('Отвергаем нулевую гипотезу: разница в среднем чеке заказа между группами статистически значима')\n",
    "else:\n",
    "    print('Не получилось отвергнуть нулевую гипотезу, вывод о различии в среднем чеке заказа между группами сделать нельзя') "
   ]
  },
  {
   "cell_type": "code",
   "execution_count": 37,
   "metadata": {},
   "outputs": [
    {
     "name": "stdout",
     "output_type": "stream",
     "text": [
      "Прирост среднего чека группы B относительно среднего чека группы A: 0.287\n"
     ]
    }
   ],
   "source": [
    "# выведем прирост среднего чека группы B относительно среднего чека группы A\n",
    "print('Прирост среднего чека группы B относительно среднего чека группы A:', \n",
    "      '{0:.3f}'.format(orders[orders['group'] == 'B']['revenue'].mean() / \n",
    "                       orders[orders['group'] == 'A']['revenue'].mean() - 1))"
   ]
  },
  {
   "cell_type": "markdown",
   "metadata": {},
   "source": [
    "<div style=\"border:solid green 3px; padding: 20px\">\n",
    "    \n",
    "**Промежуточный вывод**\n",
    "\n",
    "Имеем, что средний чек группы B значительно выше среднего чека группы A - на 28.7%. Однако, значение p-value больше 0.05. Значит, причин отвергать нулевую гипотезу и считать, что в среднем чеке есть различия, нет, наблюдаемое различие в среднем чеке между группами не является статистически значимым.\n",
    "    \n",
    "</div>"
   ]
  },
  {
   "cell_type": "markdown",
   "metadata": {},
   "source": [
    "#### Расчет статистической значимости различий в конверсии между группами по «очищенным» данным"
   ]
  },
  {
   "cell_type": "code",
   "execution_count": 38,
   "metadata": {},
   "outputs": [
    {
     "data": {
      "text/plain": [
       "86"
      ]
     },
     "execution_count": 38,
     "metadata": {},
     "output_type": "execute_result"
    }
   ],
   "source": [
    "# найдем пользователей, у которых количество заказов больше 1, либо у которых стоимость заказа превысила 26785\n",
    "orders_limit = np.percentile(orders_by_users['orders'], 95)\n",
    "revenue_limit = np.percentile(orders['revenue'], 95)\n",
    "\n",
    "users_filtered_by_orders = pd.concat([orders_by_users_A[orders_by_users_A['orders'] > orders_limit]['visitorId'],\n",
    "                                      orders_by_users_B[orders_by_users_B['orders'] > orders_limit]['visitorId']], \n",
    "                                      axis=0)\n",
    "\n",
    "users_filtered_by_revenue = orders[orders['revenue'] > revenue_limit]['visitorId']\n",
    "\n",
    "abnormal_users = (pd.concat([users_filtered_by_orders, users_filtered_by_revenue], axis=0)\n",
    "                  .drop_duplicates()  \n",
    "                  .sort_values())\n",
    "\n",
    "# найдем количество аномальных пользователей\n",
    "abnormal_users.shape[0]                       "
   ]
  },
  {
   "cell_type": "code",
   "execution_count": 39,
   "metadata": {},
   "outputs": [],
   "source": [
    "# подготовим очищенные выборки к проверке критерием Манна-Уитни \n",
    "# объявим переменные sampleA_filtered и sampleB_filtered, \n",
    "# в которых пользователям из разных групп будет соответствовать количество заказов,\n",
    "# тем, кто ничего не заказал, будут соответствовать нули,\n",
    "# исключим из выборки аномальных пользователей \n",
    "\n",
    "sampleA_filtered = pd.concat([orders_by_users_A[np.logical_not(orders_by_users_A['visitorId']\n",
    "                                                               .isin(abnormal_users))]['orders'], \n",
    "                              pd.Series(0, \n",
    "                                        index = np.arange(visitors[visitors['group'] == 'A']['visitors'].sum() - \n",
    "                                                len(orders_by_users_A['orders'])),\n",
    "                                        name='orders')\n",
    "                             ], axis=0)\n",
    "\n",
    "sampleB_filtered = pd.concat([orders_by_users_B[np.logical_not(orders_by_users_B['visitorId']\n",
    "                                                               .isin(abnormal_users))]['orders'], \n",
    "                              pd.Series(0, \n",
    "                                        index = np.arange(visitors[visitors['group'] == 'B']['visitors'].sum() - \n",
    "                                                len(orders_by_users_B['orders'])),\n",
    "                                        name='orders')\n",
    "                             ], axis=0)"
   ]
  },
  {
   "cell_type": "code",
   "execution_count": 40,
   "metadata": {
    "scrolled": true
   },
   "outputs": [
    {
     "name": "stdout",
     "output_type": "stream",
     "text": [
      "p-значение:  0.016\n",
      "Отвергаем нулевую гипотезу: по очищенным данным разница в конверсии между группами статистически значима\n"
     ]
    }
   ],
   "source": [
    "# воспользуемся критерием Манна-Уитни и найдем p-value\n",
    "alpha = 0.05\n",
    "p_value = stats.mannwhitneyu(sampleA_filtered, sampleB_filtered)[1]\n",
    "print('p-значение: ', '{0:.3f}'.format(p_value))\n",
    "if p_value < alpha:\n",
    "    print('Отвергаем нулевую гипотезу: по очищенным данным разница в конверсии между группами статистически значима')\n",
    "else:\n",
    "    print('Не получилось отвергнуть нулевую гипотезу, по очищенным данным вывод о различии в конверсии между группами сделать нельзя') "
   ]
  },
  {
   "cell_type": "code",
   "execution_count": 41,
   "metadata": {},
   "outputs": [
    {
     "name": "stdout",
     "output_type": "stream",
     "text": [
      "Прирост конверсии группы B относительно конверсии группы A по очищенным данным: 0.174\n"
     ]
    }
   ],
   "source": [
    "# выведем прирост конверсии группы B относительно конверсии группы A\n",
    "print('Прирост конверсии группы B относительно конверсии группы A по очищенным данным:', \n",
    "      '{0:.3f}'.format(sampleB_filtered.mean() / sampleA_filtered.mean() - 1))"
   ]
  },
  {
   "cell_type": "markdown",
   "metadata": {},
   "source": [
    "<div style=\"border:solid green 3px; padding: 20px\">\n",
    "    \n",
    "**Промежуточный вывод**\n",
    "    \n",
    "По «очищенным» данным, также как и по «сырым» данным, имеются различия в конверсии групп A и B. По «очищенным» данным относительный прирост конверсии группы B равен 17.4% и он незначительно выше, чем по «сырым» данным (16%).\n",
    "Значение p-value говорит о том, что различие в конверсии между группами статистически значимо. \n",
    "    \n",
    "</div>"
   ]
  },
  {
   "cell_type": "markdown",
   "metadata": {},
   "source": [
    "#### Расчет статистической значимости различий в среднем чеке заказа между группами по «очищенным» данным"
   ]
  },
  {
   "cell_type": "code",
   "execution_count": 42,
   "metadata": {},
   "outputs": [
    {
     "name": "stdout",
     "output_type": "stream",
     "text": [
      "p-значение:  0.727\n",
      "Не получилось отвергнуть нулевую гипотезу, по очищенным данным вывод о различии в среднем чеке заказа между группами сделать нельзя\n"
     ]
    }
   ],
   "source": [
    "# воспользуемся критерием Манна-Уитни и найдем p-value\n",
    "alpha = 0.05\n",
    "p_value = stats.mannwhitneyu(orders[np.logical_and(orders['group'] == 'A',\n",
    "                                                   np.logical_not(orders['visitorId'].isin(abnormal_users)))]\n",
    "                                   ['revenue'], \n",
    "                             orders[np.logical_and(orders['group'] == 'B',\n",
    "                                                   np.logical_not(orders['visitorId'].isin(abnormal_users)))]\n",
    "                                   ['revenue']\n",
    "                            )[1]\n",
    "\n",
    "print('p-значение: ', '{0:.3f}'.format(p_value))\n",
    "if p_value < alpha:\n",
    "    print('Отвергаем нулевую гипотезу: по очищенным данным разница в среднем чеке заказа между группами статистически значима')\n",
    "else:\n",
    "    print('Не получилось отвергнуть нулевую гипотезу,' \n",
    "          ' по очищенным данным вывод о различии в среднем чеке заказа между группами сделать нельзя')"
   ]
  },
  {
   "cell_type": "code",
   "execution_count": 43,
   "metadata": {},
   "outputs": [
    {
     "name": "stdout",
     "output_type": "stream",
     "text": [
      "По очищенным данным прирост среднего чека группы B относительно среднего чека группы A: -0.034\n"
     ]
    }
   ],
   "source": [
    "# выведем прирост среднего чека группы B относительно среднего чека группы A\n",
    "print('По очищенным данным прирост среднего чека группы B относительно среднего чека группы A:', \n",
    "      '{0:.3f}'.format((orders[np.logical_and(orders['group'] == 'B',\n",
    "                                             np.logical_not(orders['visitorId'].isin(abnormal_users)))]\n",
    "                       ['revenue'].mean()) / \n",
    "                       (orders[np.logical_and(orders['group'] == 'A',\n",
    "                                             np.logical_not(orders['visitorId'].isin(abnormal_users)))]\n",
    "                       ['revenue'].mean()) - 1))"
   ]
  },
  {
   "cell_type": "markdown",
   "metadata": {},
   "source": [
    "<div style=\"border:solid green 3px; padding: 20px\">\n",
    "    \n",
    "**Промежуточный вывод**\n",
    "\n",
    "По «очищенным» данным средний чек группы B немного ниже среднего чека группы A - на 3.4% (по «сырым» данным средний чек группы B значительно выше среднего чека группы A - на 28.7%). Такое снижение прироста объясняется тем, что мы исключили из расчета заказы с аномально высокой стоимостью. \n",
    "\n",
    "По «очищенным» данным, также как и по «сырым» данным, p-value значительно больше 0.05. Значит, причин отвергать нулевую гипотезу и считать, что в среднем чеке есть различия, нет, наблюдаемое различие в среднем чеке между группами не является статистически значимым.\n",
    "    \n",
    "</div>"
   ]
  },
  {
   "cell_type": "markdown",
   "metadata": {},
   "source": [
    "##  Общие выводы"
   ]
  },
  {
   "cell_type": "markdown",
   "metadata": {},
   "source": [
    "<div style=\"border:solid green 3px; padding: 20px\">\n",
    "    \n",
    "**Общие выводы**\n",
    "    \n",
    "- **Краткий обзор проекта** \n",
    "    \n",
    "    1. На основе списка гипотез для увеличения выручки приоритизировали гипотезы, используя фреймворки ICE и RICE. \n",
    "       \n",
    "    2. Провели анализ результатов A/B-теста.\n",
    "\n",
    "   \n",
    "- **Главные выводы** \n",
    "    \n",
    "    1. В соответствии с фреймворком RICE гипотеза 7 \"*Добавить форму подписки на все основные страницы, чтобы собрать базу клиентов для email-рассылок*\" является наиболее перспективной.\n",
    "    \n",
    "    --------\n",
    "    2. В процессе анализа результатов A/B-теста установили, что имеется статистически значимое различие по конверсии между группами как по сырым данным, так и по очищенным от аномалий данным.\n",
    "    \n",
    "    Как по сырым, так и по очищенным данным нет статистически значимого различия по среднему чеку между группами. После фильтрации аномалий прирост среднего чека по группе B относительно среднего чека по группе A отрицательный, он составил всего -3.4%.\n",
    "    \n",
    "    График различия конверсии между группами говорит о том, что результаты группы B лучше группы A: ближе к концу теста можно судить, что данные результаты в целом зафиксировались.\n",
    "    \n",
    "    График различия среднего чека сильно колеблется. Сделать из этого графика определённые выводы нельзя.\n",
    "    \n",
    "  --------\n",
    "- **Рекомендации**\n",
    "    \n",
    "    Исходя из описанных выше фактов рекомендуется остановить тест и признать его успешным. \n",
    "    \n",
    "    На этапе предобработки данных выявили 58 пользователей среди тех, кто сделал заказ и попал одновременно в обе группы. Доля данных пользователей от общего количества пользователей, сделавших заказ, составила 5.63%, что незначительно. Данные пользователи были исключены из дальнейшего анализа. Рекомендуется проверить корректность алгоритма разнесения пользователей по группам. \n",
    "   \n",
    "    \n",
    "</div>"
   ]
  }
 ],
 "metadata": {
  "ExecuteTimeLog": [
   {
    "duration": 1367,
    "start_time": "2022-05-02T13:51:03.985Z"
   },
   {
    "duration": 170,
    "start_time": "2022-05-02T13:51:54.463Z"
   },
   {
    "duration": 3,
    "start_time": "2022-05-02T13:54:03.057Z"
   },
   {
    "duration": 25,
    "start_time": "2022-05-02T13:55:16.530Z"
   },
   {
    "duration": 11,
    "start_time": "2022-05-02T13:55:59.458Z"
   },
   {
    "duration": 5,
    "start_time": "2022-05-02T14:01:57.196Z"
   },
   {
    "duration": 13,
    "start_time": "2022-05-02T14:04:09.356Z"
   },
   {
    "duration": 11,
    "start_time": "2022-05-02T14:04:50.018Z"
   },
   {
    "duration": 3,
    "start_time": "2022-05-02T14:05:52.105Z"
   },
   {
    "duration": 20,
    "start_time": "2022-05-02T14:05:56.622Z"
   },
   {
    "duration": 3044,
    "start_time": "2022-05-02T14:06:04.577Z"
   },
   {
    "duration": 1200,
    "start_time": "2022-05-02T14:06:21.357Z"
   },
   {
    "duration": 2,
    "start_time": "2022-05-02T14:06:22.559Z"
   },
   {
    "duration": 46,
    "start_time": "2022-05-02T14:06:22.563Z"
   },
   {
    "duration": 11,
    "start_time": "2022-05-02T14:06:22.611Z"
   },
   {
    "duration": 8,
    "start_time": "2022-05-02T14:06:22.624Z"
   },
   {
    "duration": 16,
    "start_time": "2022-05-02T14:06:22.634Z"
   },
   {
    "duration": 12,
    "start_time": "2022-05-02T14:07:42.981Z"
   },
   {
    "duration": 68,
    "start_time": "2022-05-02T14:31:15.480Z"
   },
   {
    "duration": 60,
    "start_time": "2022-05-02T14:31:41.560Z"
   },
   {
    "duration": 116,
    "start_time": "2022-05-02T14:32:40.146Z"
   },
   {
    "duration": 19,
    "start_time": "2022-05-02T14:32:51.712Z"
   },
   {
    "duration": 1197,
    "start_time": "2022-05-02T14:40:30.912Z"
   },
   {
    "duration": 3,
    "start_time": "2022-05-02T14:40:50.839Z"
   },
   {
    "duration": 708,
    "start_time": "2022-05-02T14:40:59.664Z"
   },
   {
    "duration": 12,
    "start_time": "2022-05-02T14:41:17.860Z"
   },
   {
    "duration": 703,
    "start_time": "2022-05-02T14:41:35.284Z"
   },
   {
    "duration": 1213,
    "start_time": "2022-05-02T14:42:11.623Z"
   },
   {
    "duration": 3,
    "start_time": "2022-05-02T14:42:12.838Z"
   },
   {
    "duration": 30,
    "start_time": "2022-05-02T14:42:12.842Z"
   },
   {
    "duration": 11,
    "start_time": "2022-05-02T14:42:12.874Z"
   },
   {
    "duration": 10,
    "start_time": "2022-05-02T14:42:12.887Z"
   },
   {
    "duration": 14,
    "start_time": "2022-05-02T14:42:12.899Z"
   },
   {
    "duration": 30,
    "start_time": "2022-05-02T14:42:12.915Z"
   },
   {
    "duration": 59,
    "start_time": "2022-05-02T14:42:12.947Z"
   },
   {
    "duration": 17,
    "start_time": "2022-05-02T14:42:13.007Z"
   },
   {
    "duration": 18,
    "start_time": "2022-05-02T14:42:13.027Z"
   },
   {
    "duration": 24,
    "start_time": "2022-05-02T14:42:13.047Z"
   },
   {
    "duration": 18,
    "start_time": "2022-05-02T14:43:53.462Z"
   },
   {
    "duration": 9,
    "start_time": "2022-05-02T14:44:59.060Z"
   },
   {
    "duration": 2642,
    "start_time": "2022-05-03T10:00:26.006Z"
   },
   {
    "duration": 4,
    "start_time": "2022-05-03T10:00:28.652Z"
   },
   {
    "duration": 37,
    "start_time": "2022-05-03T10:00:28.659Z"
   },
   {
    "duration": 17,
    "start_time": "2022-05-03T10:00:28.699Z"
   },
   {
    "duration": 13,
    "start_time": "2022-05-03T10:00:28.718Z"
   },
   {
    "duration": 41,
    "start_time": "2022-05-03T10:00:28.733Z"
   },
   {
    "duration": 33,
    "start_time": "2022-05-03T10:00:28.777Z"
   },
   {
    "duration": 102,
    "start_time": "2022-05-03T10:00:28.812Z"
   },
   {
    "duration": 34,
    "start_time": "2022-05-03T10:00:28.917Z"
   },
   {
    "duration": 44,
    "start_time": "2022-05-03T10:00:28.955Z"
   },
   {
    "duration": 26,
    "start_time": "2022-05-03T10:00:29.002Z"
   },
   {
    "duration": 12,
    "start_time": "2022-05-03T10:00:29.031Z"
   },
   {
    "duration": 7,
    "start_time": "2022-05-03T10:02:23.838Z"
   },
   {
    "duration": 137,
    "start_time": "2022-05-03T10:02:29.662Z"
   },
   {
    "duration": 6,
    "start_time": "2022-05-03T10:02:33.253Z"
   },
   {
    "duration": 7,
    "start_time": "2022-05-03T10:02:42.066Z"
   },
   {
    "duration": 11,
    "start_time": "2022-05-03T10:03:03.718Z"
   },
   {
    "duration": 7,
    "start_time": "2022-05-03T10:03:21.302Z"
   },
   {
    "duration": 9,
    "start_time": "2022-05-03T10:03:38.455Z"
   },
   {
    "duration": 9,
    "start_time": "2022-05-03T10:04:48.555Z"
   },
   {
    "duration": 10,
    "start_time": "2022-05-03T10:05:15.160Z"
   },
   {
    "duration": 9,
    "start_time": "2022-05-03T10:05:29.455Z"
   },
   {
    "duration": 7,
    "start_time": "2022-05-03T10:06:19.616Z"
   },
   {
    "duration": 7,
    "start_time": "2022-05-03T10:06:27.000Z"
   },
   {
    "duration": 9,
    "start_time": "2022-05-03T10:07:00.396Z"
   },
   {
    "duration": 9,
    "start_time": "2022-05-03T10:07:05.531Z"
   },
   {
    "duration": 11,
    "start_time": "2022-05-03T10:11:03.222Z"
   },
   {
    "duration": 10,
    "start_time": "2022-05-03T10:11:09.998Z"
   },
   {
    "duration": 14,
    "start_time": "2022-05-03T10:11:34.683Z"
   },
   {
    "duration": 11,
    "start_time": "2022-05-03T10:12:53.037Z"
   },
   {
    "duration": 3383,
    "start_time": "2022-05-03T10:14:25.234Z"
   },
   {
    "duration": 11,
    "start_time": "2022-05-03T10:14:53.522Z"
   },
   {
    "duration": 11,
    "start_time": "2022-05-03T10:15:09.122Z"
   },
   {
    "duration": 11,
    "start_time": "2022-05-03T10:15:48.338Z"
   },
   {
    "duration": 12,
    "start_time": "2022-05-03T10:16:40.358Z"
   },
   {
    "duration": 11,
    "start_time": "2022-05-03T10:17:00.821Z"
   },
   {
    "duration": 8,
    "start_time": "2022-05-03T10:17:25.043Z"
   },
   {
    "duration": 8,
    "start_time": "2022-05-03T10:24:01.645Z"
   },
   {
    "duration": 26,
    "start_time": "2022-05-03T10:24:16.097Z"
   },
   {
    "duration": 19,
    "start_time": "2022-05-03T10:24:44.953Z"
   },
   {
    "duration": 38,
    "start_time": "2022-05-03T10:36:04.492Z"
   },
   {
    "duration": 272,
    "start_time": "2022-05-03T10:36:16.172Z"
   },
   {
    "duration": 34,
    "start_time": "2022-05-03T10:43:05.810Z"
   },
   {
    "duration": 223,
    "start_time": "2022-05-03T10:43:24.813Z"
   },
   {
    "duration": 32,
    "start_time": "2022-05-03T10:47:47.559Z"
   },
   {
    "duration": 30,
    "start_time": "2022-05-03T10:48:07.744Z"
   },
   {
    "duration": 219,
    "start_time": "2022-05-03T10:48:24.735Z"
   },
   {
    "duration": 10,
    "start_time": "2022-05-03T10:48:39.008Z"
   },
   {
    "duration": 25,
    "start_time": "2022-05-03T10:48:44.548Z"
   },
   {
    "duration": 3429,
    "start_time": "2022-05-03T10:53:28.297Z"
   },
   {
    "duration": 3222,
    "start_time": "2022-05-03T10:53:42.001Z"
   },
   {
    "duration": 385,
    "start_time": "2022-05-03T10:54:51.834Z"
   },
   {
    "duration": 289,
    "start_time": "2022-05-03T10:55:42.986Z"
   },
   {
    "duration": 263,
    "start_time": "2022-05-03T10:55:51.558Z"
   },
   {
    "duration": 20,
    "start_time": "2022-05-03T10:56:18.285Z"
   },
   {
    "duration": 389,
    "start_time": "2022-05-03T10:56:54.907Z"
   },
   {
    "duration": 408,
    "start_time": "2022-05-03T10:57:21.667Z"
   },
   {
    "duration": 398,
    "start_time": "2022-05-03T11:00:13.679Z"
   },
   {
    "duration": 382,
    "start_time": "2022-05-03T11:07:10.361Z"
   },
   {
    "duration": 444,
    "start_time": "2022-05-03T11:17:51.640Z"
   },
   {
    "duration": 208,
    "start_time": "2022-05-03T11:23:17.146Z"
   },
   {
    "duration": 392,
    "start_time": "2022-05-03T11:23:26.576Z"
   },
   {
    "duration": 386,
    "start_time": "2022-05-03T11:23:58.482Z"
   },
   {
    "duration": 565,
    "start_time": "2022-05-03T11:24:27.559Z"
   },
   {
    "duration": 418,
    "start_time": "2022-05-03T11:32:36.552Z"
   },
   {
    "duration": 441,
    "start_time": "2022-05-03T11:33:20.335Z"
   },
   {
    "duration": 450,
    "start_time": "2022-05-03T11:34:11.669Z"
   },
   {
    "duration": 433,
    "start_time": "2022-05-03T11:34:44.390Z"
   },
   {
    "duration": 428,
    "start_time": "2022-05-03T11:35:02.445Z"
   },
   {
    "duration": 369,
    "start_time": "2022-05-03T11:35:18.157Z"
   },
   {
    "duration": 553,
    "start_time": "2022-05-03T11:35:27.886Z"
   },
   {
    "duration": 476,
    "start_time": "2022-05-03T11:35:32.241Z"
   },
   {
    "duration": 520,
    "start_time": "2022-05-03T11:48:06.966Z"
   },
   {
    "duration": 481,
    "start_time": "2022-05-03T11:49:19.674Z"
   },
   {
    "duration": 485,
    "start_time": "2022-05-03T11:52:57.186Z"
   },
   {
    "duration": 500,
    "start_time": "2022-05-03T11:53:09.970Z"
   },
   {
    "duration": 700,
    "start_time": "2022-05-03T11:53:48.887Z"
   },
   {
    "duration": 12,
    "start_time": "2022-05-03T12:03:11.038Z"
   },
   {
    "duration": 186,
    "start_time": "2022-05-03T12:03:40.949Z"
   },
   {
    "duration": 293,
    "start_time": "2022-05-03T12:04:27.410Z"
   },
   {
    "duration": 300,
    "start_time": "2022-05-03T12:04:30.471Z"
   },
   {
    "duration": 6,
    "start_time": "2022-05-03T12:09:08.243Z"
   },
   {
    "duration": 3,
    "start_time": "2022-05-03T14:30:56.227Z"
   },
   {
    "duration": 1391,
    "start_time": "2022-05-03T14:31:02.331Z"
   },
   {
    "duration": 3,
    "start_time": "2022-05-03T14:31:03.724Z"
   },
   {
    "duration": 27,
    "start_time": "2022-05-03T14:31:03.728Z"
   },
   {
    "duration": 10,
    "start_time": "2022-05-03T14:31:03.757Z"
   },
   {
    "duration": 7,
    "start_time": "2022-05-03T14:31:03.769Z"
   },
   {
    "duration": 13,
    "start_time": "2022-05-03T14:31:03.778Z"
   },
   {
    "duration": 10,
    "start_time": "2022-05-03T14:31:03.793Z"
   },
   {
    "duration": 79,
    "start_time": "2022-05-03T14:31:03.805Z"
   },
   {
    "duration": 16,
    "start_time": "2022-05-03T14:31:03.885Z"
   },
   {
    "duration": 13,
    "start_time": "2022-05-03T14:31:03.903Z"
   },
   {
    "duration": 21,
    "start_time": "2022-05-03T14:31:03.918Z"
   },
   {
    "duration": 6,
    "start_time": "2022-05-03T14:31:03.941Z"
   },
   {
    "duration": 6,
    "start_time": "2022-05-03T14:31:03.948Z"
   },
   {
    "duration": 7,
    "start_time": "2022-05-03T14:31:03.957Z"
   },
   {
    "duration": 11,
    "start_time": "2022-05-03T14:31:03.966Z"
   },
   {
    "duration": 192,
    "start_time": "2022-05-03T14:31:03.979Z"
   },
   {
    "duration": 153,
    "start_time": "2022-05-03T14:31:04.173Z"
   },
   {
    "duration": 16,
    "start_time": "2022-05-03T14:31:04.328Z"
   },
   {
    "duration": 559,
    "start_time": "2022-05-03T14:31:04.346Z"
   },
   {
    "duration": 417,
    "start_time": "2022-05-03T14:31:04.908Z"
   },
   {
    "duration": 509,
    "start_time": "2022-05-03T14:31:05.327Z"
   },
   {
    "duration": 429,
    "start_time": "2022-05-03T14:31:05.838Z"
   },
   {
    "duration": 365,
    "start_time": "2022-05-03T14:31:06.269Z"
   },
   {
    "duration": 3,
    "start_time": "2022-05-03T14:31:06.636Z"
   },
   {
    "duration": 187,
    "start_time": "2022-05-03T14:31:06.641Z"
   },
   {
    "duration": 4,
    "start_time": "2022-05-03T14:31:06.830Z"
   },
   {
    "duration": 16,
    "start_time": "2022-05-03T14:34:44.315Z"
   },
   {
    "duration": 16,
    "start_time": "2022-05-03T14:35:28.408Z"
   },
   {
    "duration": 230,
    "start_time": "2022-05-03T14:37:45.897Z"
   },
   {
    "duration": 8,
    "start_time": "2022-05-03T14:39:03.477Z"
   },
   {
    "duration": 228,
    "start_time": "2022-05-03T14:53:58.557Z"
   },
   {
    "duration": 178,
    "start_time": "2022-05-03T14:54:30.308Z"
   },
   {
    "duration": 226,
    "start_time": "2022-05-03T15:13:30.019Z"
   },
   {
    "duration": 201,
    "start_time": "2022-05-03T15:13:55.466Z"
   },
   {
    "duration": 218,
    "start_time": "2022-05-03T15:14:07.283Z"
   },
   {
    "duration": 11,
    "start_time": "2022-05-03T15:14:24.699Z"
   },
   {
    "duration": 105,
    "start_time": "2022-05-03T15:24:08.274Z"
   },
   {
    "duration": 9,
    "start_time": "2022-05-03T15:25:14.937Z"
   },
   {
    "duration": 3,
    "start_time": "2022-05-03T15:27:25.010Z"
   },
   {
    "duration": 26,
    "start_time": "2022-05-03T15:28:01.358Z"
   },
   {
    "duration": 4,
    "start_time": "2022-05-03T15:28:47.424Z"
   },
   {
    "duration": 24,
    "start_time": "2022-05-03T15:32:02.928Z"
   },
   {
    "duration": 23,
    "start_time": "2022-05-03T15:33:32.588Z"
   },
   {
    "duration": 23,
    "start_time": "2022-05-03T15:35:09.350Z"
   },
   {
    "duration": 4,
    "start_time": "2022-05-03T15:36:26.061Z"
   },
   {
    "duration": 4,
    "start_time": "2022-05-03T15:36:34.206Z"
   },
   {
    "duration": 10,
    "start_time": "2022-05-03T16:52:34.031Z"
   },
   {
    "duration": 6,
    "start_time": "2022-05-03T16:56:29.832Z"
   },
   {
    "duration": 1242,
    "start_time": "2022-05-03T17:02:21.731Z"
   },
   {
    "duration": 3,
    "start_time": "2022-05-03T17:02:22.975Z"
   },
   {
    "duration": 38,
    "start_time": "2022-05-03T17:02:22.980Z"
   },
   {
    "duration": 10,
    "start_time": "2022-05-03T17:02:23.021Z"
   },
   {
    "duration": 6,
    "start_time": "2022-05-03T17:02:23.034Z"
   },
   {
    "duration": 12,
    "start_time": "2022-05-03T17:02:23.042Z"
   },
   {
    "duration": 14,
    "start_time": "2022-05-03T17:02:23.056Z"
   },
   {
    "duration": 99,
    "start_time": "2022-05-03T17:02:23.072Z"
   },
   {
    "duration": 18,
    "start_time": "2022-05-03T17:02:23.172Z"
   },
   {
    "duration": 14,
    "start_time": "2022-05-03T17:02:23.193Z"
   },
   {
    "duration": 19,
    "start_time": "2022-05-03T17:02:23.209Z"
   },
   {
    "duration": 7,
    "start_time": "2022-05-03T17:02:23.230Z"
   },
   {
    "duration": 7,
    "start_time": "2022-05-03T17:02:23.238Z"
   },
   {
    "duration": 12,
    "start_time": "2022-05-03T17:02:23.247Z"
   },
   {
    "duration": 14,
    "start_time": "2022-05-03T17:02:23.261Z"
   },
   {
    "duration": 187,
    "start_time": "2022-05-03T17:02:23.277Z"
   },
   {
    "duration": 129,
    "start_time": "2022-05-03T17:02:23.465Z"
   },
   {
    "duration": 30,
    "start_time": "2022-05-03T17:02:23.596Z"
   },
   {
    "duration": 315,
    "start_time": "2022-05-03T17:02:23.628Z"
   },
   {
    "duration": 244,
    "start_time": "2022-05-03T17:02:23.945Z"
   },
   {
    "duration": 398,
    "start_time": "2022-05-03T17:02:24.191Z"
   },
   {
    "duration": 231,
    "start_time": "2022-05-03T17:02:24.591Z"
   },
   {
    "duration": 370,
    "start_time": "2022-05-03T17:02:24.824Z"
   },
   {
    "duration": 12,
    "start_time": "2022-05-03T17:02:25.195Z"
   },
   {
    "duration": 182,
    "start_time": "2022-05-03T17:02:25.209Z"
   },
   {
    "duration": 4,
    "start_time": "2022-05-03T17:02:25.392Z"
   },
   {
    "duration": 183,
    "start_time": "2022-05-03T17:02:25.398Z"
   },
   {
    "duration": 4,
    "start_time": "2022-05-03T17:02:25.585Z"
   },
   {
    "duration": 12,
    "start_time": "2022-05-03T17:02:25.590Z"
   },
   {
    "duration": 25,
    "start_time": "2022-05-03T17:02:25.604Z"
   },
   {
    "duration": 25,
    "start_time": "2022-05-03T17:02:25.631Z"
   },
   {
    "duration": 4,
    "start_time": "2022-05-03T17:02:25.658Z"
   },
   {
    "duration": 11,
    "start_time": "2022-05-03T17:02:25.664Z"
   },
   {
    "duration": 7,
    "start_time": "2022-05-03T17:02:25.677Z"
   },
   {
    "duration": 1794,
    "start_time": "2022-05-04T06:01:31.318Z"
   },
   {
    "duration": 4,
    "start_time": "2022-05-04T06:01:33.115Z"
   },
   {
    "duration": 34,
    "start_time": "2022-05-04T06:01:33.121Z"
   },
   {
    "duration": 16,
    "start_time": "2022-05-04T06:01:33.159Z"
   },
   {
    "duration": 9,
    "start_time": "2022-05-04T06:01:33.177Z"
   },
   {
    "duration": 26,
    "start_time": "2022-05-04T06:01:33.188Z"
   },
   {
    "duration": 44,
    "start_time": "2022-05-04T06:01:33.216Z"
   },
   {
    "duration": 44,
    "start_time": "2022-05-04T06:01:33.262Z"
   },
   {
    "duration": 27,
    "start_time": "2022-05-04T06:01:33.308Z"
   },
   {
    "duration": 20,
    "start_time": "2022-05-04T06:01:33.351Z"
   },
   {
    "duration": 27,
    "start_time": "2022-05-04T06:01:33.373Z"
   },
   {
    "duration": 9,
    "start_time": "2022-05-04T06:01:33.402Z"
   },
   {
    "duration": 40,
    "start_time": "2022-05-04T06:01:33.413Z"
   },
   {
    "duration": 13,
    "start_time": "2022-05-04T06:01:33.455Z"
   },
   {
    "duration": 17,
    "start_time": "2022-05-04T06:01:33.471Z"
   },
   {
    "duration": 307,
    "start_time": "2022-05-04T06:01:33.490Z"
   },
   {
    "duration": 228,
    "start_time": "2022-05-04T06:01:33.800Z"
   },
   {
    "duration": 40,
    "start_time": "2022-05-04T06:01:34.031Z"
   },
   {
    "duration": 563,
    "start_time": "2022-05-04T06:01:34.073Z"
   },
   {
    "duration": 420,
    "start_time": "2022-05-04T06:01:34.639Z"
   },
   {
    "duration": 543,
    "start_time": "2022-05-04T06:01:35.061Z"
   },
   {
    "duration": 403,
    "start_time": "2022-05-04T06:01:35.606Z"
   },
   {
    "duration": 562,
    "start_time": "2022-05-04T06:01:36.012Z"
   },
   {
    "duration": 17,
    "start_time": "2022-05-04T06:01:36.576Z"
   },
   {
    "duration": 321,
    "start_time": "2022-05-04T06:01:36.595Z"
   },
   {
    "duration": 5,
    "start_time": "2022-05-04T06:01:36.918Z"
   },
   {
    "duration": 347,
    "start_time": "2022-05-04T06:01:36.925Z"
   },
   {
    "duration": 6,
    "start_time": "2022-05-04T06:01:37.277Z"
   },
   {
    "duration": 22,
    "start_time": "2022-05-04T06:01:37.285Z"
   },
   {
    "duration": 11,
    "start_time": "2022-05-04T06:01:37.309Z"
   },
   {
    "duration": 55,
    "start_time": "2022-05-04T06:01:37.322Z"
   },
   {
    "duration": 6,
    "start_time": "2022-05-04T06:01:37.379Z"
   },
   {
    "duration": 26,
    "start_time": "2022-05-04T06:01:37.387Z"
   },
   {
    "duration": 13,
    "start_time": "2022-05-04T06:01:37.415Z"
   },
   {
    "duration": 521,
    "start_time": "2022-05-04T06:01:58.810Z"
   },
   {
    "duration": 521,
    "start_time": "2022-05-04T06:02:13.642Z"
   },
   {
    "duration": 104,
    "start_time": "2022-05-04T06:14:14.278Z"
   },
   {
    "duration": 14,
    "start_time": "2022-05-04T06:14:34.072Z"
   },
   {
    "duration": 146,
    "start_time": "2022-05-04T06:15:05.255Z"
   },
   {
    "duration": 13,
    "start_time": "2022-05-04T06:15:11.270Z"
   },
   {
    "duration": 15,
    "start_time": "2022-05-04T06:15:19.542Z"
   },
   {
    "duration": 12,
    "start_time": "2022-05-04T06:15:54.219Z"
   },
   {
    "duration": 13,
    "start_time": "2022-05-04T06:25:28.252Z"
   },
   {
    "duration": 20,
    "start_time": "2022-05-04T06:25:34.165Z"
   },
   {
    "duration": 50,
    "start_time": "2022-05-04T06:25:34.677Z"
   },
   {
    "duration": 5,
    "start_time": "2022-05-04T06:26:27.976Z"
   },
   {
    "duration": 15,
    "start_time": "2022-05-04T06:36:56.593Z"
   },
   {
    "duration": 8,
    "start_time": "2022-05-04T06:38:41.159Z"
   },
   {
    "duration": 13,
    "start_time": "2022-05-04T06:40:56.386Z"
   },
   {
    "duration": 16,
    "start_time": "2022-05-04T06:45:05.167Z"
   },
   {
    "duration": 589,
    "start_time": "2022-05-04T06:49:39.941Z"
   },
   {
    "duration": 15,
    "start_time": "2022-05-04T06:53:42.438Z"
   },
   {
    "duration": 1421,
    "start_time": "2022-05-04T07:50:18.063Z"
   },
   {
    "duration": 4,
    "start_time": "2022-05-04T07:50:19.486Z"
   },
   {
    "duration": 34,
    "start_time": "2022-05-04T07:50:19.492Z"
   },
   {
    "duration": 23,
    "start_time": "2022-05-04T07:50:19.529Z"
   },
   {
    "duration": 9,
    "start_time": "2022-05-04T07:50:19.554Z"
   },
   {
    "duration": 18,
    "start_time": "2022-05-04T07:50:19.565Z"
   },
   {
    "duration": 15,
    "start_time": "2022-05-04T07:50:19.585Z"
   },
   {
    "duration": 60,
    "start_time": "2022-05-04T07:50:19.602Z"
   },
   {
    "duration": 24,
    "start_time": "2022-05-04T07:50:19.664Z"
   },
   {
    "duration": 22,
    "start_time": "2022-05-04T07:50:19.692Z"
   },
   {
    "duration": 51,
    "start_time": "2022-05-04T07:50:19.716Z"
   },
   {
    "duration": 8,
    "start_time": "2022-05-04T07:50:19.769Z"
   },
   {
    "duration": 10,
    "start_time": "2022-05-04T07:50:19.779Z"
   },
   {
    "duration": 10,
    "start_time": "2022-05-04T07:50:19.791Z"
   },
   {
    "duration": 59,
    "start_time": "2022-05-04T07:50:19.803Z"
   },
   {
    "duration": 290,
    "start_time": "2022-05-04T07:50:19.864Z"
   },
   {
    "duration": 240,
    "start_time": "2022-05-04T07:50:20.156Z"
   },
   {
    "duration": 26,
    "start_time": "2022-05-04T07:50:20.398Z"
   },
   {
    "duration": 547,
    "start_time": "2022-05-04T07:50:20.452Z"
   },
   {
    "duration": 420,
    "start_time": "2022-05-04T07:50:21.002Z"
   },
   {
    "duration": 526,
    "start_time": "2022-05-04T07:50:21.425Z"
   },
   {
    "duration": 403,
    "start_time": "2022-05-04T07:50:21.954Z"
   },
   {
    "duration": 510,
    "start_time": "2022-05-04T07:50:22.360Z"
   },
   {
    "duration": 16,
    "start_time": "2022-05-04T07:50:22.872Z"
   },
   {
    "duration": 319,
    "start_time": "2022-05-04T07:50:22.890Z"
   },
   {
    "duration": 6,
    "start_time": "2022-05-04T07:50:23.211Z"
   },
   {
    "duration": 350,
    "start_time": "2022-05-04T07:50:23.219Z"
   },
   {
    "duration": 6,
    "start_time": "2022-05-04T07:50:23.575Z"
   },
   {
    "duration": 25,
    "start_time": "2022-05-04T07:50:23.583Z"
   },
   {
    "duration": 11,
    "start_time": "2022-05-04T07:50:23.610Z"
   },
   {
    "duration": 67,
    "start_time": "2022-05-04T07:50:23.623Z"
   },
   {
    "duration": 6,
    "start_time": "2022-05-04T07:50:23.693Z"
   },
   {
    "duration": 24,
    "start_time": "2022-05-04T07:50:23.702Z"
   },
   {
    "duration": 14,
    "start_time": "2022-05-04T07:50:23.729Z"
   },
   {
    "duration": 28,
    "start_time": "2022-05-04T07:50:23.745Z"
   },
   {
    "duration": 33,
    "start_time": "2022-05-04T07:50:23.775Z"
   },
   {
    "duration": 39,
    "start_time": "2022-05-04T07:50:23.811Z"
   },
   {
    "duration": 5,
    "start_time": "2022-05-04T07:50:23.852Z"
   },
   {
    "duration": 16,
    "start_time": "2022-05-04T07:50:23.859Z"
   },
   {
    "duration": 10,
    "start_time": "2022-05-04T07:50:23.877Z"
   },
   {
    "duration": 396,
    "start_time": "2022-05-04T07:52:03.935Z"
   },
   {
    "duration": 415,
    "start_time": "2022-05-04T07:52:16.195Z"
   },
   {
    "duration": 482,
    "start_time": "2022-05-04T07:52:29.783Z"
   },
   {
    "duration": 415,
    "start_time": "2022-05-04T07:53:35.696Z"
   },
   {
    "duration": 443,
    "start_time": "2022-05-04T07:53:44.627Z"
   },
   {
    "duration": 412,
    "start_time": "2022-05-04T07:53:53.184Z"
   },
   {
    "duration": 318,
    "start_time": "2022-05-04T07:55:22.104Z"
   },
   {
    "duration": 1307,
    "start_time": "2022-05-04T08:28:10.188Z"
   },
   {
    "duration": 4,
    "start_time": "2022-05-04T08:28:11.497Z"
   },
   {
    "duration": 28,
    "start_time": "2022-05-04T08:28:11.503Z"
   },
   {
    "duration": 26,
    "start_time": "2022-05-04T08:28:11.534Z"
   },
   {
    "duration": 8,
    "start_time": "2022-05-04T08:28:11.562Z"
   },
   {
    "duration": 15,
    "start_time": "2022-05-04T08:28:11.572Z"
   },
   {
    "duration": 14,
    "start_time": "2022-05-04T08:28:11.589Z"
   },
   {
    "duration": 69,
    "start_time": "2022-05-04T08:28:11.605Z"
   },
   {
    "duration": 25,
    "start_time": "2022-05-04T08:28:11.676Z"
   },
   {
    "duration": 22,
    "start_time": "2022-05-04T08:28:11.704Z"
   },
   {
    "duration": 42,
    "start_time": "2022-05-04T08:28:11.728Z"
   },
   {
    "duration": 10,
    "start_time": "2022-05-04T08:28:11.773Z"
   },
   {
    "duration": 10,
    "start_time": "2022-05-04T08:28:11.785Z"
   },
   {
    "duration": 56,
    "start_time": "2022-05-04T08:28:11.798Z"
   },
   {
    "duration": 19,
    "start_time": "2022-05-04T08:28:11.856Z"
   },
   {
    "duration": 300,
    "start_time": "2022-05-04T08:28:11.878Z"
   },
   {
    "duration": 235,
    "start_time": "2022-05-04T08:28:12.181Z"
   },
   {
    "duration": 39,
    "start_time": "2022-05-04T08:28:12.418Z"
   },
   {
    "duration": 549,
    "start_time": "2022-05-04T08:28:12.459Z"
   },
   {
    "duration": 418,
    "start_time": "2022-05-04T08:28:13.010Z"
   },
   {
    "duration": 552,
    "start_time": "2022-05-04T08:28:13.430Z"
   },
   {
    "duration": 406,
    "start_time": "2022-05-04T08:28:13.984Z"
   },
   {
    "duration": 559,
    "start_time": "2022-05-04T08:28:14.392Z"
   },
   {
    "duration": 18,
    "start_time": "2022-05-04T08:28:14.954Z"
   },
   {
    "duration": 324,
    "start_time": "2022-05-04T08:28:14.974Z"
   },
   {
    "duration": 6,
    "start_time": "2022-05-04T08:28:15.300Z"
   },
   {
    "duration": 343,
    "start_time": "2022-05-04T08:28:15.308Z"
   },
   {
    "duration": 6,
    "start_time": "2022-05-04T08:28:15.657Z"
   },
   {
    "duration": 19,
    "start_time": "2022-05-04T08:28:15.666Z"
   },
   {
    "duration": 11,
    "start_time": "2022-05-04T08:28:15.687Z"
   },
   {
    "duration": 66,
    "start_time": "2022-05-04T08:28:15.700Z"
   },
   {
    "duration": 6,
    "start_time": "2022-05-04T08:28:15.768Z"
   },
   {
    "duration": 13,
    "start_time": "2022-05-04T08:28:15.776Z"
   },
   {
    "duration": 12,
    "start_time": "2022-05-04T08:28:15.791Z"
   },
   {
    "duration": 22,
    "start_time": "2022-05-04T08:28:15.805Z"
   },
   {
    "duration": 14,
    "start_time": "2022-05-04T08:28:15.852Z"
   },
   {
    "duration": 32,
    "start_time": "2022-05-04T08:28:15.868Z"
   },
   {
    "duration": 5,
    "start_time": "2022-05-04T08:28:15.903Z"
   },
   {
    "duration": 48,
    "start_time": "2022-05-04T08:28:15.910Z"
   },
   {
    "duration": 11,
    "start_time": "2022-05-04T08:28:15.960Z"
   },
   {
    "duration": 150,
    "start_time": "2022-05-04T08:29:20.017Z"
   },
   {
    "duration": 10,
    "start_time": "2022-05-04T08:29:30.917Z"
   },
   {
    "duration": 7,
    "start_time": "2022-05-04T08:29:36.212Z"
   },
   {
    "duration": 9,
    "start_time": "2022-05-04T08:29:50.057Z"
   },
   {
    "duration": 13,
    "start_time": "2022-05-04T08:30:41.249Z"
   },
   {
    "duration": 19,
    "start_time": "2022-05-04T08:30:50.097Z"
   },
   {
    "duration": 9,
    "start_time": "2022-05-04T08:31:02.210Z"
   },
   {
    "duration": 6,
    "start_time": "2022-05-04T08:32:00.837Z"
   },
   {
    "duration": 14,
    "start_time": "2022-05-04T08:32:11.381Z"
   },
   {
    "duration": 12,
    "start_time": "2022-05-04T08:32:30.043Z"
   },
   {
    "duration": 6,
    "start_time": "2022-05-04T08:32:33.817Z"
   },
   {
    "duration": 21,
    "start_time": "2022-05-04T08:33:07.589Z"
   },
   {
    "duration": 19,
    "start_time": "2022-05-04T08:33:36.125Z"
   },
   {
    "duration": 19,
    "start_time": "2022-05-04T08:33:50.279Z"
   },
   {
    "duration": 6,
    "start_time": "2022-05-04T08:34:32.054Z"
   },
   {
    "duration": 13,
    "start_time": "2022-05-04T08:34:41.326Z"
   },
   {
    "duration": 17,
    "start_time": "2022-05-04T08:34:55.654Z"
   },
   {
    "duration": 16,
    "start_time": "2022-05-04T08:35:16.302Z"
   },
   {
    "duration": 19,
    "start_time": "2022-05-04T08:36:12.910Z"
   },
   {
    "duration": 12,
    "start_time": "2022-05-04T08:36:23.955Z"
   },
   {
    "duration": 13,
    "start_time": "2022-05-04T08:37:00.987Z"
   },
   {
    "duration": 12,
    "start_time": "2022-05-04T08:38:45.008Z"
   },
   {
    "duration": 22,
    "start_time": "2022-05-04T08:39:01.876Z"
   },
   {
    "duration": 24,
    "start_time": "2022-05-04T08:39:07.920Z"
   },
   {
    "duration": 26,
    "start_time": "2022-05-04T08:39:27.020Z"
   },
   {
    "duration": 9,
    "start_time": "2022-05-04T08:39:44.415Z"
   },
   {
    "duration": 8,
    "start_time": "2022-05-04T08:39:49.876Z"
   },
   {
    "duration": 10,
    "start_time": "2022-05-04T08:40:11.823Z"
   },
   {
    "duration": 1369,
    "start_time": "2022-05-04T08:40:18.652Z"
   },
   {
    "duration": 4,
    "start_time": "2022-05-04T08:40:20.023Z"
   },
   {
    "duration": 36,
    "start_time": "2022-05-04T08:40:20.029Z"
   },
   {
    "duration": 16,
    "start_time": "2022-05-04T08:40:20.068Z"
   },
   {
    "duration": 10,
    "start_time": "2022-05-04T08:40:20.086Z"
   },
   {
    "duration": 20,
    "start_time": "2022-05-04T08:40:20.098Z"
   },
   {
    "duration": 46,
    "start_time": "2022-05-04T08:40:20.121Z"
   },
   {
    "duration": 47,
    "start_time": "2022-05-04T08:40:20.169Z"
   },
   {
    "duration": 34,
    "start_time": "2022-05-04T08:40:20.218Z"
   },
   {
    "duration": 21,
    "start_time": "2022-05-04T08:40:20.256Z"
   },
   {
    "duration": 26,
    "start_time": "2022-05-04T08:40:20.278Z"
   },
   {
    "duration": 15,
    "start_time": "2022-05-04T08:40:20.306Z"
   },
   {
    "duration": 35,
    "start_time": "2022-05-04T08:40:20.323Z"
   },
   {
    "duration": 10,
    "start_time": "2022-05-04T08:40:20.361Z"
   },
   {
    "duration": 22,
    "start_time": "2022-05-04T08:40:20.373Z"
   },
   {
    "duration": 8,
    "start_time": "2022-05-04T08:40:20.397Z"
   },
   {
    "duration": 56,
    "start_time": "2022-05-04T08:40:20.407Z"
   },
   {
    "duration": 296,
    "start_time": "2022-05-04T08:40:20.465Z"
   },
   {
    "duration": 236,
    "start_time": "2022-05-04T08:40:20.763Z"
   },
   {
    "duration": 23,
    "start_time": "2022-05-04T08:40:21.001Z"
   },
   {
    "duration": 577,
    "start_time": "2022-05-04T08:40:21.026Z"
   },
   {
    "duration": 406,
    "start_time": "2022-05-04T08:40:21.605Z"
   },
   {
    "duration": 527,
    "start_time": "2022-05-04T08:40:22.013Z"
   },
   {
    "duration": 391,
    "start_time": "2022-05-04T08:40:22.542Z"
   },
   {
    "duration": 501,
    "start_time": "2022-05-04T08:40:22.935Z"
   },
   {
    "duration": 21,
    "start_time": "2022-05-04T08:40:23.438Z"
   },
   {
    "duration": 312,
    "start_time": "2022-05-04T08:40:23.461Z"
   },
   {
    "duration": 6,
    "start_time": "2022-05-04T08:40:23.778Z"
   },
   {
    "duration": 345,
    "start_time": "2022-05-04T08:40:23.786Z"
   },
   {
    "duration": 6,
    "start_time": "2022-05-04T08:40:24.133Z"
   },
   {
    "duration": 18,
    "start_time": "2022-05-04T08:40:24.153Z"
   },
   {
    "duration": 12,
    "start_time": "2022-05-04T08:40:24.174Z"
   },
   {
    "duration": 64,
    "start_time": "2022-05-04T08:40:24.188Z"
   },
   {
    "duration": 6,
    "start_time": "2022-05-04T08:40:24.254Z"
   },
   {
    "duration": 30,
    "start_time": "2022-05-04T08:40:24.263Z"
   },
   {
    "duration": 12,
    "start_time": "2022-05-04T08:40:24.296Z"
   },
   {
    "duration": 39,
    "start_time": "2022-05-04T08:40:24.310Z"
   },
   {
    "duration": 31,
    "start_time": "2022-05-04T08:40:24.351Z"
   },
   {
    "duration": 52,
    "start_time": "2022-05-04T08:40:24.384Z"
   },
   {
    "duration": 5,
    "start_time": "2022-05-04T08:40:24.438Z"
   },
   {
    "duration": 27,
    "start_time": "2022-05-04T08:40:24.446Z"
   },
   {
    "duration": 19,
    "start_time": "2022-05-04T08:40:24.475Z"
   },
   {
    "duration": 8,
    "start_time": "2022-05-04T08:40:35.368Z"
   },
   {
    "duration": 8,
    "start_time": "2022-05-04T08:43:42.626Z"
   },
   {
    "duration": 8,
    "start_time": "2022-05-04T08:43:51.702Z"
   },
   {
    "duration": 8,
    "start_time": "2022-05-04T08:44:11.618Z"
   },
   {
    "duration": 8,
    "start_time": "2022-05-04T08:44:20.359Z"
   },
   {
    "duration": 19,
    "start_time": "2022-05-04T08:45:58.231Z"
   },
   {
    "duration": 13,
    "start_time": "2022-05-04T08:46:43.699Z"
   },
   {
    "duration": 14,
    "start_time": "2022-05-04T08:46:59.259Z"
   },
   {
    "duration": 13,
    "start_time": "2022-05-04T09:01:22.448Z"
   },
   {
    "duration": 622,
    "start_time": "2022-05-04T09:03:15.235Z"
   },
   {
    "duration": 552,
    "start_time": "2022-05-04T09:03:32.193Z"
   },
   {
    "duration": 590,
    "start_time": "2022-05-04T09:03:47.790Z"
   },
   {
    "duration": 1355,
    "start_time": "2022-05-04T12:29:38.071Z"
   },
   {
    "duration": 4,
    "start_time": "2022-05-04T12:29:39.431Z"
   },
   {
    "duration": 55,
    "start_time": "2022-05-04T12:29:39.436Z"
   },
   {
    "duration": 15,
    "start_time": "2022-05-04T12:29:39.493Z"
   },
   {
    "duration": 24,
    "start_time": "2022-05-04T12:29:39.510Z"
   },
   {
    "duration": 33,
    "start_time": "2022-05-04T12:29:39.536Z"
   },
   {
    "duration": 15,
    "start_time": "2022-05-04T12:29:39.571Z"
   },
   {
    "duration": 60,
    "start_time": "2022-05-04T12:29:39.587Z"
   },
   {
    "duration": 17,
    "start_time": "2022-05-04T12:29:39.649Z"
   },
   {
    "duration": 18,
    "start_time": "2022-05-04T12:29:39.669Z"
   },
   {
    "duration": 25,
    "start_time": "2022-05-04T12:29:39.689Z"
   },
   {
    "duration": 22,
    "start_time": "2022-05-04T12:29:39.716Z"
   },
   {
    "duration": 12,
    "start_time": "2022-05-04T12:29:39.741Z"
   },
   {
    "duration": 21,
    "start_time": "2022-05-04T12:29:39.755Z"
   },
   {
    "duration": 26,
    "start_time": "2022-05-04T12:29:39.778Z"
   },
   {
    "duration": 12,
    "start_time": "2022-05-04T12:29:39.806Z"
   },
   {
    "duration": 34,
    "start_time": "2022-05-04T12:29:39.820Z"
   },
   {
    "duration": 24,
    "start_time": "2022-05-04T12:29:39.856Z"
   },
   {
    "duration": 19,
    "start_time": "2022-05-04T12:29:39.883Z"
   },
   {
    "duration": 202,
    "start_time": "2022-05-04T12:29:39.904Z"
   },
   {
    "duration": 167,
    "start_time": "2022-05-04T12:29:40.108Z"
   },
   {
    "duration": 25,
    "start_time": "2022-05-04T12:29:40.277Z"
   },
   {
    "duration": 494,
    "start_time": "2022-05-04T12:29:40.305Z"
   },
   {
    "duration": 256,
    "start_time": "2022-05-04T12:29:40.801Z"
   },
   {
    "duration": 450,
    "start_time": "2022-05-04T12:29:41.059Z"
   },
   {
    "duration": 248,
    "start_time": "2022-05-04T12:29:41.511Z"
   },
   {
    "duration": 358,
    "start_time": "2022-05-04T12:29:41.761Z"
   },
   {
    "duration": 15,
    "start_time": "2022-05-04T12:29:42.123Z"
   },
   {
    "duration": 264,
    "start_time": "2022-05-04T12:29:42.140Z"
   },
   {
    "duration": 5,
    "start_time": "2022-05-04T12:29:42.406Z"
   },
   {
    "duration": 205,
    "start_time": "2022-05-04T12:29:42.413Z"
   },
   {
    "duration": 6,
    "start_time": "2022-05-04T12:29:42.623Z"
   },
   {
    "duration": 26,
    "start_time": "2022-05-04T12:29:42.631Z"
   },
   {
    "duration": 8,
    "start_time": "2022-05-04T12:29:42.659Z"
   },
   {
    "duration": 24,
    "start_time": "2022-05-04T12:29:42.668Z"
   },
   {
    "duration": 4,
    "start_time": "2022-05-04T12:29:42.694Z"
   },
   {
    "duration": 13,
    "start_time": "2022-05-04T12:29:42.701Z"
   },
   {
    "duration": 11,
    "start_time": "2022-05-04T12:29:42.724Z"
   },
   {
    "duration": 24,
    "start_time": "2022-05-04T12:29:42.738Z"
   },
   {
    "duration": 15,
    "start_time": "2022-05-04T12:29:42.764Z"
   },
   {
    "duration": 32,
    "start_time": "2022-05-04T12:29:42.781Z"
   },
   {
    "duration": 5,
    "start_time": "2022-05-04T12:29:42.815Z"
   },
   {
    "duration": 21,
    "start_time": "2022-05-04T12:29:42.821Z"
   },
   {
    "duration": 20,
    "start_time": "2022-05-04T12:29:42.845Z"
   },
   {
    "duration": 18,
    "start_time": "2022-05-04T12:38:38.278Z"
   },
   {
    "duration": 18,
    "start_time": "2022-05-04T12:38:50.532Z"
   },
   {
    "duration": 14,
    "start_time": "2022-05-04T12:39:09.385Z"
   },
   {
    "duration": 15,
    "start_time": "2022-05-04T12:39:28.248Z"
   },
   {
    "duration": 26,
    "start_time": "2022-05-04T12:39:49.547Z"
   },
   {
    "duration": 19,
    "start_time": "2022-05-04T12:40:56.825Z"
   },
   {
    "duration": 389,
    "start_time": "2022-05-04T12:41:54.367Z"
   },
   {
    "duration": 164,
    "start_time": "2022-05-04T12:42:21.796Z"
   },
   {
    "duration": 398,
    "start_time": "2022-05-04T12:42:28.078Z"
   },
   {
    "duration": 191,
    "start_time": "2022-05-04T12:42:39.810Z"
   },
   {
    "duration": 6,
    "start_time": "2022-05-04T12:45:17.892Z"
   },
   {
    "duration": 7,
    "start_time": "2022-05-04T12:45:23.632Z"
   },
   {
    "duration": 6,
    "start_time": "2022-05-04T12:45:43.276Z"
   },
   {
    "duration": 5,
    "start_time": "2022-05-04T12:45:48.375Z"
   },
   {
    "duration": 15,
    "start_time": "2022-05-04T12:47:46.075Z"
   },
   {
    "duration": 335,
    "start_time": "2022-05-04T12:51:44.846Z"
   },
   {
    "duration": 280,
    "start_time": "2022-05-04T12:56:24.703Z"
   },
   {
    "duration": 19,
    "start_time": "2022-05-04T13:00:35.934Z"
   },
   {
    "duration": 193,
    "start_time": "2022-05-04T13:01:02.055Z"
   },
   {
    "duration": 21,
    "start_time": "2022-05-04T13:01:06.327Z"
   },
   {
    "duration": 1248,
    "start_time": "2022-05-04T17:24:48.696Z"
   },
   {
    "duration": 3,
    "start_time": "2022-05-04T17:24:49.946Z"
   },
   {
    "duration": 28,
    "start_time": "2022-05-04T17:24:49.950Z"
   },
   {
    "duration": 11,
    "start_time": "2022-05-04T17:24:49.980Z"
   },
   {
    "duration": 10,
    "start_time": "2022-05-04T17:24:49.992Z"
   },
   {
    "duration": 17,
    "start_time": "2022-05-04T17:24:50.003Z"
   },
   {
    "duration": 12,
    "start_time": "2022-05-04T17:24:50.022Z"
   },
   {
    "duration": 42,
    "start_time": "2022-05-04T17:24:50.035Z"
   },
   {
    "duration": 17,
    "start_time": "2022-05-04T17:24:50.078Z"
   },
   {
    "duration": 15,
    "start_time": "2022-05-04T17:24:50.098Z"
   },
   {
    "duration": 20,
    "start_time": "2022-05-04T17:24:50.115Z"
   },
   {
    "duration": 7,
    "start_time": "2022-05-04T17:24:50.138Z"
   },
   {
    "duration": 32,
    "start_time": "2022-05-04T17:24:50.147Z"
   },
   {
    "duration": 8,
    "start_time": "2022-05-04T17:24:50.181Z"
   },
   {
    "duration": 13,
    "start_time": "2022-05-04T17:24:50.191Z"
   },
   {
    "duration": 115,
    "start_time": "2022-05-04T17:24:50.205Z"
   },
   {
    "duration": 0,
    "start_time": "2022-05-04T17:24:50.323Z"
   },
   {
    "duration": 0,
    "start_time": "2022-05-04T17:24:50.325Z"
   },
   {
    "duration": 0,
    "start_time": "2022-05-04T17:24:50.326Z"
   },
   {
    "duration": 0,
    "start_time": "2022-05-04T17:24:50.328Z"
   },
   {
    "duration": 0,
    "start_time": "2022-05-04T17:24:50.329Z"
   },
   {
    "duration": 0,
    "start_time": "2022-05-04T17:24:50.330Z"
   },
   {
    "duration": 0,
    "start_time": "2022-05-04T17:24:50.332Z"
   },
   {
    "duration": 0,
    "start_time": "2022-05-04T17:24:50.334Z"
   },
   {
    "duration": 0,
    "start_time": "2022-05-04T17:24:50.335Z"
   },
   {
    "duration": 0,
    "start_time": "2022-05-04T17:24:50.337Z"
   },
   {
    "duration": 0,
    "start_time": "2022-05-04T17:24:50.338Z"
   },
   {
    "duration": 0,
    "start_time": "2022-05-04T17:24:50.339Z"
   },
   {
    "duration": 0,
    "start_time": "2022-05-04T17:24:50.340Z"
   },
   {
    "duration": 0,
    "start_time": "2022-05-04T17:24:50.340Z"
   },
   {
    "duration": 0,
    "start_time": "2022-05-04T17:24:50.373Z"
   },
   {
    "duration": 0,
    "start_time": "2022-05-04T17:24:50.374Z"
   },
   {
    "duration": 0,
    "start_time": "2022-05-04T17:24:50.375Z"
   },
   {
    "duration": 0,
    "start_time": "2022-05-04T17:24:50.376Z"
   },
   {
    "duration": 0,
    "start_time": "2022-05-04T17:24:50.377Z"
   },
   {
    "duration": 0,
    "start_time": "2022-05-04T17:24:50.378Z"
   },
   {
    "duration": 0,
    "start_time": "2022-05-04T17:24:50.379Z"
   },
   {
    "duration": 0,
    "start_time": "2022-05-04T17:24:50.381Z"
   },
   {
    "duration": 0,
    "start_time": "2022-05-04T17:24:50.382Z"
   },
   {
    "duration": 0,
    "start_time": "2022-05-04T17:24:50.383Z"
   },
   {
    "duration": 0,
    "start_time": "2022-05-04T17:24:50.384Z"
   },
   {
    "duration": 0,
    "start_time": "2022-05-04T17:24:50.385Z"
   },
   {
    "duration": 0,
    "start_time": "2022-05-04T17:24:50.386Z"
   },
   {
    "duration": 0,
    "start_time": "2022-05-04T17:24:50.388Z"
   },
   {
    "duration": 1137,
    "start_time": "2022-05-04T17:25:25.391Z"
   },
   {
    "duration": 2,
    "start_time": "2022-05-04T17:25:26.530Z"
   },
   {
    "duration": 25,
    "start_time": "2022-05-04T17:25:26.534Z"
   },
   {
    "duration": 17,
    "start_time": "2022-05-04T17:25:26.560Z"
   },
   {
    "duration": 6,
    "start_time": "2022-05-04T17:25:26.580Z"
   },
   {
    "duration": 15,
    "start_time": "2022-05-04T17:25:26.588Z"
   },
   {
    "duration": 11,
    "start_time": "2022-05-04T17:25:26.605Z"
   },
   {
    "duration": 43,
    "start_time": "2022-05-04T17:25:26.618Z"
   },
   {
    "duration": 27,
    "start_time": "2022-05-04T17:25:26.662Z"
   },
   {
    "duration": 15,
    "start_time": "2022-05-04T17:25:26.691Z"
   },
   {
    "duration": 24,
    "start_time": "2022-05-04T17:25:26.708Z"
   },
   {
    "duration": 8,
    "start_time": "2022-05-04T17:25:26.734Z"
   },
   {
    "duration": 6,
    "start_time": "2022-05-04T17:25:26.744Z"
   },
   {
    "duration": 9,
    "start_time": "2022-05-04T17:25:26.773Z"
   },
   {
    "duration": 14,
    "start_time": "2022-05-04T17:25:26.783Z"
   },
   {
    "duration": 3,
    "start_time": "2022-05-04T17:25:26.799Z"
   },
   {
    "duration": 8,
    "start_time": "2022-05-04T17:25:26.804Z"
   },
   {
    "duration": 13,
    "start_time": "2022-05-04T17:25:26.814Z"
   },
   {
    "duration": 19,
    "start_time": "2022-05-04T17:25:26.828Z"
   },
   {
    "duration": 173,
    "start_time": "2022-05-04T17:25:26.874Z"
   },
   {
    "duration": 131,
    "start_time": "2022-05-04T17:25:27.049Z"
   },
   {
    "duration": 16,
    "start_time": "2022-05-04T17:25:27.181Z"
   },
   {
    "duration": 328,
    "start_time": "2022-05-04T17:25:27.198Z"
   },
   {
    "duration": 254,
    "start_time": "2022-05-04T17:25:27.528Z"
   },
   {
    "duration": 332,
    "start_time": "2022-05-04T17:25:27.785Z"
   },
   {
    "duration": 230,
    "start_time": "2022-05-04T17:25:28.119Z"
   },
   {
    "duration": 361,
    "start_time": "2022-05-04T17:25:28.351Z"
   },
   {
    "duration": 12,
    "start_time": "2022-05-04T17:25:28.714Z"
   },
   {
    "duration": 194,
    "start_time": "2022-05-04T17:25:28.727Z"
   },
   {
    "duration": 4,
    "start_time": "2022-05-04T17:25:28.922Z"
   },
   {
    "duration": 193,
    "start_time": "2022-05-04T17:25:28.928Z"
   },
   {
    "duration": 4,
    "start_time": "2022-05-04T17:25:29.123Z"
   },
   {
    "duration": 14,
    "start_time": "2022-05-04T17:25:29.129Z"
   },
   {
    "duration": 8,
    "start_time": "2022-05-04T17:25:29.144Z"
   },
   {
    "duration": 34,
    "start_time": "2022-05-04T17:25:29.154Z"
   },
   {
    "duration": 7,
    "start_time": "2022-05-04T17:25:29.190Z"
   },
   {
    "duration": 13,
    "start_time": "2022-05-04T17:25:29.198Z"
   },
   {
    "duration": 6,
    "start_time": "2022-05-04T17:25:29.213Z"
   },
   {
    "duration": 11,
    "start_time": "2022-05-04T17:25:29.221Z"
   },
   {
    "duration": 14,
    "start_time": "2022-05-04T17:25:29.234Z"
   },
   {
    "duration": 23,
    "start_time": "2022-05-04T17:25:29.272Z"
   },
   {
    "duration": 4,
    "start_time": "2022-05-04T17:25:29.297Z"
   },
   {
    "duration": 11,
    "start_time": "2022-05-04T17:25:29.302Z"
   },
   {
    "duration": 7,
    "start_time": "2022-05-04T17:25:29.315Z"
   },
   {
    "duration": 1163,
    "start_time": "2022-05-04T17:28:21.766Z"
   },
   {
    "duration": 3,
    "start_time": "2022-05-04T17:28:22.931Z"
   },
   {
    "duration": 23,
    "start_time": "2022-05-04T17:28:22.936Z"
   },
   {
    "duration": 19,
    "start_time": "2022-05-04T17:28:22.961Z"
   },
   {
    "duration": 22,
    "start_time": "2022-05-04T17:28:22.982Z"
   },
   {
    "duration": 21,
    "start_time": "2022-05-04T17:28:23.006Z"
   },
   {
    "duration": 11,
    "start_time": "2022-05-04T17:28:23.029Z"
   },
   {
    "duration": 44,
    "start_time": "2022-05-04T17:28:23.042Z"
   },
   {
    "duration": 17,
    "start_time": "2022-05-04T17:28:23.088Z"
   },
   {
    "duration": 16,
    "start_time": "2022-05-04T17:28:23.108Z"
   },
   {
    "duration": 22,
    "start_time": "2022-05-04T17:28:23.126Z"
   },
   {
    "duration": 27,
    "start_time": "2022-05-04T17:28:23.150Z"
   },
   {
    "duration": 17,
    "start_time": "2022-05-04T17:28:23.179Z"
   },
   {
    "duration": 188,
    "start_time": "2022-05-04T17:28:23.199Z"
   },
   {
    "duration": 135,
    "start_time": "2022-05-04T17:28:23.389Z"
   },
   {
    "duration": 17,
    "start_time": "2022-05-04T17:28:23.526Z"
   },
   {
    "duration": 354,
    "start_time": "2022-05-04T17:28:23.545Z"
   },
   {
    "duration": 255,
    "start_time": "2022-05-04T17:28:23.900Z"
   },
   {
    "duration": 397,
    "start_time": "2022-05-04T17:28:24.158Z"
   },
   {
    "duration": 249,
    "start_time": "2022-05-04T17:28:24.557Z"
   },
   {
    "duration": 360,
    "start_time": "2022-05-04T17:28:24.808Z"
   },
   {
    "duration": 14,
    "start_time": "2022-05-04T17:28:25.170Z"
   },
   {
    "duration": 190,
    "start_time": "2022-05-04T17:28:25.185Z"
   },
   {
    "duration": 4,
    "start_time": "2022-05-04T17:28:25.377Z"
   },
   {
    "duration": 208,
    "start_time": "2022-05-04T17:28:25.383Z"
   },
   {
    "duration": 4,
    "start_time": "2022-05-04T17:28:25.593Z"
   },
   {
    "duration": 16,
    "start_time": "2022-05-04T17:28:25.599Z"
   },
   {
    "duration": 8,
    "start_time": "2022-05-04T17:28:25.618Z"
   },
   {
    "duration": 48,
    "start_time": "2022-05-04T17:28:25.628Z"
   },
   {
    "duration": 4,
    "start_time": "2022-05-04T17:28:25.678Z"
   },
   {
    "duration": 25,
    "start_time": "2022-05-04T17:28:25.685Z"
   },
   {
    "duration": 7,
    "start_time": "2022-05-04T17:28:25.713Z"
   },
   {
    "duration": 9,
    "start_time": "2022-05-04T17:28:25.722Z"
   },
   {
    "duration": 15,
    "start_time": "2022-05-04T17:28:25.733Z"
   },
   {
    "duration": 46,
    "start_time": "2022-05-04T17:28:25.750Z"
   },
   {
    "duration": 4,
    "start_time": "2022-05-04T17:28:25.798Z"
   },
   {
    "duration": 13,
    "start_time": "2022-05-04T17:28:25.804Z"
   },
   {
    "duration": 10,
    "start_time": "2022-05-04T17:28:25.819Z"
   },
   {
    "duration": 1019,
    "start_time": "2022-05-05T18:36:10.529Z"
   },
   {
    "duration": 2,
    "start_time": "2022-05-05T18:36:11.550Z"
   },
   {
    "duration": 27,
    "start_time": "2022-05-05T18:36:11.554Z"
   },
   {
    "duration": 10,
    "start_time": "2022-05-05T18:36:11.583Z"
   },
   {
    "duration": 6,
    "start_time": "2022-05-05T18:36:11.595Z"
   },
   {
    "duration": 23,
    "start_time": "2022-05-05T18:36:11.603Z"
   },
   {
    "duration": 11,
    "start_time": "2022-05-05T18:36:11.627Z"
   },
   {
    "duration": 39,
    "start_time": "2022-05-05T18:36:11.639Z"
   },
   {
    "duration": 20,
    "start_time": "2022-05-05T18:36:11.679Z"
   },
   {
    "duration": 23,
    "start_time": "2022-05-05T18:36:11.701Z"
   },
   {
    "duration": 27,
    "start_time": "2022-05-05T18:36:11.726Z"
   },
   {
    "duration": 8,
    "start_time": "2022-05-05T18:36:11.755Z"
   },
   {
    "duration": 15,
    "start_time": "2022-05-05T18:36:11.764Z"
   },
   {
    "duration": 168,
    "start_time": "2022-05-05T18:36:11.782Z"
   },
   {
    "duration": 126,
    "start_time": "2022-05-05T18:36:11.951Z"
   },
   {
    "duration": 16,
    "start_time": "2022-05-05T18:36:12.078Z"
   },
   {
    "duration": 315,
    "start_time": "2022-05-05T18:36:12.095Z"
   },
   {
    "duration": 222,
    "start_time": "2022-05-05T18:36:12.411Z"
   },
   {
    "duration": 336,
    "start_time": "2022-05-05T18:36:12.634Z"
   },
   {
    "duration": 204,
    "start_time": "2022-05-05T18:36:12.972Z"
   },
   {
    "duration": 331,
    "start_time": "2022-05-05T18:36:13.177Z"
   },
   {
    "duration": 21,
    "start_time": "2022-05-05T18:36:13.510Z"
   },
   {
    "duration": 157,
    "start_time": "2022-05-05T18:36:13.532Z"
   },
   {
    "duration": 4,
    "start_time": "2022-05-05T18:36:13.691Z"
   },
   {
    "duration": 174,
    "start_time": "2022-05-05T18:36:13.696Z"
   },
   {
    "duration": 4,
    "start_time": "2022-05-05T18:36:13.872Z"
   },
   {
    "duration": 12,
    "start_time": "2022-05-05T18:36:13.877Z"
   },
   {
    "duration": 7,
    "start_time": "2022-05-05T18:36:13.890Z"
   },
   {
    "duration": 39,
    "start_time": "2022-05-05T18:36:13.899Z"
   },
   {
    "duration": 5,
    "start_time": "2022-05-05T18:36:13.939Z"
   },
   {
    "duration": 11,
    "start_time": "2022-05-05T18:36:13.945Z"
   },
   {
    "duration": 6,
    "start_time": "2022-05-05T18:36:13.958Z"
   },
   {
    "duration": 10,
    "start_time": "2022-05-05T18:36:13.965Z"
   },
   {
    "duration": 13,
    "start_time": "2022-05-05T18:36:13.976Z"
   },
   {
    "duration": 41,
    "start_time": "2022-05-05T18:36:13.991Z"
   },
   {
    "duration": 3,
    "start_time": "2022-05-05T18:36:14.034Z"
   },
   {
    "duration": 10,
    "start_time": "2022-05-05T18:36:14.039Z"
   },
   {
    "duration": 7,
    "start_time": "2022-05-05T18:36:14.051Z"
   },
   {
    "duration": 62,
    "start_time": "2022-05-06T03:59:23.273Z"
   },
   {
    "duration": 1311,
    "start_time": "2022-05-06T03:59:29.434Z"
   },
   {
    "duration": 3,
    "start_time": "2022-05-06T03:59:30.747Z"
   },
   {
    "duration": 29,
    "start_time": "2022-05-06T03:59:30.752Z"
   },
   {
    "duration": 10,
    "start_time": "2022-05-06T03:59:30.784Z"
   },
   {
    "duration": 11,
    "start_time": "2022-05-06T03:59:30.796Z"
   },
   {
    "duration": 23,
    "start_time": "2022-05-06T03:59:30.809Z"
   },
   {
    "duration": 16,
    "start_time": "2022-05-06T03:59:30.834Z"
   },
   {
    "duration": 9,
    "start_time": "2022-05-06T03:59:30.851Z"
   },
   {
    "duration": 56,
    "start_time": "2022-05-06T03:59:30.861Z"
   },
   {
    "duration": 17,
    "start_time": "2022-05-06T03:59:30.920Z"
   },
   {
    "duration": 22,
    "start_time": "2022-05-06T03:59:30.938Z"
   },
   {
    "duration": 20,
    "start_time": "2022-05-06T03:59:30.962Z"
   },
   {
    "duration": 14,
    "start_time": "2022-05-06T03:59:30.984Z"
   },
   {
    "duration": 16,
    "start_time": "2022-05-06T03:59:31.000Z"
   },
   {
    "duration": 177,
    "start_time": "2022-05-06T03:59:31.018Z"
   },
   {
    "duration": 137,
    "start_time": "2022-05-06T03:59:31.196Z"
   },
   {
    "duration": 16,
    "start_time": "2022-05-06T03:59:31.335Z"
   },
   {
    "duration": 340,
    "start_time": "2022-05-06T03:59:31.353Z"
   },
   {
    "duration": 257,
    "start_time": "2022-05-06T03:59:31.695Z"
   },
   {
    "duration": 410,
    "start_time": "2022-05-06T03:59:31.954Z"
   },
   {
    "duration": 224,
    "start_time": "2022-05-06T03:59:32.367Z"
   },
   {
    "duration": 340,
    "start_time": "2022-05-06T03:59:32.593Z"
   },
   {
    "duration": 12,
    "start_time": "2022-05-06T03:59:32.935Z"
   },
   {
    "duration": 185,
    "start_time": "2022-05-06T03:59:32.949Z"
   },
   {
    "duration": 5,
    "start_time": "2022-05-06T03:59:33.135Z"
   },
   {
    "duration": 192,
    "start_time": "2022-05-06T03:59:33.141Z"
   },
   {
    "duration": 4,
    "start_time": "2022-05-06T03:59:33.335Z"
   },
   {
    "duration": 15,
    "start_time": "2022-05-06T03:59:33.342Z"
   },
   {
    "duration": 19,
    "start_time": "2022-05-06T03:59:33.359Z"
   },
   {
    "duration": 27,
    "start_time": "2022-05-06T03:59:33.380Z"
   },
   {
    "duration": 4,
    "start_time": "2022-05-06T03:59:33.409Z"
   },
   {
    "duration": 12,
    "start_time": "2022-05-06T03:59:33.415Z"
   },
   {
    "duration": 6,
    "start_time": "2022-05-06T03:59:33.429Z"
   },
   {
    "duration": 38,
    "start_time": "2022-05-06T03:59:33.436Z"
   },
   {
    "duration": 14,
    "start_time": "2022-05-06T03:59:33.476Z"
   },
   {
    "duration": 25,
    "start_time": "2022-05-06T03:59:33.491Z"
   },
   {
    "duration": 4,
    "start_time": "2022-05-06T03:59:33.518Z"
   },
   {
    "duration": 11,
    "start_time": "2022-05-06T03:59:33.524Z"
   },
   {
    "duration": 8,
    "start_time": "2022-05-06T03:59:33.537Z"
   },
   {
    "duration": 91,
    "start_time": "2022-05-06T03:59:56.555Z"
   },
   {
    "duration": 10,
    "start_time": "2022-05-06T04:00:01.418Z"
   },
   {
    "duration": 52,
    "start_time": "2022-05-06T04:00:40.261Z"
   },
   {
    "duration": 3,
    "start_time": "2022-05-06T04:03:28.144Z"
   },
   {
    "duration": 14,
    "start_time": "2022-05-06T04:03:28.822Z"
   },
   {
    "duration": 4,
    "start_time": "2022-05-06T04:03:59.742Z"
   },
   {
    "duration": 12,
    "start_time": "2022-05-06T04:04:00.961Z"
   },
   {
    "duration": 14,
    "start_time": "2022-05-06T04:05:06.322Z"
   },
   {
    "duration": 4,
    "start_time": "2022-05-06T04:07:55.022Z"
   },
   {
    "duration": 18,
    "start_time": "2022-05-06T04:07:56.049Z"
   },
   {
    "duration": 3,
    "start_time": "2022-05-06T04:09:46.960Z"
   },
   {
    "duration": 15,
    "start_time": "2022-05-06T04:09:47.680Z"
   },
   {
    "duration": 3,
    "start_time": "2022-05-06T04:10:15.249Z"
   },
   {
    "duration": 12,
    "start_time": "2022-05-06T04:10:16.441Z"
   },
   {
    "duration": 4,
    "start_time": "2022-05-06T04:11:36.767Z"
   },
   {
    "duration": 15,
    "start_time": "2022-05-06T04:11:37.173Z"
   },
   {
    "duration": 3,
    "start_time": "2022-05-06T04:11:57.577Z"
   },
   {
    "duration": 75,
    "start_time": "2022-05-06T04:23:38.668Z"
   },
   {
    "duration": 1659,
    "start_time": "2022-05-06T04:23:44.794Z"
   },
   {
    "duration": 4,
    "start_time": "2022-05-06T04:23:46.457Z"
   },
   {
    "duration": 44,
    "start_time": "2022-05-06T04:23:46.463Z"
   },
   {
    "duration": 18,
    "start_time": "2022-05-06T04:23:46.511Z"
   },
   {
    "duration": 15,
    "start_time": "2022-05-06T04:23:46.532Z"
   },
   {
    "duration": 38,
    "start_time": "2022-05-06T04:23:46.550Z"
   },
   {
    "duration": 16,
    "start_time": "2022-05-06T04:23:46.591Z"
   },
   {
    "duration": 11,
    "start_time": "2022-05-06T04:23:46.610Z"
   },
   {
    "duration": 98,
    "start_time": "2022-05-06T04:23:46.623Z"
   },
   {
    "duration": 325,
    "start_time": "2022-05-06T04:23:46.725Z"
   },
   {
    "duration": 0,
    "start_time": "2022-05-06T04:23:47.053Z"
   },
   {
    "duration": 0,
    "start_time": "2022-05-06T04:23:47.054Z"
   },
   {
    "duration": 0,
    "start_time": "2022-05-06T04:23:47.056Z"
   },
   {
    "duration": 1,
    "start_time": "2022-05-06T04:23:47.057Z"
   },
   {
    "duration": 0,
    "start_time": "2022-05-06T04:23:47.059Z"
   },
   {
    "duration": 0,
    "start_time": "2022-05-06T04:23:47.061Z"
   },
   {
    "duration": 0,
    "start_time": "2022-05-06T04:23:47.062Z"
   },
   {
    "duration": 0,
    "start_time": "2022-05-06T04:23:47.064Z"
   },
   {
    "duration": 0,
    "start_time": "2022-05-06T04:23:47.082Z"
   },
   {
    "duration": 0,
    "start_time": "2022-05-06T04:23:47.083Z"
   },
   {
    "duration": 0,
    "start_time": "2022-05-06T04:23:47.085Z"
   },
   {
    "duration": 0,
    "start_time": "2022-05-06T04:23:47.087Z"
   },
   {
    "duration": 0,
    "start_time": "2022-05-06T04:23:47.089Z"
   },
   {
    "duration": 0,
    "start_time": "2022-05-06T04:23:47.090Z"
   },
   {
    "duration": 0,
    "start_time": "2022-05-06T04:23:47.092Z"
   },
   {
    "duration": 0,
    "start_time": "2022-05-06T04:23:47.093Z"
   },
   {
    "duration": 0,
    "start_time": "2022-05-06T04:23:47.095Z"
   },
   {
    "duration": 0,
    "start_time": "2022-05-06T04:23:47.096Z"
   },
   {
    "duration": 0,
    "start_time": "2022-05-06T04:23:47.098Z"
   },
   {
    "duration": 0,
    "start_time": "2022-05-06T04:23:47.100Z"
   },
   {
    "duration": 0,
    "start_time": "2022-05-06T04:23:47.102Z"
   },
   {
    "duration": 0,
    "start_time": "2022-05-06T04:23:47.104Z"
   },
   {
    "duration": 0,
    "start_time": "2022-05-06T04:23:47.105Z"
   },
   {
    "duration": 0,
    "start_time": "2022-05-06T04:23:47.106Z"
   },
   {
    "duration": 0,
    "start_time": "2022-05-06T04:23:47.108Z"
   },
   {
    "duration": 0,
    "start_time": "2022-05-06T04:23:47.110Z"
   },
   {
    "duration": 0,
    "start_time": "2022-05-06T04:23:47.111Z"
   },
   {
    "duration": 0,
    "start_time": "2022-05-06T04:23:47.113Z"
   },
   {
    "duration": 0,
    "start_time": "2022-05-06T04:23:47.114Z"
   },
   {
    "duration": 0,
    "start_time": "2022-05-06T04:23:47.116Z"
   },
   {
    "duration": 0,
    "start_time": "2022-05-06T04:23:47.117Z"
   },
   {
    "duration": 172,
    "start_time": "2022-05-06T04:29:54.834Z"
   },
   {
    "duration": 159,
    "start_time": "2022-05-06T04:30:25.902Z"
   },
   {
    "duration": 152,
    "start_time": "2022-05-06T04:32:04.295Z"
   },
   {
    "duration": 97,
    "start_time": "2022-05-06T04:32:26.710Z"
   },
   {
    "duration": 112,
    "start_time": "2022-05-06T04:33:11.527Z"
   },
   {
    "duration": 107,
    "start_time": "2022-05-06T04:33:25.819Z"
   },
   {
    "duration": 105,
    "start_time": "2022-05-06T04:33:28.871Z"
   },
   {
    "duration": 106,
    "start_time": "2022-05-06T04:33:34.587Z"
   },
   {
    "duration": 257,
    "start_time": "2022-05-06T04:34:11.565Z"
   },
   {
    "duration": 216,
    "start_time": "2022-05-06T04:34:51.065Z"
   },
   {
    "duration": 219,
    "start_time": "2022-05-06T04:35:16.487Z"
   },
   {
    "duration": 214,
    "start_time": "2022-05-06T04:35:22.206Z"
   },
   {
    "duration": 122,
    "start_time": "2022-05-06T04:36:02.488Z"
   },
   {
    "duration": 289,
    "start_time": "2022-05-06T04:36:16.328Z"
   },
   {
    "duration": 383,
    "start_time": "2022-05-06T04:36:32.204Z"
   },
   {
    "duration": 226,
    "start_time": "2022-05-06T04:36:49.770Z"
   },
   {
    "duration": 213,
    "start_time": "2022-05-06T04:36:57.606Z"
   },
   {
    "duration": 206,
    "start_time": "2022-05-06T04:37:06.290Z"
   },
   {
    "duration": 225,
    "start_time": "2022-05-06T04:37:19.490Z"
   },
   {
    "duration": 229,
    "start_time": "2022-05-06T04:37:36.591Z"
   },
   {
    "duration": 221,
    "start_time": "2022-05-06T04:45:48.794Z"
   },
   {
    "duration": 6,
    "start_time": "2022-05-06T04:46:35.663Z"
   },
   {
    "duration": 1489,
    "start_time": "2022-05-06T04:48:12.825Z"
   },
   {
    "duration": 9,
    "start_time": "2022-05-06T04:48:21.215Z"
   },
   {
    "duration": 334,
    "start_time": "2022-05-06T04:54:02.273Z"
   },
   {
    "duration": 248,
    "start_time": "2022-05-06T04:55:04.568Z"
   },
   {
    "duration": 242,
    "start_time": "2022-05-06T04:55:17.784Z"
   },
   {
    "duration": 248,
    "start_time": "2022-05-06T04:55:29.970Z"
   },
   {
    "duration": 334,
    "start_time": "2022-05-06T04:59:23.839Z"
   },
   {
    "duration": 266,
    "start_time": "2022-05-06T04:59:42.883Z"
   },
   {
    "duration": 246,
    "start_time": "2022-05-06T05:00:27.005Z"
   },
   {
    "duration": 219,
    "start_time": "2022-05-06T05:03:30.708Z"
   },
   {
    "duration": 207,
    "start_time": "2022-05-06T05:04:40.725Z"
   },
   {
    "duration": 212,
    "start_time": "2022-05-06T05:04:50.761Z"
   },
   {
    "duration": 270,
    "start_time": "2022-05-06T05:08:11.649Z"
   },
   {
    "duration": 271,
    "start_time": "2022-05-06T05:08:30.745Z"
   },
   {
    "duration": 282,
    "start_time": "2022-05-06T05:08:35.911Z"
   },
   {
    "duration": 283,
    "start_time": "2022-05-06T05:08:59.051Z"
   },
   {
    "duration": 323,
    "start_time": "2022-05-06T05:09:09.454Z"
   },
   {
    "duration": 449,
    "start_time": "2022-05-06T05:09:23.338Z"
   },
   {
    "duration": 300,
    "start_time": "2022-05-06T05:10:09.682Z"
   },
   {
    "duration": 6,
    "start_time": "2022-05-06T05:11:01.570Z"
   },
   {
    "duration": 301,
    "start_time": "2022-05-06T05:11:18.117Z"
   },
   {
    "duration": 18,
    "start_time": "2022-05-06T05:11:31.770Z"
   },
   {
    "duration": 15,
    "start_time": "2022-05-06T05:11:45.218Z"
   },
   {
    "duration": 10,
    "start_time": "2022-05-06T05:11:52.810Z"
   },
   {
    "duration": 5,
    "start_time": "2022-05-06T05:11:57.258Z"
   },
   {
    "duration": 222,
    "start_time": "2022-05-06T05:12:13.986Z"
   },
   {
    "duration": 233,
    "start_time": "2022-05-06T05:12:37.502Z"
   },
   {
    "duration": 246,
    "start_time": "2022-05-06T05:13:15.980Z"
   },
   {
    "duration": 232,
    "start_time": "2022-05-06T05:13:25.027Z"
   },
   {
    "duration": 256,
    "start_time": "2022-05-06T05:13:51.289Z"
   },
   {
    "duration": 264,
    "start_time": "2022-05-06T05:14:00.056Z"
   },
   {
    "duration": 154,
    "start_time": "2022-05-06T05:14:17.202Z"
   },
   {
    "duration": 275,
    "start_time": "2022-05-06T05:14:26.466Z"
   },
   {
    "duration": 1954,
    "start_time": "2022-05-06T05:15:43.731Z"
   },
   {
    "duration": 1060,
    "start_time": "2022-05-06T05:17:51.931Z"
   },
   {
    "duration": 1127,
    "start_time": "2022-05-06T05:18:06.286Z"
   },
   {
    "duration": 1057,
    "start_time": "2022-05-06T05:19:21.506Z"
   },
   {
    "duration": 1099,
    "start_time": "2022-05-06T05:19:28.796Z"
   },
   {
    "duration": 1098,
    "start_time": "2022-05-06T05:24:58.061Z"
   },
   {
    "duration": 1337,
    "start_time": "2022-05-06T05:28:02.091Z"
   },
   {
    "duration": 294,
    "start_time": "2022-05-06T05:28:59.054Z"
   },
   {
    "duration": 1037,
    "start_time": "2022-05-06T05:29:12.319Z"
   },
   {
    "duration": 1104,
    "start_time": "2022-05-06T05:29:27.277Z"
   },
   {
    "duration": 1091,
    "start_time": "2022-05-06T05:30:03.515Z"
   },
   {
    "duration": 1168,
    "start_time": "2022-05-06T05:31:50.072Z"
   },
   {
    "duration": 1127,
    "start_time": "2022-05-06T05:32:29.137Z"
   },
   {
    "duration": 1541,
    "start_time": "2022-05-06T05:52:17.311Z"
   },
   {
    "duration": 3,
    "start_time": "2022-05-06T05:52:18.855Z"
   },
   {
    "duration": 38,
    "start_time": "2022-05-06T05:52:18.860Z"
   },
   {
    "duration": 15,
    "start_time": "2022-05-06T05:52:18.901Z"
   },
   {
    "duration": 27,
    "start_time": "2022-05-06T05:52:18.919Z"
   },
   {
    "duration": 26,
    "start_time": "2022-05-06T05:52:18.948Z"
   },
   {
    "duration": 18,
    "start_time": "2022-05-06T05:52:18.976Z"
   },
   {
    "duration": 8,
    "start_time": "2022-05-06T05:52:18.996Z"
   },
   {
    "duration": 94,
    "start_time": "2022-05-06T05:52:19.006Z"
   },
   {
    "duration": 1234,
    "start_time": "2022-05-06T05:52:19.104Z"
   },
   {
    "duration": 47,
    "start_time": "2022-05-06T05:52:20.340Z"
   },
   {
    "duration": 26,
    "start_time": "2022-05-06T05:52:20.389Z"
   },
   {
    "duration": 26,
    "start_time": "2022-05-06T05:52:20.418Z"
   },
   {
    "duration": 51,
    "start_time": "2022-05-06T05:52:20.446Z"
   },
   {
    "duration": 10,
    "start_time": "2022-05-06T05:52:20.499Z"
   },
   {
    "duration": 25,
    "start_time": "2022-05-06T05:52:20.512Z"
   },
   {
    "duration": 366,
    "start_time": "2022-05-06T05:52:20.539Z"
   },
   {
    "duration": 237,
    "start_time": "2022-05-06T05:52:20.909Z"
   },
   {
    "duration": 41,
    "start_time": "2022-05-06T05:52:21.149Z"
   },
   {
    "duration": 566,
    "start_time": "2022-05-06T05:52:21.193Z"
   },
   {
    "duration": 432,
    "start_time": "2022-05-06T05:52:21.761Z"
   },
   {
    "duration": 518,
    "start_time": "2022-05-06T05:52:22.195Z"
   },
   {
    "duration": 417,
    "start_time": "2022-05-06T05:52:22.715Z"
   },
   {
    "duration": 541,
    "start_time": "2022-05-06T05:52:23.135Z"
   },
   {
    "duration": 17,
    "start_time": "2022-05-06T05:52:23.682Z"
   },
   {
    "duration": 329,
    "start_time": "2022-05-06T05:52:23.701Z"
   },
   {
    "duration": 6,
    "start_time": "2022-05-06T05:52:24.032Z"
   },
   {
    "duration": 442,
    "start_time": "2022-05-06T05:52:24.042Z"
   },
   {
    "duration": 6,
    "start_time": "2022-05-06T05:52:24.486Z"
   },
   {
    "duration": 17,
    "start_time": "2022-05-06T05:52:24.494Z"
   },
   {
    "duration": 12,
    "start_time": "2022-05-06T05:52:24.513Z"
   },
   {
    "duration": 69,
    "start_time": "2022-05-06T05:52:24.528Z"
   },
   {
    "duration": 6,
    "start_time": "2022-05-06T05:52:24.599Z"
   },
   {
    "duration": 16,
    "start_time": "2022-05-06T05:52:24.608Z"
   },
   {
    "duration": 11,
    "start_time": "2022-05-06T05:52:24.627Z"
   },
   {
    "duration": 52,
    "start_time": "2022-05-06T05:52:24.640Z"
   },
   {
    "duration": 16,
    "start_time": "2022-05-06T05:52:24.695Z"
   },
   {
    "duration": 33,
    "start_time": "2022-05-06T05:52:24.713Z"
   },
   {
    "duration": 6,
    "start_time": "2022-05-06T05:52:24.782Z"
   },
   {
    "duration": 19,
    "start_time": "2022-05-06T05:52:24.790Z"
   },
   {
    "duration": 24,
    "start_time": "2022-05-06T05:52:24.812Z"
   },
   {
    "duration": 1178,
    "start_time": "2022-05-06T05:54:16.728Z"
   },
   {
    "duration": 1298,
    "start_time": "2022-05-06T05:54:33.887Z"
   },
   {
    "duration": 1173,
    "start_time": "2022-05-06T05:54:40.215Z"
   },
   {
    "duration": 1231,
    "start_time": "2022-05-06T05:54:47.628Z"
   },
   {
    "duration": 1275,
    "start_time": "2022-05-06T05:54:59.378Z"
   },
   {
    "duration": 1266,
    "start_time": "2022-05-06T05:55:13.799Z"
   },
   {
    "duration": 9,
    "start_time": "2022-05-06T07:43:10.107Z"
   },
   {
    "duration": 11,
    "start_time": "2022-05-06T07:43:19.587Z"
   },
   {
    "duration": 10,
    "start_time": "2022-05-06T07:43:30.683Z"
   },
   {
    "duration": 10,
    "start_time": "2022-05-06T07:44:20.299Z"
   },
   {
    "duration": 21,
    "start_time": "2022-05-06T07:45:35.915Z"
   },
   {
    "duration": 23,
    "start_time": "2022-05-06T07:46:52.231Z"
   },
   {
    "duration": 27,
    "start_time": "2022-05-06T07:47:49.300Z"
   },
   {
    "duration": 10,
    "start_time": "2022-05-06T07:58:30.043Z"
   },
   {
    "duration": 11,
    "start_time": "2022-05-06T08:05:43.113Z"
   },
   {
    "duration": 10,
    "start_time": "2022-05-06T08:09:19.406Z"
   },
   {
    "duration": 10,
    "start_time": "2022-05-06T08:09:38.471Z"
   },
   {
    "duration": 12,
    "start_time": "2022-05-06T08:09:48.730Z"
   },
   {
    "duration": 10,
    "start_time": "2022-05-06T08:09:54.571Z"
   },
   {
    "duration": 11,
    "start_time": "2022-05-06T08:10:50.587Z"
   },
   {
    "duration": 7,
    "start_time": "2022-05-06T08:29:48.725Z"
   },
   {
    "duration": 24,
    "start_time": "2022-05-06T08:30:02.218Z"
   },
   {
    "duration": 25,
    "start_time": "2022-05-06T08:30:16.490Z"
   },
   {
    "duration": 24,
    "start_time": "2022-05-06T08:30:24.690Z"
   },
   {
    "duration": 7,
    "start_time": "2022-05-06T08:30:32.080Z"
   },
   {
    "duration": 23,
    "start_time": "2022-05-06T08:30:38.570Z"
   },
   {
    "duration": 1426,
    "start_time": "2022-05-06T08:30:44.511Z"
   },
   {
    "duration": 4,
    "start_time": "2022-05-06T08:30:45.940Z"
   },
   {
    "duration": 37,
    "start_time": "2022-05-06T08:30:45.946Z"
   },
   {
    "duration": 16,
    "start_time": "2022-05-06T08:30:45.986Z"
   },
   {
    "duration": 7,
    "start_time": "2022-05-06T08:30:46.004Z"
   },
   {
    "duration": 19,
    "start_time": "2022-05-06T08:30:46.013Z"
   },
   {
    "duration": 15,
    "start_time": "2022-05-06T08:30:46.034Z"
   },
   {
    "duration": 5,
    "start_time": "2022-05-06T08:30:46.083Z"
   },
   {
    "duration": 95,
    "start_time": "2022-05-06T08:30:46.089Z"
   },
   {
    "duration": 1277,
    "start_time": "2022-05-06T08:30:46.189Z"
   },
   {
    "duration": 47,
    "start_time": "2022-05-06T08:30:47.469Z"
   },
   {
    "duration": 26,
    "start_time": "2022-05-06T08:30:47.518Z"
   },
   {
    "duration": 31,
    "start_time": "2022-05-06T08:30:47.546Z"
   },
   {
    "duration": 27,
    "start_time": "2022-05-06T08:30:47.582Z"
   },
   {
    "duration": 10,
    "start_time": "2022-05-06T08:30:47.611Z"
   },
   {
    "duration": 10,
    "start_time": "2022-05-06T08:30:47.623Z"
   },
   {
    "duration": 58,
    "start_time": "2022-05-06T08:30:47.635Z"
   },
   {
    "duration": 20,
    "start_time": "2022-05-06T08:30:47.695Z"
   },
   {
    "duration": 317,
    "start_time": "2022-05-06T08:30:47.718Z"
   },
   {
    "duration": 249,
    "start_time": "2022-05-06T08:30:48.038Z"
   },
   {
    "duration": 29,
    "start_time": "2022-05-06T08:30:48.290Z"
   },
   {
    "duration": 580,
    "start_time": "2022-05-06T08:30:48.323Z"
   },
   {
    "duration": 447,
    "start_time": "2022-05-06T08:30:48.906Z"
   },
   {
    "duration": 519,
    "start_time": "2022-05-06T08:30:49.356Z"
   },
   {
    "duration": 430,
    "start_time": "2022-05-06T08:30:49.881Z"
   },
   {
    "duration": 601,
    "start_time": "2022-05-06T08:30:50.313Z"
   },
   {
    "duration": 22,
    "start_time": "2022-05-06T08:30:50.916Z"
   },
   {
    "duration": 444,
    "start_time": "2022-05-06T08:30:50.946Z"
   },
   {
    "duration": 5,
    "start_time": "2022-05-06T08:30:51.392Z"
   },
   {
    "duration": 431,
    "start_time": "2022-05-06T08:30:51.399Z"
   },
   {
    "duration": 6,
    "start_time": "2022-05-06T08:30:51.832Z"
   },
   {
    "duration": 16,
    "start_time": "2022-05-06T08:30:51.840Z"
   },
   {
    "duration": 12,
    "start_time": "2022-05-06T08:30:51.881Z"
   },
   {
    "duration": 31,
    "start_time": "2022-05-06T08:30:51.895Z"
   },
   {
    "duration": 5,
    "start_time": "2022-05-06T08:30:51.927Z"
   },
   {
    "duration": 15,
    "start_time": "2022-05-06T08:30:51.934Z"
   },
   {
    "duration": 38,
    "start_time": "2022-05-06T08:30:51.951Z"
   },
   {
    "duration": 12,
    "start_time": "2022-05-06T08:30:51.992Z"
   },
   {
    "duration": 14,
    "start_time": "2022-05-06T08:30:52.006Z"
   },
   {
    "duration": 66,
    "start_time": "2022-05-06T08:30:52.022Z"
   },
   {
    "duration": 5,
    "start_time": "2022-05-06T08:30:52.091Z"
   },
   {
    "duration": 18,
    "start_time": "2022-05-06T08:30:52.098Z"
   },
   {
    "duration": 11,
    "start_time": "2022-05-06T08:30:52.118Z"
   },
   {
    "duration": 19,
    "start_time": "2022-05-06T08:34:24.665Z"
   },
   {
    "duration": 1428,
    "start_time": "2022-05-06T08:50:58.515Z"
   },
   {
    "duration": 4,
    "start_time": "2022-05-06T08:50:59.946Z"
   },
   {
    "duration": 33,
    "start_time": "2022-05-06T08:50:59.952Z"
   },
   {
    "duration": 18,
    "start_time": "2022-05-06T08:50:59.988Z"
   },
   {
    "duration": 20,
    "start_time": "2022-05-06T08:51:00.008Z"
   },
   {
    "duration": 22,
    "start_time": "2022-05-06T08:51:00.030Z"
   },
   {
    "duration": 42,
    "start_time": "2022-05-06T08:51:00.054Z"
   },
   {
    "duration": 9,
    "start_time": "2022-05-06T08:51:00.098Z"
   },
   {
    "duration": 91,
    "start_time": "2022-05-06T08:51:00.110Z"
   },
   {
    "duration": 1297,
    "start_time": "2022-05-06T08:51:00.205Z"
   },
   {
    "duration": 46,
    "start_time": "2022-05-06T08:51:01.505Z"
   },
   {
    "duration": 26,
    "start_time": "2022-05-06T08:51:01.554Z"
   },
   {
    "duration": 30,
    "start_time": "2022-05-06T08:51:01.582Z"
   },
   {
    "duration": 27,
    "start_time": "2022-05-06T08:51:01.615Z"
   },
   {
    "duration": 16,
    "start_time": "2022-05-06T08:51:01.644Z"
   },
   {
    "duration": 23,
    "start_time": "2022-05-06T08:51:01.663Z"
   },
   {
    "duration": 64,
    "start_time": "2022-05-06T08:51:01.689Z"
   },
   {
    "duration": 131,
    "start_time": "2022-05-06T08:51:01.756Z"
   },
   {
    "duration": 448,
    "start_time": "2022-05-06T08:51:01.890Z"
   },
   {
    "duration": 368,
    "start_time": "2022-05-06T08:51:02.341Z"
   },
   {
    "duration": 28,
    "start_time": "2022-05-06T08:51:02.712Z"
   },
   {
    "duration": 622,
    "start_time": "2022-05-06T08:51:02.742Z"
   },
   {
    "duration": 440,
    "start_time": "2022-05-06T08:51:03.366Z"
   },
   {
    "duration": 482,
    "start_time": "2022-05-06T08:51:03.808Z"
   },
   {
    "duration": 407,
    "start_time": "2022-05-06T08:51:04.292Z"
   },
   {
    "duration": 497,
    "start_time": "2022-05-06T08:51:04.701Z"
   },
   {
    "duration": 20,
    "start_time": "2022-05-06T08:51:05.200Z"
   },
   {
    "duration": 361,
    "start_time": "2022-05-06T08:51:05.227Z"
   },
   {
    "duration": 7,
    "start_time": "2022-05-06T08:51:05.591Z"
   },
   {
    "duration": 529,
    "start_time": "2022-05-06T08:51:05.601Z"
   },
   {
    "duration": 5,
    "start_time": "2022-05-06T08:51:06.132Z"
   },
   {
    "duration": 29,
    "start_time": "2022-05-06T08:51:06.139Z"
   },
   {
    "duration": 19,
    "start_time": "2022-05-06T08:51:06.170Z"
   },
   {
    "duration": 40,
    "start_time": "2022-05-06T08:51:06.191Z"
   },
   {
    "duration": 6,
    "start_time": "2022-05-06T08:51:06.233Z"
   },
   {
    "duration": 22,
    "start_time": "2022-05-06T08:51:06.241Z"
   },
   {
    "duration": 9,
    "start_time": "2022-05-06T08:51:06.281Z"
   },
   {
    "duration": 18,
    "start_time": "2022-05-06T08:51:06.293Z"
   },
   {
    "duration": 17,
    "start_time": "2022-05-06T08:51:06.313Z"
   },
   {
    "duration": 56,
    "start_time": "2022-05-06T08:51:06.333Z"
   },
   {
    "duration": 5,
    "start_time": "2022-05-06T08:51:06.391Z"
   },
   {
    "duration": 16,
    "start_time": "2022-05-06T08:51:06.398Z"
   },
   {
    "duration": 14,
    "start_time": "2022-05-06T08:51:06.417Z"
   },
   {
    "duration": 516,
    "start_time": "2022-05-06T08:52:19.192Z"
   },
   {
    "duration": 531,
    "start_time": "2022-05-06T08:52:36.067Z"
   },
   {
    "duration": 541,
    "start_time": "2022-05-06T08:52:43.052Z"
   },
   {
    "duration": 15,
    "start_time": "2022-05-06T09:12:30.406Z"
   },
   {
    "duration": 15,
    "start_time": "2022-05-06T09:13:56.517Z"
   },
   {
    "duration": 1457,
    "start_time": "2022-05-06T09:14:05.179Z"
   },
   {
    "duration": 4,
    "start_time": "2022-05-06T09:14:06.638Z"
   },
   {
    "duration": 32,
    "start_time": "2022-05-06T09:14:06.645Z"
   },
   {
    "duration": 16,
    "start_time": "2022-05-06T09:14:06.682Z"
   },
   {
    "duration": 10,
    "start_time": "2022-05-06T09:14:06.700Z"
   },
   {
    "duration": 21,
    "start_time": "2022-05-06T09:14:06.712Z"
   },
   {
    "duration": 50,
    "start_time": "2022-05-06T09:14:06.735Z"
   },
   {
    "duration": 7,
    "start_time": "2022-05-06T09:14:06.787Z"
   },
   {
    "duration": 99,
    "start_time": "2022-05-06T09:14:06.796Z"
   },
   {
    "duration": 1234,
    "start_time": "2022-05-06T09:14:06.900Z"
   },
   {
    "duration": 61,
    "start_time": "2022-05-06T09:14:08.136Z"
   },
   {
    "duration": 25,
    "start_time": "2022-05-06T09:14:08.200Z"
   },
   {
    "duration": 23,
    "start_time": "2022-05-06T09:14:08.229Z"
   },
   {
    "duration": 27,
    "start_time": "2022-05-06T09:14:08.283Z"
   },
   {
    "duration": 11,
    "start_time": "2022-05-06T09:14:08.313Z"
   },
   {
    "duration": 14,
    "start_time": "2022-05-06T09:14:08.326Z"
   },
   {
    "duration": 49,
    "start_time": "2022-05-06T09:14:08.342Z"
   },
   {
    "duration": 22,
    "start_time": "2022-05-06T09:14:08.394Z"
   },
   {
    "duration": 323,
    "start_time": "2022-05-06T09:14:08.418Z"
   },
   {
    "duration": 245,
    "start_time": "2022-05-06T09:14:08.744Z"
   },
   {
    "duration": 24,
    "start_time": "2022-05-06T09:14:08.991Z"
   },
   {
    "duration": 573,
    "start_time": "2022-05-06T09:14:09.017Z"
   },
   {
    "duration": 432,
    "start_time": "2022-05-06T09:14:09.593Z"
   },
   {
    "duration": 573,
    "start_time": "2022-05-06T09:14:10.027Z"
   },
   {
    "duration": 429,
    "start_time": "2022-05-06T09:14:10.602Z"
   },
   {
    "duration": 571,
    "start_time": "2022-05-06T09:14:11.034Z"
   },
   {
    "duration": 19,
    "start_time": "2022-05-06T09:14:11.607Z"
   },
   {
    "duration": 355,
    "start_time": "2022-05-06T09:14:11.631Z"
   },
   {
    "duration": 6,
    "start_time": "2022-05-06T09:14:11.988Z"
   },
   {
    "duration": 424,
    "start_time": "2022-05-06T09:14:11.997Z"
   },
   {
    "duration": 6,
    "start_time": "2022-05-06T09:14:12.424Z"
   },
   {
    "duration": 22,
    "start_time": "2022-05-06T09:14:12.432Z"
   },
   {
    "duration": 31,
    "start_time": "2022-05-06T09:14:12.456Z"
   },
   {
    "duration": 31,
    "start_time": "2022-05-06T09:14:12.489Z"
   },
   {
    "duration": 7,
    "start_time": "2022-05-06T09:14:12.522Z"
   },
   {
    "duration": 19,
    "start_time": "2022-05-06T09:14:12.532Z"
   },
   {
    "duration": 36,
    "start_time": "2022-05-06T09:14:12.553Z"
   },
   {
    "duration": 19,
    "start_time": "2022-05-06T09:14:12.592Z"
   },
   {
    "duration": 123,
    "start_time": "2022-05-06T09:14:12.613Z"
   },
   {
    "duration": 0,
    "start_time": "2022-05-06T09:14:12.738Z"
   },
   {
    "duration": 0,
    "start_time": "2022-05-06T09:14:12.740Z"
   },
   {
    "duration": 0,
    "start_time": "2022-05-06T09:14:12.741Z"
   },
   {
    "duration": 0,
    "start_time": "2022-05-06T09:14:12.742Z"
   },
   {
    "duration": 1504,
    "start_time": "2022-05-06T09:15:07.261Z"
   },
   {
    "duration": 3,
    "start_time": "2022-05-06T09:15:08.768Z"
   },
   {
    "duration": 38,
    "start_time": "2022-05-06T09:15:08.774Z"
   },
   {
    "duration": 16,
    "start_time": "2022-05-06T09:15:08.815Z"
   },
   {
    "duration": 9,
    "start_time": "2022-05-06T09:15:08.834Z"
   },
   {
    "duration": 47,
    "start_time": "2022-05-06T09:15:08.845Z"
   },
   {
    "duration": 17,
    "start_time": "2022-05-06T09:15:08.895Z"
   },
   {
    "duration": 5,
    "start_time": "2022-05-06T09:15:08.914Z"
   },
   {
    "duration": 101,
    "start_time": "2022-05-06T09:15:08.921Z"
   },
   {
    "duration": 1244,
    "start_time": "2022-05-06T09:15:09.026Z"
   },
   {
    "duration": 51,
    "start_time": "2022-05-06T09:15:10.273Z"
   },
   {
    "duration": 25,
    "start_time": "2022-05-06T09:15:10.326Z"
   },
   {
    "duration": 28,
    "start_time": "2022-05-06T09:15:10.353Z"
   },
   {
    "duration": 28,
    "start_time": "2022-05-06T09:15:10.384Z"
   },
   {
    "duration": 12,
    "start_time": "2022-05-06T09:15:10.414Z"
   },
   {
    "duration": 11,
    "start_time": "2022-05-06T09:15:10.428Z"
   },
   {
    "duration": 50,
    "start_time": "2022-05-06T09:15:10.441Z"
   },
   {
    "duration": 23,
    "start_time": "2022-05-06T09:15:10.494Z"
   },
   {
    "duration": 311,
    "start_time": "2022-05-06T09:15:10.519Z"
   },
   {
    "duration": 251,
    "start_time": "2022-05-06T09:15:10.832Z"
   },
   {
    "duration": 27,
    "start_time": "2022-05-06T09:15:11.085Z"
   },
   {
    "duration": 579,
    "start_time": "2022-05-06T09:15:11.115Z"
   },
   {
    "duration": 424,
    "start_time": "2022-05-06T09:15:11.697Z"
   },
   {
    "duration": 540,
    "start_time": "2022-05-06T09:15:12.123Z"
   },
   {
    "duration": 413,
    "start_time": "2022-05-06T09:15:12.665Z"
   },
   {
    "duration": 513,
    "start_time": "2022-05-06T09:15:13.082Z"
   },
   {
    "duration": 18,
    "start_time": "2022-05-06T09:15:13.597Z"
   },
   {
    "duration": 377,
    "start_time": "2022-05-06T09:15:13.620Z"
   },
   {
    "duration": 5,
    "start_time": "2022-05-06T09:15:13.999Z"
   },
   {
    "duration": 477,
    "start_time": "2022-05-06T09:15:14.007Z"
   },
   {
    "duration": 5,
    "start_time": "2022-05-06T09:15:14.486Z"
   },
   {
    "duration": 19,
    "start_time": "2022-05-06T09:15:14.493Z"
   },
   {
    "duration": 10,
    "start_time": "2022-05-06T09:15:14.515Z"
   },
   {
    "duration": 69,
    "start_time": "2022-05-06T09:15:14.527Z"
   },
   {
    "duration": 5,
    "start_time": "2022-05-06T09:15:14.599Z"
   },
   {
    "duration": 19,
    "start_time": "2022-05-06T09:15:14.606Z"
   },
   {
    "duration": 10,
    "start_time": "2022-05-06T09:15:14.627Z"
   },
   {
    "duration": 14,
    "start_time": "2022-05-06T09:15:14.639Z"
   },
   {
    "duration": 13,
    "start_time": "2022-05-06T09:15:14.682Z"
   },
   {
    "duration": 35,
    "start_time": "2022-05-06T09:15:14.697Z"
   },
   {
    "duration": 7,
    "start_time": "2022-05-06T09:15:14.781Z"
   },
   {
    "duration": 16,
    "start_time": "2022-05-06T09:15:14.790Z"
   },
   {
    "duration": 12,
    "start_time": "2022-05-06T09:15:14.808Z"
   },
   {
    "duration": 1501,
    "start_time": "2022-05-06T09:23:38.071Z"
   },
   {
    "duration": 6,
    "start_time": "2022-05-06T09:23:39.575Z"
   },
   {
    "duration": 40,
    "start_time": "2022-05-06T09:23:39.584Z"
   },
   {
    "duration": 15,
    "start_time": "2022-05-06T09:23:39.627Z"
   },
   {
    "duration": 10,
    "start_time": "2022-05-06T09:23:39.645Z"
   },
   {
    "duration": 45,
    "start_time": "2022-05-06T09:23:39.657Z"
   },
   {
    "duration": 16,
    "start_time": "2022-05-06T09:23:39.705Z"
   },
   {
    "duration": 8,
    "start_time": "2022-05-06T09:23:39.724Z"
   },
   {
    "duration": 107,
    "start_time": "2022-05-06T09:23:39.734Z"
   },
   {
    "duration": 1354,
    "start_time": "2022-05-06T09:23:39.845Z"
   },
   {
    "duration": 50,
    "start_time": "2022-05-06T09:23:41.201Z"
   },
   {
    "duration": 25,
    "start_time": "2022-05-06T09:23:41.253Z"
   },
   {
    "duration": 50,
    "start_time": "2022-05-06T09:23:41.280Z"
   },
   {
    "duration": 44,
    "start_time": "2022-05-06T09:23:41.333Z"
   },
   {
    "duration": 13,
    "start_time": "2022-05-06T09:23:41.380Z"
   },
   {
    "duration": 20,
    "start_time": "2022-05-06T09:23:41.395Z"
   },
   {
    "duration": 21,
    "start_time": "2022-05-06T09:23:41.417Z"
   },
   {
    "duration": 58,
    "start_time": "2022-05-06T09:23:41.441Z"
   },
   {
    "duration": 335,
    "start_time": "2022-05-06T09:23:41.502Z"
   },
   {
    "duration": 284,
    "start_time": "2022-05-06T09:23:41.840Z"
   },
   {
    "duration": 25,
    "start_time": "2022-05-06T09:23:42.127Z"
   },
   {
    "duration": 618,
    "start_time": "2022-05-06T09:23:42.154Z"
   },
   {
    "duration": 448,
    "start_time": "2022-05-06T09:23:42.786Z"
   },
   {
    "duration": 557,
    "start_time": "2022-05-06T09:23:43.237Z"
   },
   {
    "duration": 492,
    "start_time": "2022-05-06T09:23:43.797Z"
   },
   {
    "duration": 575,
    "start_time": "2022-05-06T09:23:44.293Z"
   },
   {
    "duration": 32,
    "start_time": "2022-05-06T09:23:44.870Z"
   },
   {
    "duration": 492,
    "start_time": "2022-05-06T09:23:44.908Z"
   },
   {
    "duration": 6,
    "start_time": "2022-05-06T09:23:45.404Z"
   },
   {
    "duration": 591,
    "start_time": "2022-05-06T09:23:45.413Z"
   },
   {
    "duration": 6,
    "start_time": "2022-05-06T09:23:46.007Z"
   },
   {
    "duration": 23,
    "start_time": "2022-05-06T09:23:46.016Z"
   },
   {
    "duration": 15,
    "start_time": "2022-05-06T09:23:46.041Z"
   },
   {
    "duration": 57,
    "start_time": "2022-05-06T09:23:46.084Z"
   },
   {
    "duration": 6,
    "start_time": "2022-05-06T09:23:46.144Z"
   },
   {
    "duration": 38,
    "start_time": "2022-05-06T09:23:46.153Z"
   },
   {
    "duration": 23,
    "start_time": "2022-05-06T09:23:46.195Z"
   },
   {
    "duration": 21,
    "start_time": "2022-05-06T09:23:46.220Z"
   },
   {
    "duration": 44,
    "start_time": "2022-05-06T09:23:46.244Z"
   },
   {
    "duration": 65,
    "start_time": "2022-05-06T09:23:46.291Z"
   },
   {
    "duration": 6,
    "start_time": "2022-05-06T09:23:46.359Z"
   },
   {
    "duration": 21,
    "start_time": "2022-05-06T09:23:46.382Z"
   },
   {
    "duration": 16,
    "start_time": "2022-05-06T09:23:46.406Z"
   },
   {
    "duration": 13,
    "start_time": "2022-05-06T09:34:03.185Z"
   },
   {
    "duration": 15,
    "start_time": "2022-05-06T09:35:18.280Z"
   },
   {
    "duration": 1437,
    "start_time": "2022-05-06T09:35:38.385Z"
   },
   {
    "duration": 3,
    "start_time": "2022-05-06T09:35:39.824Z"
   },
   {
    "duration": 30,
    "start_time": "2022-05-06T09:35:39.829Z"
   },
   {
    "duration": 29,
    "start_time": "2022-05-06T09:35:39.862Z"
   },
   {
    "duration": 10,
    "start_time": "2022-05-06T09:35:39.893Z"
   },
   {
    "duration": 20,
    "start_time": "2022-05-06T09:35:39.905Z"
   },
   {
    "duration": 15,
    "start_time": "2022-05-06T09:35:39.927Z"
   },
   {
    "duration": 41,
    "start_time": "2022-05-06T09:35:39.944Z"
   },
   {
    "duration": 127,
    "start_time": "2022-05-06T09:35:39.988Z"
   },
   {
    "duration": 2009,
    "start_time": "2022-05-06T09:35:40.121Z"
   },
   {
    "duration": 60,
    "start_time": "2022-05-06T09:35:42.133Z"
   },
   {
    "duration": 27,
    "start_time": "2022-05-06T09:35:42.195Z"
   },
   {
    "duration": 21,
    "start_time": "2022-05-06T09:35:42.224Z"
   },
   {
    "duration": 58,
    "start_time": "2022-05-06T09:35:42.247Z"
   },
   {
    "duration": 13,
    "start_time": "2022-05-06T09:35:42.307Z"
   },
   {
    "duration": 22,
    "start_time": "2022-05-06T09:35:42.322Z"
   },
   {
    "duration": 52,
    "start_time": "2022-05-06T09:35:42.347Z"
   },
   {
    "duration": 40,
    "start_time": "2022-05-06T09:35:42.402Z"
   },
   {
    "duration": 485,
    "start_time": "2022-05-06T09:35:42.445Z"
   },
   {
    "duration": 353,
    "start_time": "2022-05-06T09:35:42.933Z"
   },
   {
    "duration": 37,
    "start_time": "2022-05-06T09:35:43.288Z"
   },
   {
    "duration": 840,
    "start_time": "2022-05-06T09:35:43.327Z"
   },
   {
    "duration": 627,
    "start_time": "2022-05-06T09:35:44.170Z"
   },
   {
    "duration": 708,
    "start_time": "2022-05-06T09:35:44.801Z"
   },
   {
    "duration": 586,
    "start_time": "2022-05-06T09:35:45.512Z"
   },
   {
    "duration": 727,
    "start_time": "2022-05-06T09:35:46.101Z"
   },
   {
    "duration": 25,
    "start_time": "2022-05-06T09:35:46.831Z"
   },
   {
    "duration": 482,
    "start_time": "2022-05-06T09:35:46.881Z"
   },
   {
    "duration": 17,
    "start_time": "2022-05-06T09:35:47.366Z"
   },
   {
    "duration": 418,
    "start_time": "2022-05-06T09:35:47.386Z"
   },
   {
    "duration": 6,
    "start_time": "2022-05-06T09:35:47.806Z"
   },
   {
    "duration": 21,
    "start_time": "2022-05-06T09:35:47.814Z"
   },
   {
    "duration": 11,
    "start_time": "2022-05-06T09:35:47.838Z"
   },
   {
    "duration": 51,
    "start_time": "2022-05-06T09:35:47.851Z"
   },
   {
    "duration": 13,
    "start_time": "2022-05-06T09:35:47.904Z"
   },
   {
    "duration": 21,
    "start_time": "2022-05-06T09:35:47.919Z"
   },
   {
    "duration": 8,
    "start_time": "2022-05-06T09:35:47.942Z"
   },
   {
    "duration": 40,
    "start_time": "2022-05-06T09:35:47.953Z"
   },
   {
    "duration": 14,
    "start_time": "2022-05-06T09:35:47.995Z"
   },
   {
    "duration": 43,
    "start_time": "2022-05-06T09:35:48.011Z"
   },
   {
    "duration": 25,
    "start_time": "2022-05-06T09:35:48.056Z"
   },
   {
    "duration": 14,
    "start_time": "2022-05-06T09:35:48.084Z"
   },
   {
    "duration": 39,
    "start_time": "2022-05-06T09:35:48.100Z"
   },
   {
    "duration": 1949,
    "start_time": "2022-05-06T10:04:00.571Z"
   },
   {
    "duration": 4,
    "start_time": "2022-05-06T10:04:02.524Z"
   },
   {
    "duration": 44,
    "start_time": "2022-05-06T10:04:02.531Z"
   },
   {
    "duration": 16,
    "start_time": "2022-05-06T10:04:02.582Z"
   },
   {
    "duration": 11,
    "start_time": "2022-05-06T10:04:02.600Z"
   },
   {
    "duration": 20,
    "start_time": "2022-05-06T10:04:02.614Z"
   },
   {
    "duration": 50,
    "start_time": "2022-05-06T10:04:02.637Z"
   },
   {
    "duration": 6,
    "start_time": "2022-05-06T10:04:02.689Z"
   },
   {
    "duration": 94,
    "start_time": "2022-05-06T10:04:02.698Z"
   },
   {
    "duration": 1207,
    "start_time": "2022-05-06T10:04:02.796Z"
   },
   {
    "duration": 47,
    "start_time": "2022-05-06T10:04:04.005Z"
   },
   {
    "duration": 26,
    "start_time": "2022-05-06T10:04:04.054Z"
   },
   {
    "duration": 28,
    "start_time": "2022-05-06T10:04:04.082Z"
   },
   {
    "duration": 28,
    "start_time": "2022-05-06T10:04:04.112Z"
   },
   {
    "duration": 14,
    "start_time": "2022-05-06T10:04:04.143Z"
   },
   {
    "duration": 17,
    "start_time": "2022-05-06T10:04:04.182Z"
   },
   {
    "duration": 26,
    "start_time": "2022-05-06T10:04:04.202Z"
   },
   {
    "duration": 62,
    "start_time": "2022-05-06T10:04:04.230Z"
   },
   {
    "duration": 429,
    "start_time": "2022-05-06T10:04:04.295Z"
   },
   {
    "duration": 340,
    "start_time": "2022-05-06T10:04:04.727Z"
   },
   {
    "duration": 45,
    "start_time": "2022-05-06T10:04:05.069Z"
   },
   {
    "duration": 814,
    "start_time": "2022-05-06T10:04:05.117Z"
   },
   {
    "duration": 611,
    "start_time": "2022-05-06T10:04:05.934Z"
   },
   {
    "duration": 672,
    "start_time": "2022-05-06T10:04:06.548Z"
   },
   {
    "duration": 425,
    "start_time": "2022-05-06T10:04:07.223Z"
   },
   {
    "duration": 551,
    "start_time": "2022-05-06T10:04:07.651Z"
   },
   {
    "duration": 24,
    "start_time": "2022-05-06T10:04:08.205Z"
   },
   {
    "duration": 448,
    "start_time": "2022-05-06T10:04:08.236Z"
   },
   {
    "duration": 6,
    "start_time": "2022-05-06T10:04:08.686Z"
   },
   {
    "duration": 440,
    "start_time": "2022-05-06T10:04:08.694Z"
   },
   {
    "duration": 6,
    "start_time": "2022-05-06T10:04:09.136Z"
   },
   {
    "duration": 41,
    "start_time": "2022-05-06T10:04:09.145Z"
   },
   {
    "duration": 12,
    "start_time": "2022-05-06T10:04:09.189Z"
   },
   {
    "duration": 43,
    "start_time": "2022-05-06T10:04:09.204Z"
   },
   {
    "duration": 6,
    "start_time": "2022-05-06T10:04:09.250Z"
   },
   {
    "duration": 43,
    "start_time": "2022-05-06T10:04:09.259Z"
   },
   {
    "duration": 11,
    "start_time": "2022-05-06T10:04:09.305Z"
   },
   {
    "duration": 17,
    "start_time": "2022-05-06T10:04:09.319Z"
   },
   {
    "duration": 54,
    "start_time": "2022-05-06T10:04:09.339Z"
   },
   {
    "duration": 34,
    "start_time": "2022-05-06T10:04:09.396Z"
   },
   {
    "duration": 8,
    "start_time": "2022-05-06T10:04:09.435Z"
   },
   {
    "duration": 56,
    "start_time": "2022-05-06T10:04:09.451Z"
   },
   {
    "duration": 16,
    "start_time": "2022-05-06T10:04:09.509Z"
   },
   {
    "duration": 1162,
    "start_time": "2022-05-07T06:23:45.415Z"
   },
   {
    "duration": 3,
    "start_time": "2022-05-07T06:23:46.579Z"
   },
   {
    "duration": 28,
    "start_time": "2022-05-07T06:23:46.583Z"
   },
   {
    "duration": 12,
    "start_time": "2022-05-07T06:23:46.613Z"
   },
   {
    "duration": 6,
    "start_time": "2022-05-07T06:23:46.626Z"
   },
   {
    "duration": 14,
    "start_time": "2022-05-07T06:23:46.633Z"
   },
   {
    "duration": 10,
    "start_time": "2022-05-07T06:23:46.649Z"
   },
   {
    "duration": 4,
    "start_time": "2022-05-07T06:23:46.661Z"
   },
   {
    "duration": 77,
    "start_time": "2022-05-07T06:23:46.667Z"
   },
   {
    "duration": 744,
    "start_time": "2022-05-07T06:23:46.747Z"
   },
   {
    "duration": 60,
    "start_time": "2022-05-07T06:23:47.493Z"
   },
   {
    "duration": 15,
    "start_time": "2022-05-07T06:23:47.555Z"
   },
   {
    "duration": 34,
    "start_time": "2022-05-07T06:23:47.572Z"
   },
   {
    "duration": 25,
    "start_time": "2022-05-07T06:23:47.608Z"
   },
   {
    "duration": 24,
    "start_time": "2022-05-07T06:23:47.635Z"
   },
   {
    "duration": 33,
    "start_time": "2022-05-07T06:23:47.661Z"
   },
   {
    "duration": 44,
    "start_time": "2022-05-07T06:23:47.696Z"
   },
   {
    "duration": 30,
    "start_time": "2022-05-07T06:23:47.742Z"
   },
   {
    "duration": 186,
    "start_time": "2022-05-07T06:23:47.773Z"
   },
   {
    "duration": 136,
    "start_time": "2022-05-07T06:23:47.960Z"
   },
   {
    "duration": 27,
    "start_time": "2022-05-07T06:23:48.097Z"
   },
   {
    "duration": 315,
    "start_time": "2022-05-07T06:23:48.125Z"
   },
   {
    "duration": 245,
    "start_time": "2022-05-07T06:23:48.441Z"
   },
   {
    "duration": 366,
    "start_time": "2022-05-07T06:23:48.688Z"
   },
   {
    "duration": 223,
    "start_time": "2022-05-07T06:23:49.056Z"
   },
   {
    "duration": 377,
    "start_time": "2022-05-07T06:23:49.281Z"
   },
   {
    "duration": 14,
    "start_time": "2022-05-07T06:23:49.660Z"
   },
   {
    "duration": 189,
    "start_time": "2022-05-07T06:23:49.678Z"
   },
   {
    "duration": 5,
    "start_time": "2022-05-07T06:23:49.869Z"
   },
   {
    "duration": 262,
    "start_time": "2022-05-07T06:23:49.875Z"
   },
   {
    "duration": 4,
    "start_time": "2022-05-07T06:23:50.139Z"
   },
   {
    "duration": 30,
    "start_time": "2022-05-07T06:23:50.145Z"
   },
   {
    "duration": 15,
    "start_time": "2022-05-07T06:23:50.176Z"
   },
   {
    "duration": 50,
    "start_time": "2022-05-07T06:23:50.193Z"
   },
   {
    "duration": 5,
    "start_time": "2022-05-07T06:23:50.244Z"
   },
   {
    "duration": 31,
    "start_time": "2022-05-07T06:23:50.250Z"
   },
   {
    "duration": 16,
    "start_time": "2022-05-07T06:23:50.283Z"
   },
   {
    "duration": 11,
    "start_time": "2022-05-07T06:23:50.301Z"
   },
   {
    "duration": 24,
    "start_time": "2022-05-07T06:23:50.314Z"
   },
   {
    "duration": 25,
    "start_time": "2022-05-07T06:23:50.340Z"
   },
   {
    "duration": 5,
    "start_time": "2022-05-07T06:23:50.367Z"
   },
   {
    "duration": 15,
    "start_time": "2022-05-07T06:23:50.373Z"
   },
   {
    "duration": 9,
    "start_time": "2022-05-07T06:23:50.390Z"
   }
  ],
  "kernelspec": {
   "display_name": "Python 3 (ipykernel)",
   "language": "python",
   "name": "python3"
  },
  "language_info": {
   "codemirror_mode": {
    "name": "ipython",
    "version": 3
   },
   "file_extension": ".py",
   "mimetype": "text/x-python",
   "name": "python",
   "nbconvert_exporter": "python",
   "pygments_lexer": "ipython3",
   "version": "3.9.7"
  },
  "toc": {
   "base_numbering": 1,
   "nav_menu": {},
   "number_sections": true,
   "sideBar": true,
   "skip_h1_title": true,
   "title_cell": "Содержание",
   "title_sidebar": "Содержание",
   "toc_cell": true,
   "toc_position": {
    "height": "calc(100% - 180px)",
    "left": "10px",
    "top": "150px",
    "width": "165px"
   },
   "toc_section_display": true,
   "toc_window_display": true
  }
 },
 "nbformat": 4,
 "nbformat_minor": 2
}
