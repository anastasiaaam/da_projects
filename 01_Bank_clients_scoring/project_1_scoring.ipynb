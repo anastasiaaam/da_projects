{
 "cells": [
  {
   "cell_type": "markdown",
   "id": "9ed3c8be",
   "metadata": {
    "toc": true
   },
   "source": [
    "<h1>Содержание<span class=\"tocSkip\"></span></h1>\n",
    "<div class=\"toc\"><ul class=\"toc-item\"><li><span><a href=\"#Этап-1.-Обзор-данных\" data-toc-modified-id=\"Этап-1.-Обзор-данных-1\"><span class=\"toc-item-num\">1&nbsp;&nbsp;</span>Этап 1. Обзор данных</a></span><ul class=\"toc-item\"><li><span><a href=\"#Шаг-1.-Знакомство-с-данными\" data-toc-modified-id=\"Шаг-1.-Знакомство-с-данными-1.1\"><span class=\"toc-item-num\">1.1&nbsp;&nbsp;</span>Шаг 1. Знакомство с данными</a></span></li></ul></li><li><span><a href=\"#Этап-2.-Предобработка-данных\" data-toc-modified-id=\"Этап-2.-Предобработка-данных-2\"><span class=\"toc-item-num\">2&nbsp;&nbsp;</span>Этап 2. Предобработка данных</a></span><ul class=\"toc-item\"><li><span><a href=\"#Шаг-2.1-Заполнение-пропусков\" data-toc-modified-id=\"Шаг-2.1-Заполнение-пропусков-2.1\"><span class=\"toc-item-num\">2.1&nbsp;&nbsp;</span>Шаг 2.1 Заполнение пропусков</a></span></li><li><span><a href=\"#Шаг-2.2-Проверка-данных-на-аномалии-и-исправления\" data-toc-modified-id=\"Шаг-2.2-Проверка-данных-на-аномалии-и-исправления-2.2\"><span class=\"toc-item-num\">2.2&nbsp;&nbsp;</span>Шаг 2.2 Проверка данных на аномалии и исправления</a></span></li><li><span><a href=\"#Шаг-2.3.-Изменение-типов-данных\" data-toc-modified-id=\"Шаг-2.3.-Изменение-типов-данных-2.3\"><span class=\"toc-item-num\">2.3&nbsp;&nbsp;</span>Шаг 2.3. Изменение типов данных</a></span></li><li><span><a href=\"#Шаг-2.4.-Удаление-дубликатов\" data-toc-modified-id=\"Шаг-2.4.-Удаление-дубликатов-2.4\"><span class=\"toc-item-num\">2.4&nbsp;&nbsp;</span>Шаг 2.4. Удаление дубликатов</a></span></li><li><span><a href=\"#Шаг-2.5.-Формирование-дополнительных-датафреймов-словарей,-декомпозиция-исходного-датафрейма\" data-toc-modified-id=\"Шаг-2.5.-Формирование-дополнительных-датафреймов-словарей,-декомпозиция-исходного-датафрейма-2.5\"><span class=\"toc-item-num\">2.5&nbsp;&nbsp;</span>Шаг 2.5. Формирование дополнительных датафреймов словарей, декомпозиция исходного датафрейма</a></span></li><li><span><a href=\"#Шаг-2.6.-Категоризация-дохода\" data-toc-modified-id=\"Шаг-2.6.-Категоризация-дохода-2.6\"><span class=\"toc-item-num\">2.6&nbsp;&nbsp;</span>Шаг 2.6. Категоризация дохода</a></span></li><li><span><a href=\"#Шаг-2.7.-Категоризация-целей-кредита\" data-toc-modified-id=\"Шаг-2.7.-Категоризация-целей-кредита-2.7\"><span class=\"toc-item-num\">2.7&nbsp;&nbsp;</span>Шаг 2.7. Категоризация целей кредита</a></span></li></ul></li><li><span><a href=\"#Этап-3.-Проверка-гипотез\" data-toc-modified-id=\"Этап-3.-Проверка-гипотез-3\"><span class=\"toc-item-num\">3&nbsp;&nbsp;</span>Этап 3. Проверка гипотез</a></span><ul class=\"toc-item\"><li><span><a href=\"#Проверка-гипотезы-№1\" data-toc-modified-id=\"Проверка-гипотезы-№1-3.1\"><span class=\"toc-item-num\">3.1&nbsp;&nbsp;</span>Проверка гипотезы №1</a></span></li><li><span><a href=\"#Проверка-гипотезы-№2\" data-toc-modified-id=\"Проверка-гипотезы-№2-3.2\"><span class=\"toc-item-num\">3.2&nbsp;&nbsp;</span>Проверка гипотезы №2</a></span></li><li><span><a href=\"#Проверка-гипотезы-№3\" data-toc-modified-id=\"Проверка-гипотезы-№3-3.3\"><span class=\"toc-item-num\">3.3&nbsp;&nbsp;</span>Проверка гипотезы №3</a></span></li><li><span><a href=\"#Проверка-гипотезы-№4\" data-toc-modified-id=\"Проверка-гипотезы-№4-3.4\"><span class=\"toc-item-num\">3.4&nbsp;&nbsp;</span>Проверка гипотезы №4</a></span></li></ul></li><li><span><a href=\"#Общий-вывод\" data-toc-modified-id=\"Общий-вывод-4\"><span class=\"toc-item-num\">4&nbsp;&nbsp;</span>Общий вывод</a></span></li></ul></div>"
   ]
  },
  {
   "cell_type": "markdown",
   "id": "030bdb0d",
   "metadata": {},
   "source": [
    "# Исследование надежности заемщиков"
   ]
  },
  {
   "cell_type": "markdown",
   "id": "67901dc2",
   "metadata": {},
   "source": [
    "**Цель исследования** — проверить четыре гипотезы:\n",
    "\n",
    "1. Количество детей клиента влияет на факт погашения кредита в срок.\n",
    "2. Семейное положение клиента влияет на факт погашения кредита в срок.\n",
    "3. Уровень дохода клиента влияет на факт погашения кредита в срок.\n",
    "4. Цель кредита влияет на факт погашения кредита в срок.\n",
    "\n",
    "**Ход исследования**\n",
    "\n",
    "Будем использовать входные данные от банка — статистика о платёжеспособности клиентов из файла `/datasets/data.csv`.\n",
    "Перед проверкой гипотез нам понадобится обзор данных. \n",
    "\n",
    "Этапы исследования:\n",
    " 1. Обзор данных.\n",
    " 2. Предобработка данных.\n",
    " 3. Проверка гипотез."
   ]
  },
  {
   "cell_type": "markdown",
   "id": "995857f8",
   "metadata": {},
   "source": [
    "<div style=\"border:solid black 1px; padding: 20px\">\n",
    "    \n",
    "**Описание данных**\n",
    "    \n",
    "- children — количество детей в семье \n",
    "- days_employed — общий трудовой стаж в днях\n",
    "- dob_years — возраст клиента в годах\n",
    "- education — уровень образования клиента \n",
    "- education_id — идентификатор уровня образования\n",
    "- family_status — семейное положение\n",
    "- family_status_id — идентификатор семейного положения\n",
    "- gender — пол клиента\n",
    "- income_type — тип занятости\n",
    "- debt — имел ли задолженность по возврату кредитов\n",
    "- total_income — ежемесячный доход\n",
    "- purpose — цель получения кредита\n",
    "    \n",
    "</div>    "
   ]
  },
  {
   "cell_type": "markdown",
   "id": "a13890d5",
   "metadata": {},
   "source": [
    "## Этап 1. Обзор данных\n",
    "### Шаг 1. Знакомство с данными"
   ]
  },
  {
   "cell_type": "code",
   "execution_count": 1,
   "id": "1cab3e0f",
   "metadata": {},
   "outputs": [
    {
     "name": "stdout",
     "output_type": "stream",
     "text": [
      "<class 'pandas.core.frame.DataFrame'>\n",
      "RangeIndex: 21525 entries, 0 to 21524\n",
      "Data columns (total 12 columns):\n",
      "children            21525 non-null int64\n",
      "days_employed       19351 non-null float64\n",
      "dob_years           21525 non-null int64\n",
      "education           21525 non-null object\n",
      "education_id        21525 non-null int64\n",
      "family_status       21525 non-null object\n",
      "family_status_id    21525 non-null int64\n",
      "gender              21525 non-null object\n",
      "income_type         21525 non-null object\n",
      "debt                21525 non-null int64\n",
      "total_income        19351 non-null float64\n",
      "purpose             21525 non-null object\n",
      "dtypes: float64(2), int64(5), object(5)\n",
      "memory usage: 2.0+ MB\n"
     ]
    }
   ],
   "source": [
    "# импорт библиотеки pandas\n",
    "import pandas as pd\n",
    "\n",
    "# чтение файла с данными и сохранение в df\n",
    "df = pd.read_csv('/datasets/data.csv')\n",
    "\n",
    "# получение общей информации о данных в df\n",
    "df.info()"
   ]
  },
  {
   "cell_type": "markdown",
   "id": "53fe0d1a",
   "metadata": {},
   "source": [
    "<div class=\"alert alert-block alert-info\">\n",
    "<font color='Black'>\n",
    "\n",
    "Общее количество строк в датафрейме 21525, столбцов 12, встречающиеся типы данных: вещественные и целые числа, а также строковые значения. \n",
    "    \n",
    "В столбцах `days_employed` и `total_income` имеются пропущенные значения, так как в данных столбцах только 19351 непропущенных значений, что меньше общего количества строк в датафрейме."
   ]
  },
  {
   "cell_type": "code",
   "execution_count": 2,
   "id": "dc7649c4",
   "metadata": {},
   "outputs": [
    {
     "data": {
      "text/html": [
       "<div>\n",
       "<style scoped>\n",
       "    .dataframe tbody tr th:only-of-type {\n",
       "        vertical-align: middle;\n",
       "    }\n",
       "\n",
       "    .dataframe tbody tr th {\n",
       "        vertical-align: top;\n",
       "    }\n",
       "\n",
       "    .dataframe thead th {\n",
       "        text-align: right;\n",
       "    }\n",
       "</style>\n",
       "<table border=\"1\" class=\"dataframe\">\n",
       "  <thead>\n",
       "    <tr style=\"text-align: right;\">\n",
       "      <th></th>\n",
       "      <th>children</th>\n",
       "      <th>days_employed</th>\n",
       "      <th>dob_years</th>\n",
       "      <th>education</th>\n",
       "      <th>education_id</th>\n",
       "      <th>family_status</th>\n",
       "      <th>family_status_id</th>\n",
       "      <th>gender</th>\n",
       "      <th>income_type</th>\n",
       "      <th>debt</th>\n",
       "      <th>total_income</th>\n",
       "      <th>purpose</th>\n",
       "    </tr>\n",
       "  </thead>\n",
       "  <tbody>\n",
       "    <tr>\n",
       "      <td>0</td>\n",
       "      <td>1</td>\n",
       "      <td>-8437.673028</td>\n",
       "      <td>42</td>\n",
       "      <td>высшее</td>\n",
       "      <td>0</td>\n",
       "      <td>женат / замужем</td>\n",
       "      <td>0</td>\n",
       "      <td>F</td>\n",
       "      <td>сотрудник</td>\n",
       "      <td>0</td>\n",
       "      <td>253875.639453</td>\n",
       "      <td>покупка жилья</td>\n",
       "    </tr>\n",
       "    <tr>\n",
       "      <td>1</td>\n",
       "      <td>1</td>\n",
       "      <td>-4024.803754</td>\n",
       "      <td>36</td>\n",
       "      <td>среднее</td>\n",
       "      <td>1</td>\n",
       "      <td>женат / замужем</td>\n",
       "      <td>0</td>\n",
       "      <td>F</td>\n",
       "      <td>сотрудник</td>\n",
       "      <td>0</td>\n",
       "      <td>112080.014102</td>\n",
       "      <td>приобретение автомобиля</td>\n",
       "    </tr>\n",
       "    <tr>\n",
       "      <td>2</td>\n",
       "      <td>0</td>\n",
       "      <td>-5623.422610</td>\n",
       "      <td>33</td>\n",
       "      <td>Среднее</td>\n",
       "      <td>1</td>\n",
       "      <td>женат / замужем</td>\n",
       "      <td>0</td>\n",
       "      <td>M</td>\n",
       "      <td>сотрудник</td>\n",
       "      <td>0</td>\n",
       "      <td>145885.952297</td>\n",
       "      <td>покупка жилья</td>\n",
       "    </tr>\n",
       "    <tr>\n",
       "      <td>3</td>\n",
       "      <td>3</td>\n",
       "      <td>-4124.747207</td>\n",
       "      <td>32</td>\n",
       "      <td>среднее</td>\n",
       "      <td>1</td>\n",
       "      <td>женат / замужем</td>\n",
       "      <td>0</td>\n",
       "      <td>M</td>\n",
       "      <td>сотрудник</td>\n",
       "      <td>0</td>\n",
       "      <td>267628.550329</td>\n",
       "      <td>дополнительное образование</td>\n",
       "    </tr>\n",
       "    <tr>\n",
       "      <td>4</td>\n",
       "      <td>0</td>\n",
       "      <td>340266.072047</td>\n",
       "      <td>53</td>\n",
       "      <td>среднее</td>\n",
       "      <td>1</td>\n",
       "      <td>гражданский брак</td>\n",
       "      <td>1</td>\n",
       "      <td>F</td>\n",
       "      <td>пенсионер</td>\n",
       "      <td>0</td>\n",
       "      <td>158616.077870</td>\n",
       "      <td>сыграть свадьбу</td>\n",
       "    </tr>\n",
       "    <tr>\n",
       "      <td>5</td>\n",
       "      <td>0</td>\n",
       "      <td>-926.185831</td>\n",
       "      <td>27</td>\n",
       "      <td>высшее</td>\n",
       "      <td>0</td>\n",
       "      <td>гражданский брак</td>\n",
       "      <td>1</td>\n",
       "      <td>M</td>\n",
       "      <td>компаньон</td>\n",
       "      <td>0</td>\n",
       "      <td>255763.565419</td>\n",
       "      <td>покупка жилья</td>\n",
       "    </tr>\n",
       "    <tr>\n",
       "      <td>6</td>\n",
       "      <td>0</td>\n",
       "      <td>-2879.202052</td>\n",
       "      <td>43</td>\n",
       "      <td>высшее</td>\n",
       "      <td>0</td>\n",
       "      <td>женат / замужем</td>\n",
       "      <td>0</td>\n",
       "      <td>F</td>\n",
       "      <td>компаньон</td>\n",
       "      <td>0</td>\n",
       "      <td>240525.971920</td>\n",
       "      <td>операции с жильем</td>\n",
       "    </tr>\n",
       "    <tr>\n",
       "      <td>7</td>\n",
       "      <td>0</td>\n",
       "      <td>-152.779569</td>\n",
       "      <td>50</td>\n",
       "      <td>СРЕДНЕЕ</td>\n",
       "      <td>1</td>\n",
       "      <td>женат / замужем</td>\n",
       "      <td>0</td>\n",
       "      <td>M</td>\n",
       "      <td>сотрудник</td>\n",
       "      <td>0</td>\n",
       "      <td>135823.934197</td>\n",
       "      <td>образование</td>\n",
       "    </tr>\n",
       "    <tr>\n",
       "      <td>8</td>\n",
       "      <td>2</td>\n",
       "      <td>-6929.865299</td>\n",
       "      <td>35</td>\n",
       "      <td>ВЫСШЕЕ</td>\n",
       "      <td>0</td>\n",
       "      <td>гражданский брак</td>\n",
       "      <td>1</td>\n",
       "      <td>F</td>\n",
       "      <td>сотрудник</td>\n",
       "      <td>0</td>\n",
       "      <td>95856.832424</td>\n",
       "      <td>на проведение свадьбы</td>\n",
       "    </tr>\n",
       "    <tr>\n",
       "      <td>9</td>\n",
       "      <td>0</td>\n",
       "      <td>-2188.756445</td>\n",
       "      <td>41</td>\n",
       "      <td>среднее</td>\n",
       "      <td>1</td>\n",
       "      <td>женат / замужем</td>\n",
       "      <td>0</td>\n",
       "      <td>M</td>\n",
       "      <td>сотрудник</td>\n",
       "      <td>0</td>\n",
       "      <td>144425.938277</td>\n",
       "      <td>покупка жилья для семьи</td>\n",
       "    </tr>\n",
       "  </tbody>\n",
       "</table>\n",
       "</div>"
      ],
      "text/plain": [
       "   children  days_employed  dob_years education  education_id  \\\n",
       "0         1   -8437.673028         42    высшее             0   \n",
       "1         1   -4024.803754         36   среднее             1   \n",
       "2         0   -5623.422610         33   Среднее             1   \n",
       "3         3   -4124.747207         32   среднее             1   \n",
       "4         0  340266.072047         53   среднее             1   \n",
       "5         0    -926.185831         27    высшее             0   \n",
       "6         0   -2879.202052         43    высшее             0   \n",
       "7         0    -152.779569         50   СРЕДНЕЕ             1   \n",
       "8         2   -6929.865299         35    ВЫСШЕЕ             0   \n",
       "9         0   -2188.756445         41   среднее             1   \n",
       "\n",
       "      family_status  family_status_id gender income_type  debt   total_income  \\\n",
       "0   женат / замужем                 0      F   сотрудник     0  253875.639453   \n",
       "1   женат / замужем                 0      F   сотрудник     0  112080.014102   \n",
       "2   женат / замужем                 0      M   сотрудник     0  145885.952297   \n",
       "3   женат / замужем                 0      M   сотрудник     0  267628.550329   \n",
       "4  гражданский брак                 1      F   пенсионер     0  158616.077870   \n",
       "5  гражданский брак                 1      M   компаньон     0  255763.565419   \n",
       "6   женат / замужем                 0      F   компаньон     0  240525.971920   \n",
       "7   женат / замужем                 0      M   сотрудник     0  135823.934197   \n",
       "8  гражданский брак                 1      F   сотрудник     0   95856.832424   \n",
       "9   женат / замужем                 0      M   сотрудник     0  144425.938277   \n",
       "\n",
       "                      purpose  \n",
       "0               покупка жилья  \n",
       "1     приобретение автомобиля  \n",
       "2               покупка жилья  \n",
       "3  дополнительное образование  \n",
       "4             сыграть свадьбу  \n",
       "5               покупка жилья  \n",
       "6           операции с жильем  \n",
       "7                 образование  \n",
       "8       на проведение свадьбы  \n",
       "9     покупка жилья для семьи  "
      ]
     },
     "execution_count": 2,
     "metadata": {},
     "output_type": "execute_result"
    }
   ],
   "source": [
    "# получение первых 10 строк датафрейма df\n",
    "df.head(10)"
   ]
  },
  {
   "cell_type": "markdown",
   "id": "7f09e3b6",
   "metadata": {},
   "source": [
    "<div class=\"alert alert-block alert-info\">\n",
    "<font color='Black'>\n",
    "\n",
    "В ходе визуального анализа первых 10 строк обнаружили отрицательные значения в столбце `days_employed`, по своей сути значения в данном столбце должны принимать неотрицательные значения. \n",
    "Определим, как часто в данном столбце встречаются отрицательные значения"
   ]
  },
  {
   "cell_type": "code",
   "execution_count": 3,
   "id": "0183a3e9",
   "metadata": {},
   "outputs": [
    {
     "data": {
      "text/plain": [
       "15906"
      ]
     },
     "execution_count": 3,
     "metadata": {},
     "output_type": "execute_result"
    }
   ],
   "source": [
    "# выберем в df строки с отрицательными значением дней общего трудового стажа с помощью логической индексации\n",
    "# посчитаем количество таких строк методом count() по столбцу days_employed\n",
    "df[df['days_employed'] < 0]['days_employed'].count()"
   ]
  },
  {
   "cell_type": "markdown",
   "id": "73072211",
   "metadata": {},
   "source": [
    "<a id='survey'></a>\n",
    "<div class=\"alert alert-block alert-info\">\n",
    "<font color='Black'>\n",
    "    \n",
    "Получили 15906 строк с отрицательным значением общего трудового стажа, это составляет около 74% всех строк, что очень много.\n",
    "Попробуем обработать данные значения на этапе предобработки данных."
   ]
  },
  {
   "cell_type": "markdown",
   "id": "34ec02e2",
   "metadata": {},
   "source": [
    "<div style=\"border:solid green 3px; padding: 20px\">\n",
    "\n",
    "Провели обзор данных: общее количество строк в датафрейме 21525, столбцов 12, наименования столбцов отражают суть, содержащихся в них данных, и имеют корректные названия, встречающиеся типы данных - вещественные и целые числа, а также строковые значения, типы данных столбцов по своей сути соответствуют их содержанию. \n",
    "    \n",
    "Выявили следующие проблемы:\n",
    "- пропущенные значения в двух столбцах `days_employed` и `total_income`, по 2174 пропущенных значения в каждом из столбцов,\n",
    "- отрицательные значения в столбце `days_employed` в количестве 15906, что составляет около 74% всех строк."
   ]
  },
  {
   "cell_type": "markdown",
   "id": "175398b1",
   "metadata": {},
   "source": [
    "## Этап 2. Предобработка данных\n",
    "### Шаг 2.1 Заполнение пропусков"
   ]
  },
  {
   "cell_type": "markdown",
   "id": "f4ab6e03",
   "metadata": {},
   "source": [
    "<div class=\"alert alert-block alert-info\">\n",
    "<font color='Black'>\n",
    "\n",
    "На этапе обзора данных в столбцах `days_employed` и `total_income` были обнаружены пропущенные значения, так как в данных столбцах только 19351 непропущенных значений, что меньше общего количества строк в датасете 21525.\n",
    "\n",
    "Перед заполнением пропусков проанализируем, какие значения имеются в данных столбцах. \n",
    "\n",
    "На этапе [обзора](#survey) данных мы увидели, что в столбце `days_employed` имеется довольно большое количество отрицательных значений. \n",
    "\n",
    "Стоит отметить, что данный столбец не важен для проверки гипотез исследования, но попробуем проанализировать значения в данном столбце.\n",
    "\n",
    "Можно предположить, что минус в отрицательных значениях мог возникнуть при заполнении базы данных о клиентах, например, основной источник с данными о стаже содержал дефисы, при переносе данных в базу дефисы превратились в минусы, так как тип данного столбца числовой."
   ]
  },
  {
   "cell_type": "code",
   "execution_count": 4,
   "id": "61d0a282",
   "metadata": {},
   "outputs": [
    {
     "data": {
      "text/plain": [
       "401755.40047533"
      ]
     },
     "execution_count": 4,
     "metadata": {},
     "output_type": "execute_result"
    }
   ],
   "source": [
    "# найдем максимальное значение в столбце days_employed\n",
    "df['days_employed'].max()"
   ]
  },
  {
   "cell_type": "markdown",
   "id": "488a50e2",
   "metadata": {},
   "source": [
    "<div class=\"alert alert-block alert-info\">\n",
    "<font color='Black'>\n",
    "\n",
    "Для трудового стажа в днях 401755 это очень большое значение, что в годах составляет примерно 1100 лет! Вероятно, снова ошибка, возникшая в результате переноса данных в базу данных банка, возможно это другие единицы измерения, например, часы.\n",
    "\n",
    "Попробуем оценить количество строк с аномально высокими значениями в столбце `days_employed`."
   ]
  },
  {
   "cell_type": "code",
   "execution_count": 5,
   "id": "c935b03e",
   "metadata": {},
   "outputs": [
    {
     "data": {
      "text/plain": [
       "3445"
      ]
     },
     "execution_count": 5,
     "metadata": {},
     "output_type": "execute_result"
    }
   ],
   "source": [
    "#предположим, что максимальный стаж составляет примерно 80 лет или 29200 дней\n",
    "#посчитаем количество строк в столбце days_employed со значением больше, чем предполагаемый максимальный стаж\n",
    "df[df['days_employed'] > 29200]['days_employed'].count()"
   ]
  },
  {
   "cell_type": "markdown",
   "id": "a0464ff6",
   "metadata": {},
   "source": [
    "<div class=\"alert alert-block alert-info\">\n",
    "<font color='Black'>\n",
    "\n",
    "Получаем, что в столбце `days_employed` 3445 аномально высоких значений и 15906 отрицательных значений, что в сумме составляет общее число непропущенных значений в данном столбце 19351. "
   ]
  },
  {
   "cell_type": "code",
   "execution_count": 6,
   "id": "3b547ae8",
   "metadata": {},
   "outputs": [
    {
     "data": {
      "text/html": [
       "<div>\n",
       "<style scoped>\n",
       "    .dataframe tbody tr th:only-of-type {\n",
       "        vertical-align: middle;\n",
       "    }\n",
       "\n",
       "    .dataframe tbody tr th {\n",
       "        vertical-align: top;\n",
       "    }\n",
       "\n",
       "    .dataframe thead th {\n",
       "        text-align: right;\n",
       "    }\n",
       "</style>\n",
       "<table border=\"1\" class=\"dataframe\">\n",
       "  <thead>\n",
       "    <tr style=\"text-align: right;\">\n",
       "      <th></th>\n",
       "      <th>children</th>\n",
       "      <th>days_employed</th>\n",
       "      <th>dob_years</th>\n",
       "      <th>education</th>\n",
       "      <th>education_id</th>\n",
       "      <th>family_status</th>\n",
       "      <th>family_status_id</th>\n",
       "      <th>gender</th>\n",
       "      <th>income_type</th>\n",
       "      <th>debt</th>\n",
       "      <th>total_income</th>\n",
       "      <th>purpose</th>\n",
       "    </tr>\n",
       "  </thead>\n",
       "  <tbody>\n",
       "    <tr>\n",
       "      <td>4</td>\n",
       "      <td>0</td>\n",
       "      <td>340266.072047</td>\n",
       "      <td>53</td>\n",
       "      <td>среднее</td>\n",
       "      <td>1</td>\n",
       "      <td>гражданский брак</td>\n",
       "      <td>1</td>\n",
       "      <td>F</td>\n",
       "      <td>пенсионер</td>\n",
       "      <td>0</td>\n",
       "      <td>158616.077870</td>\n",
       "      <td>сыграть свадьбу</td>\n",
       "    </tr>\n",
       "    <tr>\n",
       "      <td>18</td>\n",
       "      <td>0</td>\n",
       "      <td>400281.136913</td>\n",
       "      <td>53</td>\n",
       "      <td>среднее</td>\n",
       "      <td>1</td>\n",
       "      <td>вдовец / вдова</td>\n",
       "      <td>2</td>\n",
       "      <td>F</td>\n",
       "      <td>пенсионер</td>\n",
       "      <td>0</td>\n",
       "      <td>56823.777243</td>\n",
       "      <td>на покупку подержанного автомобиля</td>\n",
       "    </tr>\n",
       "    <tr>\n",
       "      <td>24</td>\n",
       "      <td>1</td>\n",
       "      <td>338551.952911</td>\n",
       "      <td>57</td>\n",
       "      <td>среднее</td>\n",
       "      <td>1</td>\n",
       "      <td>Не женат / не замужем</td>\n",
       "      <td>4</td>\n",
       "      <td>F</td>\n",
       "      <td>пенсионер</td>\n",
       "      <td>0</td>\n",
       "      <td>290547.235997</td>\n",
       "      <td>операции с коммерческой недвижимостью</td>\n",
       "    </tr>\n",
       "    <tr>\n",
       "      <td>25</td>\n",
       "      <td>0</td>\n",
       "      <td>363548.489348</td>\n",
       "      <td>67</td>\n",
       "      <td>среднее</td>\n",
       "      <td>1</td>\n",
       "      <td>женат / замужем</td>\n",
       "      <td>0</td>\n",
       "      <td>M</td>\n",
       "      <td>пенсионер</td>\n",
       "      <td>0</td>\n",
       "      <td>55112.757732</td>\n",
       "      <td>покупка недвижимости</td>\n",
       "    </tr>\n",
       "    <tr>\n",
       "      <td>30</td>\n",
       "      <td>1</td>\n",
       "      <td>335581.668515</td>\n",
       "      <td>62</td>\n",
       "      <td>среднее</td>\n",
       "      <td>1</td>\n",
       "      <td>женат / замужем</td>\n",
       "      <td>0</td>\n",
       "      <td>F</td>\n",
       "      <td>пенсионер</td>\n",
       "      <td>0</td>\n",
       "      <td>171456.067993</td>\n",
       "      <td>операции с коммерческой недвижимостью</td>\n",
       "    </tr>\n",
       "    <tr>\n",
       "      <td>35</td>\n",
       "      <td>0</td>\n",
       "      <td>394021.072184</td>\n",
       "      <td>68</td>\n",
       "      <td>среднее</td>\n",
       "      <td>1</td>\n",
       "      <td>гражданский брак</td>\n",
       "      <td>1</td>\n",
       "      <td>M</td>\n",
       "      <td>пенсионер</td>\n",
       "      <td>0</td>\n",
       "      <td>77805.677436</td>\n",
       "      <td>на проведение свадьбы</td>\n",
       "    </tr>\n",
       "    <tr>\n",
       "      <td>50</td>\n",
       "      <td>0</td>\n",
       "      <td>353731.432338</td>\n",
       "      <td>63</td>\n",
       "      <td>среднее</td>\n",
       "      <td>1</td>\n",
       "      <td>женат / замужем</td>\n",
       "      <td>0</td>\n",
       "      <td>F</td>\n",
       "      <td>пенсионер</td>\n",
       "      <td>0</td>\n",
       "      <td>92342.730612</td>\n",
       "      <td>автомобили</td>\n",
       "    </tr>\n",
       "    <tr>\n",
       "      <td>56</td>\n",
       "      <td>0</td>\n",
       "      <td>370145.087237</td>\n",
       "      <td>64</td>\n",
       "      <td>среднее</td>\n",
       "      <td>1</td>\n",
       "      <td>вдовец / вдова</td>\n",
       "      <td>2</td>\n",
       "      <td>F</td>\n",
       "      <td>пенсионер</td>\n",
       "      <td>0</td>\n",
       "      <td>149141.043533</td>\n",
       "      <td>образование</td>\n",
       "    </tr>\n",
       "    <tr>\n",
       "      <td>71</td>\n",
       "      <td>0</td>\n",
       "      <td>338113.529892</td>\n",
       "      <td>62</td>\n",
       "      <td>среднее</td>\n",
       "      <td>1</td>\n",
       "      <td>женат / замужем</td>\n",
       "      <td>0</td>\n",
       "      <td>F</td>\n",
       "      <td>пенсионер</td>\n",
       "      <td>0</td>\n",
       "      <td>43929.696397</td>\n",
       "      <td>автомобили</td>\n",
       "    </tr>\n",
       "    <tr>\n",
       "      <td>78</td>\n",
       "      <td>0</td>\n",
       "      <td>359722.945074</td>\n",
       "      <td>61</td>\n",
       "      <td>высшее</td>\n",
       "      <td>0</td>\n",
       "      <td>женат / замужем</td>\n",
       "      <td>0</td>\n",
       "      <td>M</td>\n",
       "      <td>пенсионер</td>\n",
       "      <td>0</td>\n",
       "      <td>175127.646000</td>\n",
       "      <td>сделка с автомобилем</td>\n",
       "    </tr>\n",
       "  </tbody>\n",
       "</table>\n",
       "</div>"
      ],
      "text/plain": [
       "    children  days_employed  dob_years education  education_id  \\\n",
       "4          0  340266.072047         53   среднее             1   \n",
       "18         0  400281.136913         53   среднее             1   \n",
       "24         1  338551.952911         57   среднее             1   \n",
       "25         0  363548.489348         67   среднее             1   \n",
       "30         1  335581.668515         62   среднее             1   \n",
       "35         0  394021.072184         68   среднее             1   \n",
       "50         0  353731.432338         63   среднее             1   \n",
       "56         0  370145.087237         64   среднее             1   \n",
       "71         0  338113.529892         62   среднее             1   \n",
       "78         0  359722.945074         61    высшее             0   \n",
       "\n",
       "            family_status  family_status_id gender income_type  debt  \\\n",
       "4        гражданский брак                 1      F   пенсионер     0   \n",
       "18         вдовец / вдова                 2      F   пенсионер     0   \n",
       "24  Не женат / не замужем                 4      F   пенсионер     0   \n",
       "25        женат / замужем                 0      M   пенсионер     0   \n",
       "30        женат / замужем                 0      F   пенсионер     0   \n",
       "35       гражданский брак                 1      M   пенсионер     0   \n",
       "50        женат / замужем                 0      F   пенсионер     0   \n",
       "56         вдовец / вдова                 2      F   пенсионер     0   \n",
       "71        женат / замужем                 0      F   пенсионер     0   \n",
       "78        женат / замужем                 0      M   пенсионер     0   \n",
       "\n",
       "     total_income                                purpose  \n",
       "4   158616.077870                        сыграть свадьбу  \n",
       "18   56823.777243     на покупку подержанного автомобиля  \n",
       "24  290547.235997  операции с коммерческой недвижимостью  \n",
       "25   55112.757732                   покупка недвижимости  \n",
       "30  171456.067993  операции с коммерческой недвижимостью  \n",
       "35   77805.677436                  на проведение свадьбы  \n",
       "50   92342.730612                             автомобили  \n",
       "56  149141.043533                            образование  \n",
       "71   43929.696397                             автомобили  \n",
       "78  175127.646000                   сделка с автомобилем  "
      ]
     },
     "execution_count": 6,
     "metadata": {},
     "output_type": "execute_result"
    }
   ],
   "source": [
    "# получение первых 10 строк датафрейма df с аномально высокми значениями стажа\n",
    "df[df['days_employed'] > 29200].head(10)"
   ]
  },
  {
   "cell_type": "markdown",
   "id": "d0a10894",
   "metadata": {},
   "source": [
    "<div class=\"alert alert-block alert-info\">\n",
    "<font color='Black'>\n",
    "\n",
    "Видим, что в первых 10 строках датафрейма с аномально высокими значениями стажа в столбце `income_type` находится значение \"пенсионер\". Сгруппируем датафрейм с аномально высокми значениями стажа по столбцу `income_type` и посчитаем количество строк в каждой группе, аналогично поступим с датафреймом с отрицательными значениями общего трудового стажа."
   ]
  },
  {
   "cell_type": "code",
   "execution_count": 7,
   "id": "d292735a",
   "metadata": {},
   "outputs": [
    {
     "data": {
      "text/html": [
       "<div>\n",
       "<style scoped>\n",
       "    .dataframe tbody tr th:only-of-type {\n",
       "        vertical-align: middle;\n",
       "    }\n",
       "\n",
       "    .dataframe tbody tr th {\n",
       "        vertical-align: top;\n",
       "    }\n",
       "\n",
       "    .dataframe thead th {\n",
       "        text-align: right;\n",
       "    }\n",
       "</style>\n",
       "<table border=\"1\" class=\"dataframe\">\n",
       "  <thead>\n",
       "    <tr style=\"text-align: right;\">\n",
       "      <th></th>\n",
       "      <th>children</th>\n",
       "      <th>days_employed</th>\n",
       "      <th>dob_years</th>\n",
       "      <th>education</th>\n",
       "      <th>education_id</th>\n",
       "      <th>family_status</th>\n",
       "      <th>family_status_id</th>\n",
       "      <th>gender</th>\n",
       "      <th>debt</th>\n",
       "      <th>total_income</th>\n",
       "      <th>purpose</th>\n",
       "    </tr>\n",
       "    <tr>\n",
       "      <th>income_type</th>\n",
       "      <th></th>\n",
       "      <th></th>\n",
       "      <th></th>\n",
       "      <th></th>\n",
       "      <th></th>\n",
       "      <th></th>\n",
       "      <th></th>\n",
       "      <th></th>\n",
       "      <th></th>\n",
       "      <th></th>\n",
       "      <th></th>\n",
       "    </tr>\n",
       "  </thead>\n",
       "  <tbody>\n",
       "    <tr>\n",
       "      <td>безработный</td>\n",
       "      <td>2</td>\n",
       "      <td>2</td>\n",
       "      <td>2</td>\n",
       "      <td>2</td>\n",
       "      <td>2</td>\n",
       "      <td>2</td>\n",
       "      <td>2</td>\n",
       "      <td>2</td>\n",
       "      <td>2</td>\n",
       "      <td>2</td>\n",
       "      <td>2</td>\n",
       "    </tr>\n",
       "    <tr>\n",
       "      <td>пенсионер</td>\n",
       "      <td>3443</td>\n",
       "      <td>3443</td>\n",
       "      <td>3443</td>\n",
       "      <td>3443</td>\n",
       "      <td>3443</td>\n",
       "      <td>3443</td>\n",
       "      <td>3443</td>\n",
       "      <td>3443</td>\n",
       "      <td>3443</td>\n",
       "      <td>3443</td>\n",
       "      <td>3443</td>\n",
       "    </tr>\n",
       "  </tbody>\n",
       "</table>\n",
       "</div>"
      ],
      "text/plain": [
       "             children  days_employed  dob_years  education  education_id  \\\n",
       "income_type                                                                \n",
       "безработный         2              2          2          2             2   \n",
       "пенсионер        3443           3443       3443       3443          3443   \n",
       "\n",
       "             family_status  family_status_id  gender  debt  total_income  \\\n",
       "income_type                                                                \n",
       "безработный              2                 2       2     2             2   \n",
       "пенсионер             3443              3443    3443  3443          3443   \n",
       "\n",
       "             purpose  \n",
       "income_type           \n",
       "безработный        2  \n",
       "пенсионер       3443  "
      ]
     },
     "execution_count": 7,
     "metadata": {},
     "output_type": "execute_result"
    }
   ],
   "source": [
    "# cгруппируем строки датафрейма с аномально высокими значениями стажа по столбцу income_type \n",
    "# посчитаем количество строк по кажой группе методом count()\n",
    "df[df['days_employed'] > 29200].groupby('income_type').count()"
   ]
  },
  {
   "cell_type": "code",
   "execution_count": 8,
   "id": "55a33e6f",
   "metadata": {},
   "outputs": [
    {
     "data": {
      "text/html": [
       "<div>\n",
       "<style scoped>\n",
       "    .dataframe tbody tr th:only-of-type {\n",
       "        vertical-align: middle;\n",
       "    }\n",
       "\n",
       "    .dataframe tbody tr th {\n",
       "        vertical-align: top;\n",
       "    }\n",
       "\n",
       "    .dataframe thead th {\n",
       "        text-align: right;\n",
       "    }\n",
       "</style>\n",
       "<table border=\"1\" class=\"dataframe\">\n",
       "  <thead>\n",
       "    <tr style=\"text-align: right;\">\n",
       "      <th></th>\n",
       "      <th>children</th>\n",
       "      <th>days_employed</th>\n",
       "      <th>dob_years</th>\n",
       "      <th>education</th>\n",
       "      <th>education_id</th>\n",
       "      <th>family_status</th>\n",
       "      <th>family_status_id</th>\n",
       "      <th>gender</th>\n",
       "      <th>debt</th>\n",
       "      <th>total_income</th>\n",
       "      <th>purpose</th>\n",
       "    </tr>\n",
       "    <tr>\n",
       "      <th>income_type</th>\n",
       "      <th></th>\n",
       "      <th></th>\n",
       "      <th></th>\n",
       "      <th></th>\n",
       "      <th></th>\n",
       "      <th></th>\n",
       "      <th></th>\n",
       "      <th></th>\n",
       "      <th></th>\n",
       "      <th></th>\n",
       "      <th></th>\n",
       "    </tr>\n",
       "  </thead>\n",
       "  <tbody>\n",
       "    <tr>\n",
       "      <td>в декрете</td>\n",
       "      <td>1</td>\n",
       "      <td>1</td>\n",
       "      <td>1</td>\n",
       "      <td>1</td>\n",
       "      <td>1</td>\n",
       "      <td>1</td>\n",
       "      <td>1</td>\n",
       "      <td>1</td>\n",
       "      <td>1</td>\n",
       "      <td>1</td>\n",
       "      <td>1</td>\n",
       "    </tr>\n",
       "    <tr>\n",
       "      <td>госслужащий</td>\n",
       "      <td>1312</td>\n",
       "      <td>1312</td>\n",
       "      <td>1312</td>\n",
       "      <td>1312</td>\n",
       "      <td>1312</td>\n",
       "      <td>1312</td>\n",
       "      <td>1312</td>\n",
       "      <td>1312</td>\n",
       "      <td>1312</td>\n",
       "      <td>1312</td>\n",
       "      <td>1312</td>\n",
       "    </tr>\n",
       "    <tr>\n",
       "      <td>компаньон</td>\n",
       "      <td>4577</td>\n",
       "      <td>4577</td>\n",
       "      <td>4577</td>\n",
       "      <td>4577</td>\n",
       "      <td>4577</td>\n",
       "      <td>4577</td>\n",
       "      <td>4577</td>\n",
       "      <td>4577</td>\n",
       "      <td>4577</td>\n",
       "      <td>4577</td>\n",
       "      <td>4577</td>\n",
       "    </tr>\n",
       "    <tr>\n",
       "      <td>предприниматель</td>\n",
       "      <td>1</td>\n",
       "      <td>1</td>\n",
       "      <td>1</td>\n",
       "      <td>1</td>\n",
       "      <td>1</td>\n",
       "      <td>1</td>\n",
       "      <td>1</td>\n",
       "      <td>1</td>\n",
       "      <td>1</td>\n",
       "      <td>1</td>\n",
       "      <td>1</td>\n",
       "    </tr>\n",
       "    <tr>\n",
       "      <td>сотрудник</td>\n",
       "      <td>10014</td>\n",
       "      <td>10014</td>\n",
       "      <td>10014</td>\n",
       "      <td>10014</td>\n",
       "      <td>10014</td>\n",
       "      <td>10014</td>\n",
       "      <td>10014</td>\n",
       "      <td>10014</td>\n",
       "      <td>10014</td>\n",
       "      <td>10014</td>\n",
       "      <td>10014</td>\n",
       "    </tr>\n",
       "    <tr>\n",
       "      <td>студент</td>\n",
       "      <td>1</td>\n",
       "      <td>1</td>\n",
       "      <td>1</td>\n",
       "      <td>1</td>\n",
       "      <td>1</td>\n",
       "      <td>1</td>\n",
       "      <td>1</td>\n",
       "      <td>1</td>\n",
       "      <td>1</td>\n",
       "      <td>1</td>\n",
       "      <td>1</td>\n",
       "    </tr>\n",
       "  </tbody>\n",
       "</table>\n",
       "</div>"
      ],
      "text/plain": [
       "                 children  days_employed  dob_years  education  education_id  \\\n",
       "income_type                                                                    \n",
       "в декрете               1              1          1          1             1   \n",
       "госслужащий          1312           1312       1312       1312          1312   \n",
       "компаньон            4577           4577       4577       4577          4577   \n",
       "предприниматель         1              1          1          1             1   \n",
       "сотрудник           10014          10014      10014      10014         10014   \n",
       "студент                 1              1          1          1             1   \n",
       "\n",
       "                 family_status  family_status_id  gender   debt  total_income  \\\n",
       "income_type                                                                     \n",
       "в декрете                    1                 1       1      1             1   \n",
       "госслужащий               1312              1312    1312   1312          1312   \n",
       "компаньон                 4577              4577    4577   4577          4577   \n",
       "предприниматель              1                 1       1      1             1   \n",
       "сотрудник                10014             10014   10014  10014         10014   \n",
       "студент                      1                 1       1      1             1   \n",
       "\n",
       "                 purpose  \n",
       "income_type               \n",
       "в декрете              1  \n",
       "госслужащий         1312  \n",
       "компаньон           4577  \n",
       "предприниматель        1  \n",
       "сотрудник          10014  \n",
       "студент                1  "
      ]
     },
     "execution_count": 8,
     "metadata": {},
     "output_type": "execute_result"
    }
   ],
   "source": [
    "# cгруппируем строки датасфрейма с отрицательными значениями стажа по столбцу income_type \n",
    "# посчитаем количество строк по кажой группе методом count()\n",
    "df[df['days_employed'] < 0].groupby('income_type').count()"
   ]
  },
  {
   "cell_type": "markdown",
   "id": "0967a2ed",
   "metadata": {},
   "source": [
    "<div class=\"alert alert-block alert-info\">\n",
    "<font color='Black'>\n",
    "    \n",
    "Группировки показали, что аномально высокие значения стажа имеются по пенсионерам и безработным, а отрицательные значения стажа по всем остальным типам занятности. \n",
    "\n",
    "Изменим отрицательные значения трудового стажа на положительные, используя функцию модуля числа.\n",
    "\n",
    "Аномально высокие значения стажа оставим без изменений, можно действовать из предположения, что данные значения представлены в часах и перевести их в дни, но лучше подробности выяснить у заказчика исследования. \n",
    "Результаты текущего исследования не зависят от значений столбца `days_employed`."
   ]
  },
  {
   "cell_type": "code",
   "execution_count": 9,
   "id": "dc9afb5c",
   "metadata": {},
   "outputs": [
    {
     "data": {
      "text/plain": [
       "24.14163324048118"
      ]
     },
     "execution_count": 9,
     "metadata": {},
     "output_type": "execute_result"
    }
   ],
   "source": [
    "# применим к числовому столбцу days_employed функцию, возвращающую модуль числа\n",
    "df['days_employed'] = abs(df['days_employed'])\n",
    "\n",
    "# проверим минимальное значение в столбце days_employed, оно должно быть положительным\n",
    "df['days_employed'].min()"
   ]
  },
  {
   "cell_type": "code",
   "execution_count": 10,
   "id": "1c29b869",
   "metadata": {},
   "outputs": [
    {
     "data": {
      "text/plain": [
       "20667.26379327158"
      ]
     },
     "execution_count": 10,
     "metadata": {},
     "output_type": "execute_result"
    }
   ],
   "source": [
    "# проверим минимальное значение в столбце total_income, оно должно быть положительным\n",
    "df['total_income'].min()"
   ]
  },
  {
   "cell_type": "markdown",
   "id": "09ed40f9",
   "metadata": {},
   "source": [
    "<div class=\"alert alert-block alert-info\">\n",
    "<font color='Black'>\n",
    "\n",
    "Минимальное значение в столбце `total_income` положительное, делаем вывод, что значения в данном столбце соответствуют действительности.\n",
    "    \n",
    "Проверим, какую долу составляют пропущенные значения в столбцах `days_employed` и `total_income`."
   ]
  },
  {
   "cell_type": "code",
   "execution_count": 11,
   "id": "0bed7c5e",
   "metadata": {},
   "outputs": [
    {
     "data": {
      "text/plain": [
       "0.10099883855981417"
      ]
     },
     "execution_count": 11,
     "metadata": {},
     "output_type": "execute_result"
    }
   ],
   "source": [
    "# выберем строки датафрейма с пропущенными значениями в столбце 'days_employed'\n",
    "# вычислим их количество с помощью функции len \n",
    "# разделим полученное количество строк с пропущенными значениями на общее количество строк\n",
    "len(df[df['days_employed'].isna()]) / df.shape[0]"
   ]
  },
  {
   "cell_type": "code",
   "execution_count": 12,
   "id": "e6e19f02",
   "metadata": {},
   "outputs": [
    {
     "data": {
      "text/plain": [
       "2174"
      ]
     },
     "execution_count": 12,
     "metadata": {},
     "output_type": "execute_result"
    }
   ],
   "source": [
    "# найдем количество строк, в которых пропущены значения в столбцах `days_employed` и `total_income` одновременно\n",
    "len(df[(df['days_employed'].isna()) & (df['total_income'].isna())]) "
   ]
  },
  {
   "cell_type": "markdown",
   "id": "0b376803",
   "metadata": {},
   "source": [
    "<div class=\"alert alert-block alert-info\">\n",
    "<font color='Black'>\n",
    "    \n",
    "Доля пропущенных значений в каждом из столбцов `days_employed` и `total_income` составляет около 10%, мы видим, что пропущенные значения в данных столбцах встречаются в одних и тех же строках (2174 шт), удаление 10% строк может повлиять на результаты исследования.\n",
    "Возможно пропуски возникли на этапе заполнения данных в системе банка (человеческий фактор), либо на этапе выгрузки данных в файл (технологический фактор).\n",
    "\n",
    "Пропущенные значения в количественных переменных принято заполнять значениями, характеризующими состояние выборки, для того чтобы поведение данных в выборке осталось неизменным. Среднее значение некорректно характеризует данные, когда некоторые значения сильно выделяются среди большинства, поэтому будем использовать медиану - значение, которое делит выборку пополам.\n"
   ]
  },
  {
   "cell_type": "code",
   "execution_count": 13,
   "id": "c10076f7",
   "metadata": {},
   "outputs": [],
   "source": [
    "# заполним пропущенные значения медианным значением соответствующего столбца с помощью метода fillna()\n",
    "df['days_employed'] = df['days_employed'].fillna(df['days_employed'].median())\n",
    "df['total_income'] = df['total_income'].fillna(df['total_income'].median())"
   ]
  },
  {
   "cell_type": "code",
   "execution_count": 14,
   "id": "93de03b7",
   "metadata": {},
   "outputs": [
    {
     "name": "stdout",
     "output_type": "stream",
     "text": [
      "<class 'pandas.core.frame.DataFrame'>\n",
      "RangeIndex: 21525 entries, 0 to 21524\n",
      "Data columns (total 12 columns):\n",
      "children            21525 non-null int64\n",
      "days_employed       21525 non-null float64\n",
      "dob_years           21525 non-null int64\n",
      "education           21525 non-null object\n",
      "education_id        21525 non-null int64\n",
      "family_status       21525 non-null object\n",
      "family_status_id    21525 non-null int64\n",
      "gender              21525 non-null object\n",
      "income_type         21525 non-null object\n",
      "debt                21525 non-null int64\n",
      "total_income        21525 non-null float64\n",
      "purpose             21525 non-null object\n",
      "dtypes: float64(2), int64(5), object(5)\n",
      "memory usage: 2.0+ MB\n"
     ]
    }
   ],
   "source": [
    "# проверим, что пропуски заполнены\n",
    "df.info()"
   ]
  },
  {
   "cell_type": "markdown",
   "id": "3ab072c3",
   "metadata": {},
   "source": [
    "<div style=\"border:solid green 3px; padding: 20px\">\n",
    "    \n",
    "Обнаружили пропущенные значения в столбцах `days_employed` и `total_income`, пропущенные значения в данных столбцах встречаются в одних и тех же строках (2174 шт), доля пропущенных значений составляет около 10%, удаление 10% строк может повлиять на результаты исследования, поэтом данные пропуски были обработаны.\n",
    "Возможно, пропуски возникли на этапе заполнения данных в системе банка (человеческий фактор), либо на этапе выгрузки данных в файл (технологический фактор).\n",
    "\n",
    "Перед заполнением пропусков проверили значения в столбцах `days_employed` и `total_income`, выявили отрицательные значения, а также  аномально высокие значения в `days_employed`. Отрицательные значения заменили абсолютным значением, аномально высокие значения оставили без изменений, так как значения столбца `days_employed` не влияют на результаты исследования.\n",
    "    \n",
    "Пропущенные значения заполнили медианным значением по соответствующему столбцу. Для того чтобы поведение данных в выборке осталось неизменным, выбрали метод заполнения пропусков характерным значением для количественных переменных. Среднее значение некорректно характеризует данные, когда некоторые значения сильно выделяются среди большинства, поэтому использовали медиану - значение, которое делит выборку пополам."
   ]
  },
  {
   "cell_type": "markdown",
   "id": "56710369",
   "metadata": {},
   "source": [
    "### Шаг 2.2 Проверка данных на аномалии и исправления"
   ]
  },
  {
   "cell_type": "markdown",
   "id": "6cdd8c24",
   "metadata": {},
   "source": [
    "<div class=\"alert alert-block alert-info\">\n",
    "<font color='Black'>\n",
    "\n",
    "Проверим данные в столбцах с категориальными переменными на уникальность значений и на частоту повторения данных значений.\n",
    "Затем проверим данных в столбцах с количественными переменными, например, узнаем минимальное и максимальное значения. \n",
    "Значения столбцов `days_employed` и `total_income` с количественными переменными были проверены на предыдущем шаге."
   ]
  },
  {
   "cell_type": "code",
   "execution_count": 15,
   "id": "34aba034",
   "metadata": {},
   "outputs": [
    {
     "data": {
      "text/plain": [
       "среднее                13750\n",
       "высшее                  4718\n",
       "СРЕДНЕЕ                  772\n",
       "Среднее                  711\n",
       "неоконченное высшее      668\n",
       "ВЫСШЕЕ                   274\n",
       "Высшее                   268\n",
       "начальное                250\n",
       "Неоконченное высшее       47\n",
       "НЕОКОНЧЕННОЕ ВЫСШЕЕ       29\n",
       "НАЧАЛЬНОЕ                 17\n",
       "Начальное                 15\n",
       "ученая степень             4\n",
       "Ученая степень             1\n",
       "УЧЕНАЯ СТЕПЕНЬ             1\n",
       "Name: education, dtype: int64"
      ]
     },
     "execution_count": 15,
     "metadata": {},
     "output_type": "execute_result"
    }
   ],
   "source": [
    "# проверка на уникальность значений в столбце education с категориальными переменными и на частоту повторения данных значений\n",
    "df['education'].value_counts()"
   ]
  },
  {
   "cell_type": "markdown",
   "id": "4ca9609b",
   "metadata": {},
   "source": [
    "<div class=\"alert alert-block alert-info\">\n",
    "<font color='Black'>\n",
    "    \n",
    "<a id='detect_duplicates'></a>\n",
    "`education` — уровень образования клиента - имеются дубликаты, для их устранения необходимо привести значения столбца к нижнему регистру, удалим дубликаты [позже](#delete_duplicates)."
   ]
  },
  {
   "cell_type": "code",
   "execution_count": 16,
   "id": "004b546d",
   "metadata": {},
   "outputs": [
    {
     "data": {
      "text/plain": [
       "1    15233\n",
       "0     5260\n",
       "2      744\n",
       "3      282\n",
       "4        6\n",
       "Name: education_id, dtype: int64"
      ]
     },
     "execution_count": 16,
     "metadata": {},
     "output_type": "execute_result"
    }
   ],
   "source": [
    "# проверка на уникальность значений в столбце education_id с категориальными переменными и на частоту повторения данных значений\n",
    "df['education_id'].value_counts()"
   ]
  },
  {
   "cell_type": "markdown",
   "id": "eb834dd0",
   "metadata": {},
   "source": [
    "<div class=\"alert alert-block alert-info\">\n",
    "<font color='Black'>\n",
    "\n",
    "`education_id` — идентификатор уровня образования - значения корректны, соответствуют количеству уникальных значений в столбце `education`"
   ]
  },
  {
   "cell_type": "code",
   "execution_count": 17,
   "id": "37796bd2",
   "metadata": {},
   "outputs": [
    {
     "data": {
      "text/plain": [
       "женат / замужем          12380\n",
       "гражданский брак          4177\n",
       "Не женат / не замужем     2813\n",
       "в разводе                 1195\n",
       "вдовец / вдова             960\n",
       "Name: family_status, dtype: int64"
      ]
     },
     "execution_count": 17,
     "metadata": {},
     "output_type": "execute_result"
    }
   ],
   "source": [
    "# проверка на уникальность значений в столбце family_status с категориальными переменными и на частоту повторения данных значений\n",
    "df['family_status'].value_counts()"
   ]
  },
  {
   "cell_type": "markdown",
   "id": "f7d67a41",
   "metadata": {},
   "source": [
    "<div class=\"alert alert-block alert-info\">\n",
    "<font color='Black'>\n",
    "\n",
    "`family_status` — семейное положение - значения корректны, формат не очень удобен для последующей обработки, но имеется столбец `family_status_id`"
   ]
  },
  {
   "cell_type": "code",
   "execution_count": 18,
   "id": "076e3c7c",
   "metadata": {},
   "outputs": [
    {
     "data": {
      "text/plain": [
       "0    12380\n",
       "1     4177\n",
       "4     2813\n",
       "3     1195\n",
       "2      960\n",
       "Name: family_status_id, dtype: int64"
      ]
     },
     "execution_count": 18,
     "metadata": {},
     "output_type": "execute_result"
    }
   ],
   "source": [
    "# проверка на уникальность значений в столбце family_status_id с категориальными переменными и на частоту повторения данных значений\n",
    "df['family_status_id'].value_counts()"
   ]
  },
  {
   "cell_type": "markdown",
   "id": "976b004c",
   "metadata": {},
   "source": [
    "<div class=\"alert alert-block alert-info\">\n",
    "<font color='Black'>\n",
    "\n",
    "`family_status_id` — идентификатор семейного положения - значения корректны, соответствуют количеству уникальных значений в столбце `family_status`"
   ]
  },
  {
   "cell_type": "code",
   "execution_count": 19,
   "id": "c28dd85f",
   "metadata": {},
   "outputs": [
    {
     "data": {
      "text/plain": [
       "F      14236\n",
       "M       7288\n",
       "XNA        1\n",
       "Name: gender, dtype: int64"
      ]
     },
     "execution_count": 19,
     "metadata": {},
     "output_type": "execute_result"
    }
   ],
   "source": [
    "# проверка на уникальность значений в столбце gender с категориальными переменными и на частоту повторения данных значений\n",
    "df['gender'].value_counts()"
   ]
  },
  {
   "cell_type": "markdown",
   "id": "c4f6388e",
   "metadata": {},
   "source": [
    "<div class=\"alert alert-block alert-info\">\n",
    "<font color='Black'>\n",
    "\n",
    "`gender` — пол клиента - значение `XNA` в одной строке, скорее всего, пропущено, значения данного столбца не повлияют на результаты исследования, поэтом оставим его без имзменений."
   ]
  },
  {
   "cell_type": "code",
   "execution_count": 20,
   "id": "9575e338",
   "metadata": {},
   "outputs": [
    {
     "data": {
      "text/plain": [
       "сотрудник          11119\n",
       "компаньон           5085\n",
       "пенсионер           3856\n",
       "госслужащий         1459\n",
       "предприниматель        2\n",
       "безработный            2\n",
       "студент                1\n",
       "в декрете              1\n",
       "Name: income_type, dtype: int64"
      ]
     },
     "execution_count": 20,
     "metadata": {},
     "output_type": "execute_result"
    }
   ],
   "source": [
    "# проверка на уникальность значений в столбце income_type с категориальными переменными и на частоту повторения данных значений\n",
    "df['income_type'].value_counts()"
   ]
  },
  {
   "cell_type": "markdown",
   "id": "b1bbec7b",
   "metadata": {},
   "source": [
    "<div class=\"alert alert-block alert-info\">\n",
    "<font color='Black'>\n",
    "\n",
    "`income_type` — тип занятости - значения корректны"
   ]
  },
  {
   "cell_type": "code",
   "execution_count": 21,
   "id": "3a4274bb",
   "metadata": {},
   "outputs": [
    {
     "data": {
      "text/plain": [
       "0    19784\n",
       "1     1741\n",
       "Name: debt, dtype: int64"
      ]
     },
     "execution_count": 21,
     "metadata": {},
     "output_type": "execute_result"
    }
   ],
   "source": [
    "# проверка на уникальность значений в столбце debt с категориальными переменными и на частоту повторения данных значений\n",
    "df['debt'].value_counts()"
   ]
  },
  {
   "cell_type": "markdown",
   "id": "b4d7119f",
   "metadata": {},
   "source": [
    "<div class=\"alert alert-block alert-info\">\n",
    "<font color='Black'>\n",
    "\n",
    "`debt` — имел ли задолженность по возврату кредитов - значения корректны, просчроченная задолженность либо имела место, либо отсутствовала. "
   ]
  },
  {
   "cell_type": "code",
   "execution_count": 22,
   "id": "3b59878f",
   "metadata": {},
   "outputs": [
    {
     "data": {
      "text/plain": [
       "свадьба                                   797\n",
       "на проведение свадьбы                     777\n",
       "сыграть свадьбу                           774\n",
       "операции с недвижимостью                  676\n",
       "покупка коммерческой недвижимости         664\n",
       "покупка жилья для сдачи                   653\n",
       "операции с жильем                         653\n",
       "операции с коммерческой недвижимостью     651\n",
       "покупка жилья                             647\n",
       "жилье                                     647\n",
       "покупка жилья для семьи                   641\n",
       "строительство собственной недвижимости    635\n",
       "недвижимость                              634\n",
       "операции со своей недвижимостью           630\n",
       "строительство жилой недвижимости          626\n",
       "покупка недвижимости                      624\n",
       "покупка своего жилья                      620\n",
       "строительство недвижимости                620\n",
       "ремонт жилью                              612\n",
       "покупка жилой недвижимости                607\n",
       "на покупку своего автомобиля              505\n",
       "заняться высшим образованием              496\n",
       "автомобиль                                495\n",
       "сделка с подержанным автомобилем          489\n",
       "свой автомобиль                           480\n",
       "на покупку подержанного автомобиля        479\n",
       "автомобили                                478\n",
       "на покупку автомобиля                     472\n",
       "приобретение автомобиля                   462\n",
       "дополнительное образование                462\n",
       "сделка с автомобилем                      455\n",
       "высшее образование                        453\n",
       "образование                               447\n",
       "получение дополнительного образования     447\n",
       "получение образования                     443\n",
       "профильное образование                    436\n",
       "получение высшего образования             426\n",
       "заняться образованием                     412\n",
       "Name: purpose, dtype: int64"
      ]
     },
     "execution_count": 22,
     "metadata": {},
     "output_type": "execute_result"
    }
   ],
   "source": [
    "# проверка на уникальность значений в столбце purpose с категориальными переменными и на частоту повторения данных значений\n",
    "df['purpose'].value_counts()"
   ]
  },
  {
   "cell_type": "markdown",
   "id": "00dae9a0",
   "metadata": {},
   "source": [
    "<div class=\"alert alert-block alert-info\">\n",
    "<font color='Black'>\n",
    "    \n",
    "`purpose` — цель получения кредита - видим неявные дубликаты, например, `свадьба`, `на проведение свадьбы`, `сыграть свадьбу`, нужно унифицировать значения целей (в идеале при вводе данных цель должна выбираться из справочника)"
   ]
  },
  {
   "cell_type": "code",
   "execution_count": 23,
   "id": "33f2c5dd",
   "metadata": {
    "scrolled": true
   },
   "outputs": [
    {
     "data": {
      "text/plain": [
       " 0     14149\n",
       " 1      4818\n",
       " 2      2055\n",
       " 3       330\n",
       " 20       76\n",
       "-1        47\n",
       " 4        41\n",
       " 5         9\n",
       "Name: children, dtype: int64"
      ]
     },
     "execution_count": 23,
     "metadata": {},
     "output_type": "execute_result"
    }
   ],
   "source": [
    "# проверка на уникальность значений в столбце children с количественными переменными и на частоту повторения данных значений\n",
    "df['children'].value_counts()"
   ]
  },
  {
   "cell_type": "markdown",
   "id": "bbc768e3",
   "metadata": {},
   "source": [
    "<div class=\"alert alert-block alert-info\">\n",
    "<font color='Black'>\n",
    "\n",
    "`children` — количество детей в семье - имеются отрицательное значение `-1` по 47 строкам, сомнительное значение `20` по 76 строкам, вероятно это ошибки, возникшие на этапе ввода данных, например, в базу данных банка, либо при выгрузке датасета в файл.\n",
    "\n",
    "Данный столбец влияет на результаты исследования, поэтому некорректные значения нужно обработать.\n",
    "\n",
    "Предположим, что минус в значениях столбца это дефис, который возник на этапе импорта данных в базу данных банка, заменим в столбце `children` значение `-1` на `1`. \n",
    "\n",
    "Поскольку количество строк с аномальным значением `20` меньше 1%, то заменим в столбце `children` значение `20` на медианное значение в данном столбце."
   ]
  },
  {
   "cell_type": "code",
   "execution_count": 24,
   "id": "5b9f15a7",
   "metadata": {},
   "outputs": [],
   "source": [
    "# заменим в столбце children значение -1 на 1\n",
    "# заменим в столбце children значение 20 на медианное значение\n",
    "df['children'].replace(-1, 1, inplace=True)\n",
    "df['children'].replace(20, df['children'].median(), inplace=True)"
   ]
  },
  {
   "cell_type": "code",
   "execution_count": 25,
   "id": "167de54c",
   "metadata": {},
   "outputs": [
    {
     "data": {
      "text/plain": [
       "0    14225\n",
       "1     4865\n",
       "2     2055\n",
       "3      330\n",
       "4       41\n",
       "5        9\n",
       "Name: children, dtype: int64"
      ]
     },
     "execution_count": 25,
     "metadata": {},
     "output_type": "execute_result"
    }
   ],
   "source": [
    "# проверка на уникальность значения в столбце children еще раз\n",
    "df['children'].value_counts()"
   ]
  },
  {
   "cell_type": "markdown",
   "id": "921c585f",
   "metadata": {},
   "source": [
    "<div class=\"alert alert-block alert-info\">\n",
    "<font color='Black'>\n",
    "\n",
    "Теперь столбец `children` не содержит аномалий."
   ]
  },
  {
   "cell_type": "code",
   "execution_count": 26,
   "id": "ad0dfa5d",
   "metadata": {},
   "outputs": [
    {
     "data": {
      "text/plain": [
       "75"
      ]
     },
     "execution_count": 26,
     "metadata": {},
     "output_type": "execute_result"
    }
   ],
   "source": [
    "# проверка значений в столбце dob_years с количественными переменными\n",
    "# поиск максимального значения\n",
    "df['dob_years'].max()"
   ]
  },
  {
   "cell_type": "code",
   "execution_count": 27,
   "id": "45ca98b3",
   "metadata": {},
   "outputs": [
    {
     "data": {
      "text/plain": [
       "0"
      ]
     },
     "execution_count": 27,
     "metadata": {},
     "output_type": "execute_result"
    }
   ],
   "source": [
    "# проверка значений в столбце dob_years с количественными переменными\n",
    "# поиск минимального значения\n",
    "df['dob_years'].min()"
   ]
  },
  {
   "cell_type": "code",
   "execution_count": 28,
   "id": "0ab3eb1b",
   "metadata": {},
   "outputs": [
    {
     "data": {
      "text/plain": [
       "101"
      ]
     },
     "execution_count": 28,
     "metadata": {},
     "output_type": "execute_result"
    }
   ],
   "source": [
    "# подсчет количества строк с dob_years = 0\n",
    "df[df['dob_years'] == 0]['dob_years'].count()"
   ]
  },
  {
   "cell_type": "markdown",
   "id": "4e2de5f8",
   "metadata": {},
   "source": [
    "<div class=\"alert alert-block alert-info\">\n",
    "<font color='Black'>\n",
    "\n",
    "`dob_years` — возраст клиента в годах - имеются отсутствующие значения в виде 0, вероятно это ошибки, возникшие на этапе ввода данных, например, в базу данных банка, либо при выгрузке датасета в файл.\n",
    "\n",
    "Данный столбец не влияет на результаты исследования, поэтому оставим его без изменений."
   ]
  },
  {
   "cell_type": "markdown",
   "id": "3cb80539",
   "metadata": {},
   "source": [
    "<div style=\"border:solid green 3px; padding: 20px\">\n",
    "    \n",
    "Выявили следующие аномалии или некорректные значения, которые скорректировали на данном шаге либо скорректируем на последующих шагах:    \n",
    "    \n",
    "- `education` — уровень образования клиента - имеются дубликаты, для их устранения необходимо привести значения столбца к нижнему регистру, удалим дубликаты [позже](#delete_duplicates);\n",
    "- `purpose` — цель получения кредита - имеются неявные дубликаты, например, `свадьба`, `на проведение свадьбы`, `сыграть свадьбу`, нужно унифицировать значения целей (в идеале при вводе данных цель должна выбираться из справочника);\n",
    "- `children` — количество детей в семье - обнаружили отрицательное значение `-1` по 47 строкам, сомнительное значение `20` по 76 строкам, вероятно это ошибки, возникшие на этапе ввода данных, например, в базу данных банка, либо при выгрузке датасета в файл. Данный столбец влияет на результаты исследования, поэтому некорректные значения были обработаны (заменили в столбце `children` значение `-1` на `1`, значение `20` на медианное значение данного столбца).\n",
    "    \n",
    "Следующие некорректные значения не корректировались, так как данные значения не влияют на результаты исследования:\n",
    "    \n",
    "- `gender` — пол клиента - значение `XNA` в одной строке, скорее всего, пропущено.\n",
    "- `dob_years` — возраст клиента в годах - имеются отсутсвующие значения в виде 0, вероятно это ошибки, возникшие на этапе ввода данных, например, в базу данных банка, либо при выгрузке данных в файл.\n"
   ]
  },
  {
   "cell_type": "markdown",
   "id": "9d64437c",
   "metadata": {},
   "source": [
    "### Шаг 2.3. Изменение типов данных"
   ]
  },
  {
   "cell_type": "markdown",
   "id": "97d45a6b",
   "metadata": {},
   "source": [
    "<div class=\"alert alert-block alert-info\">\n",
    "<font color='Black'>\n",
    "\n",
    "Для удобства обработки данных заменим вещественный тип данных в столбце `total_income` на целочисленный."
   ]
  },
  {
   "cell_type": "code",
   "execution_count": 29,
   "id": "96c7a2be",
   "metadata": {},
   "outputs": [],
   "source": [
    "# перевод значений столбца в целочисленный тип методом astype()\n",
    "df['total_income'] = df['total_income'].astype('int')"
   ]
  },
  {
   "cell_type": "code",
   "execution_count": 30,
   "id": "307a1f3e",
   "metadata": {},
   "outputs": [
    {
     "name": "stdout",
     "output_type": "stream",
     "text": [
      "<class 'pandas.core.frame.DataFrame'>\n",
      "RangeIndex: 21525 entries, 0 to 21524\n",
      "Data columns (total 12 columns):\n",
      "children            21525 non-null int64\n",
      "days_employed       21525 non-null float64\n",
      "dob_years           21525 non-null int64\n",
      "education           21525 non-null object\n",
      "education_id        21525 non-null int64\n",
      "family_status       21525 non-null object\n",
      "family_status_id    21525 non-null int64\n",
      "gender              21525 non-null object\n",
      "income_type         21525 non-null object\n",
      "debt                21525 non-null int64\n",
      "total_income        21525 non-null int64\n",
      "purpose             21525 non-null object\n",
      "dtypes: float64(1), int64(6), object(5)\n",
      "memory usage: 2.0+ MB\n"
     ]
    }
   ],
   "source": [
    "# получение общей информации о данных в df\n",
    "df.info()"
   ]
  },
  {
   "cell_type": "markdown",
   "id": "f8af4ea8",
   "metadata": {},
   "source": [
    "<div style=\"border:solid green 3px; padding: 20px\">\n",
    "    \n",
    "Тип данных столбца `income_type` изменили с вещественного на целочисленный для удобства обработки."
   ]
  },
  {
   "cell_type": "markdown",
   "id": "03b3b92f",
   "metadata": {},
   "source": [
    "### Шаг 2.4. Удаление дубликатов"
   ]
  },
  {
   "cell_type": "markdown",
   "id": "0271f5f7",
   "metadata": {},
   "source": [
    "<div class=\"alert alert-block alert-info\">\n",
    "<font color='Black'>\n",
    "\n",
    "Проверим датафрейм на наличие явных дубликатов."
   ]
  },
  {
   "cell_type": "code",
   "execution_count": 31,
   "id": "9ab41ec3",
   "metadata": {},
   "outputs": [
    {
     "data": {
      "text/plain": [
       "54"
      ]
     },
     "execution_count": 31,
     "metadata": {},
     "output_type": "execute_result"
    }
   ],
   "source": [
    "# применим метод duplicated() и просуммируем число полученных дубликатов\n",
    "df.duplicated().sum()"
   ]
  },
  {
   "cell_type": "markdown",
   "id": "338466ca",
   "metadata": {},
   "source": [
    "<div class=\"alert alert-block alert-info\">\n",
    "<font color='Black'> \n",
    "Обнаружили 54 явных дубликата, удалим дублирующие строки."
   ]
  },
  {
   "cell_type": "code",
   "execution_count": 32,
   "id": "4710c2db",
   "metadata": {},
   "outputs": [],
   "source": [
    "# удалим явные дубликаты с помощью drop_duplicates() и обновим индексы с помощью reset_index()\n",
    "# и перезапишем датафрейм\n",
    "df = df.drop_duplicates().reset_index(drop=True)"
   ]
  },
  {
   "cell_type": "code",
   "execution_count": 33,
   "id": "3ee29b43",
   "metadata": {},
   "outputs": [
    {
     "data": {
      "text/plain": [
       "0"
      ]
     },
     "execution_count": 33,
     "metadata": {},
     "output_type": "execute_result"
    }
   ],
   "source": [
    "# применим метод duplicated() и просуммируем число полученных дубликатов\n",
    "df.duplicated().sum()"
   ]
  },
  {
   "cell_type": "markdown",
   "id": "9dbe88e9",
   "metadata": {},
   "source": [
    "<div class=\"alert alert-block alert-info\">\n",
    "<font color='Black'>\n",
    "    \n",
    "<a id='delete_duplicates'></a>\n",
    "Теперь явные дубликаты в датасете отсутствуют. Появление явных дубликатов в датасете вполне логично, так как некоторые клиенты могут совпадать по набору имеющихся признаков. Возможно имеет смысл добавить поле с идентификатором клиента.\n",
    "\n",
    "На [шаге 2.2](#detect_duplicates) были обнаружены неявные дубликаты в столбце `education`, для их устранения необходимо привести значения столбца к нижнему регистру."
   ]
  },
  {
   "cell_type": "code",
   "execution_count": 34,
   "id": "5881e296",
   "metadata": {},
   "outputs": [
    {
     "data": {
      "text/plain": [
       "среднее                15188\n",
       "высшее                  5251\n",
       "неоконченное высшее      744\n",
       "начальное                282\n",
       "ученая степень             6\n",
       "Name: education, dtype: int64"
      ]
     },
     "execution_count": 34,
     "metadata": {},
     "output_type": "execute_result"
    }
   ],
   "source": [
    "# приведем все символы в столдце education к нижнему регистру\n",
    "df['education'] = df['education'].str.lower()\n",
    "\n",
    "# проверка на уникальность значений в столбце education с категориальными переменными и на частоту повторения данных значений\n",
    "df['education'].value_counts()"
   ]
  },
  {
   "cell_type": "markdown",
   "id": "45b87bdc",
   "metadata": {},
   "source": [
    "<div class=\"alert alert-block alert-info\">\n",
    "<font color='Black'>\n",
    "\n",
    "После приведения данных в столбце `education` к нижнему регистру, неявные дубликаты в данном столбце отсутствуют. Причина появления неявных дубликатов, вероятно, человеческий фактор и ошибка возникла на этапе ввода данных в базу данных банка."
   ]
  },
  {
   "cell_type": "markdown",
   "id": "0fd70e21",
   "metadata": {},
   "source": [
    "<div style=\"border:solid green 3px; padding: 20px\">\n",
    "    \n",
    "Удалили из датафрейма явные дубликаты, а также избавились от неявных дубликатов в столбце `education` путем приведения соответствующих значений к нижнему регистру.    "
   ]
  },
  {
   "cell_type": "markdown",
   "id": "8eaa2c64",
   "metadata": {},
   "source": [
    "### Шаг 2.5. Формирование дополнительных датафреймов словарей, декомпозиция исходного датафрейма"
   ]
  },
  {
   "cell_type": "markdown",
   "id": "61b87b2d",
   "metadata": {},
   "source": [
    "<div class=\"alert alert-block alert-info\">\n",
    "<font color='Black'>\n",
    "\n",
    "Для столбцов `education` и `family_status` создадим так называемые \"словари\" для того, чтобы в основном датафрейме хранить только идентификаторы типов образования и семейного статуса."
   ]
  },
  {
   "cell_type": "code",
   "execution_count": 35,
   "id": "c59968fc",
   "metadata": {
    "scrolled": true
   },
   "outputs": [],
   "source": [
    "# создадим новый датафрейм со столбцами education_id и education\n",
    "education_dict = df [['education_id', 'education']]\n",
    "\n",
    "# удалим дубликаты из вновь созданного датафрейма и обновим индексы\n",
    "education_dict = education_dict.drop_duplicates().reset_index(drop=True)\n",
    "\n",
    "# создадим новый датафрейм со столбцами family_status_id и family_status\n",
    "family_status_dict = df [['family_status_id','family_status']]\n",
    "\n",
    "# удалим дубликаты из вновь созданного датафрейма и обновим индексы\n",
    "family_status_dict = family_status_dict.drop_duplicates().reset_index(drop=True)"
   ]
  },
  {
   "cell_type": "code",
   "execution_count": 36,
   "id": "69ef8471",
   "metadata": {},
   "outputs": [
    {
     "data": {
      "text/html": [
       "<div>\n",
       "<style scoped>\n",
       "    .dataframe tbody tr th:only-of-type {\n",
       "        vertical-align: middle;\n",
       "    }\n",
       "\n",
       "    .dataframe tbody tr th {\n",
       "        vertical-align: top;\n",
       "    }\n",
       "\n",
       "    .dataframe thead th {\n",
       "        text-align: right;\n",
       "    }\n",
       "</style>\n",
       "<table border=\"1\" class=\"dataframe\">\n",
       "  <thead>\n",
       "    <tr style=\"text-align: right;\">\n",
       "      <th></th>\n",
       "      <th>education_id</th>\n",
       "      <th>education</th>\n",
       "    </tr>\n",
       "  </thead>\n",
       "  <tbody>\n",
       "    <tr>\n",
       "      <td>0</td>\n",
       "      <td>0</td>\n",
       "      <td>высшее</td>\n",
       "    </tr>\n",
       "    <tr>\n",
       "      <td>1</td>\n",
       "      <td>1</td>\n",
       "      <td>среднее</td>\n",
       "    </tr>\n",
       "    <tr>\n",
       "      <td>2</td>\n",
       "      <td>2</td>\n",
       "      <td>неоконченное высшее</td>\n",
       "    </tr>\n",
       "    <tr>\n",
       "      <td>3</td>\n",
       "      <td>3</td>\n",
       "      <td>начальное</td>\n",
       "    </tr>\n",
       "    <tr>\n",
       "      <td>4</td>\n",
       "      <td>4</td>\n",
       "      <td>ученая степень</td>\n",
       "    </tr>\n",
       "  </tbody>\n",
       "</table>\n",
       "</div>"
      ],
      "text/plain": [
       "   education_id            education\n",
       "0             0               высшее\n",
       "1             1              среднее\n",
       "2             2  неоконченное высшее\n",
       "3             3            начальное\n",
       "4             4       ученая степень"
      ]
     },
     "execution_count": 36,
     "metadata": {},
     "output_type": "execute_result"
    }
   ],
   "source": [
    "# печать на экран \"словаря\" типов образования\n",
    "education_dict"
   ]
  },
  {
   "cell_type": "code",
   "execution_count": 37,
   "id": "fa69c1fa",
   "metadata": {},
   "outputs": [
    {
     "data": {
      "text/html": [
       "<div>\n",
       "<style scoped>\n",
       "    .dataframe tbody tr th:only-of-type {\n",
       "        vertical-align: middle;\n",
       "    }\n",
       "\n",
       "    .dataframe tbody tr th {\n",
       "        vertical-align: top;\n",
       "    }\n",
       "\n",
       "    .dataframe thead th {\n",
       "        text-align: right;\n",
       "    }\n",
       "</style>\n",
       "<table border=\"1\" class=\"dataframe\">\n",
       "  <thead>\n",
       "    <tr style=\"text-align: right;\">\n",
       "      <th></th>\n",
       "      <th>family_status_id</th>\n",
       "      <th>family_status</th>\n",
       "    </tr>\n",
       "  </thead>\n",
       "  <tbody>\n",
       "    <tr>\n",
       "      <td>0</td>\n",
       "      <td>0</td>\n",
       "      <td>женат / замужем</td>\n",
       "    </tr>\n",
       "    <tr>\n",
       "      <td>1</td>\n",
       "      <td>1</td>\n",
       "      <td>гражданский брак</td>\n",
       "    </tr>\n",
       "    <tr>\n",
       "      <td>2</td>\n",
       "      <td>2</td>\n",
       "      <td>вдовец / вдова</td>\n",
       "    </tr>\n",
       "    <tr>\n",
       "      <td>3</td>\n",
       "      <td>3</td>\n",
       "      <td>в разводе</td>\n",
       "    </tr>\n",
       "    <tr>\n",
       "      <td>4</td>\n",
       "      <td>4</td>\n",
       "      <td>Не женат / не замужем</td>\n",
       "    </tr>\n",
       "  </tbody>\n",
       "</table>\n",
       "</div>"
      ],
      "text/plain": [
       "   family_status_id          family_status\n",
       "0                 0        женат / замужем\n",
       "1                 1       гражданский брак\n",
       "2                 2         вдовец / вдова\n",
       "3                 3              в разводе\n",
       "4                 4  Не женат / не замужем"
      ]
     },
     "execution_count": 37,
     "metadata": {},
     "output_type": "execute_result"
    }
   ],
   "source": [
    "# печать на экран \"словаря\" типов семейного статуса\n",
    "family_status_dict"
   ]
  },
  {
   "cell_type": "code",
   "execution_count": 38,
   "id": "d6ca1be2",
   "metadata": {},
   "outputs": [],
   "source": [
    "# перезапишем датафрейм, уберем столбцы education и family_status, для которых создали \"словари\"\n",
    "df = df[['children', 'days_employed', 'dob_years', 'education_id', 'family_status_id', 'gender', \n",
    "         'income_type', 'debt','total_income', 'purpose']]"
   ]
  },
  {
   "cell_type": "code",
   "execution_count": 39,
   "id": "1900c64b",
   "metadata": {},
   "outputs": [
    {
     "name": "stdout",
     "output_type": "stream",
     "text": [
      "<class 'pandas.core.frame.DataFrame'>\n",
      "RangeIndex: 21471 entries, 0 to 21470\n",
      "Data columns (total 10 columns):\n",
      "children            21471 non-null int64\n",
      "days_employed       21471 non-null float64\n",
      "dob_years           21471 non-null int64\n",
      "education_id        21471 non-null int64\n",
      "family_status_id    21471 non-null int64\n",
      "gender              21471 non-null object\n",
      "income_type         21471 non-null object\n",
      "debt                21471 non-null int64\n",
      "total_income        21471 non-null int64\n",
      "purpose             21471 non-null object\n",
      "dtypes: float64(1), int64(6), object(3)\n",
      "memory usage: 1.6+ MB\n"
     ]
    }
   ],
   "source": [
    "# получение общей информации о данных в df\n",
    "df.info()"
   ]
  },
  {
   "cell_type": "markdown",
   "id": "02fa1c28",
   "metadata": {},
   "source": [
    "<div style=\"border:solid green 3px; padding: 20px\">\n",
    "\n",
    "Создали \"словари\" для типов образования и семейного статуса (`education`, `family_status`), в основном датафрейме оставили только идентификаторы типов."
   ]
  },
  {
   "cell_type": "markdown",
   "id": "aed78556",
   "metadata": {},
   "source": [
    "### Шаг 2.6. Категоризация дохода"
   ]
  },
  {
   "cell_type": "markdown",
   "id": "099eee9f",
   "metadata": {},
   "source": [
    "<div class=\"alert alert-block alert-info\">\n",
    "<font color='Black'>\n",
    "\n",
    "На основании диапазонов, указанных ниже, создадим столбец `total_income_category` с категориями:\n",
    "- 0–30000 — 'E';\n",
    "- 30001–50000 — 'D';\n",
    "- 50001–200000 — 'C';\n",
    "- 200001–1000000 — 'B';\n",
    "- 1000001 и выше — 'A'."
   ]
  },
  {
   "cell_type": "code",
   "execution_count": 40,
   "id": "6e7b5319",
   "metadata": {},
   "outputs": [],
   "source": [
    "# определим функцию total_income_group, которая по значению дохода income возвращает соответствующую категорию\n",
    "def total_income_group(income):\n",
    "    if income <= 30000:\n",
    "        return 'E'\n",
    "    elif income <= 50000:\n",
    "        return 'D'\n",
    "    elif income <= 200000:\n",
    "        return 'C'\n",
    "    elif income <= 1000000:\n",
    "        return 'B'\n",
    "    else:\n",
    "        return 'A'"
   ]
  },
  {
   "cell_type": "code",
   "execution_count": 41,
   "id": "3156e2c4",
   "metadata": {},
   "outputs": [],
   "source": [
    "# создадим новый столбец в df, применив функцию total_income_group к столбцу total_income\n",
    "df['total_income_category'] = df['total_income'].apply(total_income_group)"
   ]
  },
  {
   "cell_type": "code",
   "execution_count": 42,
   "id": "c1be766c",
   "metadata": {},
   "outputs": [
    {
     "data": {
      "text/html": [
       "<div>\n",
       "<style scoped>\n",
       "    .dataframe tbody tr th:only-of-type {\n",
       "        vertical-align: middle;\n",
       "    }\n",
       "\n",
       "    .dataframe tbody tr th {\n",
       "        vertical-align: top;\n",
       "    }\n",
       "\n",
       "    .dataframe thead th {\n",
       "        text-align: right;\n",
       "    }\n",
       "</style>\n",
       "<table border=\"1\" class=\"dataframe\">\n",
       "  <thead>\n",
       "    <tr style=\"text-align: right;\">\n",
       "      <th></th>\n",
       "      <th>children</th>\n",
       "      <th>days_employed</th>\n",
       "      <th>dob_years</th>\n",
       "      <th>education_id</th>\n",
       "      <th>family_status_id</th>\n",
       "      <th>gender</th>\n",
       "      <th>income_type</th>\n",
       "      <th>debt</th>\n",
       "      <th>total_income</th>\n",
       "      <th>purpose</th>\n",
       "      <th>total_income_category</th>\n",
       "    </tr>\n",
       "  </thead>\n",
       "  <tbody>\n",
       "    <tr>\n",
       "      <td>0</td>\n",
       "      <td>1</td>\n",
       "      <td>8437.673028</td>\n",
       "      <td>42</td>\n",
       "      <td>0</td>\n",
       "      <td>0</td>\n",
       "      <td>F</td>\n",
       "      <td>сотрудник</td>\n",
       "      <td>0</td>\n",
       "      <td>253875</td>\n",
       "      <td>покупка жилья</td>\n",
       "      <td>B</td>\n",
       "    </tr>\n",
       "    <tr>\n",
       "      <td>1</td>\n",
       "      <td>1</td>\n",
       "      <td>4024.803754</td>\n",
       "      <td>36</td>\n",
       "      <td>1</td>\n",
       "      <td>0</td>\n",
       "      <td>F</td>\n",
       "      <td>сотрудник</td>\n",
       "      <td>0</td>\n",
       "      <td>112080</td>\n",
       "      <td>приобретение автомобиля</td>\n",
       "      <td>C</td>\n",
       "    </tr>\n",
       "    <tr>\n",
       "      <td>2</td>\n",
       "      <td>0</td>\n",
       "      <td>5623.422610</td>\n",
       "      <td>33</td>\n",
       "      <td>1</td>\n",
       "      <td>0</td>\n",
       "      <td>M</td>\n",
       "      <td>сотрудник</td>\n",
       "      <td>0</td>\n",
       "      <td>145885</td>\n",
       "      <td>покупка жилья</td>\n",
       "      <td>C</td>\n",
       "    </tr>\n",
       "    <tr>\n",
       "      <td>3</td>\n",
       "      <td>3</td>\n",
       "      <td>4124.747207</td>\n",
       "      <td>32</td>\n",
       "      <td>1</td>\n",
       "      <td>0</td>\n",
       "      <td>M</td>\n",
       "      <td>сотрудник</td>\n",
       "      <td>0</td>\n",
       "      <td>267628</td>\n",
       "      <td>дополнительное образование</td>\n",
       "      <td>B</td>\n",
       "    </tr>\n",
       "    <tr>\n",
       "      <td>4</td>\n",
       "      <td>0</td>\n",
       "      <td>340266.072047</td>\n",
       "      <td>53</td>\n",
       "      <td>1</td>\n",
       "      <td>1</td>\n",
       "      <td>F</td>\n",
       "      <td>пенсионер</td>\n",
       "      <td>0</td>\n",
       "      <td>158616</td>\n",
       "      <td>сыграть свадьбу</td>\n",
       "      <td>C</td>\n",
       "    </tr>\n",
       "    <tr>\n",
       "      <td>5</td>\n",
       "      <td>0</td>\n",
       "      <td>926.185831</td>\n",
       "      <td>27</td>\n",
       "      <td>0</td>\n",
       "      <td>1</td>\n",
       "      <td>M</td>\n",
       "      <td>компаньон</td>\n",
       "      <td>0</td>\n",
       "      <td>255763</td>\n",
       "      <td>покупка жилья</td>\n",
       "      <td>B</td>\n",
       "    </tr>\n",
       "    <tr>\n",
       "      <td>6</td>\n",
       "      <td>0</td>\n",
       "      <td>2879.202052</td>\n",
       "      <td>43</td>\n",
       "      <td>0</td>\n",
       "      <td>0</td>\n",
       "      <td>F</td>\n",
       "      <td>компаньон</td>\n",
       "      <td>0</td>\n",
       "      <td>240525</td>\n",
       "      <td>операции с жильем</td>\n",
       "      <td>B</td>\n",
       "    </tr>\n",
       "    <tr>\n",
       "      <td>7</td>\n",
       "      <td>0</td>\n",
       "      <td>152.779569</td>\n",
       "      <td>50</td>\n",
       "      <td>1</td>\n",
       "      <td>0</td>\n",
       "      <td>M</td>\n",
       "      <td>сотрудник</td>\n",
       "      <td>0</td>\n",
       "      <td>135823</td>\n",
       "      <td>образование</td>\n",
       "      <td>C</td>\n",
       "    </tr>\n",
       "    <tr>\n",
       "      <td>8</td>\n",
       "      <td>2</td>\n",
       "      <td>6929.865299</td>\n",
       "      <td>35</td>\n",
       "      <td>0</td>\n",
       "      <td>1</td>\n",
       "      <td>F</td>\n",
       "      <td>сотрудник</td>\n",
       "      <td>0</td>\n",
       "      <td>95856</td>\n",
       "      <td>на проведение свадьбы</td>\n",
       "      <td>C</td>\n",
       "    </tr>\n",
       "    <tr>\n",
       "      <td>9</td>\n",
       "      <td>0</td>\n",
       "      <td>2188.756445</td>\n",
       "      <td>41</td>\n",
       "      <td>1</td>\n",
       "      <td>0</td>\n",
       "      <td>M</td>\n",
       "      <td>сотрудник</td>\n",
       "      <td>0</td>\n",
       "      <td>144425</td>\n",
       "      <td>покупка жилья для семьи</td>\n",
       "      <td>C</td>\n",
       "    </tr>\n",
       "  </tbody>\n",
       "</table>\n",
       "</div>"
      ],
      "text/plain": [
       "   children  days_employed  dob_years  education_id  family_status_id gender  \\\n",
       "0         1    8437.673028         42             0                 0      F   \n",
       "1         1    4024.803754         36             1                 0      F   \n",
       "2         0    5623.422610         33             1                 0      M   \n",
       "3         3    4124.747207         32             1                 0      M   \n",
       "4         0  340266.072047         53             1                 1      F   \n",
       "5         0     926.185831         27             0                 1      M   \n",
       "6         0    2879.202052         43             0                 0      F   \n",
       "7         0     152.779569         50             1                 0      M   \n",
       "8         2    6929.865299         35             0                 1      F   \n",
       "9         0    2188.756445         41             1                 0      M   \n",
       "\n",
       "  income_type  debt  total_income                     purpose  \\\n",
       "0   сотрудник     0        253875               покупка жилья   \n",
       "1   сотрудник     0        112080     приобретение автомобиля   \n",
       "2   сотрудник     0        145885               покупка жилья   \n",
       "3   сотрудник     0        267628  дополнительное образование   \n",
       "4   пенсионер     0        158616             сыграть свадьбу   \n",
       "5   компаньон     0        255763               покупка жилья   \n",
       "6   компаньон     0        240525           операции с жильем   \n",
       "7   сотрудник     0        135823                 образование   \n",
       "8   сотрудник     0         95856       на проведение свадьбы   \n",
       "9   сотрудник     0        144425     покупка жилья для семьи   \n",
       "\n",
       "  total_income_category  \n",
       "0                     B  \n",
       "1                     C  \n",
       "2                     C  \n",
       "3                     B  \n",
       "4                     C  \n",
       "5                     B  \n",
       "6                     B  \n",
       "7                     C  \n",
       "8                     C  \n",
       "9                     C  "
      ]
     },
     "execution_count": 42,
     "metadata": {},
     "output_type": "execute_result"
    }
   ],
   "source": [
    "# получение первых 10 строк датасета df\n",
    "df.head(10)"
   ]
  },
  {
   "cell_type": "markdown",
   "id": "c317ada7",
   "metadata": {},
   "source": [
    "<a id='income'></a>\n",
    "<div style=\"border:solid green 3px; padding: 20px\">\n",
    "    \n",
    "В датафрейм добавили новый столбец, отражающий категорию дохода клиента `total_income_category`:\n",
    "- 0–30000 — 'E';\n",
    "- 30001–50000 — 'D';\n",
    "- 50001–200000 — 'C';\n",
    "- 200001–1000000 — 'B';\n",
    "- 1000001 и выше — 'A'."
   ]
  },
  {
   "cell_type": "markdown",
   "id": "70b01a93",
   "metadata": {},
   "source": [
    "### Шаг 2.7. Категоризация целей кредита"
   ]
  },
  {
   "cell_type": "markdown",
   "id": "73bf7835",
   "metadata": {},
   "source": [
    "<div class=\"alert alert-block alert-info\">\n",
    "<font color='Black'>\n",
    "\n",
    "Значения в столбце `purpose` довольно разнообразны, что усложняет анализ. Но по сути можно выделить четыре категории целей. Для этого создадим функцию, которая на основании данных из столбца `purpose` сформирует новый столбец `purpose_category`, в который войдут следующие категории:\n",
    "- 'операции с автомобилем',\n",
    "- 'операции с недвижимостью',\n",
    "- 'проведение свадьбы',\n",
    "- 'получение образования'."
   ]
  },
  {
   "cell_type": "code",
   "execution_count": 43,
   "id": "f19c2182",
   "metadata": {},
   "outputs": [
    {
     "data": {
      "text/plain": [
       "свадьба                                   793\n",
       "на проведение свадьбы                     773\n",
       "сыграть свадьбу                           769\n",
       "операции с недвижимостью                  675\n",
       "покупка коммерческой недвижимости         662\n",
       "покупка жилья для сдачи                   652\n",
       "операции с жильем                         652\n",
       "операции с коммерческой недвижимостью     650\n",
       "покупка жилья                             646\n",
       "жилье                                     646\n",
       "покупка жилья для семьи                   638\n",
       "строительство собственной недвижимости    635\n",
       "недвижимость                              633\n",
       "операции со своей недвижимостью           627\n",
       "строительство жилой недвижимости          625\n",
       "покупка недвижимости                      621\n",
       "покупка своего жилья                      620\n",
       "строительство недвижимости                619\n",
       "ремонт жилью                              607\n",
       "покупка жилой недвижимости                606\n",
       "на покупку своего автомобиля              505\n",
       "заняться высшим образованием              496\n",
       "автомобиль                                494\n",
       "сделка с подержанным автомобилем          486\n",
       "свой автомобиль                           479\n",
       "на покупку подержанного автомобиля        478\n",
       "автомобили                                478\n",
       "на покупку автомобиля                     472\n",
       "приобретение автомобиля                   461\n",
       "дополнительное образование                460\n",
       "сделка с автомобилем                      455\n",
       "высшее образование                        452\n",
       "образование                               447\n",
       "получение дополнительного образования     447\n",
       "получение образования                     442\n",
       "профильное образование                    436\n",
       "получение высшего образования             426\n",
       "заняться образованием                     408\n",
       "Name: purpose, dtype: int64"
      ]
     },
     "execution_count": 43,
     "metadata": {},
     "output_type": "execute_result"
    }
   ],
   "source": [
    "# получим уникальные значения столбца purpose и их количество\n",
    "df['purpose'].value_counts()"
   ]
  },
  {
   "cell_type": "code",
   "execution_count": 44,
   "id": "614b14d0",
   "metadata": {},
   "outputs": [],
   "source": [
    "# определим функцию purpose_group, которая в зависимости от цели purpose будет возвращать значение из \n",
    "# purpose_list = ['операции с автомобилем','операции с недвижимостью','проведение свадьбы','получение образования']\n",
    "# при условии вхождения определенной подстроки в строку purpose\n",
    "def purpose_group(purpose):\n",
    "    purpose_list = ['операции с автомобилем',\n",
    "                    'операции с недвижимостью',\n",
    "                    'проведение свадьбы',\n",
    "                    'получение образования']\n",
    "    if 'автомобил' in purpose:\n",
    "        return purpose_list[0]\n",
    "    elif ('недвижимост' in purpose) or ('жиль' in purpose):\n",
    "        return purpose_list[1]        \n",
    "    elif 'свадьб' in purpose:\n",
    "        return purpose_list[2]\n",
    "    elif 'образовани' in purpose:\n",
    "        return purpose_list[3]  \n",
    "    else:\n",
    "        return 'цель не определена'"
   ]
  },
  {
   "cell_type": "code",
   "execution_count": 45,
   "id": "98c2b2e4",
   "metadata": {},
   "outputs": [],
   "source": [
    "# создадим новый столбец в df, применив функцию purpose_group к столбцу purpose\n",
    "df['purpose_category'] = df['purpose'].apply(purpose_group)"
   ]
  },
  {
   "cell_type": "code",
   "execution_count": 46,
   "id": "07a6c638",
   "metadata": {},
   "outputs": [
    {
     "data": {
      "text/plain": [
       "операции с недвижимостью    10814\n",
       "операции с автомобилем       4308\n",
       "получение образования        4014\n",
       "проведение свадьбы           2335\n",
       "Name: purpose_category, dtype: int64"
      ]
     },
     "execution_count": 46,
     "metadata": {},
     "output_type": "execute_result"
    }
   ],
   "source": [
    "# получим уникальные значения нового столбца purpose_category и их количество\n",
    "df['purpose_category'].value_counts()"
   ]
  },
  {
   "cell_type": "markdown",
   "id": "9f6af24b",
   "metadata": {},
   "source": [
    "<div style=\"border:solid green 3px; padding: 20px\">\n",
    "    \n",
    "Добавили в датафрейм новый столбец `purpose_category`, который вклдючает в себя следующие категории:\n",
    "- 'операции с автомобилем',\n",
    "- 'операции с недвижимостью',\n",
    "- 'проведение свадьбы',\n",
    "- 'получение образования'.    "
   ]
  },
  {
   "cell_type": "markdown",
   "id": "4c128aee",
   "metadata": {},
   "source": [
    "## Этап 3. Проверка гипотез"
   ]
  },
  {
   "cell_type": "markdown",
   "id": "21cf8513",
   "metadata": {},
   "source": [
    "<div class=\"alert alert-block alert-info\">\n",
    "<font color='Black'>\n",
    " \n",
    "Реализуем дополнительные функции, которые понадобятся для вывода результатов."
   ]
  },
  {
   "cell_type": "code",
   "execution_count": 47,
   "id": "c5096043",
   "metadata": {},
   "outputs": [],
   "source": [
    "# определим функцию retun_rate, которая на вход получает строку row\n",
    "# возвращает отношение значения в первом столбце к сумме значений в первом и во втором столбцах, умноженное на 100\n",
    "# полученное отношение округляется до двух знаков после запятой\n",
    "# возможное деление на ноль обработаем конструкцией try ... except ... \n",
    "# в случае деления на ноль функция вернет строку 'деление на ноль'\n",
    "def return_rate(row):\n",
    "   try:\n",
    "        return round( ( row[0] / ( row[0] + row[1] ) ) * 100 , 2)\n",
    "   except:\n",
    "        return 'деление на ноль'\n",
    "\n",
    "# определим функцию total_group, которая на вход получает строку row\n",
    "# возвращает сумму значений в первом и во втором столбцах    \n",
    "def total_group(row):\n",
    "    return  row[0] + row[1] \n",
    "\n",
    "# в переменную total запишем общее количество строк в датасете df\n",
    "total = df.shape[0]"
   ]
  },
  {
   "cell_type": "markdown",
   "id": "633a8670",
   "metadata": {},
   "source": [
    "### Проверка гипотезы №1"
   ]
  },
  {
   "cell_type": "markdown",
   "id": "c4616e38",
   "metadata": {},
   "source": [
    "<div class=\"alert alert-block alert-info\">\n",
    "<font color='Black'>\n",
    "\n",
    "Проверим гипотезу №1. Количество детей клиента влияет на факт погашения кредита в срок.\n",
    "\n",
    "Сформируем сводную таблицу по столбцу `children`, будем группировать по значениям столбца `debt` - целевому признаку, в качестве значений для сводной таблицы в нашем случае можно использовать значения любого столбца, будем использовать значения столбца `gender` и считать количество его значений. Далее в результирующую таблицу добавим столбцы:\n",
    "- `return_rate_%` - процент возврата кредитов в срок по группе,\n",
    "- `group_%` - доля группы во всей выборке."
   ]
  },
  {
   "cell_type": "code",
   "execution_count": 48,
   "id": "367f0bb5",
   "metadata": {},
   "outputs": [
    {
     "data": {
      "text/html": [
       "<div>\n",
       "<style scoped>\n",
       "    .dataframe tbody tr th:only-of-type {\n",
       "        vertical-align: middle;\n",
       "    }\n",
       "\n",
       "    .dataframe tbody tr th {\n",
       "        vertical-align: top;\n",
       "    }\n",
       "\n",
       "    .dataframe thead th {\n",
       "        text-align: right;\n",
       "    }\n",
       "</style>\n",
       "<table border=\"1\" class=\"dataframe\">\n",
       "  <thead>\n",
       "    <tr style=\"text-align: right;\">\n",
       "      <th>debt</th>\n",
       "      <th>0</th>\n",
       "      <th>1</th>\n",
       "      <th>return_rate_%</th>\n",
       "      <th>group_%</th>\n",
       "    </tr>\n",
       "    <tr>\n",
       "      <th>children</th>\n",
       "      <th></th>\n",
       "      <th></th>\n",
       "      <th></th>\n",
       "      <th></th>\n",
       "    </tr>\n",
       "  </thead>\n",
       "  <tbody>\n",
       "    <tr>\n",
       "      <td>5</td>\n",
       "      <td>9.0</td>\n",
       "      <td>0.0</td>\n",
       "      <td>100.00</td>\n",
       "      <td>0.04</td>\n",
       "    </tr>\n",
       "    <tr>\n",
       "      <td>0</td>\n",
       "      <td>13112.0</td>\n",
       "      <td>1071.0</td>\n",
       "      <td>92.45</td>\n",
       "      <td>66.06</td>\n",
       "    </tr>\n",
       "    <tr>\n",
       "      <td>3</td>\n",
       "      <td>303.0</td>\n",
       "      <td>27.0</td>\n",
       "      <td>91.82</td>\n",
       "      <td>1.54</td>\n",
       "    </tr>\n",
       "    <tr>\n",
       "      <td>1</td>\n",
       "      <td>4411.0</td>\n",
       "      <td>445.0</td>\n",
       "      <td>90.84</td>\n",
       "      <td>22.62</td>\n",
       "    </tr>\n",
       "    <tr>\n",
       "      <td>2</td>\n",
       "      <td>1858.0</td>\n",
       "      <td>194.0</td>\n",
       "      <td>90.55</td>\n",
       "      <td>9.56</td>\n",
       "    </tr>\n",
       "    <tr>\n",
       "      <td>4</td>\n",
       "      <td>37.0</td>\n",
       "      <td>4.0</td>\n",
       "      <td>90.24</td>\n",
       "      <td>0.19</td>\n",
       "    </tr>\n",
       "  </tbody>\n",
       "</table>\n",
       "</div>"
      ],
      "text/plain": [
       "debt            0       1  return_rate_%  group_%\n",
       "children                                         \n",
       "5             9.0     0.0         100.00     0.04\n",
       "0         13112.0  1071.0          92.45    66.06\n",
       "3           303.0    27.0          91.82     1.54\n",
       "1          4411.0   445.0          90.84    22.62\n",
       "2          1858.0   194.0          90.55     9.56\n",
       "4            37.0     4.0          90.24     0.19"
      ]
     },
     "execution_count": 48,
     "metadata": {},
     "output_type": "execute_result"
    }
   ],
   "source": [
    "# строим сводную таблицу по исходному датафрейму df по столбцу `children`, \n",
    "# группируем по значениям столбца `debt` \n",
    "# и считаем значения в столбце `gender`, используя метод count()\n",
    "df_pivot_children = df.pivot_table(index=['children'], columns='debt', values='gender', aggfunc='count')\n",
    "\n",
    "# заполняем пропуски значением 0, чтобы результирующие столбцы рассчитывались корректно\n",
    "df_pivot_children = df_pivot_children.fillna(0)\n",
    "\n",
    "# добавляем в сводную таблицу столбцы return_rate_% и group_%, используя функции \n",
    "# return_rate, которая возвращает процент возврата кредитов в срок по группе \n",
    "# и total_group, которая возвращает общий размер выборки по группе\n",
    "df_pivot_children['return_rate_%'] = df_pivot_children.apply(return_rate, axis=1)\n",
    "df_pivot_children['group_%'] = df_pivot_children.apply(total_group, axis=1)\n",
    "\n",
    "# преобразуем значение в столбце group_% в долую группе во всей выборке, используя размер всей выборке\n",
    "# умножим полученное значение на 100 и округлим до двух знаков после запятой с помощью round()\n",
    "df_pivot_children['group_%'] = round(df_pivot_children['group_%'] / total * 100, 2)\n",
    "\n",
    "# выведем итоговую сводную таблицу, отсортировав по убыванию значений в return_rate_%\n",
    "df_pivot_children.sort_values(by='return_rate_%', ascending=False)"
   ]
  },
  {
   "cell_type": "markdown",
   "id": "7fce443d",
   "metadata": {},
   "source": [
    "<div class=\"alert alert-block alert-info\">\n",
    "<font color='Black'>\n",
    "\n",
    "Мы видим, что на первом месте по проценту возврата кредитов в срок находитcя группа клиентов с 5-ю детьми, процент возврата по данной группе составил 100%. \n",
    "При этом отметим, что доля группы клиентов с 5-ю детьми в выборке составляет всего 0,04%, доля данной группы не существенна для всей выборки в целом. Тоже утверждение справедливо и для группы клиентов с 4-мя детьми и 3-мя детьми. Поэтому для целей исследования не будем рассматривать результаты по данным группам.\n",
    "\n",
    "В отношении групп клиентов без детей, с 1-м ребенком или 2-мя детьми можно сделать вывод, что процент возврата кредитов в срок при отсутствии детей составляет 92,45%, при наличии одного ребенка или двух детей процент возврата кредитов в срок примерно одинаковый, по группе с одним ребенком чуть выше 90,84%, по группе с двумя детьми 90,55%."
   ]
  },
  {
   "cell_type": "markdown",
   "id": "3aeeec97",
   "metadata": {},
   "source": [
    "<div style=\"border:solid green 3px; padding: 20px\">\n",
    "    \n",
    "Можно сделать вывод, что количество детей влияет на возврат кредита в срок, отсутствие детей повышает вероятность возврата кредита в срок, наличие детей понижает данную вероятность. Но данная зависимость неярко выражена, отличие в проценте возврата кредита в срок между группами составляет не более 2%. Кроме того, группы клиентов с более чем двумя детьми оказались не репрезентативными и поэтому результаты по данным группам не принимались во внимание при формировании вывода.\n",
    "</div>   "
   ]
  },
  {
   "cell_type": "markdown",
   "id": "98be7053",
   "metadata": {},
   "source": [
    "### Проверка гипотезы №2"
   ]
  },
  {
   "cell_type": "markdown",
   "id": "fadacd1b",
   "metadata": {},
   "source": [
    "<div class=\"alert alert-block alert-info\">\n",
    "<font color='Black'>\n",
    "\n",
    "2. Семейное положение клиента влияет на факт погашения кредита в срок.\n",
    "\n",
    "Сформируем сводную таблицу по столбцу `family_status_id`, будем группировать по значениям столбца `debt` - целевому признаку, в качестве значений для сводной таблицы в нашем случае можно использовать значения любого столбца, будем использовать значения столбца `gender` и считать количество его значений. Далее в результирующую таблицу добавим столбцы:\n",
    "- `family_status` - семейное положение,\n",
    "- `return_rate_%` - процент возврата кредитов в срок по группе,\n",
    "- `group_%` - доля группы во всей выборке.\n"
   ]
  },
  {
   "cell_type": "code",
   "execution_count": 49,
   "id": "d33c7a14",
   "metadata": {},
   "outputs": [
    {
     "data": {
      "text/html": [
       "<div>\n",
       "<style scoped>\n",
       "    .dataframe tbody tr th:only-of-type {\n",
       "        vertical-align: middle;\n",
       "    }\n",
       "\n",
       "    .dataframe tbody tr th {\n",
       "        vertical-align: top;\n",
       "    }\n",
       "\n",
       "    .dataframe thead th {\n",
       "        text-align: right;\n",
       "    }\n",
       "</style>\n",
       "<table border=\"1\" class=\"dataframe\">\n",
       "  <thead>\n",
       "    <tr style=\"text-align: right;\">\n",
       "      <th></th>\n",
       "      <th>family_status_id</th>\n",
       "      <th>debt_0</th>\n",
       "      <th>debt_1</th>\n",
       "      <th>return_rate_%</th>\n",
       "      <th>group_%</th>\n",
       "      <th>family_status</th>\n",
       "    </tr>\n",
       "  </thead>\n",
       "  <tbody>\n",
       "    <tr>\n",
       "      <td>2</td>\n",
       "      <td>2</td>\n",
       "      <td>896</td>\n",
       "      <td>63</td>\n",
       "      <td>93.43</td>\n",
       "      <td>4.47</td>\n",
       "      <td>вдовец / вдова</td>\n",
       "    </tr>\n",
       "    <tr>\n",
       "      <td>3</td>\n",
       "      <td>3</td>\n",
       "      <td>1110</td>\n",
       "      <td>85</td>\n",
       "      <td>92.89</td>\n",
       "      <td>5.57</td>\n",
       "      <td>в разводе</td>\n",
       "    </tr>\n",
       "    <tr>\n",
       "      <td>0</td>\n",
       "      <td>0</td>\n",
       "      <td>11413</td>\n",
       "      <td>931</td>\n",
       "      <td>92.46</td>\n",
       "      <td>57.49</td>\n",
       "      <td>женат / замужем</td>\n",
       "    </tr>\n",
       "    <tr>\n",
       "      <td>1</td>\n",
       "      <td>1</td>\n",
       "      <td>3775</td>\n",
       "      <td>388</td>\n",
       "      <td>90.68</td>\n",
       "      <td>19.39</td>\n",
       "      <td>гражданский брак</td>\n",
       "    </tr>\n",
       "    <tr>\n",
       "      <td>4</td>\n",
       "      <td>4</td>\n",
       "      <td>2536</td>\n",
       "      <td>274</td>\n",
       "      <td>90.25</td>\n",
       "      <td>13.09</td>\n",
       "      <td>Не женат / не замужем</td>\n",
       "    </tr>\n",
       "  </tbody>\n",
       "</table>\n",
       "</div>"
      ],
      "text/plain": [
       "   family_status_id  debt_0  debt_1  return_rate_%  group_%  \\\n",
       "2                 2     896      63          93.43     4.47   \n",
       "3                 3    1110      85          92.89     5.57   \n",
       "0                 0   11413     931          92.46    57.49   \n",
       "1                 1    3775     388          90.68    19.39   \n",
       "4                 4    2536     274          90.25    13.09   \n",
       "\n",
       "           family_status  \n",
       "2         вдовец / вдова  \n",
       "3              в разводе  \n",
       "0        женат / замужем  \n",
       "1       гражданский брак  \n",
       "4  Не женат / не замужем  "
      ]
     },
     "execution_count": 49,
     "metadata": {},
     "output_type": "execute_result"
    }
   ],
   "source": [
    "# строим сводную таблицу по исходному датафрейму df по столбцу `family_status_id`, \n",
    "# группируем по значениям столбца `debt` \n",
    "# и считаем значения в столбце `gender`, используя метод count()\n",
    "df_pivot_family_id = df.pivot_table(index=['family_status_id'],columns='debt', values='gender', aggfunc='count')\n",
    "\n",
    "# добавляем в сводную таблицу столбцы return_rate_% и group_%, используя функции \n",
    "# return_rate, которая возвращает процент возврата кредитов в срок по группе \n",
    "# и total_group, которая возвращает общий размер выборки по группе\n",
    "df_pivot_family_id['return_rate_%'] = df_pivot_family_id.apply(return_rate, axis=1)\n",
    "df_pivot_family_id['group_%'] = df_pivot_family_id.apply(total_group, axis=1)\n",
    "\n",
    "# преобразуем значение в столбце group_% в долую группе во всей выборке, используя размер всей выборке\n",
    "# умножим полученное значение на 100 и округлим до двух знаков после запятой с помощью round()\n",
    "df_pivot_family_id['group_%'] = round(df_pivot_family_id['group_%'] / total * 100, 2)\n",
    "\n",
    "# дополним сводную таблицу данными о семейном положении\n",
    "# воспользуемся \"словарем\" family_status_dict и по family_status_id добавим family_status\n",
    "# используем для присоединения family_status_dict к df_pivot_family_id метод merge()\n",
    "# результат сохраним в df_pivot_family_status\n",
    "df_pivot_family_status = df_pivot_family_id.merge(family_status_dict, on='family_status_id', how='left')\n",
    "\n",
    "# переименуем столбцы в df_pivot_family_status для наглядности результата\n",
    "df_pivot_family_status = df_pivot_family_status.rename(columns={0:'debt_0', 1:'debt_1'})\n",
    "\n",
    "# выведем итоговую сводную таблицу, отсортировав по убыванию значений в return_rate_%\n",
    "df_pivot_family_status.sort_values(by='return_rate_%', ascending=False)"
   ]
  },
  {
   "cell_type": "markdown",
   "id": "0a3947e4",
   "metadata": {},
   "source": [
    "<div class=\"alert alert-block alert-info\">\n",
    "<font color='Black'>\n",
    "\n",
    "На первом месте по проценту возврата кредитов в срок находитcя группа клиентов со стасум вдовец/вдова, процент возврата по данной группе составил 93,43%. На втором и третьем местах с небольшим отставанием находятся группы со статусом в разводе и женат/замужем, процент возврата кредитов в срок по данным группам 92,89% и 92,46% соответственно.\n",
    "При этом отметим, что доля группы клиентов со статусами вдовец/вдова и в разводе в выборке составляет около 5%, то есть данные группы в выборке малочисленны.\n",
    "\n",
    "В отношении групп клиентов со статусами гражданский брак и не женат/не замужем процент возврата кредитов в срок примерно на одном уровне, 90,68% и 90,25% соответственно."
   ]
  },
  {
   "cell_type": "markdown",
   "id": "c562c667",
   "metadata": {},
   "source": [
    "<div style=\"border:solid green 3px; padding: 20px\">\n",
    "    \n",
    "Семейный статус влияет на возврат кредита в срок, факт того, что клиент, хотя бы один раз состоял в официально зарегистрированном браке либо состоит в нем на момент рассмотрения заявки на кредит, повышает вероятность возврата кредита в срок, отсутствие официально зарегистрированных отношений снижает вероятность возврата кредита в срок. Но данная зависимость неярко выражена, отличие в проценте возврата кредита в срок между группами составляет не более 3,2%.\n",
    "</div> "
   ]
  },
  {
   "cell_type": "markdown",
   "id": "7fe104c5",
   "metadata": {},
   "source": [
    "### Проверка гипотезы №3"
   ]
  },
  {
   "cell_type": "markdown",
   "id": "ad019902",
   "metadata": {},
   "source": [
    "<div class=\"alert alert-block alert-info\">\n",
    "<font color='Black'>\n",
    "\n",
    "3. Уровень дохода клиента влияет на факт погашения кредита в срок.\n",
    "\n",
    "Сформируем сводную таблицу по столбцу `total_income_category`, будем группировать по значениям столбца `debt` - целевому признаку, в качестве значений для сводной таблицы в нашем случае можно использовать значения любого столбца, будем использовать значения столбца `gender` и считать количество его значений. Далее в результирующую таблицу добавим столбцы:\n",
    "- `return_rate_%` - процент возврата кредитов в срок по группе,\n",
    "- `group_%` - доля группы во всей выборке."
   ]
  },
  {
   "cell_type": "code",
   "execution_count": 50,
   "id": "d926273e",
   "metadata": {},
   "outputs": [
    {
     "data": {
      "text/html": [
       "<div>\n",
       "<style scoped>\n",
       "    .dataframe tbody tr th:only-of-type {\n",
       "        vertical-align: middle;\n",
       "    }\n",
       "\n",
       "    .dataframe tbody tr th {\n",
       "        vertical-align: top;\n",
       "    }\n",
       "\n",
       "    .dataframe thead th {\n",
       "        text-align: right;\n",
       "    }\n",
       "</style>\n",
       "<table border=\"1\" class=\"dataframe\">\n",
       "  <thead>\n",
       "    <tr style=\"text-align: right;\">\n",
       "      <th>debt</th>\n",
       "      <th>0</th>\n",
       "      <th>1</th>\n",
       "      <th>return_rate_%</th>\n",
       "      <th>group_%</th>\n",
       "    </tr>\n",
       "    <tr>\n",
       "      <th>total_income_category</th>\n",
       "      <th></th>\n",
       "      <th></th>\n",
       "      <th></th>\n",
       "      <th></th>\n",
       "    </tr>\n",
       "  </thead>\n",
       "  <tbody>\n",
       "    <tr>\n",
       "      <td>D</td>\n",
       "      <td>329</td>\n",
       "      <td>21</td>\n",
       "      <td>94.00</td>\n",
       "      <td>1.63</td>\n",
       "    </tr>\n",
       "    <tr>\n",
       "      <td>B</td>\n",
       "      <td>4685</td>\n",
       "      <td>356</td>\n",
       "      <td>92.94</td>\n",
       "      <td>23.48</td>\n",
       "    </tr>\n",
       "    <tr>\n",
       "      <td>A</td>\n",
       "      <td>23</td>\n",
       "      <td>2</td>\n",
       "      <td>92.00</td>\n",
       "      <td>0.12</td>\n",
       "    </tr>\n",
       "    <tr>\n",
       "      <td>C</td>\n",
       "      <td>14673</td>\n",
       "      <td>1360</td>\n",
       "      <td>91.52</td>\n",
       "      <td>74.67</td>\n",
       "    </tr>\n",
       "    <tr>\n",
       "      <td>E</td>\n",
       "      <td>20</td>\n",
       "      <td>2</td>\n",
       "      <td>90.91</td>\n",
       "      <td>0.10</td>\n",
       "    </tr>\n",
       "  </tbody>\n",
       "</table>\n",
       "</div>"
      ],
      "text/plain": [
       "debt                       0     1  return_rate_%  group_%\n",
       "total_income_category                                     \n",
       "D                        329    21          94.00     1.63\n",
       "B                       4685   356          92.94    23.48\n",
       "A                         23     2          92.00     0.12\n",
       "C                      14673  1360          91.52    74.67\n",
       "E                         20     2          90.91     0.10"
      ]
     },
     "execution_count": 50,
     "metadata": {},
     "output_type": "execute_result"
    }
   ],
   "source": [
    "# строим сводную таблицу по исходному датафрейму df по столбцу `total_income_category`, \n",
    "# группируем по значениям столбца `debt` \n",
    "# и считаем значения в столбце `gender`, используя метод count()\n",
    "df_pivot_income = df.pivot_table(index=['total_income_category'],columns='debt', values='gender', aggfunc='count')\n",
    "\n",
    "# добавляем в сводную таблицу столбцы return_rate_% и group_%, используя функции \n",
    "# return_rate, которая возвращает процент возврата кредитов в срок по группе \n",
    "# и total_group, которая возвращает общий размер выборки по группе\n",
    "df_pivot_income['return_rate_%'] = df_pivot_income.apply(return_rate, axis=1)\n",
    "df_pivot_income['group_%'] = df_pivot_income.apply(total_group, axis=1)\n",
    "\n",
    "# преобразуем значение в столбце group_% в долую группе во всей выборке, используя размер всей выборке\n",
    "# умножим полученное значение на 100 и округлим до двух знаков после запятой с помощью round()\n",
    "df_pivot_income['group_%'] = round(df_pivot_income['group_%'] / total * 100, 2)\n",
    "\n",
    "# выведем итоговую сводную таблицу, отсортировав по убыванию значений в return_rate_%\n",
    "df_pivot_income.sort_values(by='return_rate_%', ascending=False)"
   ]
  },
  {
   "cell_type": "markdown",
   "id": "48f54d7a",
   "metadata": {},
   "source": [
    "<div class=\"alert alert-block alert-info\">\n",
    "<font color='Black'>\n",
    "\n",
    "Обратим внимание на то, что группы клиентов с категориями дохода E,D,A составляют в общей выборке не более 1,63% каждая, данные группы не репрезентативны, поэтому мы не можем рассматривать их с целью формирования выводов.\n",
    "В отношении групп клиентов со категориями доходов C от 50001 до 200000 и B от 200001 до 1000000 процент возврата кредита в срок составляет 91,52% и 92,94% соответственно. "
   ]
  },
  {
   "cell_type": "markdown",
   "id": "b4043397",
   "metadata": {},
   "source": [
    "<div style=\"border:solid green 3px; padding: 20px\">\n",
    "Уровень дохода клиента влияет на возврат кредита в срок, чем выше доход, тем выше вероятность возврата кредита в срок. Но данная зависимость неярко выражена, отличие в проценте возврата кредита в срок между группами составляет не более 1,5%. При этом в выборке имеются не репрезентативные группы с категориями E от 0 до 30000, D от 30001 до 50000, A от 1000001 и выше, поэтому результаты исследования по данным группам не принимались во внимание при формировании вывода.\n",
    "</div>   "
   ]
  },
  {
   "cell_type": "markdown",
   "id": "e109eb51",
   "metadata": {},
   "source": [
    "### Проверка гипотезы №4"
   ]
  },
  {
   "cell_type": "markdown",
   "id": "a8f0a6dd",
   "metadata": {},
   "source": [
    "<div class=\"alert alert-block alert-info\">\n",
    "<font color='Black'>\n",
    "\n",
    "4. Цель кредита влияет на факт погашения кредита в срок.\n",
    "\n",
    "Сформируем сводную таблицу по столбцу `purpose_category`, будем группировать по значениям столбца `debt` - целевому признаку, в качестве значений для сводной таблицы в нашем случае можно использовать значения любого столбца, будем использовать значения столбца `gender` и считать количество его значений. Далее в результирующую таблицу добавим столбцы:\n",
    "- `return_rate_%` - процент возврата кредитов в срок по группе,\n",
    "- `group_%` - доля группы во всей выборке."
   ]
  },
  {
   "cell_type": "code",
   "execution_count": 51,
   "id": "bd22a8d6",
   "metadata": {},
   "outputs": [
    {
     "data": {
      "text/html": [
       "<div>\n",
       "<style scoped>\n",
       "    .dataframe tbody tr th:only-of-type {\n",
       "        vertical-align: middle;\n",
       "    }\n",
       "\n",
       "    .dataframe tbody tr th {\n",
       "        vertical-align: top;\n",
       "    }\n",
       "\n",
       "    .dataframe thead th {\n",
       "        text-align: right;\n",
       "    }\n",
       "</style>\n",
       "<table border=\"1\" class=\"dataframe\">\n",
       "  <thead>\n",
       "    <tr style=\"text-align: right;\">\n",
       "      <th>debt</th>\n",
       "      <th>0</th>\n",
       "      <th>1</th>\n",
       "      <th>return_rate_%</th>\n",
       "      <th>group_%</th>\n",
       "    </tr>\n",
       "    <tr>\n",
       "      <th>purpose_category</th>\n",
       "      <th></th>\n",
       "      <th></th>\n",
       "      <th></th>\n",
       "      <th></th>\n",
       "    </tr>\n",
       "  </thead>\n",
       "  <tbody>\n",
       "    <tr>\n",
       "      <td>операции с недвижимостью</td>\n",
       "      <td>10032</td>\n",
       "      <td>782</td>\n",
       "      <td>92.77</td>\n",
       "      <td>50.37</td>\n",
       "    </tr>\n",
       "    <tr>\n",
       "      <td>проведение свадьбы</td>\n",
       "      <td>2149</td>\n",
       "      <td>186</td>\n",
       "      <td>92.03</td>\n",
       "      <td>10.88</td>\n",
       "    </tr>\n",
       "    <tr>\n",
       "      <td>получение образования</td>\n",
       "      <td>3644</td>\n",
       "      <td>370</td>\n",
       "      <td>90.78</td>\n",
       "      <td>18.69</td>\n",
       "    </tr>\n",
       "    <tr>\n",
       "      <td>операции с автомобилем</td>\n",
       "      <td>3905</td>\n",
       "      <td>403</td>\n",
       "      <td>90.65</td>\n",
       "      <td>20.06</td>\n",
       "    </tr>\n",
       "  </tbody>\n",
       "</table>\n",
       "</div>"
      ],
      "text/plain": [
       "debt                          0    1  return_rate_%  group_%\n",
       "purpose_category                                            \n",
       "операции с недвижимостью  10032  782          92.77    50.37\n",
       "проведение свадьбы         2149  186          92.03    10.88\n",
       "получение образования      3644  370          90.78    18.69\n",
       "операции с автомобилем     3905  403          90.65    20.06"
      ]
     },
     "execution_count": 51,
     "metadata": {},
     "output_type": "execute_result"
    }
   ],
   "source": [
    "# строим сводную таблицу по исходному датафрейму df по столбцу `purpose_category`, \n",
    "# группируем по значениям столбца `debt` \n",
    "# и считаем значения в столбце `gender`, используя метод count()\n",
    "df_pivot_purpose = df.pivot_table(index=['purpose_category'],columns='debt', values='gender', aggfunc='count')\n",
    "\n",
    "# добавляем в сводную таблицу столбцы return_rate_% и group_%, используя функции \n",
    "# return_rate, которая возвращает процент возврата кредитов в срок по группе \n",
    "# и total_group, которая возвращает общий размер выборки по группе\n",
    "df_pivot_purpose['return_rate_%'] = df_pivot_purpose.apply(return_rate, axis=1)\n",
    "df_pivot_purpose['group_%'] = df_pivot_purpose.apply(total_group, axis=1)\n",
    "\n",
    "# преобразуем значение в столбце group_% в долую группе во всей выборке, используя размер всей выборке\n",
    "# умножим полученное значение на 100 и округлим до двух знаков после запятой с помощью round()\n",
    "df_pivot_purpose['group_%'] = round(df_pivot_purpose['group_%'] / total * 100, 2)\n",
    "\n",
    "# выведем итоговую сводную таблицу, отсортировав по убыванию значений в return_rate_%\n",
    "df_pivot_purpose.sort_values(by='return_rate_%', ascending=False)"
   ]
  },
  {
   "cell_type": "markdown",
   "id": "802aa276",
   "metadata": {},
   "source": [
    "<div class=\"alert alert-block alert-info\">\n",
    "<font color='Black'>\n",
    "\n",
    "На первом месте по проценту возврата кредита в срок находятся операции с недвижимостью 92,77%, на втором - проведение свадьбы 92,03%, на третьем - получение образования 90,78%, на четвертом 90,65%."
   ]
  },
  {
   "cell_type": "markdown",
   "id": "bf5db1ef",
   "metadata": {},
   "source": [
    "<div style=\"border:solid green 3px; padding: 20px\">\n",
    "Цель кредита влияет на возврат кредита в срок, наиболее надежными являются заемщики, получающие кредит на операции с недвижимостью и проведение свадьбы, менее надежными являются заемщики, получающие кредит на операции с автомобилем и получение образования. Но данная зависимость неярко выражена, разница в проценте возврата кредита в срок между группами составляет не более 2,1%.\n",
    "</div>   "
   ]
  },
  {
   "cell_type": "markdown",
   "id": "c97e7d41",
   "metadata": {},
   "source": [
    "## Общий вывод"
   ]
  },
  {
   "cell_type": "markdown",
   "id": "3faaed7b",
   "metadata": {},
   "source": [
    "<div style=\"border:solid green 3px; padding: 20px\">\n",
    "\n",
    "- **Краткий обзор проведённой работы** \n",
    "    \n",
    "    Проанализировали данные статистики о платёжеспособности клиентов банка. Выполнили предобработку исходного датасета, обработали пропущенные и некорректные значения в данных, удалили дубликаты, провели категоризацию некоторых переменных. Рассчитали процент возврата кредита в срок по требуемым группам и выяснили, влияет ли количество детей, семейное положение, уровень дохода и цель кредита клиента на факт погашения кредита в срок.\n",
    "    \n",
    "\n",
    "- **Главные выводы** \n",
    "    \n",
    "    1. Количество детей влияет на возврат кредита в срок, отсутствие детей повышает вероятность возврата кредита в срок, наличие детей понижает данную вероятность. Но данная зависимость неярко выражена, отличие в проценте возврата кредита в срок между группами составляет не более 2%. Кроме того, группы клиентов с более, чем двумя детьми, являются не репрезентативными и результаты по данным группам не учитывались при формировании вывода.\n",
    "    \n",
    "    2. Семейный статус влияет на возврат кредита в срок, факт того, что клиент, хотя бы один раз состоял в официально зарегистрированном браке или состоит в нем на момент рассмотрения заявки на кредит, повышает вероятность возврата кредита в срок, отсутствие официально зарегистрированных отношений снижает вероятность возврата кредита в срок. Но данная зависимость неярко выражена, отличие в проценте возврата кредита в срок между группами составляет не более 3,2%.\n",
    "   \n",
    "    3. Уровень дохода клиента влияет на возврат кредита в срок, чем выше доход, тем выше вероятность возврата кредита в срок. Но данная зависимость неярко выражена, отличие в проценте возврата кредита в срок между группами составляет не более 1,5%. При этом в выборке имеются не репрезентативные группы с категориями E от 0 до 30000, D от 30001 до 50000, A от 1000001 и выше , поэтому результаты исследования по данным группам не принимались во внимание при формировании вывода.\n",
    "   \n",
    "    4. Цель кредита влияет на возврат кредита в срок, наиболее надежными являются заемщики, получающие кредит на операции с недвижимостью и проведение свадьбы, менее надежными являются заемщики, получающие кредит на операции с автомобилем и получение образования. Но данная зависимость неярко выражена, разница в проценте возврата кредита в срок между группами составляет не более 2,1%.  \n",
    "    \n",
    "\n",
    "- **Рекомендации**\n",
    "    \n",
    "    При построении модели кредитного скоринга рекомендуется учитывать все проанализированные признаки: количество детей, семейное положение, уровень дохода и цель кредита. Следует дополнительно оценить степень влияния данных признаков на способность заемщика возвратить кредит в срок, возможно, какие-то признаки оказывают более сильное влияние на целевой признак. Например, от уровня дохода напрямую зависит возможность заемщика осуществлять платежи по кредиту в срок, от количества детей и их возраста зависит показатель долговой нагрузки заемщика. \n",
    "\n",
    "    \n",
    "    \n",
    "  \n",
    "</div>   "
   ]
  }
 ],
 "metadata": {
  "ExecuteTimeLog": [
   {
    "duration": 662,
    "start_time": "2022-02-03T14:22:08.352Z"
   },
   {
    "duration": 21,
    "start_time": "2022-02-03T14:23:02.064Z"
   },
   {
    "duration": 5,
    "start_time": "2022-02-03T14:29:34.258Z"
   },
   {
    "duration": 5,
    "start_time": "2022-02-03T14:30:40.119Z"
   },
   {
    "duration": 6,
    "start_time": "2022-02-03T14:31:08.578Z"
   },
   {
    "duration": 8,
    "start_time": "2022-02-03T14:45:50.890Z"
   },
   {
    "duration": 6,
    "start_time": "2022-02-03T14:48:33.051Z"
   },
   {
    "duration": 7,
    "start_time": "2022-02-03T14:52:04.477Z"
   },
   {
    "duration": 6,
    "start_time": "2022-02-03T14:54:24.169Z"
   },
   {
    "duration": 6,
    "start_time": "2022-02-03T14:55:52.970Z"
   },
   {
    "duration": 6,
    "start_time": "2022-02-03T14:59:40.387Z"
   },
   {
    "duration": 7,
    "start_time": "2022-02-03T14:59:58.275Z"
   },
   {
    "duration": 114,
    "start_time": "2022-02-03T15:00:40.791Z"
   },
   {
    "duration": 101,
    "start_time": "2022-02-03T15:00:46.551Z"
   },
   {
    "duration": 1116,
    "start_time": "2022-02-03T15:01:21.083Z"
   },
   {
    "duration": 5,
    "start_time": "2022-02-03T15:10:58.342Z"
   },
   {
    "duration": 7,
    "start_time": "2022-02-03T15:16:12.603Z"
   },
   {
    "duration": 5,
    "start_time": "2022-02-03T15:22:41.665Z"
   },
   {
    "duration": 6,
    "start_time": "2022-02-03T15:22:52.265Z"
   },
   {
    "duration": 4,
    "start_time": "2022-02-03T15:23:00.117Z"
   },
   {
    "duration": 4,
    "start_time": "2022-02-03T15:23:05.081Z"
   },
   {
    "duration": 8,
    "start_time": "2022-02-03T15:23:59.269Z"
   },
   {
    "duration": 7,
    "start_time": "2022-02-03T15:24:58.506Z"
   },
   {
    "duration": 6,
    "start_time": "2022-02-03T15:25:09.590Z"
   },
   {
    "duration": 8,
    "start_time": "2022-02-03T15:26:00.630Z"
   },
   {
    "duration": 7,
    "start_time": "2022-02-03T15:27:44.127Z"
   },
   {
    "duration": 4,
    "start_time": "2022-02-03T15:28:23.015Z"
   },
   {
    "duration": 4,
    "start_time": "2022-02-03T15:28:41.091Z"
   },
   {
    "duration": 4,
    "start_time": "2022-02-03T15:28:54.795Z"
   },
   {
    "duration": 6,
    "start_time": "2022-02-03T15:29:19.879Z"
   },
   {
    "duration": 6,
    "start_time": "2022-02-03T15:29:27.059Z"
   },
   {
    "duration": 7,
    "start_time": "2022-02-03T15:29:52.419Z"
   },
   {
    "duration": 8,
    "start_time": "2022-02-03T15:30:34.992Z"
   },
   {
    "duration": 9,
    "start_time": "2022-02-03T15:30:52.287Z"
   },
   {
    "duration": 383,
    "start_time": "2022-02-03T15:32:17.176Z"
   },
   {
    "duration": 10,
    "start_time": "2022-02-03T15:32:41.868Z"
   },
   {
    "duration": 6,
    "start_time": "2022-02-03T15:35:07.736Z"
   },
   {
    "duration": 5,
    "start_time": "2022-02-03T15:36:41.365Z"
   },
   {
    "duration": 7,
    "start_time": "2022-02-03T15:37:21.822Z"
   },
   {
    "duration": 5,
    "start_time": "2022-02-03T15:37:23.954Z"
   },
   {
    "duration": 6,
    "start_time": "2022-02-03T15:42:24.611Z"
   },
   {
    "duration": 4,
    "start_time": "2022-02-03T15:47:00.557Z"
   },
   {
    "duration": 5,
    "start_time": "2022-02-03T15:47:08.536Z"
   },
   {
    "duration": 4,
    "start_time": "2022-02-03T15:47:26.509Z"
   },
   {
    "duration": 347,
    "start_time": "2022-02-03T15:51:46.018Z"
   },
   {
    "duration": 4,
    "start_time": "2022-02-03T15:51:51.814Z"
   },
   {
    "duration": 3,
    "start_time": "2022-02-03T15:51:58.998Z"
   },
   {
    "duration": 147,
    "start_time": "2022-02-03T15:52:27.802Z"
   },
   {
    "duration": 5,
    "start_time": "2022-02-03T16:18:14.682Z"
   },
   {
    "duration": 101,
    "start_time": "2022-02-03T16:20:51.934Z"
   },
   {
    "duration": 101,
    "start_time": "2022-02-03T16:21:15.579Z"
   },
   {
    "duration": 104,
    "start_time": "2022-02-03T16:21:33.383Z"
   },
   {
    "duration": 6,
    "start_time": "2022-02-03T16:21:39.698Z"
   },
   {
    "duration": 5,
    "start_time": "2022-02-03T16:21:45.083Z"
   },
   {
    "duration": 6,
    "start_time": "2022-02-03T16:26:07.064Z"
   },
   {
    "duration": 5,
    "start_time": "2022-02-03T16:43:40.217Z"
   },
   {
    "duration": 675,
    "start_time": "2022-02-03T16:44:42.731Z"
   },
   {
    "duration": 20,
    "start_time": "2022-02-03T16:44:43.408Z"
   },
   {
    "duration": 7,
    "start_time": "2022-02-03T16:44:43.430Z"
   },
   {
    "duration": 6,
    "start_time": "2022-02-03T16:44:43.439Z"
   },
   {
    "duration": 28,
    "start_time": "2022-02-03T16:44:43.447Z"
   },
   {
    "duration": 8,
    "start_time": "2022-02-03T16:44:43.477Z"
   },
   {
    "duration": 6,
    "start_time": "2022-02-03T16:44:43.486Z"
   },
   {
    "duration": 6,
    "start_time": "2022-02-03T16:44:43.495Z"
   },
   {
    "duration": 9,
    "start_time": "2022-02-03T16:44:43.503Z"
   },
   {
    "duration": 9,
    "start_time": "2022-02-03T16:44:43.513Z"
   },
   {
    "duration": 10,
    "start_time": "2022-02-03T16:44:43.524Z"
   },
   {
    "duration": 36,
    "start_time": "2022-02-03T16:44:43.536Z"
   },
   {
    "duration": 8,
    "start_time": "2022-02-03T16:44:43.574Z"
   },
   {
    "duration": 4,
    "start_time": "2022-02-03T16:44:43.584Z"
   },
   {
    "duration": 9,
    "start_time": "2022-02-03T16:44:43.590Z"
   },
   {
    "duration": 6,
    "start_time": "2022-02-03T16:44:43.600Z"
   },
   {
    "duration": 8,
    "start_time": "2022-02-03T16:44:43.607Z"
   },
   {
    "duration": 10,
    "start_time": "2022-02-03T16:44:43.617Z"
   },
   {
    "duration": 9,
    "start_time": "2022-02-03T16:44:43.629Z"
   },
   {
    "duration": 34,
    "start_time": "2022-02-03T16:44:43.640Z"
   },
   {
    "duration": 4,
    "start_time": "2022-02-03T16:44:43.676Z"
   },
   {
    "duration": 7,
    "start_time": "2022-02-03T16:44:43.682Z"
   },
   {
    "duration": 9,
    "start_time": "2022-02-03T16:44:43.692Z"
   },
   {
    "duration": 8,
    "start_time": "2022-02-03T16:44:43.703Z"
   },
   {
    "duration": 5,
    "start_time": "2022-02-03T16:45:55.824Z"
   },
   {
    "duration": 12,
    "start_time": "2022-02-03T16:46:11.536Z"
   },
   {
    "duration": 6,
    "start_time": "2022-02-03T16:50:37.633Z"
   },
   {
    "duration": 6,
    "start_time": "2022-02-03T16:52:10.606Z"
   },
   {
    "duration": 6,
    "start_time": "2022-02-03T16:54:00.007Z"
   },
   {
    "duration": 5,
    "start_time": "2022-02-03T16:54:12.231Z"
   },
   {
    "duration": 6,
    "start_time": "2022-02-03T16:56:07.299Z"
   },
   {
    "duration": 12,
    "start_time": "2022-02-03T16:57:32.887Z"
   },
   {
    "duration": 593,
    "start_time": "2022-02-03T17:02:10.812Z"
   },
   {
    "duration": 16,
    "start_time": "2022-02-03T17:02:11.409Z"
   },
   {
    "duration": 5,
    "start_time": "2022-02-03T17:02:11.426Z"
   },
   {
    "duration": 5,
    "start_time": "2022-02-03T17:02:11.433Z"
   },
   {
    "duration": 5,
    "start_time": "2022-02-03T17:02:11.440Z"
   },
   {
    "duration": 27,
    "start_time": "2022-02-03T17:02:11.447Z"
   },
   {
    "duration": 7,
    "start_time": "2022-02-03T17:02:11.476Z"
   },
   {
    "duration": 9,
    "start_time": "2022-02-03T17:02:11.486Z"
   },
   {
    "duration": 9,
    "start_time": "2022-02-03T17:02:11.496Z"
   },
   {
    "duration": 9,
    "start_time": "2022-02-03T17:02:11.507Z"
   },
   {
    "duration": 9,
    "start_time": "2022-02-03T17:02:11.517Z"
   },
   {
    "duration": 9,
    "start_time": "2022-02-03T17:02:11.528Z"
   },
   {
    "duration": 10,
    "start_time": "2022-02-03T17:02:11.538Z"
   },
   {
    "duration": 23,
    "start_time": "2022-02-03T17:02:11.550Z"
   },
   {
    "duration": 9,
    "start_time": "2022-02-03T17:02:11.574Z"
   },
   {
    "duration": 7,
    "start_time": "2022-02-03T17:02:11.585Z"
   },
   {
    "duration": 12,
    "start_time": "2022-02-03T17:02:11.594Z"
   },
   {
    "duration": 19,
    "start_time": "2022-02-03T17:02:11.608Z"
   },
   {
    "duration": 10,
    "start_time": "2022-02-03T17:02:11.628Z"
   },
   {
    "duration": 10,
    "start_time": "2022-02-03T17:02:11.639Z"
   },
   {
    "duration": 7,
    "start_time": "2022-02-03T17:02:11.650Z"
   },
   {
    "duration": 15,
    "start_time": "2022-02-03T17:02:11.658Z"
   },
   {
    "duration": 7,
    "start_time": "2022-02-03T17:02:11.675Z"
   },
   {
    "duration": 7,
    "start_time": "2022-02-03T17:02:11.684Z"
   },
   {
    "duration": 11,
    "start_time": "2022-02-03T17:02:11.693Z"
   },
   {
    "duration": 21,
    "start_time": "2022-02-03T17:07:28.677Z"
   },
   {
    "duration": 28,
    "start_time": "2022-02-03T17:11:53.527Z"
   },
   {
    "duration": 22,
    "start_time": "2022-02-03T17:13:37.640Z"
   },
   {
    "duration": 19,
    "start_time": "2022-02-03T17:13:44.324Z"
   },
   {
    "duration": 12,
    "start_time": "2022-02-03T17:14:11.263Z"
   },
   {
    "duration": 392,
    "start_time": "2022-02-03T17:15:49.172Z"
   },
   {
    "duration": 5,
    "start_time": "2022-02-03T17:16:03.772Z"
   },
   {
    "duration": 287,
    "start_time": "2022-02-03T19:09:40.533Z"
   },
   {
    "duration": 672,
    "start_time": "2022-02-03T19:10:01.843Z"
   },
   {
    "duration": 23,
    "start_time": "2022-02-03T19:10:02.518Z"
   },
   {
    "duration": 7,
    "start_time": "2022-02-03T19:10:02.544Z"
   },
   {
    "duration": 10,
    "start_time": "2022-02-03T19:10:02.554Z"
   },
   {
    "duration": 36,
    "start_time": "2022-02-03T19:10:02.567Z"
   },
   {
    "duration": 11,
    "start_time": "2022-02-03T19:10:02.606Z"
   },
   {
    "duration": 24,
    "start_time": "2022-02-03T19:10:02.619Z"
   },
   {
    "duration": 12,
    "start_time": "2022-02-03T19:10:02.647Z"
   },
   {
    "duration": 14,
    "start_time": "2022-02-03T19:10:02.662Z"
   },
   {
    "duration": 22,
    "start_time": "2022-02-03T19:10:02.678Z"
   },
   {
    "duration": 10,
    "start_time": "2022-02-03T19:10:02.702Z"
   },
   {
    "duration": 16,
    "start_time": "2022-02-03T19:10:02.715Z"
   },
   {
    "duration": 10,
    "start_time": "2022-02-03T19:10:02.733Z"
   },
   {
    "duration": 16,
    "start_time": "2022-02-03T19:10:02.745Z"
   },
   {
    "duration": 22,
    "start_time": "2022-02-03T19:10:02.763Z"
   },
   {
    "duration": 19,
    "start_time": "2022-02-03T19:10:02.787Z"
   },
   {
    "duration": 37,
    "start_time": "2022-02-03T19:10:02.808Z"
   },
   {
    "duration": 23,
    "start_time": "2022-02-03T19:10:02.848Z"
   },
   {
    "duration": 32,
    "start_time": "2022-02-03T19:10:02.873Z"
   },
   {
    "duration": 21,
    "start_time": "2022-02-03T19:10:02.907Z"
   },
   {
    "duration": 17,
    "start_time": "2022-02-03T19:10:02.930Z"
   },
   {
    "duration": 19,
    "start_time": "2022-02-03T19:10:02.949Z"
   },
   {
    "duration": 28,
    "start_time": "2022-02-03T19:10:02.972Z"
   },
   {
    "duration": 33,
    "start_time": "2022-02-03T19:10:03.002Z"
   },
   {
    "duration": 26,
    "start_time": "2022-02-03T19:10:03.037Z"
   },
   {
    "duration": 45,
    "start_time": "2022-02-03T19:10:03.065Z"
   },
   {
    "duration": 25,
    "start_time": "2022-02-03T19:11:23.637Z"
   },
   {
    "duration": 17,
    "start_time": "2022-02-03T19:11:35.557Z"
   },
   {
    "duration": 24,
    "start_time": "2022-02-03T19:12:28.058Z"
   },
   {
    "duration": 34,
    "start_time": "2022-02-03T19:12:45.674Z"
   },
   {
    "duration": 16,
    "start_time": "2022-02-03T19:13:11.148Z"
   },
   {
    "duration": 14,
    "start_time": "2022-02-03T19:22:10.760Z"
   },
   {
    "duration": 38,
    "start_time": "2022-02-03T19:22:32.396Z"
   },
   {
    "duration": 344,
    "start_time": "2022-02-03T19:24:06.133Z"
   },
   {
    "duration": 35,
    "start_time": "2022-02-03T19:24:13.505Z"
   },
   {
    "duration": 34,
    "start_time": "2022-02-03T19:31:53.704Z"
   },
   {
    "duration": 442,
    "start_time": "2022-02-04T09:18:15.631Z"
   },
   {
    "duration": 933,
    "start_time": "2022-02-04T09:18:39.691Z"
   },
   {
    "duration": 33,
    "start_time": "2022-02-04T09:18:47.254Z"
   },
   {
    "duration": 18,
    "start_time": "2022-02-04T09:26:19.676Z"
   },
   {
    "duration": 10,
    "start_time": "2022-02-04T09:26:42.752Z"
   },
   {
    "duration": 9,
    "start_time": "2022-02-04T09:38:57.064Z"
   },
   {
    "duration": 7,
    "start_time": "2022-02-04T09:50:09.431Z"
   },
   {
    "duration": 7,
    "start_time": "2022-02-04T09:50:55.954Z"
   },
   {
    "duration": 3,
    "start_time": "2022-02-04T09:59:11.214Z"
   },
   {
    "duration": 4,
    "start_time": "2022-02-04T10:00:58.210Z"
   },
   {
    "duration": 9,
    "start_time": "2022-02-04T10:01:20.063Z"
   },
   {
    "duration": 10,
    "start_time": "2022-02-04T10:01:28.146Z"
   },
   {
    "duration": 9,
    "start_time": "2022-02-04T10:01:33.611Z"
   },
   {
    "duration": 12,
    "start_time": "2022-02-04T10:01:33.858Z"
   },
   {
    "duration": 10,
    "start_time": "2022-02-04T10:01:41.762Z"
   },
   {
    "duration": 9,
    "start_time": "2022-02-04T10:08:23.405Z"
   },
   {
    "duration": 8,
    "start_time": "2022-02-04T10:08:49.313Z"
   },
   {
    "duration": 10,
    "start_time": "2022-02-04T10:09:20.898Z"
   },
   {
    "duration": 22,
    "start_time": "2022-02-04T10:09:38.629Z"
   },
   {
    "duration": 414,
    "start_time": "2022-02-04T10:23:08.268Z"
   },
   {
    "duration": 11,
    "start_time": "2022-02-04T10:23:25.985Z"
   },
   {
    "duration": 21,
    "start_time": "2022-02-04T10:31:17.999Z"
   },
   {
    "duration": 9,
    "start_time": "2022-02-04T10:34:47.096Z"
   },
   {
    "duration": 11,
    "start_time": "2022-02-04T10:35:08.440Z"
   },
   {
    "duration": 109,
    "start_time": "2022-02-04T10:35:58.857Z"
   },
   {
    "duration": 26,
    "start_time": "2022-02-04T10:36:19.340Z"
   },
   {
    "duration": 30,
    "start_time": "2022-02-04T10:37:12.764Z"
   },
   {
    "duration": 32,
    "start_time": "2022-02-04T10:41:14.014Z"
   },
   {
    "duration": 20,
    "start_time": "2022-02-04T10:47:53.016Z"
   },
   {
    "duration": 30,
    "start_time": "2022-02-04T10:48:04.129Z"
   },
   {
    "duration": 33,
    "start_time": "2022-02-04T10:48:15.872Z"
   },
   {
    "duration": 39,
    "start_time": "2022-02-04T11:01:37.769Z"
   },
   {
    "duration": 10,
    "start_time": "2022-02-04T11:02:08.228Z"
   },
   {
    "duration": 12,
    "start_time": "2022-02-04T11:02:48.372Z"
   },
   {
    "duration": 35,
    "start_time": "2022-02-04T11:03:21.037Z"
   },
   {
    "duration": 28,
    "start_time": "2022-02-04T11:03:48.257Z"
   },
   {
    "duration": 4,
    "start_time": "2022-02-04T11:18:32.061Z"
   },
   {
    "duration": 5,
    "start_time": "2022-02-04T11:18:33.376Z"
   },
   {
    "duration": 20,
    "start_time": "2022-02-04T11:18:57.657Z"
   },
   {
    "duration": 6,
    "start_time": "2022-02-04T11:19:27.893Z"
   },
   {
    "duration": 6,
    "start_time": "2022-02-04T11:19:36.149Z"
   },
   {
    "duration": 4,
    "start_time": "2022-02-04T11:21:17.058Z"
   },
   {
    "duration": 9,
    "start_time": "2022-02-04T11:22:48.070Z"
   },
   {
    "duration": 10,
    "start_time": "2022-02-04T11:23:14.215Z"
   },
   {
    "duration": 10,
    "start_time": "2022-02-04T11:24:31.179Z"
   },
   {
    "duration": 11,
    "start_time": "2022-02-04T11:25:11.927Z"
   },
   {
    "duration": 9,
    "start_time": "2022-02-04T11:27:33.384Z"
   },
   {
    "duration": 10,
    "start_time": "2022-02-04T11:27:33.868Z"
   },
   {
    "duration": 8,
    "start_time": "2022-02-04T11:28:01.340Z"
   },
   {
    "duration": 11,
    "start_time": "2022-02-04T11:48:44.935Z"
   },
   {
    "duration": 11,
    "start_time": "2022-02-04T11:49:08.127Z"
   },
   {
    "duration": 11,
    "start_time": "2022-02-04T11:49:24.019Z"
   },
   {
    "duration": 10,
    "start_time": "2022-02-04T11:50:01.228Z"
   },
   {
    "duration": 10,
    "start_time": "2022-02-04T11:52:26.092Z"
   },
   {
    "duration": 10,
    "start_time": "2022-02-04T11:53:15.653Z"
   },
   {
    "duration": 11,
    "start_time": "2022-02-04T11:55:32.701Z"
   },
   {
    "duration": 10,
    "start_time": "2022-02-04T11:58:20.022Z"
   },
   {
    "duration": 10,
    "start_time": "2022-02-04T11:58:39.318Z"
   },
   {
    "duration": 9,
    "start_time": "2022-02-04T11:58:55.578Z"
   },
   {
    "duration": 13,
    "start_time": "2022-02-04T12:02:53.112Z"
   },
   {
    "duration": 11,
    "start_time": "2022-02-04T12:02:55.100Z"
   },
   {
    "duration": 11,
    "start_time": "2022-02-04T12:09:57.094Z"
   },
   {
    "duration": 8,
    "start_time": "2022-02-04T12:10:48.826Z"
   },
   {
    "duration": 20,
    "start_time": "2022-02-04T12:12:39.486Z"
   },
   {
    "duration": 27,
    "start_time": "2022-02-04T12:13:01.791Z"
   },
   {
    "duration": 27,
    "start_time": "2022-02-04T12:13:17.402Z"
   },
   {
    "duration": 20,
    "start_time": "2022-02-04T12:13:30.531Z"
   },
   {
    "duration": 36,
    "start_time": "2022-02-04T12:13:45.979Z"
   },
   {
    "duration": 32,
    "start_time": "2022-02-04T12:13:54.707Z"
   },
   {
    "duration": 20,
    "start_time": "2022-02-04T12:14:09.722Z"
   },
   {
    "duration": 11,
    "start_time": "2022-02-04T12:14:31.710Z"
   },
   {
    "duration": 14,
    "start_time": "2022-02-04T12:20:20.032Z"
   },
   {
    "duration": 16,
    "start_time": "2022-02-04T12:20:33.672Z"
   },
   {
    "duration": 13,
    "start_time": "2022-02-04T12:24:05.037Z"
   },
   {
    "duration": 7,
    "start_time": "2022-02-04T12:24:18.901Z"
   },
   {
    "duration": 7,
    "start_time": "2022-02-04T12:24:34.581Z"
   },
   {
    "duration": 7,
    "start_time": "2022-02-04T12:24:43.889Z"
   },
   {
    "duration": 6,
    "start_time": "2022-02-04T12:26:22.125Z"
   },
   {
    "duration": 7,
    "start_time": "2022-02-04T12:26:38.874Z"
   },
   {
    "duration": 5,
    "start_time": "2022-02-04T12:27:15.182Z"
   },
   {
    "duration": 8,
    "start_time": "2022-02-04T12:28:20.747Z"
   },
   {
    "duration": 9,
    "start_time": "2022-02-04T12:29:54.550Z"
   },
   {
    "duration": 21,
    "start_time": "2022-02-04T12:30:32.607Z"
   },
   {
    "duration": 13,
    "start_time": "2022-02-04T12:31:31.716Z"
   },
   {
    "duration": 6,
    "start_time": "2022-02-04T12:36:57.921Z"
   },
   {
    "duration": 5,
    "start_time": "2022-02-04T12:38:07.254Z"
   },
   {
    "duration": 6,
    "start_time": "2022-02-04T12:38:41.369Z"
   },
   {
    "duration": 15,
    "start_time": "2022-02-04T12:38:56.158Z"
   },
   {
    "duration": 14,
    "start_time": "2022-02-04T12:39:22.538Z"
   },
   {
    "duration": 108,
    "start_time": "2022-02-04T12:40:34.879Z"
   },
   {
    "duration": 321,
    "start_time": "2022-02-04T12:43:14.017Z"
   },
   {
    "duration": 21,
    "start_time": "2022-02-04T12:43:24.500Z"
   },
   {
    "duration": 23,
    "start_time": "2022-02-04T12:44:33.832Z"
   },
   {
    "duration": 23,
    "start_time": "2022-02-04T12:44:40.356Z"
   },
   {
    "duration": 21,
    "start_time": "2022-02-04T12:44:55.776Z"
   },
   {
    "duration": 52,
    "start_time": "2022-02-04T12:46:44.773Z"
   },
   {
    "duration": 46,
    "start_time": "2022-02-04T12:48:55.900Z"
   },
   {
    "duration": 21,
    "start_time": "2022-02-04T12:49:19.765Z"
   },
   {
    "duration": 27,
    "start_time": "2022-02-04T12:49:57.533Z"
   },
   {
    "duration": 23,
    "start_time": "2022-02-04T12:50:01.126Z"
   },
   {
    "duration": 100,
    "start_time": "2022-02-04T12:50:28.142Z"
   },
   {
    "duration": 136,
    "start_time": "2022-02-04T12:57:31.067Z"
   },
   {
    "duration": 97,
    "start_time": "2022-02-04T12:57:42.611Z"
   },
   {
    "duration": 18,
    "start_time": "2022-02-04T12:58:00.776Z"
   },
   {
    "duration": 17,
    "start_time": "2022-02-04T13:00:03.068Z"
   },
   {
    "duration": 24,
    "start_time": "2022-02-04T13:00:34.096Z"
   },
   {
    "duration": 99,
    "start_time": "2022-02-04T13:01:21.472Z"
   },
   {
    "duration": 8,
    "start_time": "2022-02-04T13:14:23.188Z"
   },
   {
    "duration": 388,
    "start_time": "2022-02-04T13:15:41.068Z"
   },
   {
    "duration": 23,
    "start_time": "2022-02-04T13:15:56.637Z"
   },
   {
    "duration": 10,
    "start_time": "2022-02-04T13:16:08.268Z"
   },
   {
    "duration": 9,
    "start_time": "2022-02-04T13:16:21.204Z"
   },
   {
    "duration": 25,
    "start_time": "2022-02-04T13:16:39.892Z"
   },
   {
    "duration": 17,
    "start_time": "2022-02-04T13:16:45.308Z"
   },
   {
    "duration": 343,
    "start_time": "2022-02-04T13:18:48.009Z"
   },
   {
    "duration": 5,
    "start_time": "2022-02-04T13:18:53.209Z"
   },
   {
    "duration": 8,
    "start_time": "2022-02-04T13:19:43.145Z"
   },
   {
    "duration": 7,
    "start_time": "2022-02-04T13:19:54.901Z"
   },
   {
    "duration": 13,
    "start_time": "2022-02-04T13:20:08.649Z"
   },
   {
    "duration": 340,
    "start_time": "2022-02-04T13:30:14.837Z"
   },
   {
    "duration": 452,
    "start_time": "2022-02-04T13:30:48.126Z"
   },
   {
    "duration": 781,
    "start_time": "2022-02-04T13:30:59.977Z"
   },
   {
    "duration": 30,
    "start_time": "2022-02-04T13:31:00.761Z"
   },
   {
    "duration": 35,
    "start_time": "2022-02-04T13:31:00.794Z"
   },
   {
    "duration": 13,
    "start_time": "2022-02-04T13:31:00.832Z"
   },
   {
    "duration": 16,
    "start_time": "2022-02-04T13:31:00.848Z"
   },
   {
    "duration": 31,
    "start_time": "2022-02-04T13:31:00.867Z"
   },
   {
    "duration": 36,
    "start_time": "2022-02-04T13:31:00.901Z"
   },
   {
    "duration": 27,
    "start_time": "2022-02-04T13:31:00.940Z"
   },
   {
    "duration": 7,
    "start_time": "2022-02-04T13:31:00.970Z"
   },
   {
    "duration": 26,
    "start_time": "2022-02-04T13:31:00.980Z"
   },
   {
    "duration": 22,
    "start_time": "2022-02-04T13:31:01.009Z"
   },
   {
    "duration": 8,
    "start_time": "2022-02-04T13:31:01.034Z"
   },
   {
    "duration": 9,
    "start_time": "2022-02-04T13:31:01.045Z"
   },
   {
    "duration": 26,
    "start_time": "2022-02-04T13:31:01.056Z"
   },
   {
    "duration": 15,
    "start_time": "2022-02-04T13:31:01.084Z"
   },
   {
    "duration": 9,
    "start_time": "2022-02-04T13:31:01.124Z"
   },
   {
    "duration": 22,
    "start_time": "2022-02-04T13:31:01.136Z"
   },
   {
    "duration": 17,
    "start_time": "2022-02-04T13:31:01.161Z"
   },
   {
    "duration": 20,
    "start_time": "2022-02-04T13:31:01.180Z"
   },
   {
    "duration": 25,
    "start_time": "2022-02-04T13:31:01.202Z"
   },
   {
    "duration": 13,
    "start_time": "2022-02-04T13:31:01.230Z"
   },
   {
    "duration": 12,
    "start_time": "2022-02-04T13:31:01.245Z"
   },
   {
    "duration": 17,
    "start_time": "2022-02-04T13:31:01.262Z"
   },
   {
    "duration": 27,
    "start_time": "2022-02-04T13:31:01.282Z"
   },
   {
    "duration": 8,
    "start_time": "2022-02-04T13:31:01.323Z"
   },
   {
    "duration": 22,
    "start_time": "2022-02-04T13:31:01.333Z"
   },
   {
    "duration": 18,
    "start_time": "2022-02-04T13:31:01.357Z"
   },
   {
    "duration": 17,
    "start_time": "2022-02-04T13:31:01.378Z"
   },
   {
    "duration": 16,
    "start_time": "2022-02-04T13:31:01.397Z"
   },
   {
    "duration": 18,
    "start_time": "2022-02-04T13:31:01.416Z"
   },
   {
    "duration": 20,
    "start_time": "2022-02-04T13:31:01.436Z"
   },
   {
    "duration": 29,
    "start_time": "2022-02-04T13:31:01.458Z"
   },
   {
    "duration": 55,
    "start_time": "2022-02-04T13:31:01.489Z"
   },
   {
    "duration": 26,
    "start_time": "2022-02-04T13:31:01.547Z"
   },
   {
    "duration": 50,
    "start_time": "2022-02-04T13:31:01.576Z"
   },
   {
    "duration": 10,
    "start_time": "2022-02-04T13:31:01.629Z"
   },
   {
    "duration": 13,
    "start_time": "2022-02-04T13:31:01.642Z"
   },
   {
    "duration": 12,
    "start_time": "2022-02-04T13:31:01.658Z"
   },
   {
    "duration": 15,
    "start_time": "2022-02-04T13:31:01.672Z"
   },
   {
    "duration": 5,
    "start_time": "2022-02-04T13:35:47.915Z"
   },
   {
    "duration": 8230,
    "start_time": "2022-02-04T13:37:08.880Z"
   },
   {
    "duration": 2408,
    "start_time": "2022-02-04T13:37:34.859Z"
   },
   {
    "duration": 17,
    "start_time": "2022-02-04T13:41:16.272Z"
   },
   {
    "duration": 7,
    "start_time": "2022-02-04T13:43:05.964Z"
   },
   {
    "duration": 4,
    "start_time": "2022-02-04T13:44:45.589Z"
   },
   {
    "duration": 13,
    "start_time": "2022-02-04T13:44:46.877Z"
   },
   {
    "duration": 18,
    "start_time": "2022-02-04T13:45:01.357Z"
   },
   {
    "duration": 11,
    "start_time": "2022-02-04T13:47:23.852Z"
   },
   {
    "duration": 5,
    "start_time": "2022-02-04T13:56:10.169Z"
   },
   {
    "duration": 17,
    "start_time": "2022-02-04T13:57:17.889Z"
   },
   {
    "duration": 18,
    "start_time": "2022-02-04T13:57:26.641Z"
   },
   {
    "duration": 22,
    "start_time": "2022-02-04T13:57:44.633Z"
   },
   {
    "duration": 10,
    "start_time": "2022-02-04T13:58:21.193Z"
   },
   {
    "duration": 6,
    "start_time": "2022-02-04T13:59:26.641Z"
   },
   {
    "duration": 10,
    "start_time": "2022-02-04T13:59:28.853Z"
   },
   {
    "duration": 396,
    "start_time": "2022-02-04T14:04:25.891Z"
   },
   {
    "duration": 366,
    "start_time": "2022-02-04T14:05:42.291Z"
   },
   {
    "duration": 21,
    "start_time": "2022-02-04T14:06:35.804Z"
   },
   {
    "duration": 25,
    "start_time": "2022-02-04T14:06:45.151Z"
   },
   {
    "duration": 26,
    "start_time": "2022-02-04T14:08:06.244Z"
   },
   {
    "duration": 62,
    "start_time": "2022-02-04T14:11:43.199Z"
   },
   {
    "duration": 24,
    "start_time": "2022-02-04T14:11:46.061Z"
   },
   {
    "duration": 26,
    "start_time": "2022-02-04T14:12:24.529Z"
   },
   {
    "duration": 31,
    "start_time": "2022-02-04T14:12:30.181Z"
   },
   {
    "duration": 30,
    "start_time": "2022-02-04T14:12:58.918Z"
   },
   {
    "duration": 33,
    "start_time": "2022-02-04T14:13:22.953Z"
   },
   {
    "duration": 320,
    "start_time": "2022-02-04T14:13:47.290Z"
   },
   {
    "duration": 34,
    "start_time": "2022-02-04T14:13:50.578Z"
   },
   {
    "duration": 33,
    "start_time": "2022-02-04T14:16:31.454Z"
   },
   {
    "duration": 33,
    "start_time": "2022-02-04T14:17:47.011Z"
   },
   {
    "duration": 34,
    "start_time": "2022-02-04T14:18:36.907Z"
   },
   {
    "duration": 31,
    "start_time": "2022-02-04T14:21:13.075Z"
   },
   {
    "duration": 38,
    "start_time": "2022-02-04T14:21:23.528Z"
   },
   {
    "duration": 39,
    "start_time": "2022-02-04T14:21:48.916Z"
   },
   {
    "duration": 33,
    "start_time": "2022-02-04T14:24:07.144Z"
   },
   {
    "duration": 30,
    "start_time": "2022-02-04T14:24:42.814Z"
   },
   {
    "duration": 32,
    "start_time": "2022-02-04T14:26:24.629Z"
   },
   {
    "duration": 33,
    "start_time": "2022-02-04T14:27:14.698Z"
   },
   {
    "duration": 33,
    "start_time": "2022-02-04T14:30:33.627Z"
   },
   {
    "duration": 34,
    "start_time": "2022-02-04T14:31:04.276Z"
   },
   {
    "duration": 32,
    "start_time": "2022-02-04T14:32:51.159Z"
   },
   {
    "duration": 993,
    "start_time": "2022-02-04T14:38:01.690Z"
   },
   {
    "duration": 38,
    "start_time": "2022-02-04T14:38:02.686Z"
   },
   {
    "duration": 9,
    "start_time": "2022-02-04T14:38:02.728Z"
   },
   {
    "duration": 6,
    "start_time": "2022-02-04T14:38:02.739Z"
   },
   {
    "duration": 9,
    "start_time": "2022-02-04T14:38:02.747Z"
   },
   {
    "duration": 22,
    "start_time": "2022-02-04T14:38:02.759Z"
   },
   {
    "duration": 20,
    "start_time": "2022-02-04T14:38:02.823Z"
   },
   {
    "duration": 25,
    "start_time": "2022-02-04T14:38:02.847Z"
   },
   {
    "duration": 6,
    "start_time": "2022-02-04T14:38:02.875Z"
   },
   {
    "duration": 40,
    "start_time": "2022-02-04T14:38:02.884Z"
   },
   {
    "duration": 7,
    "start_time": "2022-02-04T14:38:02.927Z"
   },
   {
    "duration": 13,
    "start_time": "2022-02-04T14:38:02.937Z"
   },
   {
    "duration": 7,
    "start_time": "2022-02-04T14:38:02.953Z"
   },
   {
    "duration": 13,
    "start_time": "2022-02-04T14:38:02.962Z"
   },
   {
    "duration": 51,
    "start_time": "2022-02-04T14:38:02.978Z"
   },
   {
    "duration": 9,
    "start_time": "2022-02-04T14:38:03.031Z"
   },
   {
    "duration": 9,
    "start_time": "2022-02-04T14:38:03.042Z"
   },
   {
    "duration": 8,
    "start_time": "2022-02-04T14:38:03.054Z"
   },
   {
    "duration": 9,
    "start_time": "2022-02-04T14:38:03.064Z"
   },
   {
    "duration": 55,
    "start_time": "2022-02-04T14:38:03.076Z"
   },
   {
    "duration": 7,
    "start_time": "2022-02-04T14:38:03.133Z"
   },
   {
    "duration": 21,
    "start_time": "2022-02-04T14:38:03.142Z"
   },
   {
    "duration": 8,
    "start_time": "2022-02-04T14:38:03.170Z"
   },
   {
    "duration": 45,
    "start_time": "2022-02-04T14:38:03.181Z"
   },
   {
    "duration": 8,
    "start_time": "2022-02-04T14:38:03.229Z"
   },
   {
    "duration": 7,
    "start_time": "2022-02-04T14:38:03.240Z"
   },
   {
    "duration": 7,
    "start_time": "2022-02-04T14:38:03.250Z"
   },
   {
    "duration": 9,
    "start_time": "2022-02-04T14:38:03.260Z"
   },
   {
    "duration": 53,
    "start_time": "2022-02-04T14:38:03.272Z"
   },
   {
    "duration": 21,
    "start_time": "2022-02-04T14:38:03.327Z"
   },
   {
    "duration": 25,
    "start_time": "2022-02-04T14:38:03.351Z"
   },
   {
    "duration": 69,
    "start_time": "2022-02-04T14:38:03.379Z"
   },
   {
    "duration": 30,
    "start_time": "2022-02-04T14:38:03.450Z"
   },
   {
    "duration": 47,
    "start_time": "2022-02-04T14:38:03.483Z"
   },
   {
    "duration": 18,
    "start_time": "2022-02-04T14:38:03.533Z"
   },
   {
    "duration": 9,
    "start_time": "2022-02-04T14:38:03.553Z"
   },
   {
    "duration": 10,
    "start_time": "2022-02-04T14:38:03.566Z"
   },
   {
    "duration": 49,
    "start_time": "2022-02-04T14:38:03.579Z"
   },
   {
    "duration": 16,
    "start_time": "2022-02-04T14:38:03.631Z"
   },
   {
    "duration": 6,
    "start_time": "2022-02-04T14:38:03.649Z"
   },
   {
    "duration": 6,
    "start_time": "2022-02-04T14:38:03.658Z"
   },
   {
    "duration": 14,
    "start_time": "2022-02-04T14:38:03.666Z"
   },
   {
    "duration": 55,
    "start_time": "2022-02-04T14:38:03.682Z"
   },
   {
    "duration": 13,
    "start_time": "2022-02-04T14:38:03.740Z"
   },
   {
    "duration": 6,
    "start_time": "2022-02-04T14:38:03.756Z"
   },
   {
    "duration": 26,
    "start_time": "2022-02-04T14:38:03.765Z"
   },
   {
    "duration": 38,
    "start_time": "2022-02-04T14:38:03.793Z"
   },
   {
    "duration": 41,
    "start_time": "2022-02-04T14:38:03.833Z"
   },
   {
    "duration": 58,
    "start_time": "2022-02-04T14:38:03.876Z"
   },
   {
    "duration": 29,
    "start_time": "2022-02-04T14:38:03.936Z"
   },
   {
    "duration": 31,
    "start_time": "2022-02-04T14:38:03.967Z"
   },
   {
    "duration": 111,
    "start_time": "2022-02-04T15:11:46.216Z"
   },
   {
    "duration": 4,
    "start_time": "2022-02-04T15:11:53.756Z"
   },
   {
    "duration": 417,
    "start_time": "2022-02-04T15:13:45.036Z"
   },
   {
    "duration": 33,
    "start_time": "2022-02-04T15:14:07.888Z"
   },
   {
    "duration": 32,
    "start_time": "2022-02-04T15:15:01.588Z"
   },
   {
    "duration": 30,
    "start_time": "2022-02-04T15:16:07.193Z"
   },
   {
    "duration": 840,
    "start_time": "2022-02-04T15:19:44.429Z"
   },
   {
    "duration": 29,
    "start_time": "2022-02-04T15:19:45.274Z"
   },
   {
    "duration": 24,
    "start_time": "2022-02-04T15:19:45.306Z"
   },
   {
    "duration": 9,
    "start_time": "2022-02-04T15:19:45.333Z"
   },
   {
    "duration": 12,
    "start_time": "2022-02-04T15:19:45.344Z"
   },
   {
    "duration": 20,
    "start_time": "2022-02-04T15:19:45.358Z"
   },
   {
    "duration": 54,
    "start_time": "2022-02-04T15:19:45.382Z"
   },
   {
    "duration": 28,
    "start_time": "2022-02-04T15:19:45.439Z"
   },
   {
    "duration": 7,
    "start_time": "2022-02-04T15:19:45.470Z"
   },
   {
    "duration": 17,
    "start_time": "2022-02-04T15:19:45.480Z"
   },
   {
    "duration": 17,
    "start_time": "2022-02-04T15:19:45.524Z"
   },
   {
    "duration": 9,
    "start_time": "2022-02-04T15:19:45.543Z"
   },
   {
    "duration": 10,
    "start_time": "2022-02-04T15:19:45.554Z"
   },
   {
    "duration": 14,
    "start_time": "2022-02-04T15:19:45.566Z"
   },
   {
    "duration": 46,
    "start_time": "2022-02-04T15:19:45.582Z"
   },
   {
    "duration": 10,
    "start_time": "2022-02-04T15:19:45.630Z"
   },
   {
    "duration": 21,
    "start_time": "2022-02-04T15:19:45.642Z"
   },
   {
    "duration": 11,
    "start_time": "2022-02-04T15:19:45.666Z"
   },
   {
    "duration": 11,
    "start_time": "2022-02-04T15:19:45.680Z"
   },
   {
    "duration": 38,
    "start_time": "2022-02-04T15:19:45.693Z"
   },
   {
    "duration": 9,
    "start_time": "2022-02-04T15:19:45.733Z"
   },
   {
    "duration": 10,
    "start_time": "2022-02-04T15:19:45.748Z"
   },
   {
    "duration": 10,
    "start_time": "2022-02-04T15:19:45.761Z"
   },
   {
    "duration": 9,
    "start_time": "2022-02-04T15:19:45.773Z"
   },
   {
    "duration": 45,
    "start_time": "2022-02-04T15:19:45.784Z"
   },
   {
    "duration": 8,
    "start_time": "2022-02-04T15:19:45.832Z"
   },
   {
    "duration": 6,
    "start_time": "2022-02-04T15:19:45.842Z"
   },
   {
    "duration": 8,
    "start_time": "2022-02-04T15:19:45.850Z"
   },
   {
    "duration": 5,
    "start_time": "2022-02-04T15:19:45.860Z"
   },
   {
    "duration": 64,
    "start_time": "2022-02-04T15:19:45.867Z"
   },
   {
    "duration": 22,
    "start_time": "2022-02-04T15:19:45.934Z"
   },
   {
    "duration": 26,
    "start_time": "2022-02-04T15:19:45.958Z"
   },
   {
    "duration": 46,
    "start_time": "2022-02-04T15:19:45.986Z"
   },
   {
    "duration": 22,
    "start_time": "2022-02-04T15:19:46.035Z"
   },
   {
    "duration": 18,
    "start_time": "2022-02-04T15:19:46.059Z"
   },
   {
    "duration": 9,
    "start_time": "2022-02-04T15:19:46.079Z"
   },
   {
    "duration": 43,
    "start_time": "2022-02-04T15:19:46.090Z"
   },
   {
    "duration": 9,
    "start_time": "2022-02-04T15:19:46.136Z"
   },
   {
    "duration": 17,
    "start_time": "2022-02-04T15:19:46.147Z"
   },
   {
    "duration": 5,
    "start_time": "2022-02-04T15:19:46.166Z"
   },
   {
    "duration": 51,
    "start_time": "2022-02-04T15:19:46.173Z"
   },
   {
    "duration": 15,
    "start_time": "2022-02-04T15:19:46.227Z"
   },
   {
    "duration": 19,
    "start_time": "2022-02-04T15:19:46.245Z"
   },
   {
    "duration": 9,
    "start_time": "2022-02-04T15:19:46.267Z"
   },
   {
    "duration": 7,
    "start_time": "2022-02-04T15:19:46.279Z"
   },
   {
    "duration": 15,
    "start_time": "2022-02-04T15:19:46.323Z"
   },
   {
    "duration": 11,
    "start_time": "2022-02-04T15:19:46.340Z"
   },
   {
    "duration": 7,
    "start_time": "2022-02-04T15:19:46.353Z"
   },
   {
    "duration": 32,
    "start_time": "2022-02-04T15:19:46.362Z"
   },
   {
    "duration": 39,
    "start_time": "2022-02-04T15:19:46.424Z"
   },
   {
    "duration": 29,
    "start_time": "2022-02-04T15:19:46.465Z"
   },
   {
    "duration": 55,
    "start_time": "2022-02-04T15:19:46.497Z"
   },
   {
    "duration": 782,
    "start_time": "2022-02-04T15:21:50.835Z"
   },
   {
    "duration": 29,
    "start_time": "2022-02-04T15:21:51.620Z"
   },
   {
    "duration": 10,
    "start_time": "2022-02-04T15:21:51.652Z"
   },
   {
    "duration": 6,
    "start_time": "2022-02-04T15:21:51.665Z"
   },
   {
    "duration": 7,
    "start_time": "2022-02-04T15:21:51.673Z"
   },
   {
    "duration": 53,
    "start_time": "2022-02-04T15:21:51.683Z"
   },
   {
    "duration": 20,
    "start_time": "2022-02-04T15:21:51.739Z"
   },
   {
    "duration": 61,
    "start_time": "2022-02-04T15:21:51.764Z"
   },
   {
    "duration": 8,
    "start_time": "2022-02-04T15:21:51.829Z"
   },
   {
    "duration": 6,
    "start_time": "2022-02-04T15:21:51.840Z"
   },
   {
    "duration": 10,
    "start_time": "2022-02-04T15:21:51.848Z"
   },
   {
    "duration": 8,
    "start_time": "2022-02-04T15:21:51.860Z"
   },
   {
    "duration": 54,
    "start_time": "2022-02-04T15:21:51.870Z"
   },
   {
    "duration": 14,
    "start_time": "2022-02-04T15:21:51.926Z"
   },
   {
    "duration": 10,
    "start_time": "2022-02-04T15:21:51.943Z"
   },
   {
    "duration": 11,
    "start_time": "2022-02-04T15:21:51.955Z"
   },
   {
    "duration": 8,
    "start_time": "2022-02-04T15:21:51.968Z"
   },
   {
    "duration": 51,
    "start_time": "2022-02-04T15:21:51.979Z"
   },
   {
    "duration": 10,
    "start_time": "2022-02-04T15:21:52.032Z"
   },
   {
    "duration": 12,
    "start_time": "2022-02-04T15:21:52.045Z"
   },
   {
    "duration": 11,
    "start_time": "2022-02-04T15:21:52.060Z"
   },
   {
    "duration": 51,
    "start_time": "2022-02-04T15:21:52.074Z"
   },
   {
    "duration": 8,
    "start_time": "2022-02-04T15:21:52.131Z"
   },
   {
    "duration": 9,
    "start_time": "2022-02-04T15:21:52.142Z"
   },
   {
    "duration": 8,
    "start_time": "2022-02-04T15:21:52.153Z"
   },
   {
    "duration": 4,
    "start_time": "2022-02-04T15:21:52.163Z"
   },
   {
    "duration": 55,
    "start_time": "2022-02-04T15:21:52.170Z"
   },
   {
    "duration": 7,
    "start_time": "2022-02-04T15:21:52.227Z"
   },
   {
    "duration": 5,
    "start_time": "2022-02-04T15:21:52.237Z"
   },
   {
    "duration": 15,
    "start_time": "2022-02-04T15:21:52.244Z"
   },
   {
    "duration": 21,
    "start_time": "2022-02-04T15:21:52.261Z"
   },
   {
    "duration": 26,
    "start_time": "2022-02-04T15:21:52.323Z"
   },
   {
    "duration": 23,
    "start_time": "2022-02-04T15:21:52.351Z"
   },
   {
    "duration": 51,
    "start_time": "2022-02-04T15:21:52.377Z"
   },
   {
    "duration": 20,
    "start_time": "2022-02-04T15:21:52.431Z"
   },
   {
    "duration": 10,
    "start_time": "2022-02-04T15:21:52.454Z"
   },
   {
    "duration": 11,
    "start_time": "2022-02-04T15:21:52.467Z"
   },
   {
    "duration": 49,
    "start_time": "2022-02-04T15:21:52.481Z"
   },
   {
    "duration": 17,
    "start_time": "2022-02-04T15:21:52.533Z"
   },
   {
    "duration": 6,
    "start_time": "2022-02-04T15:21:52.552Z"
   },
   {
    "duration": 5,
    "start_time": "2022-02-04T15:21:52.560Z"
   },
   {
    "duration": 15,
    "start_time": "2022-02-04T15:21:52.568Z"
   },
   {
    "duration": 29,
    "start_time": "2022-02-04T15:21:52.624Z"
   },
   {
    "duration": 12,
    "start_time": "2022-02-04T15:21:52.656Z"
   },
   {
    "duration": 7,
    "start_time": "2022-02-04T15:21:52.671Z"
   },
   {
    "duration": 48,
    "start_time": "2022-02-04T15:21:52.681Z"
   },
   {
    "duration": 9,
    "start_time": "2022-02-04T15:21:52.731Z"
   },
   {
    "duration": 4,
    "start_time": "2022-02-04T15:21:52.743Z"
   },
   {
    "duration": 40,
    "start_time": "2022-02-04T15:21:52.749Z"
   },
   {
    "duration": 65,
    "start_time": "2022-02-04T15:21:52.792Z"
   },
   {
    "duration": 29,
    "start_time": "2022-02-04T15:21:52.860Z"
   },
   {
    "duration": 52,
    "start_time": "2022-02-04T15:21:52.891Z"
   },
   {
    "duration": 790,
    "start_time": "2022-02-04T15:24:42.278Z"
   },
   {
    "duration": 28,
    "start_time": "2022-02-04T15:24:43.071Z"
   },
   {
    "duration": 27,
    "start_time": "2022-02-04T15:24:43.102Z"
   },
   {
    "duration": 6,
    "start_time": "2022-02-04T15:24:43.132Z"
   },
   {
    "duration": 8,
    "start_time": "2022-02-04T15:24:43.140Z"
   },
   {
    "duration": 24,
    "start_time": "2022-02-04T15:24:43.150Z"
   },
   {
    "duration": 62,
    "start_time": "2022-02-04T15:24:43.177Z"
   },
   {
    "duration": 37,
    "start_time": "2022-02-04T15:24:43.244Z"
   },
   {
    "duration": 40,
    "start_time": "2022-02-04T15:24:43.285Z"
   },
   {
    "duration": 6,
    "start_time": "2022-02-04T15:24:43.328Z"
   },
   {
    "duration": 42,
    "start_time": "2022-02-04T15:24:43.336Z"
   },
   {
    "duration": 8,
    "start_time": "2022-02-04T15:24:43.381Z"
   },
   {
    "duration": 8,
    "start_time": "2022-02-04T15:24:43.391Z"
   },
   {
    "duration": 26,
    "start_time": "2022-02-04T15:24:43.401Z"
   },
   {
    "duration": 10,
    "start_time": "2022-02-04T15:24:43.429Z"
   },
   {
    "duration": 23,
    "start_time": "2022-02-04T15:24:43.441Z"
   },
   {
    "duration": 10,
    "start_time": "2022-02-04T15:24:43.466Z"
   },
   {
    "duration": 8,
    "start_time": "2022-02-04T15:24:43.478Z"
   },
   {
    "duration": 37,
    "start_time": "2022-02-04T15:24:43.489Z"
   },
   {
    "duration": 12,
    "start_time": "2022-02-04T15:24:43.529Z"
   },
   {
    "duration": 10,
    "start_time": "2022-02-04T15:24:43.544Z"
   },
   {
    "duration": 10,
    "start_time": "2022-02-04T15:24:43.557Z"
   },
   {
    "duration": 10,
    "start_time": "2022-02-04T15:24:43.626Z"
   },
   {
    "duration": 5,
    "start_time": "2022-02-04T15:24:43.640Z"
   },
   {
    "duration": 8,
    "start_time": "2022-02-04T15:24:43.648Z"
   },
   {
    "duration": 6,
    "start_time": "2022-02-04T15:24:43.659Z"
   },
   {
    "duration": 6,
    "start_time": "2022-02-04T15:24:43.668Z"
   },
   {
    "duration": 8,
    "start_time": "2022-02-04T15:24:43.724Z"
   },
   {
    "duration": 9,
    "start_time": "2022-02-04T15:24:43.734Z"
   },
   {
    "duration": 16,
    "start_time": "2022-02-04T15:24:43.745Z"
   },
   {
    "duration": 23,
    "start_time": "2022-02-04T15:24:43.763Z"
   },
   {
    "duration": 25,
    "start_time": "2022-02-04T15:24:43.823Z"
   },
   {
    "duration": 22,
    "start_time": "2022-02-04T15:24:43.850Z"
   },
   {
    "duration": 22,
    "start_time": "2022-02-04T15:24:43.874Z"
   },
   {
    "duration": 18,
    "start_time": "2022-02-04T15:24:43.923Z"
   },
   {
    "duration": 9,
    "start_time": "2022-02-04T15:24:43.944Z"
   },
   {
    "duration": 10,
    "start_time": "2022-02-04T15:24:43.956Z"
   },
   {
    "duration": 17,
    "start_time": "2022-02-04T15:24:43.969Z"
   },
   {
    "duration": 17,
    "start_time": "2022-02-04T15:24:44.023Z"
   },
   {
    "duration": 7,
    "start_time": "2022-02-04T15:24:44.044Z"
   },
   {
    "duration": 9,
    "start_time": "2022-02-04T15:24:44.053Z"
   },
   {
    "duration": 22,
    "start_time": "2022-02-04T15:24:44.065Z"
   },
   {
    "duration": 52,
    "start_time": "2022-02-04T15:24:44.089Z"
   },
   {
    "duration": 11,
    "start_time": "2022-02-04T15:24:44.143Z"
   },
   {
    "duration": 6,
    "start_time": "2022-02-04T15:24:44.156Z"
   },
   {
    "duration": 18,
    "start_time": "2022-02-04T15:24:44.164Z"
   },
   {
    "duration": 42,
    "start_time": "2022-02-04T15:24:44.185Z"
   },
   {
    "duration": 5,
    "start_time": "2022-02-04T15:24:44.230Z"
   },
   {
    "duration": 37,
    "start_time": "2022-02-04T15:24:44.237Z"
   },
   {
    "duration": 77,
    "start_time": "2022-02-04T15:24:44.276Z"
   },
   {
    "duration": 30,
    "start_time": "2022-02-04T15:24:44.356Z"
   },
   {
    "duration": 60,
    "start_time": "2022-02-04T15:24:44.389Z"
   },
   {
    "duration": 820,
    "start_time": "2022-02-04T15:27:22.340Z"
   },
   {
    "duration": 30,
    "start_time": "2022-02-04T15:27:23.164Z"
   },
   {
    "duration": 31,
    "start_time": "2022-02-04T15:27:23.201Z"
   },
   {
    "duration": 7,
    "start_time": "2022-02-04T15:27:23.236Z"
   },
   {
    "duration": 14,
    "start_time": "2022-02-04T15:27:23.245Z"
   },
   {
    "duration": 63,
    "start_time": "2022-02-04T15:27:23.262Z"
   },
   {
    "duration": 21,
    "start_time": "2022-02-04T15:27:23.330Z"
   },
   {
    "duration": 33,
    "start_time": "2022-02-04T15:27:23.354Z"
   },
   {
    "duration": 36,
    "start_time": "2022-02-04T15:27:23.390Z"
   },
   {
    "duration": 5,
    "start_time": "2022-02-04T15:27:23.429Z"
   },
   {
    "duration": 7,
    "start_time": "2022-02-04T15:27:23.436Z"
   },
   {
    "duration": 8,
    "start_time": "2022-02-04T15:27:23.446Z"
   },
   {
    "duration": 8,
    "start_time": "2022-02-04T15:27:23.456Z"
   },
   {
    "duration": 66,
    "start_time": "2022-02-04T15:27:23.466Z"
   },
   {
    "duration": 12,
    "start_time": "2022-02-04T15:27:23.535Z"
   },
   {
    "duration": 12,
    "start_time": "2022-02-04T15:27:23.549Z"
   },
   {
    "duration": 11,
    "start_time": "2022-02-04T15:27:23.563Z"
   },
   {
    "duration": 46,
    "start_time": "2022-02-04T15:27:23.577Z"
   },
   {
    "duration": 10,
    "start_time": "2022-02-04T15:27:23.625Z"
   },
   {
    "duration": 9,
    "start_time": "2022-02-04T15:27:23.637Z"
   },
   {
    "duration": 12,
    "start_time": "2022-02-04T15:27:23.649Z"
   },
   {
    "duration": 10,
    "start_time": "2022-02-04T15:27:23.667Z"
   },
   {
    "duration": 47,
    "start_time": "2022-02-04T15:27:23.680Z"
   },
   {
    "duration": 12,
    "start_time": "2022-02-04T15:27:23.729Z"
   },
   {
    "duration": 7,
    "start_time": "2022-02-04T15:27:23.743Z"
   },
   {
    "duration": 10,
    "start_time": "2022-02-04T15:27:23.752Z"
   },
   {
    "duration": 6,
    "start_time": "2022-02-04T15:27:23.764Z"
   },
   {
    "duration": 51,
    "start_time": "2022-02-04T15:27:23.772Z"
   },
   {
    "duration": 5,
    "start_time": "2022-02-04T15:27:23.826Z"
   },
   {
    "duration": 18,
    "start_time": "2022-02-04T15:27:23.833Z"
   },
   {
    "duration": 21,
    "start_time": "2022-02-04T15:27:23.853Z"
   },
   {
    "duration": 56,
    "start_time": "2022-02-04T15:27:23.876Z"
   },
   {
    "duration": 23,
    "start_time": "2022-02-04T15:27:23.934Z"
   },
   {
    "duration": 23,
    "start_time": "2022-02-04T15:27:23.959Z"
   },
   {
    "duration": 48,
    "start_time": "2022-02-04T15:27:23.984Z"
   },
   {
    "duration": 9,
    "start_time": "2022-02-04T15:27:24.034Z"
   },
   {
    "duration": 14,
    "start_time": "2022-02-04T15:27:24.046Z"
   },
   {
    "duration": 8,
    "start_time": "2022-02-04T15:27:24.063Z"
   },
   {
    "duration": 55,
    "start_time": "2022-02-04T15:27:24.074Z"
   },
   {
    "duration": 5,
    "start_time": "2022-02-04T15:27:24.132Z"
   },
   {
    "duration": 5,
    "start_time": "2022-02-04T15:27:24.140Z"
   },
   {
    "duration": 16,
    "start_time": "2022-02-04T15:27:24.147Z"
   },
   {
    "duration": 21,
    "start_time": "2022-02-04T15:27:24.166Z"
   },
   {
    "duration": 11,
    "start_time": "2022-02-04T15:27:24.224Z"
   },
   {
    "duration": 7,
    "start_time": "2022-02-04T15:27:24.239Z"
   },
   {
    "duration": 17,
    "start_time": "2022-02-04T15:27:24.249Z"
   },
   {
    "duration": 12,
    "start_time": "2022-02-04T15:27:24.269Z"
   },
   {
    "duration": 42,
    "start_time": "2022-02-04T15:27:24.283Z"
   },
   {
    "duration": 37,
    "start_time": "2022-02-04T15:27:24.327Z"
   },
   {
    "duration": 63,
    "start_time": "2022-02-04T15:27:24.366Z"
   },
   {
    "duration": 31,
    "start_time": "2022-02-04T15:27:24.432Z"
   },
   {
    "duration": 58,
    "start_time": "2022-02-04T15:27:24.465Z"
   },
   {
    "duration": 896,
    "start_time": "2022-02-04T15:36:02.499Z"
   },
   {
    "duration": 36,
    "start_time": "2022-02-04T15:36:03.398Z"
   },
   {
    "duration": 12,
    "start_time": "2022-02-04T15:36:03.438Z"
   },
   {
    "duration": 7,
    "start_time": "2022-02-04T15:36:03.454Z"
   },
   {
    "duration": 10,
    "start_time": "2022-02-04T15:36:03.464Z"
   },
   {
    "duration": 64,
    "start_time": "2022-02-04T15:36:03.477Z"
   },
   {
    "duration": 20,
    "start_time": "2022-02-04T15:36:03.544Z"
   },
   {
    "duration": 57,
    "start_time": "2022-02-04T15:36:03.568Z"
   },
   {
    "duration": 7,
    "start_time": "2022-02-04T15:36:03.628Z"
   },
   {
    "duration": 8,
    "start_time": "2022-02-04T15:36:03.637Z"
   },
   {
    "duration": 8,
    "start_time": "2022-02-04T15:36:03.647Z"
   },
   {
    "duration": 7,
    "start_time": "2022-02-04T15:36:03.658Z"
   },
   {
    "duration": 55,
    "start_time": "2022-02-04T15:36:03.668Z"
   },
   {
    "duration": 14,
    "start_time": "2022-02-04T15:36:03.726Z"
   },
   {
    "duration": 10,
    "start_time": "2022-02-04T15:36:03.742Z"
   },
   {
    "duration": 10,
    "start_time": "2022-02-04T15:36:03.755Z"
   },
   {
    "duration": 9,
    "start_time": "2022-02-04T15:36:03.767Z"
   },
   {
    "duration": 50,
    "start_time": "2022-02-04T15:36:03.778Z"
   },
   {
    "duration": 11,
    "start_time": "2022-02-04T15:36:03.830Z"
   },
   {
    "duration": 13,
    "start_time": "2022-02-04T15:36:03.843Z"
   },
   {
    "duration": 12,
    "start_time": "2022-02-04T15:36:03.859Z"
   },
   {
    "duration": 54,
    "start_time": "2022-02-04T15:36:03.873Z"
   },
   {
    "duration": 10,
    "start_time": "2022-02-04T15:36:03.933Z"
   },
   {
    "duration": 11,
    "start_time": "2022-02-04T15:36:03.946Z"
   },
   {
    "duration": 7,
    "start_time": "2022-02-04T15:36:03.960Z"
   },
   {
    "duration": 16,
    "start_time": "2022-02-04T15:36:03.969Z"
   },
   {
    "duration": 37,
    "start_time": "2022-02-04T15:36:03.987Z"
   },
   {
    "duration": 9,
    "start_time": "2022-02-04T15:36:04.027Z"
   },
   {
    "duration": 6,
    "start_time": "2022-02-04T15:36:04.039Z"
   },
   {
    "duration": 16,
    "start_time": "2022-02-04T15:36:04.047Z"
   },
   {
    "duration": 23,
    "start_time": "2022-02-04T15:36:04.065Z"
   },
   {
    "duration": 25,
    "start_time": "2022-02-04T15:36:04.124Z"
   },
   {
    "duration": 24,
    "start_time": "2022-02-04T15:36:04.152Z"
   },
   {
    "duration": 54,
    "start_time": "2022-02-04T15:36:04.179Z"
   },
   {
    "duration": 21,
    "start_time": "2022-02-04T15:36:04.236Z"
   },
   {
    "duration": 10,
    "start_time": "2022-02-04T15:36:04.259Z"
   },
   {
    "duration": 10,
    "start_time": "2022-02-04T15:36:04.271Z"
   },
   {
    "duration": 41,
    "start_time": "2022-02-04T15:36:04.284Z"
   },
   {
    "duration": 13,
    "start_time": "2022-02-04T15:36:04.327Z"
   },
   {
    "duration": 6,
    "start_time": "2022-02-04T15:36:04.342Z"
   },
   {
    "duration": 6,
    "start_time": "2022-02-04T15:36:04.350Z"
   },
   {
    "duration": 18,
    "start_time": "2022-02-04T15:36:04.358Z"
   },
   {
    "duration": 66,
    "start_time": "2022-02-04T15:36:04.378Z"
   },
   {
    "duration": 16,
    "start_time": "2022-02-04T15:36:04.446Z"
   },
   {
    "duration": 6,
    "start_time": "2022-02-04T15:36:04.464Z"
   },
   {
    "duration": 23,
    "start_time": "2022-02-04T15:36:04.472Z"
   },
   {
    "duration": 27,
    "start_time": "2022-02-04T15:36:04.498Z"
   },
   {
    "duration": 8,
    "start_time": "2022-02-04T15:36:04.527Z"
   },
   {
    "duration": 35,
    "start_time": "2022-02-04T15:36:04.537Z"
   },
   {
    "duration": 64,
    "start_time": "2022-02-04T15:36:04.575Z"
   },
   {
    "duration": 30,
    "start_time": "2022-02-04T15:36:04.641Z"
   },
   {
    "duration": 57,
    "start_time": "2022-02-04T15:36:04.673Z"
   },
   {
    "duration": 411,
    "start_time": "2022-02-04T15:36:44.676Z"
   },
   {
    "duration": 324,
    "start_time": "2022-02-04T15:36:56.379Z"
   },
   {
    "duration": 417,
    "start_time": "2022-02-04T15:37:12.103Z"
   },
   {
    "duration": 5,
    "start_time": "2022-02-04T15:37:20.524Z"
   },
   {
    "duration": 6,
    "start_time": "2022-02-04T15:37:23.215Z"
   },
   {
    "duration": 5,
    "start_time": "2022-02-04T15:37:28.224Z"
   },
   {
    "duration": 5,
    "start_time": "2022-02-04T15:37:35.148Z"
   },
   {
    "duration": 5,
    "start_time": "2022-02-04T15:38:38.004Z"
   },
   {
    "duration": 31,
    "start_time": "2022-02-04T15:38:43.444Z"
   },
   {
    "duration": 6,
    "start_time": "2022-02-04T15:39:02.516Z"
   },
   {
    "duration": 30,
    "start_time": "2022-02-04T15:39:04.932Z"
   },
   {
    "duration": 5,
    "start_time": "2022-02-04T15:41:43.841Z"
   },
   {
    "duration": 32,
    "start_time": "2022-02-04T15:41:47.753Z"
   },
   {
    "duration": 5,
    "start_time": "2022-02-04T15:41:59.685Z"
   },
   {
    "duration": 32,
    "start_time": "2022-02-04T15:42:02.398Z"
   },
   {
    "duration": 832,
    "start_time": "2022-02-04T15:42:27.245Z"
   },
   {
    "duration": 44,
    "start_time": "2022-02-04T15:42:28.081Z"
   },
   {
    "duration": 11,
    "start_time": "2022-02-04T15:42:28.129Z"
   },
   {
    "duration": 7,
    "start_time": "2022-02-04T15:42:28.143Z"
   },
   {
    "duration": 11,
    "start_time": "2022-02-04T15:42:28.152Z"
   },
   {
    "duration": 66,
    "start_time": "2022-02-04T15:42:28.166Z"
   },
   {
    "duration": 21,
    "start_time": "2022-02-04T15:42:28.234Z"
   },
   {
    "duration": 33,
    "start_time": "2022-02-04T15:42:28.259Z"
   },
   {
    "duration": 8,
    "start_time": "2022-02-04T15:42:28.324Z"
   },
   {
    "duration": 8,
    "start_time": "2022-02-04T15:42:28.335Z"
   },
   {
    "duration": 22,
    "start_time": "2022-02-04T15:42:28.346Z"
   },
   {
    "duration": 12,
    "start_time": "2022-02-04T15:42:28.371Z"
   },
   {
    "duration": 42,
    "start_time": "2022-02-04T15:42:28.385Z"
   },
   {
    "duration": 17,
    "start_time": "2022-02-04T15:42:28.429Z"
   },
   {
    "duration": 11,
    "start_time": "2022-02-04T15:42:28.449Z"
   },
   {
    "duration": 10,
    "start_time": "2022-02-04T15:42:28.463Z"
   },
   {
    "duration": 49,
    "start_time": "2022-02-04T15:42:28.476Z"
   },
   {
    "duration": 8,
    "start_time": "2022-02-04T15:42:28.527Z"
   },
   {
    "duration": 8,
    "start_time": "2022-02-04T15:42:28.538Z"
   },
   {
    "duration": 9,
    "start_time": "2022-02-04T15:42:28.549Z"
   },
   {
    "duration": 8,
    "start_time": "2022-02-04T15:42:28.561Z"
   },
   {
    "duration": 53,
    "start_time": "2022-02-04T15:42:28.572Z"
   },
   {
    "duration": 8,
    "start_time": "2022-02-04T15:42:28.630Z"
   },
   {
    "duration": 11,
    "start_time": "2022-02-04T15:42:28.641Z"
   },
   {
    "duration": 7,
    "start_time": "2022-02-04T15:42:28.654Z"
   },
   {
    "duration": 6,
    "start_time": "2022-02-04T15:42:28.664Z"
   },
   {
    "duration": 51,
    "start_time": "2022-02-04T15:42:28.672Z"
   },
   {
    "duration": 8,
    "start_time": "2022-02-04T15:42:28.726Z"
   },
   {
    "duration": 8,
    "start_time": "2022-02-04T15:42:28.737Z"
   },
   {
    "duration": 17,
    "start_time": "2022-02-04T15:42:28.747Z"
   },
   {
    "duration": 57,
    "start_time": "2022-02-04T15:42:28.766Z"
   },
   {
    "duration": 24,
    "start_time": "2022-02-04T15:42:28.826Z"
   },
   {
    "duration": 20,
    "start_time": "2022-02-04T15:42:28.853Z"
   },
   {
    "duration": 47,
    "start_time": "2022-02-04T15:42:28.876Z"
   },
   {
    "duration": 18,
    "start_time": "2022-02-04T15:42:28.925Z"
   },
   {
    "duration": 8,
    "start_time": "2022-02-04T15:42:28.946Z"
   },
   {
    "duration": 10,
    "start_time": "2022-02-04T15:42:28.956Z"
   },
   {
    "duration": 13,
    "start_time": "2022-02-04T15:42:28.968Z"
   },
   {
    "duration": 46,
    "start_time": "2022-02-04T15:42:28.983Z"
   },
   {
    "duration": 9,
    "start_time": "2022-02-04T15:42:29.032Z"
   },
   {
    "duration": 13,
    "start_time": "2022-02-04T15:42:29.043Z"
   },
   {
    "duration": 17,
    "start_time": "2022-02-04T15:42:29.058Z"
   },
   {
    "duration": 22,
    "start_time": "2022-02-04T15:42:29.077Z"
   },
   {
    "duration": 30,
    "start_time": "2022-02-04T15:42:29.101Z"
   },
   {
    "duration": 5,
    "start_time": "2022-02-04T15:42:29.133Z"
   },
   {
    "duration": 21,
    "start_time": "2022-02-04T15:42:29.140Z"
   },
   {
    "duration": 9,
    "start_time": "2022-02-04T15:42:29.164Z"
   },
   {
    "duration": 7,
    "start_time": "2022-02-04T15:42:29.175Z"
   },
   {
    "duration": 71,
    "start_time": "2022-02-04T15:42:29.185Z"
   },
   {
    "duration": 377,
    "start_time": "2022-02-04T15:42:29.259Z"
   },
   {
    "duration": 65,
    "start_time": "2022-02-04T15:42:29.574Z"
   },
   {
    "duration": 62,
    "start_time": "2022-02-04T15:42:29.578Z"
   },
   {
    "duration": 59,
    "start_time": "2022-02-04T15:42:29.582Z"
   },
   {
    "duration": 4,
    "start_time": "2022-02-04T15:43:14.626Z"
   },
   {
    "duration": 28,
    "start_time": "2022-02-04T15:43:18.805Z"
   },
   {
    "duration": 4,
    "start_time": "2022-02-04T15:49:44.671Z"
   },
   {
    "duration": 322,
    "start_time": "2022-02-04T15:49:46.667Z"
   },
   {
    "duration": 4,
    "start_time": "2022-02-04T15:50:09.275Z"
   },
   {
    "duration": 31,
    "start_time": "2022-02-04T15:50:10.823Z"
   },
   {
    "duration": 6,
    "start_time": "2022-02-04T15:50:51.971Z"
   },
   {
    "duration": 30,
    "start_time": "2022-02-04T15:50:53.451Z"
   },
   {
    "duration": 4,
    "start_time": "2022-02-04T15:55:04.573Z"
   },
   {
    "duration": 1221,
    "start_time": "2022-02-04T15:55:08.360Z"
   },
   {
    "duration": 31,
    "start_time": "2022-02-04T15:56:37.721Z"
   },
   {
    "duration": 766,
    "start_time": "2022-02-04T16:01:07.642Z"
   },
   {
    "duration": 868,
    "start_time": "2022-02-04T16:01:20.621Z"
   },
   {
    "duration": 40,
    "start_time": "2022-02-04T16:01:21.492Z"
   },
   {
    "duration": 11,
    "start_time": "2022-02-04T16:01:21.535Z"
   },
   {
    "duration": 6,
    "start_time": "2022-02-04T16:01:21.548Z"
   },
   {
    "duration": 9,
    "start_time": "2022-02-04T16:01:21.556Z"
   },
   {
    "duration": 64,
    "start_time": "2022-02-04T16:01:21.567Z"
   },
   {
    "duration": 23,
    "start_time": "2022-02-04T16:01:21.633Z"
   },
   {
    "duration": 25,
    "start_time": "2022-02-04T16:01:21.659Z"
   },
   {
    "duration": 8,
    "start_time": "2022-02-04T16:01:21.722Z"
   },
   {
    "duration": 6,
    "start_time": "2022-02-04T16:01:21.732Z"
   },
   {
    "duration": 7,
    "start_time": "2022-02-04T16:01:21.740Z"
   },
   {
    "duration": 8,
    "start_time": "2022-02-04T16:01:21.750Z"
   },
   {
    "duration": 62,
    "start_time": "2022-02-04T16:01:21.761Z"
   },
   {
    "duration": 14,
    "start_time": "2022-02-04T16:01:21.826Z"
   },
   {
    "duration": 11,
    "start_time": "2022-02-04T16:01:21.843Z"
   },
   {
    "duration": 11,
    "start_time": "2022-02-04T16:01:21.857Z"
   },
   {
    "duration": 54,
    "start_time": "2022-02-04T16:01:21.871Z"
   },
   {
    "duration": 9,
    "start_time": "2022-02-04T16:01:21.927Z"
   },
   {
    "duration": 12,
    "start_time": "2022-02-04T16:01:21.938Z"
   },
   {
    "duration": 17,
    "start_time": "2022-02-04T16:01:21.952Z"
   },
   {
    "duration": 16,
    "start_time": "2022-02-04T16:01:21.971Z"
   },
   {
    "duration": 40,
    "start_time": "2022-02-04T16:01:21.989Z"
   },
   {
    "duration": 8,
    "start_time": "2022-02-04T16:01:22.035Z"
   },
   {
    "duration": 15,
    "start_time": "2022-02-04T16:01:22.046Z"
   },
   {
    "duration": 8,
    "start_time": "2022-02-04T16:01:22.064Z"
   },
   {
    "duration": 51,
    "start_time": "2022-02-04T16:01:22.074Z"
   },
   {
    "duration": 7,
    "start_time": "2022-02-04T16:01:22.128Z"
   },
   {
    "duration": 12,
    "start_time": "2022-02-04T16:01:22.138Z"
   },
   {
    "duration": 6,
    "start_time": "2022-02-04T16:01:22.153Z"
   },
   {
    "duration": 15,
    "start_time": "2022-02-04T16:01:22.161Z"
   },
   {
    "duration": 63,
    "start_time": "2022-02-04T16:01:22.179Z"
   },
   {
    "duration": 27,
    "start_time": "2022-02-04T16:01:22.244Z"
   },
   {
    "duration": 50,
    "start_time": "2022-02-04T16:01:22.273Z"
   },
   {
    "duration": 27,
    "start_time": "2022-02-04T16:01:22.326Z"
   },
   {
    "duration": 23,
    "start_time": "2022-02-04T16:01:22.356Z"
   },
   {
    "duration": 43,
    "start_time": "2022-02-04T16:01:22.381Z"
   },
   {
    "duration": 9,
    "start_time": "2022-02-04T16:01:22.426Z"
   },
   {
    "duration": 10,
    "start_time": "2022-02-04T16:01:22.437Z"
   },
   {
    "duration": 16,
    "start_time": "2022-02-04T16:01:22.449Z"
   },
   {
    "duration": 6,
    "start_time": "2022-02-04T16:01:22.469Z"
   },
   {
    "duration": 43,
    "start_time": "2022-02-04T16:01:22.479Z"
   },
   {
    "duration": 21,
    "start_time": "2022-02-04T16:01:22.526Z"
   },
   {
    "duration": 20,
    "start_time": "2022-02-04T16:01:22.550Z"
   },
   {
    "duration": 11,
    "start_time": "2022-02-04T16:01:22.572Z"
   },
   {
    "duration": 39,
    "start_time": "2022-02-04T16:01:22.586Z"
   },
   {
    "duration": 29,
    "start_time": "2022-02-04T16:01:22.627Z"
   },
   {
    "duration": 10,
    "start_time": "2022-02-04T16:01:22.659Z"
   },
   {
    "duration": 6,
    "start_time": "2022-02-04T16:01:22.672Z"
   },
   {
    "duration": 63,
    "start_time": "2022-02-04T16:01:22.681Z"
   },
   {
    "duration": 409,
    "start_time": "2022-02-04T16:01:22.747Z"
   },
   {
    "duration": 101,
    "start_time": "2022-02-04T16:01:23.057Z"
   },
   {
    "duration": 98,
    "start_time": "2022-02-04T16:01:23.062Z"
   },
   {
    "duration": 331,
    "start_time": "2022-02-04T16:02:05.637Z"
   },
   {
    "duration": 37,
    "start_time": "2022-02-04T16:02:22.502Z"
   },
   {
    "duration": 807,
    "start_time": "2022-02-04T17:26:19.413Z"
   },
   {
    "duration": 31,
    "start_time": "2022-02-04T17:26:26.953Z"
   },
   {
    "duration": 768,
    "start_time": "2022-02-04T17:31:04.080Z"
   },
   {
    "duration": 27,
    "start_time": "2022-02-04T17:31:04.851Z"
   },
   {
    "duration": 11,
    "start_time": "2022-02-04T17:31:04.881Z"
   },
   {
    "duration": 31,
    "start_time": "2022-02-04T17:31:04.895Z"
   },
   {
    "duration": 10,
    "start_time": "2022-02-04T17:31:04.928Z"
   },
   {
    "duration": 22,
    "start_time": "2022-02-04T17:31:04.940Z"
   },
   {
    "duration": 18,
    "start_time": "2022-02-04T17:31:04.964Z"
   },
   {
    "duration": 61,
    "start_time": "2022-02-04T17:31:04.985Z"
   },
   {
    "duration": 6,
    "start_time": "2022-02-04T17:31:05.049Z"
   },
   {
    "duration": 7,
    "start_time": "2022-02-04T17:31:05.058Z"
   },
   {
    "duration": 14,
    "start_time": "2022-02-04T17:31:05.068Z"
   },
   {
    "duration": 45,
    "start_time": "2022-02-04T17:31:05.085Z"
   },
   {
    "duration": 7,
    "start_time": "2022-02-04T17:31:05.132Z"
   },
   {
    "duration": 15,
    "start_time": "2022-02-04T17:31:05.142Z"
   },
   {
    "duration": 10,
    "start_time": "2022-02-04T17:31:05.159Z"
   },
   {
    "duration": 7,
    "start_time": "2022-02-04T17:31:05.172Z"
   },
   {
    "duration": 50,
    "start_time": "2022-02-04T17:31:05.181Z"
   },
   {
    "duration": 9,
    "start_time": "2022-02-04T17:31:05.233Z"
   },
   {
    "duration": 9,
    "start_time": "2022-02-04T17:31:05.244Z"
   },
   {
    "duration": 10,
    "start_time": "2022-02-04T17:31:05.255Z"
   },
   {
    "duration": 7,
    "start_time": "2022-02-04T17:31:05.268Z"
   },
   {
    "duration": 55,
    "start_time": "2022-02-04T17:31:05.277Z"
   },
   {
    "duration": 7,
    "start_time": "2022-02-04T17:31:05.338Z"
   },
   {
    "duration": 11,
    "start_time": "2022-02-04T17:31:05.348Z"
   },
   {
    "duration": 8,
    "start_time": "2022-02-04T17:31:05.361Z"
   },
   {
    "duration": 6,
    "start_time": "2022-02-04T17:31:05.371Z"
   },
   {
    "duration": 6,
    "start_time": "2022-02-04T17:31:05.424Z"
   },
   {
    "duration": 8,
    "start_time": "2022-02-04T17:31:05.433Z"
   },
   {
    "duration": 10,
    "start_time": "2022-02-04T17:31:05.443Z"
   },
   {
    "duration": 16,
    "start_time": "2022-02-04T17:31:05.455Z"
   },
   {
    "duration": 62,
    "start_time": "2022-02-04T17:31:05.473Z"
   },
   {
    "duration": 24,
    "start_time": "2022-02-04T17:31:05.537Z"
   },
   {
    "duration": 21,
    "start_time": "2022-02-04T17:31:05.563Z"
   },
   {
    "duration": 51,
    "start_time": "2022-02-04T17:31:05.586Z"
   },
   {
    "duration": 23,
    "start_time": "2022-02-04T17:31:05.640Z"
   },
   {
    "duration": 10,
    "start_time": "2022-02-04T17:31:05.665Z"
   },
   {
    "duration": 46,
    "start_time": "2022-02-04T17:31:05.679Z"
   },
   {
    "duration": 8,
    "start_time": "2022-02-04T17:31:05.728Z"
   },
   {
    "duration": 16,
    "start_time": "2022-02-04T17:31:05.738Z"
   },
   {
    "duration": 7,
    "start_time": "2022-02-04T17:31:05.756Z"
   },
   {
    "duration": 8,
    "start_time": "2022-02-04T17:31:05.765Z"
   },
   {
    "duration": 48,
    "start_time": "2022-02-04T17:31:05.775Z"
   },
   {
    "duration": 19,
    "start_time": "2022-02-04T17:31:05.825Z"
   },
   {
    "duration": 11,
    "start_time": "2022-02-04T17:31:05.847Z"
   },
   {
    "duration": 9,
    "start_time": "2022-02-04T17:31:05.860Z"
   },
   {
    "duration": 21,
    "start_time": "2022-02-04T17:31:05.871Z"
   },
   {
    "duration": 34,
    "start_time": "2022-02-04T17:31:05.894Z"
   },
   {
    "duration": 5,
    "start_time": "2022-02-04T17:31:05.930Z"
   },
   {
    "duration": 36,
    "start_time": "2022-02-04T17:31:05.938Z"
   },
   {
    "duration": 67,
    "start_time": "2022-02-04T17:31:05.976Z"
   },
   {
    "duration": 37,
    "start_time": "2022-02-04T17:31:06.045Z"
   },
   {
    "duration": 58,
    "start_time": "2022-02-04T17:31:06.084Z"
   },
   {
    "duration": 8,
    "start_time": "2022-02-04T17:38:45.883Z"
   },
   {
    "duration": 832,
    "start_time": "2022-02-04T17:39:28.921Z"
   },
   {
    "duration": 28,
    "start_time": "2022-02-04T17:39:29.755Z"
   },
   {
    "duration": 17,
    "start_time": "2022-02-04T17:39:29.786Z"
   },
   {
    "duration": 22,
    "start_time": "2022-02-04T17:39:29.805Z"
   },
   {
    "duration": 8,
    "start_time": "2022-02-04T17:39:29.830Z"
   },
   {
    "duration": 22,
    "start_time": "2022-02-04T17:39:29.840Z"
   },
   {
    "duration": 59,
    "start_time": "2022-02-04T17:39:29.865Z"
   },
   {
    "duration": 25,
    "start_time": "2022-02-04T17:39:29.928Z"
   },
   {
    "duration": 7,
    "start_time": "2022-02-04T17:39:29.956Z"
   },
   {
    "duration": 6,
    "start_time": "2022-02-04T17:39:29.965Z"
   },
   {
    "duration": 8,
    "start_time": "2022-02-04T17:39:29.973Z"
   },
   {
    "duration": 45,
    "start_time": "2022-02-04T17:39:29.983Z"
   },
   {
    "duration": 10,
    "start_time": "2022-02-04T17:39:30.031Z"
   },
   {
    "duration": 14,
    "start_time": "2022-02-04T17:39:30.044Z"
   },
   {
    "duration": 10,
    "start_time": "2022-02-04T17:39:30.060Z"
   },
   {
    "duration": 51,
    "start_time": "2022-02-04T17:39:30.072Z"
   },
   {
    "duration": 11,
    "start_time": "2022-02-04T17:39:30.125Z"
   },
   {
    "duration": 7,
    "start_time": "2022-02-04T17:39:30.138Z"
   },
   {
    "duration": 9,
    "start_time": "2022-02-04T17:39:30.148Z"
   },
   {
    "duration": 10,
    "start_time": "2022-02-04T17:39:30.160Z"
   },
   {
    "duration": 53,
    "start_time": "2022-02-04T17:39:30.172Z"
   },
   {
    "duration": 10,
    "start_time": "2022-02-04T17:39:30.227Z"
   },
   {
    "duration": 8,
    "start_time": "2022-02-04T17:39:30.243Z"
   },
   {
    "duration": 7,
    "start_time": "2022-02-04T17:39:30.254Z"
   },
   {
    "duration": 10,
    "start_time": "2022-02-04T17:39:30.264Z"
   },
   {
    "duration": 9,
    "start_time": "2022-02-04T17:39:30.323Z"
   },
   {
    "duration": 13,
    "start_time": "2022-02-04T17:39:30.334Z"
   },
   {
    "duration": 10,
    "start_time": "2022-02-04T17:39:30.350Z"
   },
   {
    "duration": 11,
    "start_time": "2022-02-04T17:39:30.362Z"
   },
   {
    "duration": 8,
    "start_time": "2022-02-04T17:39:30.376Z"
   },
   {
    "duration": 48,
    "start_time": "2022-02-04T17:39:30.386Z"
   },
   {
    "duration": 22,
    "start_time": "2022-02-04T17:39:30.436Z"
   },
   {
    "duration": 24,
    "start_time": "2022-02-04T17:39:30.461Z"
   },
   {
    "duration": 52,
    "start_time": "2022-02-04T17:39:30.488Z"
   },
   {
    "duration": 25,
    "start_time": "2022-02-04T17:39:30.543Z"
   },
   {
    "duration": 23,
    "start_time": "2022-02-04T17:39:30.570Z"
   },
   {
    "duration": 10,
    "start_time": "2022-02-04T17:39:30.624Z"
   },
   {
    "duration": 20,
    "start_time": "2022-02-04T17:39:30.637Z"
   },
   {
    "duration": 10,
    "start_time": "2022-02-04T17:39:30.660Z"
   },
   {
    "duration": 23,
    "start_time": "2022-02-04T17:39:30.672Z"
   },
   {
    "duration": 28,
    "start_time": "2022-02-04T17:39:30.697Z"
   },
   {
    "duration": 7,
    "start_time": "2022-02-04T17:39:30.728Z"
   },
   {
    "duration": 27,
    "start_time": "2022-02-04T17:39:30.737Z"
   },
   {
    "duration": 31,
    "start_time": "2022-02-04T17:39:30.767Z"
   },
   {
    "duration": 47,
    "start_time": "2022-02-04T17:39:30.800Z"
   },
   {
    "duration": 8,
    "start_time": "2022-02-04T17:39:30.850Z"
   },
   {
    "duration": 37,
    "start_time": "2022-02-04T17:39:30.860Z"
   },
   {
    "duration": 10,
    "start_time": "2022-02-04T17:39:30.900Z"
   },
   {
    "duration": 20,
    "start_time": "2022-02-04T17:39:30.912Z"
   },
   {
    "duration": 45,
    "start_time": "2022-02-04T17:39:30.934Z"
   },
   {
    "duration": 42,
    "start_time": "2022-02-04T17:39:30.982Z"
   },
   {
    "duration": 35,
    "start_time": "2022-02-04T17:39:31.027Z"
   },
   {
    "duration": 32,
    "start_time": "2022-02-04T17:39:31.065Z"
   },
   {
    "duration": 26,
    "start_time": "2022-02-04T17:42:16.807Z"
   },
   {
    "duration": 24,
    "start_time": "2022-02-04T17:42:19.190Z"
   },
   {
    "duration": 26,
    "start_time": "2022-02-04T17:43:15.008Z"
   },
   {
    "duration": 24,
    "start_time": "2022-02-04T17:45:03.791Z"
   },
   {
    "duration": 6,
    "start_time": "2022-02-04T17:46:00.504Z"
   },
   {
    "duration": 800,
    "start_time": "2022-02-04T17:47:44.060Z"
   },
   {
    "duration": 29,
    "start_time": "2022-02-04T17:47:44.863Z"
   },
   {
    "duration": 9,
    "start_time": "2022-02-04T17:47:44.894Z"
   },
   {
    "duration": 20,
    "start_time": "2022-02-04T17:47:44.906Z"
   },
   {
    "duration": 8,
    "start_time": "2022-02-04T17:47:44.929Z"
   },
   {
    "duration": 22,
    "start_time": "2022-02-04T17:47:44.940Z"
   },
   {
    "duration": 62,
    "start_time": "2022-02-04T17:47:44.964Z"
   },
   {
    "duration": 27,
    "start_time": "2022-02-04T17:47:45.029Z"
   },
   {
    "duration": 7,
    "start_time": "2022-02-04T17:47:45.060Z"
   },
   {
    "duration": 8,
    "start_time": "2022-02-04T17:47:45.070Z"
   },
   {
    "duration": 46,
    "start_time": "2022-02-04T17:47:45.080Z"
   },
   {
    "duration": 8,
    "start_time": "2022-02-04T17:47:45.128Z"
   },
   {
    "duration": 7,
    "start_time": "2022-02-04T17:47:45.139Z"
   },
   {
    "duration": 20,
    "start_time": "2022-02-04T17:47:45.148Z"
   },
   {
    "duration": 11,
    "start_time": "2022-02-04T17:47:45.170Z"
   },
   {
    "duration": 45,
    "start_time": "2022-02-04T17:47:45.183Z"
   },
   {
    "duration": 9,
    "start_time": "2022-02-04T17:47:45.230Z"
   },
   {
    "duration": 8,
    "start_time": "2022-02-04T17:47:45.241Z"
   },
   {
    "duration": 9,
    "start_time": "2022-02-04T17:47:45.252Z"
   },
   {
    "duration": 14,
    "start_time": "2022-02-04T17:47:45.264Z"
   },
   {
    "duration": 45,
    "start_time": "2022-02-04T17:47:45.280Z"
   },
   {
    "duration": 10,
    "start_time": "2022-02-04T17:47:45.327Z"
   },
   {
    "duration": 9,
    "start_time": "2022-02-04T17:47:45.342Z"
   },
   {
    "duration": 14,
    "start_time": "2022-02-04T17:47:45.354Z"
   },
   {
    "duration": 7,
    "start_time": "2022-02-04T17:47:45.371Z"
   },
   {
    "duration": 48,
    "start_time": "2022-02-04T17:47:45.380Z"
   },
   {
    "duration": 8,
    "start_time": "2022-02-04T17:47:45.431Z"
   },
   {
    "duration": 7,
    "start_time": "2022-02-04T17:47:45.442Z"
   },
   {
    "duration": 7,
    "start_time": "2022-02-04T17:47:45.451Z"
   },
   {
    "duration": 16,
    "start_time": "2022-02-04T17:47:45.461Z"
   },
   {
    "duration": 58,
    "start_time": "2022-02-04T17:47:45.479Z"
   },
   {
    "duration": 23,
    "start_time": "2022-02-04T17:47:45.539Z"
   },
   {
    "duration": 23,
    "start_time": "2022-02-04T17:47:45.564Z"
   },
   {
    "duration": 53,
    "start_time": "2022-02-04T17:47:45.590Z"
   },
   {
    "duration": 21,
    "start_time": "2022-02-04T17:47:45.646Z"
   },
   {
    "duration": 10,
    "start_time": "2022-02-04T17:47:45.670Z"
   },
   {
    "duration": 48,
    "start_time": "2022-02-04T17:47:45.683Z"
   },
   {
    "duration": 8,
    "start_time": "2022-02-04T17:47:45.734Z"
   },
   {
    "duration": 16,
    "start_time": "2022-02-04T17:47:45.745Z"
   },
   {
    "duration": 4,
    "start_time": "2022-02-04T17:47:45.764Z"
   },
   {
    "duration": 5,
    "start_time": "2022-02-04T17:47:45.771Z"
   },
   {
    "duration": 56,
    "start_time": "2022-02-04T17:47:45.778Z"
   },
   {
    "duration": 19,
    "start_time": "2022-02-04T17:47:45.837Z"
   },
   {
    "duration": 12,
    "start_time": "2022-02-04T17:47:45.859Z"
   },
   {
    "duration": 6,
    "start_time": "2022-02-04T17:47:45.873Z"
   },
   {
    "duration": 51,
    "start_time": "2022-02-04T17:47:45.881Z"
   },
   {
    "duration": 8,
    "start_time": "2022-02-04T17:47:45.935Z"
   },
   {
    "duration": 4,
    "start_time": "2022-02-04T17:47:45.946Z"
   },
   {
    "duration": 33,
    "start_time": "2022-02-04T17:47:45.953Z"
   },
   {
    "duration": 70,
    "start_time": "2022-02-04T17:47:45.989Z"
   },
   {
    "duration": 35,
    "start_time": "2022-02-04T17:47:46.061Z"
   },
   {
    "duration": 55,
    "start_time": "2022-02-04T17:47:46.099Z"
   },
   {
    "duration": 407,
    "start_time": "2022-02-04T17:48:39.273Z"
   },
   {
    "duration": 302,
    "start_time": "2022-02-04T17:53:58.415Z"
   },
   {
    "duration": 308,
    "start_time": "2022-02-04T17:54:25.287Z"
   },
   {
    "duration": 8,
    "start_time": "2022-02-04T17:55:21.923Z"
   },
   {
    "duration": 9,
    "start_time": "2022-02-04T17:55:42.076Z"
   },
   {
    "duration": 7,
    "start_time": "2022-02-04T17:56:41.000Z"
   },
   {
    "duration": 12,
    "start_time": "2022-02-04T17:57:04.320Z"
   },
   {
    "duration": 4,
    "start_time": "2022-02-04T17:59:38.465Z"
   },
   {
    "duration": 5,
    "start_time": "2022-02-04T17:59:46.936Z"
   },
   {
    "duration": 14,
    "start_time": "2022-02-04T18:01:00.386Z"
   },
   {
    "duration": 19,
    "start_time": "2022-02-04T18:01:27.553Z"
   },
   {
    "duration": 10,
    "start_time": "2022-02-04T18:03:15.986Z"
   },
   {
    "duration": 10,
    "start_time": "2022-02-04T18:03:54.338Z"
   },
   {
    "duration": 6,
    "start_time": "2022-02-04T18:06:21.887Z"
   },
   {
    "duration": 6,
    "start_time": "2022-02-04T18:06:30.863Z"
   },
   {
    "duration": 16,
    "start_time": "2022-02-04T18:07:07.223Z"
   },
   {
    "duration": 9,
    "start_time": "2022-02-04T18:07:39.191Z"
   },
   {
    "duration": 317,
    "start_time": "2022-02-04T18:11:55.892Z"
   },
   {
    "duration": 6,
    "start_time": "2022-02-04T18:12:00.280Z"
   },
   {
    "duration": 333,
    "start_time": "2022-02-04T18:12:02.441Z"
   },
   {
    "duration": 32,
    "start_time": "2022-02-04T18:12:56.149Z"
   },
   {
    "duration": 5,
    "start_time": "2022-02-04T18:15:01.895Z"
   },
   {
    "duration": 34,
    "start_time": "2022-02-04T18:15:34.806Z"
   },
   {
    "duration": 5,
    "start_time": "2022-02-04T18:16:34.226Z"
   },
   {
    "duration": 6,
    "start_time": "2022-02-04T18:16:40.662Z"
   },
   {
    "duration": 5,
    "start_time": "2022-02-04T18:16:46.394Z"
   },
   {
    "duration": 36,
    "start_time": "2022-02-04T18:17:27.118Z"
   },
   {
    "duration": 40,
    "start_time": "2022-02-04T18:23:08.472Z"
   },
   {
    "duration": 45,
    "start_time": "2022-02-04T18:23:22.316Z"
   },
   {
    "duration": 36,
    "start_time": "2022-02-04T18:23:36.928Z"
   },
   {
    "duration": 41,
    "start_time": "2022-02-04T18:23:46.168Z"
   },
   {
    "duration": 338,
    "start_time": "2022-02-04T18:25:09.140Z"
   },
   {
    "duration": 35,
    "start_time": "2022-02-04T18:25:20.464Z"
   },
   {
    "duration": 346,
    "start_time": "2022-02-04T18:25:52.129Z"
   },
   {
    "duration": 355,
    "start_time": "2022-02-04T18:26:13.148Z"
   },
   {
    "duration": 45,
    "start_time": "2022-02-04T18:26:44.304Z"
   },
   {
    "duration": 853,
    "start_time": "2022-02-04T18:30:04.725Z"
   },
   {
    "duration": 41,
    "start_time": "2022-02-04T18:30:05.582Z"
   },
   {
    "duration": 9,
    "start_time": "2022-02-04T18:30:05.627Z"
   },
   {
    "duration": 11,
    "start_time": "2022-02-04T18:30:05.639Z"
   },
   {
    "duration": 13,
    "start_time": "2022-02-04T18:30:05.652Z"
   },
   {
    "duration": 24,
    "start_time": "2022-02-04T18:30:05.667Z"
   },
   {
    "duration": 20,
    "start_time": "2022-02-04T18:30:05.722Z"
   },
   {
    "duration": 25,
    "start_time": "2022-02-04T18:30:05.746Z"
   },
   {
    "duration": 7,
    "start_time": "2022-02-04T18:30:05.774Z"
   },
   {
    "duration": 42,
    "start_time": "2022-02-04T18:30:05.783Z"
   },
   {
    "duration": 20,
    "start_time": "2022-02-04T18:30:05.827Z"
   },
   {
    "duration": 25,
    "start_time": "2022-02-04T18:30:05.849Z"
   },
   {
    "duration": 11,
    "start_time": "2022-02-04T18:30:05.876Z"
   },
   {
    "duration": 15,
    "start_time": "2022-02-04T18:30:05.890Z"
   },
   {
    "duration": 29,
    "start_time": "2022-02-04T18:30:05.907Z"
   },
   {
    "duration": 21,
    "start_time": "2022-02-04T18:30:05.939Z"
   },
   {
    "duration": 13,
    "start_time": "2022-02-04T18:30:05.962Z"
   },
   {
    "duration": 16,
    "start_time": "2022-02-04T18:30:05.977Z"
   },
   {
    "duration": 35,
    "start_time": "2022-02-04T18:30:05.996Z"
   },
   {
    "duration": 17,
    "start_time": "2022-02-04T18:30:06.033Z"
   },
   {
    "duration": 18,
    "start_time": "2022-02-04T18:30:06.053Z"
   },
   {
    "duration": 10,
    "start_time": "2022-02-04T18:30:06.074Z"
   },
   {
    "duration": 36,
    "start_time": "2022-02-04T18:30:06.090Z"
   },
   {
    "duration": 20,
    "start_time": "2022-02-04T18:30:06.129Z"
   },
   {
    "duration": 10,
    "start_time": "2022-02-04T18:30:06.153Z"
   },
   {
    "duration": 8,
    "start_time": "2022-02-04T18:30:06.166Z"
   },
   {
    "duration": 10,
    "start_time": "2022-02-04T18:30:06.176Z"
   },
   {
    "duration": 39,
    "start_time": "2022-02-04T18:30:06.188Z"
   },
   {
    "duration": 5,
    "start_time": "2022-02-04T18:30:06.229Z"
   },
   {
    "duration": 20,
    "start_time": "2022-02-04T18:30:06.236Z"
   },
   {
    "duration": 20,
    "start_time": "2022-02-04T18:30:06.259Z"
   },
   {
    "duration": 56,
    "start_time": "2022-02-04T18:30:06.281Z"
   },
   {
    "duration": 22,
    "start_time": "2022-02-04T18:30:06.340Z"
   },
   {
    "duration": 23,
    "start_time": "2022-02-04T18:30:06.364Z"
   },
   {
    "duration": 47,
    "start_time": "2022-02-04T18:30:06.390Z"
   },
   {
    "duration": 9,
    "start_time": "2022-02-04T18:30:06.440Z"
   },
   {
    "duration": 10,
    "start_time": "2022-02-04T18:30:06.451Z"
   },
   {
    "duration": 8,
    "start_time": "2022-02-04T18:30:06.463Z"
   },
   {
    "duration": 50,
    "start_time": "2022-02-04T18:30:06.473Z"
   },
   {
    "duration": 5,
    "start_time": "2022-02-04T18:30:06.526Z"
   },
   {
    "duration": 16,
    "start_time": "2022-02-04T18:30:06.533Z"
   },
   {
    "duration": 18,
    "start_time": "2022-02-04T18:30:06.552Z"
   },
   {
    "duration": 15,
    "start_time": "2022-02-04T18:30:06.573Z"
   },
   {
    "duration": 35,
    "start_time": "2022-02-04T18:30:06.591Z"
   },
   {
    "duration": 20,
    "start_time": "2022-02-04T18:30:06.628Z"
   },
   {
    "duration": 10,
    "start_time": "2022-02-04T18:30:06.650Z"
   },
   {
    "duration": 18,
    "start_time": "2022-02-04T18:30:06.662Z"
   },
   {
    "duration": 70,
    "start_time": "2022-02-04T18:30:06.683Z"
   },
   {
    "duration": 43,
    "start_time": "2022-02-04T18:30:06.755Z"
   },
   {
    "duration": 60,
    "start_time": "2022-02-04T18:30:06.800Z"
   },
   {
    "duration": 38,
    "start_time": "2022-02-04T18:30:06.862Z"
   },
   {
    "duration": 6,
    "start_time": "2022-02-05T05:58:20.122Z"
   },
   {
    "duration": 784,
    "start_time": "2022-02-05T05:59:58.768Z"
   },
   {
    "duration": 28,
    "start_time": "2022-02-05T05:59:59.555Z"
   },
   {
    "duration": 9,
    "start_time": "2022-02-05T05:59:59.586Z"
   },
   {
    "duration": 5,
    "start_time": "2022-02-05T05:59:59.597Z"
   },
   {
    "duration": 44,
    "start_time": "2022-02-05T05:59:59.604Z"
   },
   {
    "duration": 20,
    "start_time": "2022-02-05T05:59:59.650Z"
   },
   {
    "duration": 21,
    "start_time": "2022-02-05T05:59:59.673Z"
   },
   {
    "duration": 50,
    "start_time": "2022-02-05T05:59:59.698Z"
   },
   {
    "duration": 7,
    "start_time": "2022-02-05T05:59:59.751Z"
   },
   {
    "duration": 6,
    "start_time": "2022-02-05T05:59:59.761Z"
   },
   {
    "duration": 9,
    "start_time": "2022-02-05T05:59:59.769Z"
   },
   {
    "duration": 9,
    "start_time": "2022-02-05T05:59:59.780Z"
   },
   {
    "duration": 9,
    "start_time": "2022-02-05T05:59:59.791Z"
   },
   {
    "duration": 56,
    "start_time": "2022-02-05T05:59:59.802Z"
   },
   {
    "duration": 9,
    "start_time": "2022-02-05T05:59:59.860Z"
   },
   {
    "duration": 7,
    "start_time": "2022-02-05T05:59:59.871Z"
   },
   {
    "duration": 9,
    "start_time": "2022-02-05T05:59:59.881Z"
   },
   {
    "duration": 8,
    "start_time": "2022-02-05T05:59:59.892Z"
   },
   {
    "duration": 53,
    "start_time": "2022-02-05T05:59:59.902Z"
   },
   {
    "duration": 11,
    "start_time": "2022-02-05T05:59:59.957Z"
   },
   {
    "duration": 9,
    "start_time": "2022-02-05T05:59:59.970Z"
   },
   {
    "duration": 9,
    "start_time": "2022-02-05T05:59:59.982Z"
   },
   {
    "duration": 52,
    "start_time": "2022-02-05T05:59:59.997Z"
   },
   {
    "duration": 13,
    "start_time": "2022-02-05T06:00:00.052Z"
   },
   {
    "duration": 9,
    "start_time": "2022-02-05T06:00:00.069Z"
   },
   {
    "duration": 7,
    "start_time": "2022-02-05T06:00:00.081Z"
   },
   {
    "duration": 7,
    "start_time": "2022-02-05T06:00:00.090Z"
   },
   {
    "duration": 55,
    "start_time": "2022-02-05T06:00:00.100Z"
   },
   {
    "duration": 17,
    "start_time": "2022-02-05T06:00:00.158Z"
   },
   {
    "duration": 25,
    "start_time": "2022-02-05T06:00:00.177Z"
   },
   {
    "duration": 24,
    "start_time": "2022-02-05T06:00:00.205Z"
   },
   {
    "duration": 39,
    "start_time": "2022-02-05T06:00:00.231Z"
   },
   {
    "duration": 20,
    "start_time": "2022-02-05T06:00:00.272Z"
   },
   {
    "duration": 32,
    "start_time": "2022-02-05T06:00:00.295Z"
   },
   {
    "duration": 35,
    "start_time": "2022-02-05T06:00:00.330Z"
   },
   {
    "duration": 13,
    "start_time": "2022-02-05T06:00:00.367Z"
   },
   {
    "duration": 16,
    "start_time": "2022-02-05T06:00:00.383Z"
   },
   {
    "duration": 19,
    "start_time": "2022-02-05T06:00:00.402Z"
   },
   {
    "duration": 31,
    "start_time": "2022-02-05T06:00:00.423Z"
   },
   {
    "duration": 13,
    "start_time": "2022-02-05T06:00:00.457Z"
   },
   {
    "duration": 21,
    "start_time": "2022-02-05T06:00:00.472Z"
   },
   {
    "duration": 35,
    "start_time": "2022-02-05T06:00:00.496Z"
   },
   {
    "duration": 22,
    "start_time": "2022-02-05T06:00:00.534Z"
   },
   {
    "duration": 20,
    "start_time": "2022-02-05T06:00:00.559Z"
   },
   {
    "duration": 34,
    "start_time": "2022-02-05T06:00:00.581Z"
   },
   {
    "duration": 27,
    "start_time": "2022-02-05T06:00:00.618Z"
   },
   {
    "duration": 21,
    "start_time": "2022-02-05T06:00:00.647Z"
   },
   {
    "duration": 447,
    "start_time": "2022-02-05T06:00:00.671Z"
   },
   {
    "duration": 170,
    "start_time": "2022-02-05T06:00:00.951Z"
   },
   {
    "duration": 166,
    "start_time": "2022-02-05T06:00:00.957Z"
   },
   {
    "duration": 164,
    "start_time": "2022-02-05T06:00:00.961Z"
   },
   {
    "duration": 878,
    "start_time": "2022-02-05T06:00:59.873Z"
   },
   {
    "duration": 32,
    "start_time": "2022-02-05T06:01:00.754Z"
   },
   {
    "duration": 15,
    "start_time": "2022-02-05T06:01:00.790Z"
   },
   {
    "duration": 10,
    "start_time": "2022-02-05T06:01:00.809Z"
   },
   {
    "duration": 22,
    "start_time": "2022-02-05T06:01:00.850Z"
   },
   {
    "duration": 32,
    "start_time": "2022-02-05T06:01:00.874Z"
   },
   {
    "duration": 21,
    "start_time": "2022-02-05T06:01:00.908Z"
   },
   {
    "duration": 38,
    "start_time": "2022-02-05T06:01:00.932Z"
   },
   {
    "duration": 12,
    "start_time": "2022-02-05T06:01:00.973Z"
   },
   {
    "duration": 19,
    "start_time": "2022-02-05T06:01:00.988Z"
   },
   {
    "duration": 22,
    "start_time": "2022-02-05T06:01:01.009Z"
   },
   {
    "duration": 17,
    "start_time": "2022-02-05T06:01:01.033Z"
   },
   {
    "duration": 53,
    "start_time": "2022-02-05T06:01:01.053Z"
   },
   {
    "duration": 25,
    "start_time": "2022-02-05T06:01:01.109Z"
   },
   {
    "duration": 11,
    "start_time": "2022-02-05T06:01:01.136Z"
   },
   {
    "duration": 19,
    "start_time": "2022-02-05T06:01:01.149Z"
   },
   {
    "duration": 9,
    "start_time": "2022-02-05T06:01:01.171Z"
   },
   {
    "duration": 14,
    "start_time": "2022-02-05T06:01:01.183Z"
   },
   {
    "duration": 12,
    "start_time": "2022-02-05T06:01:01.200Z"
   },
   {
    "duration": 32,
    "start_time": "2022-02-05T06:01:01.215Z"
   },
   {
    "duration": 11,
    "start_time": "2022-02-05T06:01:01.250Z"
   },
   {
    "duration": 12,
    "start_time": "2022-02-05T06:01:01.264Z"
   },
   {
    "duration": 10,
    "start_time": "2022-02-05T06:01:01.283Z"
   },
   {
    "duration": 60,
    "start_time": "2022-02-05T06:01:01.297Z"
   },
   {
    "duration": 10,
    "start_time": "2022-02-05T06:01:01.359Z"
   },
   {
    "duration": 34,
    "start_time": "2022-02-05T06:01:01.371Z"
   },
   {
    "duration": 18,
    "start_time": "2022-02-05T06:01:01.408Z"
   },
   {
    "duration": 12,
    "start_time": "2022-02-05T06:01:01.429Z"
   },
   {
    "duration": 9,
    "start_time": "2022-02-05T06:01:01.443Z"
   },
   {
    "duration": 24,
    "start_time": "2022-02-05T06:01:01.454Z"
   },
   {
    "duration": 43,
    "start_time": "2022-02-05T06:01:01.480Z"
   },
   {
    "duration": 24,
    "start_time": "2022-02-05T06:01:01.526Z"
   },
   {
    "duration": 25,
    "start_time": "2022-02-05T06:01:01.553Z"
   },
   {
    "duration": 24,
    "start_time": "2022-02-05T06:01:01.581Z"
   },
   {
    "duration": 56,
    "start_time": "2022-02-05T06:01:01.608Z"
   },
   {
    "duration": 47,
    "start_time": "2022-02-05T06:01:01.667Z"
   },
   {
    "duration": 15,
    "start_time": "2022-02-05T06:01:01.717Z"
   },
   {
    "duration": 17,
    "start_time": "2022-02-05T06:01:01.735Z"
   },
   {
    "duration": 24,
    "start_time": "2022-02-05T06:01:01.754Z"
   },
   {
    "duration": 8,
    "start_time": "2022-02-05T06:01:01.781Z"
   },
   {
    "duration": 26,
    "start_time": "2022-02-05T06:01:01.792Z"
   },
   {
    "duration": 21,
    "start_time": "2022-02-05T06:01:01.821Z"
   },
   {
    "duration": 11,
    "start_time": "2022-02-05T06:01:01.850Z"
   },
   {
    "duration": 11,
    "start_time": "2022-02-05T06:01:01.864Z"
   },
   {
    "duration": 43,
    "start_time": "2022-02-05T06:01:01.877Z"
   },
   {
    "duration": 16,
    "start_time": "2022-02-05T06:01:01.923Z"
   },
   {
    "duration": 6,
    "start_time": "2022-02-05T06:01:01.950Z"
   },
   {
    "duration": 51,
    "start_time": "2022-02-05T06:01:01.958Z"
   },
   {
    "duration": 58,
    "start_time": "2022-02-05T06:01:02.011Z"
   },
   {
    "duration": 38,
    "start_time": "2022-02-05T06:01:02.071Z"
   },
   {
    "duration": 63,
    "start_time": "2022-02-05T06:01:02.111Z"
   },
   {
    "duration": 32,
    "start_time": "2022-02-05T06:01:56.643Z"
   },
   {
    "duration": 402,
    "start_time": "2022-02-05T06:04:06.703Z"
   },
   {
    "duration": 46,
    "start_time": "2022-02-05T06:04:19.649Z"
   },
   {
    "duration": 45,
    "start_time": "2022-02-05T06:04:36.077Z"
   },
   {
    "duration": 4601,
    "start_time": "2022-02-05T06:05:04.793Z"
   },
   {
    "duration": 82,
    "start_time": "2022-02-05T06:05:24.544Z"
   },
   {
    "duration": 48,
    "start_time": "2022-02-05T06:06:46.936Z"
   },
   {
    "duration": 54,
    "start_time": "2022-02-05T07:06:15.030Z"
   },
   {
    "duration": 39,
    "start_time": "2022-02-05T07:06:41.684Z"
   },
   {
    "duration": 38,
    "start_time": "2022-02-05T07:07:16.310Z"
   },
   {
    "duration": 38,
    "start_time": "2022-02-05T07:22:29.935Z"
   },
   {
    "duration": 38,
    "start_time": "2022-02-05T07:26:19.076Z"
   },
   {
    "duration": 39,
    "start_time": "2022-02-05T07:28:19.556Z"
   },
   {
    "duration": 38,
    "start_time": "2022-02-05T07:53:43.656Z"
   },
   {
    "duration": 47,
    "start_time": "2022-02-05T07:54:21.300Z"
   },
   {
    "duration": 44,
    "start_time": "2022-02-05T07:54:45.256Z"
   },
   {
    "duration": 46,
    "start_time": "2022-02-05T07:55:10.592Z"
   },
   {
    "duration": 47,
    "start_time": "2022-02-05T07:55:27.252Z"
   },
   {
    "duration": 38,
    "start_time": "2022-02-05T07:55:40.800Z"
   },
   {
    "duration": 47,
    "start_time": "2022-02-05T07:59:21.981Z"
   },
   {
    "duration": 50,
    "start_time": "2022-02-05T08:00:36.659Z"
   },
   {
    "duration": 38,
    "start_time": "2022-02-05T08:10:27.563Z"
   },
   {
    "duration": 39,
    "start_time": "2022-02-05T08:22:31.568Z"
   },
   {
    "duration": 306,
    "start_time": "2022-02-05T08:55:58.899Z"
   },
   {
    "duration": 319,
    "start_time": "2022-02-05T08:56:02.138Z"
   },
   {
    "duration": 79,
    "start_time": "2022-02-05T08:56:09.118Z"
   },
   {
    "duration": 18,
    "start_time": "2022-02-05T08:56:13.570Z"
   },
   {
    "duration": 10,
    "start_time": "2022-02-05T08:56:18.039Z"
   },
   {
    "duration": 6,
    "start_time": "2022-02-05T08:56:28.582Z"
   },
   {
    "duration": 7,
    "start_time": "2022-02-05T09:43:32.897Z"
   },
   {
    "duration": 814,
    "start_time": "2022-02-05T09:43:56.352Z"
   },
   {
    "duration": 28,
    "start_time": "2022-02-05T09:43:57.169Z"
   },
   {
    "duration": 13,
    "start_time": "2022-02-05T09:43:57.201Z"
   },
   {
    "duration": 33,
    "start_time": "2022-02-05T09:43:57.217Z"
   },
   {
    "duration": 9,
    "start_time": "2022-02-05T09:43:57.252Z"
   },
   {
    "duration": 22,
    "start_time": "2022-02-05T09:43:57.263Z"
   },
   {
    "duration": 68,
    "start_time": "2022-02-05T09:43:57.289Z"
   },
   {
    "duration": 26,
    "start_time": "2022-02-05T09:43:57.361Z"
   },
   {
    "duration": 7,
    "start_time": "2022-02-05T09:43:57.391Z"
   },
   {
    "duration": 7,
    "start_time": "2022-02-05T09:43:57.400Z"
   },
   {
    "duration": 41,
    "start_time": "2022-02-05T09:43:57.409Z"
   },
   {
    "duration": 15,
    "start_time": "2022-02-05T09:43:57.453Z"
   },
   {
    "duration": 8,
    "start_time": "2022-02-05T09:43:57.470Z"
   },
   {
    "duration": 13,
    "start_time": "2022-02-05T09:43:57.480Z"
   },
   {
    "duration": 10,
    "start_time": "2022-02-05T09:43:57.496Z"
   },
   {
    "duration": 8,
    "start_time": "2022-02-05T09:43:57.549Z"
   },
   {
    "duration": 8,
    "start_time": "2022-02-05T09:43:57.560Z"
   },
   {
    "duration": 8,
    "start_time": "2022-02-05T09:43:57.571Z"
   },
   {
    "duration": 9,
    "start_time": "2022-02-05T09:43:57.581Z"
   },
   {
    "duration": 12,
    "start_time": "2022-02-05T09:43:57.592Z"
   },
   {
    "duration": 8,
    "start_time": "2022-02-05T09:43:57.649Z"
   },
   {
    "duration": 13,
    "start_time": "2022-02-05T09:43:57.659Z"
   },
   {
    "duration": 8,
    "start_time": "2022-02-05T09:43:57.677Z"
   },
   {
    "duration": 17,
    "start_time": "2022-02-05T09:43:57.688Z"
   },
   {
    "duration": 41,
    "start_time": "2022-02-05T09:43:57.707Z"
   },
   {
    "duration": 6,
    "start_time": "2022-02-05T09:43:57.750Z"
   },
   {
    "duration": 6,
    "start_time": "2022-02-05T09:43:57.759Z"
   },
   {
    "duration": 8,
    "start_time": "2022-02-05T09:43:57.767Z"
   },
   {
    "duration": 8,
    "start_time": "2022-02-05T09:43:57.777Z"
   },
   {
    "duration": 15,
    "start_time": "2022-02-05T09:43:57.787Z"
   },
   {
    "duration": 21,
    "start_time": "2022-02-05T09:43:57.849Z"
   },
   {
    "duration": 22,
    "start_time": "2022-02-05T09:43:57.872Z"
   },
   {
    "duration": 21,
    "start_time": "2022-02-05T09:43:57.896Z"
   },
   {
    "duration": 24,
    "start_time": "2022-02-05T09:43:57.948Z"
   },
   {
    "duration": 19,
    "start_time": "2022-02-05T09:43:57.974Z"
   },
   {
    "duration": 8,
    "start_time": "2022-02-05T09:43:57.995Z"
   },
   {
    "duration": 43,
    "start_time": "2022-02-05T09:43:58.005Z"
   },
   {
    "duration": 7,
    "start_time": "2022-02-05T09:43:58.050Z"
   },
   {
    "duration": 14,
    "start_time": "2022-02-05T09:43:58.059Z"
   },
   {
    "duration": 4,
    "start_time": "2022-02-05T09:43:58.076Z"
   },
   {
    "duration": 15,
    "start_time": "2022-02-05T09:43:58.082Z"
   },
   {
    "duration": 56,
    "start_time": "2022-02-05T09:43:58.099Z"
   },
   {
    "duration": 13,
    "start_time": "2022-02-05T09:43:58.158Z"
   },
   {
    "duration": 7,
    "start_time": "2022-02-05T09:43:58.174Z"
   },
   {
    "duration": 16,
    "start_time": "2022-02-05T09:43:58.183Z"
   },
   {
    "duration": 15,
    "start_time": "2022-02-05T09:43:58.201Z"
   },
   {
    "duration": 5,
    "start_time": "2022-02-05T09:43:58.249Z"
   },
   {
    "duration": 68,
    "start_time": "2022-02-05T09:43:58.256Z"
   },
   {
    "duration": 50,
    "start_time": "2022-02-05T09:43:58.327Z"
   },
   {
    "duration": 35,
    "start_time": "2022-02-05T09:43:58.380Z"
   },
   {
    "duration": 57,
    "start_time": "2022-02-05T09:43:58.418Z"
   },
   {
    "duration": 76,
    "start_time": "2022-02-05T09:44:32.309Z"
   },
   {
    "duration": 21,
    "start_time": "2022-02-05T09:44:38.361Z"
   },
   {
    "duration": 11,
    "start_time": "2022-02-05T09:44:44.209Z"
   },
   {
    "duration": 1117,
    "start_time": "2022-02-05T10:12:01.073Z"
   },
   {
    "duration": 32,
    "start_time": "2022-02-05T10:12:02.194Z"
   },
   {
    "duration": 35,
    "start_time": "2022-02-05T10:12:02.230Z"
   },
   {
    "duration": 9,
    "start_time": "2022-02-05T10:12:02.269Z"
   },
   {
    "duration": 11,
    "start_time": "2022-02-05T10:12:02.281Z"
   },
   {
    "duration": 81,
    "start_time": "2022-02-05T10:12:02.295Z"
   },
   {
    "duration": 23,
    "start_time": "2022-02-05T10:12:02.379Z"
   },
   {
    "duration": 28,
    "start_time": "2022-02-05T10:12:02.407Z"
   },
   {
    "duration": 10,
    "start_time": "2022-02-05T10:12:02.450Z"
   },
   {
    "duration": 8,
    "start_time": "2022-02-05T10:12:02.463Z"
   },
   {
    "duration": 22,
    "start_time": "2022-02-05T10:12:02.473Z"
   },
   {
    "duration": 12,
    "start_time": "2022-02-05T10:12:02.498Z"
   },
   {
    "duration": 52,
    "start_time": "2022-02-05T10:12:02.512Z"
   },
   {
    "duration": 21,
    "start_time": "2022-02-05T10:12:02.567Z"
   },
   {
    "duration": 19,
    "start_time": "2022-02-05T10:12:02.591Z"
   },
   {
    "duration": 43,
    "start_time": "2022-02-05T10:12:02.615Z"
   },
   {
    "duration": 13,
    "start_time": "2022-02-05T10:12:02.661Z"
   },
   {
    "duration": 13,
    "start_time": "2022-02-05T10:12:02.677Z"
   },
   {
    "duration": 12,
    "start_time": "2022-02-05T10:12:02.693Z"
   },
   {
    "duration": 44,
    "start_time": "2022-02-05T10:12:02.708Z"
   },
   {
    "duration": 29,
    "start_time": "2022-02-05T10:12:02.755Z"
   },
   {
    "duration": 13,
    "start_time": "2022-02-05T10:12:02.786Z"
   },
   {
    "duration": 7,
    "start_time": "2022-02-05T10:12:02.805Z"
   },
   {
    "duration": 42,
    "start_time": "2022-02-05T10:12:02.815Z"
   },
   {
    "duration": 11,
    "start_time": "2022-02-05T10:12:02.860Z"
   },
   {
    "duration": 11,
    "start_time": "2022-02-05T10:12:02.874Z"
   },
   {
    "duration": 6,
    "start_time": "2022-02-05T10:12:02.888Z"
   },
   {
    "duration": 11,
    "start_time": "2022-02-05T10:12:02.896Z"
   },
   {
    "duration": 7,
    "start_time": "2022-02-05T10:12:02.910Z"
   },
   {
    "duration": 21,
    "start_time": "2022-02-05T10:12:02.958Z"
   },
   {
    "duration": 24,
    "start_time": "2022-02-05T10:12:02.982Z"
   },
   {
    "duration": 62,
    "start_time": "2022-02-05T10:12:03.009Z"
   },
   {
    "duration": 22,
    "start_time": "2022-02-05T10:12:03.073Z"
   },
   {
    "duration": 23,
    "start_time": "2022-02-05T10:12:03.098Z"
   },
   {
    "duration": 52,
    "start_time": "2022-02-05T10:12:03.124Z"
   },
   {
    "duration": 8,
    "start_time": "2022-02-05T10:12:03.179Z"
   },
   {
    "duration": 10,
    "start_time": "2022-02-05T10:12:03.190Z"
   },
   {
    "duration": 11,
    "start_time": "2022-02-05T10:12:03.203Z"
   },
   {
    "duration": 20,
    "start_time": "2022-02-05T10:12:03.248Z"
   },
   {
    "duration": 8,
    "start_time": "2022-02-05T10:12:03.271Z"
   },
   {
    "duration": 15,
    "start_time": "2022-02-05T10:12:03.281Z"
   },
   {
    "duration": 49,
    "start_time": "2022-02-05T10:12:03.299Z"
   },
   {
    "duration": 27,
    "start_time": "2022-02-05T10:12:03.352Z"
   },
   {
    "duration": 7,
    "start_time": "2022-02-05T10:12:03.382Z"
   },
   {
    "duration": 20,
    "start_time": "2022-02-05T10:12:03.392Z"
   },
   {
    "duration": 11,
    "start_time": "2022-02-05T10:12:03.415Z"
   },
   {
    "duration": 23,
    "start_time": "2022-02-05T10:12:03.428Z"
   },
   {
    "duration": 65,
    "start_time": "2022-02-05T10:12:03.454Z"
   },
   {
    "duration": 67,
    "start_time": "2022-02-05T10:12:03.522Z"
   },
   {
    "duration": 37,
    "start_time": "2022-02-05T10:12:03.591Z"
   },
   {
    "duration": 51,
    "start_time": "2022-02-05T10:12:03.653Z"
   },
   {
    "duration": 74,
    "start_time": "2022-02-05T11:57:19.069Z"
   },
   {
    "duration": 19,
    "start_time": "2022-02-05T11:59:50.602Z"
   },
   {
    "duration": 1100,
    "start_time": "2022-02-05T12:00:53.836Z"
   },
   {
    "duration": 28,
    "start_time": "2022-02-05T12:00:54.939Z"
   },
   {
    "duration": 9,
    "start_time": "2022-02-05T12:00:54.970Z"
   },
   {
    "duration": 10,
    "start_time": "2022-02-05T12:00:54.982Z"
   },
   {
    "duration": 13,
    "start_time": "2022-02-05T12:00:54.994Z"
   },
   {
    "duration": 53,
    "start_time": "2022-02-05T12:00:55.009Z"
   },
   {
    "duration": 23,
    "start_time": "2022-02-05T12:00:55.065Z"
   },
   {
    "duration": 57,
    "start_time": "2022-02-05T12:00:55.093Z"
   },
   {
    "duration": 8,
    "start_time": "2022-02-05T12:00:55.154Z"
   },
   {
    "duration": 13,
    "start_time": "2022-02-05T12:00:55.164Z"
   },
   {
    "duration": 13,
    "start_time": "2022-02-05T12:00:55.181Z"
   },
   {
    "duration": 11,
    "start_time": "2022-02-05T12:00:55.197Z"
   },
   {
    "duration": 41,
    "start_time": "2022-02-05T12:00:55.211Z"
   },
   {
    "duration": 14,
    "start_time": "2022-02-05T12:00:55.255Z"
   },
   {
    "duration": 9,
    "start_time": "2022-02-05T12:00:55.272Z"
   },
   {
    "duration": 13,
    "start_time": "2022-02-05T12:00:55.284Z"
   },
   {
    "duration": 9,
    "start_time": "2022-02-05T12:00:55.299Z"
   },
   {
    "duration": 9,
    "start_time": "2022-02-05T12:00:55.349Z"
   },
   {
    "duration": 11,
    "start_time": "2022-02-05T12:00:55.360Z"
   },
   {
    "duration": 10,
    "start_time": "2022-02-05T12:00:55.373Z"
   },
   {
    "duration": 11,
    "start_time": "2022-02-05T12:00:55.385Z"
   },
   {
    "duration": 54,
    "start_time": "2022-02-05T12:00:55.398Z"
   },
   {
    "duration": 10,
    "start_time": "2022-02-05T12:00:55.458Z"
   },
   {
    "duration": 11,
    "start_time": "2022-02-05T12:00:55.471Z"
   },
   {
    "duration": 13,
    "start_time": "2022-02-05T12:00:55.485Z"
   },
   {
    "duration": 49,
    "start_time": "2022-02-05T12:00:55.500Z"
   },
   {
    "duration": 6,
    "start_time": "2022-02-05T12:00:55.552Z"
   },
   {
    "duration": 22,
    "start_time": "2022-02-05T12:00:55.560Z"
   },
   {
    "duration": 10,
    "start_time": "2022-02-05T12:00:55.584Z"
   },
   {
    "duration": 18,
    "start_time": "2022-02-05T12:00:55.596Z"
   },
   {
    "duration": 48,
    "start_time": "2022-02-05T12:00:55.616Z"
   },
   {
    "duration": 26,
    "start_time": "2022-02-05T12:00:55.666Z"
   },
   {
    "duration": 23,
    "start_time": "2022-02-05T12:00:55.696Z"
   },
   {
    "duration": 24,
    "start_time": "2022-02-05T12:00:55.749Z"
   },
   {
    "duration": 20,
    "start_time": "2022-02-05T12:00:55.775Z"
   },
   {
    "duration": 8,
    "start_time": "2022-02-05T12:00:55.797Z"
   },
   {
    "duration": 45,
    "start_time": "2022-02-05T12:00:55.808Z"
   },
   {
    "duration": 6,
    "start_time": "2022-02-05T12:00:55.856Z"
   },
   {
    "duration": 15,
    "start_time": "2022-02-05T12:00:55.865Z"
   },
   {
    "duration": 4,
    "start_time": "2022-02-05T12:00:55.883Z"
   },
   {
    "duration": 14,
    "start_time": "2022-02-05T12:00:55.890Z"
   },
   {
    "duration": 50,
    "start_time": "2022-02-05T12:00:55.906Z"
   },
   {
    "duration": 12,
    "start_time": "2022-02-05T12:00:55.958Z"
   },
   {
    "duration": 7,
    "start_time": "2022-02-05T12:00:55.973Z"
   },
   {
    "duration": 18,
    "start_time": "2022-02-05T12:00:55.982Z"
   },
   {
    "duration": 11,
    "start_time": "2022-02-05T12:00:56.003Z"
   },
   {
    "duration": 34,
    "start_time": "2022-02-05T12:00:56.017Z"
   },
   {
    "duration": 80,
    "start_time": "2022-02-05T12:00:56.054Z"
   },
   {
    "duration": 65,
    "start_time": "2022-02-05T12:00:56.137Z"
   },
   {
    "duration": 59,
    "start_time": "2022-02-05T12:00:56.205Z"
   },
   {
    "duration": 50,
    "start_time": "2022-02-05T12:00:56.267Z"
   },
   {
    "duration": 8,
    "start_time": "2022-02-05T12:11:03.107Z"
   },
   {
    "duration": 827,
    "start_time": "2022-02-05T12:11:21.406Z"
   },
   {
    "duration": 29,
    "start_time": "2022-02-05T12:11:22.236Z"
   },
   {
    "duration": 9,
    "start_time": "2022-02-05T12:11:22.272Z"
   },
   {
    "duration": 7,
    "start_time": "2022-02-05T12:11:22.284Z"
   },
   {
    "duration": 59,
    "start_time": "2022-02-05T12:11:22.293Z"
   },
   {
    "duration": 28,
    "start_time": "2022-02-05T12:11:22.355Z"
   },
   {
    "duration": 21,
    "start_time": "2022-02-05T12:11:22.386Z"
   },
   {
    "duration": 60,
    "start_time": "2022-02-05T12:11:22.410Z"
   },
   {
    "duration": 9,
    "start_time": "2022-02-05T12:11:22.473Z"
   },
   {
    "duration": 8,
    "start_time": "2022-02-05T12:11:22.485Z"
   },
   {
    "duration": 10,
    "start_time": "2022-02-05T12:11:22.496Z"
   },
   {
    "duration": 50,
    "start_time": "2022-02-05T12:11:22.508Z"
   },
   {
    "duration": 14,
    "start_time": "2022-02-05T12:11:22.560Z"
   },
   {
    "duration": 19,
    "start_time": "2022-02-05T12:11:22.576Z"
   },
   {
    "duration": 28,
    "start_time": "2022-02-05T12:11:22.598Z"
   },
   {
    "duration": 24,
    "start_time": "2022-02-05T12:11:22.628Z"
   },
   {
    "duration": 13,
    "start_time": "2022-02-05T12:11:22.654Z"
   },
   {
    "duration": 11,
    "start_time": "2022-02-05T12:11:22.670Z"
   },
   {
    "duration": 16,
    "start_time": "2022-02-05T12:11:22.684Z"
   },
   {
    "duration": 50,
    "start_time": "2022-02-05T12:11:22.703Z"
   },
   {
    "duration": 21,
    "start_time": "2022-02-05T12:11:22.756Z"
   },
   {
    "duration": 10,
    "start_time": "2022-02-05T12:11:22.784Z"
   },
   {
    "duration": 13,
    "start_time": "2022-02-05T12:11:22.799Z"
   },
   {
    "duration": 35,
    "start_time": "2022-02-05T12:11:22.815Z"
   },
   {
    "duration": 9,
    "start_time": "2022-02-05T12:11:22.853Z"
   },
   {
    "duration": 7,
    "start_time": "2022-02-05T12:11:22.865Z"
   },
   {
    "duration": 7,
    "start_time": "2022-02-05T12:11:22.876Z"
   },
   {
    "duration": 10,
    "start_time": "2022-02-05T12:11:22.886Z"
   },
   {
    "duration": 50,
    "start_time": "2022-02-05T12:11:22.899Z"
   },
   {
    "duration": 24,
    "start_time": "2022-02-05T12:11:22.952Z"
   },
   {
    "duration": 30,
    "start_time": "2022-02-05T12:11:22.980Z"
   },
   {
    "duration": 63,
    "start_time": "2022-02-05T12:11:23.013Z"
   },
   {
    "duration": 35,
    "start_time": "2022-02-05T12:11:23.079Z"
   },
   {
    "duration": 58,
    "start_time": "2022-02-05T12:11:23.117Z"
   },
   {
    "duration": 28,
    "start_time": "2022-02-05T12:11:23.178Z"
   },
   {
    "duration": 10,
    "start_time": "2022-02-05T12:11:23.209Z"
   },
   {
    "duration": 9,
    "start_time": "2022-02-05T12:11:23.249Z"
   },
   {
    "duration": 10,
    "start_time": "2022-02-05T12:11:23.262Z"
   },
   {
    "duration": 38,
    "start_time": "2022-02-05T12:11:23.275Z"
   },
   {
    "duration": 5,
    "start_time": "2022-02-05T12:11:23.317Z"
   },
   {
    "duration": 35,
    "start_time": "2022-02-05T12:11:23.326Z"
   },
   {
    "duration": 28,
    "start_time": "2022-02-05T12:11:23.364Z"
   },
   {
    "duration": 25,
    "start_time": "2022-02-05T12:11:23.395Z"
   },
   {
    "duration": 25,
    "start_time": "2022-02-05T12:11:23.423Z"
   },
   {
    "duration": 21,
    "start_time": "2022-02-05T12:11:23.451Z"
   },
   {
    "duration": 11,
    "start_time": "2022-02-05T12:11:23.475Z"
   },
   {
    "duration": 8,
    "start_time": "2022-02-05T12:11:23.489Z"
   },
   {
    "duration": 78,
    "start_time": "2022-02-05T12:11:23.500Z"
   },
   {
    "duration": 46,
    "start_time": "2022-02-05T12:11:23.581Z"
   },
   {
    "duration": 47,
    "start_time": "2022-02-05T12:11:23.630Z"
   },
   {
    "duration": 38,
    "start_time": "2022-02-05T12:11:23.679Z"
   },
   {
    "duration": 7,
    "start_time": "2022-02-05T12:14:08.924Z"
   },
   {
    "duration": 1416,
    "start_time": "2022-02-05T12:14:20.683Z"
   },
   {
    "duration": 52,
    "start_time": "2022-02-05T12:14:22.103Z"
   },
   {
    "duration": 64,
    "start_time": "2022-02-05T12:14:22.159Z"
   },
   {
    "duration": 115,
    "start_time": "2022-02-05T12:14:22.227Z"
   },
   {
    "duration": 124,
    "start_time": "2022-02-05T12:14:22.345Z"
   },
   {
    "duration": 87,
    "start_time": "2022-02-05T12:14:22.472Z"
   },
   {
    "duration": 23,
    "start_time": "2022-02-05T12:14:22.563Z"
   },
   {
    "duration": 62,
    "start_time": "2022-02-05T12:14:22.588Z"
   },
   {
    "duration": 8,
    "start_time": "2022-02-05T12:14:22.656Z"
   },
   {
    "duration": 9,
    "start_time": "2022-02-05T12:14:22.668Z"
   },
   {
    "duration": 8,
    "start_time": "2022-02-05T12:14:22.680Z"
   },
   {
    "duration": 10,
    "start_time": "2022-02-05T12:14:22.690Z"
   },
   {
    "duration": 51,
    "start_time": "2022-02-05T12:14:22.702Z"
   },
   {
    "duration": 15,
    "start_time": "2022-02-05T12:14:22.756Z"
   },
   {
    "duration": 12,
    "start_time": "2022-02-05T12:14:22.773Z"
   },
   {
    "duration": 16,
    "start_time": "2022-02-05T12:14:22.788Z"
   },
   {
    "duration": 10,
    "start_time": "2022-02-05T12:14:22.806Z"
   },
   {
    "duration": 11,
    "start_time": "2022-02-05T12:14:22.850Z"
   },
   {
    "duration": 23,
    "start_time": "2022-02-05T12:14:22.864Z"
   },
   {
    "duration": 19,
    "start_time": "2022-02-05T12:14:22.890Z"
   },
   {
    "duration": 37,
    "start_time": "2022-02-05T12:14:22.912Z"
   },
   {
    "duration": 10,
    "start_time": "2022-02-05T12:14:22.952Z"
   },
   {
    "duration": 17,
    "start_time": "2022-02-05T12:14:22.965Z"
   },
   {
    "duration": 7,
    "start_time": "2022-02-05T12:14:22.984Z"
   },
   {
    "duration": 8,
    "start_time": "2022-02-05T12:14:22.993Z"
   },
   {
    "duration": 45,
    "start_time": "2022-02-05T12:14:23.003Z"
   },
   {
    "duration": 6,
    "start_time": "2022-02-05T12:14:23.057Z"
   },
   {
    "duration": 10,
    "start_time": "2022-02-05T12:14:23.067Z"
   },
   {
    "duration": 7,
    "start_time": "2022-02-05T12:14:23.080Z"
   },
   {
    "duration": 61,
    "start_time": "2022-02-05T12:14:23.090Z"
   },
   {
    "duration": 25,
    "start_time": "2022-02-05T12:14:23.154Z"
   },
   {
    "duration": 26,
    "start_time": "2022-02-05T12:14:23.181Z"
   },
   {
    "duration": 55,
    "start_time": "2022-02-05T12:14:23.210Z"
   },
   {
    "duration": 25,
    "start_time": "2022-02-05T12:14:23.269Z"
   },
   {
    "duration": 25,
    "start_time": "2022-02-05T12:14:23.297Z"
   },
   {
    "duration": 30,
    "start_time": "2022-02-05T12:14:23.324Z"
   },
   {
    "duration": 11,
    "start_time": "2022-02-05T12:14:23.358Z"
   },
   {
    "duration": 7,
    "start_time": "2022-02-05T12:14:23.371Z"
   },
   {
    "duration": 21,
    "start_time": "2022-02-05T12:14:23.380Z"
   },
   {
    "duration": 51,
    "start_time": "2022-02-05T12:14:23.404Z"
   },
   {
    "duration": 18,
    "start_time": "2022-02-05T12:14:23.458Z"
   },
   {
    "duration": 34,
    "start_time": "2022-02-05T12:14:23.478Z"
   },
   {
    "duration": 14,
    "start_time": "2022-02-05T12:14:23.515Z"
   },
   {
    "duration": 21,
    "start_time": "2022-02-05T12:14:23.532Z"
   },
   {
    "duration": 25,
    "start_time": "2022-02-05T12:14:23.556Z"
   },
   {
    "duration": 12,
    "start_time": "2022-02-05T12:14:23.584Z"
   },
   {
    "duration": 8,
    "start_time": "2022-02-05T12:14:23.598Z"
   },
   {
    "duration": 94,
    "start_time": "2022-02-05T12:14:23.609Z"
   },
   {
    "duration": 45,
    "start_time": "2022-02-05T12:14:23.706Z"
   },
   {
    "duration": 34,
    "start_time": "2022-02-05T12:14:23.754Z"
   },
   {
    "duration": 66,
    "start_time": "2022-02-05T12:14:23.791Z"
   },
   {
    "duration": 7,
    "start_time": "2022-02-05T12:39:56.609Z"
   },
   {
    "duration": 553,
    "start_time": "2022-02-05T12:43:02.242Z"
   },
   {
    "duration": 285,
    "start_time": "2022-02-05T12:44:19.547Z"
   },
   {
    "duration": 266,
    "start_time": "2022-02-05T12:44:25.090Z"
   },
   {
    "duration": 296,
    "start_time": "2022-02-05T12:44:31.666Z"
   },
   {
    "duration": 298,
    "start_time": "2022-02-05T12:44:37.367Z"
   },
   {
    "duration": 715,
    "start_time": "2022-02-05T12:44:44.994Z"
   },
   {
    "duration": 283,
    "start_time": "2022-02-05T12:44:50.686Z"
   },
   {
    "duration": 266,
    "start_time": "2022-02-05T12:44:55.815Z"
   },
   {
    "duration": 798,
    "start_time": "2022-02-05T12:49:27.553Z"
   },
   {
    "duration": 27,
    "start_time": "2022-02-05T12:49:28.354Z"
   },
   {
    "duration": 32,
    "start_time": "2022-02-05T12:49:28.385Z"
   },
   {
    "duration": 7,
    "start_time": "2022-02-05T12:49:28.420Z"
   },
   {
    "duration": 22,
    "start_time": "2022-02-05T12:49:28.429Z"
   },
   {
    "duration": 25,
    "start_time": "2022-02-05T12:49:28.454Z"
   },
   {
    "duration": 20,
    "start_time": "2022-02-05T12:49:28.481Z"
   },
   {
    "duration": 59,
    "start_time": "2022-02-05T12:49:28.505Z"
   },
   {
    "duration": 7,
    "start_time": "2022-02-05T12:49:28.567Z"
   },
   {
    "duration": 8,
    "start_time": "2022-02-05T12:49:28.576Z"
   },
   {
    "duration": 7,
    "start_time": "2022-02-05T12:49:28.587Z"
   },
   {
    "duration": 15,
    "start_time": "2022-02-05T12:49:28.596Z"
   },
   {
    "duration": 7,
    "start_time": "2022-02-05T12:49:28.649Z"
   },
   {
    "duration": 13,
    "start_time": "2022-02-05T12:49:28.659Z"
   },
   {
    "duration": 12,
    "start_time": "2022-02-05T12:49:28.675Z"
   },
   {
    "duration": 15,
    "start_time": "2022-02-05T12:49:28.689Z"
   },
   {
    "duration": 10,
    "start_time": "2022-02-05T12:49:28.706Z"
   },
   {
    "duration": 8,
    "start_time": "2022-02-05T12:49:28.749Z"
   },
   {
    "duration": 10,
    "start_time": "2022-02-05T12:49:28.759Z"
   },
   {
    "duration": 12,
    "start_time": "2022-02-05T12:49:28.771Z"
   },
   {
    "duration": 8,
    "start_time": "2022-02-05T12:49:28.786Z"
   },
   {
    "duration": 12,
    "start_time": "2022-02-05T12:49:28.796Z"
   },
   {
    "duration": 11,
    "start_time": "2022-02-05T12:49:28.850Z"
   },
   {
    "duration": 7,
    "start_time": "2022-02-05T12:49:28.864Z"
   },
   {
    "duration": 10,
    "start_time": "2022-02-05T12:49:28.874Z"
   },
   {
    "duration": 8,
    "start_time": "2022-02-05T12:49:28.887Z"
   },
   {
    "duration": 53,
    "start_time": "2022-02-05T12:49:28.897Z"
   },
   {
    "duration": 10,
    "start_time": "2022-02-05T12:49:28.953Z"
   },
   {
    "duration": 6,
    "start_time": "2022-02-05T12:49:28.965Z"
   },
   {
    "duration": 16,
    "start_time": "2022-02-05T12:49:28.974Z"
   },
   {
    "duration": 71,
    "start_time": "2022-02-05T12:49:28.992Z"
   },
   {
    "duration": 27,
    "start_time": "2022-02-05T12:49:29.066Z"
   },
   {
    "duration": 22,
    "start_time": "2022-02-05T12:49:29.095Z"
   },
   {
    "duration": 26,
    "start_time": "2022-02-05T12:49:29.148Z"
   },
   {
    "duration": 19,
    "start_time": "2022-02-05T12:49:29.177Z"
   },
   {
    "duration": 8,
    "start_time": "2022-02-05T12:49:29.198Z"
   },
   {
    "duration": 43,
    "start_time": "2022-02-05T12:49:29.208Z"
   },
   {
    "duration": 8,
    "start_time": "2022-02-05T12:49:29.253Z"
   },
   {
    "duration": 18,
    "start_time": "2022-02-05T12:49:29.263Z"
   },
   {
    "duration": 4,
    "start_time": "2022-02-05T12:49:29.284Z"
   },
   {
    "duration": 12,
    "start_time": "2022-02-05T12:49:29.291Z"
   },
   {
    "duration": 52,
    "start_time": "2022-02-05T12:49:29.305Z"
   },
   {
    "duration": 12,
    "start_time": "2022-02-05T12:49:29.359Z"
   },
   {
    "duration": 7,
    "start_time": "2022-02-05T12:49:29.374Z"
   },
   {
    "duration": 23,
    "start_time": "2022-02-05T12:49:29.383Z"
   },
   {
    "duration": 12,
    "start_time": "2022-02-05T12:49:29.408Z"
   },
   {
    "duration": 30,
    "start_time": "2022-02-05T12:49:29.422Z"
   },
   {
    "duration": 58,
    "start_time": "2022-02-05T12:49:29.454Z"
   },
   {
    "duration": 55,
    "start_time": "2022-02-05T12:49:29.514Z"
   },
   {
    "duration": 35,
    "start_time": "2022-02-05T12:49:29.571Z"
   },
   {
    "duration": 64,
    "start_time": "2022-02-05T12:49:29.609Z"
   },
   {
    "duration": 847,
    "start_time": "2022-02-05T12:50:26.650Z"
   },
   {
    "duration": 28,
    "start_time": "2022-02-05T12:50:27.500Z"
   },
   {
    "duration": 18,
    "start_time": "2022-02-05T12:50:27.549Z"
   },
   {
    "duration": 30,
    "start_time": "2022-02-05T12:50:27.569Z"
   },
   {
    "duration": 25,
    "start_time": "2022-02-05T12:50:27.602Z"
   },
   {
    "duration": 34,
    "start_time": "2022-02-05T12:50:27.630Z"
   },
   {
    "duration": 19,
    "start_time": "2022-02-05T12:50:27.668Z"
   },
   {
    "duration": 33,
    "start_time": "2022-02-05T12:50:27.689Z"
   },
   {
    "duration": 30,
    "start_time": "2022-02-05T12:50:27.725Z"
   },
   {
    "duration": 45,
    "start_time": "2022-02-05T12:50:27.758Z"
   },
   {
    "duration": 31,
    "start_time": "2022-02-05T12:50:27.806Z"
   },
   {
    "duration": 21,
    "start_time": "2022-02-05T12:50:27.840Z"
   },
   {
    "duration": 13,
    "start_time": "2022-02-05T12:50:27.864Z"
   },
   {
    "duration": 42,
    "start_time": "2022-02-05T12:50:27.880Z"
   },
   {
    "duration": 13,
    "start_time": "2022-02-05T12:50:27.925Z"
   },
   {
    "duration": 14,
    "start_time": "2022-02-05T12:50:27.941Z"
   },
   {
    "duration": 23,
    "start_time": "2022-02-05T12:50:27.957Z"
   },
   {
    "duration": 30,
    "start_time": "2022-02-05T12:50:27.982Z"
   },
   {
    "duration": 29,
    "start_time": "2022-02-05T12:50:28.015Z"
   },
   {
    "duration": 32,
    "start_time": "2022-02-05T12:50:28.047Z"
   },
   {
    "duration": 43,
    "start_time": "2022-02-05T12:50:28.081Z"
   },
   {
    "duration": 22,
    "start_time": "2022-02-05T12:50:28.130Z"
   },
   {
    "duration": 35,
    "start_time": "2022-02-05T12:50:28.155Z"
   },
   {
    "duration": 39,
    "start_time": "2022-02-05T12:50:28.192Z"
   },
   {
    "duration": 26,
    "start_time": "2022-02-05T12:50:28.233Z"
   },
   {
    "duration": 27,
    "start_time": "2022-02-05T12:50:28.261Z"
   },
   {
    "duration": 37,
    "start_time": "2022-02-05T12:50:28.291Z"
   },
   {
    "duration": 31,
    "start_time": "2022-02-05T12:50:28.330Z"
   },
   {
    "duration": 40,
    "start_time": "2022-02-05T12:50:28.363Z"
   },
   {
    "duration": 40,
    "start_time": "2022-02-05T12:50:28.405Z"
   },
   {
    "duration": 31,
    "start_time": "2022-02-05T12:50:28.447Z"
   },
   {
    "duration": 38,
    "start_time": "2022-02-05T12:50:28.480Z"
   },
   {
    "duration": 21,
    "start_time": "2022-02-05T12:50:28.521Z"
   },
   {
    "duration": 39,
    "start_time": "2022-02-05T12:50:28.544Z"
   },
   {
    "duration": 44,
    "start_time": "2022-02-05T12:50:28.586Z"
   },
   {
    "duration": 9,
    "start_time": "2022-02-05T12:50:28.633Z"
   },
   {
    "duration": 23,
    "start_time": "2022-02-05T12:50:28.645Z"
   },
   {
    "duration": 20,
    "start_time": "2022-02-05T12:50:28.671Z"
   },
   {
    "duration": 25,
    "start_time": "2022-02-05T12:50:28.694Z"
   },
   {
    "duration": 19,
    "start_time": "2022-02-05T12:50:28.721Z"
   },
   {
    "duration": 45,
    "start_time": "2022-02-05T12:50:28.742Z"
   },
   {
    "duration": 32,
    "start_time": "2022-02-05T12:50:28.790Z"
   },
   {
    "duration": 22,
    "start_time": "2022-02-05T12:50:28.825Z"
   },
   {
    "duration": 27,
    "start_time": "2022-02-05T12:50:28.850Z"
   },
   {
    "duration": 43,
    "start_time": "2022-02-05T12:50:28.879Z"
   },
   {
    "duration": 44,
    "start_time": "2022-02-05T12:50:28.925Z"
   },
   {
    "duration": 18,
    "start_time": "2022-02-05T12:50:28.972Z"
   },
   {
    "duration": 76,
    "start_time": "2022-02-05T12:50:28.993Z"
   },
   {
    "duration": 43,
    "start_time": "2022-02-05T12:50:29.072Z"
   },
   {
    "duration": 54,
    "start_time": "2022-02-05T12:50:29.118Z"
   },
   {
    "duration": 37,
    "start_time": "2022-02-05T12:50:29.174Z"
   },
   {
    "duration": 105,
    "start_time": "2022-02-05T15:05:45.789Z"
   },
   {
    "duration": 370,
    "start_time": "2022-02-05T15:25:36.334Z"
   },
   {
    "duration": 614,
    "start_time": "2022-02-05T15:27:36.285Z"
   },
   {
    "duration": 16,
    "start_time": "2022-02-05T15:27:36.901Z"
   },
   {
    "duration": 6,
    "start_time": "2022-02-05T15:27:36.919Z"
   },
   {
    "duration": 4,
    "start_time": "2022-02-05T15:27:36.926Z"
   },
   {
    "duration": 6,
    "start_time": "2022-02-05T15:27:36.931Z"
   },
   {
    "duration": 13,
    "start_time": "2022-02-05T15:27:36.938Z"
   },
   {
    "duration": 11,
    "start_time": "2022-02-05T15:27:36.953Z"
   },
   {
    "duration": 14,
    "start_time": "2022-02-05T15:27:36.966Z"
   },
   {
    "duration": 4,
    "start_time": "2022-02-05T15:27:36.982Z"
   },
   {
    "duration": 5,
    "start_time": "2022-02-05T15:27:36.987Z"
   },
   {
    "duration": 5,
    "start_time": "2022-02-05T15:27:37.027Z"
   },
   {
    "duration": 13,
    "start_time": "2022-02-05T15:27:37.033Z"
   },
   {
    "duration": 4,
    "start_time": "2022-02-05T15:27:37.048Z"
   },
   {
    "duration": 8,
    "start_time": "2022-02-05T15:27:37.054Z"
   },
   {
    "duration": 5,
    "start_time": "2022-02-05T15:27:37.064Z"
   },
   {
    "duration": 8,
    "start_time": "2022-02-05T15:27:37.071Z"
   },
   {
    "duration": 7,
    "start_time": "2022-02-05T15:27:37.080Z"
   },
   {
    "duration": 5,
    "start_time": "2022-02-05T15:27:37.088Z"
   },
   {
    "duration": 35,
    "start_time": "2022-02-05T15:27:37.094Z"
   },
   {
    "duration": 8,
    "start_time": "2022-02-05T15:27:37.130Z"
   },
   {
    "duration": 7,
    "start_time": "2022-02-05T15:27:37.139Z"
   },
   {
    "duration": 7,
    "start_time": "2022-02-05T15:27:37.147Z"
   },
   {
    "duration": 5,
    "start_time": "2022-02-05T15:27:37.157Z"
   },
   {
    "duration": 4,
    "start_time": "2022-02-05T15:27:37.164Z"
   },
   {
    "duration": 5,
    "start_time": "2022-02-05T15:27:37.170Z"
   },
   {
    "duration": 4,
    "start_time": "2022-02-05T15:27:37.176Z"
   },
   {
    "duration": 5,
    "start_time": "2022-02-05T15:27:37.181Z"
   },
   {
    "duration": 6,
    "start_time": "2022-02-05T15:27:37.187Z"
   },
   {
    "duration": 2,
    "start_time": "2022-02-05T15:27:37.227Z"
   },
   {
    "duration": 12,
    "start_time": "2022-02-05T15:27:37.230Z"
   },
   {
    "duration": 14,
    "start_time": "2022-02-05T15:27:37.243Z"
   },
   {
    "duration": 14,
    "start_time": "2022-02-05T15:27:37.258Z"
   },
   {
    "duration": 13,
    "start_time": "2022-02-05T15:27:37.274Z"
   },
   {
    "duration": 38,
    "start_time": "2022-02-05T15:27:37.289Z"
   },
   {
    "duration": 12,
    "start_time": "2022-02-05T15:27:37.328Z"
   },
   {
    "duration": 5,
    "start_time": "2022-02-05T15:27:37.341Z"
   },
   {
    "duration": 17,
    "start_time": "2022-02-05T15:27:37.347Z"
   },
   {
    "duration": 12,
    "start_time": "2022-02-05T15:27:37.365Z"
   },
   {
    "duration": 10,
    "start_time": "2022-02-05T15:27:37.378Z"
   },
   {
    "duration": 4,
    "start_time": "2022-02-05T15:27:37.390Z"
   },
   {
    "duration": 9,
    "start_time": "2022-02-05T15:27:37.395Z"
   },
   {
    "duration": 24,
    "start_time": "2022-02-05T15:27:37.405Z"
   },
   {
    "duration": 7,
    "start_time": "2022-02-05T15:27:37.431Z"
   },
   {
    "duration": 6,
    "start_time": "2022-02-05T15:27:37.439Z"
   },
   {
    "duration": 12,
    "start_time": "2022-02-05T15:27:37.446Z"
   },
   {
    "duration": 8,
    "start_time": "2022-02-05T15:27:37.459Z"
   },
   {
    "duration": 4,
    "start_time": "2022-02-05T15:27:37.468Z"
   },
   {
    "duration": 30,
    "start_time": "2022-02-05T15:27:37.474Z"
   },
   {
    "duration": 27,
    "start_time": "2022-02-05T15:27:37.527Z"
   },
   {
    "duration": 22,
    "start_time": "2022-02-05T15:27:37.555Z"
   },
   {
    "duration": 20,
    "start_time": "2022-02-05T15:27:37.578Z"
   },
   {
    "duration": 242,
    "start_time": "2022-02-05T15:35:02.252Z"
   },
   {
    "duration": 254,
    "start_time": "2022-02-05T15:35:04.456Z"
   },
   {
    "duration": 268,
    "start_time": "2022-02-05T15:35:08.096Z"
   },
   {
    "duration": 13,
    "start_time": "2022-02-05T16:55:34.338Z"
   },
   {
    "duration": 10,
    "start_time": "2022-02-05T16:56:44.132Z"
   },
   {
    "duration": 5,
    "start_time": "2022-02-05T17:05:48.591Z"
   },
   {
    "duration": 455,
    "start_time": "2022-02-05T17:23:19.685Z"
   },
   {
    "duration": 24,
    "start_time": "2022-02-05T17:43:10.598Z"
   },
   {
    "duration": 22,
    "start_time": "2022-02-05T17:43:26.460Z"
   },
   {
    "duration": 26,
    "start_time": "2022-02-05T17:43:37.658Z"
   },
   {
    "duration": 22,
    "start_time": "2022-02-05T17:43:45.698Z"
   },
   {
    "duration": 625,
    "start_time": "2022-02-05T17:43:57.131Z"
   },
   {
    "duration": 17,
    "start_time": "2022-02-05T17:43:57.758Z"
   },
   {
    "duration": 7,
    "start_time": "2022-02-05T17:43:57.777Z"
   },
   {
    "duration": 4,
    "start_time": "2022-02-05T17:43:57.785Z"
   },
   {
    "duration": 7,
    "start_time": "2022-02-05T17:43:57.790Z"
   },
   {
    "duration": 33,
    "start_time": "2022-02-05T17:43:57.799Z"
   },
   {
    "duration": 11,
    "start_time": "2022-02-05T17:43:57.834Z"
   },
   {
    "duration": 16,
    "start_time": "2022-02-05T17:43:57.847Z"
   },
   {
    "duration": 4,
    "start_time": "2022-02-05T17:43:57.865Z"
   },
   {
    "duration": 4,
    "start_time": "2022-02-05T17:43:57.871Z"
   },
   {
    "duration": 5,
    "start_time": "2022-02-05T17:43:57.876Z"
   },
   {
    "duration": 5,
    "start_time": "2022-02-05T17:43:57.882Z"
   },
   {
    "duration": 39,
    "start_time": "2022-02-05T17:43:57.888Z"
   },
   {
    "duration": 8,
    "start_time": "2022-02-05T17:43:57.929Z"
   },
   {
    "duration": 6,
    "start_time": "2022-02-05T17:43:57.939Z"
   },
   {
    "duration": 11,
    "start_time": "2022-02-05T17:43:57.946Z"
   },
   {
    "duration": 6,
    "start_time": "2022-02-05T17:43:57.958Z"
   },
   {
    "duration": 5,
    "start_time": "2022-02-05T17:43:57.966Z"
   },
   {
    "duration": 6,
    "start_time": "2022-02-05T17:43:57.972Z"
   },
   {
    "duration": 6,
    "start_time": "2022-02-05T17:43:57.980Z"
   },
   {
    "duration": 5,
    "start_time": "2022-02-05T17:43:57.988Z"
   },
   {
    "duration": 37,
    "start_time": "2022-02-05T17:43:57.995Z"
   },
   {
    "duration": 6,
    "start_time": "2022-02-05T17:43:58.034Z"
   },
   {
    "duration": 4,
    "start_time": "2022-02-05T17:43:58.042Z"
   },
   {
    "duration": 6,
    "start_time": "2022-02-05T17:43:58.047Z"
   },
   {
    "duration": 3,
    "start_time": "2022-02-05T17:43:58.055Z"
   },
   {
    "duration": 4,
    "start_time": "2022-02-05T17:43:58.059Z"
   },
   {
    "duration": 5,
    "start_time": "2022-02-05T17:43:58.065Z"
   },
   {
    "duration": 3,
    "start_time": "2022-02-05T17:43:58.071Z"
   },
   {
    "duration": 10,
    "start_time": "2022-02-05T17:43:58.076Z"
   },
   {
    "duration": 51,
    "start_time": "2022-02-05T17:43:58.087Z"
   },
   {
    "duration": 13,
    "start_time": "2022-02-05T17:43:58.140Z"
   },
   {
    "duration": 13,
    "start_time": "2022-02-05T17:43:58.154Z"
   },
   {
    "duration": 14,
    "start_time": "2022-02-05T17:43:58.168Z"
   },
   {
    "duration": 11,
    "start_time": "2022-02-05T17:43:58.184Z"
   },
   {
    "duration": 4,
    "start_time": "2022-02-05T17:43:58.197Z"
   },
   {
    "duration": 5,
    "start_time": "2022-02-05T17:43:58.227Z"
   },
   {
    "duration": 5,
    "start_time": "2022-02-05T17:43:58.234Z"
   },
   {
    "duration": 11,
    "start_time": "2022-02-05T17:43:58.240Z"
   },
   {
    "duration": 3,
    "start_time": "2022-02-05T17:43:58.253Z"
   },
   {
    "duration": 10,
    "start_time": "2022-02-05T17:43:58.257Z"
   },
   {
    "duration": 9,
    "start_time": "2022-02-05T17:43:58.268Z"
   },
   {
    "duration": 6,
    "start_time": "2022-02-05T17:43:58.279Z"
   },
   {
    "duration": 4,
    "start_time": "2022-02-05T17:43:58.287Z"
   },
   {
    "duration": 40,
    "start_time": "2022-02-05T17:43:58.293Z"
   },
   {
    "duration": 5,
    "start_time": "2022-02-05T17:43:58.335Z"
   },
   {
    "duration": 6,
    "start_time": "2022-02-05T17:43:58.342Z"
   },
   {
    "duration": 35,
    "start_time": "2022-02-05T17:43:58.349Z"
   },
   {
    "duration": 25,
    "start_time": "2022-02-05T17:43:58.385Z"
   },
   {
    "duration": 33,
    "start_time": "2022-02-05T17:43:58.411Z"
   },
   {
    "duration": 20,
    "start_time": "2022-02-05T17:43:58.445Z"
   },
   {
    "duration": 602,
    "start_time": "2022-02-05T18:49:11.363Z"
   },
   {
    "duration": 17,
    "start_time": "2022-02-05T18:49:11.967Z"
   },
   {
    "duration": 5,
    "start_time": "2022-02-05T18:49:11.986Z"
   },
   {
    "duration": 5,
    "start_time": "2022-02-05T18:49:11.992Z"
   },
   {
    "duration": 4,
    "start_time": "2022-02-05T18:49:11.999Z"
   },
   {
    "duration": 28,
    "start_time": "2022-02-05T18:49:12.005Z"
   },
   {
    "duration": 12,
    "start_time": "2022-02-05T18:49:12.034Z"
   },
   {
    "duration": 16,
    "start_time": "2022-02-05T18:49:12.048Z"
   },
   {
    "duration": 5,
    "start_time": "2022-02-05T18:49:12.065Z"
   },
   {
    "duration": 6,
    "start_time": "2022-02-05T18:49:12.071Z"
   },
   {
    "duration": 6,
    "start_time": "2022-02-05T18:49:12.078Z"
   },
   {
    "duration": 42,
    "start_time": "2022-02-05T18:49:12.085Z"
   },
   {
    "duration": 7,
    "start_time": "2022-02-05T18:49:12.128Z"
   },
   {
    "duration": 10,
    "start_time": "2022-02-05T18:49:12.136Z"
   },
   {
    "duration": 5,
    "start_time": "2022-02-05T18:49:12.148Z"
   },
   {
    "duration": 8,
    "start_time": "2022-02-05T18:49:12.155Z"
   },
   {
    "duration": 10,
    "start_time": "2022-02-05T18:49:12.164Z"
   },
   {
    "duration": 6,
    "start_time": "2022-02-05T18:49:12.175Z"
   },
   {
    "duration": 8,
    "start_time": "2022-02-05T18:49:12.182Z"
   },
   {
    "duration": 36,
    "start_time": "2022-02-05T18:49:12.191Z"
   },
   {
    "duration": 4,
    "start_time": "2022-02-05T18:49:12.229Z"
   },
   {
    "duration": 8,
    "start_time": "2022-02-05T18:49:12.234Z"
   },
   {
    "duration": 4,
    "start_time": "2022-02-05T18:49:12.245Z"
   },
   {
    "duration": 8,
    "start_time": "2022-02-05T18:49:12.251Z"
   },
   {
    "duration": 5,
    "start_time": "2022-02-05T18:49:12.260Z"
   },
   {
    "duration": 6,
    "start_time": "2022-02-05T18:49:12.266Z"
   },
   {
    "duration": 8,
    "start_time": "2022-02-05T18:49:12.274Z"
   },
   {
    "duration": 6,
    "start_time": "2022-02-05T18:49:12.283Z"
   },
   {
    "duration": 4,
    "start_time": "2022-02-05T18:49:12.290Z"
   },
   {
    "duration": 35,
    "start_time": "2022-02-05T18:49:12.295Z"
   },
   {
    "duration": 12,
    "start_time": "2022-02-05T18:49:12.331Z"
   },
   {
    "duration": 14,
    "start_time": "2022-02-05T18:49:12.345Z"
   },
   {
    "duration": 14,
    "start_time": "2022-02-05T18:49:12.360Z"
   },
   {
    "duration": 14,
    "start_time": "2022-02-05T18:49:12.375Z"
   },
   {
    "duration": 38,
    "start_time": "2022-02-05T18:49:12.391Z"
   },
   {
    "duration": 5,
    "start_time": "2022-02-05T18:49:12.430Z"
   },
   {
    "duration": 6,
    "start_time": "2022-02-05T18:49:12.437Z"
   },
   {
    "duration": 6,
    "start_time": "2022-02-05T18:49:12.445Z"
   },
   {
    "duration": 9,
    "start_time": "2022-02-05T18:49:12.452Z"
   },
   {
    "duration": 2,
    "start_time": "2022-02-05T18:49:12.462Z"
   },
   {
    "duration": 10,
    "start_time": "2022-02-05T18:49:12.466Z"
   },
   {
    "duration": 12,
    "start_time": "2022-02-05T18:49:12.477Z"
   },
   {
    "duration": 37,
    "start_time": "2022-02-05T18:49:12.491Z"
   },
   {
    "duration": 5,
    "start_time": "2022-02-05T18:49:12.529Z"
   },
   {
    "duration": 11,
    "start_time": "2022-02-05T18:49:12.535Z"
   },
   {
    "duration": 9,
    "start_time": "2022-02-05T18:49:12.548Z"
   },
   {
    "duration": 4,
    "start_time": "2022-02-05T18:49:12.559Z"
   },
   {
    "duration": 30,
    "start_time": "2022-02-05T18:49:12.564Z"
   },
   {
    "duration": 41,
    "start_time": "2022-02-05T18:49:12.595Z"
   },
   {
    "duration": 20,
    "start_time": "2022-02-05T18:49:12.637Z"
   },
   {
    "duration": 20,
    "start_time": "2022-02-05T18:49:12.658Z"
   },
   {
    "duration": 647,
    "start_time": "2022-02-05T19:02:17.918Z"
   },
   {
    "duration": 17,
    "start_time": "2022-02-05T19:02:18.567Z"
   },
   {
    "duration": 6,
    "start_time": "2022-02-05T19:02:18.586Z"
   },
   {
    "duration": 5,
    "start_time": "2022-02-05T19:02:18.594Z"
   },
   {
    "duration": 5,
    "start_time": "2022-02-05T19:02:18.600Z"
   },
   {
    "duration": 31,
    "start_time": "2022-02-05T19:02:18.606Z"
   },
   {
    "duration": 11,
    "start_time": "2022-02-05T19:02:18.638Z"
   },
   {
    "duration": 15,
    "start_time": "2022-02-05T19:02:18.651Z"
   },
   {
    "duration": 4,
    "start_time": "2022-02-05T19:02:18.668Z"
   },
   {
    "duration": 7,
    "start_time": "2022-02-05T19:02:18.673Z"
   },
   {
    "duration": 6,
    "start_time": "2022-02-05T19:02:18.681Z"
   },
   {
    "duration": 5,
    "start_time": "2022-02-05T19:02:18.688Z"
   },
   {
    "duration": 36,
    "start_time": "2022-02-05T19:02:18.694Z"
   },
   {
    "duration": 8,
    "start_time": "2022-02-05T19:02:18.731Z"
   },
   {
    "duration": 6,
    "start_time": "2022-02-05T19:02:18.740Z"
   },
   {
    "duration": 9,
    "start_time": "2022-02-05T19:02:18.747Z"
   },
   {
    "duration": 8,
    "start_time": "2022-02-05T19:02:18.757Z"
   },
   {
    "duration": 6,
    "start_time": "2022-02-05T19:02:18.766Z"
   },
   {
    "duration": 6,
    "start_time": "2022-02-05T19:02:18.773Z"
   },
   {
    "duration": 6,
    "start_time": "2022-02-05T19:02:18.780Z"
   },
   {
    "duration": 5,
    "start_time": "2022-02-05T19:02:18.788Z"
   },
   {
    "duration": 36,
    "start_time": "2022-02-05T19:02:18.794Z"
   },
   {
    "duration": 4,
    "start_time": "2022-02-05T19:02:18.833Z"
   },
   {
    "duration": 5,
    "start_time": "2022-02-05T19:02:18.839Z"
   },
   {
    "duration": 5,
    "start_time": "2022-02-05T19:02:18.845Z"
   },
   {
    "duration": 4,
    "start_time": "2022-02-05T19:02:18.852Z"
   },
   {
    "duration": 4,
    "start_time": "2022-02-05T19:02:18.858Z"
   },
   {
    "duration": 6,
    "start_time": "2022-02-05T19:02:18.863Z"
   },
   {
    "duration": 4,
    "start_time": "2022-02-05T19:02:18.870Z"
   },
   {
    "duration": 10,
    "start_time": "2022-02-05T19:02:18.875Z"
   },
   {
    "duration": 49,
    "start_time": "2022-02-05T19:02:18.886Z"
   },
   {
    "duration": 14,
    "start_time": "2022-02-05T19:02:18.936Z"
   },
   {
    "duration": 13,
    "start_time": "2022-02-05T19:02:18.951Z"
   },
   {
    "duration": 14,
    "start_time": "2022-02-05T19:02:18.965Z"
   },
   {
    "duration": 14,
    "start_time": "2022-02-05T19:02:18.980Z"
   },
   {
    "duration": 5,
    "start_time": "2022-02-05T19:02:18.995Z"
   },
   {
    "duration": 5,
    "start_time": "2022-02-05T19:02:19.027Z"
   },
   {
    "duration": 4,
    "start_time": "2022-02-05T19:02:19.033Z"
   },
   {
    "duration": 9,
    "start_time": "2022-02-05T19:02:19.039Z"
   },
   {
    "duration": 3,
    "start_time": "2022-02-05T19:02:19.049Z"
   },
   {
    "duration": 14,
    "start_time": "2022-02-05T19:02:19.054Z"
   },
   {
    "duration": 12,
    "start_time": "2022-02-05T19:02:19.069Z"
   },
   {
    "duration": 8,
    "start_time": "2022-02-05T19:02:19.082Z"
   },
   {
    "duration": 6,
    "start_time": "2022-02-05T19:02:19.091Z"
   },
   {
    "duration": 32,
    "start_time": "2022-02-05T19:02:19.098Z"
   },
   {
    "duration": 11,
    "start_time": "2022-02-05T19:02:19.132Z"
   },
   {
    "duration": 4,
    "start_time": "2022-02-05T19:02:19.145Z"
   },
   {
    "duration": 31,
    "start_time": "2022-02-05T19:02:19.151Z"
   },
   {
    "duration": 44,
    "start_time": "2022-02-05T19:02:19.184Z"
   },
   {
    "duration": 22,
    "start_time": "2022-02-05T19:02:19.230Z"
   },
   {
    "duration": 22,
    "start_time": "2022-02-05T19:02:19.254Z"
   }
  ],
  "kernelspec": {
   "display_name": "Python 3 (ipykernel)",
   "language": "python",
   "name": "python3"
  },
  "language_info": {
   "codemirror_mode": {
    "name": "ipython",
    "version": 3
   },
   "file_extension": ".py",
   "mimetype": "text/x-python",
   "name": "python",
   "nbconvert_exporter": "python",
   "pygments_lexer": "ipython3",
   "version": "3.9.7"
  },
  "toc": {
   "base_numbering": 1,
   "nav_menu": {},
   "number_sections": true,
   "sideBar": true,
   "skip_h1_title": true,
   "title_cell": "Содержание",
   "title_sidebar": "Содержание",
   "toc_cell": true,
   "toc_position": {
    "height": "calc(100% - 180px)",
    "left": "10px",
    "top": "150px",
    "width": "230.984375px"
   },
   "toc_section_display": true,
   "toc_window_display": true
  }
 },
 "nbformat": 4,
 "nbformat_minor": 5
}
